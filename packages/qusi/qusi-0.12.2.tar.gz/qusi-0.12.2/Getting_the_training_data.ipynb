{
 "cells": [
  {
   "cell_type": "markdown",
   "id": "9bf476257bfefb99",
   "metadata": {},
   "source": [
    "\n",
    "# Getting the Training data for delta scuti and rr-lyrae\n",
    " <p> Using the predefined functions to create `tic_dataframe` and `tic_dataframe_rrlyrae` which contains the objects in delta-scuti and rr-lyrae classes respectively. Further, TIC ID's of these objects are obtained and are used to download the lightcurves for each objects. </p>\n",
    " <p> These lightcurves will be combined for training the NN.\n",
    " </p>\n",
    " ## 1. Getting the delta scuti data"
   ]
  },
  {
   "cell_type": "code",
   "execution_count": null,
   "id": "2b86c6a578340ed8",
   "metadata": {
    "ExecuteTime": {
     "end_time": "2024-04-24T14:02:45.491904Z",
     "start_time": "2024-04-24T14:02:44.940008Z"
    }
   },
   "outputs": [],
   "source": [
    "import pandas as pd"
   ]
  },
  {
   "cell_type": "code",
   "execution_count": null,
   "id": "b7271f28ff4a976f",
   "metadata": {
    "ExecuteTime": {
     "end_time": "2024-04-23T01:20:13.978256Z",
     "start_time": "2024-04-23T01:20:12.551326Z"
    }
   },
   "outputs": [],
   "source": [
    "from Get_TIC_dataframe_for_deltascuti import tic_df_for_deltascuti"
   ]
  },
  {
   "cell_type": "markdown",
   "id": "a423de6d19ee7e8e",
   "metadata": {},
   "source": [
    "getting the dataframe for the csv"
   ]
  },
  {
   "cell_type": "code",
   "execution_count": null,
   "id": "1b5a02eca6fd3bf8",
   "metadata": {
    "ExecuteTime": {
     "end_time": "2024-04-23T01:20:40.748615Z",
     "start_time": "2024-04-23T01:20:40.703866Z"
    }
   },
   "outputs": [],
   "source": [
    "tic_dataframe = tic_df_for_deltascuti()"
   ]
  },
  {
   "cell_type": "code",
   "execution_count": null,
   "id": "686ac3645a5babca",
   "metadata": {
    "ExecuteTime": {
     "end_time": "2024-04-17T15:41:42.934982Z",
     "start_time": "2024-04-17T15:41:42.920644Z"
    }
   },
   "outputs": [],
   "source": [
    "tic_dataframe.head()"
   ]
  },
  {
   "cell_type": "code",
   "execution_count": null,
   "id": "eb96e4de132b84de",
   "metadata": {
    "ExecuteTime": {
     "end_time": "2024-04-17T15:41:47.119376Z",
     "start_time": "2024-04-17T15:41:47.113145Z"
    }
   },
   "outputs": [],
   "source": [
    "tic_dataframe['ID'] = pd.to_numeric(tic_dataframe['ID'])"
   ]
  },
  {
   "cell_type": "code",
   "execution_count": null,
   "id": "87024201d54552e2",
   "metadata": {
    "ExecuteTime": {
     "end_time": "2024-04-17T15:47:02.165133Z",
     "start_time": "2024-04-17T15:43:54.890231Z"
    }
   },
   "outputs": [],
   "source": [
    "\n",
    "# THIS IS THE CODE TO DOWNLOAD THE LIGHT CURVE DATA FOR DELTA SCUTI STARS\n",
    "'''\n",
    "from pathlib import Path\n",
    "\n",
    "import numpy as np\n",
    "\n",
    "from ramjet.data_interface.tess_data_interface import (\n",
    "    download_spoc_light_curves_for_tic_ids,\n",
    ")\n",
    "\n",
    "\n",
    "tic_ids = tic_dataframe.ID.unique()\n",
    "\n",
    "# splitting the tic_ids as train-validation-test\n",
    "tic_ids_splits = np.split(np.array(tic_ids), [int(len(tic_ids) * 0.8), int(len(tic_ids) * 0.9)])\n",
    "train_tic_ids = tic_ids_splits[0].tolist()\n",
    "validation_tic_ids = tic_ids_splits[1].tolist()\n",
    "test_tic_ids = tic_ids_splits[2].tolist()\n",
    "\n",
    "\n",
    "sectors = list(range(27, 56))\n",
    "print('Retrieving metadata...')\n",
    "\n",
    "print(f'Downloading light curve for {tic_ids}')\n",
    "download_spoc_light_curves_for_tic_ids(\n",
    "    tic_ids=train_tic_ids,\n",
    "    download_directory=Path('data_deltascuti/train_ds'),\n",
    "    sectors=sectors,\n",
    "    limit=2000)\n",
    "download_spoc_light_curves_for_tic_ids(\n",
    "    tic_ids=validation_tic_ids,\n",
    "    download_directory=Path('data_deltascuti/validation_ds'),\n",
    "    sectors=sectors,\n",
    "    limit=2000)\n",
    "download_spoc_light_curves_for_tic_ids(\n",
    "    tic_ids=test_tic_ids,\n",
    "    download_directory=Path('data_deltascuti/test_ds'),\n",
    "    sectors=sectors,\n",
    "    limit=2000)\n",
    "'''\n"
   ]
  },
  {
   "cell_type": "markdown",
   "id": "4a3f227de6975bf0",
   "metadata": {},
   "source": [
    "## 2.  Getting the rr-lyrae data\n",
    " A csv file with rr-lyrae data from GAIA archive is downloaded(645 objects). This is used to get the TIC Id's using `cross_referencing_tess_and_gaia.py` "
   ]
  },
  {
   "cell_type": "code",
   "execution_count": null,
   "id": "8667a15b8d22f88e",
   "metadata": {
    "ExecuteTime": {
     "end_time": "2024-04-24T14:17:09.743725Z",
     "start_time": "2024-04-24T14:17:06.481112Z"
    }
   },
   "outputs": [],
   "source": [
    "# getting the dataframe of rrlyrae objects\n",
    "from Get_TIC_dataframe_for_rrlyrae import tic_df_for_rrlyrae,tic_id_for_rrlyrae\n",
    "tic_ids = tic_id_for_rrlyrae()\n",
    "tic_dataframe_rrlyrae = tic_df_for_rrlyrae(tic_ids)"
   ]
  },
  {
   "cell_type": "code",
   "execution_count": null,
   "id": "22542fcf874139cb",
   "metadata": {},
   "outputs": [],
   "source": [
    "tic_dataframe_rrlyrae.head()"
   ]
  },
  {
   "cell_type": "code",
   "execution_count": null,
   "id": "7d054570",
   "metadata": {},
   "outputs": [],
   "source": [
    "tic_dataframe_rrlyrae.info()"
   ]
  },
  {
   "cell_type": "code",
   "execution_count": null,
   "id": "a19a4cbe7531c20a",
   "metadata": {},
   "outputs": [],
   "source": [
    "tic_dataframe_rrlyrae['ID'] = pd.to_numeric(tic_dataframe_rrlyrae['ID'])"
   ]
  },
  {
   "cell_type": "code",
   "execution_count": null,
   "id": "f4a3867ade2ebf",
   "metadata": {},
   "outputs": [],
   "source": [
    "\n",
    "# THIS IS THE CODE TO DOWNLOAD THE LIGHT CURVE DATA FOR RR LYRAE STARS\n",
    "# _______________________________________________________________________\n",
    "from pathlib import Path\n",
    "\n",
    "import numpy as np\n",
    "\n",
    "from ramjet.data_interface.tess_data_interface import (\n",
    "    download_spoc_light_curves_for_tic_ids,\n",
    ")\n",
    "\n",
    "\n",
    "tic_ids = tic_dataframe_rrlyrae.ID.unique()\n",
    "# splitting the tic_ids as train-validation-test\n",
    "tic_ids_splits = np.split(np.array(tic_ids), [int(len(tic_ids) * 0.8), int(len(tic_ids) * 0.9)])\n",
    "train_tic_ids = tic_ids_splits[0].tolist()\n",
    "validation_tic_ids = tic_ids_splits[1].tolist()\n",
    "test_tic_ids = tic_ids_splits[2].tolist()\n",
    "\n",
    "\n",
    "sectors = list(range(27, 56))\n",
    "print('Retrieving metadata...')\n",
    "\n",
    "print(f'Downloading light curve for {tic_ids}')\n",
    "download_spoc_light_curves_for_tic_ids(\n",
    "    tic_ids=train_tic_ids,\n",
    "    download_directory=Path('data_rrlyrae/train_rrl'),\n",
    "    sectors=sectors,\n",
    "    limit=2000)\n",
    "download_spoc_light_curves_for_tic_ids(\n",
    "    tic_ids=validation_tic_ids,\n",
    "    download_directory=Path('data_rrlyrae/validation_rrl'),\n",
    "    sectors=sectors,\n",
    "    limit=2000)\n",
    "download_spoc_light_curves_for_tic_ids(\n",
    "    tic_ids=test_tic_ids,\n",
    "    download_directory=Path('data_rrlyrae/test_rrl'),\n",
    "    sectors=sectors,\n",
    "    limit=2000)\n",
    "#  _____________________________________________________________________   \n",
    "# '''"
   ]
  }
 ],
 "metadata": {
  "kernelspec": {
   "display_name": "Python 3 (ipykernel)",
   "language": "python",
   "name": "python3"
  },
  "language_info": {
   "codemirror_mode": {
    "name": "ipython",
    "version": 3
   },
   "file_extension": ".py",
   "mimetype": "text/x-python",
   "name": "python",
   "nbconvert_exporter": "python",
   "pygments_lexer": "ipython3",
   "version": "3.11.5"
  }
 },
 "nbformat": 4,
 "nbformat_minor": 5
}
