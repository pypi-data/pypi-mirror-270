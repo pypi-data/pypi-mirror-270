{
 "cells": [
  {
   "cell_type": "markdown",
   "metadata": {},
   "source": [
    "# Sampling and Splitting"
   ]
  },
  {
   "cell_type": "markdown",
   "metadata": {},
   "source": [
    "## Sampling\n",
    "\n",
    "Sampling for basic tabular datasets. (Not designed for time series as of now.)"
   ]
  },
  {
   "cell_type": "code",
   "execution_count": 1,
   "metadata": {},
   "outputs": [],
   "source": [
    "import polars as pl\n",
    "import polars_ds as pds\n",
    "import polars_ds.sample as sa"
   ]
  },
  {
   "cell_type": "code",
   "execution_count": 2,
   "metadata": {},
   "outputs": [
    {
     "data": {
      "text/html": [
       "<div><style>\n",
       ".dataframe > thead > tr,\n",
       ".dataframe > tbody > tr {\n",
       "  text-align: right;\n",
       "  white-space: pre-wrap;\n",
       "}\n",
       "</style>\n",
       "<small>shape: (5, 8)</small><table border=\"1\" class=\"dataframe\"><thead><tr><th>row_num</th><th>uniform_1</th><th>uniform_2</th><th>exp</th><th>normal</th><th>fat_normal</th><th>flags</th><th>category</th></tr><tr><td>i64</td><td>f64</td><td>f64</td><td>f64</td><td>f64</td><td>f64</td><td>i32</td><td>str</td></tr></thead><tbody><tr><td>0</td><td>11.64451</td><td>0.124603</td><td>0.758623</td><td>2.060566</td><td>438.779809</td><td>0</td><td>&quot;A&quot;</td></tr><tr><td>1</td><td>2.748586</td><td>0.014969</td><td>7.090475</td><td>1.590593</td><td>993.017676</td><td>1</td><td>&quot;A&quot;</td></tr><tr><td>2</td><td>10.260554</td><td>0.10973</td><td>5.796965</td><td>-1.212692</td><td>642.298279</td><td>2</td><td>&quot;A&quot;</td></tr><tr><td>3</td><td>10.889005</td><td>0.908854</td><td>0.151211</td><td>1.197364</td><td>-525.448295</td><td>0</td><td>&quot;A&quot;</td></tr><tr><td>4</td><td>2.62101</td><td>0.310746</td><td>0.408312</td><td>0.394749</td><td>-498.125382</td><td>0</td><td>&quot;A&quot;</td></tr></tbody></table></div>"
      ],
      "text/plain": [
       "shape: (5, 8)\n",
       "┌─────────┬───────────┬───────────┬──────────┬───────────┬─────────────┬───────┬──────────┐\n",
       "│ row_num ┆ uniform_1 ┆ uniform_2 ┆ exp      ┆ normal    ┆ fat_normal  ┆ flags ┆ category │\n",
       "│ ---     ┆ ---       ┆ ---       ┆ ---      ┆ ---       ┆ ---         ┆ ---   ┆ ---      │\n",
       "│ i64     ┆ f64       ┆ f64       ┆ f64      ┆ f64       ┆ f64         ┆ i32   ┆ str      │\n",
       "╞═════════╪═══════════╪═══════════╪══════════╪═══════════╪═════════════╪═══════╪══════════╡\n",
       "│ 0       ┆ 11.64451  ┆ 0.124603  ┆ 0.758623 ┆ 2.060566  ┆ 438.779809  ┆ 0     ┆ A        │\n",
       "│ 1       ┆ 2.748586  ┆ 0.014969  ┆ 7.090475 ┆ 1.590593  ┆ 993.017676  ┆ 1     ┆ A        │\n",
       "│ 2       ┆ 10.260554 ┆ 0.10973   ┆ 5.796965 ┆ -1.212692 ┆ 642.298279  ┆ 2     ┆ A        │\n",
       "│ 3       ┆ 10.889005 ┆ 0.908854  ┆ 0.151211 ┆ 1.197364  ┆ -525.448295 ┆ 0     ┆ A        │\n",
       "│ 4       ┆ 2.62101   ┆ 0.310746  ┆ 0.408312 ┆ 0.394749  ┆ -498.125382 ┆ 0     ┆ A        │\n",
       "└─────────┴───────────┴───────────┴──────────┴───────────┴─────────────┴───────┴──────────┘"
      ]
     },
     "execution_count": 2,
     "metadata": {},
     "output_type": "execute_result"
    }
   ],
   "source": [
    "df = pds.random_data(size=100_000, n_cols = 0).with_columns(\n",
    "    pds.random(0.0, 12.0).alias(\"uniform_1\"),\n",
    "    pds.random(0.0, 1.0).alias(\"uniform_2\"),\n",
    "    pds.random_exp(0.5).alias(\"exp\"),\n",
    "    pds.random_normal(0.0, 1.0).alias(\"normal\"),\n",
    "    pds.random_normal(0.0, 1000.0).alias(\"fat_normal\"),\n",
    "    (pds.random_int(0, 3)).alias(\"flags\"),\n",
    "    pl.Series([\"A\"] * 30_000 + [\"B\"] * 30_000 + [\"C\"] * 40_000).alias(\"category\"),\n",
    ")\n",
    "df.head()"
   ]
  },
  {
   "cell_type": "code",
   "execution_count": 3,
   "metadata": {},
   "outputs": [
    {
     "data": {
      "text/plain": [
       "['row_num', 'normal', 'category']"
      ]
     },
     "execution_count": 3,
     "metadata": {},
     "output_type": "execute_result"
    }
   ],
   "source": [
    "sa.random_cols(df, 2, keep = [\"row_num\"])"
   ]
  },
  {
   "cell_type": "code",
   "execution_count": 4,
   "metadata": {},
   "outputs": [
    {
     "data": {
      "text/html": [
       "<div><style>\n",
       ".dataframe > thead > tr,\n",
       ".dataframe > tbody > tr {\n",
       "  text-align: right;\n",
       "  white-space: pre-wrap;\n",
       "}\n",
       "</style>\n",
       "<small>shape: (60_000, 8)</small><table border=\"1\" class=\"dataframe\"><thead><tr><th>row_num</th><th>uniform_1</th><th>uniform_2</th><th>exp</th><th>normal</th><th>fat_normal</th><th>flags</th><th>category</th></tr><tr><td>i64</td><td>f64</td><td>f64</td><td>f64</td><td>f64</td><td>f64</td><td>i32</td><td>str</td></tr></thead><tbody><tr><td>2</td><td>10.260554</td><td>0.10973</td><td>5.796965</td><td>-1.212692</td><td>642.298279</td><td>2</td><td>&quot;A&quot;</td></tr><tr><td>3</td><td>10.889005</td><td>0.908854</td><td>0.151211</td><td>1.197364</td><td>-525.448295</td><td>0</td><td>&quot;A&quot;</td></tr><tr><td>4</td><td>2.62101</td><td>0.310746</td><td>0.408312</td><td>0.394749</td><td>-498.125382</td><td>0</td><td>&quot;A&quot;</td></tr><tr><td>5</td><td>6.417608</td><td>0.221039</td><td>1.678449</td><td>-1.45285</td><td>-322.599835</td><td>0</td><td>&quot;A&quot;</td></tr><tr><td>6</td><td>10.250766</td><td>0.140756</td><td>1.315467</td><td>-1.102321</td><td>1457.466441</td><td>2</td><td>&quot;A&quot;</td></tr><tr><td>&hellip;</td><td>&hellip;</td><td>&hellip;</td><td>&hellip;</td><td>&hellip;</td><td>&hellip;</td><td>&hellip;</td><td>&hellip;</td></tr><tr><td>99993</td><td>10.083477</td><td>0.830525</td><td>5.002596</td><td>0.529133</td><td>1469.820801</td><td>0</td><td>&quot;C&quot;</td></tr><tr><td>99994</td><td>5.732657</td><td>0.770301</td><td>2.194749</td><td>-1.622315</td><td>416.484199</td><td>1</td><td>&quot;C&quot;</td></tr><tr><td>99996</td><td>1.337781</td><td>0.172623</td><td>1.023945</td><td>0.086787</td><td>400.605295</td><td>2</td><td>&quot;C&quot;</td></tr><tr><td>99997</td><td>7.303107</td><td>0.56098</td><td>0.256317</td><td>-0.262152</td><td>185.775187</td><td>2</td><td>&quot;C&quot;</td></tr><tr><td>99999</td><td>6.246827</td><td>0.299163</td><td>2.601728</td><td>-0.487571</td><td>-421.2361</td><td>2</td><td>&quot;C&quot;</td></tr></tbody></table></div>"
      ],
      "text/plain": [
       "shape: (60_000, 8)\n",
       "┌─────────┬───────────┬───────────┬──────────┬───────────┬─────────────┬───────┬──────────┐\n",
       "│ row_num ┆ uniform_1 ┆ uniform_2 ┆ exp      ┆ normal    ┆ fat_normal  ┆ flags ┆ category │\n",
       "│ ---     ┆ ---       ┆ ---       ┆ ---      ┆ ---       ┆ ---         ┆ ---   ┆ ---      │\n",
       "│ i64     ┆ f64       ┆ f64       ┆ f64      ┆ f64       ┆ f64         ┆ i32   ┆ str      │\n",
       "╞═════════╪═══════════╪═══════════╪══════════╪═══════════╪═════════════╪═══════╪══════════╡\n",
       "│ 2       ┆ 10.260554 ┆ 0.10973   ┆ 5.796965 ┆ -1.212692 ┆ 642.298279  ┆ 2     ┆ A        │\n",
       "│ 3       ┆ 10.889005 ┆ 0.908854  ┆ 0.151211 ┆ 1.197364  ┆ -525.448295 ┆ 0     ┆ A        │\n",
       "│ 4       ┆ 2.62101   ┆ 0.310746  ┆ 0.408312 ┆ 0.394749  ┆ -498.125382 ┆ 0     ┆ A        │\n",
       "│ 5       ┆ 6.417608  ┆ 0.221039  ┆ 1.678449 ┆ -1.45285  ┆ -322.599835 ┆ 0     ┆ A        │\n",
       "│ 6       ┆ 10.250766 ┆ 0.140756  ┆ 1.315467 ┆ -1.102321 ┆ 1457.466441 ┆ 2     ┆ A        │\n",
       "│ …       ┆ …         ┆ …         ┆ …        ┆ …         ┆ …           ┆ …     ┆ …        │\n",
       "│ 99993   ┆ 10.083477 ┆ 0.830525  ┆ 5.002596 ┆ 0.529133  ┆ 1469.820801 ┆ 0     ┆ C        │\n",
       "│ 99994   ┆ 5.732657  ┆ 0.770301  ┆ 2.194749 ┆ -1.622315 ┆ 416.484199  ┆ 1     ┆ C        │\n",
       "│ 99996   ┆ 1.337781  ┆ 0.172623  ┆ 1.023945 ┆ 0.086787  ┆ 400.605295  ┆ 2     ┆ C        │\n",
       "│ 99997   ┆ 7.303107  ┆ 0.56098   ┆ 0.256317 ┆ -0.262152 ┆ 185.775187  ┆ 2     ┆ C        │\n",
       "│ 99999   ┆ 6.246827  ┆ 0.299163  ┆ 2.601728 ┆ -0.487571 ┆ -421.2361   ┆ 2     ┆ C        │\n",
       "└─────────┴───────────┴───────────┴──────────┴───────────┴─────────────┴───────┴──────────┘"
      ]
     },
     "execution_count": 4,
     "metadata": {},
     "output_type": "execute_result"
    }
   ],
   "source": [
    "# Random Sample\n",
    "sa.sample(df, 0.6) # by ratio"
   ]
  },
  {
   "cell_type": "code",
   "execution_count": 5,
   "metadata": {},
   "outputs": [
    {
     "data": {
      "text/html": [
       "<div><style>\n",
       ".dataframe > thead > tr,\n",
       ".dataframe > tbody > tr {\n",
       "  text-align: right;\n",
       "  white-space: pre-wrap;\n",
       "}\n",
       "</style>\n",
       "<small>shape: (30_000, 8)</small><table border=\"1\" class=\"dataframe\"><thead><tr><th>row_num</th><th>uniform_1</th><th>uniform_2</th><th>exp</th><th>normal</th><th>fat_normal</th><th>flags</th><th>category</th></tr><tr><td>i64</td><td>f64</td><td>f64</td><td>f64</td><td>f64</td><td>f64</td><td>i32</td><td>str</td></tr></thead><tbody><tr><td>0</td><td>11.64451</td><td>0.124603</td><td>0.758623</td><td>2.060566</td><td>438.779809</td><td>0</td><td>&quot;A&quot;</td></tr><tr><td>1</td><td>2.748586</td><td>0.014969</td><td>7.090475</td><td>1.590593</td><td>993.017676</td><td>1</td><td>&quot;A&quot;</td></tr><tr><td>7</td><td>10.623024</td><td>0.576213</td><td>0.95697</td><td>-2.556449</td><td>496.157876</td><td>2</td><td>&quot;A&quot;</td></tr><tr><td>9</td><td>9.837957</td><td>0.877281</td><td>1.481505</td><td>-0.959475</td><td>1389.179288</td><td>0</td><td>&quot;A&quot;</td></tr><tr><td>23</td><td>0.030308</td><td>0.908837</td><td>3.397795</td><td>-0.980877</td><td>-1279.96811</td><td>0</td><td>&quot;A&quot;</td></tr><tr><td>&hellip;</td><td>&hellip;</td><td>&hellip;</td><td>&hellip;</td><td>&hellip;</td><td>&hellip;</td><td>&hellip;</td><td>&hellip;</td></tr><tr><td>99976</td><td>7.226565</td><td>0.815021</td><td>0.394262</td><td>1.102591</td><td>819.351731</td><td>0</td><td>&quot;C&quot;</td></tr><tr><td>99979</td><td>8.91381</td><td>0.801717</td><td>5.664321</td><td>0.586003</td><td>10.872884</td><td>1</td><td>&quot;C&quot;</td></tr><tr><td>99982</td><td>3.839575</td><td>0.726429</td><td>1.208244</td><td>0.36872</td><td>-165.014912</td><td>2</td><td>&quot;C&quot;</td></tr><tr><td>99987</td><td>7.330535</td><td>0.586176</td><td>0.418036</td><td>-0.905389</td><td>503.257395</td><td>1</td><td>&quot;C&quot;</td></tr><tr><td>99990</td><td>7.474557</td><td>0.880508</td><td>0.948747</td><td>-1.023378</td><td>-463.959728</td><td>1</td><td>&quot;C&quot;</td></tr></tbody></table></div>"
      ],
      "text/plain": [
       "shape: (30_000, 8)\n",
       "┌─────────┬───────────┬───────────┬──────────┬───────────┬─────────────┬───────┬──────────┐\n",
       "│ row_num ┆ uniform_1 ┆ uniform_2 ┆ exp      ┆ normal    ┆ fat_normal  ┆ flags ┆ category │\n",
       "│ ---     ┆ ---       ┆ ---       ┆ ---      ┆ ---       ┆ ---         ┆ ---   ┆ ---      │\n",
       "│ i64     ┆ f64       ┆ f64       ┆ f64      ┆ f64       ┆ f64         ┆ i32   ┆ str      │\n",
       "╞═════════╪═══════════╪═══════════╪══════════╪═══════════╪═════════════╪═══════╪══════════╡\n",
       "│ 0       ┆ 11.64451  ┆ 0.124603  ┆ 0.758623 ┆ 2.060566  ┆ 438.779809  ┆ 0     ┆ A        │\n",
       "│ 1       ┆ 2.748586  ┆ 0.014969  ┆ 7.090475 ┆ 1.590593  ┆ 993.017676  ┆ 1     ┆ A        │\n",
       "│ 7       ┆ 10.623024 ┆ 0.576213  ┆ 0.95697  ┆ -2.556449 ┆ 496.157876  ┆ 2     ┆ A        │\n",
       "│ 9       ┆ 9.837957  ┆ 0.877281  ┆ 1.481505 ┆ -0.959475 ┆ 1389.179288 ┆ 0     ┆ A        │\n",
       "│ 23      ┆ 0.030308  ┆ 0.908837  ┆ 3.397795 ┆ -0.980877 ┆ -1279.96811 ┆ 0     ┆ A        │\n",
       "│ …       ┆ …         ┆ …         ┆ …        ┆ …         ┆ …           ┆ …     ┆ …        │\n",
       "│ 99976   ┆ 7.226565  ┆ 0.815021  ┆ 0.394262 ┆ 1.102591  ┆ 819.351731  ┆ 0     ┆ C        │\n",
       "│ 99979   ┆ 8.91381   ┆ 0.801717  ┆ 5.664321 ┆ 0.586003  ┆ 10.872884   ┆ 1     ┆ C        │\n",
       "│ 99982   ┆ 3.839575  ┆ 0.726429  ┆ 1.208244 ┆ 0.36872   ┆ -165.014912 ┆ 2     ┆ C        │\n",
       "│ 99987   ┆ 7.330535  ┆ 0.586176  ┆ 0.418036 ┆ -0.905389 ┆ 503.257395  ┆ 1     ┆ C        │\n",
       "│ 99990   ┆ 7.474557  ┆ 0.880508  ┆ 0.948747 ┆ -1.023378 ┆ -463.959728 ┆ 1     ┆ C        │\n",
       "└─────────┴───────────┴───────────┴──────────┴───────────┴─────────────┴───────┴──────────┘"
      ]
     },
     "execution_count": 5,
     "metadata": {},
     "output_type": "execute_result"
    }
   ],
   "source": [
    "sa.sample(df, 30_000) # by count"
   ]
  },
  {
   "cell_type": "code",
   "execution_count": 6,
   "metadata": {},
   "outputs": [
    {
     "data": {
      "text/html": [
       "<div><style>\n",
       ".dataframe > thead > tr,\n",
       ".dataframe > tbody > tr {\n",
       "  text-align: right;\n",
       "  white-space: pre-wrap;\n",
       "}\n",
       "</style>\n",
       "<small>shape: (3, 2)</small><table border=\"1\" class=\"dataframe\"><thead><tr><th>flags</th><th>len</th></tr><tr><td>i32</td><td>u32</td></tr></thead><tbody><tr><td>0</td><td>33427</td></tr><tr><td>1</td><td>33329</td></tr><tr><td>2</td><td>33244</td></tr></tbody></table></div>"
      ],
      "text/plain": [
       "shape: (3, 2)\n",
       "┌───────┬───────┐\n",
       "│ flags ┆ len   │\n",
       "│ ---   ┆ ---   │\n",
       "│ i32   ┆ u32   │\n",
       "╞═══════╪═══════╡\n",
       "│ 0     ┆ 33427 │\n",
       "│ 1     ┆ 33329 │\n",
       "│ 2     ┆ 33244 │\n",
       "└───────┴───────┘"
      ]
     },
     "execution_count": 6,
     "metadata": {},
     "output_type": "execute_result"
    }
   ],
   "source": [
    "df.group_by(\"flags\").len().sort(\"flags\")"
   ]
  },
  {
   "cell_type": "code",
   "execution_count": 7,
   "metadata": {},
   "outputs": [
    {
     "data": {
      "text/html": [
       "<div><style>\n",
       ".dataframe > thead > tr,\n",
       ".dataframe > tbody > tr {\n",
       "  text-align: right;\n",
       "  white-space: pre-wrap;\n",
       "}\n",
       "</style>\n",
       "<small>shape: (3, 2)</small><table border=\"1\" class=\"dataframe\"><thead><tr><th>flags</th><th>len</th></tr><tr><td>i32</td><td>u32</td></tr></thead><tbody><tr><td>0</td><td>16714</td></tr><tr><td>1</td><td>33329</td></tr><tr><td>2</td><td>33244</td></tr></tbody></table></div>"
      ],
      "text/plain": [
       "shape: (3, 2)\n",
       "┌───────┬───────┐\n",
       "│ flags ┆ len   │\n",
       "│ ---   ┆ ---   │\n",
       "│ i32   ┆ u32   │\n",
       "╞═══════╪═══════╡\n",
       "│ 0     ┆ 16714 │\n",
       "│ 1     ┆ 33329 │\n",
       "│ 2     ┆ 33244 │\n",
       "└───────┴───────┘"
      ]
     },
     "execution_count": 7,
     "metadata": {},
     "output_type": "execute_result"
    }
   ],
   "source": [
    "# Downsample on one group\n",
    "sa1 = sa.downsample(\n",
    "    df, \n",
    "    (pl.col(\"flags\") == 0, 0.5)\n",
    ")\n",
    "sa1.group_by(\"flags\").len().sort(\"flags\")"
   ]
  },
  {
   "cell_type": "code",
   "execution_count": 8,
   "metadata": {},
   "outputs": [
    {
     "data": {
      "text/html": [
       "<div><style>\n",
       ".dataframe > thead > tr,\n",
       ".dataframe > tbody > tr {\n",
       "  text-align: right;\n",
       "  white-space: pre-wrap;\n",
       "}\n",
       "</style>\n",
       "<small>shape: (3, 2)</small><table border=\"1\" class=\"dataframe\"><thead><tr><th>flags</th><th>len</th></tr><tr><td>i32</td><td>u32</td></tr></thead><tbody><tr><td>0</td><td>16714</td></tr><tr><td>1</td><td>9999</td></tr><tr><td>2</td><td>13298</td></tr></tbody></table></div>"
      ],
      "text/plain": [
       "shape: (3, 2)\n",
       "┌───────┬───────┐\n",
       "│ flags ┆ len   │\n",
       "│ ---   ┆ ---   │\n",
       "│ i32   ┆ u32   │\n",
       "╞═══════╪═══════╡\n",
       "│ 0     ┆ 16714 │\n",
       "│ 1     ┆ 9999  │\n",
       "│ 2     ┆ 13298 │\n",
       "└───────┴───────┘"
      ]
     },
     "execution_count": 8,
     "metadata": {},
     "output_type": "execute_result"
    }
   ],
   "source": [
    "# Downsample on multiple groups\n",
    "sa2 = sa.downsample(\n",
    "    df, \n",
    "    [\n",
    "        (pl.col(\"flags\") == 0, 0.5),\n",
    "        (pl.col(\"flags\") == 1, 0.3),\n",
    "        (pl.col(\"flags\") == 2, 0.4),\n",
    "    ]\n",
    ")\n",
    "sa2.group_by(\"flags\").len().sort(\"flags\")"
   ]
  },
  {
   "cell_type": "code",
   "execution_count": 9,
   "metadata": {},
   "outputs": [
    {
     "data": {
      "text/html": [
       "<div><style>\n",
       ".dataframe > thead > tr,\n",
       ".dataframe > tbody > tr {\n",
       "  text-align: right;\n",
       "  white-space: pre-wrap;\n",
       "}\n",
       "</style>\n",
       "<small>shape: (3, 2)</small><table border=\"1\" class=\"dataframe\"><thead><tr><th>category</th><th>len</th></tr><tr><td>str</td><td>u32</td></tr></thead><tbody><tr><td>&quot;A&quot;</td><td>30000</td></tr><tr><td>&quot;B&quot;</td><td>30000</td></tr><tr><td>&quot;C&quot;</td><td>40000</td></tr></tbody></table></div>"
      ],
      "text/plain": [
       "shape: (3, 2)\n",
       "┌──────────┬───────┐\n",
       "│ category ┆ len   │\n",
       "│ ---      ┆ ---   │\n",
       "│ str      ┆ u32   │\n",
       "╞══════════╪═══════╡\n",
       "│ A        ┆ 30000 │\n",
       "│ B        ┆ 30000 │\n",
       "│ C        ┆ 40000 │\n",
       "└──────────┴───────┘"
      ]
     },
     "execution_count": 9,
     "metadata": {},
     "output_type": "execute_result"
    }
   ],
   "source": [
    "df.group_by(\"category\").len().sort(\"category\")"
   ]
  },
  {
   "cell_type": "code",
   "execution_count": 10,
   "metadata": {},
   "outputs": [
    {
     "data": {
      "text/html": [
       "<div><style>\n",
       ".dataframe > thead > tr,\n",
       ".dataframe > tbody > tr {\n",
       "  text-align: right;\n",
       "  white-space: pre-wrap;\n",
       "}\n",
       "</style>\n",
       "<small>shape: (3, 2)</small><table border=\"1\" class=\"dataframe\"><thead><tr><th>category</th><th>len</th></tr><tr><td>str</td><td>u32</td></tr></thead><tbody><tr><td>&quot;A&quot;</td><td>30000</td></tr><tr><td>&quot;B&quot;</td><td>30000</td></tr><tr><td>&quot;C&quot;</td><td>30000</td></tr></tbody></table></div>"
      ],
      "text/plain": [
       "shape: (3, 2)\n",
       "┌──────────┬───────┐\n",
       "│ category ┆ len   │\n",
       "│ ---      ┆ ---   │\n",
       "│ str      ┆ u32   │\n",
       "╞══════════╪═══════╡\n",
       "│ A        ┆ 30000 │\n",
       "│ B        ┆ 30000 │\n",
       "│ C        ┆ 30000 │\n",
       "└──────────┴───────┘"
      ]
     },
     "execution_count": 10,
     "metadata": {},
     "output_type": "execute_result"
    }
   ],
   "source": [
    "# Volume neutral by each category, will take the greatest possible value so that we get neutral volume.\n",
    "vn = sa.volume_neutral(\n",
    "    df,\n",
    "    by = pl.col(\"category\"),\n",
    ")\n",
    "vn.group_by(\"category\").len().sort(\"category\")"
   ]
  },
  {
   "cell_type": "code",
   "execution_count": 11,
   "metadata": {},
   "outputs": [
    {
     "data": {
      "text/html": [
       "<div><style>\n",
       ".dataframe > thead > tr,\n",
       ".dataframe > tbody > tr {\n",
       "  text-align: right;\n",
       "  white-space: pre-wrap;\n",
       "}\n",
       "</style>\n",
       "<small>shape: (3, 2)</small><table border=\"1\" class=\"dataframe\"><thead><tr><th>category</th><th>len</th></tr><tr><td>str</td><td>u32</td></tr></thead><tbody><tr><td>&quot;A&quot;</td><td>10000</td></tr><tr><td>&quot;B&quot;</td><td>10000</td></tr><tr><td>&quot;C&quot;</td><td>10000</td></tr></tbody></table></div>"
      ],
      "text/plain": [
       "shape: (3, 2)\n",
       "┌──────────┬───────┐\n",
       "│ category ┆ len   │\n",
       "│ ---      ┆ ---   │\n",
       "│ str      ┆ u32   │\n",
       "╞══════════╪═══════╡\n",
       "│ A        ┆ 10000 │\n",
       "│ B        ┆ 10000 │\n",
       "│ C        ┆ 10000 │\n",
       "└──────────┴───────┘"
      ]
     },
     "execution_count": 11,
     "metadata": {},
     "output_type": "execute_result"
    }
   ],
   "source": [
    "# Volume neutral (10_000) by each category\n",
    "vn = sa.volume_neutral(\n",
    "    df,\n",
    "    by = pl.col(\"category\"),\n",
    "    target_volume = 10_000\n",
    ")\n",
    "vn.group_by(\"category\").len().sort(\"category\")"
   ]
  },
  {
   "cell_type": "code",
   "execution_count": 12,
   "metadata": {},
   "outputs": [
    {
     "data": {
      "text/html": [
       "<div><style>\n",
       ".dataframe > thead > tr,\n",
       ".dataframe > tbody > tr {\n",
       "  text-align: right;\n",
       "  white-space: pre-wrap;\n",
       "}\n",
       "</style>\n",
       "<small>shape: (3, 2)</small><table border=\"1\" class=\"dataframe\"><thead><tr><th>category</th><th>len</th></tr><tr><td>str</td><td>u32</td></tr></thead><tbody><tr><td>&quot;A&quot;</td><td>10000</td></tr><tr><td>&quot;B&quot;</td><td>4240</td></tr><tr><td>&quot;C&quot;</td><td>5760</td></tr></tbody></table></div>"
      ],
      "text/plain": [
       "shape: (3, 2)\n",
       "┌──────────┬───────┐\n",
       "│ category ┆ len   │\n",
       "│ ---      ┆ ---   │\n",
       "│ str      ┆ u32   │\n",
       "╞══════════╪═══════╡\n",
       "│ A        ┆ 10000 │\n",
       "│ B        ┆ 4240  │\n",
       "│ C        ┆ 5760  │\n",
       "└──────────┴───────┘"
      ]
     },
     "execution_count": 12,
     "metadata": {},
     "output_type": "execute_result"
    }
   ],
   "source": [
    "# Volume neutral (10_000) by a more complicated condition\n",
    "vn = sa.volume_neutral(\n",
    "    df,\n",
    "    by = pl.col(\"category\") == \"A\",\n",
    "    target_volume = 10_000\n",
    ") # This makes sense because count for B + count for C = 10_000\n",
    "vn.group_by(\"category\").len().sort(\"category\")"
   ]
  },
  {
   "cell_type": "code",
   "execution_count": 13,
   "metadata": {},
   "outputs": [
    {
     "data": {
      "text/html": [
       "<div><style>\n",
       ".dataframe > thead > tr,\n",
       ".dataframe > tbody > tr {\n",
       "  text-align: right;\n",
       "  white-space: pre-wrap;\n",
       "}\n",
       "</style>\n",
       "<small>shape: (9, 3)</small><table border=\"1\" class=\"dataframe\"><thead><tr><th>category</th><th>flags</th><th>len</th></tr><tr><td>str</td><td>i32</td><td>u32</td></tr></thead><tbody><tr><td>&quot;A&quot;</td><td>0</td><td>9954</td></tr><tr><td>&quot;A&quot;</td><td>1</td><td>9954</td></tr><tr><td>&quot;A&quot;</td><td>2</td><td>9954</td></tr><tr><td>&quot;B&quot;</td><td>0</td><td>9929</td></tr><tr><td>&quot;B&quot;</td><td>1</td><td>9929</td></tr><tr><td>&quot;B&quot;</td><td>2</td><td>9929</td></tr><tr><td>&quot;C&quot;</td><td>0</td><td>13276</td></tr><tr><td>&quot;C&quot;</td><td>1</td><td>13276</td></tr><tr><td>&quot;C&quot;</td><td>2</td><td>13276</td></tr></tbody></table></div>"
      ],
      "text/plain": [
       "shape: (9, 3)\n",
       "┌──────────┬───────┬───────┐\n",
       "│ category ┆ flags ┆ len   │\n",
       "│ ---      ┆ ---   ┆ ---   │\n",
       "│ str      ┆ i32   ┆ u32   │\n",
       "╞══════════╪═══════╪═══════╡\n",
       "│ A        ┆ 0     ┆ 9954  │\n",
       "│ A        ┆ 1     ┆ 9954  │\n",
       "│ A        ┆ 2     ┆ 9954  │\n",
       "│ B        ┆ 0     ┆ 9929  │\n",
       "│ B        ┆ 1     ┆ 9929  │\n",
       "│ B        ┆ 2     ┆ 9929  │\n",
       "│ C        ┆ 0     ┆ 13276 │\n",
       "│ C        ┆ 1     ┆ 13276 │\n",
       "│ C        ┆ 2     ┆ 13276 │\n",
       "└──────────┴───────┴───────┘"
      ]
     },
     "execution_count": 13,
     "metadata": {},
     "output_type": "execute_result"
    }
   ],
   "source": [
    "# Volume neutral sample with a control level. Volume neutral happens under the category level, meaning\n",
    "# the volume for each flag in each category is neutral.\n",
    "vn = sa.volume_neutral(\n",
    "    df,\n",
    "    by = pl.col(\"flags\"),\n",
    "    control = pl.col(\"category\")\n",
    ") \n",
    "vn.group_by([\"category\", \"flags\"]).len().sort([\"category\", \"flags\"])"
   ]
  },
  {
   "cell_type": "code",
   "execution_count": 14,
   "metadata": {},
   "outputs": [
    {
     "data": {
      "text/html": [
       "<div><style>\n",
       ".dataframe > thead > tr,\n",
       ".dataframe > tbody > tr {\n",
       "  text-align: right;\n",
       "  white-space: pre-wrap;\n",
       "}\n",
       "</style>\n",
       "<small>shape: (9, 3)</small><table border=\"1\" class=\"dataframe\"><thead><tr><th>category</th><th>flags</th><th>len</th></tr><tr><td>str</td><td>i32</td><td>u32</td></tr></thead><tbody><tr><td>&quot;A&quot;</td><td>0</td><td>9954</td></tr><tr><td>&quot;A&quot;</td><td>1</td><td>9954</td></tr><tr><td>&quot;A&quot;</td><td>2</td><td>9954</td></tr><tr><td>&quot;B&quot;</td><td>0</td><td>9929</td></tr><tr><td>&quot;B&quot;</td><td>1</td><td>9929</td></tr><tr><td>&quot;B&quot;</td><td>2</td><td>9929</td></tr><tr><td>&quot;C&quot;</td><td>0</td><td>10000</td></tr><tr><td>&quot;C&quot;</td><td>1</td><td>10000</td></tr><tr><td>&quot;C&quot;</td><td>2</td><td>10000</td></tr></tbody></table></div>"
      ],
      "text/plain": [
       "shape: (9, 3)\n",
       "┌──────────┬───────┬───────┐\n",
       "│ category ┆ flags ┆ len   │\n",
       "│ ---      ┆ ---   ┆ ---   │\n",
       "│ str      ┆ i32   ┆ u32   │\n",
       "╞══════════╪═══════╪═══════╡\n",
       "│ A        ┆ 0     ┆ 9954  │\n",
       "│ A        ┆ 1     ┆ 9954  │\n",
       "│ A        ┆ 2     ┆ 9954  │\n",
       "│ B        ┆ 0     ┆ 9929  │\n",
       "│ B        ┆ 1     ┆ 9929  │\n",
       "│ B        ┆ 2     ┆ 9929  │\n",
       "│ C        ┆ 0     ┆ 10000 │\n",
       "│ C        ┆ 1     ┆ 10000 │\n",
       "│ C        ┆ 2     ┆ 10000 │\n",
       "└──────────┴───────┴───────┘"
      ]
     },
     "execution_count": 14,
     "metadata": {},
     "output_type": "execute_result"
    }
   ],
   "source": [
    "# We may not meet the target volume for all categories.\n",
    "vn = sa.volume_neutral(\n",
    "    df,\n",
    "    by = pl.col(\"flags\"),\n",
    "    control = pl.col(\"category\"),\n",
    "    target_volume= 10_000\n",
    ") # \n",
    "vn.group_by([\"category\", \"flags\"]).len().sort([\"category\", \"flags\"])"
   ]
  },
  {
   "cell_type": "markdown",
   "metadata": {},
   "source": [
    "## Splitting\n",
    "\n",
    "To be added..."
   ]
  },
  {
   "cell_type": "markdown",
   "metadata": {},
   "source": []
  },
  {
   "cell_type": "markdown",
   "metadata": {},
   "source": []
  }
 ],
 "metadata": {
  "kernelspec": {
   "display_name": ".venv",
   "language": "python",
   "name": "python3"
  },
  "language_info": {
   "codemirror_mode": {
    "name": "ipython",
    "version": 3
   },
   "file_extension": ".py",
   "mimetype": "text/x-python",
   "name": "python",
   "nbconvert_exporter": "python",
   "pygments_lexer": "ipython3",
   "version": "3.11.8"
  }
 },
 "nbformat": 4,
 "nbformat_minor": 2
}
