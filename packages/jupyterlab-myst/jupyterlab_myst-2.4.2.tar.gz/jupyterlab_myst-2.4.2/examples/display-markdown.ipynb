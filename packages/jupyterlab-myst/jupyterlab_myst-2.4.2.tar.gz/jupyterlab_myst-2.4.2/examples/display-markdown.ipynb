{
 "cells": [
  {
   "cell_type": "markdown",
   "id": "1445c778-f92f-46c4-a7f9-b9aece94450f",
   "metadata": {
    "user_expressions": []
   },
   "source": [
    "---\n",
    "title: Markdown Rendering in Jupyter using MyST\n",
    "subtitle: Using inline widgets in JupyterLab markdown cells\n",
    "author:\n",
    "  - name: Rowan Cockett\n",
    "    affiliations: Executable Books; Curvenote\n",
    "    orcid: 0000-0002-7859-8394\n",
    "    email: rowan@curvenote.com\n",
    "  - name: Angus Hollands\n",
    "    affiliations: Executable Books\n",
    "  - name: Steve Purves\n",
    "    affiliations: Executable Books; Curvenote\n",
    "date: 2023/02/20\n",
    "---\n",
    "\n",
    "The [JupyterLab MyST extension](https://github.com/executablebooks/jupyterlab-myst) allows you to invoke the MyST renderer from code cell outputs."
   ]
  },
  {
   "cell_type": "code",
   "execution_count": 12,
   "id": "53c89be3-63ef-4a5c-b7f3-28ed138fa92e",
   "metadata": {
    "tags": []
   },
   "outputs": [],
   "source": [
    "from IPython.display import Markdown"
   ]
  },
  {
   "cell_type": "code",
   "execution_count": 13,
   "id": "32fad109-f60a-4162-b784-4e3d9ed45921",
   "metadata": {
    "tags": []
   },
   "outputs": [
    {
     "data": {
      "text/markdown": [
       "\n",
       "\n",
       "\n",
       "The [JupyterLab MyST extension](https://github.com/executablebooks/jupyterlab-myst) allows you to have MyST renderer in your markdown cells that includes interactivity and inline-evaluation.\n",
       "\n",
       ":::{warning} Syntax is Subject to Change\n",
       ":class: dropdown\n",
       "The current syntax is based on a myst role, which may change in the future -- for example to be closer to an inline expression `${}`. This will go through a MyST enhancement proposal, and the `{eval}` role will likely still be supported.\n",
       ":::\n",
       "\n",
       "\n",
       "```python\n",
       "import numpy as np\n",
       "array = np.arange(4)\n",
       "```\n",
       "\n"
      ],
      "text/plain": [
       "<IPython.core.display.Markdown object>"
      ]
     },
     "execution_count": 13,
     "metadata": {},
     "output_type": "execute_result"
    }
   ],
   "source": [
    "Markdown('''\n",
    "\n",
    "\n",
    "The [JupyterLab MyST extension](https://github.com/executablebooks/jupyterlab-myst) allows you to have MyST renderer in your markdown cells that includes interactivity and inline-evaluation.\n",
    "\n",
    ":::{warning} Syntax is Subject to Change\n",
    ":class: dropdown\n",
    "The current syntax is based on a myst role, which may change in the future -- for example to be closer to an inline expression `${}`. This will go through a MyST enhancement proposal, and the `{eval}` role will likely still be supported.\n",
    ":::\n",
    "\n",
    "\n",
    "```python\n",
    "import numpy as np\n",
    "array = np.arange(4)\n",
    "```\n",
    "\n",
    "''')"
   ]
  }
 ],
 "metadata": {
  "kernelspec": {
   "display_name": "Python 3 (ipykernel)",
   "language": "python",
   "name": "python3"
  },
  "language_info": {
   "codemirror_mode": {
    "name": "ipython",
    "version": 3
   },
   "file_extension": ".py",
   "mimetype": "text/x-python",
   "name": "python",
   "nbconvert_exporter": "python",
   "pygments_lexer": "ipython3",
   "version": "3.10.6"
  },
  "widgets": {
   "application/vnd.jupyter.widget-state+json": {
    "state": {},
    "version_major": 2,
    "version_minor": 0
   }
  }
 },
 "nbformat": 4,
 "nbformat_minor": 5
}
