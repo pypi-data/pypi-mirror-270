{
 "cells": [
  {
   "cell_type": "markdown",
   "id": "613eaf50-e4f0-4328-b0be-c246fb216577",
   "metadata": {},
   "source": [
    "---\n",
    "title: Inline Interactivity in Jupyter using MyST\n",
    "subtitle: Using inline widgets in JupyterLab markdown cells\n",
    "author:\n",
    "  - name: Rowan Cockett\n",
    "    affiliations: Executable Books; Curvenote\n",
    "    orcid: 0000-0002-7859-8394\n",
    "    email: rowan@curvenote.com\n",
    "  - name: Angus Hollands\n",
    "    affiliations: Executable Books\n",
    "  - name: Steve Purves\n",
    "    affiliations: Executable Books; Curvenote\n",
    "date: 2023/02/20\n",
    "---\n",
    "\n",
    "The [JupyterLab MyST extension](https://github.com/executablebooks/jupyterlab-myst) allows you to have MyST renderer in your markdown cells that includes interactivity and inline-evaluation."
   ]
  },
  {
   "cell_type": "markdown",
   "id": "d3c1dba2-889d-4817-8d48-83d45c03a337",
   "metadata": {
    "user_expressions": [
     {
      "expression": "1+1",
      "result": {
       "data": {
        "text/plain": "2"
       },
       "metadata": {},
       "status": "ok"
      }
     }
    ]
   },
   "source": [
    "This is done through the `` {eval}`1+1` `` role, which results in {eval}`1+1`. The extension can also access variables in the kernel.\n",
    "\n",
    ":::{warning} Syntax is Subject to Change\n",
    ":class: dropdown\n",
    "The current syntax is based on a myst role, which may change in the future -- for example to be closer to an inline expression `${}`. This will go through a MyST enhancement proposal, and the `{eval}` role will likely still be supported.\n",
    ":::"
   ]
  },
  {
   "cell_type": "code",
   "execution_count": 11,
   "id": "90dffa46-b084-4b24-a650-e5f5a9aa526e",
   "metadata": {
    "tags": []
   },
   "outputs": [],
   "source": [
    "import numpy as np\n",
    "array = np.arange(4)"
   ]
  },
  {
   "cell_type": "markdown",
   "id": "e8af4aa1-9d91-494e-9a76-4d57a611d9e0",
   "metadata": {
    "user_expressions": [
     {
      "expression": "array",
      "result": {
       "data": {
        "text/plain": "array([0, 1, 2, 3])"
       },
       "metadata": {},
       "status": "ok"
      }
     },
     {
      "expression": "array.sum()",
      "result": {
       "data": {
        "text/plain": "6"
       },
       "metadata": {},
       "status": "ok"
      }
     },
     {
      "expression": "array.max()",
      "result": {
       "data": {
        "text/plain": "3"
       },
       "metadata": {},
       "status": "ok"
      }
     }
    ]
   },
   "source": [
    "Let's consider the following array: {eval}`array`.\n",
    "\n",
    "We can compute the total: {eval}`array.sum()` and the maximum value is {eval}`array.max()`.\n",
    "\n",
    "This is done through using MyST syntax: `` {eval}`array.sum()` `` and `` {eval}`array.max()` ``, respectively."
   ]
  },
  {
   "cell_type": "markdown",
   "id": "7ed74234-5230-4cdc-9e26-21fb1aca70a2",
   "metadata": {},
   "source": [
    "## Displaying text values computed by widgets\n",
    "\n",
    "The example below builds a small widget that updates several values, and we then display them in markdown cells. We use a [`widgets.Label` object](https://ipywidgets.readthedocs.io/en/stable/examples/Widget%20List.html?#Label), which stores a _string_ value and displays it as formatted html."
   ]
  },
  {
   "cell_type": "code",
   "execution_count": 12,
   "id": "5ffba1f7-e455-4dce-a645-38988d97b01b",
   "metadata": {
    "tags": []
   },
   "outputs": [],
   "source": [
    "import ipywidgets as widgets\n",
    "\n",
    "cookiesSlider = widgets.IntSlider(min=0, max=30, step=1, value=10, description=\"Cookies: \")\n",
    "cookiesText = widgets.BoundedIntText(\n",
    "    value=10,\n",
    "    min=0,\n",
    "    max=30,\n",
    "    step=1,\n",
    ")\n",
    "widgetLink = widgets.jslink((cookiesSlider, 'value'), (cookiesText, 'value'))\n",
    "\n",
    "caloriesPerCookie = 50\n",
    "dailyCalories = 2100\n",
    "\n",
    "calories = widgets.Label(value=f'{cookiesSlider.value * caloriesPerCookie}')\n",
    "def fc(n):\n",
    "    calories.value = f'{n[\"owner\"].value * caloriesPerCookie}'\n",
    "cookiesSlider.observe(fc)\n",
    "\n",
    "def pct_cookie(cookies):\n",
    "    return f\"{cookies * caloriesPerCookie / dailyCalories * 100:.1f}\"\n",
    "\n",
    "percent = widgets.Label(value=pct_cookie(cookiesSlider.value))\n",
    "\n",
    "def fp(change):\n",
    "    percent.value = pct_cookie(change['new'])\n",
    "    \n",
    "cookiesSlider.observe(fp, 'value')"
   ]
  },
  {
   "cell_type": "markdown",
   "id": "b8ac6e3c-2982-4921-a882-6b4eeaffe936",
   "metadata": {
    "user_expressions": [
     {
      "expression": "cookiesText",
      "result": {
       "data": {
        "application/vnd.jupyter.widget-view+json": {
         "model_id": "1dfd26534ccb490a99cf2374565b2e56",
         "version_major": 2,
         "version_minor": 0
        },
        "text/plain": "BoundedIntText(value=10, max=30)"
       },
       "metadata": {},
       "status": "ok"
      }
     },
     {
      "expression": "calories",
      "result": {
       "data": {
        "application/vnd.jupyter.widget-view+json": {
         "model_id": "be1637d9581743bba5e6ee0ab555630e",
         "version_major": 2,
         "version_minor": 0
        },
        "text/plain": "Label(value='500')"
       },
       "metadata": {},
       "status": "ok"
      }
     },
     {
      "expression": "percent",
      "result": {
       "data": {
        "application/vnd.jupyter.widget-view+json": {
         "model_id": "b133c9e497344665b7a4f64c4b2485f9",
         "version_major": 2,
         "version_minor": 0
        },
        "text/plain": "Label(value='23.8')"
       },
       "metadata": {},
       "status": "ok"
      }
     },
     {
      "expression": "cookiesSlider",
      "result": {
       "data": {
        "application/vnd.jupyter.widget-view+json": {
         "model_id": "e56ecf9a427042babaff7d56b88d1f1c",
         "version_major": 2,
         "version_minor": 0
        },
        "text/plain": "IntSlider(value=10, description='Cookies: ', max=30)"
       },
       "metadata": {},
       "status": "ok"
      }
     }
    ]
   },
   "source": [
    ":::{important} Calculate Consuming Cookie Calories 🍪 🧮\n",
    "When you eat {eval}`cookiesText` cookies, you consume {eval}`calories` calories. \n",
    "\n",
    "That's {eval}`percent`% of your recommended daily calories.\n",
    "\n",
    ":::\n",
    "\n",
    "You can also edit this through a slider if you want: {eval}`cookiesSlider`\n",
    "\n",
    ":::{note} Improvements\n",
    ":class: dropdown\n",
    "There is a lot to improve both for formatting (e.g. format the numbering) and for the verbosity of the above code for linking and calculating the widgets.\n",
    "These are probably going to be a combination of a MyST library for working with simple inline widgets and showing numbers, as well as improvements and tweaks to the inline renderers for the mime bundles.\n",
    "\n",
    "But you can already do things! 🚀\n",
    ":::"
   ]
  },
  {
   "cell_type": "markdown",
   "id": "bed29f27-b96d-4764-aa59-cd6fed8a9c69",
   "metadata": {},
   "source": [
    "## Math rendering\n",
    "\n",
    "You can create mathematical content with direct evaluation of expressions by combining Sympy's LaTeX output and Jupyter's built-in math rendering. Consider the following simple example:"
   ]
  },
  {
   "cell_type": "code",
   "execution_count": 13,
   "id": "17290f9d-034c-41d0-828b-5af14e14edfa",
   "metadata": {
    "tags": []
   },
   "outputs": [],
   "source": [
    "import sympy as sy\n",
    "x = sy.Symbol('x')\n",
    "expr = x**2 + x + 1\n",
    "I = sy.Integral(expr, (x, 0, 1))"
   ]
  },
  {
   "cell_type": "markdown",
   "id": "b10ff885-9088-442a-b5bd-410aa9a4a45a",
   "metadata": {
    "user_expressions": [
     {
      "expression": "I",
      "result": {
       "data": {
        "text/latex": "$\\displaystyle \\int\\limits_{0}^{1} \\left(x^{2} + x + 1\\right)\\, dx$",
        "text/plain": "Integral(x**2 + x + 1, (x, 0, 1))"
       },
       "metadata": {},
       "status": "ok"
      }
     },
     {
      "expression": "I",
      "result": {
       "data": {
        "text/latex": "$\\displaystyle \\int\\limits_{0}^{1} \\left(x^{2} + x + 1\\right)\\, dx$",
        "text/plain": "Integral(x**2 + x + 1, (x, 0, 1))"
       },
       "metadata": {},
       "status": "ok"
      }
     },
     {
      "expression": "I.doit()",
      "result": {
       "data": {
        "text/latex": "$\\displaystyle \\frac{11}{6}$",
        "text/plain": "11/6"
       },
       "metadata": {},
       "status": "ok"
      }
     }
    ]
   },
   "source": [
    "The integral {eval}`I` can be analytically computed:\n",
    "\n",
    "{eval}`I` = {eval}`I.doit()`.\n",
    "\n",
    ":::{warning} Math rendering is still unstable\n",
    "\n",
    "We've noticed issues with this feature - rendering is slow and sometimes weird glitches occur. [We're tracking it](https://github.com/executablebooks/jupyterlab-myst/issues/96).\n",
    ":::"
   ]
  },
  {
   "cell_type": "markdown",
   "id": "bf3319ef-6a71-46b8-a311-b33845da400d",
   "metadata": {},
   "source": [
    "## Markdown, videos, images and more\n",
    "\n",
    "Note that you can use the `Markdown` object built into `IPython.display` to programatically compute Markdown results that will work as if you had typed them. Here's a simple example of constructing a predictable link, that of a YouTube video, based on its video ID:"
   ]
  },
  {
   "cell_type": "code",
   "execution_count": 14,
   "id": "7e96d874-9717-4100-b8a2-582ea8f2952b",
   "metadata": {
    "tags": []
   },
   "outputs": [],
   "source": [
    "from IPython.display import Markdown, YouTubeVideo\n",
    "\n",
    "def ytlink(vid):\n",
    "    return Markdown(f\"[YouTube Video](https://www.youtube.com/watch?v={vid})\")"
   ]
  },
  {
   "cell_type": "markdown",
   "id": "e884e9a8-9d2e-4163-8118-923980bdc38b",
   "metadata": {
    "user_expressions": [
     {
      "expression": "YouTubeVideo('NxSNVt9XsCI')",
      "result": {
       "data": {
        "image/jpeg": "/9j/4AAQSkZJRgABAQAAAQABAAD/2wCEABALDBoYFhsaGRoeHRofIi0lIyIhIi8tLSUuLi81Mi0tLSs3PVBCNTtLPzAvRWFFS1NWW11bMkJlbWVYbFBZW1cBERISGBYYLRobMFc2NTZXV1dXV1dXV1dXV1dXV1dXV1dXV1dXV1dXV1dXV1dXV1dXV2RXV1dXV1dXWldkV1dXV//AABEIAWgB4AMBIgACEQEDEQH/xAAbAAEAAQUBAAAAAAAAAAAAAAAABQECAwQGB//EAEcQAAEEAAMEBQYLBwQCAgMAAAEAAgMRBBIhEzFBUQUiYZHRBjJScYGSFBUWFyMzYnOhstI1QlNyscHwgqKz4SRDY8IHNHT/xAAXAQEBAQEAAAAAAAAAAAAAAAAAAQID/8QAHREBAQACAwEBAQAAAAAAAAAAAAECEhETUSExA//aAAwDAQACEQMRAD8A8/REQEREBERAREQEREBERAREQEREBERAREQEREBERAREQEREBERAREQEREBERAREQEREBERAREQEREBERAREQEREBERAREQEREBERAREQEREBERAREQEREBERAREQEREBERAREQEREBERAREQEREBERAREQEREBERAREQEREBERAREQEREBERAREQEREBERAREQEREBERARZvgzuYT4M7mEGFFm+DO5hVbhHEgWNTSDAil/k7N6UfefBU+T03pR958FrTLxnaIlFLfJ6b0o+8+CfJ6b0o+8+CaZeG0RKKX+T03pR958E+Ts3pR958E0y8NoiEUv8nZvSj7z4J8nZvSj7z4Jpl4bREIpf5OzelH3nwT5OzelH3nwTTLw2iIRS/wAnZvSj7z4J8nJvSj7z4Jpl4bREIpf5OTelH3nwVR5OTelH3nwTTLw2iHRTHycm9KPvPgnycm9KPvPgmmXhtEOimPk5N6UfefBPk3N6UfefBNMvDaIdFMfJub0o+8+CfJub0o+8+CaZeG0Q6KY+Tc3pR958E+Tc3px97vBNMvDaIdFMfJub04+93gnybn9KPvPgmmXhtEOimPk3P6UfefBPk3P6UfefBNMvDaIdFMfJuf0o+8+CfJuf0o+8+CaZeG0Q6KY+Tc/pR958E+Tc/pR958E0yNoh0Ux8m5/Sj7z4J8m5vSj7z4Jpl4bRDopj5NzelH3nwT5NzelH3nwTTLw2iHRTHyan9KPvd4J8m5/Sj73eCaZG0Q6KY+Tc/pR97vBVHk1Odzoz7XeCaZG0QyKY+Tk3pR958E+Tk3pR958E0y8Noh0Uv8nJvSj7z4J8nZvSj7z4Jpl4bREIpf5OzelH3nwT5OzelH3nwTTLw2iIRS/ydm9KPvPgqjycmP70fefBNbDaIdFMHybmH70fefBD5NT+lH3nwWeGkOimm+TE5/ej7z4K4eS0/pxd7v0q61OYg0U6PJSf04u936Vc7yQxAF54fed+lRUAimvkzP6cXe7wV48lMR6cXe79KvFTlBIp35J4j04u936VX5JYj04ved+lOKctJERRRXw+e3+Yf1VizYP66L7xn5gg7bD4TExh+WIEPblOatAeWuhVsOAxLLqPf2t8VP4gPOXI4N63WsXY5JK15DsrgCfNsblu/wBb4xf5zjnlCjD4of8ApZ3N8Vhb0diAbEf4t8V0cYIaMxs1qeZVDm6277P/AGr2VnRzr+j8Q42Y9ewt8VfLg8S8UYhvvQt7e3tU3cumjO8quaXg1g9ZPPwpXsppEHHgsS0UIgR25T/dWfF2IsnZ6ntbWvZaniZb3Mq99ndf+d3aquMt6ZK05+3+6dlNIhThcSd8Tf8Ab4rGzo/ENdmEevrbx9qnozJfWDK7CVec18Mte207KuiC+CYn+E3/AG+Ktfg8Q4EGIam9Mum7dr2Kf1sb69leKsG0+z+P+clOy+GiCjwWIaKEenI5T/dXPwmJcKMY9fVvvtTVy66M7NSqgyWOq2uOu71K9lNIhIsJiGihFYPMt8VbHgMQ02I+zUt8VOvdID1WtI7Sly66M7NSnZTRDfBsTVbJv+3xWNuAxAOYR6+tv9LXQW7q+b9r/pYsQZKGTmb3buG8p2U0iGkwWIdviA9WUf3WP4tn/hnvHip95ks5Q2uFk/iqsMljMG1xolOymkQHxZP/AAz3jxT4tn/hnvb4rpETsppHN/Fs/wDDPe3xT4tn/hnvHiukVr7o5avhe5OyppHO/Fs38M948U+LZv4Z7x4rp3bTYu2QG0sVfrF/havh22zZYbnrr5tNf9NhOymkcr8Wzfwz3jxT4tm/hnvHiut+lrcy65nffq5JHtb6wZXZf+dqdlXrjk/i2b+Ge8eKp8Wz/wAM948V1jTNerY67Cf6161X6XkzvP8AhU7Kdccl8Wzfwz3jxT4tm/hnvHiuwiLiOsADyBvisUodkGYDNeuXcr20645T4tn/AIZ7x4p8WTfwz3jxXQsLutmAAvq0eHark7KmkQIw2JEZj2enrF1vI38wEbhcQIzHs9Cb3js7a4KeRTerpHPHBYnJkDCBdmiNew6qwySYMGSRlMNAk8CCCNRu1C6RQfleT8XSXV2zd/OE3XX4h4+mImvziRuayePG/FUPS8WcP2jcwIPHeFyiJ2VNI6vEdMRSOzOkbdVpf91a7pSIgDaM07P8veuWRO2r1x1J6VhyBmdmhJB1vWrH4K+PpuNrHMEjMrt+mutcfYuTRTsqdcdQ3pSIOzCRt/gs2ExLJC7I4OIq67b8FyKmvJs0Zv8AT/8AZL/S34swk+ugaK1IC2rZlHV15rS2gPDTlazt4UdORUv1fxVw1VMquYw2tLGY8tk2UTcz+PYuu3E+uevN+NwabkdZ3qGlmxYOY8OGldykMBjmzWNA8bx/cLEuOVauOWMZtkFeGq80FaGk7irbISWg0QlZYsE537/4K6TDwxi5Zq4gWNfUuN/pPx1mFedoiKoLPgfr4fvWfmCwLPgfr4fvWfmCD2M5s4AaMtam9b9SuN2NBXFU2I5u953imxHN3vO8UFpLs4AAy8dOw8b51wWLEveCMjb5/wCf3WfYjm73neKbEc3e87xQaks0oLsseYcDmAvTxVu2nr6kX/OFubEfa953iq7Ec3e87xRGo6SWzTBXDXem1k9D8aW3sRzd7zvFNiObved4orU20v8AC/3BXxSPN5mZeWtrY2I5u953imxHN3vO8UFlpav2I5u953imxHN3vO8UFllLKv2I5u953imxHN3vO8URZZS1fsRzd7zvFNiObved4oLLS1fsRzd7zvFNiPte87xRVlpav2I5u953imxHN3vO8UFlpav2I5u953imxHN3vO8UFlpav2I5u953imxHN3vO8UFmYpmPNX7Ec3e87xTYjm73neKCzMeaZjzV+xH2ved4psR9r3neKCzMeaZjzV+xH2ved4psR9r3neKDG95AJGprcrNo/JdW6t26+9Z9iObved4psRzd7zvFBZASWguFGtywdHSSva4zMyuBFDKBwH2jetra2I5u953imxHN3vO8VU4a2FlmdC50kQZILytBu+SoyaQRyuewktccoa3VzQBrlvfv7ltbEc3e87xTYjm73neKitHoPGvxEOeSF8Trqnty32gb69ajvLa/iqUkAG479edqn9iObved4qA8uIwOjZt/nR73E/8Asb2oPMEV4RQWIr0pBYivpKQWKb8mt83qZ/8AZQ9LpPI2BrziMwuhHXtz+CCWgGoqrUhbqF0eyh/ULIxjWCtAPVSwvfejXDNy4d6fP2n38i0xXzCiOgXBzsRIWlzg7hvqzSlXxk6ONe0FaXk/HscVPEXMdnFtp1mgToRwOo7lq5TL8MZcb9VxMoyB4a4h11ooMybLFxOAIzkAjsOi6fpN9GPcK7f7Ll+lZGnEtdmH0euWtTxCxP11z/HTFh7B6ytf4RE2808YrgDZ/Bc1Pi3yXmdp6N6LBn0sFXW39rltJ+Og6VxrHhrI3Fzd7ifw/uoh89aLQjnNmzv1WEz6EXrf91qcSJbyoiIoos+B+vh+9Z+YLAs+B+vh+9Z+YIPZ1VUVUBUREBVVEQVRUVUFFVEQEREBERAREQEREBERAREQEREBERAREQEREBUVUQEREBERAXP+XX7Mm/mj/wCRqn1A+XAvo2X+aP8AO1B5eEWQRdqrsu1ZGJVWTZdqbLtQYkWXZdqbLtVGJSfQLc8xjzFuZpNiv3QTxIHHiVo7LtWXD0y7AdYrXlxUEw/C4onquYG2QCXOGgJFkVyBd2AG6Oi1z0bjHhxc5rAw07M54rq5j+6brcavUe1arp7uwTv4+l53fx5rFK9xBDXvF6m3E2TvtXkXO6OkIABO0MxgAa22hwLWnO++qLdpobrgtzozoOYS5i5mbKcnndbqtdfm6CnjQ9bXcogYZ7iQJD1tTv1I1s8z2rIMPML+lfqbPn6nme3tV5RP42B5ZG9gzZ2hwykkgEAixw0K5Wd9uJUkZJA0DO/T+b/OJUbsdTrd9iLbyo2V3MptDwVxi7VdGynAnUcUGNxKsJ3qQ2kfou7x4Khez0Xe0jwQYUREBZ8D9fD96z8wWBZ8D9fD96z8wQezqqoqoLSLFHUFR56PcGFjAwBwe11aUHnQihqQOH4rOMb/AOSYNm4UzPntuUi6rfd3fDgtpBHv6OAc5zWRm35spFAjIG66HW7O7isbOi3BwdmBPV4VuDONX+6dCeIPBSiII+HByscDbHdbMbJGrgc1aHTd+KkEVUBERAREQEREBERAREQEREBERAREQEREBERAREQEREBERAREQUUH5aNJ6OkAqy6MC/vGqcXP+XX7Mm/mj/5GoPPvgj9Rbb4DXXrZd9VvVzcHIbALLG8WeZHL7J/wqPAVaWPqt6PCPc6QNLeo7Lx1N1/2qTYV7GudbSGgXV8TVDnqtJKTijJtSm1KxoqjJtT2Km1PYrEQX7U9irtT2LGio2sIczjfLktmh6J90LTwrQSbqq4mls5I/se+guNeia9QWjMRmNblt5I/se+tSasxqq7EGNERUEREBERAWfA/Xw/es/MFgWfA/Xw/es/MEHtCIiDTGA/8o4jObMezy5W1V3vq998a1W2i5zyT8oJsa/EtlbGBEW5cgIuy4G7J9EIOkRc3D5QTO6Yfgi2PZNGho5vMDt91vPJSeJ6dwkMmzkxETHje0uFj18kEii1J+k4IzGHzRt2nmW4dbdu57x3qp6RgEwgMrNsd0eYZt17vUg2kWtB0hDJI+OOVjpGec1pBLaNajhqobpbysiw2Ljw+UOBLQ9+cAR2aOYVwGqDokWnielMPFG2SSZjGPFtcXCnWL05q/BY+HENLoZWSNBolpuj28kGyi5byw8o58C+FsLYnZ2uJzhx3EVVOHNSWI6dY3o34a2qMYc0H0joGn/Vogl0XK+TXlU7ERzSYt0MTYy0Bwto617yXHkp+bpOBkTZnzMbE+sry4Ub1FH2INpVXK9NeVEoxMeFwMbJZXtDg5x6pBGYVqOGt2qdHdO4/ayYbE4UNmyOMbmtOQuDbaHGyNedjkg6pFwmL8qOlYJY4pcPh2ySUGNonNZoaiShrzXUdBT4ySJxxsTIpA6mhm4toa+c7jfFBKItWbpGFkrYXysbK+srCaLrNCh7CjOkYXTGFsrDM3ewOGYexBtIuf6b6YDsK84PFwMka9oL3OFC70s2ATR3jgVh6R8rGYX4Mx2SZ8jGmR7H0G3l61UdDZI7Ag6ZFzHS/lK+LF4OOHZPgnLbeQSaL8pLSCBuUzgul8NiHFkM8cjhqQ1wJrn6kG8ij8X03hIH7OXERsf6JcLHr5LNiOkoIo2ySTRtjd5ri4UdL0PFBtItTE9JwQ5NrMxmfzMzgM27dz3jvUPi/K+GLHDDENybnzbSgw62CK32AN/FB0aKO6dx7sPg5Z4w0uY2xmBIOo30RzUf0R5UQvwsMmKmhimkzdW6FB7mg0SaHV4lB0KLBisbFCzaSyNYz0nEALFg+k4MQ1xgmZJl35TdesINtVXO9AdLOGHkkxuLw8gElB7HDK0EaAkAdvapH49wedsfwmLO+i0Zxrm1b32O9BIrn/Lr9mTfzR/8AI1SmO6Vw+GyieZkZduDjRPsUB5Z9J4eTATRMmjdJ9GcrXAms7Tdcq1QedhFVrSSAASTuHE3uVSwgkEGxv03KC1FcGnke5C0jeCNL3cEFqKpBG/T/AL1CogIiICIiDYwZ6x1rRbQkF/WDvC1sF5x9XJbdDke4oLdq0f8AsHeFozG3Eg361v5+w+6VHyecVILERFoEREBERAWfA/Xw/es/MFgWfA/Xw/es/MEHtCIiCi8w8meh5cXLiRFin4bIReQO61l9XTm7qPPevT1pdHdEYfCl5gjyGSs3Wcbq63ntKDhuhsJJh+m3xGQzSMY76R124mMEXZPMDfwWp0DHg3YDGuxRZ8JolpeeveXQtvUkuu/xXojeh8OMScUI/pzvfmdyDd11uA4LVxXktgZpTLJhwXk2SHOaCeZAIBQcLJh5H9BxTa3BiHZCeDHUDXZnruWSTEF+JPSosMGMjZu/cyU491D2r0SXo+F8Bw7o27EjLkGgobgK3LXHQOFGHOGEQ2BdmLMzt93d3fDmggv/AMfQlzMVinCnTSnuFuP4uI9ijfLDDRDpbCZmtDJDGZb3OG0ol3sFepdzgcFHh4xFC3JG26Fk7zZ1PrWv0p0LhsYG/CIg/LuNkEXvFgjTsQcd0myE9Nwx4jKMK2NojB8zLkOUcqzX3BZPJvI3pzENwpHwfI7zT1a6u7/VdLq8Z0DhZ4o4pYQ5kbQ1mpBaAKoOBvgOKydGdEYfCNLcPEGA7zqSfW46lBy/ltEH4/o1jhbXPyuHMGRgIUJDDM+RnQ7rysxRcXfYAv8ApbvWQvRMZ0VBPJFLLHmfEbYbIymweB11A3q5vRsIxBxIjG3LcpfrdacN3AaoOI8nejhiIOlYAALf1OwtLyz8QFFx4h2Mw/R+A1sSvDxxAvQ+xrn9y9BPRgw0U7sDGxs8hzdcuLXOvjr2ncobyZ8l5oMU/F4ox7Q5i1se4F56x3abyAO1BreUmG6PlxgjdO/CYljQM9UygLbZNbt1gjktfoDpHEQ9JMwoxfwyB1268w80mwSTVUOJGq6/pPoXDYutvEHkbnWQ4dmYEGlTozoPC4QkwRBjjoXWXOrlmJJrsQcx5X/tbo7+aP8A5QuxkxkTJGxvlY2R3msLgHO9Q3lYMX0Rh55Y5pY80kRBY7M4VRzDQGt60cR0K+TpWLFks2UUWUNs5s3W1qqqnc0EX5eRbN+CxY/9UwB7w4flPeoCHEOgnZ0mSSyXEYgeyuoP6+6F6Nj8BFiYzFMzOwkGrI1Go1C1pOgcK/Dsw7oQYWHM1tu0Out3fE96DgHYTZ9AiQ+dNiQ6+wW0f0J9qy+UUEbWdEvLWjPCzaE8QBGOt2AErvZuhsNJh2Yd8QMLKyss6Vu1u1bjOg8LPDHDLEHRxgBgsgtAFaOBvgOKDkfKnCxO6Q6OhYG7F2RtN3ZTJRArstH4NmG8oIWQNEbS28o3WWPv2aBdYPJ/CXAdlrAAIjmd1aNjjrrzWWTojDuxLcS6O52ig+zpoRuuuJQee+TzMI+HHOxxbt6JBkNOsg2W3+9m5a7ua1JTIehGZryjFkM5Vszddma/ba9Exvkxgp5DLLAC8myQ5zbPMhpAK25ui8PJB8HdE0wgUGAUBXKtx7Qg4Tyv6RhmbgBDKyQtHWDSDlvJQPI6HRZumMLhx09EyRkYieA6QOoNc5wfq7tJr8F07fJTABrW/BxTTmHWddmt5uzuG9Z+lOgMLi3B2IiD3AUDmc01yJaRYQYPK6vizEVuyD+oXC7PA/E+Ylnw3Puzdfz92X0cns9q9NxWDjmidDI3NG4UW2dR6xqox/kngHZLw46mg6zud669bU8bQcJ0gZXM6LbJk2eyGTa3kvOR164Zdn7CpXojBuj6Ua7a4Jrsjg+LDF9EZTwy0NaO8bl2mO6LgxEYimia5g3Ddl4dUjUexYejegcLhM2whDC4UTZJrlZJNdiDzfB/sXEf/wBMf5Qtvyh6Mhi6KwM0bA2WRrc7hvdmjzG/au5Z5NYNsLoBCNk5weW5nakbjd2suK6Ew00McEkWaKOsjczhVDKNQb3IOKx2yd0234cRsSxlZzTa2YqzyzZvaobH7FuLxXwYgwgdSjYrMy6PK7pdv5RdDYmWWN8MeGniaK2czdW+p2+uO/vXPdLeT88UGJxmIETHOyNbHF5rbeweygAK1Qc+MXJbDm+r83QaeKyjpGUBoBDQ0ggAVu3XzHClqBFBvfG8/F97t/Z/nBY5ukJXtc1zra6r4XRsf1WqiC98hdlv90ZR6uF99eoBWIiAiIgIiINnBGnH1f3W5nriO8LRwo1Pq5WtgsbxNf6VOBe6YH95vetGY9Y7vYth8bB+/wDgtV9XpqOaC1ERaBERAREQFnwP18P3rPzBYFnwP18P3rPzBB7QiIgotePpCBzg1s0TnHcA9pJ9QtbB3LkvJgAxQguwovNv+u3u3G9/LsQdcqOcACSaA3lcrB0jiCRFmc6TDMmdL9st0jB9e/2KyDHSfQf+SZtvDIZWmjkIYToAOrrog6uKRr2hzHBzTqCDYPqKvXHQ4+TDYeBwcckmFLWN4CUbu+/wV2JxWJbI+IzOa6GJhBzsaHOLbc52bzhelDkg69FCdK4qUYfCOa/Zvklia4tojrDWuYUVi8RiImYpwxMh+DStDby9YOq82mu9B2Cslkaxpc8hrQLJJoD1lcp0r0tI2SV8c0n0cgYGksDOFtyec7jqr8S6SSHpFz5nlkbpGNZpVUN/H1IOpa4EAg2DqCOKt2zM+zzDPWbLetbrrkuSb0pMMPM7OY5GCNjY60Yx1fSfaJv2K2fFOgxE74p9u5mE0ecpIt7d5Ghq7Qdmi5N+JmBkihxTprwxlDtCWuB4EDceXasU3TU7s72PIZO3JB9l4yAn/c73UHYqi5XGTYj/AM5zcTI34PkLAKo9XW7CkOmsY8Q4apNkJXta+QfugizRO71oJdk7HOc1rgXMrMAdW3uscFkXFfC3xSYsxz5g6WCN02mjSHAu00sbrWxN0nNEMRGycvjY+JomdRLA/wA7UCjX4Wg61Fy+JxboRTMYZWtniBJq2NdeYOfuIP4LHjulJDJi9lMcrZMO1haQQ3NYdXt/og6xFyOLlxEYxtYqX/xixzLDetnAJDtNR2JjeksQZZyJdmYsmQZ2NbqAbcHauu0HXKli6vVcpi8TiCMbIMQ9mwLC1jaqy0Eg2NQroyRjcTJtsjzh2vGYjLZad+nmt3oOqRc50DjJDOI5JZHOdFnouY9p11c1zdw+yQtTpTpWRssr45pPo5QwNJYGaEZm5POdx1QdcrJZWsaXPcGtGpJNAesrlMbi8QI8ZO3EPGwxGVrNMpFt0Olka7lj6XxTpGY7PiCzI7Zsh0pzdNa3knffCuSDsQbFjcqqE6WmkbFgxHIYy+WNhIrcQeajZsdPFtYTO7KMTHHtXVmYx7STrVe1B1hIG/RFxfSkz34fFRmZ0scMsWV5I62ara4ga0dfWtjH4yYTSRsncGwxNLHGSNofYvO+x1hemiDqWzML3MDgXtrM0HUXusLIuOfKTiMQ52I2DzBG85SOs4M3AneLO4b7CyN6RlmyiXEHD1hmygihncb113jTcg6xc55dTN+L5WZhn+jdlvWto0XXJa8fSMs5iEs5w4+DCW20M7rIuzwoXSg/KLFyTQRySDrPwzcx3abYU6u2h7yDmAiBFARLRAREQEVVRAREQbGDBzGgDpx9a3HMdyb3FaWG84+pZ3lpG4n2HwUGbI77HcVHz3mN1fZuWUuHCN3t0WB5snSuxBaiItAiIgIiICz4H6+H71n5gsCz4H6+H71n5gg9oREQUWvHgIGuDmwxtcNxDGgj20tlEGNsLGuc4NaHO84gCzW6zxVkeDiYXFsTGl3nENAv181nRBhOFjLWt2bMrTbRlFN9Q4Kk+EikIMkbHkbi5oNeq1nRBZJE11Zmh1EEWLojcR2qx2FjIcDGwh5t1tHWI3E81mRBrvwMLnFzooy47yWAk+sq/wCDx04ZG0824ZR1id5PNZUQYThYybMbCcuXzR5vo+rsVIsHEzzImN0y9VoGm+vUs6IMMGEijvZxsZe/K0C/XSDCRANAjZTDbRlFNPMcisyIMRw0ZzWxhz+f1R1v5uarJAx7cjmtcz0SAR3LIiDA3BxAOAiYA4AOAaKIG4Hmqx4SNrCxsbAw72hoAPrCzIg124KEMMYiYIzvblFH2IMDCBQijANaZB+75vDhwWwqIMbsNGc1sYc9ZraOtW6+atkwcTnBzomOc3cS0Ej1FZ0QYjhozmtjDn87qjrevmqHCx5g/ZszNFB2UWByB5LMiDBBhIoyTHGxhO/K0C/XSo/AwucXOijLjvJYCT6ythEGE4WMhzTGwhxtwyinHmRxKpJg4nuLnRMc4iiS0EkcrWdEGN8LHZczWnKQW2BoRuI5K12GjOYGNhD/ADraOt6+azIgwNwkQYYxGwRne0NFH2KjsBC4NBijIYKbbAco5DkthEGvLgoXkl8UbiasuaDdblWbCRSVnjY/LuzNBr1Ws6IMM2EikAEkbHhu7M0GvVagvLeNg6OmfkbmGRodQsDO3S+S6NQnlhI9uAkMfn5owPbI0IPNoMblDWujY8Nqg4faJPDjYHsHqV+AxZYXRmMPEjm5hQs0dwHC7VJIZswkcwNIO+wLOfeddTZA9VetbD58SaFtNkOAG8ZX5Rp/MDoVBgkxzpGGNra0AOU6AB2gyjQCzXir39KhzQHQxktDQ0ngG9la3SvgxuJcCGNBDSzcBQLSMvHsHcqv+FGJ0TozlIY0cMoB6o/Ab93tQY2dJtA1gjJytaTp1stUTpv0HZ+FYMRjWPblbDHHpqW7ybBvXdxFbtVkdi5Y5InOADmR0z+UggHQ9pW5FjMaQ0tF6aEBu4i992LFHhw7EGg3FdRxLLb9GDfmjI1zRenG79YKtkkymtmAa4jXVv8Ae77ltQvxTXNNbqIDyAOqxzRoTyzac1qvhlc9rMnXytoDeQG6fgrLYLGTACsgI36+pXOxAOmQVrpw1FKkuEkY3M9tDNl3jfRP9isCbUbkcueRzrI6oGpB3ADUn1LI7tkIvtatKOQtNhZDiXEUQ3uWRkv/AOT/AHDwWvKesdb7btUJ7AqKiiIioIiICIiAs+B+vh+9Z+YLAs+B+vh+9Z+YIPaEVFVBRFR7qBNE0LobyuVwcONgzPMRG2dHM8McXkHaDagggUSxwFC/M0KDqya1O5FyeNw2KlbI5zZTnw+LY1um8v8AogQPs8ewLbnGLa+Ruacwh7srmBpebiYW8PNz5+G+r0QdCi55rcbs3vkfIH54xlY0FtbNhkqutWfMLFkclI9GulLPpdqHbJltflIDqN05oFnnw3UAgkLRc9gsJLC1vUyDJHmMLKNa5rGtuBr2E1ruzufiwAWh7qGeiG24WWhh5HKWu9YKCaRQrjic7mgyUGkZqG8FtOGla9Y8e1bGIhlMErOs6pBV1b4wWlzeF2MwQSQNoSokgN1hjliiLutkZRJy6EMO4XvNamuCwTtxD4ZWSCUyOiIDWhuQ3FrZ5577brggnUULK7FaC3B3WshtjNYqtPNrddcbNquGwrxI0P2uXPODqdz3WzUcK48CgmbRRDQ1mHdEYS9zHFwjo1TpXZL7NL46Dct/o6LJCxovQcWlvHg07hyHKkGyiIgIiICIiAiIgIiICIiAiIgIiICIiAoDy3cR0bKQSDmj1B/+Rqn1z/lz+zJv5o/+RqDzT4Q/03+8ew/2HcFUYiQGw94J45jzzf1JPr1WIIoMrMTI0ENe5uY2aJFkXvPtKufi5XedI87hq48NywIgyGZxblLiW6aE7st0ByAzHTtV0WKkZ5sj2+px5Zf6aLCiDKcRJYJe+xuOY6erkgneHBwe8OAoEONgcgeSxIgyOmeRlL3Ft3RcSL11rnqde0rGiICIiAqqiqgoiIqCIiAiIgLPgfr4fvWfmCwLPgfr4fvWfmCD2dVVEQVVFR7qBOpoXoLPsC5AYTFOhmZJHIBiQyUhpL6cZBtGOttN6rmjL9g9qDsLRcliOj5WuxBax7887wCYwTkGEcGlpDbAzHKK9XE3XET4uFkghilDi5zm5ItHFsUWUOphLrObUkXRGbQBB1louXnbimvkMbZJJGzSuZtIwQLhdkyuy6C6Gh7Dv1zRSYqSmtkxAjzOqR0LWvIEd6gs0GfcS0Xu13oOiRc5BjMXtW7TbZXQ5jliNRnZAnQs6xzXoHXZrLWqk+kYi+OFwzlzZIjpY02jcxLR2Xv3aoJBFAYRsjI5DGypr0HwdzSTn3PkOhB4kbhqsjcRi84rMTlsBzCA7qWc1NoHNY87gNDdkJtFEsxUjQDc72mwc0JDs2UVoGg1d61XatfaYhok+uzOe0+boBsm7uo794Ebt41q9QnkXPxGcmSxKHSEFzdn1CDA3MbrQ5hVXvFUtvBST7cNdmDANxaaqhRBy1d/aPHTkErSqubLJmyvfEwmTPMQNk5t6OyF0hOVzby03tHJbRnm9KfZWafsvpLyihlyebd61wQTKqoJj8S0y5g5mYZgWtLuvkZmsUdN9Ve479AZHo7EF7A1+YSAWQ4a1mcGnzRvo8AexBtoovoprdpK5jHxg0AHMeC6ieu4uGrjfaaAvkNbDAsiBEcoxTWfSvEbus4Vn1Oj71qr7EE8iimunle7K+SNnXykx1rTA28wveXGuK158TiiGuAezPmIblJykZQ1rqa7QkOPDfvCCdRQj5MULdchBdJYyDqNbKA0tFanJmIu7Vkj8RmD2mU1HKGWyr1YWl4y6HzqsC8o56hPItLot8joyZCT1jlzAg1Q321vG+A4etbqAiIgIiICIiAiIgLn/Lr9mTfzR/8AI1dAuf8ALn9mTfzR/wDI1B5gEVcp5HuVRG7flNernuUFqK4NPI9yZDpodd2m/wBSC1FUhVbG4mgCT2D/ADkgtRX7J1gZTZqhRs2LHeFaGk7gUFEV2U8j3e1UIQUREQEREBERUEREBERAWfA/Xw/es/MFgWfA/Xw/es/MEHs6IqoCorZvMdW+iuajxcpwmDEcT34iJgzCWJ4IeMPJXWcBvcALB49qDqFRc3Pj8SI2mN8rmknM90DmuByWG0GGxd/u8Ku1f8KxubMbA2hZlERLQPg+fPuzGpNPw3oOhVVyjuksbs21nGrwZDGTbg1hYABHZaSX/uA9WrvfNPkldBPRJkAIaGsLS05AaaXedqTR3a1wQSCKGeI6+iE2yzM2op4Fa7gdbvLmrhvW5hCQAIWEx5j9Y5zSBp5gIJI31ddmiDdVVzvR8MjgB12nYh15XjLI0gjNm0cTru4A3vCmej2ERNL7zv67r5nUiuAG6uxBsIqogIiICIiAqULviqogIiICIiAiIgIiICIiAiIgIiICIiAoXyuMnwCTZefmjrd6beamlCeWDHO6PlDXZTbNSa/fbxQefYTHYnKRFlppANUfOsDUnXdv9vaj8Tig9rXDrOcC0E8Q7nfMcTzVsWCmu2yhpJ324Wczm6GtdxPt42kUEj5Hh02V8T6slx1LiHEe0fioKxDEsMjWsAc8jMOqCCbIAF6cT6he5Xl2JdK2UszOaMvIDNmbR3a2T+CtlgxDZWRma3SbiHkjQnee9VbgZ82TajeP3nVZs76rgdeZrfogvklxb2gU2yG1RbqOuRQvUGnEn7I5K12JxRLIyG5i0OFho0aSesf9PHVGYLEWz6bSmAUXGgSQ2hW4a9/JWvwUuaNzpHX1A09a25g4ga7qIr/UguE2Kw7AcoDGkUd483KOOugA7KHPWzDR4ljMjI+q5x4CyaIIu73AoMHK9rQZfOynK/NpmaXXurgR61bhxK9mczlrASLJcSKaTu9Vj2lBkgxOIe2xlyW7V2gsMOawTr1QTVV/RaE87pHZ3byB+ApWtlcG5Q4ht3V6WRR09WisQEREBVAs0N5VFdG7K4O5EHuSC0oqk6qioIiICIiAs+B+vh+9Z+YLAs+B+vh+9Z+YIPZ1VUVUBUVUQURVRBRFVEFEVUQUVURAREQEREBERAREQEREBERAREQEREBERAREQEREBERAUF5Zsa7o+UOdlBczWrrrtU6oPyyLB0fLtA4tzMsN3+e1B5vFFDtHjOQ0EZHD+Ya9ytkij2jW7QkEnM8jd1iL7tfaqNdD9LYfr9Vu01/e18VswHCU0PEmam2Ruv8Ae43zGn/agR4LDV1sRRoaZb9Y/srTg8OCBtw4WP3a0Jo3y01Vs8mGr6OOTh5zgOd1v183nxVY5MKB1o5SaFajfxvXXXlWnDmCLBwUC+YA9WwAOPna9nPs7Qr8PgYHmNpmDS4WdAQDxBN6f9LFtcPnBEb8tsvnQvPpmok9Xs3+2xjoRI0lrzGG9YbiXVv37r9SC/AYeF7c0k2ydZFZb0y77/BZJcLhg1pE5caNgNHIkVrpegrhxV7JcENDHMRx1F9mubTt/stWN8W0aXtdkygODQAcwaASNeevDegx4hjGupji5vMiuJH9r9qxLPtIy+yzq5KoelkrNvF9bXfuWXGSYdwOyje1xfep0Da3AWdUGmiIgKqoiAiIqCIiAiIgLPgfr4fvWfmCwLPgfr4fvWfmCD2dVREFFEnp+PJM/K6ontab0zNc/JnH2bDvXlUq8WCAaJG8cO1RHybhDA1j5GUxrCQQS7I5r2uNg6gg+8UG0OmcOctPNuJFZH2MpAOZtW0CxqaGo5rHB07A/TrtJkdGA6N1uLDRI03a7+HGqNYZPJ5j/OlkLi8vc+mZiTlFh2W2aNA6taLYg6IayTOJHnrSOANabUguogXvFj1oK/HWHonOdCBlyPzEmyMrKtwOV1EAg0eSuwnSsU0z4o8xLWNfmynI4P3U7cf85GtHD+TTIyHNmkEgyEPplgsD22erTiRI6ybJUhhsBs5TJtHuLo2sdmrrZLpxob9T2a7kG4iIgIiICIiAiIgIiICIiAiIgIiICIiAiIgIiICIiAiIgIiIC5/y6/Zk380f/I1dAuf8uv2ZN/NH/wAjUHmACrSoqqBSUiIFJSIgUlIiBSUiIFJSBXyBtnKTVcv+0FlJSrpXG1V2Wm0TfH+1ILERFQREQEREBZ8D9fD96z8wWBZ8D9fD96z8wQe0IiICIqIKoiICIiAiIgIiICIiAioqoCIiAiIgIiICIiAiIgIqIgqiIgIiICIqIKoqIgquf8uv2ZN/NH/yNXQLn/Lr9mTfzR/8jUHmARAigIiICIiAr4yLoi1Ys0UYLXE8Aa140g2mRxZRdA/jv5epXtgw/GQj/TuWo2YBmU2dN3Dff+aJNMxwpsQaednmgrlHIJkHILWRBs5RyCZW8gtZVUFCiItAiIgIiICz4H6+H71n5gsCz4H6+H71n5gg9oREQWvbYIO4ilAQjEOLc20+kIidvAGxIJPYHVKL421dAiCK6NxE72SGX0AaynquIOZurQK3aanmdQteZ+J2RyueLDmBrWAZfocwINXeYV7a3qdRBDiabU7STZ5mNzbMWGmNri+su/NpuoWdNNMcmImfkD8468RDRGeuNqLc411dADWlXrvU4iCGZjpnNYDnacjNq4RnqOJIdWlHUDmBdq5mLn2rBZydXzmObnBvM4jKaIrmO0ahS6EXodyCO6TxbhEx0Rd1tQ4NvhYB6p3+ruVuNxMrWwubmFi3Nawkk6aDQjidLBPPQqTArciCClnxDhJbnNAdZytNtAlAFdTUFtk6m+Gi2+ksRKw/Rl2jCWAMvaP4Mca0G7lv36FSSIIuESRwTvGYvMrzZbZrPVgAW6m6gLWlxswOUSPoNkLHbK3SFuTLYA3W5w0AvSqU6qZRd0Lqr41/gCCGOLxJe8eadRlyk5dQGkdWjYPpHs3FbsD5gS2g8NeQXuOU1QIIAbTt55bluoghIcZMWAPe8a9aRsV11bAALbGvMWN1km1R/SGIDaLXCS7oRkgD4OXb6/iaevRTiIIozTNeWl73OA6rdnpJYJNuA01036ULu1f0Xi3u0ldZcRltpBurcNWt3fhuJtSSoWiwaFjceSCLnxMwdLRdmbeVmyJGUAEOBG8689d1WsMmJxFPyPeWsbI5jjGLkyiMtBFcy8aAXWnNTaIIWebEtMjWvcdm2RwOzBzlojLQaFV1njSia5hMTjJ4hMOu/KyTI7Z2XODWFnmiv3nD2dimkQQ8kk5uyXNL3jKWCgGygNI0vdzVsU8zA1mZ7i+WSO3t1aQ8kHduyBx5aCt6mlaY2lwcWjMLANai99FBo4meYZcw2bS4jNHchqiRYy6WfXy4haWA2xgiDi4Zdi0NLBpbGFzjYuwb/FTqIISTG4ktDqLNS0nKdHNGumUmi7MN2oaK3raglm2jS4nK55aW5dGgNuwaveK15qRRBDPmlY6QGSUN2jjm2eauqCxoFbjr3VvKx4vETujkBDg4seDGGGmjZE5g6rJzUN/ZVi1Oogj8HPIZ5GOJLda6tNbRAA1AN68yDVity0onzRNoF9klw+jB2ri8ghxA0FZddN97gp1EEZK2R+ElzPfmfmAoZS0ZqGWtd2trnfK50r8K9z8wDGiMiiGlwkjt9cjw9R5rtVAeXX7Mm/mj/wCRqDzBERQEREBERAWUfV/6v7FbOFkwoZU0T3P5tcaPszClJ4TC4WWJzhE9jAdXPc4DQa0cx3KxK59UUpBgImsM0zjsy4hg4uHAn1hXx4XC4gFsOaOQCwHEm+8n8FFRCLewHR+0c8yHIyO857RvC2WtwL3ZAHtJ0DyTX4n+oQRCqpbC9EjbvilsgMzNINcaB/qqxwYJ7tk3OH7g+zRPZrX4IIdFMS4bCQERy53v4kWAL7AfFafSWCELhlOZjxbT/ZUaaIiAiIgLPgfr4fvWfmCwLPgfr4fvWfmCD2hFRVQWSuIa4tFkAkDmeAUSMe/K36YZT5z9kRlOW8tev2jdvIUwiCGixWJeRZEdvDcuzPVuASE2T6Vj/tIcXiZKNhgc4Ctnu+hEl6n0rH/amUQQkvSsojNAbSicuU7tgXj/AHafgrpsVMx7gacWEgOynQERkmgdazO7lMoghpukXtyBj89uGuzoOBeGmtdaF6gVx3KxmKkaNXWQXNc8tPUG1rd2Du37lOIgh48bO6zYytyfuHrgyuZe/TqgH23uW3jsR1GPj6wzaHXg139wt1UYwNAa0AACgBwQRJxkzaa97Wg5SZMm62k1V8xvPq30Vhk6Qki2zt9te5tsdq8RxFoDd4u3dXfoVOqqCBxeKkc51nVu1+jDToADkJIOtjX26blklxuIbro4OMg0YeoGzNYDV9bqOJrjl0UyrZI2vaWuAc07wRYQRzca/wCDveTZEmUHJWmYAEgnTfv9tcFT4dJ8Hje4hrnSFhcWk6BzhdeoA3u47lIwxNY3Kxoa3kBz1KucwGrANGx2FBDM6QmOWyAbaGjIfpQZHNLhy6oa7suzorfjLE0ajBdlcQMjtTG0h/8Avy1zF0pxEEVhMTNI9rc7cvXOYNuw3JQvdvc7dy52sGDxkkcUTHElzmQEW02S99Sdwr1KcRBEOxT48JAQSHuaLJF6ht0bO8n1krHN0jK5mRukjidA02BsC8Ef6qF+xTaIII4qZjZZWOzgVQLfO+hBu+GoH4+zUj6XxjmxEbJzZHb2sdmFBxILb01b/VdLPHnY5l1maRfKxS0R0a/Ll2raqgNnu0IsdbfqUELD0rjWxlxjY1sQaC1zHCyQ0EWTvBcPxUr0VjZJg4OdrsY33sy2nPzXod4FCv7rJJ0Y9zS0yN1FXszdWDXndi2sFg2QMDGNaKABIFXQpBF4aeaOAW402OLe2zmeesXEnh+G83uSHHYl+thoGQfVnXNM+Mnf6LWn/pTiIIZmPn2jWHKOsBq0jP8ASOa4jtDWg6c9dFYOksSQaZrlcR1HamNpD/8AflA5i6U4iCJjxUr35Q8OZ1uuGecA1hocN7iLHLmFTDTyvwcl5mytj6oqyOp1Tf7xO/8ADeFLoghmYiVrnva4vZnArJdjZA23XnWnr56Uw2Mle9mZ/VEuWw3RwMdgE7t9jT+qmkQROMx0rJZANQGktaGknRt27jvvUWNw3qD8sse5+GlYCNkXDKcp6waYSKPre7Xspdkue8umD4uldQzAsAPEAyMsX7B3BB5kEVAqqAiKqCiKqog3+jOjjMcztIm+cefYFn6Rxm1Zs4hUTDuAqwBv9S1cH0nLC3KzKRd04XXq1C3WdPy5Dezu9OqeXr3KopjozNhcO+MFwY3K4DhoBdez8Vg6Gwz3TseAQ1hsk+o6LEzpKVsjpGkNLjbmgdUmquirsT0tNI3KXANO8NFX7VFSAeJ4sUyPzs+YfaGn9cpUMzCyPdkDHZjpRBFevkqQzOjcHMJa4cQt53Tk5FW0dobr4IJljx8JyXZZDqfWR/ntXM9H/Ww/zs/qFdh8Y+NznNPWcKJOp14+tYo3FpBboWkEdlbkG10z/wDtS+tv5GrZ6V//AF8J/J/9WqOxEzpJHPdWZ1XW7QAf2V02Ke9jGOqoxTdNa7e5UYUREBFqfCXcgnwl3IINtZ8D9fD96z8wUb8JdyCq3FuBBFAg2DyKD3hF5W3/APIWOAAqE9pYdfxVfnDx3owe4f1IPUZHZWk8gTuv8FDYXpOaWg1zLJ84tBFZM25ryN/auH+cPHejB7h/Unzh470YfcP6kHcR9IvklgBc1tvFxgHNRhLrJvdfZWg1tXYnpB8b5QHMbTnEZ8xzkMYQwa6E2dB3b1wvzh470YfcP6lazy/xjbysgFmz1DqTx85B3z+lX6tBYJQZAWkXlpwDLF8QQe1JsfNG5xcWOY15YajNmodpm87npX4rg/nDx3owe4f1J84eO9GH3D+pB2kfSkjyXZmdQPFkgNOkJs04jTOeNdo1W47pI/BmS3Rc7LZaK3kcX5eG/NR0q7C8/wDnDx3ow+4f1J84eO9GD3D+pB256QmfCZM7IwBET1N2YtLiTm0FE+KyQ4920yZmMGd1ZszjIdq9pa3XSgBuvzhoAFwnzh470YfcP6k+cPHejB7h/Ug7bC9JSgxM0PUb59W+22XXmvQ8mncVu9F4/at67ml10MtUaAJohxvf4heefOHjvRg9w/qT5w8d6MHuH9SD1NF5Z84eO9GD3D+pPnDx3owe4f1IPVEXlfzh470YPcP6k+cPHejB7h/Ug9UReV/OHjvRg9w/qT5w8d6MHuH9SD1RF5X84eO9GD3D+pPnDx3owe4f1IPVEXlfzh470YPcP6k+cPHejB7h/Ug9UReV/OHjvRg9w/qT5w8d6MHuH9SD1NF5Z84eO9GD3D+pPnDx3owe4f1IPU1VeV/OHjvRg9w/qT5w8d6MHuH9SD1RF5X84eO9GD3D+pPnDx3owe4f1IPVEXlfzh470YPcP6k+cPHejB7h/Ug9UReV/OHjvRg9w/qT5w8d6MHuH9SD1RQPlrGX9HSgb7Z+D2lcT84eO9GD3D+pafSnlli8VFspNmGEgkNaRdbrs80GB2Dc0gEUSAR2g7klwjmVm0sWFonpGQ1dGt134o7pGQmzRPM2VBJnoqbdkd3esf2KfFc38N/saVH/ABvP6Z7z4qvxxP6Z953ig22YJ7nFoHWF2OVb1k+LJc2XKS4VoNd+7+ijR0lIDYNE8db1362rj0vPvznvPig24sI55pupV8eAkcLaLsE6dmh09qj29JSN3UPUrmdLTNNh1HmL53z5oN2TASMFuBaLrUUqR4J7iA0WSaHatJ/SkrvON+uz/dW/GMmm7Tdv0QSg6KmP7ju7+nNYZMI5hpwLTyIorUHS0w3Or1E+KsPSUhNmieZu/wCqDfmwbmGnHXf/AJ3KsuCcwNJLete42RRogjgo89IyHfRVX9JyurMboULvRBlRanwp3IJ8JdyCo20Wp8JdyCfCXcggwoiICIiAiIgIiICIiAiIgIiICIiAiIgIiICIiAiIgIiICIiAiIgIiICIiAiIgIiICIiAiIgIiICIiAiIgIiICIiAiIgIiICIiAiIgIiICIiAiIgIiICIiAiIgIiICIiAiIgIiICIiAiIgIiICIiAiIgIiICIiAiIgIiICIiAiIgIiICIiAiIgIiICIiAiIgIiICIiAiIgIiICIiAiIgIiICIiAiIgIiICIiAiIgIiICIiAiIgIiICIiAiIgIiICIiAiIgIiICIiAiIgIiICIiAiIgIiICIiAiIgIiICIiAiIg//Z",
        "text/html": "\n        <iframe\n            width=\"400\"\n            height=\"300\"\n            src=\"https://www.youtube.com/embed/NxSNVt9XsCI\"\n            frameborder=\"0\"\n            allowfullscreen\n            \n        ></iframe>\n        ",
        "text/plain": "<IPython.lib.display.YouTubeVideo at 0x7f9a8522e200>"
       },
       "metadata": {},
       "status": "ok"
      }
     }
    ]
   },
   "source": [
    "This {eval}`YouTubeVideo('NxSNVt9XsCI')` is a tutorial on how to use MyST for writing scientific documents."
   ]
  },
  {
   "cell_type": "code",
   "execution_count": 19,
   "id": "600e74dc-6c54-4cb4-91c3-0e5107fcf589",
   "metadata": {
    "tags": []
   },
   "outputs": [],
   "source": [
    "from IPython.display import Image, HTML\n",
    "\n",
    "i = Image(url='https://source.unsplash.com/random/400x50?sunset')"
   ]
  },
  {
   "cell_type": "markdown",
   "id": "edafa8a3-8dcd-4db3-a4cf-90c6aaf461bb",
   "metadata": {
    "user_expressions": [
     {
      "expression": "i",
      "result": {
       "data": {
        "text/html": "<img src=\"https://source.unsplash.com/random/400x50?sunset\"/>",
        "text/plain": "<IPython.core.display.Image object>"
       },
       "metadata": {},
       "status": "ok"
      }
     }
    ]
   },
   "source": [
    "This should be an inline image of a sunset: {eval}`i`"
   ]
  },
  {
   "cell_type": "code",
   "execution_count": 20,
   "id": "7a29588f-afb7-4e2b-99fb-132c6ab04372",
   "metadata": {
    "tags": []
   },
   "outputs": [],
   "source": [
    "import numpy as np\n",
    "import matplotlib.pyplot as plt\n",
    "\n",
    "def spark(data):\n",
    "    \"\"\"A very simple sparkline.\n",
    "    \"\"\"\n",
    "    fig, ax = plt.subplots(figsize=(10,2))\n",
    "    ax.plot(data, 'b-')\n",
    "    ax.axhline(c='grey', alpha=0.5);\n",
    "    ax.axis('off')\n",
    "    fig.tight_layout()\n",
    "    plt.close(fig)\n",
    "    return fig, ax\n",
    "\n",
    "# Step 1: Predict the stock market, with surprising accuracy:\n",
    "data = np.cumsum(np.random.rand(1000)-0.5)\n",
    "data -= np.mean(data)\n",
    "\n",
    "stocks, ax1 = spark(data)\n",
    "annotated, ax2 = spark(data)\n",
    "ax2.axvspan(450, 560, color='red', alpha=0.5)\n",
    "ax2.axvspan(680, 740, color='green', alpha=0.5);"
   ]
  },
  {
   "cell_type": "markdown",
   "id": "60a959ef-e31b-4383-9865-982e574debd3",
   "metadata": {
    "user_expressions": [
     {
      "expression": "stocks",
      "result": {
       "data": {
        "image/png": "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",
        "text/plain": "<Figure size 1000x200 with 1 Axes>"
       },
       "metadata": {},
       "status": "ok"
      }
     },
     {
      "expression": "annotated",
      "result": {
       "data": {
        "image/png": "iVBORw0KGgoAAAANSUhEUgAAA90AAAC+CAYAAAAoRmzvAAAAOXRFWHRTb2Z0d2FyZQBNYXRwbG90bGliIHZlcnNpb24zLjcuMSwgaHR0cHM6Ly9tYXRwbG90bGliLm9yZy/bCgiHAAAACXBIWXMAAA9hAAAPYQGoP6dpAABT6ElEQVR4nO3dd3iT1dsH8G+6KRsKLausAmUUStmykSGIiiKIgqIMRZwIDhRURJwvCgriAEQE+clWGQKyKbO0lD3KKKtQRhmddOT94+b0ydMkbTrSdHw/18X1zCSnpWlzn3Of+xiMRqMRRERERERERJTnnBzdACIiIiIiIqKiikE3ERERERERkZ0w6CYiIiIiIiKyEwbdRERERERERHbCoJuIiIiIiIjIThh0ExEREREREdkJg24iIiIiIiIiO2HQTURERERERGQnDLqJiIiIiIiI7MTF0Q0gIiJyqNu3gcmTgevXHd2S4s3LC5g4EShb1tEtIStuJ97G5G2TcT2+aL1XvDy9MLHTRJT14M8eEdkHg24iIire4uMl4C5RAvD0dHRriif1fxAfz6C7AItPjsf1+Oso4VICnq5F472ivqb45HgG3URkNwy6iYiIAAm4S5d2dCuKr4QER7eAbOTp6onS7kXnvZKQwp89IrIvzukmIiIiIiIishMG3URERERERER2wqCbiIiIiIiIyE4YdBMREREREWXBaAR27gROnnR0S6iwYdBNRERERESUhcWLgfbtgQYNgGnTHN0aKkwYdBMREREREVkxcybwzDPAoEHauS++ABITHdcmKlwYdBMREREREVkQGQm8+iqwaJH+/NWrwPjxknJOlBUG3URERERERPdt3Ai0agXs3g3895/+mqsr8Pvvsj9tGvDPP/rrO3YAAwZw3jfpuTi6AURERERERAXFiBHAuXNAu3YSQAPAG28ASUlA797Ao48C+/dL0P3LLxKgf/ghUKUKMHmy3F++PPDNN0CpUvrnNhqBS5eAatUAgyE/vypyJI50ExERERGRQ929C1y+7OhWSDvOndOOlyyRbf/+wKxZEnADwEsvyXbVKqBqVWD2bC3gBiQY9/YGTpzQzhmNwHPPATVqAH/9Zdcvo9D54AOgVy8gPt7RLbEPBt1ERERERORQvXsDfn7AoUOObUfGdHJARrDbtdOf8/cHHn888+eKjwdmzNCO584FFiyQ/fwKuo1GYNs2SXcfPx4YPRqIi8uf17ZVUhLw2WfA+vXA8uWObo19MOgmIiIiIiKHuXkTCA4GEhKApk2BCROyfszu3UCLFrJudl4KDpZtv37auYEDARcLk3IXL5Y53X/9BdSvb/n5ZsyQQmxGoz4Aj4jIfVuXLwc2bMj8ngULgM6dZZmzL76Q0fo//sj9a+eVH34APDy042PHHNcWe+KcbiIiIiIicpi9e/XHU6YAL7wA1K1r/TFq5HnIEODMmbxrS1iYbB95RALVv/8G3n7b8r0uLkDfvrL//ffWi6fNnAm0bAkcOKCdO3RIAvGczus+f15S3gFJic84d1yZMsX8XGhozl4zr6WmAq+8oj+3a5dj2mJvHOkmIiIiIiKH2bNHtuXKaedUGrYlt29r+5cu5V07jEYtMA4MlJHho0el6FlWKlbU9rdtA4YOlTnKysiRsu3TB3B2lq8hN20PD9f2d++2fl9Cgvm5/Ay6o6OB6dMtp7Rv2mR+bu9eIDnZ/u3Kbwy6iYiIiIjIYVTQ+MknwPz5sv/DD8CVK5bvX7NG2zca8y5Iu3hRUt1dXIBGjbL32M8+A6pXBz7/HOjYEZg3D/j3X2DhQrmekiLbjh1lBB0AQkJsf/6bN4GPPtKKzZkG3du2WX7MnTvAhQvm58PD7RvYnjsHXL8OHD8ONG8OvPkmMHWq+X0Zl1sDJDi3NK++sGPQTUREREREDhEbC2zeLPtdusgSXU2ayAjpe+9ZfoxpOnpysr5CeHbdvSup2oDWjoYN9fOMbVGnjgS4Gdv88MP6+eCBgUCPHrI/e7aMRCclZf7cR4/KqPknn0ja/fDhwMSJ2vW1ayVVO6PgYOmUMFWmjLze9u02f2nZcvUq0LgxUKmSfB9VJ8GcObJNS9PadPCgbD/5BFi2TOa+A1pHRVHCoJuIiIiIiBxi7VoJAv38JNj28JD1rQFg6VLg//5P5krfvQvcuCHnTedGA8DgwZLCnDHAtEWfPjJ3fOlSLWB+4okcfzlmypYFgoK048BAmcdsMACrVwOenjI/PWPb16yRr2n7dgli1aj4+vVSBd1USIisEw4A69YB77wjnRaLFunve+89bd3xYcNkvrelFO/sMh0137TJ8rJfly/LaH2TJlIN/rHHgK1b5VrfvvI9HzJEjleuLHgV1nOLQTcRERERETmESjF+/HGtqFjLlrKNi5MiZg0ayAht3bqSuqxSq4cNk+3Bg5LCnN0iXHFxwI4dkvo9YAAQFQX4+lofYc+pgABt38cHqFcPaNtWOxcWJqPZpu164gn5mjp1sv68Hh7Al1/K/uLF8riHHgK+/lrWCP/9d7m2erXMm//kE0nzrl4diIyUKvGDBuXua1uwQDoOZs2SY9NU91dekSyCmjXle9ywoVQnv3pVCtQpDRvKtnVr+bonT85ZB0pBxqCbiIiIiIgcQqWKd+umnStfXgLDjG7flgJlMTGAq6vM+167VrtubW6zNYcPm5/r3Dn7qeVZmTRJRvI/+EA716qV/p4tW7T91auzTjkfOVLmwquOh4gI4LvvzO8rWxZ48EEJaF1d5fjrr7Xr167JqHhOTZokAfXo0dJxoP4PVqyQJdJq1ABef13OWXsd9f02GCTNfMwY69XYCysG3URERERElO/u3NHmY7doob9mWnXbdA1sFdQ1bAi4u8vIrkpHV2ts28q0GJkSGJi957BFtWrAqVPAp59q5zJ+vSrV+vBhCTqVpk2BN96QwmQqAwCQ1PBmzQAvL62D4v33tetlysjx6tXyfTL11FNSlE2x9H2wRUyMfrm2sWMl8HZyAjp00M6/9ZYUmlMWL5YgHQCefDJnr13YMOgmIiIiIqJ8p9bErllTCm+ZGjFCtu3by4jukSNA1araddPguH172QYHS6EuW+3YIVsnk4jIHkG3JaYBNCBzoXfulJH2y5dlpPfECQmIp02TJck++0yKze3bp/9+NW+u7VesCNy6JcuRTZmifW9MGQzAxx9rAa8qaGbNvXuW073/+0///f73X9kOGyadAabGjpW57VWrAj17ynz1efNkffPigEE3ERERERHlO5VanjEABSQo/OknmfNdvrws4dWsmXbdNDhu3lxSlGNipOiapUreGc2Yoc15VgE+oH8Ne2rQQJ/GfuOGBMg3b0rq+aFD+hF+QKqeb95s/v0yHTV/6y1JIbclPVt9raGhUpxOfd927tSqm//9t4yU//qr+eN37pStv792zmCQlPOM3Nxkzv25c9I+FxeZKuDjk3U7iwIG3URERERElO+WLpVtx47m1zw8gBdflIBbsRZ0u7pq62o3bCjp05nZuFGbZ/z008C338oI8zPPyEhxfnB2lg6CU6dkWTHlkUekQnmtWrY/12uvSbr2nDnZKwLXpo1s//hDOi6mTZMq8e3bSwG3a9ekyjggy5QBUojtzTelYrmqqG7aadG4sT4jwZSbm/xfFUcuWd9CRERERESUd44elZFuFxcJfG1hGohmHJFu2lRGbAEpxnXggPVU8YULJV362WeB336T0VnTQmb5pUYN2Q4YIHOvAeB//5Nq4NlRoQIwc2b2X797d0n1Xr9ejseNAzZs0K6reeZK795aCrmLi/b97t1bHgvIkmBkjiPdRERERESUr/76S7a9egGVK9v2mB49ZFujhgSappo21R//8IMUalMp0KbUOt+my5Q50pAhMsp85Ej2A+7cMBikA+LVV7Vz69Zp+7/8or9fBdyAjHjHxwMlS0qq/PjxUjDu88/t2+bCikE3ERERERHlq927Zdu1q+2PqVNHiovt22d+TaWXK//9J8Fs+/bAypXa+Xv3tKXC8qtoWlacnaVCecavIT94eUkxM5VGbkqNgGemZUtp/2efARcvZi8tvjhh0E1ERERERPnGaAT27JF9Na/YVvXrA97e5ufbtJH52Go+8dmzUoQNAL78Urvvv/9kPnK5cgwQTf34I/DVV5nf4+kp6eevvaady2r+PAkG3UREREREhUxamhQae+cdR7ck+y5cAK5elXnBQUF585zlygHHjkmKduPG+mtxcbIND9eKlgUGFozU8oLCxwd4+23gk0+AQYO0OeK1a0vV8aeeknn43btL0Tll0CDHtLewYSE1IiIiIqJCJjhYm3P72mtaUa7CQI1yN22at3OY1drVbdtK8K0cOSLzu5cs0c6NHZt3r1uUTJwoW6MR8PWVavB160qBN+Wxx6T6e/Pm+uryZB1HuomIiIiIChmVOg3I2s2FSU5Ty201eLAE876+cpyWJqO1a9fK8bx5QN++9nntosJgkO9R3brm11xcgOnTgeefz/dmFVoMuomIiIiICpm//9b2GXTrde0q601HRgIvvCDn5s/Xlrh66CH7vC6RNQy6iYiIiIgKkehoqeKtbNgg6cCnTwNTpgAJCY5rmzXbtkmhroQEYP9+OWevoBsAnO5HOWqZsT/+kO0DD1guxEZkT5zTTURERERUiKigtVYt4No14NIlGT1u107Oe3gUvDnLAwZIZ8GqVRJ4ly0rlcjtrXt3/bHpmtRE+YUj3UREREREhUhIiGw7dNCqcQ8erF0vaOnmN25IwA0A27fLtnt3bTTanipVAkaPBlxdgSZNgP797f+aRBkx6CYiIiIiKiCOHgU++ACIj7d+jwq6W7QAnnxS9s+c0a6fO2e35uWIGpk3lZ+FzGbOlGXDDh4E3Nzy73WJFKaXExEREREVEIGBQHKyBInTplm+JyxMti1aAK1bm18/dkyC9rxcjis3VNBdo4as0Q0AvXvnbxtcXfP39YhMcaSbiIiIiKgAMBol4AaALVss3xMTowWuAQGAu7uMjANAnz6Aj48skRUebvfm2kwF3a+/Dvz2m6yXzWJmVJxwpJuIiIiIqAA4fTrre44ckW2NGkC5crL/0UeAn5/M737xRWDlSpnXrQqrOdrBg7INDDQvbEZUHHCkm4iIiIioANi7V9s/dUpGrDM6dEi2TZtq51xdgeefl6JhPXvKufXr7dbMbElIACIiZD8gwLFtIXIUBt1ERERERDk0b56sjZ2Skvvn2rRJ24+P1xdHU1TQbS2AVUF3cDBw927u25RbR49K2ryXF1C5sqNbQ+QYDLqJiIiIiCz46CNZZurKFcvX4+KAkSOBCROAF14AUlNz/lo3bwJ//KE/t3Gj+X1qNNx0pNtU3bqAr690AoSG5rw9eeXwYdkGBAAGg2PbQuQoDLqJiIiIqNhKS3XC3Tvm0WBKCvDJJzKH+ttvLT/24EFthHvBAuCtt4ATJ4B797Lfjv/9T1KxAwOBr7+Wc7Nna9cPH5ZrqihZ167Wn0sF5Gr+d36LjgZq1ZIOizFj5FyTJo5pC1FBwKCbiIiIiIqtTZ+/gZaNKqePyCpqWS4AOH4ciIoCbt/W36MC4OrVZfvdd4C/PzB5cvbboZ7rkUeAoUNlnnZIiATxAPDqq1pFcj8/qVJujUo9z/g15Zd//wUiIyXoj4mRCutDhjimLUQFAYNuIiIiIiqWUpOdcWl/M9y944T+/WXu8eHDwKhREkArf/8tgW63bvrHq/TtF14AGjXSzn/6afbbYlogrVIl4IEH5NjfX4qkbd2q3ZtVAKtGlXMTdP/wA7BsWc4eq74vpUpJtsCBA5bXEycqLrhkGBEREREVSzcvVkrfP3kSWLUKePRRy/fGx0swef68zJkGZCQaAFq0AFxcZA44ALi5SQBv6xzm1FQtQFap4e3aaYH2b7/J1t9f5pC/9FLmz2cadGenHcqxY8Arr8j+2bOSKp4dKuj+4Qfg2Wez91iioogj3URERESUL2JvlkTUKR+kpeZ/RS1jmgH//dwdB/5tln7u+rkqunvGjjV/XMagMThYttHR2uh027by2FGj5PjePeDiRdvbdvq0zOcuUUIKoQHaSLepAQNk3njJkpk/X4MGgLOzpHZHRdneDkWlsQPAl19m77FpaVpqflBQ9l+bqCjiSDcRERER2Z3RCMx78wXcuOCFkuVj0XHINrR5Ym/WD8yhC4drYMOPPdB37CpUrh2Nk7vqI3hRBwBApZrXUbl2NK6frap7zKlT5s8zdy5QsSIwbZocr18vS3GpAmqBgYC3t+zPmgVs3y5zmQ8fBmrUsK2tKnhv3FiCZUBGujOydZ1rd3egfn0ZsT58GKhaNevHmDJNS1+yBJg5E3Cycaju1CkgNlY6EBo0yN7rEhVVHOkmIiIiIru7E10WNy54AQDiYkph4y/d7TriPfe14bhwxBdLJz0JALh4rFr6tdmjR+Lrx9/GvsUySbtvvwSrz+PiItXL1fzmefMkvVulX6t1sRWV2q0CaQC4fl3S002NGSNzt0eM0EaWTYNqLy9g0SLA01M7Z22ZMEtyM6/btO03bkjwbiuVWt6smXzviIhBNxERERHlg8snZLi1cp2rcHFPRnKiG25eqmiX1zIatf3r9wP9yPBaunuSE90AACXK38LbH8SibFnt2vvvy9a0kFj37jJXO6OMQbcKjFWK9bVrQJ06Umjt/Pn7r50M/PijBONz5khwbfpYZdAgmcOt+PlZ+moty2nQfeqUFI4DtNHtbdtsf7wKulu0yN7rEhVlDLqJiIiIyO5U0F2t4UV417kKALgSkcm6V7lwJ1qLoI1pTji6tREumYx0A0DAgwfxxKc/o/9PY1GvQQr69dOuTZ4sc6yfeEI7V6YMULu2+Wu1b68/VsHm/v3AlClAvXqSjh4ZKaO/mzdL+nliovaYiAjZWhrJHjRItv7+Wuq5LTKOuB85IgH81avWH2M0Ar16yb7BIMuUAcCmTba/rgq6OZ+bSMOgm4iIiIjsLuqkFC2rWv8yfOpJda+oU7YH3cY0A5Z+8iSWT3lCN5JtycWj1XXHSz4eiLRUfcTad+w/qNXyBJxdUwFIwbDAQCmI5uQEeHiYP+/335tXAs94nwq6T50CJkzQr+1965YsobXXylR2S3O227aVAN50yTBbNG8u25AQ4PffpXNg9mxg9Gjrjzl5UqqVA8CvvwKDB8v+2rWSHj91KtCnD3DnjuXHJycz6CayhEE3EREREdmV0QhcPikj3VUbRKGK3xUAQNRJ2yt8RZ+tjCObm+DQf00RfbYyAKmGbikAP7HTQgUvgxH93lsBg1Ma6rc7AbcSybrL3t6SEv5//2e9DT16AFeuAMOHy7EqrmbKy0sKmWX02muyPXRIC7p9TPocqlSROd6WBAUBlStbb5cltWsDb7+tvbYK/jdssP6YzZtl26ULMHQo0KqVPE9cHDB/PjBunATg8+dbfvyiRdKxULmyFIUjIsGgm4iIiIjs6vbVcki44wknl1RUrn0Vvk0jAQDnD/kiKc5ChGrB+cNaKfDTIXWx76+WmNr/bYT81Up3370ENxzf4Q8A6SPqnZ7bglfmzUCzXuF444/p6D9xaY6/lsqVgenTJeX69dct3zNwoGxNq4YPHy6j5DduSOAKSBE15Y03ctwkqyZMkNc0HW2Pi5PA2BKVRt5N6svBYNC+lnHjtPtUcJ7R1KmyfestwNU1x80mKnJYU5CIiIiIbHbpcG0Y473QsONxmx+j5nN7174KF7dUePleR8Ua13HjghdO7fFDk25HMn38lQhvrJnWN/14w6xe6ftrvuuDVv32pR8f3+GP5EQ3VKh+A8O+m4uYqPKoXDs6/XpZb5MINIdKlgS6drV+ffp0Sc1+8EGpcm4wyHztunVl/vbly3LfkCGS/l2ihOU1wnOrTBkp4HbE5Nubliap6nPnAqVLS+q5SplXI/AdOmj39+kjqfdxcdq5DRu0dcUPHpTlyWJjZR/QMgGISHCkm4iIiIhskpZqwJ/jXsXiDwfhSoS32fV/pvbFrGEvI+GufqKzCrqrNJBo02AAGrSXoP3YtkaZvt7lE1Ww/NP+1htlNCAupiQuHauG2JslcXC9VCNr2v0gXD2SdQF3filfXgqSubgAP/0klcoNBq24GSBLgdWrJ6Pey5fbb3mt6ibT27t0ke3s2VKhfOFCKfAGyGi42g8M1B7Ttq10MgCSNl+2rBSGmzgR+PNPKQ7XvLmWGu/vLyn2RKRh0E1ERERENrkbpU1CPndAX8o7Kd4NoataIvqsN7b+1gWxN0sBkPncp0PqAgCq3g+6ASDgQVnL6ujWxtjxRwekpph/LF0/qxd+GfUSrkXKhObqjS9g2Pdz8PCYVWjcRVsL6/+eeBuzR4/E1P5v43SIrKsV0P1gHnzFeatZM22/cWNtSS57elKWKUfNmlol9FWrtOvBwbJVVc5r1JBOA8XNDejcWfYHDJCRcUBSydXzHTdJemjXLm/bT1QUMOgmIiIiIqvS0rR1r2+c9U0/f+5ALQBAaooTzh+qgcjwmunX9ixri59fehH3Etxw4XANXDlVBS5uybqUdB+/K/DxkznXG3/pjr0rWute9+jWRtizrG36caWa0Rg+Yw5qNLmAlo+G4MmPlqLb8I0W21z/gROoUC0mV1+3PQwdqu2XKJE/rzlsGPDbb8DOnUDr1ubXVdCtUsMtLVs2ebLM7Z48GXjkEdlaw6rlROY4p5uIiIiILNq1S4pq1aoFfD3DFTEZgm5jmgE7/3wAm2Z3N3vs3etlsH5Wz/RCaQHdD8GzbLzuno5DtmHJx08BAM7ur4N2A3YDAE7uqoclHw/U3ZvxsQDQ/ukduH2tDCL21MMTHyzD5RNV4eKWisCHwnL1ddtL7doyj3vBAn0RNXtycgKee072K1WSYD8hQbu+fbtsw8NlaynoDgqSVHJlwgTghx+AqCj9fY89Bjz7bN61naioYNBNRERERBaNHw8kJkr68HdTS+H6BS2lPCnOAzcvVUDYGutDm/v/aZm+37y3eSDcqPMxjPzxJ/wy6iWcP+yLtFQD9q5ojXUzewMAvOtegdFoQPQZb7R63HxxaydnI/qOWQ2jUeZM+wZcyM2Xmy/mzpXiapZGne3N1RXo2xdYskQ7d/iwzDnfeD9pwNaR6u+/11LXAaBaNWDlyjxrKlGRwqCbiIiIiMyEhkqVa2XzBnekpDQCDGlwK5GMe/HuOLXHDzGXKwAAKte5ippNI/HgyP/g5JyG/f+0xLqZD6U/vnpjywGxj98VuJdMRFKcB8LWBKUH3ADw5IdLUKpCHC6fqIraQWestlVV3y4MXF2lOJmj/PCDrEd+6xbQoIGkl7/8sna9fXvbnqd/f0lZT0yU6uZff22X5hIVCQy6iYiIiMjMmjWyfewxYMcO4MYNiWxbDdiM1PiyCF3VEtsXdgIAVG1wCSN//EX3+LZP7oaLWwpWf9sX3V/cYDUwdnI2om7L0zi6tTFWffNI+vk6LU7Dy/fG/X3rATdlj5eXzN9OS5ORaTWnG5CK6lWq2P5cqmhaZsunERGDbiIiIiKyYMMG2fbqBXh4yJzeSvUj8MBz/yJio5Szjr8la0n5dzxm8TlaPhqCJt0Ow71kYqav1eX5LTi2vSGMaVLjt+fof9HaQjo55Q1VxO3pp4H4eODFF+XY399xbSIqyhh0ExERERVzly4B33wj833nz5eR7YgIudajB9CzJ+BVNRbRTWbA2cUZVepf1j2+Wc9wq8/tUSrzgBsAKtW6hl6j12H9rJ5w87yHZj3D4eySlquvibLm5ASMHCnrh48bB0yf7ugWERVNDLqJiIiIirkxY6S41jff6M9XqQLUrStzpj+YdBfjN94CUBFVG1xGu4E7sWtJOzTtfhBlKt3NdRva9N+DRp2PIi3VCZ5lE7J+AOWZdu30aeZElLcYdBMREREVY1evAitWWL7WtKnlImUGA9Dz5fXoPHQLXN1T8qwtpb1yH7wTERU0To5uABERERE5zrJlQEoK0KqVNrdXadIk88e6e96DkzPTwImIMsOgm4iIiKgY27NHtn36AD/9BCxfrl3LKugmIqKsMegmIiIiKsZCQmTbsqVsTQPthg3zvz1EREUN53QTERERFVOxscCx+6t9tWgh2zp1gAYNgIQEmdNNRES5w6CbiIiIqJgKCwOMRqBaNalUDgDOzsC+fXJeredMREQ5x6CbiIiIqJgKv7+8dvPm+vOlS+d/W4iIiirO6SYiIiIqpg4dkm1AgGPbQURUlHGkm4iIiKiYeeIJ4OxZ7ZhBNxGR/TDoJiIiIipGbtwAVqzQn2PQTURkP0wvJyIiIipGDhzQH7u6SrVyIiKyDwbdRERERMVIWJj+uEMHCbyJiMg+GHQTERERFSMZR7onTXJIM4iIig3O6SYiIiIq4tLSAKf7Qy3798u2Y0egXz/ZEhGR/XCkm4iIiKgI27wZKFsW+PBD4Pp14PhxOb98OfDWW45tGxFRccCgm4iIirzgYGDKFCA11dEtIcpfN24A3boBsbHA5MnAxo1yvmFDwMvLsW0jIioumF5ORERFXocOsi1VCnjjDce2hSi/pKQAvXrpz73zjmzVe4KIiOyPI91ERFSk3b6t7W/Y4Lh2EOWFv/4C/PyAkJCs7923T+Zvly4NPP64nDt/XradO9uvjUREpMegm4iIiqyjR4HGjbXj1auByEjz+xafa4W3tjyKlDT7/lm8k+SO0asfxs4LNez6OlR09esHnD4NDBmS9b2mBdOmTTN/HiIiyh8MuomIqMjYsUNGApWhQ4FLl/T3+PkBhw9rx0lJwIidw/BtaGesP13Xru2bvrsNZoW0wtCV/fD59g64m+Rm19ejoiU5Wds/ezbr+9VoeMuWgK8vMHCgHL/7LlCyZN63j4iILGPQTURERUJyMtCnj4zgffopsHOnPgW3WTMpHJWSAgwbpp3fsM0dd5NLAABCLlfN8nWuxJZCj9+fxYpj/jh1owJm7G2N1DSDTW1cclSG3SNuVsT7m7qj1vQ38c2udriX6oy31vXC3LDmWHgwANfiPG3+uqnoS0sDjEYgLEw7l5ICxMdn/jj189+ihWx//hmYN4/rchMR5TebC6mlsuQrEREVYIcPSxDi7Ax88glw8aLsN2oEdO8uyyXFxgK1agGhocDVqxKEL1vtCmdn+RsXerUysvpr98GmLtgcWQubI2vBCWlIgxNcXZIxIigs08eduF4BR294pb8WANy+5453NnZHSJQPFh9tkn7+4XonsPypxenH0XGeKOGSjNLuydh8thYmbe2MWQ+vRsNK17P9fSrQUlNZYj6DW7dkpLpyZfnWODtr1/bts14QLSEBOHFC7g8MlMeWKqWlpefk25yamgqkQftXFNz/WlJTU/lZl4hyxNn0F7MVNgfd27dvz1VjiIiI8lpqqgTX5csD27fL3FXlxAk57t8faNIEOHBAzj/+uKxV/PffQJ06wJU7RnTsKCPVaW5J2JDiAlfnVDgbjBZfM63mBXQsG6s7d7hEIrL6K7ktrhQ6drR8VxSgu3YHwJLYUvAuFYfwK95YdbI+PF2TMTwoFNPO14JL7UjMuOqDQUUl6HZ3B8qVk6HciAhHt6ZACQ2VjiKlc2cJpJOTgV27ZATcksuXJSAvUULmgJ85k/u23E26i3LR5eDu4l5k1r9xT3FHuZRyCNsThgh3/uwRUfZ16dIly3uKyK9MIiIqqBITgd27gYAAoGLFvH3uvXuB9eszv8c0YAGAatUk6L50CXByAhITDSjhnITEVDfcveeOL4M7oG75mxjS9KDucUYABgAxCSXMXuNOknuWbT12vVKW95j6aX9L3fHde+6Ytrtd+vGJG15YcLApBjQ+AndnjtAVVadO6Y979QLi4oBt26R/ws9PMjaMRsBgMsshOlq23t7680RElP9sDro7mg4fEBER2ej994GpU2XE7dQpoFL2Ys9MffWVjHCbqldPC1QaNAB699ZfP3IEmDFDRskbN5bHj6i3BVEpXlh9thEAYDuA/2twDKXdpXLVvVQndPz1BUTdLY2rcaXN2lHSNQmzm4XDycro+IXbpbFkbR84IQ3PBx7A3ANB6Fv/OP6vx3r4z3wdABDocxmxSe6IiDHvmRgSEI4Fh5pCwn7NdgDN77liVMv9mX+jCrqkJMmjbt4cqFLF0a0pMJKSgL59peNKWbIE2LgRmDJFfnYXLADGjgV+/FEyOubNk6Jpq1bJ9YAAfQZIbkTdjcKyuGVwLuEMN/eiUQQwKSkJtxJuoXmb5qhSmj97RGQfNgfdtuSqExERmUpLA+bMkQA3Nhb45hsJlPPquXftkud+/32pXH7wIPDOO1qhtLfe0s+BBYCePWXkb/t2LWDv5XMEVXwO4++IgPT7wi5XQ9fa5wAAf4Q3w/5L2jJf9SrcwOSumxBUJQpNf3wZdxI9sf6UHxpVuoba5W+ZtfVAVDWkpjojwCcaM3r/i261IvFwvZMo5XYPHapfwLlb5bBq0J/wKRWLI9GV8OGWrlh+TDoAvu31L95suxvOAOYeCDJ77gu3yqPI/IV2djb/DyvGDh6UUW0ACAqSQoFeXkDTptqc7NRU4LPPZH/bNmDCBGDhQuDQIbkWEJB331JnZ2cpwav+FQX3vxZnZ2d+1iUiu2F6ORER2c2OHcCNG9rx8uXAl19aTnfdtAkYP14KQK1cKfOtM3P8uAyOenpKNWaDQavyvHGjFI8aPtz8cfXqAd9+C7z2mnbugcoR8K7qigWPL8MLf/VDcpoz9lyqnh50f2uS1g0AL7bYj6eaHAEABFWJws4Lvui7aDDKeSQg4rXvUNEzQXd/+BVvAEAz76twc07FoCbammWbh85DqtEJLk5Smapx5WtYNnAxzsSUR8jlqniy0VEAwBfd/8O9NGcMDjiE3gu1RZoPXPHJ/BtFhdbu3bLt2xf45x/tfL16+vvc3GRKfHS0VCwPC9M6lJo2zZemEhFRJopKPyURERVAK1bItn9/qZV1+rQUNLNU/On992WO9qFDwCOPyJJI1iQmAiNGyH6bNoCLi4zmubpKALJgATBunPXHjxypP/YucQcAMLjpIXz+4H8AgOALMrIdk+CBI9cqp99b2i0JL7bQ0rm719YqVN1KLIHpe9qavV74VQmMm3lfMbtmMCA94DZVp3wMBjY+kp6yXqlkPH5/fAUe8ovAQ37aRN/QqCpWi2lR4bZrl2zb6ft84OIi75ESJYA9e6RGQXi4XIuIAJ55RjqvHnwQaNUqf9tMRETmGHQTEVGOJCTIP2uMRhmxBmSZIjW3OigIqFlTP3KXliZLfilHj2pBhKmUFBmhbthQApKyZWVua3a5u0uaOQD06pKou9ajrgTR/0b44XB0ZXwZLGsy1S4Xg63P/4qdw+egjHuS2f3K7FDzFPDwqzLSHehjHnTnxO+Pr8CqpxfC2ZCGa/ElcTqmQp48LxUsaqQ7Y9ANAIsXA+fOAa1bA6VLS8E0Ly95Lx0/Lj/j//ufFAskIiLH4q9iIiLKtnv3gGbNJIBOTtZfS0sDunWTD/vnzgEeHkCPHsD330uhJwC4cAEYOBC4fVuOIyNl7qqbmyyJBAD7M9QGS0oCRo+WImjnzsm5AQMsByS2+N//gI8/BuZMva0739T7KjrVPIeUNGcEzBqdHnQHVYlCp5qRaFI5Wnd/m2oXUbFEfPpxVGxpRN0tlX58/nZZnLkfFDfzuZqzxmbg5RmPh+ufQrfaZwEAc8Oa58nzUsFx4wZw/rzst2hhft3DQ9buVgwG7f0FSHaJl5d920hERLZh0E1ERNl2/LhUCD9+XEacTQPvTZuAzZu145dfBkqWBKpXl9Hr48dlhFotJQZIRXFAqo23aSP7GYPukSOBX37RnwsMzPnXUL488NFHQLUq5qndI5qHmp1rVOmaxedxdU7DnhG/IHzULDSqJAH5f2fqYOrOdohJ8MDv4TKptmuts6hQIpPUgBx4qUUIAAm604xcF6qoSEmR6uMAULcuUKaMbY8zTSV/9928bxcREeUMC6kRERVze/fKiFhWhctMqSAZkJHpwYNlHjUgSxcp770HfPqpduzkJIH1Y48B8+dLoTUXF9kCMlKnRvVMg+6kJFkqCZBgOSZG9pvbaYC3S61zZud61Y2wen/dCtKgoCpROHqtMp5b+QQA4Lu9bXD5riwx9lwzC/nyufRIg5Nwd07B1bhSOHerHOqUj8nz16D8N2aMZHQA2etYevttoGpVGeWuUSPr+4mIKH9wpJuIqBiLiJCR5bp1JS3cFqdO6QNpQJYoSkyU4HjNGjkXFgZ8/rnl5Yo6SMY2Pv0U6N5dKpoDsm62CroPHZI09mPHgEaN5Pl9fIDvvtOeJyAAdlGj7B3d8dbnf0V73wtZPi7IJ0p3fP52OaSkOaNFlcsY2PiIlUflnJtzavoIvKqQToXblStawA1I/QJbVaoEvPkmA24iooKGQTcRUTG2c6e2H5oho9polDWv/f2Bp54CLl+W808/LYXOMtq9W1LNExIkOG7WzPrrduxo+Xzz5jLiXq6cBNyHD8u63mfu1yrr1ElGyZs2lQrNpUvb/KVmW70KstZZq6qX0KlmpE2Pebj+KZRySzI7HzxsDjxdky08Iveaess88YNXGXQXBXPn6o+7dHFIM4iIKA8x6CYiKsZOnND21Qj1hAlSoOmff4Cvv5Z7Fi+WCuS3b5vPtVY2bZL1sQFZqsjSWtxKgwZSwTyjoCB5XND9AuChodp6wwDw6KMSaIeHy+i6Pa0dvADPB4ZhyYDFNj+mfsUbuPb217j+9pcY1y4YALBkwGK4u6Taq5npy5AdjM5e0L3wYAC+3NEeKWn8KFCQrFsn2/ffB5YulaKERERUuPEvLRFRMXbokLa/fr2kcE+ZAly7BgwapF0zGKQ42rx52jlfX+C//yRIB4Dly+UYkKA7MwaD5fnYPrKcdXqK+d69wMWLsj99uoyy55e6FWLw62N/oWa521nfbMLDJQUVPRPwefeNuDhmKp5sZCEtIA+pke7wKz42P2ZOaHMMWdEf723sAdfJH2L8f1n8hxUBwcFaXYCCKiFBKy74/PMyNzuzzisiIiocGHRTjq1fD/z0k6SgkuPx/4FywjToDg4GSpTQjtUa3BMnyggzIPNFAQl+z56V4HrsWFm+6MgRLWDIKugGgFGjrF9TQfeiRTJPvGRJ4NVXC9eawy5OaahW5q7dX0cF3adjKiD2nluW96ekOWH8xu66c1/vbI/bie52aV9BcOyY1BEYOFD/M+9oY8dKHYPI+7MXdu2SaRVVqwJ+fo5tGxER5Z1C9PGFCpKICPkQPmoU8O23jm5N8RIdrV+eKSVFlolp08Z8vWQia5Yulbmiar3rzDzwAPDSS/pzHTpoAXC5cjIip/j5ySh4Vnr1ArZuBWbNkuP587VrKuiOjZVtQEDhCrjzU6WS8ahSSoL7w9GVs7gb2HKuFq7Fl0TFEvHY/+JPAIBUoxO2nKtlz2Y61Lhx2r7KxnC0xETgm2+kPsLjj0vHqar83707R7iJiIoSfoShbDEaZfRr/HgZfQJk/+ZNx7aruNi3D6hSRUb8lP37gZAQubZ8uVSgDgkB7tp/gI0Kqf37ZaR661Y57tfPehVwFxegbVugZ0/9edPUc0B+DygtW9relk6dpPMuOVnmjCt168pa3oqa402WaSnm2rzu5ccaYsq2jmbrdy8+0hgA0L/hUQRVicIrrfYCANafrptPrc1faWnAtm3a8XvvSQV+R9u7V9sPC5OsjiVLJNg27SQgIqLCj0E3pbtzJ+slg+bPBzw9ZZRMuXdPCi6R/U2bJv9HP/8MxMfLuc2bteszZki16VatZG7s+vUOaWahoTI2rBUGK6omTZIMCUA6caZNA9xNMotNO2weeURGsp2dZTqJkxPw++9AhQr652zcWH4ufX0lZTa7XFz0I3umxdQAoEeP7D9ncZJeTO1+BfMj0ZXQf/FTmLD5QayL0AfT/52RBdn7+R8HoK0/vuJ4QySnFr2PBadPaxkTgPzN6tED+OMPqV2gfP21dGjmV4el6vRSPvxQtn372m8pPCIicoyi99e1iLPXvN3gYPnw/eyzmd83cqS2X7ky8NFHsr98uX3aRXqmHxzXrwc++0w/wrhjBzB1quzHx0shntvZqwFVrHz1lXQYqTWiiwOjUZt3vWuXBCQ1a8oSXEqpUsCwYUCtWsD332vnX3xRUmJNR6RNjRwpc1OzM9KdGS8vbb9r17x5zqKqmY+MdG+JrIU0owEfbNIm1X+6vROuxXkCAC7cLoOzt8rDyZCGDr7nAQC9/E6jcslYRMWWxqqT9fO/8XZ24IBsg4KkQxKQn9PBg4E+faQjMypKOixnzgR697Z/jYzUVK3zuvL9GQGnT8v2gQfs+9pERJT/GHQXECkpmY8yJyTIEjudOuXth4HQUFnmp0MHCdL++CPzdri4aPtVq8o8NAD4+2+Z06mWOskra9ZIcaacuHwZaNhQAlNLjh8HYmJy3rbcOHIEiIvL3mPi4vQjsn/+aX0+/ZNPylrHUVHyf0PmjEZgwwbZL04j3efPy+ieiwsQGKgVTvv6a2DoUG3d7jlzZG3satX0j3d1zb+2qt8v1avrU83JXG+/UyjtloSj1ypj5XF/bIvU1mPbecEXD8wdjjSjIf18UJUolHa/BwBwc07FsMAwAMCiw0VviFUF3S1aSEp3w4batZAQCbTffVc7FxwMXLhg3zb9/jtw8KD8XJt2bAF512lFREQFB4PuAiAtTYqm+PpKirclYWHAyZMykqk+QOTWxx/Lh5CMVYZPnrR8f3S0Vs0YkBHWpk210ajly4GHHpJRgkuXct++1auBhx/OeVrpnDkSWH/wgfn3ddcuSYft2xfYswcYMcL+H7KUdeuAJk3MC1Nl5sYNoFIl/fd16VLg+nXZX7BARrWVt96S/wegYFXqLUjOnNGKiJ0547gOmPwWEiLbgACpOK5UqCDLgbVrp51zdCGnQYPk53zXLse2ozAoXyIRr7fZAwB4e0MPxCSWgJMhDXXLS8GNiJsVMW59T0zb0xYA0LlmpO7x3WqfBQCEX818re+Vx/3x0IIh2BZZE6lphaPSV5j0JyAwULamWR0A8PrrEgSbUp1P9rJokWzfeUf+Dpm+11QRQSIiKjoYdBcA69bJ3K5Ll6SH3RLT0d68GLlMTZV5nJZYG/VTH1yqVZOiNAMGyAeFjh319/37LzB5cu7bqNKko6K04DI7oqK0/enT9dc++UQ6O3bulArOc+bIaEd+mDhRtgsX2p618PvvWodHgwaSJqnm5NarJ2mSKsgGpPBVkyayf/hw3rS7qFGj3EpoqLafmFh0K8Gr4k0qzbYgMxgkg6Z6dUe3pHB44f5o9ZkYmXDfzPsqTrz6PTr4SoD97e52CLksqQtDmh7UPTbAOxoAEHGzAuKTraczTNzcFetO+6HzvBdQ7/vXcTcp6yXKMnMlthSGLH8C2y7WydXzZEZ1VKt14atU0a7VqKHte3hIxzFgv46epCSpqaDqbfTtK3VS1BStFi2A8uXt89pEROQ4DLod6OZN4IcfgClTtHMqsM3IdLRy5crcve7GjZJaevu2FEdq2VJGt9SauSEhkn66fr0E5xnb1rGj/FM9840aaffUqiXb//1PPyqeXdevA1u2mL92dpgGmx9+KEWeABmxNw24EhNlq0YA7WHmTEndvXdPK4AGSAq8qYsX5UPg++9r52Ji5OcEAJo1k1HtF1/UrquCOwMGALNny9dtMDDotiYlRf4fMi4bpDqbrlyRjqXHHsv/ttnbrVvy/gc4b7QoqlshJr2gGiAp5M5ORnTy1Y9q9/Y7hUCfK7pz3iVj4eUZhzSjE0b8/agu8DYapfjamZjyOBytjYSfvVUeG87kruL50JX9sPBQUzy8Yniunseaq1elA9Zg0H5XmnYU//mnVPLft0/mVD/3nJw3rXael+bMkSwzQP4Oq9/T/frJ7+rVq+3zukRE5FgMuh3o9deBV17Rj25bG2U2DboPHJCR71Onsj+/OyYGePll7bhzZ/mwsXOn9iF8924piNSrl6R2q6XBVOCrRguUESOA0qUlvVkVZbp9O3fzu0NC9F9bdoNuo1H7nqkRvY8+ko6APXv0nQmq0yA0VDo01JrBecVolIq48+fL99U0ayHj//fUqRJ4f/659vU/9ZT8X1esKB0RLVvKh8SSJeW6SpU0GIDhwyVtHtA+zF24wGJqSmqq/Pw2aiT1AgD5sAtonS5LlkiH2Nq12Z9ycPAgcOxYnjU3zyQkyHu8fHntZ657d8e2iezDdAS70/0U8r71tTlDn3X7D788Yp4uZTAANcrIPJxFhwPw/Z7W6dfWRtRDj9+fQ93v3gAANPS6htEtc7/MWEyCB9af9gMAxCZ7ICbJM8fPZY0a5a5fXwoEAlIr4Pff5Xdxu3ZSy6RlS6lT0q0b4OYmj7OWeZYbq1Zp+02b6teeb9wY8M48u5+IiAopBt0OEhMj6cUZ/fUXULs2MHCgNsc0LU0LIFVRoyZN5ENEdqouh4TIvE3T9Um7ddP227eX7f790g5AlqOaO1f2rQXdtWpJW+fMkQ8Qao54TkanTdtqyjT11xaRkTKq5+wsI3u+vjKCuWSJFnQMHSojzfv3y4esmBj5MDZ6tIzyqxHw3Dp/XtufP19/bd8+/bHp3PMNGyRYV6Py69fL0k0AUKaMzNt2dZUlrywpV05LnSxOhcIyc+qUjCadPi2BaNmyWoaH+h7t2aPdrz4g29K5de2aZCI0aqR1VBUEd+/KFAT1/gZkhC1jgTQqGsa224kdL8zBqqcXYnCABODtalzEmmcWIOK16RjfcQeqlbG8JlbXWmfT95cd01KYNp6prbuvS61z6FNP/pCsO103x8U9v97ZXne86Yr2mmfPyt+B1q2BX37J/nMbjfL7XlUIV/O5AelgGDJEn6WleHtro90ZpyXlVlqa9jvfYNCmUBERUdHHoDsfrV0rQd2jj5oXB1Pr36amSnGnJUuAMWPk2s6dUkirdGmpMGxq/Hj5cGKLBQv0x2++KaPtSu3aMtct41zW8eMl8FPBesagG5DgVvXYq5HXgwfN77OVCrrVKOTatfrlsrKiUvbbtpXv24AB2vOq4KpFC/l6PTzMC+v06iUj/3kReGdM73Zy0gLljN+jiAh9G9Q885o19WsWAzIvMCHB8v+H0qmTbFVKcXF2966kkpp67DEtE+LMGck8UR1OADBhAuDnJyPE+/ZJWvrOnZKNAADh4bK0VmioPl09q4r78fGSUXL1au6/rqzs3Gle2FCtB0xFj8EAtPe9gIfrn4KzkxYN964XgboVMq8WOPaBXemB+r7L1TDm314wGoFj1yul3/NAjfN4vc0edKl1Di5OqTh3qzzO3866tHxMgofu+EZ8CXy7W4q61Son7Vp/WdJ0btyQjuVWreR9ZzqdJitJSfJ7cdEi6byePVvOd+5s+3MMHSrb7BZTMxrlb4/paLapo0dl6pSnp7SzS5fsPT8RERVeDLrzSVIS8MQTkr78zz/a6Oqff8of9hdfNC9I9s8/EoSrYLl/f6nmm3Gu6W+/Zf36YWH6Xvvp02W5qdKltXMGg340rG5dKWB0+zbQs6ecq15dv3auJWre3KZN+lHe7FBB95gxEvTcuaN9H27dkpTrwYMtL2928qSMugOyDjOgBdXBwdpIpumyLJY+kIWFAa+9JoFWbmQMutet0zpUTK+ZpsRn1KaN+TmDQTo7MqNSiDPOXy6OnnlGm0upjBkj2R/qZ/qHH/SdOzdvyqj47duS8dG5s7xHOnSQ9+annwK//iodOM88oz0usyyPgwcBHx9Ja61a1f5LumXsAJg9W18zgEipWvouFjyxHA29rgEApu1ph50XaqRXNN85bDaCh82Fv9d1lHRLRlAVqVa547wvUtKcsC6irllwDQDLjjZEha/ew/C/HkWaUYqB7LpYA4kprmhQ8Tq+770WALDuUgCMRvk9bVr7ApBMpawkJkrnpJ+ffqnIDh1kao+tmjWT7aVL0gFgyb175hkwy5dLR90jj2jXjhyR3x0nTkgaOyB/e/Jz6T0iInI8Bt355PhxbdT0u+9kzm5oqPTEqyV6HnlE/5ibN+UeNfI2eLAEWgsWyAioGs1Vc1OtiY7Wj5Jevaof4TZlmqrcpIlUcFVBNKAF35lR99+5I6nn1j60WBMVJR92nJyk3Sr9d+lS+SDTty+weLF8gDl+3Pzx332n3afmqaugOzRU0oC9vPTphn36WG7L7NkyopwbqiBchQoywvjgg9q867NnJa395k0J1KwtW1U3h9MmVdAdElK853XfuWM++vT229rPgBrZAuRnY8UK/VxLAPjxRxmdBmT6QliYdCxZklnQvWyZjLoD0mmklg5KTZWfD3WcE9HR5v/PGdvSp0/WnTVUvM15VEv32HCmLi7fLQMDjOkVzpUONaRXdcd5X3ywsRseWvgs6nz3Bo5eq6S77/u90ms490AQ5oZJak5YlA8AoFW1S+hS6xxcnVIQGeeFiLPOFqfD2DK/etYsGU2+fFnrbPrxR1lRw8XFpi8dgHRG17lfTD083Pz6vn0yWv3RR/rzpu1W2TBdu0qtDX9/+bsP6P+mEhFR8cCgO5+oEc0OHWT09L33tMBLGTJE1mLu2lUbzZ4xQ3r4XVy0UehSpWTesVqXOSREPmxbY7r0yYABQOXK1u8dMkSbk/3oozKyPWeO9Mr7+QH/939Zf62VKknRL0CCX2uBiTXqg0vDhvK1qqWwdu6UDgjTD1/ffiuv9fDDMj/9q6+0OehqNFk9l6m1a4ESJbTjDh301198UftApZZ2yYkZM+QDHyAV3SdNko6TSpXkn9Eoo6SVK2trs3bvLqOnFy7Ism5BQfIzkxPVq0tqelpa7ubYF3YZfwb379eyIACZthEXJ5XNL16UaQ1Vq2b+nL/8Ip0lLi5SPM30ZyyzSvjq5/fpp2W7ZYv8HCxbJkvtPfOMedr5uHFSANFSZkdKigTS9etLmytUkEADkLoRGaeV+Phk/nURtatxERM6bgUATLufAu5X4SZKuenTfjr4StC96lR9/BAi8zRuJZbAL/u1Xt5rcZ7Ycd43/XjNqXo4cb0iZuyTQm3Nfa6glNs9tK96DgCweqN7+rJ2prZuBb75RjpSx40zH2W+c0c/ug0AL7wAvPSSVnQyO9Rot6Wg+4MPpJNs8mT9e9L0fR8WJp3C166ZP14VuSQiouKDQXc+UWnDmfVwe3vLCNq6dZI+DWiFtwIC9EEiIB+wAwPlw8fo0RKoWSrgpNKpX3hBAr/MGAyyZMnWrdroX6tWkrIdEmL7+qGmFcCzG3SrDy4q/bthQwlKExJkTryp2bMl8FmzRoq+vfuu3Ne0qXReKO7uWjrfkCH61HJAUv1nzQKefFLSGn/6SQuKjhzRVzvPjhkzZDtqlHm1aPXB6+xZ7fkrVZIpB88/LwHzG29IgGi6rmx2qSyH7BajK0pUx4m/v/zfZpwfbzDIyJWzs/ysAPoP9Wret6ur1pmjlqALCpLnPXBAUkgNBnnPtWql/8CenCxTRNT8+rFjpZ7AlSuSpq6mRAD69094uBRc+vFH/RzTuDjZ7twpnUinTsnPUVqaBNpGo76zpn17SZ9XS/0RZaaZj/T83E6SdPGBjc0LFbT3lfL+F++URew99/Tz28/XTN+ftrstUo1OJtd88eD8oYiOk1LizX0kRf3J+jKXfM4iT13QrdZo//57ec/s2iXvh4y/z779VuZL168PbN8uS36ZvqeyS2XBqOwWQN7zs2bJFCdFdRJ/9pl+KcqwMH19CFMZO9yJiKjoY9CdT2wJugEJrF1dJehWaeeAeZCoqLToZcukoFOrVuZz39QHmLZtzVNmLXF3lwJcpimotWpJpWdbDRigzVVdvlzms6sqslnJGHQbDPqCM25uWsBjzZtvmgcXq1ZJEKLWvM5o1CgpYKc6N/z8JChKSJAiW9l14oT8c3WVKvMZ22Oa3q489JCMVOYlBt3aB+dPP7W9KJOa7uHjo03pOHJEv+QeoGVJuLnJB34V6IaESMeVCt63bJH3AiA/Y82ba4/98EN9RsWyZdq+6Ui1Oj9zplSw/+ILy+v6HjwoI/ZqusL8+cCOHeZtJ7Kmqbc+3WJ4c/NfIJVLxqF+xevpx6+2kh7esCs+uJvkhvO3y6ZXKP/zySXwcEnG9fiSuHS3TPpj1Hrhz/iHwsP5Hg4fd8XNm/J+SkzUr7ZhSi0FBsh77NdfZf/jj+V91bFj7jqYVIbVP//IKHp0tIyajx6tX3VizRrpAJswQf/44GDpDAPMpwcx6CYiKn4YdOcTVaXa1rQyJyd9L72lQlqA+VzkQ4ck+N61S+aNXr+ujXRbew576dRJvo7oaJkjO2CAfBBJSZH2ZRx1P35cggIVRJi213TEbsQImQvv62ueKvvXXxLAPPuseXt69pT53qbF4zLj7KwtKXPokGQRmI5wZJQx3VHNIe7SRQKkjAYNMj9nuoRbXlFB98KFMt+xuElM1Dq9rHVeWTJ1qnyA37FDgunRo2XpLT8/+dlTMr4HP/9cC+zDw6V4IiAf3pVJk+S9MWuW/rlUivqxY9LZA+g7q1TQ/vPPMqI9frw+TV65e1ebk+rvb/n9QJQZvwo34Vv2FlydUvH5g/+hdvlbFu9rWfVy+v7IFqGoWfYW0oxO2H6+Jnac90VymjNaVr2EgY2PoHU1fRn93x9fjvIlpNhJeY8EPFL9QPq1wEDpAPbwkCwtQAJplWlimkVy5IhkiXl4mBcazamWLeW9k5AgWWXW1s+eO1dqpKjf/5s3y3t7wwYZcQdkilF0tEyFat067ztWiYio4GPQnQ+uXpVRJ4PB8uimNQ0byujXq6/qKyObatNGm6M9bZps166VeW81a0qPemyspFvnd/GWsmXNg5wOHSTwbd9e0rfVaLjRKKPhai5q9eraHGf1uOBgCb4/+USe+/RpKZizYYME0gsWyDz0SZOyVzQnM+p7tnevZAr4+povvwRI6nC3bhKUqcBcjYZYC6RVyrLi42N9ze3caNVKy3AYODDvn78gi4yU4DMlRT7wmga4WVGFkjKOUhkM+jWuM6464OkpKezvvCPHzz0nnR0q6F65Uoq4ARLAqzn/gAT5Xl6SJn74sGStnDunXT9/Xn6XZLZMYL16sk1JkS2LNlFOOBmMOPDSj7j01lS812GH1fsCKkeb7F/Fw/VOAgDmhzdD+BWJVFvdD8yfMklRH9N2F4Y01a+Z2Luadty6tXb+q68ku+Off7QlEk1HulUHZ9eu8v7LCwaDTAcBtKkcplT21fnzWh2RBx+U82++KcdpaUCNGvI7pFIlyXzi8o1ERMUTg+58oOZ8+fvbPsqq9Oghc9kyzudWXFxkzvTmzbLGsIfJai0xMdK77uoqI2O2pJbnNbVOtKmxY7VRAbXu+MqVMrqn9O1r3t4HHpCAXRVpc3GRD0bdu0v63+DBed789IDlyy/lQ97du5bXYP3mG0kfjojQ5tOq7AZVkCcjg0EC8zFj5P/qzBn7jIBUqqQFfEePZm+988Lu00+lGj4gwXdezWdWKwe89JKkwVoyaZJ0FsXGSkfRuXOSPZFxbn/DhpKa+txzUrNABRVhYVrHTaNGWkrqwoXyc+jpKb9bFi+WugavvCKdVmoOrJLxmMhW5UskolLJ+Ezveb3NHjzX7ACWDvgTBgMwIkjS0Fcc98emc7UBaKnqzzbVhqebeZuvAdarmraGYoMG2nkvL8k0KVtWX+DMaJQOKrUWd153Wlr73f3YY5ZXDVF/LyZNkk5vQDpd1e+dihWlOCgRERU/eTQeSJnJOEc5r5nOD2vYUKtS/fnnklo7YIDj5pB16JB5xfMdO2RET6XIurnJ/PFx4/KleVmyNEo4apQsy6RGMtPSpIiP8t57ck2lB2c20tiypf1+Lkz16SPF2KKiJNXatF5AUZWcrJ8bnZcfyLt2lVH0zCqBe3hIlsqOHVIcD5DpJZYqKU+erO03by7ZG2Fh2rJDrVpJgHHkiFaToGVLmTqgpg+oon3+/vI4NRe2R4+cf51EWfF0TcZv/VamHzevcgVBVS4jNKoqQi5LSogKsEu738PiJxdj49k6GNTksNlzVfW8hV5dErEr1MOsaKbSsKGknd+5I52cYWGS9VShQt5Po7D0u3vpUm0E3NNTv554rVqyLVVK3vOTJxecv2VERORYHOnOB/YOuq155x1JV3Vk0ZZHH5XRbLVOtiUBAVLoyt1dUvVOnMj5utR5zVrA/O67MvqyZo2knpsu8RQXpwXcgD4V2ZHU1AbTtMyibNs2ySAoVUoK5L31Vt4+v6+v9VFupXt3/eh6xikFlqh7du3SiiC2bq1NtzgvqzShc2fLj+/cWVYbOH9eAoSHHsr6NYny0ogMRdeamKSgD2h8FD/2XQV3F8tLQvz1awwuXLD+e9PVVXsvbNyoTdV47bWcLQ2WGT8//bG3t3660IoVMu1I6dlT22/TRrKiuDwYEREBDLrzhUozzs587pwaOVK2bdo4Jp08I4NBevp37dJSchWVWq6MG2e9WI2jmI5kOjvrUx5v3JC0YbUszFNPSQp8RgVliabM1p0tilRq9iOPyFJweTXXMzsqVtR/KLel401VNA8Pl+UDAclMyDh3PKsq7DVqyIhcQfn5o+LjmYBDKOsuBdLeaLMbpd3vZfEIjbu75cKTptR7avRo6VyqWVMLvvOSaW2Q5s3ltUyXzezZU/62RUXJ6hCqECIREVFGTC+3szt3JA0VyJ8e75dekjRi9cG9oPD0BN5/H/jgAzmuUEGKzZw5I50DL76Y+Wi4o5gGLEFBUo02OlrSi0+flsrwaimuxx+XUWTTtZT/+CNfm5sp1elTXIJuNaKfH51dmZk+XSsK1b591vf7+MgIW0SEHJcrJ+8NZ2fpqHr3Xangz7naVFCV9UjC7hGzcSfJ3axieV5QQbeqDTJqVN6PcitffglMnAj88ov1zBYfn8ynmhARETHotpONG+VD8axZclylSv4sE+LkBPTrZ//XyakFC2Su+aJFMopgbc3sgmTZMinItWCBjMLUqCHpu2XKSCp5crKs6TpggP5DWVJS1unH+UmNdB88KMWHTNdhL4oKStDdqpW0JTLS9o63jh21oLtjR+3/atw4YPhwKShFVJD5e13P+qYcytipbJrWndfeeUer30FERJRTBSABuejZtk3mcvr7yygXwHldyuDBUjitMC1j9MQTMppdv752zslJgm/lq6/k3KOPSmA0b17BCrgBWUqqRAkp/HP6tKNbk3M//yzzN+9ZyFhdv146SGJjpWMEsF6BOD81a5a9Qm5jxkgHD2BeCK18+YIxdYTIUapUkSkjiqM71oiIiLLCkW472LTJ/JxaS5uKDtPMBdWpolKACyJnZ+ns2LtXUsxNOxEKi5QUmUIBSCfC669r14xGoFcv2Y+OlmMfn4JXJ8AWAQFSfXzDBuCZZxzdGqKCZ9YsydixtLwkERFRQcM/VXawZ49smzaVJUwMBmDYMMe2ifLe9OlSZX3lSke3xHZq1LewVjBXy2ABskTWl19qc+gvmUwdnTlTtmoudWFUo4b83vDwcHRLiAoeLy9g+XL+bSUiosKBI9156IsvZLmrHTvkePZsmc/544+OqZxM9tWypTbvtrAo7BXMTdt96pSsiV6lilQVVstrAbJ2OqCvHE5ERERE5AgMuvNIbCwwfrx27OamBTgMuKmgKOxrdaug22DQKhdHRQH//qstEWaqTZv8axsRERERkSVML88jpqNsAPDccwWvkBaRWpbt0iVZZ7ywUUH3jBnA3LlaQb6FC7VpHYqzs23rYhMRERER2RNHuvOI6drMDzwAfPut49pCZE3p0kCdOrI+eng40K2bo1tkO6MRCAmR/aAgSR2vXl2WC9q1C7h6Va4tXy5fW0CALOtGRERERORIHOnOI8HBsv3+e9kvVcqx7SGyRqWYW0rHdoStW4HLl7O+7+xZ4No1ySBp3lzOqZHuyEggMVFWCejXD/j4Y6B/f3u1mIiIiIjIdgy6cykhAfjvP2D7djlu396x7SHKihrd/vVXWeu6VSvJzkhNzf+2zJwJdOkCdOoExMVlfq9KHw8M1Naw9vYGKlbU7uncWeZ7ExEREREVFAy6c+mzz4AePSRgqFhRK55GVFA9+6ykmZ84AUyYICnbu3YBp0/nbzuCg7V1tk+fBp5+Grh9W3/PvXtawbTdu2VrWpHcYJBl2xS1TjcRERERUUHBoDuXPv1U22/WDHDid5QKuDJlgIEDZf/rr7Xz+bmMWEoKMGiQLO1VoYIUPfvnH2DiRO2eEyeAqlWBRx+V49BQ2bZqpX+uGjW0/SFD7NtuIiIiIqLsYoiYCykpgIeHdjxokOPaQpQdXbuanzt4MP9e/9gx4OJFqX0QGSmp7oDURPDykuB72DCpsL5qFbB/P3DokNyjKrArH38saeVbtmhp50REREREBQWD7lw4flyKNwHADz8AL7zg2PYQ2apzZ/NzmY10nzwpRcomTcqb19+/X7ZBQRJ4P/WUdu3GDckgMV0R4P33JfXcxQXw99c/V5MmEnBb+pqIiIiIiByNQXcuqOrPHTsCL78sAQFRYVC9ulZhv3t32WY20j1hglQO//hjbY51Tq1erXVQqXW03dxkZDsjlVq+fr1s/f3lXiIiIiKiwoJBdw4ZjcCMGbLPETYqjNatkzndf/whx5GRwK1blu+9eFHbj4zM/mtduAC89pqkiI8erZ1v0ULbnzoVWLZMiqd98QXw9tuSQWIqY2o5EREREVFBx7HZ+86elRG4UaNsG7Fet04KO5UsqVVgJipMHnhA/gFSjOzCBQmKO3bU35ecrE89X70aeOUV218nLg5o1AiIjQUOHwbOn9e3QSlXDnjiCdl/913ZGo1A+fJATIwcmwbpRERERESFQbEf6d6xQz7QN24sI3E//2zb45Yvl+3QoUClSvZrH1F+UEvdWZrXvW8fEB+vHb/6KrBmje3PvWKFBNyAzL1W9u4FatXK/LEZlwTr2dP21yUiIiIiKgiKddD9++8yqtezJ5CQIOdMgwJr1q4FfvlF9tWcU6LCTKVtW5rXvXatbAMDtergc+bY/tyqaJqp3r3Nl/6y5uZNbb9xY9tfl4iIiIioICiWQXdqqozWPfecHIeEaNeiozN/bGgo0KeP7JcsCXTpYpcmEuUrNdK9ZYu8PyIjgUWLJL37r7/k2pgxwLZtsr9xoyyZZ4sDB6y/ni2mTJHt8OEy8k1EREREVJgUy6B7wwZg5kzL18LDterMN25I+vju3drjTOeUfvkl1wWmoqFnT5lTfeoUMH8+0K4d8MwzQIUK2vrYvXrJz3+FCrJ81969WT+v0agF3V9/LWtwGwzZyxB56ilJcbf2niUiIiIiKsiKTdB9544EzUYj8Ntv1u+7dUsqNScnAx9+qAUg9+4BAwdq94WGZq+YFFFBVq4c8N57sj9sGBAVJfuqmvnkyYC3N+DsDDz4oJzbtCnr51UV0V1dpeDglSsyv7tdO9vbZjDI0mLs4CIiIiKiwqjYBN3PPy+jeVOmACtXyrk5cwAnk+9AkyayXbMG8PXVL1c0b54WgCxaBDRvbv82E+Wnt94C+vUzP9+6tazTragl8lSqeWb27JFtQICsr+3sDHh65rqpRERERESFRrEJuleskO3EiUBiohSFeuEFYOlSOf/ll1oxqVGjZETO1EsvyXb0aGDQoHxpMlG+cnWV4oIZZVxCrFMn2W7YIO+ntDTrz7ljh2w7dMibNhIRERERFTbFIui+ft383MsvS9rq449LgP3227YVd2LATUVZqVIyf/r557Vzau1spXFjbbT600+16uaWMOgmIiIiouKuyAfdt26Zp8yWLi1FohRvbwnA1Ui3Nf7+DB6o6GvZEvj1VymqtnEj8MAD+utOTtr8bwCYO1feZ/fu6e+7dUtbgqx9e3u2mIiIiIio4CqyQbdaFqx8eSA4WH9t6FAZ0cvINOiuW1e23t7AkiVAUBDw559csoiKDz8/oFs3y9cmTtSqmi9fLu+zIUNkTe25c2V5sVq1JPW8USOgatV8azYRERERUYHi4ugG2Mv27folhpo3l5HqgweBsWMtP6ZKFQkQzp2Tysx798rj6tYFnnwyX5pNVGg0aQJUqwZcuiTHS5YAcXFSiNAU3ztEREREVJwV2aA7NFTbP3DAtvnaBgOwdSuQkADUqCEVzInIuhYttKAbMA+4AQbdRERERFS8FdmgOyxMtp98YlvArXh52ac9REVRy5bA33/rzzk5AXfuAKtXy5rcAQGOaRsRERERUUFQZINuNdIdFOTYdhAVZf7+5ufS0oCSJYGBA/O/PUREREREBU2RLKQWGwscPy77DLqJ7Oehh4D69YH+/SWrBAAmT3Zsm4iIiIiICpIiOdIdHCyjbb6+UhyNiOyjdGngxAnZNxolCA8MdGiTiIiIiIgKlCIZdG/eLFtryx0RUd4zGIBWrRzdCiIiIiKigqVIppdv2iRbBt1ERERERETkSEUu6L59G9i/X/a7dnVsW4iIiIiIiKh4K3Lp5aVKAfv2yb/q1R3dGiIiIiIiIirOilzQ7ewsFctZtZyIiIiIiIgcrcillxMREREREREVFAy6iYiIiIiIiOyEQTcRERERERGRnTDoJiIiIiIiIrKTIldIjYiIKEfi4x3dguKL3/tCJT656Px/FaWvhYgKLoPRaDQ6uhFERERERERERRHTy4mIiIiIiIjshEE3ERERERERkZ0w6CYiIiIiIiKyEwbdRERERERERHbCoJuIiIiIiIjIThh0ExEREREREdkJg24iIiIiIiIiO2HQTURERERERGQnDLqJiIiIiIiI7OT/AbjfCS8Ar4EXAAAAAElFTkSuQmCC",
        "text/plain": "<Figure size 1000x200 with 1 Axes>"
       },
       "metadata": {},
       "status": "ok"
      }
     }
    ]
   },
   "source": [
    "\n",
    "If we look at the following stock price for [Apple](https://en.wikipedia.org/wiki/Apple_Inc.) ({eval}`stocks`) we can see that in 2003, they started selling [computers](https://en.wikipedia.org/wiki/MacBook_Pro), in the red region and their stock went crazy once the investment paid off ({eval}`annotated`).[^note]\n",
    "\n",
    "[^note]: Both the graphs are fake, but pretty cool right!  "
   ]
  },
  {
   "cell_type": "code",
   "execution_count": 21,
   "id": "463cdcbe-066d-4187-bf4a-d09b4233666f",
   "metadata": {
    "tags": []
   },
   "outputs": [],
   "source": [
    "text_hover = HTML('<span onmouseover=\"this.innerText=\\'💚\\'\" onmouseout=\"this.innerText=\\'🎉\\'\">❤️</span>');"
   ]
  },
  {
   "cell_type": "markdown",
   "id": "dd711f73-94eb-4da4-ba01-2ac822450a2f",
   "metadata": {
    "tags": [],
    "user_expressions": [
     {
      "expression": "text_hover",
      "result": {
       "data": {
        "text/html": "<span onmouseover=\"this.innerText='💚'\" onmouseout=\"this.innerText='🎉'\">❤️</span>",
        "text/plain": "<IPython.core.display.HTML object>"
       },
       "metadata": {},
       "status": "ok"
      }
     }
    ]
   },
   "source": [
    "Try hovering over this element[^trust]: {eval}`text_hover`\n",
    "\n",
    "[^trust]: You may need to set your notebook to trusted to do this (open the Command Palette from the `View` menu and type \"trust\")!!"
   ]
  },
  {
   "cell_type": "markdown",
   "id": "3f6ef461-8ee8-4dca-b0ff-22b334f53a2a",
   "metadata": {},
   "source": [
    "Note that the following code should produce a working video, as you can see in the next cell. This is not currently working, but [we're tracking it](https://github.com/executablebooks/jupyterlab-myst/issues/97).\n",
    "\n",
    "```\n",
    "{eval}`YouTubeVideo('NxSNVt9XsCI')`\n",
    "```\n",
    "\n",
    "yay."
   ]
  },
  {
   "cell_type": "code",
   "execution_count": null,
   "id": "0dc24a71-0b45-4c7f-9ae3-298301d32561",
   "metadata": {},
   "outputs": [],
   "source": []
  },
  {
   "cell_type": "code",
   "execution_count": null,
   "id": "ce31ab51-e162-4032-aa8a-9aa7b29a1e5b",
   "metadata": {},
   "outputs": [],
   "source": []
  }
 ],
 "metadata": {
  "kernelspec": {
   "display_name": "Python 3 (ipykernel)",
   "language": "python",
   "name": "python3"
  },
  "language_info": {
   "codemirror_mode": {
    "name": "ipython",
    "version": 3
   },
   "file_extension": ".py",
   "mimetype": "text/x-python",
   "name": "python",
   "nbconvert_exporter": "python",
   "pygments_lexer": "ipython3",
   "version": "3.10.6"
  },
  "widgets": {
   "application/vnd.jupyter.widget-state+json": {
    "state": {
     "0475c9891b1041ac958732b3f3dfde80": {
      "model_module": "@jupyter-widgets/base",
      "model_module_version": "2.0.0",
      "model_name": "LayoutModel",
      "state": {}
     },
     "1e8ab668a82f4bca84d0731092af405f": {
      "model_module": "@jupyter-widgets/controls",
      "model_module_version": "2.0.0",
      "model_name": "LabelModel",
      "state": {
       "layout": "IPY_MODEL_2e78dacf92a94dd6aa3919a29722948b",
       "style": "IPY_MODEL_480aadd6662c4c2bbcca8ef67255e64a",
       "value": "500"
      }
     },
     "274ed93dcd0f4897a95f314dc1f3b1fb": {
      "model_module": "@jupyter-widgets/base",
      "model_module_version": "2.0.0",
      "model_name": "LayoutModel",
      "state": {}
     },
     "2766f4faadcd443f8c195bf614a30035": {
      "model_module": "@jupyter-widgets/controls",
      "model_module_version": "2.0.0",
      "model_name": "DescriptionStyleModel",
      "state": {
       "description_width": ""
      }
     },
     "2e78dacf92a94dd6aa3919a29722948b": {
      "model_module": "@jupyter-widgets/base",
      "model_module_version": "2.0.0",
      "model_name": "LayoutModel",
      "state": {}
     },
     "38bb524a0a544221a6d57312a1b24323": {
      "model_module": "@jupyter-widgets/controls",
      "model_module_version": "2.0.0",
      "model_name": "LabelModel",
      "state": {
       "layout": "IPY_MODEL_274ed93dcd0f4897a95f314dc1f3b1fb",
       "style": "IPY_MODEL_64cee23ec9524879aa172d0271642964",
       "value": "23.8"
      }
     },
     "480aadd6662c4c2bbcca8ef67255e64a": {
      "model_module": "@jupyter-widgets/controls",
      "model_module_version": "2.0.0",
      "model_name": "LabelStyleModel",
      "state": {
       "description_width": "",
       "font_family": null,
       "font_size": null,
       "font_style": null,
       "font_variant": null,
       "font_weight": null,
       "text_color": null,
       "text_decoration": null
      }
     },
     "62a7cd9328f142c98184357d8951af13": {
      "model_module": "@jupyter-widgets/controls",
      "model_module_version": "2.0.0",
      "model_name": "SliderStyleModel",
      "state": {
       "description_width": ""
      }
     },
     "64cee23ec9524879aa172d0271642964": {
      "model_module": "@jupyter-widgets/controls",
      "model_module_version": "2.0.0",
      "model_name": "LabelStyleModel",
      "state": {
       "description_width": "",
       "font_family": null,
       "font_size": null,
       "font_style": null,
       "font_variant": null,
       "font_weight": null,
       "text_color": null,
       "text_decoration": null
      }
     },
     "72a3e705505044a49019394d40092e25": {
      "model_module": "@jupyter-widgets/base",
      "model_module_version": "2.0.0",
      "model_name": "LayoutModel",
      "state": {}
     },
     "888a2a0691f44d008052ded919537342": {
      "model_module": "@jupyter-widgets/controls",
      "model_module_version": "2.0.0",
      "model_name": "LinkModel",
      "state": {
       "source": [
        "IPY_MODEL_b026379e864a457585df0502be54ba98",
        "value"
       ],
       "target": [
        "IPY_MODEL_99c2b3b4f0634fb19a6586a1b7c048ad",
        "value"
       ]
      }
     },
     "99c2b3b4f0634fb19a6586a1b7c048ad": {
      "model_module": "@jupyter-widgets/controls",
      "model_module_version": "2.0.0",
      "model_name": "BoundedIntTextModel",
      "state": {
       "layout": "IPY_MODEL_72a3e705505044a49019394d40092e25",
       "max": 30,
       "style": "IPY_MODEL_2766f4faadcd443f8c195bf614a30035",
       "value": 10
      }
     },
     "b026379e864a457585df0502be54ba98": {
      "model_module": "@jupyter-widgets/controls",
      "model_module_version": "2.0.0",
      "model_name": "IntSliderModel",
      "state": {
       "behavior": "drag-tap",
       "description": "Cookies: ",
       "layout": "IPY_MODEL_0475c9891b1041ac958732b3f3dfde80",
       "max": 30,
       "style": "IPY_MODEL_62a7cd9328f142c98184357d8951af13",
       "value": 10
      }
     }
    },
    "version_major": 2,
    "version_minor": 0
   }
  }
 },
 "nbformat": 4,
 "nbformat_minor": 5
}
