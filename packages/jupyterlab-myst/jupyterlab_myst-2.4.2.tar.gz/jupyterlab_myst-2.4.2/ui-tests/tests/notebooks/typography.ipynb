{
 "cells": [
  {
   "cell_type": "markdown",
   "id": "e3ccc667-c8e6-4548-bbcb-8ece3891d6b6",
   "metadata": {
    "tags": []
   },
   "source": [
    "# Typography\n",
    "\n",
    "## Subtitle!"
   ]
  },
  {
   "cell_type": "markdown",
   "id": "70841c8a-f3a4-4979-b9bd-c663e0ed6021",
   "metadata": {},
   "source": [
    "- Bullet\n",
    "  - List\n",
    "    1. Containing\n",
    "    2. Some\n",
    "  - Numbers"
   ]
  },
  {
   "cell_type": "markdown",
   "id": "d07b65c2-56a6-4eef-8315-a83a29bc8d89",
   "metadata": {},
   "source": [
    "A link https://google.com and an autolink <https://bbc.co.uk/news> and a custom link [to anywhere!](https://wikipedia.org)"
   ]
  },
  {
   "cell_type": "markdown",
   "id": "e30ff2f4-b6c2-4728-bb30-1c47cc52fca4",
   "metadata": {},
   "source": [
    "Term 1\n",
    ": Definition\n",
    "\n",
    "Term 2\n",
    ": Definition"
   ]
  },
  {
   "cell_type": "markdown",
   "id": "1cec76fd-466e-4583-95e5-c72a72dae0fa",
   "metadata": {},
   "source": [
    "{kbd}`Ctrl` + {kbd}`Space`"
   ]
  },
  {
   "cell_type": "markdown",
   "id": "1d47e1fc-d3db-4b7f-a791-fbbf489eb66b",
   "metadata": {},
   "source": [
    "Fleas \\\n",
    "Adam \\\n",
    "Had 'em.\n",
    "\n",
    "By Strickland Gillilan"
   ]
  },
  {
   "cell_type": "markdown",
   "id": "773b0abc-0466-4134-b513-605e3f31392f",
   "metadata": {},
   "source": [
    "H{sub}`2`O, and 4{sup}`th` of July"
   ]
  },
  {
   "cell_type": "markdown",
   "id": "c4661b3f-918f-4a14-b1d9-4e1f8fcdfab9",
   "metadata": {},
   "source": [
    "Well {abbr}`MyST (Markedly Structured Text)` is cool!"
   ]
  },
  {
   "cell_type": "markdown",
   "id": "af41d124-6565-4915-9ff4-b97746738a0b",
   "metadata": {},
   "source": [
    "Foo [^a] and Bar [^b]\n",
    "\n",
    "[^a]: A footnote\n",
    "[^b]: Another footnote"
   ]
  },
  {
   "cell_type": "markdown",
   "id": "35c3a924-acaa-4163-9edc-c1e92151cde9",
   "metadata": {},
   "source": [
    "Foo [^c] and Bar [^d]\n",
    "\n",
    "[^c]: A footnote\n",
    "[^d]: Another footnote"
   ]
  }
 ],
 "metadata": {
  "kernelspec": {
   "display_name": "Python 3 (ipykernel)",
   "language": "python",
   "name": "python3"
  },
  "language_info": {
   "codemirror_mode": {
    "name": "ipython",
    "version": 3
   },
   "file_extension": ".py",
   "mimetype": "text/x-python",
   "name": "python",
   "nbconvert_exporter": "python",
   "pygments_lexer": "ipython3",
   "version": "3.10.13"
  },
  "vscode": {
   "interpreter": {
    "hash": "a665b5d41d17b532ea9890333293a1b812fa0b73c9c25c950b3cedf1bebd0438"
   }
  },
  "widgets": {
   "application/vnd.jupyter.widget-state+json": {
    "state": {},
    "version_major": 2,
    "version_minor": 0
   }
  }
 },
 "nbformat": 4,
 "nbformat_minor": 5
}
