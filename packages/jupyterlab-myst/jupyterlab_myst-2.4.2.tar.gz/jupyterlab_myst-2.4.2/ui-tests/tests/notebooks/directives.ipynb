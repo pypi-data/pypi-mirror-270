{
 "cells": [
  {
   "cell_type": "markdown",
   "id": "ca08bb8d-dc60-494e-a63e-5a9a7d4be7bd",
   "metadata": {},
   "source": [
    "---\n",
    "title: Directives\n",
    "date: 2024-04-26\n",
    "authors:\n",
    "  - name: Angus Hollands\n",
    "    affiliations:\n",
    "      - 2i2c\n",
    "---"
   ]
  },
  {
   "cell_type": "markdown",
   "id": "d79b49b1-d263-4759-bfce-699f88f8c778",
   "metadata": {
    "tags": []
   },
   "source": [
    "```{note}\n",
    ":class: dropdown\n",
    "\n",
    "This is MyST in a notebook rendered by `jupyterlab-myst`!!\n",
    "```"
   ]
  },
  {
   "cell_type": "markdown",
   "id": "aaaab279-c281-4f20-8852-dcaa08c0d07c",
   "metadata": {},
   "source": [
    ":::{pull-quote}\n",
    "We know what we are, but know not what we may be.\n",
    ":::\n",
    "\n",
    "They say the owl was a baker’s daughter. Lord, we know what we are, but know not what we may be. God be at your table."
   ]
  },
  {
   "cell_type": "markdown",
   "id": "c2113213-77a9-4ffc-aec8-fe686f85c4a8",
   "metadata": {},
   "source": [
    ":::{prf:proof}\n",
    ":label: full-proof\n",
    "Let $z$ be any other point in $S$ and use the fact that $S$ is a linear subspace to deduce\n",
    "\n",
    "```{math}\n",
    "\\| y - z \\|^2\n",
    "= \\| (y - \\hat y) + (\\hat y - z) \\|^2\n",
    "= \\| y - \\hat y \\|^2  + \\| \\hat y - z  \\|^2\n",
    "```\n",
    "\n",
    "Hence $\\| y - z \\| \\geq \\| y - \\hat y \\|$, which completes the proof.\n",
    ":::"
   ]
  },
  {
   "cell_type": "markdown",
   "id": "950ad6fc-7ae3-4eaf-a497-03aa5817cf90",
   "metadata": {},
   "source": [
    "```{mermaid} \n",
    "flowchart LR\n",
    "  A[Jupyter Notebook] --> C\n",
    "  B[MyST Markdown] --> C\n",
    "  C(mystmd) --> D{AST}\n",
    "  D <--> E[LaTeX]\n",
    "  E --> F[PDF]\n",
    "  D --> G[Word]\n",
    "  D --> H[React]\n",
    "  D --> I[HTML]\n",
    "  D <--> J[JATS]\n",
    "```"
   ]
  }
 ],
 "metadata": {
  "kernelspec": {
   "display_name": "Python 3 (ipykernel)",
   "language": "python",
   "name": "python3"
  },
  "language_info": {
   "codemirror_mode": {
    "name": "ipython",
    "version": 3
   },
   "file_extension": ".py",
   "mimetype": "text/x-python",
   "name": "python",
   "nbconvert_exporter": "python",
   "pygments_lexer": "ipython3",
   "version": "3.10.13"
  }
 },
 "nbformat": 4,
 "nbformat_minor": 5
}
