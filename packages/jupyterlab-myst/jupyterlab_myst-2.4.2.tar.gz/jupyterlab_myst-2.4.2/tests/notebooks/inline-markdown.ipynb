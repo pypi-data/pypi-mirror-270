{
 "cells": [
  {
   "cell_type": "code",
   "execution_count": 2,
   "id": "3fac41c9-450f-49b3-a9f8-e2f09754861a",
   "metadata": {
    "tags": []
   },
   "outputs": [],
   "source": [
    "x = 1"
   ]
  },
  {
   "cell_type": "markdown",
   "id": "99906164-db40-49e5-b346-35af477b5559",
   "metadata": {
    "user_expressions": [
     {
      "expression": "x",
      "result": {
       "data": {
        "text/plain": "1"
       },
       "metadata": {},
       "status": "ok"
      }
     }
    ]
   },
   "source": [
    "`x` has a value of {eval}`x`"
   ]
  }
 ],
 "metadata": {
  "kernelspec": {
   "display_name": "Python 3 (ipykernel)",
   "language": "python",
   "name": "python3"
  },
  "language_info": {
   "codemirror_mode": {
    "name": "ipython",
    "version": 3
   },
   "file_extension": ".py",
   "mimetype": "text/x-python",
   "name": "python",
   "nbconvert_exporter": "python",
   "pygments_lexer": "ipython3",
   "version": "3.10.6"
  },
  "widgets": {
   "application/vnd.jupyter.widget-state+json": {
    "state": {},
    "version_major": 2,
    "version_minor": 0
   }
  }
 },
 "nbformat": 4,
 "nbformat_minor": 5
}
