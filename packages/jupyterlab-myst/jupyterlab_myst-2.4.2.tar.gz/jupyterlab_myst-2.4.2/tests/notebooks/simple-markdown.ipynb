{
 "cells": [
  {
   "cell_type": "markdown",
   "id": "56cb8a6d-7793-4de0-8e65-cbe98cdf193a",
   "metadata": {
    "tags": [],
    "user_expressions": []
   },
   "source": [
    "`x = 1`"
   ]
  },
  {
   "cell_type": "markdown",
   "id": "975e82f7-c1b5-4803-a7b5-22c84886c555",
   "metadata": {
    "tags": [],
    "user_expressions": []
   },
   "source": [
    "``print(\"`x` has a value of \", x)``"
   ]
  }
 ],
 "metadata": {
  "kernelspec": {
   "display_name": "Python 3 (ipykernel)",
   "language": "python",
   "name": "python3"
  },
  "language_info": {
   "codemirror_mode": {
    "name": "ipython",
    "version": 3
   },
   "file_extension": ".py",
   "mimetype": "text/x-python",
   "name": "python",
   "nbconvert_exporter": "python",
   "pygments_lexer": "ipython3",
   "version": "3.10.6"
  },
  "widgets": {
   "application/vnd.jupyter.widget-state+json": {
    "state": {},
    "version_major": 2,
    "version_minor": 0
   }
  }
 },
 "nbformat": 4,
 "nbformat_minor": 5
}
