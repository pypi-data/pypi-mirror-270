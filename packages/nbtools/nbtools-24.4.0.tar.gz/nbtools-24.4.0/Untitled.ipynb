{
 "cells": [
  {
   "cell_type": "markdown",
   "id": "b596705f-954f-4585-b721-e892c57e775f",
   "metadata": {},
   "source": [
    "# Hello"
   ]
  },
  {
   "cell_type": "code",
   "execution_count": 2,
   "id": "fe2a8a86-87b7-4eee-b3a0-3a7152b78ca0",
   "metadata": {
    "nbtools": {
     "force_display": true
    }
   },
   "outputs": [
    {
     "data": {
      "application/vnd.jupyter.widget-view+json": {
       "model_id": "c45d7cb637e044e29b33977791449f92",
       "version_major": 2,
       "version_minor": 0
      },
      "text/plain": [
       "UIBuilder(children=(UIBuilderBase(collapse=True, description='Example Widget', form=InteractiveForm(children=(…"
      ]
     },
     "metadata": {},
     "output_type": "display_data"
    }
   ],
   "source": [
    "import nbtools\n",
    "\n",
    "@nbtools.build_ui\n",
    "def foo(bar):\n",
    "    \"\"\"Example Widget\"\"\"\n",
    "    print(bar)"
   ]
  },
  {
   "cell_type": "code",
   "execution_count": 3,
   "id": "31839f7d-b84a-4695-84d0-46711c66adcc",
   "metadata": {},
   "outputs": [
    {
     "data": {
      "application/vnd.jupyter.widget-view+json": {
       "model_id": "d7e8da1f268c4787b410f17fd55ee6dd",
       "version_major": 2,
       "version_minor": 0
      },
      "text/plain": [
       "Upload(value={}, description='Upload')"
      ]
     },
     "execution_count": 3,
     "metadata": {},
     "output_type": "execute_result"
    }
   ],
   "source": [
    "import ipyuploads\n",
    "\n",
    "ipyuploads.Upload()"
   ]
  },
  {
   "cell_type": "code",
   "execution_count": 4,
   "id": "1052e3b4-ba7d-49c4-915d-8288efa8f9a3",
   "metadata": {
    "nbtools": {
     "force_display": true
    },
    "tags": []
   },
   "outputs": [
    {
     "data": {
      "application/vnd.jupyter.widget-view+json": {
       "model_id": "e0a68a7ce76746c89edb957e266e1f9e",
       "version_major": 2,
       "version_minor": 0
      },
      "text/plain": [
       "UIOutput(appendix=VBox(), files=['all_aml_test.cls', 'all_aml_test.gct'], name='1234. ConvertLineEndings', ori…"
      ]
     },
     "execution_count": 4,
     "metadata": {},
     "output_type": "execute_result"
    }
   ],
   "source": [
    "nbtools.UIOutput(name='1234. ConvertLineEndings', origin='GenePattern Testing', files=['all_aml_test.cls', 'all_aml_test.gct'])"
   ]
  },
  {
   "cell_type": "code",
   "execution_count": 5,
   "id": "57c6d108-2a90-43f2-99d3-b7dc9dcfe2e5",
   "metadata": {
    "nbtools": {
     "force_display": true
    }
   },
   "outputs": [
    {
     "data": {
      "application/vnd.jupyter.widget-view+json": {
       "model_id": "414bb22acecf4a4c8334101de8e9cf6e",
       "version_major": 2,
       "version_minor": 0
      },
      "text/plain": [
       "UIOutput(appendix=VBox(), files=['xxxall_aml_test.cls', 'xxxall_aml_test.gct'], name='1234. NMF', origin='Gene…"
      ]
     },
     "execution_count": 5,
     "metadata": {},
     "output_type": "execute_result"
    }
   ],
   "source": [
    "nbtools.UIOutput(name='1234. NMF', origin='GenePattern Testing', files=['xxxall_aml_test.cls', 'xxxall_aml_test.gct'])"
   ]
  },
  {
   "cell_type": "code",
   "execution_count": 6,
   "id": "f078cef1-8152-46b3-a8a5-03b743237de2",
   "metadata": {
    "nbtools": {
     "force_display": true
    }
   },
   "outputs": [
    {
     "data": {
      "application/vnd.jupyter.widget-view+json": {
       "model_id": "d426ea58e8f540248b63e0b854778630",
       "version_major": 2,
       "version_minor": 0
      },
      "text/plain": [
       "UIOutput(appendix=VBox(), files=['sssall_aml_test.cls', 'sssall_aml_test.gct'], name='1234. HeatMapViewer', or…"
      ]
     },
     "execution_count": 6,
     "metadata": {},
     "output_type": "execute_result"
    }
   ],
   "source": [
    "nbtools.UIOutput(name='1234. HeatMapViewer', origin='GenePattern Testing', files=['sssall_aml_test.cls', 'sssall_aml_test.gct'])"
   ]
  },
  {
   "cell_type": "code",
   "execution_count": 7,
   "id": "66e5677f-4fa1-42b5-9275-0f57e71c387b",
   "metadata": {},
   "outputs": [],
   "source": [
    "d = nbtools.Data(origin=\"Notebook\", group=\"This is a collection of working datasets.\", uri=\"https://www.google.com/logos/doodles/2023/seasonal-holidays-2023-6753651837110165-6752733080612631-cst.gif\")\n",
    "nbtools.DataManager.instance().register(d)\n",
    "\n",
    "d = nbtools.Data(origin=\"Notebook\", group=\"This is a collection of working datasets.\", uri=\"Add line to file on data 33\")\n",
    "nbtools.DataManager.instance().register(d)\n",
    "\n",
    "d = nbtools.Data(origin=\"Notebook\", group=\"This is a collection of working datasets.\", uri=\"https://www.tabcreations.com/media/uploads/aoa/what-lies-beneath-logo.png\")\n",
    "nbtools.DataManager.instance().register(d)\n",
    "\n",
    "d = nbtools.Data(origin=\"Notebook\", group=\"This is a collection of working datasets.\", uri=\"UCSC_Main_on_Human__wgEncodeGencodeBasicV37_(chr22_1-50,818,468).tabular\")\n",
    "nbtools.DataManager.instance().register(d)\n",
    "\n",
    "d = nbtools.Data(origin=\"Notebook\", group=\"This is a collection of working datasets.\", uri=\"FastQC on data 15: Webpage\")\n",
    "w = nbtools.UIOutput(name='WORKING!', description='Hell Yeah!')\n",
    "nbtools.DataManager.instance().data_widget(origin=\"Notebook\", uri=\"FastQC on data 15: Webpage\", widget=w)\n",
    "nbtools.DataManager.instance().register(d)"
   ]
  },
  {
   "cell_type": "code",
   "execution_count": 8,
   "id": "692dc394-ce89-4ee2-b7ed-c19d4ccbce81",
   "metadata": {},
   "outputs": [
    {
     "data": {
      "text/plain": [
       "[<nbtools.tool_manager.Data at 0x110d82580>,\n",
       " <nbtools.tool_manager.Data at 0x110d82250>,\n",
       " <nbtools.tool_manager.Data at 0x110d78fa0>,\n",
       " <nbtools.tool_manager.Data at 0x110d78d90>,\n",
       " <nbtools.tool_manager.Data at 0x110d784f0>,\n",
       " <nbtools.tool_manager.Data at 0x110d78220>,\n",
       " <nbtools.tool_manager.Data at 0x110d6abe0>,\n",
       " <nbtools.tool_manager.Data at 0x110d6aaf0>,\n",
       " <nbtools.tool_manager.Data at 0x10e8ead00>,\n",
       " <nbtools.tool_manager.Data at 0x10e8eabb0>,\n",
       " <nbtools.tool_manager.Data at 0x110dca820>]"
      ]
     },
     "execution_count": 8,
     "metadata": {},
     "output_type": "execute_result"
    }
   ],
   "source": [
    "nbtools.DataManager.instance().list()"
   ]
  },
  {
   "cell_type": "code",
   "execution_count": 9,
   "id": "9b1c6f7d-4f53-4e4f-a232-c39f071e0ab8",
   "metadata": {},
   "outputs": [
    {
     "name": "stdout",
     "output_type": "stream",
     "text": [
      "Cannot find data to unregister: Notebook | test.csv\n"
     ]
    }
   ],
   "source": [
    "nbtools.DataManager.instance().unregister(origin=\"Notebook\", uri=\"test.csv\")"
   ]
  },
  {
   "cell_type": "code",
   "execution_count": 10,
   "id": "67a25208-0d28-4fe0-b0db-544c86deb3ef",
   "metadata": {
    "nbtools": {
     "force_display": true
    },
    "tags": []
   },
   "outputs": [
    {
     "data": {
      "application/vnd.jupyter.widget-view+json": {
       "model_id": "e0a68a7ce76746c89edb957e266e1f9e",
       "version_major": 2,
       "version_minor": 0
      },
      "text/plain": [
       "UIOutput(appendix=VBox(), files=['all_aml_test.cls', 'all_aml_test.gct'], name='1234. ConvertLineEndings', ori…"
      ]
     },
     "execution_count": 10,
     "metadata": {},
     "output_type": "execute_result"
    }
   ],
   "source": [
    "nbtools.data(origin='GenePattern Testing', group='1234. ConvertLineEndings', uris=['all_aml_test.cls', 'all_aml_test.gct'])"
   ]
  },
  {
   "cell_type": "code",
   "execution_count": 11,
   "id": "adaf264d-1381-4d83-9693-a584b52765bd",
   "metadata": {
    "nbtools": {
     "force_display": true
    },
    "tags": []
   },
   "outputs": [
    {
     "data": {
      "application/vnd.jupyter.widget-view+json": {
       "model_id": "e0a68a7ce76746c89edb957e266e1f9e",
       "version_major": 2,
       "version_minor": 0
      },
      "text/plain": [
       "UIOutput(appendix=VBox(), files=['all_aml_test.cls', 'all_aml_test.gct'], name='1234. ConvertLineEndings', ori…"
      ]
     },
     "execution_count": 11,
     "metadata": {},
     "output_type": "execute_result"
    }
   ],
   "source": [
    "nbtools.data(origin='GenePattern Testing', group='1234. ConvertLineEndings', uris=['all_aml_test.cls', 'all_aml_test.gct'])"
   ]
  },
  {
   "cell_type": "code",
   "execution_count": 12,
   "id": "1e6e5864-7dc7-4753-a8ec-03aa1937aa1c",
   "metadata": {
    "nbtools": {
     "force_display": true
    },
    "tags": []
   },
   "outputs": [
    {
     "data": {
      "application/vnd.jupyter.widget-view+json": {
       "model_id": "d426ea58e8f540248b63e0b854778630",
       "version_major": 2,
       "version_minor": 0
      },
      "text/plain": [
       "UIOutput(appendix=VBox(), files=['sssall_aml_test.cls', 'sssall_aml_test.gct'], name='1234. HeatMapViewer', or…"
      ]
     },
     "execution_count": 12,
     "metadata": {},
     "output_type": "execute_result"
    }
   ],
   "source": [
    "nbtools.data(origin='GenePattern Testing', group='1234. HeatMapViewer', uris=['sssall_aml_test.cls', 'sssall_aml_test.gct'])"
   ]
  },
  {
   "cell_type": "code",
   "execution_count": 13,
   "id": "fffdc0f8-c817-43e2-9524-cdc6bfc39349",
   "metadata": {
    "nbtools": {
     "force_display": true
    },
    "tags": []
   },
   "outputs": [
    {
     "data": {
      "application/vnd.jupyter.widget-view+json": {
       "model_id": "d426ea58e8f540248b63e0b854778630",
       "version_major": 2,
       "version_minor": 0
      },
      "text/plain": [
       "UIOutput(appendix=VBox(), files=['sssall_aml_test.cls', 'sssall_aml_test.gct'], name='1234. HeatMapViewer', or…"
      ]
     },
     "execution_count": 13,
     "metadata": {},
     "output_type": "execute_result"
    }
   ],
   "source": [
    "nbtools.data(origin='GenePattern Testing', group='1234. HeatMapViewer', uris=['sssall_aml_test.cls', 'sssall_aml_test.gct'])"
   ]
  },
  {
   "cell_type": "code",
   "execution_count": 14,
   "id": "2b81858a-99f1-4baa-b90e-5578f37f085d",
   "metadata": {
    "nbtools": {
     "force_display": true
    },
    "tags": []
   },
   "outputs": [
    {
     "data": {
      "application/vnd.jupyter.widget-view+json": {
       "model_id": "e0a68a7ce76746c89edb957e266e1f9e",
       "version_major": 2,
       "version_minor": 0
      },
      "text/plain": [
       "UIOutput(appendix=VBox(), files=['all_aml_test.cls', 'all_aml_test.gct'], name='1234. ConvertLineEndings', ori…"
      ]
     },
     "execution_count": 14,
     "metadata": {},
     "output_type": "execute_result"
    }
   ],
   "source": [
    "nbtools.data(origin='GenePattern Testing', group='1234. ConvertLineEndings', uris=['all_aml_test.cls', 'all_aml_test.gct'])"
   ]
  },
  {
   "cell_type": "code",
   "execution_count": 15,
   "id": "2088a132-1f69-41c7-aa0c-2f54d52e75b8",
   "metadata": {
    "nbtools": {
     "force_display": true
    },
    "tags": []
   },
   "outputs": [
    {
     "data": {
      "application/vnd.jupyter.widget-view+json": {
       "model_id": "d426ea58e8f540248b63e0b854778630",
       "version_major": 2,
       "version_minor": 0
      },
      "text/plain": [
       "UIOutput(appendix=VBox(), files=['sssall_aml_test.cls', 'sssall_aml_test.gct'], name='1234. HeatMapViewer', or…"
      ]
     },
     "execution_count": 15,
     "metadata": {},
     "output_type": "execute_result"
    }
   ],
   "source": [
    "nbtools.data(origin='GenePattern Testing', group='1234. HeatMapViewer', uris=['sssall_aml_test.cls', 'sssall_aml_test.gct'])"
   ]
  }
 ],
 "metadata": {
  "kernelspec": {
   "display_name": "Python 3 (ipykernel)",
   "language": "python",
   "name": "python3"
  },
  "language_info": {
   "codemirror_mode": {
    "name": "ipython",
    "version": 3
   },
   "file_extension": ".py",
   "mimetype": "text/x-python",
   "name": "python",
   "nbconvert_exporter": "python",
   "pygments_lexer": "ipython3",
   "version": "3.9.16"
  },
  "widgets": {
   "application/vnd.jupyter.widget-state+json": {
    "state": {
     "00a86a9894294c1ca4402f4bf53a4f83": {
      "model_module": "@g2nb/nbtools",
      "model_module_version": ">=23.7.0",
      "model_name": "UIBuilderModel",
      "state": {
       "_model_module_version": ">=23.7.0",
       "_parameters": [
        {
         "choices": {},
         "default": "",
         "description": "",
         "events": null,
         "hide": false,
         "id": null,
         "kinds": null,
         "label": "bar",
         "name": "bar",
         "optional": false,
         "type": "text",
         "value": ""
        },
        {
         "choices": {},
         "default": "",
         "description": "",
         "events": null,
         "hide": true,
         "id": null,
         "kinds": null,
         "label": "output variable",
         "name": "output_var",
         "optional": true,
         "type": "text",
         "value": ""
        }
       ],
       "_view_count": 1,
       "_view_module_version": ">=23.7.0",
       "description": "Example Widget",
       "form": "IPY_MODEL_54239501b2a04b4e848e29c8fdbde2ee",
       "layout": "IPY_MODEL_b3f2afc26bd648cdbaa1174013f4abaf",
       "name": "foo",
       "origin": "Notebook",
       "output": "IPY_MODEL_ea84e4db5ef14b55bd4748b0dcf3eb5d",
       "output_var": ""
      }
     },
     "011704426aa94ecf8a20213e58c0b63c": {
      "model_module": "@jupyter-widgets/controls",
      "model_module_version": "2.0.0",
      "model_name": "VBoxModel",
      "state": {
       "layout": "IPY_MODEL_f223f61607ca433db52ff6aaf1f036dd"
      }
     },
     "0243a5a661064c8c9c3bc1b68dca24c4": {
      "model_module": "@jupyter-widgets/controls",
      "model_module_version": "2.0.0",
      "model_name": "LabelStyleModel",
      "state": {
       "description_width": "",
       "font_family": null,
       "font_size": null,
       "font_style": null,
       "font_variant": null,
       "font_weight": null,
       "text_color": null,
       "text_decoration": null
      }
     },
     "0a411ff29ed64c42b57a7b0ce95eb906": {
      "model_module": "@jupyter-widgets/controls",
      "model_module_version": "2.0.0",
      "model_name": "VBoxModel",
      "state": {
       "_dom_classes": [
        "widget-interact"
       ],
       "children": [
        "IPY_MODEL_a9338ee8a3b146e3aac233ec0f6b288a",
        "IPY_MODEL_ae1fd3c51c9047149e8864cc9f4351da"
       ],
       "layout": "IPY_MODEL_d3a544714e204ec587064a77fd5750cc"
      }
     },
     "0d76e9b23f0e42af990cc81f0666e21f": {
      "model_module": "@jupyter-widgets/base",
      "model_module_version": "2.0.0",
      "model_name": "LayoutModel",
      "state": {}
     },
     "0fbb1e6c06a74a78a1042f0ad5804b23": {
      "model_module": "@jupyter-widgets/controls",
      "model_module_version": "2.0.0",
      "model_name": "VBoxModel",
      "state": {
       "layout": "IPY_MODEL_6d6e7dabb6b84f32bac90af5e2863b18"
      }
     },
     "11b47871ae18422db4b94713f99d9e23": {
      "model_module": "@jupyter-widgets/controls",
      "model_module_version": "2.0.0",
      "model_name": "TextModel",
      "state": {
       "_dom_classes": [
        "nbtools-menu-attached"
       ],
       "layout": "IPY_MODEL_5d505dfb89504175b421efbb0a8fd4d2",
       "style": "IPY_MODEL_706310db44a44cdcbcf8e2d8a0f0fe5a"
      }
     },
     "1b4eb0a089d649c998fd98fc345ea7f1": {
      "model_module": "@jupyter-widgets/base",
      "model_module_version": "2.0.0",
      "model_name": "LayoutModel",
      "state": {
       "grid_area": "description",
       "width": "auto"
      }
     },
     "1eb51642806744bd85d6807e07a69f9f": {
      "model_module": "@jupyter-widgets/controls",
      "model_module_version": "2.0.0",
      "model_name": "LabelStyleModel",
      "state": {
       "description_width": "",
       "font_family": null,
       "font_size": null,
       "font_style": null,
       "font_variant": null,
       "font_weight": null,
       "text_color": null,
       "text_decoration": null
      }
     },
     "21ab71c904be4590ba3fc4cc9e2a5b62": {
      "model_module": "@g2nb/nbtools",
      "model_module_version": ">=23.7.0",
      "model_name": "UIOutputModel",
      "state": {
       "_model_module_version": ">=23.7.0",
       "_view_count": 0,
       "_view_module_version": ">=23.7.0",
       "appendix": "IPY_MODEL_0fbb1e6c06a74a78a1042f0ad5804b23",
       "description": "Hell Yeah!",
       "layout": "IPY_MODEL_d3caf56825c84717a558e0310c1c40d6",
       "name": "WORKING!",
       "origin": "Notebook"
      }
     },
     "21f050031b0f42bfb5681b4b84019360": {
      "model_module": "@jupyter-widgets/base",
      "model_module_version": "2.0.0",
      "model_name": "LayoutModel",
      "state": {}
     },
     "228b9329b9d84a5e8dafb717d63b15f0": {
      "model_module": "@jupyter-widgets/controls",
      "model_module_version": "2.0.0",
      "model_name": "TextStyleModel",
      "state": {
       "description_width": "",
       "font_size": null,
       "text_color": null
      }
     },
     "24d67e4232924021be35c337050b0ea0": {
      "model_module": "@jupyter-widgets/controls",
      "model_module_version": "2.0.0",
      "model_name": "ButtonModel",
      "state": {
       "_dom_classes": [
        "hidden"
       ],
       "description": "Run",
       "layout": "IPY_MODEL_abc9387bb0ce46f5affbd8d423c99484",
       "style": "IPY_MODEL_2ba08765f8734c50b1c3b4c698d44ec5",
       "tooltip": null
      }
     },
     "2ba08765f8734c50b1c3b4c698d44ec5": {
      "model_module": "@jupyter-widgets/controls",
      "model_module_version": "2.0.0",
      "model_name": "ButtonStyleModel",
      "state": {
       "font_family": null,
       "font_size": null,
       "font_style": null,
       "font_variant": null,
       "font_weight": null,
       "text_color": null,
       "text_decoration": null
      }
     },
     "3261a907034445a7aea132ade1c4adb2": {
      "model_module": "@jupyter-widgets/base",
      "model_module_version": "2.0.0",
      "model_name": "LayoutModel",
      "state": {
       "grid_area": "input",
       "width": "auto"
      }
     },
     "3a12fa32e1c84c2dae4451a0ec55f533": {
      "model_module": "@jupyter-widgets/controls",
      "model_module_version": "2.0.0",
      "model_name": "LabelModel",
      "state": {
       "description": "bar",
       "layout": "IPY_MODEL_58a3e876408e46399b98484003876611",
       "style": "IPY_MODEL_1eb51642806744bd85d6807e07a69f9f",
       "value": "bar*"
      }
     },
     "414bb22acecf4a4c8334101de8e9cf6e": {
      "model_module": "@g2nb/nbtools",
      "model_module_version": ">=23.7.0",
      "model_name": "UIOutputModel",
      "state": {
       "_model_module_version": ">=23.7.0",
       "_view_count": 1,
       "_view_module_version": ">=23.7.0",
       "appendix": "IPY_MODEL_011704426aa94ecf8a20213e58c0b63c",
       "files": [
        "xxxall_aml_test.cls",
        "xxxall_aml_test.gct"
       ],
       "layout": "IPY_MODEL_642ad65a310a43b996a7c0189c8313c2",
       "name": "1234. NMF",
       "origin": "GenePattern Testing"
      }
     },
     "46604b14720449ef82807d9a60cf97f7": {
      "model_module": "@jupyter-widgets/base",
      "model_module_version": "2.0.0",
      "model_name": "LayoutModel",
      "state": {}
     },
     "4eb9df3f1848457da2cebef33b400b49": {
      "model_module": "@jupyter-widgets/controls",
      "model_module_version": "2.0.0",
      "model_name": "LabelModel",
      "state": {
       "layout": "IPY_MODEL_81244c3079034b2bbf97d6127957a76e",
       "style": "IPY_MODEL_0243a5a661064c8c9c3bc1b68dca24c4"
      }
     },
     "54239501b2a04b4e848e29c8fdbde2ee": {
      "model_module": "@jupyter-widgets/controls",
      "model_module_version": "2.0.0",
      "model_name": "VBoxModel",
      "state": {
       "_dom_classes": [
        "widget-interact"
       ],
       "children": [
        "IPY_MODEL_77e405504bef4b91912faf320cbab14f",
        "IPY_MODEL_24d67e4232924021be35c337050b0ea0",
        "IPY_MODEL_dd3f3d2622fb4ec7b7bd1c4841159450"
       ],
       "layout": "IPY_MODEL_b73c26004e1442adb58eee7742ea423b"
      }
     },
     "58a3e876408e46399b98484003876611": {
      "model_module": "@jupyter-widgets/base",
      "model_module_version": "2.0.0",
      "model_name": "LayoutModel",
      "state": {
       "grid_area": "label",
       "width": "auto"
      }
     },
     "593e87143ca94254a58665650d486752": {
      "model_module": "@jupyter-widgets/base",
      "model_module_version": "2.0.0",
      "model_name": "LayoutModel",
      "state": {
       "grid_area": "label",
       "width": "auto"
      }
     },
     "5d505dfb89504175b421efbb0a8fd4d2": {
      "model_module": "@jupyter-widgets/base",
      "model_module_version": "2.0.0",
      "model_name": "LayoutModel",
      "state": {
       "grid_area": "input",
       "width": "auto"
      }
     },
     "5e589340a32b458d824fe3a937955c3b": {
      "model_module": "@jupyter-widgets/controls",
      "model_module_version": "2.0.0",
      "model_name": "TextModel",
      "state": {
       "_dom_classes": [
        "nbtools-menu-attached"
       ],
       "layout": "IPY_MODEL_80b0ec0d914b4a528ac2af6084863aa5",
       "style": "IPY_MODEL_228b9329b9d84a5e8dafb717d63b15f0"
      }
     },
     "6226d79120714054b159b8f41d9426ce": {
      "model_module": "@jupyter-widgets/base",
      "model_module_version": "2.0.0",
      "model_name": "LayoutModel",
      "state": {
       "grid_area": "description",
       "width": "auto"
      }
     },
     "642ad65a310a43b996a7c0189c8313c2": {
      "model_module": "@jupyter-widgets/base",
      "model_module_version": "2.0.0",
      "model_name": "LayoutModel",
      "state": {}
     },
     "6a702a8492dd4532beef728ba4724d34": {
      "model_module": "@jupyter-widgets/controls",
      "model_module_version": "2.0.0",
      "model_name": "ButtonStyleModel",
      "state": {
       "font_family": null,
       "font_size": null,
       "font_style": null,
       "font_variant": null,
       "font_weight": null,
       "text_color": null,
       "text_decoration": null
      }
     },
     "6c3face7702b4e2f8f25db5ad825490e": {
      "model_module": "@jupyter-widgets/controls",
      "model_module_version": "2.0.0",
      "model_name": "LabelModel",
      "state": {
       "description": "output variable",
       "layout": "IPY_MODEL_593e87143ca94254a58665650d486752",
       "style": "IPY_MODEL_df4c5d1e5b2448a59383f2e1bacb593e",
       "value": "output variable"
      }
     },
     "6d6e7dabb6b84f32bac90af5e2863b18": {
      "model_module": "@jupyter-widgets/base",
      "model_module_version": "2.0.0",
      "model_name": "LayoutModel",
      "state": {}
     },
     "706310db44a44cdcbcf8e2d8a0f0fe5a": {
      "model_module": "@jupyter-widgets/controls",
      "model_module_version": "2.0.0",
      "model_name": "TextStyleModel",
      "state": {
       "description_width": "",
       "font_size": null,
       "text_color": null
      }
     },
     "751dc60f9bc74c7aa1c6131aba54f8ae": {
      "model_module": "@jupyter-widgets/base",
      "model_module_version": "2.0.0",
      "model_name": "LayoutModel",
      "state": {
       "display": "none",
       "grid_template_areas": "\n                    \"label input\"\n                    \". description\"\n                ",
       "grid_template_columns": "25% 75%",
       "grid_template_rows": "auto auto",
       "width": "100%"
      }
     },
     "778bd66c263047b6a8022ff2c021d0b7": {
      "model_module": "@jupyter-widgets/controls",
      "model_module_version": "2.0.0",
      "model_name": "LabelStyleModel",
      "state": {
       "description_width": "",
       "font_family": null,
       "font_size": null,
       "font_style": null,
       "font_variant": null,
       "font_weight": null,
       "text_color": null,
       "text_decoration": null
      }
     },
     "77e405504bef4b91912faf320cbab14f": {
      "model_module": "@jupyter-widgets/controls",
      "model_module_version": "2.0.0",
      "model_name": "GridBoxModel",
      "state": {
       "_dom_classes": [
        "nbtools-input",
        "nbtools-textinput",
        "required"
       ],
       "children": [
        "IPY_MODEL_3a12fa32e1c84c2dae4451a0ec55f533",
        "IPY_MODEL_5e589340a32b458d824fe3a937955c3b",
        "IPY_MODEL_ceaaebe25ccf4929b5fa080c77e17031"
       ],
       "layout": "IPY_MODEL_fc15346dddc6423dbb41279eb5006654"
      }
     },
     "7aaa2040908b4ebbb6eb7cdc56d93267": {
      "model_module": "@jupyter-widgets/controls",
      "model_module_version": "2.0.0",
      "model_name": "ButtonStyleModel",
      "state": {
       "font_family": null,
       "font_size": null,
       "font_style": null,
       "font_variant": null,
       "font_weight": null,
       "text_color": null,
       "text_decoration": null
      }
     },
     "7da4c979e9c84c76845871eae2e17669": {
      "model_module": "@jupyter-widgets/base",
      "model_module_version": "2.0.0",
      "model_name": "LayoutModel",
      "state": {}
     },
     "80b0ec0d914b4a528ac2af6084863aa5": {
      "model_module": "@jupyter-widgets/base",
      "model_module_version": "2.0.0",
      "model_name": "LayoutModel",
      "state": {
       "grid_area": "input",
       "width": "auto"
      }
     },
     "81244c3079034b2bbf97d6127957a76e": {
      "model_module": "@jupyter-widgets/base",
      "model_module_version": "2.0.0",
      "model_name": "LayoutModel",
      "state": {
       "grid_area": "description",
       "width": "auto"
      }
     },
     "8435ba93b3c94a3689cb6404403b600b": {
      "model_module": "@jupyter-widgets/base",
      "model_module_version": "2.0.0",
      "model_name": "LayoutModel",
      "state": {}
     },
     "89349f36a6dc4eaf8631f2bd3b849cf8": {
      "model_module": "@jupyter-widgets/controls",
      "model_module_version": "2.0.0",
      "model_name": "LabelStyleModel",
      "state": {
       "description_width": "",
       "font_family": null,
       "font_size": null,
       "font_style": null,
       "font_variant": null,
       "font_weight": null,
       "text_color": null,
       "text_decoration": null
      }
     },
     "9e5521db2ce1495bb72f871b3261d4d0": {
      "model_module": "@jupyter-widgets/controls",
      "model_module_version": "2.0.0",
      "model_name": "TextModel",
      "state": {
       "_dom_classes": [
        "nbtools-menu-attached"
       ],
       "layout": "IPY_MODEL_3261a907034445a7aea132ade1c4adb2",
       "style": "IPY_MODEL_c0e875cceee34b2581d5318e14c47271"
      }
     },
     "a26bb43a0e254e3c890efc36bf880a35": {
      "model_module": "@jupyter-widgets/base",
      "model_module_version": "2.0.0",
      "model_name": "LayoutModel",
      "state": {}
     },
     "a9338ee8a3b146e3aac233ec0f6b288a": {
      "model_module": "@jupyter-widgets/controls",
      "model_module_version": "2.0.0",
      "model_name": "ButtonModel",
      "state": {
       "_dom_classes": [
        "hidden"
       ],
       "description": "Run",
       "layout": "IPY_MODEL_c958e4b73643478c85644530ccec8212",
       "style": "IPY_MODEL_7aaa2040908b4ebbb6eb7cdc56d93267",
       "tooltip": null
      }
     },
     "abc9387bb0ce46f5affbd8d423c99484": {
      "model_module": "@jupyter-widgets/base",
      "model_module_version": "2.0.0",
      "model_name": "LayoutModel",
      "state": {}
     },
     "ae1fd3c51c9047149e8864cc9f4351da": {
      "model_module": "@jupyter-widgets/output",
      "model_module_version": "1.0.0",
      "model_name": "OutputModel",
      "state": {
       "layout": "IPY_MODEL_d9d7eebf49504b24b631d2d00be25c23"
      }
     },
     "b1869947c69c4a9ba538ca9c2eec1ae4": {
      "model_module": "@jupyter-widgets/controls",
      "model_module_version": "2.0.0",
      "model_name": "VBoxModel",
      "state": {
       "layout": "IPY_MODEL_fd7f7c1f0df34d0d889fdf6fa74abfa0"
      }
     },
     "b3f2afc26bd648cdbaa1174013f4abaf": {
      "model_module": "@jupyter-widgets/base",
      "model_module_version": "2.0.0",
      "model_name": "LayoutModel",
      "state": {}
     },
     "b73c26004e1442adb58eee7742ea423b": {
      "model_module": "@jupyter-widgets/base",
      "model_module_version": "2.0.0",
      "model_name": "LayoutModel",
      "state": {}
     },
     "c0e875cceee34b2581d5318e14c47271": {
      "model_module": "@jupyter-widgets/controls",
      "model_module_version": "2.0.0",
      "model_name": "TextStyleModel",
      "state": {
       "description_width": "",
       "font_size": null,
       "text_color": null
      }
     },
     "c45d7cb637e044e29b33977791449f92": {
      "model_module": "@jupyter-widgets/controls",
      "model_module_version": "2.0.0",
      "model_name": "VBoxModel",
      "state": {
       "children": [
        "IPY_MODEL_00a86a9894294c1ca4402f4bf53a4f83",
        "IPY_MODEL_ea84e4db5ef14b55bd4748b0dcf3eb5d"
       ],
       "layout": "IPY_MODEL_8435ba93b3c94a3689cb6404403b600b"
      }
     },
     "c958e4b73643478c85644530ccec8212": {
      "model_module": "@jupyter-widgets/base",
      "model_module_version": "2.0.0",
      "model_name": "LayoutModel",
      "state": {}
     },
     "ceaaebe25ccf4929b5fa080c77e17031": {
      "model_module": "@jupyter-widgets/controls",
      "model_module_version": "2.0.0",
      "model_name": "LabelModel",
      "state": {
       "layout": "IPY_MODEL_6226d79120714054b159b8f41d9426ce",
       "style": "IPY_MODEL_89349f36a6dc4eaf8631f2bd3b849cf8"
      }
     },
     "d3a544714e204ec587064a77fd5750cc": {
      "model_module": "@jupyter-widgets/base",
      "model_module_version": "2.0.0",
      "model_name": "LayoutModel",
      "state": {}
     },
     "d3caf56825c84717a558e0310c1c40d6": {
      "model_module": "@jupyter-widgets/base",
      "model_module_version": "2.0.0",
      "model_name": "LayoutModel",
      "state": {}
     },
     "d426ea58e8f540248b63e0b854778630": {
      "model_module": "@g2nb/nbtools",
      "model_module_version": ">=23.7.0",
      "model_name": "UIOutputModel",
      "state": {
       "_model_module_version": ">=23.7.0",
       "_view_count": 4,
       "_view_module_version": ">=23.7.0",
       "appendix": "IPY_MODEL_ecdbec0670954135a9f6d3f68bebcfe0",
       "files": [
        "sssall_aml_test.cls",
        "sssall_aml_test.gct"
       ],
       "layout": "IPY_MODEL_0d76e9b23f0e42af990cc81f0666e21f",
       "name": "1234. HeatMapViewer",
       "origin": "GenePattern Testing"
      }
     },
     "d42adbea7bd748f2970873b4b78e21c7": {
      "model_module": "@jupyter-widgets/controls",
      "model_module_version": "2.0.0",
      "model_name": "LabelModel",
      "state": {
       "description": "output variable",
       "layout": "IPY_MODEL_fd8c47c0ec334d899a67d2b1cf7552c9",
       "style": "IPY_MODEL_778bd66c263047b6a8022ff2c021d0b7",
       "value": "output variable"
      }
     },
     "d7e8da1f268c4787b410f17fd55ee6dd": {
      "model_module": "@g2nb/ipyuploads",
      "model_module_version": "0.2.1",
      "model_name": "UploadModel",
      "state": {
       "description_allow_html": false,
       "layout": "IPY_MODEL_21f050031b0f42bfb5681b4b84019360",
       "style": "IPY_MODEL_6a702a8492dd4532beef728ba4724d34"
      }
     },
     "d9d7eebf49504b24b631d2d00be25c23": {
      "model_module": "@jupyter-widgets/base",
      "model_module_version": "2.0.0",
      "model_name": "LayoutModel",
      "state": {}
     },
     "daa941aec812432b8ef09096fef5b2d5": {
      "model_module": "@jupyter-widgets/controls",
      "model_module_version": "2.0.0",
      "model_name": "LabelStyleModel",
      "state": {
       "description_width": "",
       "font_family": null,
       "font_size": null,
       "font_style": null,
       "font_variant": null,
       "font_weight": null,
       "text_color": null,
       "text_decoration": null
      }
     },
     "dd3f3d2622fb4ec7b7bd1c4841159450": {
      "model_module": "@jupyter-widgets/controls",
      "model_module_version": "2.0.0",
      "model_name": "GridBoxModel",
      "state": {
       "_dom_classes": [
        "nbtools-input",
        "nbtools-textinput"
       ],
       "children": [
        "IPY_MODEL_6c3face7702b4e2f8f25db5ad825490e",
        "IPY_MODEL_11b47871ae18422db4b94713f99d9e23",
        "IPY_MODEL_e61aba6b4cc54eb29c2eb06925095405"
       ],
       "layout": "IPY_MODEL_751dc60f9bc74c7aa1c6131aba54f8ae"
      }
     },
     "df4c5d1e5b2448a59383f2e1bacb593e": {
      "model_module": "@jupyter-widgets/controls",
      "model_module_version": "2.0.0",
      "model_name": "LabelStyleModel",
      "state": {
       "description_width": "",
       "font_family": null,
       "font_size": null,
       "font_style": null,
       "font_variant": null,
       "font_weight": null,
       "text_color": null,
       "text_decoration": null
      }
     },
     "e0a68a7ce76746c89edb957e266e1f9e": {
      "model_module": "@g2nb/nbtools",
      "model_module_version": ">=23.7.0",
      "model_name": "UIOutputModel",
      "state": {
       "_model_module_version": ">=23.7.0",
       "_view_count": 4,
       "_view_module_version": ">=23.7.0",
       "appendix": "IPY_MODEL_b1869947c69c4a9ba538ca9c2eec1ae4",
       "files": [
        "all_aml_test.cls",
        "all_aml_test.gct"
       ],
       "layout": "IPY_MODEL_46604b14720449ef82807d9a60cf97f7",
       "name": "1234. ConvertLineEndings",
       "origin": "GenePattern Testing"
      }
     },
     "e61aba6b4cc54eb29c2eb06925095405": {
      "model_module": "@jupyter-widgets/controls",
      "model_module_version": "2.0.0",
      "model_name": "LabelModel",
      "state": {
       "layout": "IPY_MODEL_1b4eb0a089d649c998fd98fc345ea7f1",
       "style": "IPY_MODEL_daa941aec812432b8ef09096fef5b2d5"
      }
     },
     "e71589eeb4f14db6ab6fd72e1aa68441": {
      "model_module": "@jupyter-widgets/controls",
      "model_module_version": "2.0.0",
      "model_name": "GridBoxModel",
      "state": {
       "_dom_classes": [
        "nbtools-input",
        "nbtools-textinput"
       ],
       "children": [
        "IPY_MODEL_d42adbea7bd748f2970873b4b78e21c7",
        "IPY_MODEL_9e5521db2ce1495bb72f871b3261d4d0",
        "IPY_MODEL_4eb9df3f1848457da2cebef33b400b49"
       ],
       "layout": "IPY_MODEL_eaa7fab47e764565a27a2e9e3ebb10c9"
      }
     },
     "ea84e4db5ef14b55bd4748b0dcf3eb5d": {
      "model_module": "@jupyter-widgets/output",
      "model_module_version": "1.0.0",
      "model_name": "OutputModel",
      "state": {
       "layout": "IPY_MODEL_fbaecfcdc66545d7a79c574bd12c1d4b"
      }
     },
     "eaa7fab47e764565a27a2e9e3ebb10c9": {
      "model_module": "@jupyter-widgets/base",
      "model_module_version": "2.0.0",
      "model_name": "LayoutModel",
      "state": {
       "display": "none",
       "grid_template_areas": "\n                    \"label input\"\n                    \". description\"\n                ",
       "grid_template_columns": "25% 75%",
       "grid_template_rows": "auto auto",
       "width": "100%"
      }
     },
     "ecdbec0670954135a9f6d3f68bebcfe0": {
      "model_module": "@jupyter-widgets/controls",
      "model_module_version": "2.0.0",
      "model_name": "VBoxModel",
      "state": {
       "layout": "IPY_MODEL_a26bb43a0e254e3c890efc36bf880a35"
      }
     },
     "f223f61607ca433db52ff6aaf1f036dd": {
      "model_module": "@jupyter-widgets/base",
      "model_module_version": "2.0.0",
      "model_name": "LayoutModel",
      "state": {}
     },
     "fbaecfcdc66545d7a79c574bd12c1d4b": {
      "model_module": "@jupyter-widgets/base",
      "model_module_version": "2.0.0",
      "model_name": "LayoutModel",
      "state": {}
     },
     "fc15346dddc6423dbb41279eb5006654": {
      "model_module": "@jupyter-widgets/base",
      "model_module_version": "2.0.0",
      "model_name": "LayoutModel",
      "state": {
       "grid_template_areas": "\n                    \"label input\"\n                    \". description\"\n                ",
       "grid_template_columns": "25% 75%",
       "grid_template_rows": "auto auto",
       "width": "100%"
      }
     },
     "fd7f7c1f0df34d0d889fdf6fa74abfa0": {
      "model_module": "@jupyter-widgets/base",
      "model_module_version": "2.0.0",
      "model_name": "LayoutModel",
      "state": {}
     },
     "fd8c47c0ec334d899a67d2b1cf7552c9": {
      "model_module": "@jupyter-widgets/base",
      "model_module_version": "2.0.0",
      "model_name": "LayoutModel",
      "state": {
       "grid_area": "label",
       "width": "auto"
      }
     },
     "fe62297057a44b27b134ee5c689dd382": {
      "model_module": "@jupyter-widgets/output",
      "model_module_version": "1.0.0",
      "model_name": "OutputModel",
      "state": {
       "layout": "IPY_MODEL_7da4c979e9c84c76845871eae2e17669"
      }
     }
    },
    "version_major": 2,
    "version_minor": 0
   }
  }
 },
 "nbformat": 4,
 "nbformat_minor": 5
}
