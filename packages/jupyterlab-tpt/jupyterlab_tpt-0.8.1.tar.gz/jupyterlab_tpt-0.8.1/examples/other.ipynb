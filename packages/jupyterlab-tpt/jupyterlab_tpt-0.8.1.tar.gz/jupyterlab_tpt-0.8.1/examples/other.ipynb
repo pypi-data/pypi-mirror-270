{
 "cells": [
  {
   "cell_type": "markdown",
   "id": "f1c0f2ea-f834-41cc-8d9a-b5c4a7a50807",
   "metadata": {
    "editable": true,
    "slideshow": {
     "slide_type": ""
    },
    "tags": []
   },
   "source": [
    "````{error}\n",
    "\n",
    "````"
   ]
  },
  {
   "cell_type": "markdown",
   "id": "96389af6-d3ba-4b9d-ae8d-2abe6c17e62b",
   "metadata": {},
   "source": [
    "some text \n",
    "### solution\n",
    "\n",
    "````{admonition} ouvrez-moi\n",
    ":class: dropdown\n",
    "\n",
    "```{literalinclude} xxx.py\n",
    "```\n",
    "\n",
    "````\n",
    "already"
   ]
  }
 ],
 "metadata": {
  "kernelspec": {
   "display_name": "Python 3 (ipykernel)",
   "language": "python",
   "name": "python3"
  },
  "language_info": {
   "codemirror_mode": {
    "name": "ipython",
    "version": 3
   },
   "file_extension": ".py",
   "mimetype": "text/x-python",
   "name": "python",
   "nbconvert_exporter": "python",
   "pygments_lexer": "ipython3",
   "version": "3.11.5"
  }
 },
 "nbformat": 4,
 "nbformat_minor": 5
}
