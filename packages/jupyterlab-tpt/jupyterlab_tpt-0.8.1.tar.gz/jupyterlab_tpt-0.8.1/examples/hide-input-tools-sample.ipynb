{
 "cells": [
  {
   "cell_type": "markdown",
   "id": "733499d0-afae-423e-bb2e-82e2bf531d80",
   "metadata": {
    "editable": true,
    "slideshow": {
     "slide_type": ""
    },
    "tags": []
   },
   "source": [
    "the cell below should have its input toggled by the 8-based shortcuts"
   ]
  },
  {
   "cell_type": "code",
   "execution_count": 2,
   "id": "bf291b42-187b-4c7a-a00a-46e1816051ec",
   "metadata": {
    "editable": true,
    "slideshow": {
     "slide_type": ""
    },
    "tags": [
     "remove-input"
    ]
   },
   "outputs": [
    {
     "name": "stdout",
     "output_type": "stream",
     "text": [
      "tools.sample_from\n"
     ]
    }
   ],
   "source": [
    "print(\"tools.sample_from\")"
   ]
  },
  {
   "cell_type": "markdown",
   "id": "adaab16a-d7a5-4410-8d78-a8a1d186ce1f",
   "metadata": {
    "editable": true,
    "slideshow": {
     "slide_type": ""
    },
    "tags": []
   },
   "source": [
    "the cell below should have its input toggled by the 8-based shortcuts"
   ]
  },
  {
   "cell_type": "code",
   "execution_count": 3,
   "id": "609509e9-ebf7-409f-ab8b-a36ab1f8df82",
   "metadata": {
    "editable": true,
    "slideshow": {
     "slide_type": ""
    },
    "tags": [
     "remove-input"
    ]
   },
   "outputs": [
    {
     "name": "stdout",
     "output_type": "stream",
     "text": [
      "tools.sample_from\n"
     ]
    }
   ],
   "source": [
    "print(\"tools.sample_from\")"
   ]
  },
  {
   "cell_type": "markdown",
   "id": "ad1c3e4d-aa48-48ab-ac67-fb034e04421c",
   "metadata": {
    "editable": true,
    "slideshow": {
     "slide_type": ""
    },
    "tags": []
   },
   "source": [
    "the cell below should have its input toggled by the 8-based shortcuts"
   ]
  },
  {
   "cell_type": "code",
   "execution_count": 4,
   "id": "8fd4eacf-f6f1-4c62-a270-129fc8be09e7",
   "metadata": {
    "editable": true,
    "slideshow": {
     "slide_type": ""
    },
    "tags": [
     "remove-input"
    ]
   },
   "outputs": [
    {
     "name": "stdout",
     "output_type": "stream",
     "text": [
      "tools.sample_from\n"
     ]
    }
   ],
   "source": [
    "print(\"tools.sample_from\")"
   ]
  },
  {
   "cell_type": "markdown",
   "id": "41cb2713-85f4-4f3a-9db5-c27b2b629ed3",
   "metadata": {
    "editable": true,
    "slideshow": {
     "slide_type": ""
    },
    "tags": []
   },
   "source": [
    "the cell below should have its input toggled by the 8-based shortcuts"
   ]
  },
  {
   "cell_type": "code",
   "execution_count": 5,
   "id": "be40dcbd-763a-4fc8-ba94-d031f0e6f12f",
   "metadata": {
    "editable": true,
    "slideshow": {
     "slide_type": ""
    },
    "tags": [
     "remove-input"
    ]
   },
   "outputs": [
    {
     "name": "stdout",
     "output_type": "stream",
     "text": [
      "tools.sample_from\n"
     ]
    }
   ],
   "source": [
    "print(\"tools.sample_from\")"
   ]
  },
  {
   "cell_type": "markdown",
   "id": "7a48f047-cbb6-4848-99f9-2e0063fa6db8",
   "metadata": {
    "editable": true,
    "slideshow": {
     "slide_type": ""
    },
    "tags": []
   },
   "source": [
    "the cell below should have its input toggled by the 8-based shortcuts"
   ]
  },
  {
   "cell_type": "code",
   "execution_count": 6,
   "id": "17d748fc-1e9c-4a3c-bb4a-1b5725a8b9ea",
   "metadata": {
    "editable": true,
    "slideshow": {
     "slide_type": ""
    },
    "tags": [
     "remove-input"
    ]
   },
   "outputs": [
    {
     "name": "stdout",
     "output_type": "stream",
     "text": [
      "tools.sample_from\n"
     ]
    }
   ],
   "source": [
    "print(\"tools.sample_from\")"
   ]
  }
 ],
 "metadata": {
  "kernelspec": {
   "display_name": "Python 3 (ipykernel)",
   "language": "python",
   "name": "python3"
  },
  "language_info": {
   "codemirror_mode": {
    "name": "ipython",
    "version": 3
   },
   "file_extension": ".py",
   "mimetype": "text/x-python",
   "name": "python",
   "nbconvert_exporter": "python",
   "pygments_lexer": "ipython3",
   "version": "3.11.5"
  }
 },
 "nbformat": 4,
 "nbformat_minor": 5
}
