{
 "cells": [
  {
   "cell_type": "code",
   "execution_count": null,
   "metadata": {},
   "outputs": [],
   "source": [
    "# This should be a string or list of strings.\n",
    "# Using a single file path will use all files that match the file name except for the final number\n",
    "example_file = r\"D:\\example_data\\testline1.d\"\n",
    "\n",
    "# excel or csv file containing your mass list\n",
    "mass_list_dir = r\"D:\\example_data\\testmasslist.xlsx\"\n",
    "\n",
    "# Do not comment these out. If not used, they will be ignored\n",
    "mass_tolerance_MS1 = 10\n",
    "mass_tolerance_MS1_units = 'ppm'    #ppm or mz\n",
    "mass_tolerance_prec = 1\n",
    "mass_tolerance_prec_units = 'mz'    #ppm or mz\n",
    "mass_tolerance_frag = 10\n",
    "mass_tolerance_frag_units = 'ppm'   #ppm or mz\n",
    "mobility_tolerance = .1            \n",
    "mobility_tolerance_units = '1/K0'   #'μs' or '1/K0', whichever us used in the mobility list\n",
    "\n",
    "# the dimensions of the scanned area\n",
    "img_height = 10\n",
    "img_width = 10\n",
    "image_dimensions_units = 'mm'\n",
    "\n",
    "# whether the files contain MS2 or mobility data\n",
    "is_MS2 = False\n",
    "is_mobility = False\n",
    "\n",
    "# True if you want all images to be the same size regardless of differences in number of scans (generally True)\n",
    "normalize_img_sizes = True\n",
    "\n",
    "# Where you want to save your images numpy array file\n",
    "output_file_loc = r\"D:\\example_data\"\n",
    "\n",
    "# =====================================================================================\n",
    "from MSIGen import msigen\n",
    "metadata = msigen.get_metadata_and_params(example_file, mass_list_dir, mass_tolerance_MS1, \\\n",
    "    mass_tolerance_MS1_units, mass_tolerance_prec, mass_tolerance_prec_units, mass_tolerance_frag, \\\n",
    "    mass_tolerance_frag_units, mobility_tolerance, mobility_tolerance_units, img_height, img_width, \\\n",
    "    image_dimensions_units, is_MS2, is_mobility, normalize_img_sizes, output_file_loc, in_jupyter = True, testing = False)"
   ]
  },
  {
   "cell_type": "markdown",
   "metadata": {},
   "source": [
    "### Generate images or load previously saved files"
   ]
  },
  {
   "cell_type": "code",
   "execution_count": null,
   "metadata": {
    "scrolled": true
   },
   "outputs": [],
   "source": [
    "# Process the data\n",
    "metadata, pixels = msigen.get_image_data(metadata, verbose=True)"
   ]
  },
  {
   "cell_type": "code",
   "execution_count": null,
   "metadata": {},
   "outputs": [],
   "source": [
    "# Load previously saved image array from npy, npz, or csv files\n",
    "from MSIGen import msigen\n",
    "load_path = r\"D:\\example_data\\pixels.npy\"   # set this to '' to check for pixels.npy file in your current directory\n",
    "pixels, metadata = msigen.load_pixels(load_path)"
   ]
  },
  {
   "cell_type": "markdown",
   "metadata": {},
   "source": [
    "### View raw or normalized images"
   ]
  },
  {
   "cell_type": "code",
   "execution_count": null,
   "metadata": {},
   "outputs": [],
   "source": [
    "from MSIGen import visualization as vis\n",
    "\n",
    "# Sets the maximum pixel intensity to the this quantile (or use threshold)\n",
    "scale = 0.999\n",
    "# Set the maximum intensity threshold manually (None if using scale instead)\n",
    "threshold = None  \n",
    "\n",
    "# override automatically calculated aspect ratio (None to use automatic)\n",
    "aspect = None\n",
    "\n",
    "normalize = 'none'        # Can be 'TIC' 'intl_std' or 'none'\n",
    "\n",
    "# ---- Use this if normalize = 'intl_std' ---- #\n",
    "# std_idx is 0 for TIC and 1 for the first mass on your mass list.\n",
    "std_idx = 1   # Uses this value by default\n",
    "\n",
    "# specify these values and set std_idx = None if you do not know the index of the standard\n",
    "# Ignore these if std_idx is not None.\n",
    "std_precursor = None\n",
    "std_mass = None   \n",
    "std_fragment = None\n",
    "std_mobility = None\n",
    "std_charge = None\n",
    "\n",
    "# True or False\n",
    "save_imgs = False\n",
    "\n",
    "# path to save output images to. Use file path instead if it is different than output_file_loc\n",
    "MSI_data_output = output_file_loc\n",
    "\n",
    "# 'all' to display all images. Use an integer to display only that many images\n",
    "how_many_images_to_display = 'all'\n",
    "\n",
    "# Colormap for images\n",
    "cmap = 'viridis'\n",
    "\n",
    "# None or a list of titles if you want to override the default titles\n",
    "titles = None\n",
    "title_fontsize = 10\n",
    "\n",
    "# ---- Normalizes images, displays, and saves images if desired ---- #\n",
    "vis.get_and_dispay_images(pixels, metadata, normalize, std_idx, std_precursor, std_mass, std_fragment, std_mobility, std_charge, aspect, scale,\n",
    "                        how_many_images_to_display, save_imgs, MSI_data_output, cmap, titles, threshold, title_fontsize=title_fontsize)\n"
   ]
  },
  {
   "cell_type": "markdown",
   "metadata": {},
   "source": [
    "### View fractional images"
   ]
  },
  {
   "cell_type": "code",
   "execution_count": null,
   "metadata": {},
   "outputs": [],
   "source": [
    "from MSIGen import visualization as vis\n",
    "\n",
    "# Should be a list of mass list entry indices\n",
    "idxs_of_images_to_compare = [1,2]\n",
    "\n",
    "# normalize images to their base peak before determining fraction \n",
    "normalize = 'None'     # None or 'base_peak'\n",
    "\n",
    "# None or a list of titles if you want to override the default titles\n",
    "titles = None\n",
    "title_fontsize = 10\n",
    "\n",
    "# override automatically calculated aspect ratio (None to use automatic)\n",
    "aspect = None\n",
    "\n",
    "# True or False\n",
    "save_imgs = False\n",
    "\n",
    "# path to save output images to. Use file path instead if it is different than output_file_loc\n",
    "MSI_data_output = output_file_loc\n",
    "\n",
    "# Colormap for images\n",
    "cmap = 'viridis'\n",
    "\n",
    "# displays and saves images\n",
    "vis.fractional_abundance_images(pixels, metadata, idxs=idxs_of_images_to_compare, normalize=normalize, titles=titles, \\\n",
    "                        aspect=aspect, save_imgs=save_imgs, MSI_data_output=MSI_data_output, cmap=cmap, title_fontsize=title_fontsize)"
   ]
  },
  {
   "cell_type": "markdown",
   "metadata": {},
   "source": [
    "### View ratio images"
   ]
  },
  {
   "cell_type": "code",
   "execution_count": null,
   "metadata": {},
   "outputs": [],
   "source": [
    "from MSIGen import visualization as vis\n",
    "\n",
    "# Should be a list of two mass list entry indices\n",
    "idxs_of_images_to_compare = [1,2]\n",
    "\n",
    "# normalize images to their base peak before determining ratio \n",
    "normalize = 'base_peak'        # None or 'base_peak'\n",
    "\n",
    "# What to replace infinity values from divide by zero errors with\n",
    "handle_infinity = 'maximum'         # 'maximum', 'infinity', or 'zero'\n",
    "\n",
    "# None or a list of titles for each image if you want to manually create titles\n",
    "titles = None\n",
    "title_fontsize = 10\n",
    "\n",
    "# override automatically calculated aspect ratio (None to use automatic)\n",
    "aspect = None\n",
    "\n",
    "# Sets the maximum pixel intensity to the this quantile (or use threshold)\n",
    "scale = 0.999\n",
    "# Set the maximum intensity threshold manually (None if using scale instead)\n",
    "threshold = None  \n",
    "\n",
    "# True or False\n",
    "save_imgs = False\n",
    "\n",
    "# path to save output images to. Use file path instead if it is different than output_file_loc\n",
    "MSI_data_output = output_file_loc\n",
    "\n",
    "# Colormap for images\n",
    "cmap = 'viridis'\n",
    "\n",
    "# Whether to use a log-scale axis for the colormap\n",
    "log_scale = False\n",
    "\n",
    "# displays and saves images\n",
    "vis.ratio_images(pixels, metadata, idxs=idxs_of_images_to_compare, normalize=normalize, handle_infinity=handle_infinity, titles=titles, \\\n",
    "                aspect=aspect, scale=scale,save_imgs=save_imgs, MSI_data_output = MSI_data_output, cmap = cmap, log_scale = log_scale, \\\n",
    "                threshold = threshold, title_fontsize = title_fontsize)"
   ]
  }
 ],
 "metadata": {
  "kernelspec": {
   "display_name": "Python 3 (ipykernel)",
   "language": "python",
   "name": "python3"
  },
  "language_info": {
   "codemirror_mode": {
    "name": "ipython",
    "version": 3
   },
   "file_extension": ".py",
   "mimetype": "text/x-python",
   "name": "python",
   "nbconvert_exporter": "python",
   "pygments_lexer": "ipython3",
   "version": "3.11.8"
  }
 },
 "nbformat": 4,
 "nbformat_minor": 4
}
