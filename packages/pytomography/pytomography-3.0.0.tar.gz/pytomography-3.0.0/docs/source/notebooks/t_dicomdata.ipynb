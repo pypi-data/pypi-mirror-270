{
 "cells": [
  {
   "attachments": {},
   "cell_type": "markdown",
   "metadata": {},
   "source": [
    "# DICOM Introduction"
   ]
  },
  {
   "cell_type": "code",
   "execution_count": 1,
   "metadata": {},
   "outputs": [],
   "source": [
    "import os\n",
    "import numpy as np\n",
    "from pytomography.io.SPECT import dicom\n",
    "from pytomography.transforms.SPECT import SPECTAttenuationTransform, SPECTPSFTransform\n",
    "from pytomography.algorithms import OSEM\n",
    "from pytomography.projectors.SPECT import SPECTSystemMatrix\n",
    "from pytomography.likelihoods import PoissonLogLikelihood\n",
    "from pytomography.utils import print_collimator_parameters\n",
    "import matplotlib.pyplot as plt\n",
    "import pydicom"
   ]
  },
  {
   "cell_type": "markdown",
   "metadata": {},
   "source": [
    "## Part 1: Opening Data"
   ]
  },
  {
   "attachments": {},
   "cell_type": "markdown",
   "metadata": {},
   "source": [
    "First we specify the required filepaths to open the SPECT scan (`file_NM`) and the CT data files (`files_CT`)."
   ]
  },
  {
   "cell_type": "code",
   "execution_count": 2,
   "metadata": {},
   "outputs": [],
   "source": [
    "# initialize the `path`` variable below to specify the location of the required data\n",
    "path = '/disk1/pytomography_tutorial_data/dicom_intro_tutorial/' \n",
    "path_CT = os.path.join(path, 'CT_files')\n",
    "files_CT = [os.path.join(path_CT, file) for file in os.listdir(path_CT)]\n",
    "file_NM = os.path.join(path, 'projection_data.dcm')"
   ]
  },
  {
   "cell_type": "markdown",
   "metadata": {},
   "source": [
    "The metadata for object space and projection space can be obtained from the projection data file using `dicom.get_metadata`\n",
    "\n",
    "* This contains informaiton such as the voxel size, number of angles, scanner radius, etc."
   ]
  },
  {
   "cell_type": "code",
   "execution_count": 3,
   "metadata": {},
   "outputs": [],
   "source": [
    "object_meta, proj_meta = dicom.get_metadata(file_NM, index_peak=3)"
   ]
  },
  {
   "cell_type": "markdown",
   "metadata": {},
   "source": [
    "We can get the photopeak projection data from the DICOM file provided we know the indices of each of the energy windows. We can obtain that as follows:"
   ]
  },
  {
   "cell_type": "code",
   "execution_count": 5,
   "metadata": {},
   "outputs": [
    {
     "name": "stdout",
     "output_type": "stream",
     "text": [
      "[(0054, 0013)  Energy Window Range Sequence  1 item(s) ---- \n",
      "   (0054, 0014) Energy Window Lower Limit           DS: '19.25'\n",
      "   (0054, 0015) Energy Window Upper Limit           DS: '50.75'\n",
      "   ---------\n",
      "(0054, 0018) Energy Window Name                  SH: 'Window Group A'(0054, 0013)  Energy Window Range Sequence  1 item(s) ---- \n",
      "   (0054, 0014) Energy Window Lower Limit           DS: '51.0'\n",
      "   (0054, 0015) Energy Window Upper Limit           DS: '153.0'\n",
      "   ---------\n",
      "(0054, 0018) Energy Window Name                  SH: 'Window Group B'(0054, 0013)  Energy Window Range Sequence  1 item(s) ---- \n",
      "   (0054, 0014) Energy Window Lower Limit           DS: '153.0'\n",
      "   (0054, 0015) Energy Window Upper Limit           DS: '187.0'\n",
      "   ---------\n",
      "(0054, 0018) Energy Window Name                  SH: 'Window Group C'(0054, 0013)  Energy Window Range Sequence  1 item(s) ---- \n",
      "   (0054, 0014) Energy Window Lower Limit           DS: '187.19999694824'\n",
      "   (0054, 0015) Energy Window Upper Limit           DS: '228.80000305176'\n",
      "   ---------\n",
      "(0054, 0018) Energy Window Name                  SH: 'Window Group D'(0054, 0013)  Energy Window Range Sequence  1 item(s) ---- \n",
      "   (0054, 0014) Energy Window Lower Limit           DS: '229.5'\n",
      "   (0054, 0015) Energy Window Upper Limit           DS: '280.5'\n",
      "   ---------\n",
      "(0054, 0018) Energy Window Name                  SH: 'Window Group E'(0054, 0013)  Energy Window Range Sequence  1 item(s) ---- \n",
      "   (0054, 0014) Energy Window Lower Limit           DS: '281.20001220703'\n",
      "   (0054, 0015) Energy Window Upper Limit           DS: '478.79998779297'\n",
      "   ---------\n",
      "(0054, 0018) Energy Window Name                  SH: 'Window Group F']\n"
     ]
    }
   ],
   "source": [
    "print(pydicom.read_file(file_NM).EnergyWindowInformationSequence)"
   ]
  },
  {
   "attachments": {},
   "cell_type": "markdown",
   "metadata": {},
   "source": [
    "In this case, we specify `index_peak=3`, so it only returns the projections corresponding to the 187-228 energy window above."
   ]
  },
  {
   "cell_type": "code",
   "execution_count": 6,
   "metadata": {},
   "outputs": [
    {
     "data": {
      "text/plain": [
       "torch.Size([180, 128, 128])"
      ]
     },
     "execution_count": 6,
     "metadata": {},
     "output_type": "execute_result"
    }
   ],
   "source": [
    "photopeak = dicom.get_projections(file_NM, index_peak=3)\n",
    "photopeak.shape"
   ]
  },
  {
   "cell_type": "markdown",
   "metadata": {},
   "source": [
    "The shape of the photopeak is $(N_{angles}, \\text{Width}, \\text{Height})$."
   ]
  },
  {
   "cell_type": "code",
   "execution_count": 7,
   "metadata": {},
   "outputs": [
    {
     "data": {
      "text/plain": [
       "<matplotlib.colorbar.Colorbar at 0x7fd3c350c7d0>"
      ]
     },
     "execution_count": 7,
     "metadata": {},
     "output_type": "execute_result"
    },
    {
     "data": {
      "image/png": "[encoded data removed]",
      "text/plain": [
       "<Figure size 700x600 with 2 Axes>"
      ]
     },
     "metadata": {},
     "output_type": "display_data"
    }
   ],
   "source": [
    "plt.figure(figsize=(7,6))\n",
    "plt.pcolormesh(photopeak[0].cpu().T, cmap='nipy_spectral')\n",
    "plt.axis('off')\n",
    "plt.colorbar(label='Counts')"
   ]
  },
  {
   "attachments": {},
   "cell_type": "markdown",
   "metadata": {},
   "source": [
    "Scatter projections can be estimated using the triple energy window function `dicom_get_scatterTEW`. One needs to specify the index of the peak, and lower/upper energy windows"
   ]
  },
  {
   "cell_type": "code",
   "execution_count": 8,
   "metadata": {},
   "outputs": [],
   "source": [
    "scatter = dicom.get_energy_window_scatter_estimate(file_NM, index_peak=3, index_lower=2, index_upper=4)"
   ]
  },
  {
   "cell_type": "markdown",
   "metadata": {},
   "source": [
    "## Part 2: Modeling"
   ]
  },
  {
   "cell_type": "markdown",
   "metadata": {},
   "source": [
    "### Attenuation Transform"
   ]
  },
  {
   "cell_type": "markdown",
   "metadata": {},
   "source": [
    "The attenuation transform is used to \"correct\" for the fact that some photons get atteunated in the patient before they reach the detector. PyTomography has functionality to do attenuation correction provided either (i) an argument `attenuation_map=...` OR (ii) an argument `filepath=...` is provided to the `SPECTAttenuationTransform`.\n",
    "\n",
    "* `attenuation_map` must be aligned with the SPECT projection data and have units of cm $^{-1}$ .\n",
    "* `filepath` specifies the directory of some CT scan which will be used for attenuation correction. PyTomography has functionality to align this with the SPECT projections and convert to units of cm $^{-1}$.\n",
    "\n",
    "In this case, since we're reconstructing DICOM data, it's easier to use `filepath` than to manually align/rescale the CT data"
   ]
  },
  {
   "cell_type": "code",
   "execution_count": 9,
   "metadata": {},
   "outputs": [],
   "source": [
    "att_transform = SPECTAttenuationTransform(filepath=files_CT)"
   ]
  },
  {
   "cell_type": "markdown",
   "metadata": {},
   "source": [
    "If we want to view the attenuation map, we need to *configure* the `att_transform` so that (i) the CT data can be aligned with SPECT projection data and (ii) the CT data can be converted to attenuation coefficients.\n",
    "\n",
    "* *Note*: This is not required if you don't want to view the attenuation map. Later, when the system matrix is built, it automatically configures all the transforms"
   ]
  },
  {
   "cell_type": "code",
   "execution_count": 10,
   "metadata": {},
   "outputs": [],
   "source": [
    "att_transform.configure(object_meta, proj_meta)\n",
    "attenuation_map = att_transform.attenuation_map"
   ]
  },
  {
   "attachments": {},
   "cell_type": "markdown",
   "metadata": {},
   "source": [
    "Viewing the attenuation map allows for a consistency check to ensure that it's properly aligned with the projection data"
   ]
  },
  {
   "cell_type": "code",
   "execution_count": 11,
   "metadata": {},
   "outputs": [],
   "source": [
    "sample_slice = attenuation_map.cpu()[:,70].T"
   ]
  },
  {
   "cell_type": "code",
   "execution_count": 12,
   "metadata": {},
   "outputs": [
    {
     "data": {
      "text/plain": [
       "<matplotlib.colorbar.Colorbar at 0x7fd3c33dffd0>"
      ]
     },
     "execution_count": 12,
     "metadata": {},
     "output_type": "execute_result"
    },
    {
     "data": {
      "image/png": "[encoded data removed]",
      "text/plain": [
       "<Figure size 700x300 with 4 Axes>"
      ]
     },
     "metadata": {},
     "output_type": "display_data"
    }
   ],
   "source": [
    "plt.subplots(1,2,figsize=(7,3))\n",
    "plt.subplot(121)\n",
    "plt.title('Projection Data')\n",
    "plt.pcolormesh(photopeak[0].cpu().T, cmap='nipy_spectral')\n",
    "plt.axis('off')\n",
    "plt.colorbar(label='Counts')\n",
    "plt.subplot(122)\n",
    "plt.title('From CT Slices')\n",
    "plt.pcolormesh(sample_slice, cmap='Greys_r')\n",
    "plt.axis('off')\n",
    "plt.colorbar()"
   ]
  },
  {
   "cell_type": "markdown",
   "metadata": {},
   "source": [
    "### PSF Modeling"
   ]
  },
  {
   "attachments": {},
   "cell_type": "markdown",
   "metadata": {},
   "source": [
    "PSF modeling requires knowing the parameters of the collimators used for the scan. A list of all supported collimator types can be determined by uncommenting the following line and running it"
   ]
  },
  {
   "cell_type": "code",
   "execution_count": 13,
   "metadata": {},
   "outputs": [],
   "source": [
    "#print_collimator_parameters()"
   ]
  },
  {
   "cell_type": "markdown",
   "metadata": {},
   "source": [
    "In our case, we know that this scan was performed on a Siemens Symbia scanner with medium energy collimators."
   ]
  },
  {
   "cell_type": "code",
   "execution_count": 14,
   "metadata": {},
   "outputs": [
    {
     "name": "stdout",
     "output_type": "stream",
     "text": [
      "kernel_dimensions = 2D\n",
      "min_sigmas = 3\n",
      "sigma_fit_params = [0.03161992134409504, 0.1248503046423388, 0.0]\n",
      "\n"
     ]
    }
   ],
   "source": [
    "collimator_name = 'SY-ME'\n",
    "energy_kev = 208\n",
    "psf_meta = dicom.get_psfmeta_from_scanner_params(collimator_name, energy_kev)\n",
    "print(psf_meta)"
   ]
  },
  {
   "cell_type": "markdown",
   "metadata": {},
   "source": [
    "Now we can build our PSF transform required to create the system matrix"
   ]
  },
  {
   "cell_type": "code",
   "execution_count": 15,
   "metadata": {},
   "outputs": [],
   "source": [
    "psf_transform = SPECTPSFTransform(psf_meta)"
   ]
  },
  {
   "cell_type": "markdown",
   "metadata": {},
   "source": [
    "## System Matrix"
   ]
  },
  {
   "cell_type": "markdown",
   "metadata": {},
   "source": [
    "Now that we have the required transforms, we can begin to build the system matrix. It requires:\n",
    "1. `obj2obj_transforms`. These map from object space to object space. In the case of SPECT imaging, both the attenuation transform and PSF transform correspond to these types of transforms.\n",
    "2. `proj2proj_transforms`: These map from projection to projection space. Though we have none here, they would be used to model PSF in PET imaging.\n",
    "3. `object_meta` and `proj_meta`. These are used to initialize the transforms. For example, data from `object_meta` is used to align the attenuation map, and radial position from `proj_meta` is used to get proper blurring parameters for the PSF transform"
   ]
  },
  {
   "cell_type": "code",
   "execution_count": 16,
   "metadata": {},
   "outputs": [],
   "source": [
    "system_matrix = SPECTSystemMatrix(\n",
    "        obj2obj_transforms = [att_transform,psf_transform],\n",
    "        proj2proj_transforms = [],\n",
    "        object_meta = object_meta,\n",
    "        proj_meta = proj_meta)"
   ]
  },
  {
   "cell_type": "markdown",
   "metadata": {},
   "source": [
    "The system matrix $H$ represents the imaging system and maps an object $f$ to a corresponding image $g$ under the imaging system"
   ]
  },
  {
   "cell_type": "markdown",
   "metadata": {},
   "source": [
    "## Likelihood"
   ]
  },
  {
   "cell_type": "code",
   "execution_count": 17,
   "metadata": {},
   "outputs": [],
   "source": [
    "likelihood = PoissonLogLikelihood(system_matrix, photopeak, scatter)"
   ]
  },
  {
   "attachments": {},
   "cell_type": "markdown",
   "metadata": {},
   "source": [
    "# Reconstruct the object"
   ]
  },
  {
   "cell_type": "markdown",
   "metadata": {},
   "source": [
    "We'll reconstruct the object using OSEM. For this, we need to specify the measured projection data (`photopeak`/`scatter`) and the `system_matrix`"
   ]
  },
  {
   "cell_type": "code",
   "execution_count": 18,
   "metadata": {},
   "outputs": [],
   "source": [
    "reconstruction_algorithm = OSEM(likelihood)"
   ]
  },
  {
   "cell_type": "markdown",
   "metadata": {},
   "source": [
    "We can reconstruct the object by calling the reconstruction algorithm for a given number of iterations/subsets."
   ]
  },
  {
   "cell_type": "code",
   "execution_count": 19,
   "metadata": {},
   "outputs": [],
   "source": [
    "reconstructed_object = reconstruction_algorithm(n_iters=4, n_subsets=10)"
   ]
  },
  {
   "attachments": {},
   "cell_type": "markdown",
   "metadata": {},
   "source": [
    "We can compare this reconstruction to one done by the vendor:\n",
    "\n",
    "* Note: we divide the vendor reconstruction by 90 because this particualr vendor multiplies by the number of acquisition angles when saving the data. Although we have 180 projections, there are two heads, so 90 different angles. (Other vendors multiply may multiply by 180: this is inconsistent between vendors)"
   ]
  },
  {
   "cell_type": "code",
   "execution_count": 20,
   "metadata": {},
   "outputs": [],
   "source": [
    "ds_recon = pydicom.read_file(os.path.join(path, 'scanner_recon.dcm'))\n",
    "recon_vendor = ds_recon.pixel_array / 90\n",
    "recon_vendor = np.transpose(recon_vendor, (2,1,0))"
   ]
  },
  {
   "attachments": {},
   "cell_type": "markdown",
   "metadata": {},
   "source": [
    "We can looks at axial slices from all three reconstructions."
   ]
  },
  {
   "cell_type": "code",
   "execution_count": 21,
   "metadata": {},
   "outputs": [],
   "source": [
    "slice_pytomography = reconstructed_object.cpu()[:,:,70].T\n",
    "slice_vendor = recon_vendor[:,:,70].T"
   ]
  },
  {
   "cell_type": "code",
   "execution_count": 22,
   "metadata": {},
   "outputs": [
    {
     "data": {
      "image/png": "[encoded data removed]",
      "text/plain": [
       "<Figure size 700x300 with 4 Axes>"
      ]
     },
     "metadata": {},
     "output_type": "display_data"
    }
   ],
   "source": [
    "plt.subplots(1,2,figsize=(7,3))\n",
    "plt.subplot(121)\n",
    "plt.title('PyTomography')\n",
    "plt.pcolormesh(slice_pytomography , cmap='magma', vmax=110)\n",
    "plt.axis('off')\n",
    "plt.colorbar()\n",
    "plt.subplot(122)\n",
    "plt.title('Vendor')\n",
    "plt.pcolormesh(slice_vendor, cmap='magma', vmax=110)\n",
    "plt.axis('off')\n",
    "plt.colorbar()\n",
    "plt.show()"
   ]
  },
  {
   "cell_type": "markdown",
   "metadata": {},
   "source": [
    "## Saving Data"
   ]
  },
  {
   "cell_type": "markdown",
   "metadata": {},
   "source": [
    "PyTomography has functionality for saving DICOM data. There are a few things required:\n",
    "\n",
    "1. The folder where you want to save the data. The folder can't exist already (has to be a new folder); this prevents overwriting potential data.\n",
    "2. The reconstructed object itself: in this case, `recon_CTslices`\n",
    "3. The filepath of the projection data `file_NM`. Much of the study/patient information is copied over from this file to the reconstructed file.\n",
    "4. An optional string that represents the type of reconstruction performed. If left blank, will be an empty string `''`"
   ]
  },
  {
   "cell_type": "markdown",
   "metadata": {},
   "source": [
    "**Note: Some vendor reconstructions (i) multiply by the total number of projections and/or (ii) normalize to counts/second when they save their SPECT reconstructions. Make sure to multiply `reconstructed_object` by these values before you save if you want to do such comparisons.**"
   ]
  },
  {
   "cell_type": "code",
   "execution_count": null,
   "metadata": {},
   "outputs": [],
   "source": [
    "# Modify the path below to a location on your computer where you want to save the data\n",
    "save_path = '/disk1/pytomography_tutorial_data/dicom_tutorial/output'\n",
    "dicom.save_dcm(\n",
    "    save_path = save_path,\n",
    "    object = reconstructed_object,\n",
    "    file_NM = file_NM,\n",
    "    recon_name = 'OSEM_4it_10ss')"
   ]
  },
  {
   "cell_type": "markdown",
   "metadata": {},
   "source": [
    "The data can now be exported to any DICOM viewer of your choice!"
   ]
  }
 ],
 "metadata": {
  "kernelspec": {
   "display_name": "torch",
   "language": "python",
   "name": "python3"
  },
  "language_info": {
   "codemirror_mode": {
    "name": "ipython",
    "version": 3
   },
   "file_extension": ".py",
   "mimetype": "text/x-python",
   "name": "python",
   "nbconvert_exporter": "python",
   "pygments_lexer": "ipython3",
   "version": "3.11.6"
  },
  "orig_nbformat": 4
 },
 "nbformat": 4,
 "nbformat_minor": 2
}
