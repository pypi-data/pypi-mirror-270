{
 "cells": [
  {
   "cell_type": "markdown",
   "metadata": {},
   "source": [
    "# Implementing New System Matrices"
   ]
  },
  {
   "cell_type": "code",
   "execution_count": 1,
   "metadata": {},
   "outputs": [],
   "source": [
    "import pytomography\n",
    "from pytomography.algorithms import OSEM, MLEM\n",
    "from pytomography.metadata import ObjectMeta, ProjMeta\n",
    "from pytomography.projectors import SystemMatrix\n",
    "from pytomography.likelihoods import NegativeMSELikelihood\n",
    "import matplotlib.pyplot as plt\n",
    "import torch"
   ]
  },
  {
   "cell_type": "markdown",
   "metadata": {},
   "source": [
    "For now, we'll set `pytomography.device='cpu'` since all the objects we'll be creating/testing on will be on CPU, but this can be changed (provided all created objects are placed on GPU)."
   ]
  },
  {
   "cell_type": "code",
   "execution_count": 2,
   "metadata": {},
   "outputs": [],
   "source": [
    "pytomography.device = 'cpu'"
   ]
  },
  {
   "cell_type": "markdown",
   "metadata": {},
   "source": [
    "This tutorial demonstrates how to implement new system matrices in PyTomography that interface with all the available likelihoods/reconstruction algorithms. We will consider a very simple scenario of an imaging system where \n",
    "\n",
    "* data is acquired at two angles (0 and 90 degrees)\n",
    "* detector consists of an MxM grid that perfectly aligns with an object of shape $M \\times M \\times M$\n",
    "* each detector pixel has a different sensitivity $s_j$\n",
    "\n",
    "The value of each pixel is thus\n",
    "\n",
    "$$ p_j = s_j \\sum_{i \\in \\text{line}_j} x_i$$\n",
    "\n",
    "<img src=\"../images/example_scanner_sm.png\"  width=\"500\">\n",
    "\n",
    "\n",
    "\n",
    " We'll call this system the **Example Scanner**, (or *EXS* for short) "
   ]
  },
  {
   "cell_type": "code",
   "execution_count": 3,
   "metadata": {},
   "outputs": [],
   "source": [
    "M = 3\n",
    "object_meta = ObjectMeta(dr=(1.5,1.5,1.5), shape=(M,M,M))"
   ]
  },
  {
   "cell_type": "markdown",
   "metadata": {},
   "source": [
    "The objects we consider thus have dimensions of $3 \\times 3 \\times 3$ with voxel dimensions of $1.5 \\times 1.5 \\times 1.5$. The units of the voxel dimensions can be whatever (mm/cm): their units are defined by the system matrix."
   ]
  },
  {
   "cell_type": "markdown",
   "metadata": {},
   "source": [
    "# Example 1: Non-ListMode"
   ]
  },
  {
   "cell_type": "markdown",
   "metadata": {},
   "source": [
    "## Metadata"
   ]
  },
  {
   "cell_type": "markdown",
   "metadata": {},
   "source": [
    "We'll start by creating a projection metadata class which will interface with the system matrix\n",
    "* It should be a subclass of the `ProjMeta` class of PyTomography"
   ]
  },
  {
   "cell_type": "code",
   "execution_count": 4,
   "metadata": {},
   "outputs": [],
   "source": [
    "class EXSProjMeta(ProjMeta):\n",
    "    def __init__(self, M, sensitivity_factor):\n",
    "        self.M = M\n",
    "        self.sensitivity_factor = sensitivity_factor\n",
    "        if (sensitivity_factor.shape[0]!=M)*(sensitivity_factor.shape[1]!=M):\n",
    "            raise ValueError(\"sensitivity_factor should have side dimensions M\")"
   ]
  },
  {
   "cell_type": "code",
   "execution_count": 5,
   "metadata": {},
   "outputs": [],
   "source": [
    "M = object_meta.shape[0]\n",
    "# Note: the sensitivty factor is the same for each projection angle, a single detector is \"rotating\" between angle 0 and 90\n",
    "sensitivity_factor = torch.ones((M,M))+0.3*torch.rand((M,M))\n",
    "proj_meta = EXSProjMeta(M, sensitivity_factor)"
   ]
  },
  {
   "cell_type": "markdown",
   "metadata": {},
   "source": [
    "## System Matrix\n",
    "\n",
    "### Part 1: Understanding the Forward/Backward PRojections"
   ]
  },
  {
   "cell_type": "markdown",
   "metadata": {},
   "source": [
    "Before we begin to build the system matrix, lets understand the operations required to implement this system matrix. \n",
    "\n",
    "* Forward projection requires summing the object along its $x$-axis and $y$-axis respectively, and then concatenating together.\n",
    "* In PyTomography, our object is 3D, so it's shape is `[Lx,Ly,Lz]`; our projections have shape `[2,M,M]`"
   ]
  },
  {
   "cell_type": "code",
   "execution_count": 6,
   "metadata": {},
   "outputs": [
    {
     "data": {
      "text/plain": [
       "torch.Size([2, 3, 3])"
      ]
     },
     "execution_count": 6,
     "metadata": {},
     "output_type": "execute_result"
    }
   ],
   "source": [
    "sample_object = torch.rand(object_meta.shape) \n",
    "# Sum object along x to get projection at 0 degrees\n",
    "sample_projection_0degrees = sample_object.sum(dim=0) * proj_meta.sensitivity_factor\n",
    "# Sum object along y to get projection at 90 degrees\n",
    "sample_projection_90degrees = sample_object.sum(dim=1) * proj_meta.sensitivity_factor\n",
    "# Concatenate to get the full set of projections\n",
    "sample_projections = torch.stack([sample_projection_0degrees, sample_projection_90degrees], dim=0)\n",
    "sample_projections.shape"
   ]
  },
  {
   "cell_type": "markdown",
   "metadata": {},
   "source": [
    "Let's plot the projections at each angle"
   ]
  },
  {
   "cell_type": "code",
   "execution_count": 7,
   "metadata": {},
   "outputs": [
    {
     "data": {
      "image/png": "[encoded data removed]",
      "text/plain": [
       "<Figure size 400x150 with 4 Axes>"
      ]
     },
     "metadata": {},
     "output_type": "display_data"
    }
   ],
   "source": [
    "plt.figure(figsize=(4,1.5))\n",
    "plt.subplot(121)\n",
    "plt.pcolormesh(sample_projections[0].cpu().T, vmin=0, vmax=2)\n",
    "plt.colorbar()\n",
    "plt.axis('off')\n",
    "plt.title('Angle 0')\n",
    "plt.subplot(122)\n",
    "plt.pcolormesh(sample_projections[1].cpu().T, vmin=0, vmax=2)\n",
    "plt.colorbar()\n",
    "plt.axis('off')\n",
    "plt.title('Angle 90')\n",
    "plt.show()"
   ]
  },
  {
   "cell_type": "markdown",
   "metadata": {},
   "source": [
    "* Back projection: The transpose of summing along X and Y is duplication along X and Y"
   ]
  },
  {
   "cell_type": "code",
   "execution_count": 8,
   "metadata": {},
   "outputs": [],
   "source": [
    "# First adjust projections by sensitivity factor\n",
    "sample_projections_angle_0_sensitivity_adjusted = sample_projections[0]*proj_meta.sensitivity_factor\n",
    "# Back project at angle 0 by duplication\n",
    "sample_object_BP_angle0 = sample_projections_angle_0_sensitivity_adjusted.unsqueeze(0).repeat(object_meta.shape[0],1,1)\n",
    "# Back project at angle 90 by duplication\n",
    "sample_projections_angle_90_sensitivity_adjusted = sample_projections[1]*proj_meta.sensitivity_factor\n",
    "sample_object_BP_angle90 = sample_projections_angle_90_sensitivity_adjusted.unsqueeze(1).repeat(1,object_meta.shape[0],1)\n",
    "# Back projected object is sum of each\n",
    "sample_object_BP = sample_object_BP_angle0 + sample_object_BP_angle90"
   ]
  },
  {
   "cell_type": "code",
   "execution_count": 9,
   "metadata": {},
   "outputs": [
    {
     "data": {
      "image/png": "[encoded data removed]",
      "text/plain": [
       "<Figure size 200x200 with 1 Axes>"
      ]
     },
     "metadata": {},
     "output_type": "display_data"
    }
   ],
   "source": [
    "plt.figure(figsize=(2,2))\n",
    "plt.title('Top Z-Slice BP')\n",
    "plt.pcolormesh(sample_object_BP[:,:,-1].T)\n",
    "plt.axis('off')\n",
    "plt.show()"
   ]
  },
  {
   "cell_type": "markdown",
   "metadata": {},
   "source": [
    "### Part 2: Implementing The Forward/Backward Projections in the System Matrix Class"
   ]
  },
  {
   "cell_type": "markdown",
   "metadata": {},
   "source": [
    "We can now create a system matrix class that implements forward and back projection\n",
    "\n",
    "* We inherit from the `SystemMatrix` class of PyTomography\n",
    "* The method for forward projection should be called `forward`, while the method for back projection should be called `backward`"
   ]
  },
  {
   "cell_type": "code",
   "execution_count": 10,
   "metadata": {},
   "outputs": [],
   "source": [
    "class EXSSystemMatrix(SystemMatrix):\n",
    "    def forward(self, object, subset_idx = None):\n",
    "        projection_0degrees = object.sum(dim=0)\n",
    "        projection_90degrees = object.sum(dim=1)\n",
    "        projections = torch.stack([projection_0degrees, projection_90degrees], dim=0)\n",
    "        projections *= self.proj_meta.sensitivity_factor\n",
    "        return projections\n",
    "    def backward(self, projections, subset_idx = None):\n",
    "        object_BP_angle0 = (projections[0]*self.proj_meta.sensitivity_factor).unsqueeze(0).repeat(self.proj_meta.M,1,1)\n",
    "        object_BP_angle90 = (projections[1]*self.proj_meta.sensitivity_factor).unsqueeze(1).repeat(1,self.proj_meta.M,1)\n",
    "        object_BP = object_BP_angle0 + object_BP_angle90\n",
    "        return object_BP"
   ]
  },
  {
   "cell_type": "markdown",
   "metadata": {},
   "source": [
    "This system matrix can now be used for forward/backward projection"
   ]
  },
  {
   "cell_type": "code",
   "execution_count": 11,
   "metadata": {},
   "outputs": [],
   "source": [
    "system_matrix = EXSSystemMatrix(object_meta=object_meta, proj_meta=proj_meta)\n",
    "FP = system_matrix.forward(sample_object)\n",
    "BP = system_matrix.forward(sample_object)"
   ]
  },
  {
   "cell_type": "markdown",
   "metadata": {},
   "source": [
    "In order to use the system matrix in reconstruction algorithms, one of the requirements is the computation of a normalization factor $H^T 1$. For this, we need to define the `compute_normalization_factor` method:"
   ]
  },
  {
   "cell_type": "code",
   "execution_count": 12,
   "metadata": {},
   "outputs": [],
   "source": [
    "class EXSSystemMatrix(SystemMatrix):\n",
    "    def compute_normalization_factor(self):\n",
    "        # A clever implementation of this function will only compute the normalization factor once, and then store it for future use (e.g. using a boolean flag)\n",
    "        norm_projections = torch.ones((2,self.proj_meta.M, self.proj_meta.M))\n",
    "        return self.backward(norm_projections)\n",
    "    def forward(self, object, subset_idx = None):\n",
    "        projection_0degrees = object.sum(dim=0)\n",
    "        projection_90degrees = object.sum(dim=1)\n",
    "        projections = torch.stack([projection_0degrees, projection_90degrees], dim=0)\n",
    "        projections *= self.proj_meta.sensitivity_factor\n",
    "        return projections\n",
    "    def backward(self, projections, subset_idx = None):\n",
    "        object_BP_angle0 = (projections[0]*self.proj_meta.sensitivity_factor).unsqueeze(0).repeat(self.proj_meta.M,1,1)\n",
    "        object_BP_angle90 = (projections[1]*self.proj_meta.sensitivity_factor).unsqueeze(1).repeat(1,self.proj_meta.M,1)\n",
    "        object_BP = object_BP_angle0 + object_BP_angle90\n",
    "        return object_BP"
   ]
  },
  {
   "cell_type": "markdown",
   "metadata": {},
   "source": [
    "Then we can compute the normalization factor as follows:"
   ]
  },
  {
   "cell_type": "code",
   "execution_count": 13,
   "metadata": {},
   "outputs": [],
   "source": [
    "system_matrix = EXSSystemMatrix(object_meta=object_meta, proj_meta=proj_meta)\n",
    "norm_factor = system_matrix.compute_normalization_factor()"
   ]
  },
  {
   "cell_type": "code",
   "execution_count": 14,
   "metadata": {},
   "outputs": [
    {
     "data": {
      "image/png": "[encoded data removed]",
      "text/plain": [
       "<Figure size 200x200 with 2 Axes>"
      ]
     },
     "metadata": {},
     "output_type": "display_data"
    }
   ],
   "source": [
    "plt.figure(figsize=(2,2))\n",
    "plt.title('Top Z-Slice Norm')\n",
    "plt.pcolormesh(norm_factor[:,:,-1].T)\n",
    "plt.colorbar()\n",
    "plt.axis('off')\n",
    "plt.show()"
   ]
  },
  {
   "cell_type": "markdown",
   "metadata": {},
   "source": [
    "Now that the system matrix has been defined, we can reconstruct using the available reconstruction algorithms (up to this point, we haven't defined any subset functionality, so we can only use non-subset based algorithms) "
   ]
  },
  {
   "cell_type": "code",
   "execution_count": 15,
   "metadata": {},
   "outputs": [],
   "source": [
    "sample_object = torch.rand(object_meta.shape) # object has batch dimension\n",
    "sample_projections = system_matrix.forward(sample_object)"
   ]
  },
  {
   "cell_type": "code",
   "execution_count": 16,
   "metadata": {},
   "outputs": [],
   "source": [
    "# Define system matrix\n",
    "system_matrix = EXSSystemMatrix(object_meta=object_meta, proj_meta=proj_meta)\n",
    "# Define likelihood that characterizes measured data (for SPECT/PET, this is PoissonLog, but here we'll use NegativeMSE)\n",
    "likelihood = NegativeMSELikelihood(system_matrix, projections=sample_projections, scaling_constant=0.01)\n",
    "# Define \n",
    "reconstruction_algorithm = MLEM(likelihood)"
   ]
  },
  {
   "cell_type": "code",
   "execution_count": 17,
   "metadata": {},
   "outputs": [],
   "source": [
    "recon = reconstruction_algorithm(n_iters=40)"
   ]
  },
  {
   "cell_type": "markdown",
   "metadata": {},
   "source": [
    "In this case our system matrix is underdetermined so we have no way of ensuring we get the right solution"
   ]
  },
  {
   "cell_type": "code",
   "execution_count": 18,
   "metadata": {},
   "outputs": [
    {
     "data": {
      "text/plain": [
       "<matplotlib.colorbar.Colorbar at 0x7f0b0b50e210>"
      ]
     },
     "execution_count": 18,
     "metadata": {},
     "output_type": "execute_result"
    },
    {
     "data": {
      "image/png": "[encoded data removed]",
      "text/plain": [
       "<Figure size 400x200 with 4 Axes>"
      ]
     },
     "metadata": {},
     "output_type": "display_data"
    }
   ],
   "source": [
    "plt.figure(figsize=(4,2))\n",
    "plt.subplot(121)\n",
    "plt.pcolormesh(sample_object[:,:,0], vmin=0, vmax=1)\n",
    "plt.axis('off')\n",
    "plt.colorbar()\n",
    "plt.subplot(122)\n",
    "plt.pcolormesh(recon[:,:,0])\n",
    "plt.axis('off')\n",
    "plt.colorbar()"
   ]
  },
  {
   "cell_type": "markdown",
   "metadata": {},
   "source": [
    "### Part 3: Incorporating Subsets"
   ]
  },
  {
   "cell_type": "markdown",
   "metadata": {},
   "source": [
    "Up until now, we've ignored the `subset_idx` which specifies how projection data can be split into subsets in ordered subset based reconstruction algorithms. In such algorithms, the projection data is split up into disjoint subsets: in SPECT/PET, one typically partitions using the projection angle. We will do the same thing here, giving the option of `subset_idx=0` for the first projection angle and `subset_idx=1` for the second:"
   ]
  },
  {
   "cell_type": "code",
   "execution_count": 19,
   "metadata": {},
   "outputs": [],
   "source": [
    "class EXSSystemMatrix(SystemMatrix):\n",
    "    def compute_normalization_factor(self):\n",
    "        norm_projections = torch.ones((2,self.proj_meta.M, self.proj_meta.M))\n",
    "        return self.backward(norm_projections)\n",
    "    def forward(self, object, subset_idx = None):\n",
    "        projection_0degrees = object.sum(dim=0)\n",
    "        projection_90degrees = object.sum(dim=0)\n",
    "        if subset_idx==0:\n",
    "            projections = projection_0degrees\n",
    "        elif subset_idx==1:\n",
    "            projections = projection_90degrees\n",
    "        else:\n",
    "            projections = torch.stack([projection_0degrees, projection_90degrees], dim=0)\n",
    "        projections *= self.proj_meta.sensitivity_factor\n",
    "        return projections\n",
    "    def backward(self, proj, subset_idx = None):\n",
    "        # Back projection expects projections in their subset\n",
    "        if subset_idx is not None:\n",
    "            object_BP = (proj[0]*self.proj_meta.sensitivity_factor).unsqueeze(subset_idx).repeat_interleave(self.proj_meta.M, subset_idx)\n",
    "        else:\n",
    "            object_BP_angle0 = (proj[0]*self.proj_meta.sensitivity_factor).unsqueeze(0).repeat(self.proj_meta.M,1,1)\n",
    "            object_BP_angle90 = (proj[1]*self.proj_meta.sensitivity_factor).unsqueeze(1).repeat(1,self.proj_meta.M,1)\n",
    "            object_BP = object_BP_angle0 + object_BP_angle90\n",
    "        return object_BP"
   ]
  },
  {
   "cell_type": "code",
   "execution_count": 20,
   "metadata": {},
   "outputs": [],
   "source": [
    "system_matrix = EXSSystemMatrix(object_meta=object_meta, proj_meta=proj_meta)\n",
    "FP_subset0 = system_matrix.forward(sample_object, subset_idx=0)\n",
    "FP_subset1 = system_matrix.forward(sample_object, subset_idx=1)\n",
    "BP_subset0 = system_matrix.backward(FP_subset0, subset_idx=0)\n",
    "BP_subset1 = system_matrix.backward(FP_subset0, subset_idx=1)"
   ]
  },
  {
   "cell_type": "code",
   "execution_count": 21,
   "metadata": {},
   "outputs": [
    {
     "data": {
      "image/png": "[encoded data removed]",
      "text/plain": [
       "<Figure size 400x200 with 2 Axes>"
      ]
     },
     "metadata": {},
     "output_type": "display_data"
    }
   ],
   "source": [
    "plt.figure(figsize=(4,2))\n",
    "plt.subplot(121)\n",
    "plt.title('Top Z-Slice BP Sub0')\n",
    "plt.pcolormesh(BP_subset0[:,:,-1].T)\n",
    "plt.axis('off')\n",
    "plt.subplot(122)\n",
    "plt.title('Top Z-Slice BP Sub1')\n",
    "plt.pcolormesh(BP_subset1[:,:,-1].T)\n",
    "plt.axis('off')\n",
    "plt.show()"
   ]
  },
  {
   "cell_type": "markdown",
   "metadata": {},
   "source": [
    "There are a couple other methods we need to implement for subset based image reconstruction algorithms:\n",
    "* `set_n_subsets`: Sets the number of \"subsets\" used in an iterative reconstruction algorithm. This requires partitioning the projection data into N distinct subsets. In general, the way in which this is done depends on the particular imaging modality (in SPECT/PET, one typically partitions using the projection angle).In our case, we have only set up our forward/back projectors to consider 2 subsets (we only have two possible angles). More advanced system matrices will need to consider implementation of arbitrary numbers of subsets \n",
    "* `get_projection_subset`: Returns the projection data corresponding to the ith subset \n",
    "* `get_weighting_subset`: This is used for scaling prior functions used in Bayesian reconstruction algorithms. It should be equal to the fraction of data elements in the particular subset. (For $N$ even subsets, this factor is $1/N$ for each subset, but sometimes the subsets aren't even)\n",
    "* We need to modify `compute_normalization_factor` so it can get the normalization factor of the $m$ th subset"
   ]
  },
  {
   "cell_type": "code",
   "execution_count": 22,
   "metadata": {},
   "outputs": [],
   "source": [
    "class EXSSystemMatrix(SystemMatrix):\n",
    "    # ----\n",
    "    # NEW METHODS\n",
    "    # ----\n",
    "    def set_n_subsets(self, n_subsets):\n",
    "        self.n_subsets = n_subsets\n",
    "    def get_projection_subset(self, projections, subset_idx):\n",
    "        # Called when n_subsets>1 in internal pytomography code, in this case, assumes 2 subsets since thats the only possible number of subsets we have. In general, this should split data evenly (see SPECTSystemMatrix source code)\n",
    "        return projections[subset_idx].unsqueeze(0)\n",
    "    def compute_normalization_factor(self, subset_idx = None):\n",
    "        # This function generally looks the same for all system matrices\n",
    "        norm_projections = torch.ones((2,self.proj_meta.M, self.proj_meta.M))\n",
    "        if subset_idx is not None:\n",
    "            norm_projections = self.get_projection_subset(norm_projections, subset_idx)\n",
    "        return self.backward(norm_projections, subset_idx)\n",
    "    def get_weighting_subset(self, subset_idx):\n",
    "        if subset_idx is None:\n",
    "            return 1\n",
    "        elif self.n_subsets==2:\n",
    "            return 0.5 # equal weighting in this case, in general need to be careful with this\n",
    "    # ----\n",
    "    # SAME AS PREVIOUS\n",
    "    # ----\n",
    "    def forward(self, object, subset_idx = None):\n",
    "        projection_0degrees = object.sum(dim=0)\n",
    "        projection_90degrees = object.sum(dim=0)\n",
    "        if subset_idx==0:\n",
    "            projections = projection_0degrees\n",
    "        elif subset_idx==1:\n",
    "            projections = projection_90degrees\n",
    "        else:\n",
    "            projections = torch.stack([projection_0degrees, projection_90degrees], dim=0)\n",
    "        projections *= self.proj_meta.sensitivity_factor\n",
    "        return projections\n",
    "    def backward(self, proj, subset_idx = None):\n",
    "        # Back projection expects projections in their subset\n",
    "        if subset_idx is not None:\n",
    "            object_BP = (proj[0]*self.proj_meta.sensitivity_factor).unsqueeze(subset_idx).repeat_interleave(self.proj_meta.M, subset_idx)\n",
    "        else:\n",
    "            object_BP_angle0 = (proj[0]*self.proj_meta.sensitivity_factor).unsqueeze(0).repeat(self.proj_meta.M,1,1)\n",
    "            object_BP_angle90 = (proj[1]*self.proj_meta.sensitivity_factor).unsqueeze(1).repeat(1,self.proj_meta.M,1)\n",
    "            object_BP = object_BP_angle0 + object_BP_angle90\n",
    "        return object_BP"
   ]
  },
  {
   "cell_type": "code",
   "execution_count": 23,
   "metadata": {},
   "outputs": [],
   "source": [
    "system_matrix = EXSSystemMatrix(object_meta=object_meta, proj_meta=proj_meta)"
   ]
  },
  {
   "cell_type": "markdown",
   "metadata": {},
   "source": [
    "Our system matrix can now be used in reconstruction algorithms. Let's reconstruct our simulated data. Like the tutorials online, we now create a likelihood function and then a reconstruction algorithm:"
   ]
  },
  {
   "cell_type": "code",
   "execution_count": 24,
   "metadata": {},
   "outputs": [],
   "source": [
    "sample_object = torch.rand(object_meta.shape) # object has batch dimension\n",
    "sample_projections = system_matrix.forward(sample_object)"
   ]
  },
  {
   "cell_type": "code",
   "execution_count": 25,
   "metadata": {},
   "outputs": [],
   "source": [
    "system_matrix = EXSSystemMatrix(object_meta=object_meta, proj_meta=proj_meta)\n",
    "likelihood = NegativeMSELikelihood(system_matrix, projections=sample_projections, scaling_constant=0.01)\n",
    "reconstruction_algorithm = OSEM(likelihood)"
   ]
  },
  {
   "cell_type": "code",
   "execution_count": 26,
   "metadata": {},
   "outputs": [],
   "source": [
    "recon = reconstruction_algorithm(n_iters=40, n_subsets=2)"
   ]
  },
  {
   "cell_type": "code",
   "execution_count": 27,
   "metadata": {},
   "outputs": [
    {
     "data": {
      "text/plain": [
       "<matplotlib.collections.QuadMesh at 0x7f0b0b528710>"
      ]
     },
     "execution_count": 27,
     "metadata": {},
     "output_type": "execute_result"
    },
    {
     "data": {
      "image/png": "[encoded data removed]",
      "text/plain": [
       "<Figure size 400x200 with 2 Axes>"
      ]
     },
     "metadata": {},
     "output_type": "display_data"
    }
   ],
   "source": [
    "plt.figure(figsize=(4,2))\n",
    "plt.subplot(121)\n",
    "plt.pcolormesh(sample_object[:,:,-1])\n",
    "plt.subplot(122)\n",
    "plt.pcolormesh(recon[:,:,-1])"
   ]
  },
  {
   "cell_type": "markdown",
   "metadata": {},
   "source": [
    "# Example 2: List Mode System Matrices"
   ]
  },
  {
   "cell_type": "markdown",
   "metadata": {},
   "source": [
    "Modalities containing listmode data can also be implemented in PyTomography; their implementation may look slightly different than above, however. Regardless, if implemented properly, they are still usable with all available reconstruction algorithms\n",
    "\n",
    "For our simple imaging system, listmode data might be stored via a list of integers where each integer specifies a given pixel in projection space. Since we have 2 projections, each with $M \\times M$ pixels, the total number of detector elements is $2M^2$.\n",
    "\n",
    "We can simulate 100 random events as follows (in reality, a more sophisticated program, such as GATE, would be required to give a proper distribution according to a specific phantom/source distribution)"
   ]
  },
  {
   "cell_type": "code",
   "execution_count": 28,
   "metadata": {},
   "outputs": [
    {
     "data": {
      "text/plain": [
       "tensor([10, 15,  2, 15, 14, 10,  9,  7,  7, 15, 10,  9,  9, 16, 13,  9,  8, 10,\n",
       "         5, 14, 12,  7, 14,  3,  6, 14,  3, 17, 13, 16, 10,  7, 11,  2,  5,  0,\n",
       "        13,  7,  7,  3,  7, 13,  6,  9,  8, 11, 10, 14, 12,  6, 12,  7, 12,  2,\n",
       "         4,  7, 12, 10,  7,  8,  0,  1,  3, 11, 12, 14, 14, 16, 14, 10, 15,  0,\n",
       "        11,  4, 10,  4,  8,  7, 17, 11, 12, 14,  8, 15,  8,  3,  7,  3,  4, 16,\n",
       "        14,  6, 16,  3,  1, 13,  5,  6, 15,  4,  5, 17,  0, 10, 14, 10,  0,  0,\n",
       "         9,  9,  8, 17, 10, 10, 17,  5, 17, 10,  8, 11,  0, 10, 14,  9,  8,  6,\n",
       "        17,  8,  0, 12,  6, 11, 14,  9, 12, 11, 17, 10, 12,  1, 14, 12,  4, 11,\n",
       "        11,  2, 14,  8,  5, 10, 14,  2, 14, 10,  2,  6,  6,  2,  8, 15,  8, 14,\n",
       "        12,  6, 13,  2, 11,  8, 11,  7, 13, 17, 12, 12,  7,  7, 12, 13, 16,  7,\n",
       "        17,  3,  7,  1,  7, 13,  8, 12, 13, 16,  1, 11,  4, 12, 13, 10, 12,  7,\n",
       "         2,  4, 17,  7,  0,  4,  3, 15,  1, 17,  0,  0,  3, 15,  0,  7,  3,  4,\n",
       "         1,  3, 15, 15,  0,  4, 13,  2, 15,  7,  0,  7,  7,  6, 11, 15,  1,  9,\n",
       "        12, 10,  9, 15, 15,  9,  3,  4,  0,  4,  2,  5,  5, 11, 16, 12,  5,  0,\n",
       "        17, 12,  0,  1,  2,  5,  1,  3,  1,  2, 16,  5,  8, 15,  9,  1,  3, 10,\n",
       "        10, 16,  8, 12, 13, 10, 16, 12, 13,  2, 14, 16,  8, 16,  5,  3,  7, 13,\n",
       "        11,  1,  5, 17, 16,  9,  7, 17, 11, 14, 14, 17, 11,  6,  0,  0,  1, 17,\n",
       "        15,  7,  9, 10,  7, 15,  5,  8,  6, 14,  1, 17,  2,  3, 11,  9,  6,  9,\n",
       "         3,  9,  0, 10,  3,  4,  6,  4,  8,  5,  0,  8,  5, 15, 15,  7,  4, 16,\n",
       "        11,  2,  8,  4,  8, 13,  5,  6,  7,  3,  3,  0,  3,  1, 11,  8, 12,  0,\n",
       "        12, 16,  7, 14, 13,  8,  2, 10, 13, 16,  0,  9,  5, 11,  9, 12,  5, 15,\n",
       "        11,  0, 17,  8, 13, 10, 16,  5,  8, 11,  1,  6, 13,  7,  7,  9, 10,  3,\n",
       "         4,  8, 17,  7])"
      ]
     },
     "execution_count": 28,
     "metadata": {},
     "output_type": "execute_result"
    }
   ],
   "source": [
    "detector_ids = torch.randint(low=0, high=2*M**2, size=(400,))\n",
    "detector_ids"
   ]
  },
  {
   "cell_type": "markdown",
   "metadata": {},
   "source": [
    "## MetaData"
   ]
  },
  {
   "cell_type": "markdown",
   "metadata": {},
   "source": [
    "Each integer corresponds to a given detector element where a count has been measured.First, we may want to generate a lookup table for these integer values and corresponding detector coordinates:"
   ]
  },
  {
   "cell_type": "code",
   "execution_count": 29,
   "metadata": {},
   "outputs": [
    {
     "data": {
      "text/plain": [
       "tensor([[0, 0, 0],\n",
       "        [0, 0, 1],\n",
       "        [0, 0, 2],\n",
       "        [0, 1, 0],\n",
       "        [0, 1, 1],\n",
       "        [0, 1, 2],\n",
       "        [0, 2, 0],\n",
       "        [0, 2, 1],\n",
       "        [0, 2, 2],\n",
       "        [1, 0, 0],\n",
       "        [1, 0, 1],\n",
       "        [1, 0, 2],\n",
       "        [1, 1, 0],\n",
       "        [1, 1, 1],\n",
       "        [1, 1, 2],\n",
       "        [1, 2, 0],\n",
       "        [1, 2, 1],\n",
       "        [1, 2, 2]])"
      ]
     },
     "execution_count": 29,
     "metadata": {},
     "output_type": "execute_result"
    }
   ],
   "source": [
    "scanner_LUT = torch.cartesian_prod(\n",
    "    torch.tensor([0,1]), # Angle\n",
    "    torch.arange(M), # row\n",
    "    torch.arange(M), # column\n",
    ")\n",
    "scanner_LUT"
   ]
  },
  {
   "cell_type": "markdown",
   "metadata": {},
   "source": [
    "This lookup table gives the angle index, row index, and column index in projection space for each detector ID. For example, if we want the location corresponding to detector ID 11:"
   ]
  },
  {
   "cell_type": "code",
   "execution_count": 30,
   "metadata": {},
   "outputs": [
    {
     "data": {
      "text/plain": [
       "tensor([0, 1, 2])"
      ]
     },
     "execution_count": 30,
     "metadata": {},
     "output_type": "execute_result"
    }
   ],
   "source": [
    "scanner_LUT[5]"
   ]
  },
  {
   "cell_type": "markdown",
   "metadata": {},
   "source": [
    "Similarily, if we wanted the location corresponding to the first 5 measured events:"
   ]
  },
  {
   "cell_type": "code",
   "execution_count": 31,
   "metadata": {},
   "outputs": [
    {
     "data": {
      "text/plain": [
       "tensor([[1, 0, 1],\n",
       "        [1, 2, 0],\n",
       "        [0, 0, 2],\n",
       "        [1, 2, 0],\n",
       "        [1, 1, 2]])"
      ]
     },
     "execution_count": 31,
     "metadata": {},
     "output_type": "execute_result"
    }
   ],
   "source": [
    "scanner_LUT[detector_ids[0:5]]"
   ]
  },
  {
   "cell_type": "markdown",
   "metadata": {},
   "source": [
    "We can also get the sensitivity factor for each listmode event:"
   ]
  },
  {
   "cell_type": "code",
   "execution_count": 32,
   "metadata": {},
   "outputs": [
    {
     "data": {
      "text/plain": [
       "tensor([1.0705, 1.0143, 1.2126, 1.0143, 1.2361, 1.0705, 1.0705, 1.1279, 1.1279,\n",
       "        1.0143, 1.0705, 1.0705, 1.0705, 1.0143, 1.2361, 1.0705, 1.1279, 1.0705,\n",
       "        1.1789, 1.2361, 1.2361, 1.1279, 1.2361, 1.1789, 1.1279, 1.2361, 1.1789,\n",
       "        1.0143, 1.2361, 1.0143, 1.0705, 1.1279, 1.0705, 1.2126, 1.1789, 1.2126,\n",
       "        1.2361, 1.1279, 1.1279, 1.1789, 1.1279, 1.2361, 1.1279, 1.0705, 1.1279,\n",
       "        1.0705, 1.0705, 1.2361, 1.2361, 1.1279, 1.2361, 1.1279, 1.2361, 1.2126,\n",
       "        1.1789, 1.1279, 1.2361, 1.0705, 1.1279, 1.1279, 1.2126, 1.2126, 1.1789,\n",
       "        1.0705, 1.2361, 1.2361, 1.2361, 1.0143, 1.2361, 1.0705, 1.0143, 1.2126,\n",
       "        1.0705, 1.1789, 1.0705, 1.1789, 1.1279, 1.1279, 1.0143, 1.0705, 1.2361,\n",
       "        1.2361, 1.1279, 1.0143, 1.1279, 1.1789, 1.1279, 1.1789, 1.1789, 1.0143,\n",
       "        1.2361, 1.1279, 1.0143, 1.1789, 1.2126, 1.2361, 1.1789, 1.1279, 1.0143,\n",
       "        1.1789, 1.1789, 1.0143, 1.2126, 1.0705, 1.2361, 1.0705, 1.2126, 1.2126,\n",
       "        1.0705, 1.0705, 1.1279, 1.0143, 1.0705, 1.0705, 1.0143, 1.1789, 1.0143,\n",
       "        1.0705, 1.1279, 1.0705, 1.2126, 1.0705, 1.2361, 1.0705, 1.1279, 1.1279,\n",
       "        1.0143, 1.1279, 1.2126, 1.2361, 1.1279, 1.0705, 1.2361, 1.0705, 1.2361,\n",
       "        1.0705, 1.0143, 1.0705, 1.2361, 1.2126, 1.2361, 1.2361, 1.1789, 1.0705,\n",
       "        1.0705, 1.2126, 1.2361, 1.1279, 1.1789, 1.0705, 1.2361, 1.2126, 1.2361,\n",
       "        1.0705, 1.2126, 1.1279, 1.1279, 1.2126, 1.1279, 1.0143, 1.1279, 1.2361,\n",
       "        1.2361, 1.1279, 1.2361, 1.2126, 1.0705, 1.1279, 1.0705, 1.1279, 1.2361,\n",
       "        1.0143, 1.2361, 1.2361, 1.1279, 1.1279, 1.2361, 1.2361, 1.0143, 1.1279,\n",
       "        1.0143, 1.1789, 1.1279, 1.2126, 1.1279, 1.2361, 1.1279, 1.2361, 1.2361,\n",
       "        1.0143, 1.2126, 1.0705, 1.1789, 1.2361, 1.2361, 1.0705, 1.2361, 1.1279,\n",
       "        1.2126, 1.1789, 1.0143, 1.1279, 1.2126, 1.1789, 1.1789, 1.0143, 1.2126,\n",
       "        1.0143, 1.2126, 1.2126, 1.1789, 1.0143, 1.2126, 1.1279, 1.1789, 1.1789,\n",
       "        1.2126, 1.1789, 1.0143, 1.0143, 1.2126, 1.1789, 1.2361, 1.2126, 1.0143,\n",
       "        1.1279, 1.2126, 1.1279, 1.1279, 1.1279, 1.0705, 1.0143, 1.2126, 1.0705,\n",
       "        1.2361, 1.0705, 1.0705, 1.0143, 1.0143, 1.0705, 1.1789, 1.1789, 1.2126,\n",
       "        1.1789, 1.2126, 1.1789, 1.1789, 1.0705, 1.0143, 1.2361, 1.1789, 1.2126,\n",
       "        1.0143, 1.2361, 1.2126, 1.2126, 1.2126, 1.1789, 1.2126, 1.1789, 1.2126,\n",
       "        1.2126, 1.0143, 1.1789, 1.1279, 1.0143, 1.0705, 1.2126, 1.1789, 1.0705,\n",
       "        1.0705, 1.0143, 1.1279, 1.2361, 1.2361, 1.0705, 1.0143, 1.2361, 1.2361,\n",
       "        1.2126, 1.2361, 1.0143, 1.1279, 1.0143, 1.1789, 1.1789, 1.1279, 1.2361,\n",
       "        1.0705, 1.2126, 1.1789, 1.0143, 1.0143, 1.0705, 1.1279, 1.0143, 1.0705,\n",
       "        1.2361, 1.2361, 1.0143, 1.0705, 1.1279, 1.2126, 1.2126, 1.2126, 1.0143,\n",
       "        1.0143, 1.1279, 1.0705, 1.0705, 1.1279, 1.0143, 1.1789, 1.1279, 1.1279,\n",
       "        1.2361, 1.2126, 1.0143, 1.2126, 1.1789, 1.0705, 1.0705, 1.1279, 1.0705,\n",
       "        1.1789, 1.0705, 1.2126, 1.0705, 1.1789, 1.1789, 1.1279, 1.1789, 1.1279,\n",
       "        1.1789, 1.2126, 1.1279, 1.1789, 1.0143, 1.0143, 1.1279, 1.1789, 1.0143,\n",
       "        1.0705, 1.2126, 1.1279, 1.1789, 1.1279, 1.2361, 1.1789, 1.1279, 1.1279,\n",
       "        1.1789, 1.1789, 1.2126, 1.1789, 1.2126, 1.0705, 1.1279, 1.2361, 1.2126,\n",
       "        1.2361, 1.0143, 1.1279, 1.2361, 1.2361, 1.1279, 1.2126, 1.0705, 1.2361,\n",
       "        1.0143, 1.2126, 1.0705, 1.1789, 1.0705, 1.0705, 1.2361, 1.1789, 1.0143,\n",
       "        1.0705, 1.2126, 1.0143, 1.1279, 1.2361, 1.0705, 1.0143, 1.1789, 1.1279,\n",
       "        1.0705, 1.2126, 1.1279, 1.2361, 1.1279, 1.1279, 1.0705, 1.0705, 1.1789,\n",
       "        1.1789, 1.1279, 1.0143, 1.1279])"
      ]
     },
     "execution_count": 32,
     "metadata": {},
     "output_type": "execute_result"
    }
   ],
   "source": [
    "sensitivity_factor[*scanner_LUT[detector_ids][:,:2].T]"
   ]
  },
  {
   "cell_type": "markdown",
   "metadata": {},
   "source": [
    "With this in mind, we can define our new listmode projection metadata class:"
   ]
  },
  {
   "cell_type": "code",
   "execution_count": 33,
   "metadata": {},
   "outputs": [],
   "source": [
    "class EXSListmodeProjMeta(ProjMeta):\n",
    "    def __init__(self, shape, scanner_LUT, detector_ids, sensitivity_factor):\n",
    "        self.scanner_LUT = scanner_LUT\n",
    "        self.detector_ids = detector_ids\n",
    "        self.sensitivity_at_ids = sensitivity_factor[*scanner_LUT[:,1:].T]\n",
    "        self.shape = shape\n",
    "        if (sensitivity_factor.shape[0]!=M)*(sensitivity_factor.shape[1]!=M):\n",
    "            raise ValueError(\"sensitivity_factor should have side dimensions M\")\n",
    "proj_meta_listmode = EXSListmodeProjMeta((2,M,M), scanner_LUT, detector_ids, sensitivity_factor)"
   ]
  },
  {
   "cell_type": "markdown",
   "metadata": {},
   "source": [
    "Lets now implement the forward/backward methods of the system matrix. We'll start with forward projection, which forward projects an object to each `id` form the listmode data."
   ]
  },
  {
   "cell_type": "code",
   "execution_count": 34,
   "metadata": {},
   "outputs": [],
   "source": [
    "class EXSListmodeSystemMatrix(SystemMatrix):\n",
    "    def forward(self, object, subset_idx = None):\n",
    "        # There is probably a faster implementation, but I am trying to keep it simple for illustration purposes\n",
    "        projections = []\n",
    "        for i, detector_id in enumerate(self.proj_meta.detector_ids):\n",
    "            coord = self.proj_meta.scanner_LUT[detector_id]\n",
    "            sensitivity_factor_i = self.proj_meta.sensitivity_at_ids[detector_id]\n",
    "            if coord[0]==0: # If angle 0:\n",
    "                projections.append(object[:,coord[1],coord[2]].sum() *  sensitivity_factor_i) # sum along x\n",
    "            elif coord[0]==1: # If angle 90:\n",
    "                projections.append(object[coord[1],:,coord[2]].sum() * sensitivity_factor_i)  # sum along y\n",
    "        return torch.tensor(projections)"
   ]
  },
  {
   "cell_type": "code",
   "execution_count": 35,
   "metadata": {},
   "outputs": [
    {
     "data": {
      "text/plain": [
       "tensor([1.0199, 2.2818, 2.3057, 2.2818, 1.7732, 1.0199, 0.8412, 1.2264, 1.2264,\n",
       "        2.2818, 1.0199, 0.8412, 0.8412, 0.5537, 2.7437, 0.8412, 1.9224, 1.0199,\n",
       "        1.1881, 1.7732, 1.4919, 1.2264, 1.7732, 0.5555, 1.7516, 1.7732, 0.5555,\n",
       "        2.1716, 2.7437, 0.5537, 1.0199, 1.2264, 1.4066, 2.3057, 1.1881, 2.4607,\n",
       "        2.7437, 1.2264, 1.2264, 0.5555, 1.2264, 2.7437, 1.7516, 0.8412, 1.9224,\n",
       "        1.4066, 1.0199, 1.7732, 1.4919, 1.7516, 1.4919, 1.2264, 1.4919, 2.3057,\n",
       "        1.6743, 1.2264, 1.4919, 1.0199, 1.2264, 1.9224, 2.4607, 1.2520, 0.5555,\n",
       "        1.4066, 1.4919, 1.7732, 1.7732, 0.5537, 1.7732, 1.0199, 2.2818, 2.4607,\n",
       "        1.4066, 1.6743, 1.0199, 1.6743, 1.9224, 1.2264, 2.1716, 1.4066, 1.4919,\n",
       "        1.7732, 1.9224, 2.2818, 1.9224, 0.5555, 1.2264, 0.5555, 1.6743, 0.5537,\n",
       "        1.7732, 1.7516, 0.5537, 0.5555, 1.2520, 2.7437, 1.1881, 1.7516, 2.2818,\n",
       "        1.6743, 1.1881, 2.1716, 2.4607, 1.0199, 1.7732, 1.0199, 2.4607, 2.4607,\n",
       "        0.8412, 0.8412, 1.9224, 2.1716, 1.0199, 1.0199, 2.1716, 1.1881, 2.1716,\n",
       "        1.0199, 1.9224, 1.4066, 2.4607, 1.0199, 1.7732, 0.8412, 1.9224, 1.7516,\n",
       "        2.1716, 1.9224, 2.4607, 1.4919, 1.7516, 1.4066, 1.7732, 0.8412, 1.4919,\n",
       "        1.4066, 2.1716, 1.0199, 1.4919, 1.2520, 1.7732, 1.4919, 1.6743, 1.4066,\n",
       "        1.4066, 2.3057, 1.7732, 1.9224, 1.1881, 1.0199, 1.7732, 2.3057, 1.7732,\n",
       "        1.0199, 2.3057, 1.7516, 1.7516, 2.3057, 1.9224, 2.2818, 1.9224, 1.7732,\n",
       "        1.4919, 1.7516, 2.7437, 2.3057, 1.4066, 1.9224, 1.4066, 1.2264, 2.7437,\n",
       "        2.1716, 1.4919, 1.4919, 1.2264, 1.2264, 1.4919, 2.7437, 0.5537, 1.2264,\n",
       "        2.1716, 0.5555, 1.2264, 1.2520, 1.2264, 2.7437, 1.9224, 1.4919, 2.7437,\n",
       "        0.5537, 1.2520, 1.4066, 1.6743, 1.4919, 2.7437, 1.0199, 1.4919, 1.2264,\n",
       "        2.3057, 1.6743, 2.1716, 1.2264, 2.4607, 1.6743, 0.5555, 2.2818, 1.2520,\n",
       "        2.1716, 2.4607, 2.4607, 0.5555, 2.2818, 2.4607, 1.2264, 0.5555, 1.6743,\n",
       "        1.2520, 0.5555, 2.2818, 2.2818, 2.4607, 1.6743, 2.7437, 2.3057, 2.2818,\n",
       "        1.2264, 2.4607, 1.2264, 1.2264, 1.7516, 1.4066, 2.2818, 1.2520, 0.8412,\n",
       "        1.4919, 1.0199, 0.8412, 2.2818, 2.2818, 0.8412, 0.5555, 1.6743, 2.4607,\n",
       "        1.6743, 2.3057, 1.1881, 1.1881, 1.4066, 0.5537, 1.4919, 1.1881, 2.4607,\n",
       "        2.1716, 1.4919, 2.4607, 1.2520, 2.3057, 1.1881, 1.2520, 0.5555, 1.2520,\n",
       "        2.3057, 0.5537, 1.1881, 1.9224, 2.2818, 0.8412, 1.2520, 0.5555, 1.0199,\n",
       "        1.0199, 0.5537, 1.9224, 1.4919, 2.7437, 1.0199, 0.5537, 1.4919, 2.7437,\n",
       "        2.3057, 1.7732, 0.5537, 1.9224, 0.5537, 1.1881, 0.5555, 1.2264, 2.7437,\n",
       "        1.4066, 1.2520, 1.1881, 2.1716, 0.5537, 0.8412, 1.2264, 2.1716, 1.4066,\n",
       "        1.7732, 1.7732, 2.1716, 1.4066, 1.7516, 2.4607, 2.4607, 1.2520, 2.1716,\n",
       "        2.2818, 1.2264, 0.8412, 1.0199, 1.2264, 2.2818, 1.1881, 1.9224, 1.7516,\n",
       "        1.7732, 1.2520, 2.1716, 2.3057, 0.5555, 1.4066, 0.8412, 1.7516, 0.8412,\n",
       "        0.5555, 0.8412, 2.4607, 1.0199, 0.5555, 1.6743, 1.7516, 1.6743, 1.9224,\n",
       "        1.1881, 2.4607, 1.9224, 1.1881, 2.2818, 2.2818, 1.2264, 1.6743, 0.5537,\n",
       "        1.4066, 2.3057, 1.9224, 1.6743, 1.9224, 2.7437, 1.1881, 1.7516, 1.2264,\n",
       "        0.5555, 0.5555, 2.4607, 0.5555, 1.2520, 1.4066, 1.9224, 1.4919, 2.4607,\n",
       "        1.4919, 0.5537, 1.2264, 1.7732, 2.7437, 1.9224, 2.3057, 1.0199, 2.7437,\n",
       "        0.5537, 2.4607, 0.8412, 1.1881, 1.4066, 0.8412, 1.4919, 1.1881, 2.2818,\n",
       "        1.4066, 2.4607, 2.1716, 1.9224, 2.7437, 1.0199, 0.5537, 1.1881, 1.9224,\n",
       "        1.4066, 1.2520, 1.7516, 2.7437, 1.2264, 1.2264, 0.8412, 1.0199, 0.5555,\n",
       "        1.6743, 1.9224, 2.1716, 1.2264])"
      ]
     },
     "execution_count": 35,
     "metadata": {},
     "output_type": "execute_result"
    }
   ],
   "source": [
    "system_matrix = EXSListmodeSystemMatrix(object_meta=object_meta, proj_meta=proj_meta_listmode)\n",
    "sample_object = torch.rand(object_meta.shape) # object has batch dimension\n",
    "sample_projections = system_matrix.forward(sample_object)\n",
    "sample_projections"
   ]
  },
  {
   "cell_type": "markdown",
   "metadata": {},
   "source": [
    "Note that our \"projections\" are now in listmode format: namely, these correspond to forward projected values at all the \"detector_ids\" which formed our listmode dataset. The backward method is analogous:"
   ]
  },
  {
   "cell_type": "code",
   "execution_count": 36,
   "metadata": {},
   "outputs": [],
   "source": [
    "class EXSListmodeSystemMatrix(SystemMatrix):\n",
    "    # ----\n",
    "    # SAME AS ABOVE\n",
    "    # ----\n",
    "    def forward(self, object, subset_idx = None):\n",
    "        # There is probably a faster implementation, but I am trying to keep it simple for illustration purposes\n",
    "        projections = []\n",
    "        for i, detector_id in enumerate(self.proj_meta.detector_ids):\n",
    "            coord = self.proj_meta.scanner_LUT[detector_id]\n",
    "            sensitivity_factor_i = self.proj_meta.sensitivity_at_ids[detector_id]\n",
    "            if coord[0]==0: # If angle 0:\n",
    "                projections.append(object[:,coord[1],coord[2]].sum() *  sensitivity_factor_i) # sum along x\n",
    "            elif coord[0]==1: # If angle 90:\n",
    "                projections.append(object[coord[1],:,coord[2]].sum() * sensitivity_factor_i)  # sum along y\n",
    "        return torch.tensor(projections)\n",
    "    # ---\n",
    "    # NEW CODE\n",
    "    # ---\n",
    "    def backward(self, projections, subset_idx = None):\n",
    "        # There is probably a faster implementation, but I am trying to keep it simple for illustration purposes\n",
    "        object = torch.zeros(object_meta.shape)\n",
    "        projections *= self.proj_meta.sensitivity_at_ids[self.proj_meta.detector_ids]\n",
    "        for i, detector_id in enumerate(detector_ids):\n",
    "            coord = self.proj_meta.scanner_LUT[detector_id]\n",
    "            if coord[0]==0: # If angle 0:\n",
    "                object[:,coord[1],coord[2]] += projections[i]\n",
    "            elif coord[0]==1: # If angle 90:\n",
    "                object[coord[1],:,coord[2]] += projections[i]\n",
    "        return object"
   ]
  },
  {
   "cell_type": "code",
   "execution_count": 37,
   "metadata": {},
   "outputs": [],
   "source": [
    "system_matrix = EXSListmodeSystemMatrix(object_meta=object_meta, proj_meta=proj_meta_listmode)\n",
    "sample_object = torch.rand(object_meta.shape) # object has batch dimension\n",
    "FP = system_matrix.forward(sample_object)\n",
    "BP = system_matrix.backward(FP)"
   ]
  },
  {
   "cell_type": "markdown",
   "metadata": {},
   "source": [
    "The computation of the normalization factor for listmode reconstruction is slightly more nuanced since it requires defining a \"projection of all 1s\". In this case, the projection of all 1s corresponds to a value of 1 in each location of the scanner LUT.\n",
    "\n",
    "* This is distinct from the regular forward/back projection which projects to all the measured detector IDs. For example, if we measure 1000 events, then forward projection produces an array of size 1000, and back projection takes in projections of size 1000 to produce an object. Computation of the normalization factor, however, takes in detector IDs corresponding to each detector, in the case $M=3$, it would take in 18 detector IDs"
   ]
  },
  {
   "cell_type": "code",
   "execution_count": 38,
   "metadata": {},
   "outputs": [],
   "source": [
    "class EXSListmodeSystemMatrix(SystemMatrix):\n",
    "    # ----\n",
    "    # SAME AS ABOVE\n",
    "    # ----\n",
    "    def forward(self, object, subset_idx = None):\n",
    "        # There is probably a faster implementation, but I am trying to keep it simple for illustration purposes\n",
    "        projections = []\n",
    "        for i, detector_id in enumerate(self.proj_meta.detector_ids):\n",
    "            coord = self.proj_meta.scanner_LUT[detector_id]\n",
    "            sensitivity_factor_i = self.proj_meta.sensitivity_at_ids[detector_id]\n",
    "            if coord[0]==0: # If angle 0:\n",
    "                projections.append(object[:,coord[1],coord[2]].sum() *  sensitivity_factor_i) # sum along x\n",
    "            elif coord[0]==1: # If angle 90:\n",
    "                projections.append(object[coord[1],:,coord[2]].sum() * sensitivity_factor_i)  # sum along y\n",
    "        return torch.tensor(projections)\n",
    "    def backward(self, projections, subset_idx = None):\n",
    "        # There is probably a faster implementation, but I am trying to keep it simple for illustration purposes\n",
    "        object = torch.zeros(object_meta.shape)\n",
    "        projections *= self.proj_meta.sensitivity_at_ids[self.proj_meta.detector_ids]\n",
    "        for i, detector_id in enumerate(detector_ids):\n",
    "            coord = self.proj_meta.scanner_LUT[detector_id]\n",
    "            if coord[0]==0: # If angle 0:\n",
    "                object[:,coord[1],coord[2]] += projections[i]\n",
    "            elif coord[0]==1: # If angle 90:\n",
    "                object[coord[1],:,coord[2]] += projections[i]\n",
    "        return object\n",
    "    # ----\n",
    "    # NEW CODE\n",
    "    # ----\n",
    "    def compute_normalization_factor(self):\n",
    "        norm_BP = torch.zeros(object_meta.shape)\n",
    "        # Now we loop through unique detector ids instead\n",
    "        unique_detector_ids = torch.arange(scanner_LUT.shape[0])\n",
    "        for i, detector_id in enumerate(unique_detector_ids):\n",
    "            coord = self.proj_meta.scanner_LUT[detector_id]\n",
    "            sensitivity_factor_i = self.proj_meta.sensitivity_at_ids[detector_id]\n",
    "            if coord[0]==0: # If angle 0:\n",
    "                norm_BP[:,coord[1],coord[2]] += sensitivity_factor_i\n",
    "            elif coord[0]==1: # If angle 90:\n",
    "                norm_BP[coord[1],:,coord[2]] += sensitivity_factor_i\n",
    "        return norm_BP"
   ]
  },
  {
   "cell_type": "code",
   "execution_count": 39,
   "metadata": {},
   "outputs": [
    {
     "data": {
      "text/plain": [
       "tensor([[1.2126, 1.1789, 1.1279],\n",
       "        [1.0705, 1.2361, 1.0143],\n",
       "        [1.1504, 1.0067, 1.1313]])"
      ]
     },
     "execution_count": 39,
     "metadata": {},
     "output_type": "execute_result"
    }
   ],
   "source": [
    "sensitivity_factor"
   ]
  },
  {
   "cell_type": "code",
   "execution_count": 40,
   "metadata": {},
   "outputs": [],
   "source": [
    "system_matrix = EXSListmodeSystemMatrix(object_meta=object_meta, proj_meta=proj_meta_listmode)\n",
    "norm_BP = system_matrix.compute_normalization_factor()"
   ]
  },
  {
   "cell_type": "code",
   "execution_count": 41,
   "metadata": {},
   "outputs": [
    {
     "data": {
      "text/plain": [
       "<matplotlib.colorbar.Colorbar at 0x7f0b1379ef10>"
      ]
     },
     "execution_count": 41,
     "metadata": {},
     "output_type": "execute_result"
    },
    {
     "data": {
      "image/png": "[encoded data removed]",
      "text/plain": [
       "<Figure size 200x200 with 2 Axes>"
      ]
     },
     "metadata": {},
     "output_type": "display_data"
    }
   ],
   "source": [
    "plt.figure(figsize=(2,2))\n",
    "plt.pcolormesh(norm_BP[:,:,1])\n",
    "plt.colorbar()"
   ]
  },
  {
   "cell_type": "markdown",
   "metadata": {},
   "source": [
    "Now we can use the listmode system matrix with the rest of the library.\n",
    "\n",
    "**For list mode system matrices, we no longer need to provide `projections` to the likelihood function**"
   ]
  },
  {
   "cell_type": "code",
   "execution_count": 42,
   "metadata": {},
   "outputs": [],
   "source": [
    "system_matrix = EXSListmodeSystemMatrix(object_meta=object_meta, proj_meta=proj_meta_listmode)\n",
    "likelihood = NegativeMSELikelihood(system_matrix, scaling_constant=0.01)\n",
    "reconstruction_algorithm = OSEM(likelihood)"
   ]
  },
  {
   "cell_type": "code",
   "execution_count": 43,
   "metadata": {},
   "outputs": [],
   "source": [
    "recon = reconstruction_algorithm(n_iters=40)"
   ]
  },
  {
   "cell_type": "code",
   "execution_count": 45,
   "metadata": {},
   "outputs": [
    {
     "data": {
      "text/plain": [
       "<matplotlib.colorbar.Colorbar at 0x7f0b0b083a90>"
      ]
     },
     "execution_count": 45,
     "metadata": {},
     "output_type": "execute_result"
    },
    {
     "data": {
      "image/png": "[encoded data removed]",
      "text/plain": [
       "<Figure size 200x200 with 2 Axes>"
      ]
     },
     "metadata": {},
     "output_type": "display_data"
    }
   ],
   "source": [
    "plt.figure(figsize=(2,2))\n",
    "plt.pcolormesh(recon[:,:,1], vmin=0, cmap='nipy_spectral')\n",
    "plt.axis('off')\n",
    "plt.colorbar()"
   ]
  },
  {
   "cell_type": "markdown",
   "metadata": {},
   "source": [
    "## Part 2: Incorporating Subsets"
   ]
  },
  {
   "cell_type": "markdown",
   "metadata": {},
   "source": [
    "Incorporating subsets is slightly more intuitive with listmode data. In this case, we split up all the detected events into $N$ approximately equal subsets using the `torch.tensor_split` function"
   ]
  },
  {
   "cell_type": "code",
   "execution_count": 46,
   "metadata": {},
   "outputs": [],
   "source": [
    "class EXSListmodeSystemMatrix(SystemMatrix):\n",
    "    # ----\n",
    "    # NEW CODE\n",
    "    # ----\n",
    "    def set_n_subsets(self, n_subsets):\n",
    "        self.n_subsets = n_subsets\n",
    "        idx = torch.arange(proj_meta_listmode.detector_ids.shape[0])\n",
    "        self.subset_indices_array = torch.tensor_split(idx, self.n_subsets)\n",
    "    def get_projection_subset(self, projections, subset_idx):\n",
    "        # Needs to consider cases where projection is simply a 1 element tensor in the numerator, but also cases of scatter where it is a longer tensor\n",
    "        if (projections.shape[0]>1)*(subset_idx is not None):\n",
    "            subset_indices = self.subset_indices_array[subset_idx]\n",
    "            proj_subset = projections[subset_indices]\n",
    "        else:\n",
    "            proj_subset = projections\n",
    "        return proj_subset\n",
    "    def get_weighting_subset(self, subset_idx):\n",
    "        if subset_idx is None:\n",
    "            return 1\n",
    "        else:\n",
    "            # Fraction of events in the subset\n",
    "            return self.subset_indices_array[subset_idx].shape[0] / proj_meta_listmode.detector_ids.shape[0]\n",
    "    def forward(self, object, subset_idx = None):\n",
    "        # There is probably a faster implementation, but I am trying to keep it simple for illustration purposes\n",
    "        projections = []\n",
    "        if subset_idx is None:\n",
    "            detector_ids_subset = self.proj_meta.detector_ids\n",
    "        else:\n",
    "            detector_ids_subset = self.proj_meta.detector_ids[self.subset_indices_array[subset_idx]]\n",
    "        for i, detector_id in enumerate(detector_ids_subset):\n",
    "            coord = self.proj_meta.scanner_LUT[detector_id]\n",
    "            sensitivity_factor_i = self.proj_meta.sensitivity_at_ids[detector_id]\n",
    "            if coord[0]==0: # If angle 0:\n",
    "                projections.append(object[:,coord[1],coord[2]].sum() *  sensitivity_factor_i) # sum along x\n",
    "            elif coord[0]==1: # If angle 90:\n",
    "                projections.append(object[coord[1],:,coord[2]].sum() * sensitivity_factor_i)  # sum along y\n",
    "        return torch.tensor(projections)\n",
    "    def backward(self, projections, subset_idx = None):\n",
    "        # There is probably a faster implementation, but I am trying to keep it simple for illustration purposes\n",
    "        object = torch.zeros(object_meta.shape)\n",
    "        if subset_idx is None:\n",
    "            detector_ids_subset = self.proj_meta.detector_ids\n",
    "        else:\n",
    "            detector_ids_subset = self.proj_meta.detector_ids[self.subset_indices_array[subset_idx]]\n",
    "        projections *= self.proj_meta.sensitivity_at_ids[detector_ids_subset]\n",
    "        for i, detector_id in enumerate(detector_ids_subset):\n",
    "            coord = self.proj_meta.scanner_LUT[detector_id]\n",
    "            if coord[0]==0: # If angle 0:\n",
    "                object[:,coord[1],coord[2]] += projections[i]\n",
    "            elif coord[0]==1: # If angle 90:\n",
    "                object[coord[1],:,coord[2]] += projections[i]\n",
    "        return object\n",
    "    def compute_normalization_factor(self, subset_idx=None):\n",
    "        fraction_considered = self.get_weighting_subset(subset_idx)\n",
    "        norm_BP = torch.zeros(object_meta.shape)\n",
    "        # Now we loop through unique detector ids instead\n",
    "        unique_detector_ids = torch.arange(scanner_LUT.shape[0])\n",
    "        for i, detector_id in enumerate(unique_detector_ids):\n",
    "            coord = self.proj_meta.scanner_LUT[detector_id]\n",
    "            sensitivity_factor_i = self.proj_meta.sensitivity_at_ids[detector_id]\n",
    "            if coord[0]==0: # If angle 0:\n",
    "                norm_BP[:,coord[1],coord[2]] += sensitivity_factor_i\n",
    "            elif coord[0]==1: # If angle 90:\n",
    "                norm_BP[coord[1],:,coord[2]] += sensitivity_factor_i\n",
    "        return norm_BP * fraction_considered"
   ]
  },
  {
   "cell_type": "code",
   "execution_count": 47,
   "metadata": {},
   "outputs": [],
   "source": [
    "system_matrix = EXSListmodeSystemMatrix(object_meta=object_meta, proj_meta=proj_meta_listmode)\n",
    "likelihood = NegativeMSELikelihood(system_matrix, scaling_constant=0.01)\n",
    "reconstruction_algorithm = OSEM(likelihood)"
   ]
  },
  {
   "cell_type": "code",
   "execution_count": 48,
   "metadata": {},
   "outputs": [],
   "source": [
    "recon_2subsets = reconstruction_algorithm(n_iters=20, n_subsets=2)\n",
    "reconstruction_algorithm = OSEM(likelihood)\n",
    "recon_1subset = reconstruction_algorithm(n_iters=40)"
   ]
  },
  {
   "cell_type": "markdown",
   "metadata": {},
   "source": [
    "Now lets plot the reconstructions:"
   ]
  },
  {
   "cell_type": "code",
   "execution_count": 51,
   "metadata": {},
   "outputs": [
    {
     "data": {
      "text/plain": [
       "<matplotlib.colorbar.Colorbar at 0x7f0b0afc1810>"
      ]
     },
     "execution_count": 51,
     "metadata": {},
     "output_type": "execute_result"
    },
    {
     "data": {
      "image/png": "[encoded data removed]",
      "text/plain": [
       "<Figure size 400x200 with 4 Axes>"
      ]
     },
     "metadata": {},
     "output_type": "display_data"
    }
   ],
   "source": [
    "max_value = max([recon_1subset[:,:,1].max().item(), recon_1subset[:,:,1].max().item()])\n",
    "plt.figure(figsize=(4,2))\n",
    "plt.subplot(121)\n",
    "plt.pcolormesh(recon_1subset[:,:,1], vmin=0, vmax=max_value, cmap='nipy_spectral')\n",
    "plt.axis('off')\n",
    "plt.colorbar()\n",
    "plt.subplot(122)\n",
    "plt.pcolormesh(recon_2subsets[:,:,1], vmin=0, vmax=max_value, cmap='nipy_spectral')\n",
    "plt.axis('off')\n",
    "plt.colorbar()"
   ]
  },
  {
   "cell_type": "markdown",
   "metadata": {},
   "source": [
    "For a better imaging system (we're not collecting nearly enough angles here), these two images should look very similar."
   ]
  }
 ],
 "metadata": {
  "kernelspec": {
   "display_name": "pytomo_install_test",
   "language": "python",
   "name": "python3"
  },
  "language_info": {
   "codemirror_mode": {
    "name": "ipython",
    "version": 3
   },
   "file_extension": ".py",
   "mimetype": "text/x-python",
   "name": "python",
   "nbconvert_exporter": "python",
   "pygments_lexer": "ipython3",
   "version": "3.11.6"
  }
 },
 "nbformat": 4,
 "nbformat_minor": 2
}
