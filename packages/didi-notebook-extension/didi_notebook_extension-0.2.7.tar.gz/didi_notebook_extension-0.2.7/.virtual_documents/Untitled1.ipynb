pip show didi-notebook-extension


pip install didi-notebook-extension@0.2.7



