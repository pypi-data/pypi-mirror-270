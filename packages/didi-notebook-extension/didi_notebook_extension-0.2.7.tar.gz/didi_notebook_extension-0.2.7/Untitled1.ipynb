{
 "cells": [
  {
   "cell_type": "code",
   "execution_count": 1,
   "id": "3eb264ed-4b70-4579-afb5-9d50f2f53d1d",
   "metadata": {
    "execution": {
     "iopub.execute_input": "2024-04-29T06:37:26.104141Z",
     "iopub.status.busy": "2024-04-29T06:37:26.103442Z",
     "iopub.status.idle": "2024-04-29T06:37:26.915523Z",
     "shell.execute_reply": "2024-04-29T06:37:26.915020Z",
     "shell.execute_reply.started": "2024-04-29T06:37:26.104081Z"
    }
   },
   "outputs": [
    {
     "name": "stdout",
     "output_type": "stream",
     "text": [
      "Name: didi_notebook_extension\n",
      "Version: 0.2.0\n",
      "Summary: A JupyterLab extension.\n",
      "Home-page: \n",
      "Author: \n",
      "Author-email: dongmeiqi <dongmeiqi@didiglobal.com>\n",
      "License: BSD 3-Clause License\n",
      "        \n",
      "        Copyright (c) 2024, dongmeiqi\n",
      "        All rights reserved.\n",
      "        \n",
      "        Redistribution and use in source and binary forms, with or without\n",
      "        modification, are permitted provided that the following conditions are met:\n",
      "        \n",
      "        1. Redistributions of source code must retain the above copyright notice, this\n",
      "           list of conditions and the following disclaimer.\n",
      "        \n",
      "        2. Redistributions in binary form must reproduce the above copyright notice,\n",
      "           this list of conditions and the following disclaimer in the documentation\n",
      "           and/or other materials provided with the distribution.\n",
      "        \n",
      "        3. Neither the name of the copyright holder nor the names of its\n",
      "           contributors may be used to endorse or promote products derived from\n",
      "           this software without specific prior written permission.\n",
      "        \n",
      "        THIS SOFTWARE IS PROVIDED BY THE COPYRIGHT HOLDERS AND CONTRIBUTORS \"AS IS\"\n",
      "        AND ANY EXPRESS OR IMPLIED WARRANTIES, INCLUDING, BUT NOT LIMITED TO, THE\n",
      "        IMPLIED WARRANTIES OF MERCHANTABILITY AND FITNESS FOR A PARTICULAR PURPOSE ARE\n",
      "        DISCLAIMED. IN NO EVENT SHALL THE COPYRIGHT HOLDER OR CONTRIBUTORS BE LIABLE\n",
      "        FOR ANY DIRECT, INDIRECT, INCIDENTAL, SPECIAL, EXEMPLARY, OR CONSEQUENTIAL\n",
      "        DAMAGES (INCLUDING, BUT NOT LIMITED TO, PROCUREMENT OF SUBSTITUTE GOODS OR\n",
      "        SERVICES; LOSS OF USE, DATA, OR PROFITS; OR BUSINESS INTERRUPTION) HOWEVER\n",
      "        CAUSED AND ON ANY THEORY OF LIABILITY, WHETHER IN CONTRACT, STRICT LIABILITY,\n",
      "        OR TORT (INCLUDING NEGLIGENCE OR OTHERWISE) ARISING IN ANY WAY OUT OF THE USE\n",
      "        OF THIS SOFTWARE, EVEN IF ADVISED OF THE POSSIBILITY OF SUCH DAMAGE.\n",
      "Location: /opt/miniconda3/envs/jjs_jupyterlab_complie/lib/python3.8/site-packages\n",
      "Editable project location: /Users/didi/Desktop/didi_extension\n",
      "Requires: \n",
      "Required-by: \n",
      "Note: you may need to restart the kernel to use updated packages.\n"
     ]
    }
   ],
   "source": [
    "pip show didi-notebook-extension"
   ]
  },
  {
   "cell_type": "code",
   "execution_count": 2,
   "id": "72b027ec-1305-4a0c-8bc6-4ecdedea3825",
   "metadata": {
    "execution": {
     "iopub.execute_input": "2024-04-29T06:38:07.341740Z",
     "iopub.status.busy": "2024-04-29T06:38:07.341123Z",
     "iopub.status.idle": "2024-04-29T06:38:07.861019Z",
     "shell.execute_reply": "2024-04-29T06:38:07.860494Z",
     "shell.execute_reply.started": "2024-04-29T06:38:07.341710Z"
    }
   },
   "outputs": [
    {
     "name": "stdout",
     "output_type": "stream",
     "text": [
      "\u001b[31mERROR: Invalid requirement: 'didi-notebook-extension@0.2.7'\u001b[0m\u001b[31m\n",
      "\u001b[0mNote: you may need to restart the kernel to use updated packages.\n"
     ]
    }
   ],
   "source": [
    "pip install didi-notebook-extension@0.2.7"
   ]
  },
  {
   "cell_type": "code",
   "execution_count": null,
   "id": "40fa51e8-ee1b-4833-a822-e47a0df20b90",
   "metadata": {},
   "outputs": [],
   "source": []
  }
 ],
 "metadata": {
  "kernelspec": {
   "display_name": "Python 3 (ipykernel)",
   "language": "python",
   "name": "python3"
  },
  "language_info": {
   "codemirror_mode": {
    "name": "ipython",
    "version": 3
   },
   "file_extension": ".py",
   "mimetype": "text/x-python",
   "name": "python",
   "nbconvert_exporter": "python",
   "pygments_lexer": "ipython3",
   "version": "3.8.5"
  }
 },
 "nbformat": 4,
 "nbformat_minor": 5
}
