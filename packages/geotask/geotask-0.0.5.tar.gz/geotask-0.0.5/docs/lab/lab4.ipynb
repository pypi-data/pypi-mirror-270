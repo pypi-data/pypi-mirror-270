{
 "cells": [
  {
   "cell_type": "markdown",
   "id": "0",
   "metadata": {
    "id": "0"
   },
   "source": [
    "# Lab 4\n",
    "\n",
    "[![image](https://colab.research.google.com/assets/colab-badge.svg)](https://colab.research.google.com/github/nazifa02/geotask/blob/main/docs/lab/lab4.ipynb#scrollTo=1)\n",
    "\n",
    "## Submission instructions\n",
    "\n",
    "1. Download the notebook from https://geohey.gishub.org/labs/lab4\n",
    "2. Complete the lab questions\n",
    "3. Restart Kernel and Run All Cells\n",
    "4. Upload the notebook to your GitHub repository\n",
    "5. Make sure the notebook has an `Open In Colab` badge. Click on the badge to make sure your notebook can be opened in Colab.\n",
    "6. Submit the link to the notebook on your GitHub repository to Canvas"
   ]
  },
  {
   "cell_type": "code",
   "execution_count": 1,
   "id": "1",
   "metadata": {
    "colab": {
     "base_uri": "https://localhost:8080/"
    },
    "id": "1",
    "outputId": "cec228ca-405a-473c-9236-eef424a02f66"
   },
   "outputs": [
    {
     "name": "stdout",
     "output_type": "stream",
     "text": [
      "Submitted time: 2024-02-29 22:21:09.385647\n"
     ]
    }
   ],
   "source": [
    "from datetime import datetime\n",
    "\n",
    "now = datetime.now()\n",
    "print(f\"Submitted time: {now}\")"
   ]
  },
  {
   "cell_type": "markdown",
   "id": "2",
   "metadata": {
    "id": "2"
   },
   "source": [
    "## Question 1\n",
    "\n",
    "**Personal Message:** Use a variable to represent a person’s name, and print a message to that person. Your message should be simple, such as, “Hello Eric, would you like to learn some Python today?”"
   ]
  },
  {
   "cell_type": "code",
   "execution_count": 2,
   "id": "3",
   "metadata": {
    "colab": {
     "base_uri": "https://localhost:8080/"
    },
    "id": "3",
    "outputId": "7bfafc37-5c74-4352-fd79-4611c2468474"
   },
   "outputs": [
    {
     "name": "stdout",
     "output_type": "stream",
     "text": [
      "Hello Penny, are you working on your project?\n"
     ]
    }
   ],
   "source": [
    "a = \"Penny\"\n",
    "\n",
    "print(f\"Hello {a}, are you working on your project?\")"
   ]
  },
  {
   "cell_type": "markdown",
   "id": "4",
   "metadata": {
    "id": "4"
   },
   "source": [
    "## Question 2\n",
    "\n",
    "**Name Cases:** Use a variable to represent a person’s name, and then print that person’s name in lowercase, uppercase, and title case."
   ]
  },
  {
   "cell_type": "code",
   "execution_count": 3,
   "id": "5",
   "metadata": {
    "colab": {
     "base_uri": "https://localhost:8080/"
    },
    "id": "5",
    "outputId": "2d7ee6db-cfde-45ad-b28d-8f1050579237"
   },
   "outputs": [
    {
     "name": "stdout",
     "output_type": "stream",
     "text": [
      "Lowercase: dean\n",
      "Uppercase: DEAN\n",
      "Titlecase: Dean\n"
     ]
    }
   ],
   "source": [
    "b = \"Dean\"\n",
    "\n",
    "print(f\"Lowercase: {b.lower()}\")\n",
    "print(f\"Uppercase: {b.upper()}\")\n",
    "print(f\"Titlecase: {b.title()}\")"
   ]
  },
  {
   "cell_type": "markdown",
   "id": "3717f91c",
   "metadata": {},
   "source": [
    "## Question 3\n",
    "\n",
    "**Famous Quote:** Find a quote from a famous person you admire. Print the quote and the name of its author. Your output should look something like the following, including the quotation marks:\n",
    "\n",
    "```\n",
    "Albert Einstein once said, “A person who never made a mistake never tried anything new.”\n",
    "```"
   ]
  },
  {
   "cell_type": "code",
   "execution_count": 4,
   "id": "7",
   "metadata": {
    "colab": {
     "base_uri": "https://localhost:8080/"
    },
    "id": "7",
    "outputId": "ff9bf469-3645-4b55-f4c2-8639cff728d1"
   },
   "outputs": [
    {
     "name": "stdout",
     "output_type": "stream",
     "text": [
      "Margaret Atwood once said, \"If you can't say anything nice, don't say anything at all.\"\n"
     ]
    }
   ],
   "source": [
    "Author = \"Margaret Atwood\"\n",
    "Quote = \"\\\"If you can't say anything nice, don't say anything at all.\\\"\"\n",
    "\n",
    "print(f\"{Author} once said, {Quote}\")"
   ]
  },
  {
   "cell_type": "markdown",
   "id": "8",
   "metadata": {
    "id": "8"
   },
   "source": [
    "## Question 4\n",
    "\n",
    "**Stripping Names:** Use a variable to represent a person’s name, and include some whitespace characters at the beginning and end of the name. Make sure you use each character combination, \"\\t\" and \"\\n\", at least once.\n",
    "Print the name once, so the whitespace around the name is displayed. Then print the name using each of the three stripping functions, lstrip(), rstrip(), and strip()."
   ]
  },
  {
   "cell_type": "code",
   "execution_count": 5,
   "id": "9",
   "metadata": {
    "colab": {
     "base_uri": "https://localhost:8080/"
    },
    "id": "9",
    "outputId": "16b81e06-0d1f-40ff-f918-9b82fda9b7b2"
   },
   "outputs": [
    {
     "name": "stdout",
     "output_type": "stream",
     "text": [
      "name: '\n",
      "\t Harry \t\n",
      "'\n",
      "Lstrip: 'Harry \t\n",
      "'\n",
      "Rstrip: '\n",
      "\t Harry'\n",
      "Strip: 'Harry'\n"
     ]
    }
   ],
   "source": [
    "name = name = \"\\n\\t Harry \\t\\n\"\n",
    "\n",
    "print(f\"name: '{name}'\")\n",
    "print(f\"Lstrip: '{name.lstrip()}'\")\n",
    "print(f\"Rstrip: '{name.rstrip()}'\")\n",
    "print(f\"Strip: '{name.strip()}'\")"
   ]
  },
  {
   "cell_type": "markdown",
   "id": "10",
   "metadata": {
    "id": "10"
   },
   "source": [
    "## Question 5\n",
    "\n",
    "**Names:** Store the names of a few of your friends in a list called names. Print\n",
    "each person’s name by accessing each element in the list, one at a time."
   ]
  },
  {
   "cell_type": "code",
   "execution_count": 6,
   "id": "11",
   "metadata": {
    "colab": {
     "base_uri": "https://localhost:8080/"
    },
    "id": "11",
    "outputId": "6ff4330d-b3e1-4a97-dfb3-7036971af2f5"
   },
   "outputs": [
    {
     "name": "stdout",
     "output_type": "stream",
     "text": [
      "Sean\n",
      "Dean\n",
      "Lean\n"
     ]
    }
   ],
   "source": [
    "names = [\"Sean\", \"Dean\", \"Lean\"]\n",
    "print(names[0])\n",
    "print(names[1]) \n",
    "print(names[2])"
   ]
  },
  {
   "cell_type": "markdown",
   "id": "12",
   "metadata": {
    "id": "12"
   },
   "source": [
    "## Question 6\n",
    "\n",
    "**Your Own List:** Think of your favorite mode of transportation, such as a motorcycle or a car, and make a list that stores several examples. Use your list to print a series of statements about these items, such as “I would like to own a Honda motorcycle.”"
   ]
  },
  {
   "cell_type": "code",
   "execution_count": 7,
   "id": "13",
   "metadata": {
    "colab": {
     "base_uri": "https://localhost:8080/"
    },
    "id": "13",
    "outputId": "9f4d3edf-31a4-43df-a057-dfabe1255ca8"
   },
   "outputs": [
    {
     "name": "stdout",
     "output_type": "stream",
     "text": [
      "I would like to own a Tesla car.\n",
      "I would like to own a BMW car.\n",
      "I would like to own a Toyota car.\n"
     ]
    }
   ],
   "source": [
    "cars = [\"Tesla\", \"BMW\", \"Toyota\"]\n",
    "for car in cars:\n",
    "  print(f\"I would like to own a {car} car.\")"
   ]
  },
  {
   "cell_type": "markdown",
   "id": "14",
   "metadata": {
    "id": "14"
   },
   "source": [
    "## Question 7\n",
    "\n",
    "**Pizzas:** Think of at least three kinds of your favorite pizza. Store these pizza names in a list, and then use a for loop to print the name of each pizza.\n",
    "\n",
    "Modify your for loop to print a sentence using the name of the pizza instead of printing just the name of the pizza. For each pizza you should have one line of output containing a simple statement like _I like pepperoni pizza._"
   ]
  },
  {
   "cell_type": "code",
   "execution_count": 8,
   "id": "b8383063",
   "metadata": {},
   "outputs": [
    {
     "name": "stdout",
     "output_type": "stream",
     "text": [
      "Pizza names:\n",
      "Chicken\n",
      "Beef\n",
      "Cheese\n",
      "Vegetable\n",
      "Pineapple\n",
      "\n",
      "One line output:\n",
      "I like Chicken pizza.\n",
      "I like Beef pizza.\n",
      "I like Cheese pizza.\n",
      "I like Vegetable pizza.\n",
      "I like Pineapple pizza.\n"
     ]
    }
   ],
   "source": [
    "pizzas = ['Chicken', 'Beef', 'Cheese', 'Vegetable', 'Pineapple']\n",
    "print(\"Pizza names:\")\n",
    "for pizza in pizzas:\n",
    "    print(pizza)\n",
    "\n",
    "\n",
    "print(\"\\nOne line output:\")\n",
    "for pizza in pizzas:\n",
    "    print(f\"I like {pizza} pizza.\")"
   ]
  },
  {
   "cell_type": "markdown",
   "id": "16",
   "metadata": {
    "id": "16"
   },
   "source": [
    "Add a line at the end of your program, outside the for loop, that states how much you like pizza. The output should consist of three or more lines about the kinds of pizza you like and then an additional sentence, such as _I really love pizza!_"
   ]
  },
  {
   "cell_type": "code",
   "execution_count": 9,
   "id": "17",
   "metadata": {
    "colab": {
     "base_uri": "https://localhost:8080/"
    },
    "id": "17",
    "outputId": "9e6ef8aa-aef2-47e2-bef7-326f2d3235cd"
   },
   "outputs": [
    {
     "name": "stdout",
     "output_type": "stream",
     "text": [
      "I like Chicken pizza.\n",
      "I like Beef pizza.\n",
      "I like Cheese pizza.\n",
      "\n",
      "I really love pizza.\n"
     ]
    }
   ],
   "source": [
    "favorite_pizzas = ['Chicken', 'Beef', 'Cheese']\n",
    "\n",
    "for pizza in favorite_pizzas:\n",
    "    print(f\"I like {pizza} pizza.\")\n",
    "\n",
    "print(\"\\nI really love pizza.\")"
   ]
  },
  {
   "cell_type": "markdown",
   "id": "18",
   "metadata": {
    "id": "18"
   },
   "source": [
    "## Question 8\n",
    "\n",
    "**Animals:** Think of at least three different animals that have a common characteristic. Store the names of these animals in a list, and then use a for loop to print out the name of each animal.\n",
    "\n",
    "Modify your program to print a statement about each animal, such as _A dog would make a great pet._"
   ]
  },
  {
   "cell_type": "code",
   "execution_count": 10,
   "id": "19",
   "metadata": {
    "colab": {
     "base_uri": "https://localhost:8080/"
    },
    "id": "19",
    "outputId": "0df73fe2-feec-4814-fa13-f78970c7237a"
   },
   "outputs": [
    {
     "name": "stdout",
     "output_type": "stream",
     "text": [
      "Animals List:\n",
      "cat\n",
      "rabbit\n",
      "dog\n",
      "\n",
      "Statements about animals:\n",
      "A Cat would make a great pet.\n",
      "A Rabbit would make a great pet.\n",
      "A Dog would make a great pet.\n"
     ]
    }
   ],
   "source": [
    "animals = ['cat', 'rabbit', 'dog']\n",
    "print(\"Animals List:\")\n",
    "for animal in animals:\n",
    "    print(animal)\n",
    "\n",
    "print(\"\\nStatements about animals:\")\n",
    "for animal in animals:\n",
    "    print(f\"A {animal.title()} would make a great pet.\")"
   ]
  },
  {
   "cell_type": "markdown",
   "id": "20",
   "metadata": {
    "id": "20"
   },
   "source": [
    "Add a line at the end of your program stating what these animals have in common. You could print a sentence such as _Any of these animals would make a great pet!_"
   ]
  },
  {
   "cell_type": "code",
   "execution_count": 11,
   "id": "21",
   "metadata": {
    "colab": {
     "base_uri": "https://localhost:8080/"
    },
    "id": "21",
    "outputId": "1c66f966-386f-4f6e-e3c1-a51ed644d43c"
   },
   "outputs": [
    {
     "name": "stdout",
     "output_type": "stream",
     "text": [
      "Any of these animals would make a great pet because they are friendly!\n"
     ]
    }
   ],
   "source": [
    "print(\"Any of these animals would make a great pet because they are friendly!\")"
   ]
  },
  {
   "cell_type": "markdown",
   "id": "22",
   "metadata": {
    "id": "22"
   },
   "source": [
    "## Question 9\n",
    "\n",
    "**Summing a Hundred:** Make a list of the numbers from one to one hundred, and then use `min()` and `max()` to make sure your list actually starts at one and ends at one hundred. Also, use the sum() function to see how quickly Python can add a hundred numbers."
   ]
  },
  {
   "cell_type": "code",
   "execution_count": 12,
   "id": "23",
   "metadata": {
    "colab": {
     "base_uri": "https://localhost:8080/"
    },
    "id": "23",
    "outputId": "74e96a96-b6c2-4ba4-bde2-08aceecbc313"
   },
   "outputs": [
    {
     "name": "stdout",
     "output_type": "stream",
     "text": [
      "Minimum number: 1\n",
      "Maximum number: 100\n",
      "Sum of all: 5050\n"
     ]
    }
   ],
   "source": [
    "numbers = list(range(1, 101))\n",
    "\n",
    "min_number = min(numbers)\n",
    "max_number = max(numbers)\n",
    "\n",
    "total_sum = sum(numbers)\n",
    "\n",
    "print(\"Minimum number:\", min_number)\n",
    "print(\"Maximum number:\", max_number)\n",
    "print(\"Sum of all:\", total_sum)"
   ]
  },
  {
   "cell_type": "markdown",
   "id": "24",
   "metadata": {
    "id": "24"
   },
   "source": [
    "## Question 10\n",
    "\n",
    "**Odd Numbers:** Use the third argument of the `range()` function to make a list of the odd numbers from 1 to 20. Use a `for` loop to print each number."
   ]
  },
  {
   "cell_type": "code",
   "execution_count": 13,
   "id": "25",
   "metadata": {
    "colab": {
     "base_uri": "https://localhost:8080/"
    },
    "id": "25",
    "outputId": "038cbfa2-55e6-455b-9b9d-0645c1acf666"
   },
   "outputs": [
    {
     "name": "stdout",
     "output_type": "stream",
     "text": [
      "1\n",
      "3\n",
      "5\n",
      "7\n",
      "9\n",
      "11\n",
      "13\n",
      "15\n",
      "17\n",
      "19\n"
     ]
    }
   ],
   "source": [
    "odd_numbers = list(range(1, 21, 2))\n",
    "\n",
    "for number in odd_numbers:\n",
    "    print(number)"
   ]
  },
  {
   "cell_type": "markdown",
   "id": "26",
   "metadata": {
    "id": "26"
   },
   "source": [
    "## Question 11\n",
    "\n",
    "**Threes:** Make a list of the multiples of 3 from 3 to 30. Use a `for` loop to print the numbers in your list."
   ]
  },
  {
   "cell_type": "code",
   "execution_count": 14,
   "id": "27",
   "metadata": {
    "colab": {
     "base_uri": "https://localhost:8080/"
    },
    "id": "27",
    "outputId": "5dc0dc29-ce94-46dd-fd7c-7ef9a3a7a907"
   },
   "outputs": [
    {
     "name": "stdout",
     "output_type": "stream",
     "text": [
      "3\n",
      "6\n",
      "9\n",
      "12\n",
      "15\n",
      "18\n",
      "21\n",
      "24\n",
      "27\n",
      "30\n"
     ]
    }
   ],
   "source": [
    "multiples_of_three = list(range(3, 31, 3))\n",
    "\n",
    "for number in multiples_of_three:\n",
    "    print(number)"
   ]
  },
  {
   "cell_type": "markdown",
   "id": "28",
   "metadata": {
    "id": "28"
   },
   "source": [
    "## Question 12\n",
    "\n",
    "**Cube Comprehension:** Use a list comprehension to generate a list of the first 10 cubes."
   ]
  },
  {
   "cell_type": "code",
   "execution_count": 15,
   "id": "29",
   "metadata": {
    "colab": {
     "base_uri": "https://localhost:8080/"
    },
    "id": "29",
    "outputId": "8afc308e-ccd2-4dce-fe7f-ddb8d9fb8c12"
   },
   "outputs": [
    {
     "name": "stdout",
     "output_type": "stream",
     "text": [
      "[1, 8, 27, 64, 125, 216, 343, 512, 729, 1000]\n"
     ]
    }
   ],
   "source": [
    "cubes = [x**3 for x in range(1, 11)]\n",
    "\n",
    "print(cubes)"
   ]
  },
  {
   "cell_type": "markdown",
   "id": "30",
   "metadata": {
    "id": "30"
   },
   "source": [
    "## Question 13\n",
    "\n",
    "**Slices:** Using one of the programs you wrote in this lab, add several lines to the end of the program that do the following:\n",
    "\n",
    "Print the message _The first three items in the list are:_. Then use a slice to print the first three items from that program’s list."
   ]
  },
  {
   "cell_type": "code",
   "execution_count": 16,
   "id": "30c612ac",
   "metadata": {},
   "outputs": [
    {
     "name": "stdout",
     "output_type": "stream",
     "text": [
      "The first three items in the list are:\n",
      "Chicken\n",
      "Beef\n",
      "Cheese\n"
     ]
    }
   ],
   "source": [
    "print(\"The first three items in the list are:\")\n",
    "\n",
    "for pizza in pizzas[:3]:\n",
    "    print(pizza)"
   ]
  },
  {
   "cell_type": "markdown",
   "id": "32",
   "metadata": {
    "id": "32"
   },
   "source": [
    "Print the message _Three items from the middle of the list are:_. Use a slice to print three items from the middle of the list."
   ]
  },
  {
   "cell_type": "code",
   "execution_count": 17,
   "id": "33",
   "metadata": {
    "colab": {
     "base_uri": "https://localhost:8080/"
    },
    "id": "33",
    "outputId": "1ff22d2b-cd94-4f69-eb86-7e55913b5c78"
   },
   "outputs": [
    {
     "name": "stdout",
     "output_type": "stream",
     "text": [
      "I like Chicken pizza.\n",
      "I like Beef pizza.\n",
      "I like Cheese pizza.\n",
      "I like Vegetable pizza.\n",
      "I like Pineapple pizza.\n",
      "\n",
      "Three items from the middle of the list are:\n",
      "Beef\n",
      "Cheese\n",
      "Vegetable\n"
     ]
    }
   ],
   "source": [
    "middle = len(pizzas) // 2 - 1 \n",
    "\n",
    "for pizza in pizzas:\n",
    "    print(f\"I like {pizza} pizza.\")\n",
    "\n",
    "print(\"\\nThree items from the middle of the list are:\")\n",
    "\n",
    "for pizza in pizzas[middle:middle+3]:\n",
    "    print(pizza)"
   ]
  },
  {
   "cell_type": "markdown",
   "id": "34",
   "metadata": {
    "id": "34"
   },
   "source": [
    "Print the message _The last three items in the list are:_. Use a slice to print the last three items in the list."
   ]
  },
  {
   "cell_type": "code",
   "execution_count": 18,
   "id": "35",
   "metadata": {
    "colab": {
     "base_uri": "https://localhost:8080/"
    },
    "id": "35",
    "outputId": "f9f39bab-89a5-47a5-e2c0-c01bb705a8ab"
   },
   "outputs": [
    {
     "name": "stdout",
     "output_type": "stream",
     "text": [
      "I like Chicken pizza.\n",
      "I like Beef pizza.\n",
      "I like Cheese pizza.\n",
      "I like Vegetable pizza.\n",
      "I like Pineapple pizza.\n",
      "\n",
      "The last three items in the list are:\n",
      "Cheese\n",
      "Vegetable\n",
      "Pineapple\n"
     ]
    }
   ],
   "source": [
    "for pizza in pizzas:\n",
    "    print(f\"I like {pizza} pizza.\")\n",
    "\n",
    "print(\"\\nThe last three items in the list are:\")\n",
    "\n",
    "for pizza in pizzas[-3:]:\n",
    "    print(pizza)"
   ]
  },
  {
   "cell_type": "markdown",
   "id": "36",
   "metadata": {
    "id": "36"
   },
   "source": [
    "## Question 14\n",
    "\n",
    "**Buffet:** A buffet-style restaurant offers only five basic foods. Think of five simple foods, and store them in a tuple.\n",
    "\n",
    "Use a for loop to print each food the restaurant offers."
   ]
  },
  {
   "cell_type": "code",
   "execution_count": 19,
   "id": "37",
   "metadata": {
    "colab": {
     "base_uri": "https://localhost:8080/"
    },
    "id": "37",
    "outputId": "cc24e7dc-7e27-4065-d29f-bf1df3f725b2"
   },
   "outputs": [
    {
     "name": "stdout",
     "output_type": "stream",
     "text": [
      "Menu:\n",
      "chicken\n",
      "beef\n",
      "vegetable salad\n",
      "fried rice\n",
      "fruit salad\n"
     ]
    }
   ],
   "source": [
    "buffet_foods = ('chicken', 'beef', 'vegetable salad', 'fried rice', 'fruit salad')\n",
    "\n",
    "print(\"Menu:\")\n",
    "for food in buffet_foods:\n",
    "    print(food)"
   ]
  },
  {
   "cell_type": "markdown",
   "id": "38",
   "metadata": {
    "id": "38"
   },
   "source": [
    "The restaurant changes its menu, replacing two of the items with different foods. Add a line that rewrites the tuple, and then use a for loop to print each of the items on the revised menu."
   ]
  },
  {
   "cell_type": "code",
   "execution_count": 20,
   "id": "39",
   "metadata": {
    "colab": {
     "base_uri": "https://localhost:8080/"
    },
    "id": "39",
    "outputId": "4d6c1276-30aa-4f00-921c-263038579ac5"
   },
   "outputs": [
    {
     "name": "stdout",
     "output_type": "stream",
     "text": [
      "Revised Menu:\n",
      "chicken\n",
      "beef\n",
      "pasta\n",
      "pizza\n",
      "fruit salad\n"
     ]
    }
   ],
   "source": [
    "updated_menu = buffet_foods[:2] + ('pasta', 'pizza') + buffet_foods[4:]\n",
    "\n",
    "print(\"Revised Menu:\")\n",
    "for food in updated_menu:\n",
    "    print(food)"
   ]
  },
  {
   "cell_type": "markdown",
   "id": "40",
   "metadata": {
    "id": "40",
    "tags": []
   },
   "source": [
    "## Question 15\n",
    "\n",
    "**Alien Colors:** Imagine an alien was just shot down in a game. Create a variable called `alien_color` and assign it a value of `green, yellow,` or `red`.\n",
    "\n",
    "-   Write an if statement to test whether the alien’s color is green. If it is, print a message that the player just earned 5 points.\n",
    "-   Write one version of this program that passes the if test and another that fails. (The version that fails will have no output.)"
   ]
  },
  {
   "cell_type": "code",
   "execution_count": 21,
   "id": "41",
   "metadata": {
    "colab": {
     "base_uri": "https://localhost:8080/"
    },
    "id": "41",
    "outputId": "9207bc79-bae0-419a-87be-8e9e1fb77a07",
    "tags": []
   },
   "outputs": [
    {
     "name": "stdout",
     "output_type": "stream",
     "text": [
      "You just earned 5 points!\n"
     ]
    }
   ],
   "source": [
    "#Test Passes\n",
    "\n",
    "alien_color = 'green'\n",
    "\n",
    "if alien_color == 'green':\n",
    "    print(\"You just earned 5 points!\")\n",
    "    \n",
    "#Test Fails\n",
    "\n",
    "alien_color = 'yellow'\n",
    "\n",
    "\n",
    "if alien_color == 'green':\n",
    "    print(\"You just earned 5 points!\")"
   ]
  },
  {
   "cell_type": "markdown",
   "id": "42",
   "metadata": {
    "id": "42",
    "tags": []
   },
   "source": [
    "## Question 16\n",
    "\n",
    "**Stages of Life:** Write an `if-elif-else` chain that determines a person’s stage of life. Set a value for the variable `age`, and then:\n",
    "\n",
    "-   If the person is less than 2 years old, print a message that the person is a baby.\n",
    "-   If the person is at least 2 years old but less than 4, print a message that the person is a toddler.\n",
    "-   If the person is at least 4 years old but less than 13, print a message that the person is a kid.\n",
    "-   If the person is at least 13 years old but less than 20, print a message that the person is a teenager.\n",
    "-   If the person is at least 20 years old but less than 65, print a message that the person is an adult."
   ]
  },
  {
   "cell_type": "code",
   "execution_count": 22,
   "id": "43",
   "metadata": {
    "colab": {
     "base_uri": "https://localhost:8080/"
    },
    "id": "43",
    "outputId": "759fe48d-5a6c-47a5-efb2-c3daee07e092"
   },
   "outputs": [
    {
     "name": "stdout",
     "output_type": "stream",
     "text": [
      "The person is an adult.\n"
     ]
    }
   ],
   "source": [
    "age = 55 \n",
    "\n",
    "if age < 2:\n",
    "    print(\"The person is a baby.\")\n",
    "elif age < 4:\n",
    "    print(\"The person is a toddler.\")\n",
    "elif age < 13:\n",
    "    print(\"The person is a kid.\")\n",
    "elif age < 20:\n",
    "    print(\"The person is a teenager.\")\n",
    "elif age < 65:\n",
    "    print(\"The person is an adult.\")\n",
    "else:\n",
    "    print(\"The person is an elder.\")\n"
   ]
  },
  {
   "cell_type": "markdown",
   "id": "44",
   "metadata": {
    "id": "44"
   },
   "source": [
    "## Question 17\n",
    "\n",
    "**Favorite Fruit:** Make a list of your favorite fruits, and then write a series of independent `if` statements that check for certain fruits in your list.\n",
    "\n",
    "-   Make a list of your three favorite fruits and call it favorite_fruits.\n",
    "-   Write five if statements. Each should check whether a certain kind of fruit is in your list. If the fruit is in your list, the if block should print a statement, such as You really like bananas!"
   ]
  },
  {
   "cell_type": "code",
   "execution_count": 23,
   "id": "45",
   "metadata": {
    "colab": {
     "base_uri": "https://localhost:8080/"
    },
    "id": "45",
    "outputId": "eabb94da-9f34-4112-83c3-d3c5705cbfbc"
   },
   "outputs": [
    {
     "name": "stdout",
     "output_type": "stream",
     "text": [
      "You really like mangoes!\n",
      "You really like strawberries!\n",
      "You really like kiwi!\n"
     ]
    }
   ],
   "source": [
    "favorite_fruits = ['mango', 'strawberry', 'kiwi']\n",
    "\n",
    "if 'mango' in favorite_fruits:\n",
    "    print(\"You really like mangoes!\")\n",
    "\n",
    "if 'apple' in favorite_fruits:\n",
    "    print(\"You really like apples!\")\n",
    "\n",
    "if 'strawberry' in favorite_fruits:\n",
    "    print(\"You really like strawberries!\")\n",
    "\n",
    "if 'kiwi' in favorite_fruits:\n",
    "    print(\"You really like kiwi!\")\n",
    "\n",
    "if 'pear' in favorite_fruits:\n",
    "    print(\"You really like pears!\")"
   ]
  },
  {
   "cell_type": "markdown",
   "id": "46",
   "metadata": {
    "id": "46"
   },
   "source": [
    "## Question 18\n",
    "\n",
    "**Hello Admin:** Make a list of five or more usernames, including the name `admin`. Imagine you are writing code that will print a greeting to each user after they log in to a website. Loop through the list, and print a greeting to each user:\n",
    "\n",
    "-   If the username is 'admin', print a special greeting, such as _Hello admin, would you like to see a status report?_\n",
    "-   Otherwise, print a generic greeting, such as _Hello Jaden, thank you for logging in again_."
   ]
  },
  {
   "cell_type": "code",
   "execution_count": 24,
   "id": "47",
   "metadata": {
    "colab": {
     "base_uri": "https://localhost:8080/"
    },
    "id": "47",
    "outputId": "a52647e5-62f2-437e-b4fe-e49bb85da726"
   },
   "outputs": [
    {
     "name": "stdout",
     "output_type": "stream",
     "text": [
      "Hello admin, would you like to see a status report?\n",
      "Hello Hey, thank you for logging in again.\n",
      "Hello Owen, thank you for logging in again.\n",
      "Hello Jaden, thank you for logging in again.\n",
      "Hello Stuart, thank you for logging in again.\n"
     ]
    }
   ],
   "source": [
    "usernames = ['admin', 'Hey', 'Owen', 'Jaden', 'Stuart']\n",
    "\n",
    "for username in usernames:\n",
    "    if username == 'admin':\n",
    "        print(\"Hello admin, would you like to see a status report?\")\n",
    "    else:\n",
    "        print(f\"Hello {username}, thank you for logging in again.\")"
   ]
  },
  {
   "cell_type": "markdown",
   "id": "48",
   "metadata": {
    "id": "48"
   },
   "source": [
    "## Question 19\n",
    "\n",
    "**Checking Usernames:** Do the following to create a program that simulates how websites ensure that everyone has a unique username.\n",
    "\n",
    "-   Make a list of five or more usernames called `current_users`.\n",
    "-   Make another list of five usernames called `new_users`. Make sure one or two of the new usernames are also in the `current_users` list.\n",
    "-   Loop through the `new_users` list to see if each new username has already been used. If it has, print a message that the person will need to enter a new username. If a username has not been used, print a message saying that the username is available.\n",
    "-   Make sure your comparison is case insensitive. If 'John' has been used, 'JOHN' should not be accepted. (To do this, you’ll need to make a copy of `current_users` containing the lowercase versions of all existing users.)"
   ]
  },
  {
   "cell_type": "code",
   "execution_count": 25,
   "id": "49",
   "metadata": {
    "colab": {
     "base_uri": "https://localhost:8080/"
    },
    "id": "49",
    "outputId": "992ed1e1-5369-4671-8ad8-8e72f30cc175"
   },
   "outputs": [
    {
     "name": "stdout",
     "output_type": "stream",
     "text": [
      "The username JADEN is already taken. You will need to enter a new username.\n",
      "The username Maya is already taken. You will need to enter a new username.\n",
      "The username Ethan is available.\n",
      "The username Ava is available.\n",
      "The username Noah is available.\n"
     ]
    }
   ],
   "source": [
    "current_users = ['admin', 'Jaden', 'Maya', 'Liam', 'Olivia']\n",
    "\n",
    "new_users = ['JADEN', 'Maya', 'Ethan', 'Ava', 'Noah']\n",
    "\n",
    "current_users_lower = [user.lower() for user in current_users]\n",
    "\n",
    "for new_user in new_users:\n",
    "    if new_user.lower() in current_users_lower:\n",
    "        print(f\"The username {new_user} is already taken. You will need to enter a new username.\")\n",
    "    else:\n",
    "        print(f\"The username {new_user} is available.\")"
   ]
  },
  {
   "cell_type": "markdown",
   "id": "50",
   "metadata": {
    "id": "50"
   },
   "source": [
    "## Question 20\n",
    "\n",
    "**Ordinal Numbers:** Ordinal numbers indicate their position in a list, such as _1st_ or _2nd_. Most ordinal numbers end in _th_, except 1, 2, and 3.\n",
    "\n",
    "-   Store the numbers 1 through 9 in a list.\n",
    "-   Loop through the list.\n",
    "-   Use an `if-elif-else` chain inside the loop to print the proper ordinal ending for each number. Your output should read \"1st 2nd 3rd 4th 5th 6th 7th 8th 9th\", and each result should be on a separate line."
   ]
  },
  {
   "cell_type": "code",
   "execution_count": 26,
   "id": "51",
   "metadata": {
    "colab": {
     "base_uri": "https://localhost:8080/"
    },
    "id": "51",
    "outputId": "81e6a77c-dc59-4ec8-f60a-893f8e79a47f",
    "tags": []
   },
   "outputs": [
    {
     "name": "stdout",
     "output_type": "stream",
     "text": [
      "1st\n",
      "2nd\n",
      "3rd\n",
      "4th\n",
      "5th\n",
      "6th\n",
      "7th\n",
      "8th\n",
      "9th\n"
     ]
    }
   ],
   "source": [
    "numbers = list(range(1, 10))\n",
    "\n",
    "for number in numbers:\n",
    "    if number == 1:\n",
    "        print(\"1st\")\n",
    "    elif number == 2:\n",
    "        print(\"2nd\")\n",
    "    elif number == 3:\n",
    "        print(\"3rd\")\n",
    "    else:\n",
    "        print(f\"{number}th\")"
   ]
  }
 ],
 "metadata": {
  "colab": {
   "provenance": []
  },
  "kernelspec": {
   "display_name": "Python 3 (ipykernel)",
   "language": "python",
   "name": "python3"
  },
  "language_info": {
   "codemirror_mode": {
    "name": "ipython",
    "version": 3
   },
   "file_extension": ".py",
   "mimetype": "text/x-python",
   "name": "python",
   "nbconvert_exporter": "python",
   "pygments_lexer": "ipython3",
   "version": "3.11.5"
  }
 },
 "nbformat": 4,
 "nbformat_minor": 5
}
