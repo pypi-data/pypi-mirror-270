{
 "cells": [
  {
   "cell_type": "markdown",
   "metadata": {},
   "source": [
    "[![image](https://colab.research.google.com/assets/colab-badge.svg)](https://colab.research.google.com/github/nazifa02/geotask/blob/main/docs/examples/vector.ipynb#scrollTo=WiZEJs2UGXvM)"
   ]
  },
  {
   "cell_type": "code",
   "execution_count": null,
   "metadata": {},
   "outputs": [],
   "source": [
    "pip install geotask"
   ]
  },
  {
   "cell_type": "code",
   "execution_count": null,
   "metadata": {},
   "outputs": [],
   "source": [
    "import geotask"
   ]
  },
  {
   "cell_type": "code",
   "execution_count": null,
   "metadata": {},
   "outputs": [],
   "source": [
    "from geotask import Map"
   ]
  },
  {
   "cell_type": "code",
   "execution_count": null,
   "metadata": {},
   "outputs": [],
   "source": [
    "m = geotask.Map()\n",
    "m.add_basemap(\"OpenTopoMap\")\n",
    "m.add_geojson(\"europe_110.geo.json\") #using file_path\n",
    "m\n",
    "\n",
    "#m.add_geojson(\"countries.geojson\", name = \"Countries\")"
   ]
  },
  {
   "cell_type": "code",
   "execution_count": null,
   "metadata": {},
   "outputs": [],
   "source": [
    "m.add_geojson(\"https://github.com/jupyter-widgets/ipyleaflet/raw/master/examples/europe_110.geo.json\")  # using URL\n",
    "m"
   ]
  },
  {
   "cell_type": "code",
   "execution_count": null,
   "metadata": {},
   "outputs": [],
   "source": [
    "m.add_shp(\"countries.shp\", name = \"Countries\")\n",
    "m.add_layers_control()\n",
    "m"
   ]
  },
  {
   "cell_type": "code",
   "execution_count": null,
   "metadata": {},
   "outputs": [],
   "source": [
    "m.add_vector('europe_110.geo.json')\n",
    "m"
   ]
  },
  {
   "cell_type": "code",
   "execution_count": null,
   "metadata": {},
   "outputs": [],
   "source": [
    "import geopandas as gpd\n",
    "from ipyleaflet import GeoData, Polyline\n",
    "from shapely.geometry import Point, LineString\n",
    "\n",
    "\n",
    "# Create two Points\n",
    "point1 = Point(90.4125, 23.8103)  # Dhaka, Bangladesh\n",
    "point2 = Point(-83.9207, 35.9606) # Knoxville, TN, USA\n",
    "\n",
    "# Create a Polyline between the two points\n",
    "line = LineString([point1, point2])\n",
    "\n",
    "# Create a list of [latitude, longitude] pairs for the Polyline\n",
    "polyline_locations = [[lat, lon] for lon, lat in line.coords]\n",
    "\n",
    "# Create the Polyline\n",
    "polyline = Polyline(locations=polyline_locations, color=\"blue\", name=\"Distance\", fill=False)\n",
    "\n",
    "# Add the Polyline to the map\n",
    "m.add_layer(polyline)\n",
    "\n",
    "# Display the map\n",
    "m"
   ]
  }
 ],
 "metadata": {
  "kernelspec": {
   "display_name": "geo",
   "language": "python",
   "name": "python3"
  },
  "language_info": {
   "codemirror_mode": {
    "name": "ipython",
    "version": 3
   },
   "file_extension": ".py",
   "mimetype": "text/x-python",
   "name": "python",
   "nbconvert_exporter": "python",
   "pygments_lexer": "ipython3",
   "version": "3.11.7"
  }
 },
 "nbformat": 4,
 "nbformat_minor": 2
}
