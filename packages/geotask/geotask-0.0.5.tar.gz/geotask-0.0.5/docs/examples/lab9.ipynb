{
 "cells": [
  {
   "cell_type": "markdown",
   "metadata": {},
   "source": [
    "[![image](https://colab.research.google.com/assets/colab-badge.svg)](https://colab.research.google.com/github/nazifa02/geotask/blob/main/docs/examples/lab9.ipynb)"
   ]
  },
  {
   "cell_type": "markdown",
   "metadata": {},
   "source": [
    "### **Using basemaps in geotask**"
   ]
  },
  {
   "cell_type": "code",
   "execution_count": 1,
   "metadata": {},
   "outputs": [
    {
     "name": "stdout",
     "output_type": "stream",
     "text": [
      "Requirement already satisfied: geotask in c:\\users\\tasne\\miniconda3\\envs\\geo\\lib\\site-packages (0.0.2)\n",
      "Requirement already satisfied: numpy in c:\\users\\tasne\\appdata\\roaming\\python\\python311\\site-packages (from geotask) (1.25.2)\n",
      "Requirement already satisfied: ipyleaflet in c:\\users\\tasne\\appdata\\roaming\\python\\python311\\site-packages (from geotask) (0.18.2)\n",
      "Requirement already satisfied: ipywidgets<9,>=7.6.0 in c:\\users\\tasne\\appdata\\roaming\\python\\python311\\site-packages (from ipyleaflet->geotask) (8.1.2)\n",
      "Requirement already satisfied: traittypes<3,>=0.2.1 in c:\\users\\tasne\\appdata\\roaming\\python\\python311\\site-packages (from ipyleaflet->geotask) (0.2.1)\n",
      "Requirement already satisfied: xyzservices>=2021.8.1 in c:\\users\\tasne\\appdata\\roaming\\python\\python311\\site-packages (from ipyleaflet->geotask) (2023.10.1)\n",
      "Requirement already satisfied: branca>=0.5.0 in c:\\users\\tasne\\appdata\\roaming\\python\\python311\\site-packages (from ipyleaflet->geotask) (0.7.1)\n",
      "Requirement already satisfied: jinja2>=3 in c:\\users\\tasne\\appdata\\roaming\\python\\python311\\site-packages (from branca>=0.5.0->ipyleaflet->geotask) (3.1.3)\n",
      "Requirement already satisfied: comm>=0.1.3 in c:\\users\\tasne\\appdata\\roaming\\python\\python311\\site-packages (from ipywidgets<9,>=7.6.0->ipyleaflet->geotask) (0.2.2)\n",
      "Requirement already satisfied: ipython>=6.1.0 in c:\\users\\tasne\\appdata\\roaming\\python\\python311\\site-packages (from ipywidgets<9,>=7.6.0->ipyleaflet->geotask) (8.22.2)\n",
      "Requirement already satisfied: traitlets>=4.3.1 in c:\\users\\tasne\\appdata\\roaming\\python\\python311\\site-packages (from ipywidgets<9,>=7.6.0->ipyleaflet->geotask) (5.14.2)\n",
      "Requirement already satisfied: widgetsnbextension~=4.0.10 in c:\\users\\tasne\\appdata\\roaming\\python\\python311\\site-packages (from ipywidgets<9,>=7.6.0->ipyleaflet->geotask) (4.0.10)\n",
      "Requirement already satisfied: jupyterlab-widgets~=3.0.10 in c:\\users\\tasne\\appdata\\roaming\\python\\python311\\site-packages (from ipywidgets<9,>=7.6.0->ipyleaflet->geotask) (3.0.10)\n",
      "Requirement already satisfied: decorator in c:\\users\\tasne\\appdata\\roaming\\python\\python311\\site-packages (from ipython>=6.1.0->ipywidgets<9,>=7.6.0->ipyleaflet->geotask) (5.1.1)\n",
      "Requirement already satisfied: jedi>=0.16 in c:\\users\\tasne\\appdata\\roaming\\python\\python311\\site-packages (from ipython>=6.1.0->ipywidgets<9,>=7.6.0->ipyleaflet->geotask) (0.19.1)\n",
      "Requirement already satisfied: matplotlib-inline in c:\\users\\tasne\\appdata\\roaming\\python\\python311\\site-packages (from ipython>=6.1.0->ipywidgets<9,>=7.6.0->ipyleaflet->geotask) (0.1.6)\n",
      "Requirement already satisfied: prompt-toolkit<3.1.0,>=3.0.41 in c:\\users\\tasne\\appdata\\roaming\\python\\python311\\site-packages (from ipython>=6.1.0->ipywidgets<9,>=7.6.0->ipyleaflet->geotask) (3.0.43)\n",
      "Requirement already satisfied: pygments>=2.4.0 in c:\\users\\tasne\\appdata\\roaming\\python\\python311\\site-packages (from ipython>=6.1.0->ipywidgets<9,>=7.6.0->ipyleaflet->geotask) (2.17.2)\n",
      "Requirement already satisfied: stack-data in c:\\users\\tasne\\appdata\\roaming\\python\\python311\\site-packages (from ipython>=6.1.0->ipywidgets<9,>=7.6.0->ipyleaflet->geotask) (0.6.3)\n",
      "Requirement already satisfied: colorama in c:\\users\\tasne\\appdata\\roaming\\python\\python311\\site-packages (from ipython>=6.1.0->ipywidgets<9,>=7.6.0->ipyleaflet->geotask) (0.4.6)\n",
      "Requirement already satisfied: MarkupSafe>=2.0 in c:\\users\\tasne\\appdata\\roaming\\python\\python311\\site-packages (from jinja2>=3->branca>=0.5.0->ipyleaflet->geotask) (2.1.5)\n",
      "Requirement already satisfied: parso<0.9.0,>=0.8.3 in c:\\users\\tasne\\appdata\\roaming\\python\\python311\\site-packages (from jedi>=0.16->ipython>=6.1.0->ipywidgets<9,>=7.6.0->ipyleaflet->geotask) (0.8.3)\n",
      "Requirement already satisfied: wcwidth in c:\\users\\tasne\\appdata\\roaming\\python\\python311\\site-packages (from prompt-toolkit<3.1.0,>=3.0.41->ipython>=6.1.0->ipywidgets<9,>=7.6.0->ipyleaflet->geotask) (0.2.13)\n",
      "Requirement already satisfied: executing>=1.2.0 in c:\\users\\tasne\\appdata\\roaming\\python\\python311\\site-packages (from stack-data->ipython>=6.1.0->ipywidgets<9,>=7.6.0->ipyleaflet->geotask) (2.0.1)\n",
      "Requirement already satisfied: asttokens>=2.1.0 in c:\\users\\tasne\\appdata\\roaming\\python\\python311\\site-packages (from stack-data->ipython>=6.1.0->ipywidgets<9,>=7.6.0->ipyleaflet->geotask) (2.4.1)\n",
      "Requirement already satisfied: pure-eval in c:\\users\\tasne\\appdata\\roaming\\python\\python311\\site-packages (from stack-data->ipython>=6.1.0->ipywidgets<9,>=7.6.0->ipyleaflet->geotask) (0.2.2)\n",
      "Requirement already satisfied: six>=1.12.0 in c:\\users\\tasne\\appdata\\roaming\\python\\python311\\site-packages (from asttokens>=2.1.0->stack-data->ipython>=6.1.0->ipywidgets<9,>=7.6.0->ipyleaflet->geotask) (1.16.0)\n"
     ]
    },
    {
     "name": "stderr",
     "output_type": "stream",
     "text": [
      "WARNING: Skipping C:\\Users\\tasne\\miniconda3\\envs\\geo\\Lib\\site-packages\\vtk-9.2.6.egg-info due to invalid metadata entry 'name'\n",
      "WARNING: Skipping C:\\Users\\tasne\\miniconda3\\envs\\geo\\Lib\\site-packages\\vtk-9.2.6.egg-info due to invalid metadata entry 'name'\n"
     ]
    }
   ],
   "source": [
    "!pip install geotask"
   ]
  },
  {
   "cell_type": "code",
   "execution_count": 2,
   "metadata": {},
   "outputs": [],
   "source": [
    "import geotask"
   ]
  },
  {
   "cell_type": "code",
   "execution_count": 3,
   "metadata": {},
   "outputs": [
    {
     "data": {
      "application/vnd.jupyter.widget-view+json": {
       "model_id": "cd2ea1508c654e14a70dafad9c77aa33",
       "version_major": 2,
       "version_minor": 0
      },
      "text/plain": [
       "Map(center=[20, 0], controls=(ZoomControl(options=['position', 'zoom_in_text', 'zoom_in_title', 'zoom_out_text…"
      ]
     },
     "execution_count": 3,
     "metadata": {},
     "output_type": "execute_result"
    }
   ],
   "source": [
    "m = geotask.Map()\n",
    "m"
   ]
  },
  {
   "cell_type": "code",
   "execution_count": 4,
   "metadata": {},
   "outputs": [
    {
     "data": {
      "application/vnd.jupyter.widget-view+json": {
       "model_id": "cd2ea1508c654e14a70dafad9c77aa33",
       "version_major": 2,
       "version_minor": 0
      },
      "text/plain": [
       "Map(center=[20, 0], controls=(ZoomControl(options=['position', 'zoom_in_text', 'zoom_in_title', 'zoom_out_text…"
      ]
     },
     "execution_count": 4,
     "metadata": {},
     "output_type": "execute_result"
    }
   ],
   "source": [
    "m.add_basemap_gui()\n",
    "m"
   ]
  },
  {
   "cell_type": "code",
   "execution_count": 5,
   "metadata": {},
   "outputs": [],
   "source": [
    "m.add_zoom_slider()"
   ]
  },
  {
   "cell_type": "code",
   "execution_count": 6,
   "metadata": {},
   "outputs": [],
   "source": [
    "import ipywidgets as widgets\n",
    "from ipyleaflet import WidgetControl"
   ]
  },
  {
   "cell_type": "code",
   "execution_count": 7,
   "metadata": {},
   "outputs": [],
   "source": [
    "output_widget = widgets.Output(layout={\"border\": \"1px solid black\"})\n",
    "output_control = WidgetControl(widget=output_widget, position=\"bottomleft\")\n",
    "m.add_control(output_control)"
   ]
  },
  {
   "cell_type": "code",
   "execution_count": 8,
   "metadata": {},
   "outputs": [],
   "source": [
    "with output_widget:\n",
    "    print(\"Welcome to Geotask!\")"
   ]
  }
 ],
 "metadata": {
  "kernelspec": {
   "display_name": "geo",
   "language": "python",
   "name": "python3"
  },
  "language_info": {
   "codemirror_mode": {
    "name": "ipython",
    "version": 3
   },
   "file_extension": ".py",
   "mimetype": "text/x-python",
   "name": "python",
   "nbconvert_exporter": "python",
   "pygments_lexer": "ipython3",
   "version": "3.11.7"
  }
 },
 "nbformat": 4,
 "nbformat_minor": 2
}
