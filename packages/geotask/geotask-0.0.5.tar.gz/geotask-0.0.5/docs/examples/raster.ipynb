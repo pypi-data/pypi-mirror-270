{
 "cells": [
  {
   "cell_type": "markdown",
   "metadata": {},
   "source": [
    "[![image](https://colab.research.google.com/assets/colab-badge.svg)](https://colab.research.google.com/github/nazifa02/geotask/blob/main/docs/examples/raster.ipynb)"
   ]
  },
  {
   "cell_type": "code",
   "execution_count": null,
   "metadata": {},
   "outputs": [],
   "source": [
    "pip install geotask"
   ]
  },
  {
   "cell_type": "code",
   "execution_count": null,
   "metadata": {},
   "outputs": [],
   "source": [
    "import geotask"
   ]
  },
  {
   "cell_type": "code",
   "execution_count": null,
   "metadata": {},
   "outputs": [],
   "source": [
    "m = geotask.Map(add_layer_control=False)\n",
    "data = 'https://github.com/opengeos/datasets/releases/download/raster/srtm90.tif'\n",
    "m.add_raster(data, name = 'DEM')\n",
    "\n",
    "#m.add_raster(data, cmap= \"terrain\", name = 'DEM')\n",
    "m.add_layers_control()\n",
    "m"
   ]
  },
  {
   "cell_type": "code",
   "execution_count": null,
   "metadata": {},
   "outputs": [],
   "source": [
    "m.layers[0].interact(opacity=(0.0,1.0,0.1))"
   ]
  },
  {
   "cell_type": "code",
   "execution_count": null,
   "metadata": {},
   "outputs": [],
   "source": [
    "m.layers"
   ]
  },
  {
   "cell_type": "code",
   "execution_count": null,
   "metadata": {},
   "outputs": [],
   "source": [
    "# m = geotask.Map()\n",
    "\n",
    "# url=\"https://i.gifer.com/Z2kv.gif\"\n",
    "# # url='../06Q1fSz.png',\n",
    "# bounds=((15, 100), (52, 130))\n",
    "# m.add_image(url, bounds)\n",
    "# m.add_layers_control()\n",
    "# #m.scroll_wheel_zoom = True\n",
    "# m"
   ]
  },
  {
   "cell_type": "code",
   "execution_count": null,
   "metadata": {},
   "outputs": [],
   "source": []
  },
  {
   "cell_type": "code",
   "execution_count": null,
   "metadata": {},
   "outputs": [],
   "source": [
    "# from ipyleaflet import Map, ImageOverlay\n",
    "\n",
    "# m = Map(center=(25, -115), zoom=4)\n",
    "\n",
    "# image = ImageOverlay(\n",
    "#     url=\"https://i.imgur.com/06Q1fSz.png\",\n",
    "#     # url='../06Q1fSz.png',\n",
    "#     bounds=((13, -130), (32, -100)),\n",
    "# )\n",
    "\n",
    "# m.add(image)\n",
    "# m"
   ]
  },
  {
   "cell_type": "code",
   "execution_count": null,
   "metadata": {},
   "outputs": [],
   "source": [
    "# from localtileserver import TileClient, get_leaflet_tile_layer, examples\n",
    "# from ipyleaflet import Map\n",
    "\n",
    "# # Create a TileClient from a raster file\n",
    "# #client = TileClient('srtm90.tif')\n",
    "# client = TileClient(\n",
    "#     \"https://github.com/opengeos/datasets/releases/download/raster/srtm90.tif\"\n",
    "# )\n",
    "# #client = TileClient(\"https://opendata.digitalglobe.com/events/california-fire-2020/pre-event/2018-02-16/pine-gulch-fire20/1030010076004E00.tif\")\n",
    "# #client = examples.get_san_francisco()  # use example data\n",
    "\n",
    "# # Create ipyleaflet TileLayer from that server\n",
    "# t = get_leaflet_tile_layer(client)\n",
    "# # Create ipyleaflet map, add tile layer, and display\n",
    "# m = Map()\n",
    "# m.add(t)\n",
    "# m.center = client.center()\n",
    "# m.zoom = client.default_zoom\n",
    "# m"
   ]
  },
  {
   "cell_type": "code",
   "execution_count": null,
   "metadata": {},
   "outputs": [],
   "source": [
    "# client.center()"
   ]
  },
  {
   "cell_type": "code",
   "execution_count": null,
   "metadata": {},
   "outputs": [],
   "source": [
    "# client.default_zoom"
   ]
  },
  {
   "cell_type": "code",
   "execution_count": null,
   "metadata": {},
   "outputs": [],
   "source": [
    "# m.layers[-1].url"
   ]
  },
  {
   "cell_type": "code",
   "execution_count": null,
   "metadata": {},
   "outputs": [],
   "source": [
    "# m.layers"
   ]
  }
 ],
 "metadata": {
  "kernelspec": {
   "display_name": "geo",
   "language": "python",
   "name": "python3"
  },
  "language_info": {
   "codemirror_mode": {
    "name": "ipython",
    "version": 3
   },
   "file_extension": ".py",
   "mimetype": "text/x-python",
   "name": "python",
   "nbconvert_exporter": "python",
   "pygments_lexer": "ipython3",
   "version": "3.11.7"
  }
 },
 "nbformat": 4,
 "nbformat_minor": 2
}
