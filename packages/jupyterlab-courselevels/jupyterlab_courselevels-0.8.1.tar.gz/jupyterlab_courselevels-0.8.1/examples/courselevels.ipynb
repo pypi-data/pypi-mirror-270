{
 "cells": [
  {
   "cell_type": "markdown",
   "id": "fd410a73",
   "metadata": {
    "editable": true,
    "slideshow": {
     "slide_type": "-"
    },
    "tags": [
     "licence"
    ]
   },
   "source": [
    "Licence CC BY-NC-ND, Thierry Parmentelat\n",
    "\n",
    "a cell tagged as `licence` will show up a bit transparent like this; use `Control-\\ Control-L` to toggle that"
   ]
  },
  {
   "cell_type": "markdown",
   "id": "7026031d-2a6c-4f76-a765-268ebea824c7",
   "metadata": {},
   "source": [
    "all keyboard shortcuts have `Control-\\` as a common prefix"
   ]
  },
  {
   "cell_type": "markdown",
   "id": "83fcce2e",
   "metadata": {
    "editable": true,
    "slideshow": {
     "slide_type": ""
    },
    "tags": []
   },
   "source": [
    "# normal cell\n",
    "\n",
    "nothing particular"
   ]
  },
  {
   "cell_type": "code",
   "execution_count": null,
   "id": "02db6841-6e3b-4807-80f1-aac0c4da2268",
   "metadata": {},
   "outputs": [],
   "source": [
    "# a code cell with the same level\n",
    "# as the markdown cell just above"
   ]
  },
  {
   "cell_type": "markdown",
   "id": "60cc22a2",
   "metadata": {
    "editable": true,
    "slideshow": {
     "slide_type": ""
    },
    "tags": [
     "level-basic",
     "level_basic"
    ]
   },
   "source": [
    "## basic\n",
    "\n",
    "this one is tagged as `level_basic`\n",
    "\n",
    "it should show up green\n",
    "\n",
    "use `Control-\\ Control-X` to toggle"
   ]
  },
  {
   "cell_type": "code",
   "execution_count": null,
   "id": "243e64dd-932c-44e7-a606-fea5a6a3c1f8",
   "metadata": {
    "tags": [
     "level_basic"
    ]
   },
   "outputs": [],
   "source": [
    "# a code cell with the same level\n",
    "# as the markdown cell just above"
   ]
  },
  {
   "cell_type": "markdown",
   "id": "09177fc9",
   "metadata": {
    "editable": true,
    "slideshow": {
     "slide_type": ""
    },
    "tags": [
     "level_intermediate"
    ]
   },
   "source": [
    "## intermediate\n",
    "\n",
    "tagged as `level_intermediate`\n",
    "\n",
    "show up blueish with nb-courselevels\n",
    "\n",
    "use `Control-\\ Control-Y` to toggle"
   ]
  },
  {
   "cell_type": "code",
   "execution_count": null,
   "id": "ed2519cb-d39a-48d2-ab4e-33f787688f1e",
   "metadata": {
    "tags": [
     "level_intermediate"
    ]
   },
   "outputs": [],
   "source": [
    "# a code cell with the same level\n",
    "# as the markdown cell just above"
   ]
  },
  {
   "cell_type": "markdown",
   "id": "44f66f9d",
   "metadata": {
    "tags": [
     "level_advanced"
    ]
   },
   "source": [
    "## advanced\n",
    "\n",
    "tagged as `level_advanced`\n",
    "\n",
    "shows up pink-ish\n",
    "\n",
    "use `Control-\\ Control-Z` to toggle"
   ]
  },
  {
   "cell_type": "code",
   "execution_count": null,
   "id": "5ed891fa-ec99-47b5-a553-5f7b60b02a02",
   "metadata": {
    "tags": [
     "level_advanced"
    ]
   },
   "outputs": [],
   "source": [
    "# a code cell with the same level\n",
    "# as the markdown cell just above"
   ]
  },
  {
   "cell_type": "markdown",
   "id": "bd23cf6d",
   "metadata": {
    "tags": [
     "framed_cell"
    ]
   },
   "source": [
    "## framed\n",
    "\n",
    "this is designed to have otherwise apparently sparse text material show up within a black frame\n",
    "\n",
    "use `Control-\\ Control-M` to toggle\n",
    "\n",
    "![](https://www.inria.fr/sites/default/files/2019-12/logo-800-600.jpg)"
   ]
  },
  {
   "cell_type": "markdown",
   "id": "51aecb12-8063-47ec-88af-cea11ecd78ff",
   "metadata": {
    "tags": [
     "level_basic",
     "framed_cell"
    ]
   },
   "source": [
    "note that a framed cell can also be with a level, here basic"
   ]
  },
  {
   "cell_type": "code",
   "execution_count": null,
   "id": "5065f758-64bd-4feb-95da-25d1b49a95b4",
   "metadata": {
    "tags": [
     "level_intermediate"
    ]
   },
   "outputs": [],
   "source": [
    "# as of 0.8, level toggling applies on Scope.Multiple, meaning all selected cells if relevant"
   ]
  },
  {
   "cell_type": "code",
   "execution_count": null,
   "id": "e5bbb07a-cb66-4097-9490-470311049c93",
   "metadata": {
    "tags": [
     "level_intermediate"
    ]
   },
   "outputs": [],
   "source": [
    "# so we can change "
   ]
  },
  {
   "cell_type": "code",
   "execution_count": null,
   "id": "22d709d7-9d0d-4169-9542-79d840282fed",
   "metadata": {
    "tags": [
     "level_intermediate"
    ]
   },
   "outputs": [],
   "source": [
    "# a whole region in one shot"
   ]
  }
 ],
 "metadata": {
  "jupytext": {
   "cell_metadata_filter": "all,-hidden,-heading_collapsed,-run_control,-trusted",
   "notebook_metadata_filter": "all,-language_info,-toc,-jupytext.text_representation.jupytext_version,-jupytext.text_representation.format_version"
  },
  "kernelspec": {
   "display_name": "Python 3 (ipykernel)",
   "language": "python",
   "name": "python3"
  },
  "language_info": {
   "codemirror_mode": {
    "name": "ipython",
    "version": 3
   },
   "file_extension": ".py",
   "mimetype": "text/x-python",
   "name": "python",
   "nbconvert_exporter": "python",
   "pygments_lexer": "ipython3",
   "version": "3.11.5"
  },
  "nbhosting": {
   "title": "React apps basics"
  },
  "rise": {
   "autolaunch": true,
   "slideNumber": "c/t",
   "start_slideshow_at": "selected",
   "theme": "sky",
   "transition": "cube"
  }
 },
 "nbformat": 4,
 "nbformat_minor": 5
}
