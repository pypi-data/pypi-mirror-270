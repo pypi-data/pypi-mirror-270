{
 "cells": [
  {
   "cell_type": "markdown",
   "id": "e9cd8d85-eb4a-45d6-925a-e3e770592043",
   "metadata": {},
   "source": [
    "# Ensemble without assimilating "
   ]
  },
  {
   "cell_type": "code",
   "execution_count": 1,
   "id": "ec7e710a-5aa4-40f9-a1cb-151e3cddbe04",
   "metadata": {},
   "outputs": [],
   "source": [
    "# general python\n",
    "import warnings\n",
    "warnings.filterwarnings(\"ignore\", category=UserWarning)\n",
    "import numpy as np\n",
    "import os\n",
    "from pathlib import Path\n",
    "import yaml\n",
    "import pandas as pd\n",
    "import matplotlib.pyplot as plt\n",
    "from datetime import datetime\n",
    "import scipy\n",
    "import xarray as xr\n",
    "from tqdm import tqdm\n",
    "import glob\n",
    "from devtools import pprint\n",
    "from tqdm import tqdm"
   ]
  },
  {
   "cell_type": "code",
   "execution_count": 2,
   "id": "4569a0f2-4bea-48cc-b5a4-ca5384e368c6",
   "metadata": {},
   "outputs": [],
   "source": [
    "# general eWC\n",
    "import ewatercycle\n",
    "import ewatercycle.forcing\n",
    "import ewatercycle.models"
   ]
  },
  {
   "cell_type": "markdown",
   "id": "111bc65b-8299-43ba-95fd-e92df6b92707",
   "metadata": {},
   "source": [
    "**set up paths**"
   ]
  },
  {
   "cell_type": "code",
   "execution_count": 3,
   "id": "df66893d-b667-4fcc-a841-683f32ed2cc7",
   "metadata": {},
   "outputs": [],
   "source": [
    "path = Path.cwd()\n",
    "forcing_path = path / \"Forcing\"\n",
    "observations_path = path / \"Observations\"\n",
    "figure_path = path / \"Figures\"\n",
    "output_path = path / \"Output\""
   ]
  },
  {
   "cell_type": "markdown",
   "id": "414faf88-cb61-4b8a-8f9c-1f359f7f1573",
   "metadata": {},
   "source": [
    "## Marrmot "
   ]
  },
  {
   "cell_type": "markdown",
   "id": "4787c692-3f9c-402b-9b48-93daeeb47926",
   "metadata": {},
   "source": [
    "**add forcing**"
   ]
  },
  {
   "cell_type": "code",
   "execution_count": 4,
   "id": "41855c32-2650-403e-bcad-332eab6c1ec4",
   "metadata": {},
   "outputs": [],
   "source": [
    "from ewatercycle.forcing import sources"
   ]
  },
  {
   "cell_type": "code",
   "execution_count": 5,
   "id": "571f060e-1220-4bec-978a-05bb711b526f",
   "metadata": {},
   "outputs": [],
   "source": [
    "marrmot_forcing = ewatercycle.forcing.sources[\"MarrmotForcing\"](\n",
    "    directory=forcing_path,\n",
    "    start_time=\"1989-01-01T00:00:00Z\",\n",
    "    end_time=\"1992-12-31T00:00:00Z\",\n",
    "    forcing_file=\"BMI_testcase_m01_BuffaloRiver_TN_USA.mat\",\n",
    ")"
   ]
  },
  {
   "cell_type": "markdown",
   "id": "b944e1b8-e225-483d-b39e-74ed4dea37cf",
   "metadata": {},
   "source": [
    "**import model**"
   ]
  },
  {
   "cell_type": "code",
   "execution_count": 6,
   "id": "d81347fe-2de8-4e03-adc8-c1e4d5522e80",
   "metadata": {},
   "outputs": [
    {
     "data": {
      "text/plain": [
       "ewatercycle_marrmot.model.MarrmotM14"
      ]
     },
     "execution_count": 6,
     "metadata": {},
     "output_type": "execute_result"
    }
   ],
   "source": [
    "ewatercycle.models.sources.MarrmotM14"
   ]
  },
  {
   "cell_type": "code",
   "execution_count": 7,
   "id": "c211e38e-7438-490c-b98b-44e56ef30b84",
   "metadata": {},
   "outputs": [],
   "source": [
    "from ewatercycle.models import MarrmotM14"
   ]
  },
  {
   "cell_type": "markdown",
   "id": "6dce1e11-7b68-4b30-a949-f0d8b5e3719c",
   "metadata": {},
   "source": [
    "**import DA function**"
   ]
  },
  {
   "cell_type": "markdown",
   "id": "854cb985-674d-4d9f-b76d-780e7872e78a",
   "metadata": {},
   "source": [
    "```py\n",
    "pip install ewatercycle_DA\n",
    "```"
   ]
  },
  {
   "cell_type": "code",
   "execution_count": 11,
   "id": "b4a70b56-f8d3-4cb6-8c0f-435e561dc656",
   "metadata": {},
   "outputs": [],
   "source": [
    "from ewatercycle_DA import DA"
   ]
  },
  {
   "cell_type": "code",
   "execution_count": 12,
   "id": "107e551f-371f-4938-959a-a697e54b11f8",
   "metadata": {},
   "outputs": [],
   "source": [
    "n_particles = 3"
   ]
  },
  {
   "cell_type": "code",
   "execution_count": 13,
   "id": "507275ac-4746-419f-b796-a110bc06de62",
   "metadata": {},
   "outputs": [],
   "source": [
    "ensemble = DA.Ensemble(N=n_particles)\n",
    "ensemble.setup()"
   ]
  },
  {
   "cell_type": "code",
   "execution_count": 14,
   "id": "332b176e-c258-40f8-b0a8-bea00db5c076",
   "metadata": {},
   "outputs": [],
   "source": [
    "maximum_soil_moisture_storage_lst = [10.0, 12.0, 14.0]"
   ]
  },
  {
   "cell_type": "code",
   "execution_count": 15,
   "id": "af32a60e-4c0d-4c86-a473-76a3358bc374",
   "metadata": {},
   "outputs": [],
   "source": [
    "# values wihch you \n",
    "setup_kwargs_lst = []\n",
    "for index in range(n_particles):\n",
    "    setup_kwargs_lst.append({'maximum_soil_moisture_storage': maximum_soil_moisture_storage_lst[index], \n",
    "                            'end_time':'1989-02-01T00:00:00Z',\n",
    "                             })"
   ]
  },
  {
   "cell_type": "code",
   "execution_count": 16,
   "id": "e41863b4-c977-4ef3-bac9-de9acae274db",
   "metadata": {},
   "outputs": [],
   "source": [
    "ensemble.ensemble_list[0].model_name"
   ]
  },
  {
   "cell_type": "code",
   "execution_count": 18,
   "id": "ca0b485b-43fa-4645-b7d4-34031404a39d",
   "metadata": {
    "scrolled": true
   },
   "outputs": [],
   "source": [
    "# this initializes the models for all ensemble members. - ignore warnings for now \n",
    "ensemble.initialize(model_name=[\"MarrmotM14\"]*n_particles,\n",
    "                    forcing=[marrmot_forcing]*n_particles,\n",
    "                    setup_kwargs=setup_kwargs_lst) "
   ]
  },
  {
   "cell_type": "markdown",
   "id": "64ae9ea9-c292-459b-80ab-23ca1bfaa01d",
   "metadata": {},
   "source": [
    "**Run**"
   ]
  },
  {
   "cell_type": "code",
   "execution_count": 19,
   "id": "f0b48aeb-af4d-45e8-bbcb-60387ff33336",
   "metadata": {},
   "outputs": [],
   "source": [
    "ref_model = ensemble.ensemble_list[0].model"
   ]
  },
  {
   "cell_type": "code",
   "execution_count": 20,
   "id": "443f7de0-31ae-470e-a6df-03ebb2e71dc4",
   "metadata": {},
   "outputs": [
    {
     "name": "stderr",
     "output_type": "stream",
     "text": [
      "100%|███████████████████████████████████████████████████████████████████████████████████| 31/31 [00:02<00:00, 14.34it/s]\n"
     ]
    }
   ],
   "source": [
    "n_timesteps = int((ref_model.end_time - ref_model.start_time) /  ref_model.time_step)\n",
    "\n",
    "time = []\n",
    "lst_Q = [] \n",
    "for i in tqdm(range(n_timesteps)):    \n",
    "    time.append(pd.Timestamp(ref_model.time_as_datetime.date()))\n",
    "    ensemble.update()\n",
    "    lst_Q.append(ensemble.get_value(\"flux_out_Q\").flatten())\n",
    "\n",
    "ensemble.finalize()"
   ]
  },
  {
   "cell_type": "code",
   "execution_count": 21,
   "id": "b7cf4cfd-f3b4-483b-844b-613c935b95c3",
   "metadata": {},
   "outputs": [],
   "source": [
    "Q_m_arr = np.array(lst_Q).T\n",
    "df_ensemble = pd.DataFrame(data=Q_m_arr[:,:len(time)].T,index=time,columns=[f'particle {n}' for n in range(n_particles)])"
   ]
  },
  {
   "cell_type": "code",
   "execution_count": 22,
   "id": "1e5688c7-58b2-401d-a29d-ca4e8c5fbc27",
   "metadata": {},
   "outputs": [
    {
     "data": {
      "text/plain": [
       "<Axes: >"
      ]
     },
     "execution_count": 22,
     "metadata": {},
     "output_type": "execute_result"
    },
    {
     "data": {
      "image/png": "[encoded data removed]",
      "text/plain": [
       "<Figure size 640x480 with 1 Axes>"
      ]
     },
     "metadata": {},
     "output_type": "display_data"
    }
   ],
   "source": [
    "ax = df_ensemble[[\"particle 0\"]].plot(lw=2.5)\n",
    "df_ensemble[[\"particle 1\"]].plot(ax=ax,ls=\"--\",lw=2.5)\n",
    "df_ensemble[[\"particle 2\"]].plot(ax=ax,ls=\"-.\",lw=1.5)"
   ]
  }
 ],
 "metadata": {
  "kernelspec": {
   "display_name": "Python 3 (ipykernel)",
   "language": "python",
   "name": "python3"
  },
  "language_info": {
   "codemirror_mode": {
    "name": "ipython",
    "version": 3
   },
   "file_extension": ".py",
   "mimetype": "text/x-python",
   "name": "python",
   "nbconvert_exporter": "python",
   "pygments_lexer": "ipython3",
   "version": "3.10.13"
  }
 },
 "nbformat": 4,
 "nbformat_minor": 5
}
