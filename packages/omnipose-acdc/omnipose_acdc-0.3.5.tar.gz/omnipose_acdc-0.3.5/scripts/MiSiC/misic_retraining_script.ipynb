{
 "cells": [
  {
   "cell_type": "code",
   "execution_count": null,
   "id": "53dd2459",
   "metadata": {},
   "outputs": [],
   "source": [
    "from tensorflow.keras.models import load_model\n",
    "from tensorflow.keras.utils import get_file \n",
    "import os\n",
    "import matplotlib.pyplot as plt\n",
    "import numpy as np\n",
    "from skimage.transform import resize,rescale\n",
    "from skimage.util import random_noise\n",
    "from skimage.io import imread,imsave\n",
    "from skimage.filters import gaussian\n",
    "from skimage.feature import shape_index\n",
    "import tensorflow as tf\n",
    "import tensorflow.keras.backend as K"
   ]
  },
  {
   "cell_type": "markdown",
   "id": "89a18be2",
   "metadata": {},
   "source": [
    "# necessary functions"
   ]
  },
  {
   "cell_type": "code",
   "execution_count": null,
   "id": "cdebabcc",
   "metadata": {},
   "outputs": [],
   "source": [
    "def jaccard_coef(y_true, y_pred):\n",
    "    smooth = K.epsilon()\n",
    "    #y_pred = K.cast(K.greater(y_pred, .8), dtype='float32') # .5 is the threshold\n",
    "    #y_true = K.cast(K.greater(y_true, .9), dtype='float32') # .5 is the threshold\n",
    "    intersection = K.sum(y_true * y_pred, axis=[0, -1, -2])\n",
    "    sum_ = K.sum(y_true + y_pred, axis=[0, -1, -2])\n",
    "    jac = (intersection + smooth) / (sum_ - intersection + smooth)\n",
    "    return K.mean(jac)    \n",
    "\n",
    "def bce_and_jac(y_true,y_pred):\n",
    "    return tf.keras.losses.binary_crossentropy(y_true,y_pred)-K.log(jaccard_coef(y_true,y_pred)) \n",
    "\n",
    "def shapeindex_preprocess(im):\n",
    "        ''' apply shape index map at three scales'''\n",
    "        sh = np.zeros((im.shape[0],im.shape[1],3))\n",
    "        if np.max(im) == 0:\n",
    "            return sh\n",
    "        \n",
    "        # pad to minimize edge artifacts                    \n",
    "        sh[:,:,0] = shape_index(im,1, mode='reflect')\n",
    "        sh[:,:,1] = shape_index(im,1.5, mode='reflect')\n",
    "        sh[:,:,2] = shape_index(im,2, mode='reflect')\n",
    "        #sh = 0.5*(sh+1.0)\n",
    "        \n",
    "        # (Kevin) shape index returns nans\n",
    "        sh[np.isnan(sh)] = 0\n",
    "        return sh"
   ]
  },
  {
   "cell_type": "markdown",
   "id": "d0eb889c",
   "metadata": {},
   "source": [
    "# get model and compile "
   ]
  },
  {
   "cell_type": "code",
   "execution_count": null,
   "id": "06e500af",
   "metadata": {},
   "outputs": [],
   "source": [
    "\n",
    "model_path = get_file('misic_model','https://github.com/pswapnesh/Models/raw/master/MiSiDC04082020.h5')\n",
    "model = load_model(model_path,compile=False)\n",
    "model.compile(optimizer='adam',loss=bce_and_jac,metrics=['accuracy',jaccard_coef])\n",
    "model.summary()"
   ]
  },
  {
   "cell_type": "markdown",
   "id": "87249b71",
   "metadata": {},
   "source": [
    "# optional: train only decoder side"
   ]
  },
  {
   "cell_type": "code",
   "execution_count": null,
   "id": "2792ad83",
   "metadata": {},
   "outputs": [],
   "source": [
    "keep_frozen = 12 \n",
    "for ii in range(keep_frozen):\n",
    "    model.layers[ii].trainable = False"
   ]
  },
  {
   "cell_type": "markdown",
   "id": "887e7707",
   "metadata": {},
   "source": [
    "# training\n",
    "## Data preparation:\n",
    "### Make sure the images are of size 256,256\n",
    "given a gray scale image IM use the preprocessing function provided above <em>x = shapeindex_preprocess(IM)</em>, to have an output of shape (256,256,3) \n",
    "The ground truth, y should have shape (256,256,2) where the first image is cell body and second is cell boundary.\n",
    "\n",
    "If you donot have the cell boundary information one can use <em>skimage.segmentation.find_boundaries(label_img)</em> to generate the boundaries.\n",
    "\n",
    "Finally your full training data should look like\n",
    "\n",
    "X -> [N,256,256,3]\n",
    "\n",
    "y -> [N,256,256,2]\n",
    "\n"
   ]
  },
  {
   "cell_type": "code",
   "execution_count": null,
   "id": "15ae31ee-ca5f-48e6-b7de-3976d08858e9",
   "metadata": {},
   "outputs": [],
   "source": [
    "from pathlib import Path\n",
    "from cellpose import io\n",
    "import skimage.io\n",
    "basedir = '/home/kcutler/DataDrive/final_train'\n",
    "mask_filter = '_masks'\n",
    "img_names = io.get_image_files(basedir,mask_filter)\n",
    "mask_names,_ = io.get_label_files(img_names, mask_filter)\n",
    "X = [skimage.io.imread(f) for f in img_names] #consider changing to imread from tifffile \n",
    "Y = [skimage.io.imread(f) for f in mask_names]"
   ]
  },
  {
   "cell_type": "code",
   "execution_count": null,
   "id": "2918772a-f9b8-4855-baf0-bd8e00498e69",
   "metadata": {},
   "outputs": [],
   "source": [
    "from cellpose import utils\n",
    "from skimage.segmentation import find_boundaries\n",
    "# y = utils.get_masks_unet(Y[0])\n",
    "def convert_mask(m):\n",
    "    boundary = find_boundaries(m)\n",
    "    interior = np.logical_and(m>0, ~boundary)\n",
    "    return np.stack((interior,boundary),axis=-1)\n",
    "y = convert_mask(Y[0])\n",
    "y.shape\n",
    "# fig = plt.figure(figsize=(16,16))\n",
    "# plt.imshow(np.hstack((y[0],y[1])))"
   ]
  },
  {
   "cell_type": "code",
   "execution_count": null,
   "id": "0a79b7e3-6e3b-4358-b0f7-ee233c3c22a5",
   "metadata": {},
   "outputs": [],
   "source": [
    "# This is a test cell.  not necessary for retraining, this is a demonstration of data preparation\n",
    "\n",
    "y = [convert_mask(yy) for yy in Y]\n",
    "X = [shapeindex_preprocess(xx) for xx in X]"
   ]
  },
  {
   "cell_type": "code",
   "execution_count": null,
   "id": "f23299bb-5ae0-4d02-a291-ecd95eb6ad52",
   "metadata": {},
   "outputs": [],
   "source": [
    "y_crop = np.stack([tf.image.resize_with_crop_or_pad(yy.astype(np.float64),256,256) for yy in y])\n",
    "X_crop = np.stack([tf.image.resize_with_crop_or_pad(xx.astype(np.float64),256,256) for xx in X])\n",
    "X_crop.shape,y_crop.shape"
   ]
  },
  {
   "cell_type": "code",
   "execution_count": null,
   "id": "64878ec0-338a-454a-87db-f377f4614bd2",
   "metadata": {},
   "outputs": [],
   "source": [
    "np.any(np.isnan(X_crop))"
   ]
  },
  {
   "cell_type": "code",
   "execution_count": null,
   "id": "cb749ab5",
   "metadata": {},
   "outputs": [],
   "source": [
    "# number of epochs and steps will depend on your data size\n",
    "num_epochs = 100\n",
    "history = model.fit(X_crop,y_crop,epochs = num_epochs,batch_size=8)"
   ]
  },
  {
   "cell_type": "code",
   "execution_count": null,
   "id": "1a0a6aec",
   "metadata": {},
   "outputs": [],
   "source": [
    "# save in any format\n",
    "model.save('/home/kcutler/DataDrive/misic_etc/new_misic_model_kevin_3.h5')"
   ]
  },
  {
   "cell_type": "code",
   "execution_count": null,
   "id": "9307c0c9",
   "metadata": {},
   "outputs": [],
   "source": [
    "# predict\n",
    "# yy = np.random.rand(2,256,256,3)\n",
    "xx = X_crop[0][np.newaxis]\n",
    "yp = model.predict(xx)\n",
    "yp.shape\n"
   ]
  },
  {
   "cell_type": "code",
   "execution_count": null,
   "id": "9f7e3285",
   "metadata": {},
   "outputs": [],
   "source": [
    "# plt.imshow(np.hstack((X_crop[0][:,:,0],y_crop[0][:,:,0])))\n",
    "plt.imshow(X_crop[0])"
   ]
  },
  {
   "cell_type": "code",
   "execution_count": null,
   "id": "2c5604e9-435b-4205-9215-675af6dc7100",
   "metadata": {},
   "outputs": [],
   "source": [
    "np.max(X_crop[0])"
   ]
  },
  {
   "cell_type": "code",
   "execution_count": null,
   "id": "a3977977-271e-48bb-81ca-dcc766945a35",
   "metadata": {},
   "outputs": [],
   "source": [
    "model_path = get_file('misic_model','https://github.com/pswapnesh/Models/raw/master/MiSiDC04082020.h5')\n",
    "model_orig = load_model(model_path,compile=False)\n",
    "model_orig.compile(optimizer='adam',loss=bce_and_jac,metrics=['accuracy',jaccard_coef])\n",
    "\n",
    "model_path ='/home/kcutler/DataDrive/misic_etc/new_misic_model_kevin_3.h5'\n",
    "model_new = load_model(model_path,compile=False)\n",
    "model_new.compile(optimizer='adam',loss=bce_and_jac,metrics=['accuracy',jaccard_coef])\n",
    "\n",
    "model_new==model_orig"
   ]
  },
  {
   "cell_type": "code",
   "execution_count": null,
   "id": "f3f3d6e6-55cf-4c47-a4fa-358277f7dc03",
   "metadata": {},
   "outputs": [],
   "source": [
    "model_path = get_file('misic_model','https://github.com/pswapnesh/Models/raw/master/MiSiDC04082020.h5')\n",
    "model_orig2 = load_model(model_path,compile=False)\n",
    "model_orig2.compile(optimizer='adam',loss=bce_and_jac,metrics=['accuracy',jaccard_coef])"
   ]
  },
  {
   "cell_type": "code",
   "execution_count": null,
   "id": "caba052c-ff41-4057-95d7-fcb5823254d0",
   "metadata": {},
   "outputs": [],
   "source": [
    "model_orig2==model_orig"
   ]
  },
  {
   "cell_type": "code",
   "execution_count": null,
   "id": "5ba45cae-ddc9-4de7-b08b-84d27b0d4f62",
   "metadata": {},
   "outputs": [],
   "source": [
    "history.model.save('/home/kcutler/DataDrive/misic_etc/new_misic_model_kevin_hist.h5')"
   ]
  },
  {
   "cell_type": "code",
   "execution_count": null,
   "id": "cb934524-c179-49dc-9927-da04c2fe6e2a",
   "metadata": {},
   "outputs": [],
   "source": [
    "print(model.trainable_variables[0][0]) "
   ]
  },
  {
   "cell_type": "code",
   "execution_count": null,
   "id": "e412d1bf-69b0-4adf-986e-ca9aec7eceeb",
   "metadata": {},
   "outputs": [],
   "source": [
    "model_new.trainable_variables[0][0][0]==model_orig.trainable_variables[0][0][0]"
   ]
  },
  {
   "cell_type": "code",
   "execution_count": null,
   "id": "500b9233-27c1-4e6f-91f7-df08b7453716",
   "metadata": {},
   "outputs": [],
   "source": [
    "for x in X:\n",
    "    plt.imshow(x)\n",
    "    plt.show()\n",
    "    plt.axis('off')"
   ]
  },
  {
   "cell_type": "code",
   "execution_count": null,
   "id": "fbe241db-6a78-4295-932b-3e79b73e7a25",
   "metadata": {},
   "outputs": [],
   "source": []
  }
 ],
 "metadata": {
  "kernelspec": {
   "display_name": "MiSiCgui",
   "language": "python",
   "name": "misicgui"
  },
  "language_info": {
   "codemirror_mode": {
    "name": "ipython",
    "version": 3
   },
   "file_extension": ".py",
   "mimetype": "text/x-python",
   "name": "python",
   "nbconvert_exporter": "python",
   "pygments_lexer": "ipython3",
   "version": "3.7.11"
  }
 },
 "nbformat": 4,
 "nbformat_minor": 5
}
