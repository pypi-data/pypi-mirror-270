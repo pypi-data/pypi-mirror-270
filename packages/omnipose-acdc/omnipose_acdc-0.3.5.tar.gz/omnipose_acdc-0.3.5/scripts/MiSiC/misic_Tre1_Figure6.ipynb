{
 "cells": [
  {
   "cell_type": "code",
   "execution_count": null,
   "id": "3c50d903-5a9a-49f1-a15b-9e704492d25c",
   "metadata": {},
   "outputs": [],
   "source": [
    "%load_ext autoreload\n",
    "%autoreload 2"
   ]
  },
  {
   "cell_type": "code",
   "execution_count": null,
   "id": "803c7efe-d996-4dd6-8014-3ec41e924e5f",
   "metadata": {},
   "outputs": [],
   "source": [
    "import os\n",
    "# os.environ[\"CUDA_VISIBLE_DEVICES\"]=\"-1\" \n",
    "from misic.misic import *\n",
    "from misic.extras import *\n",
    "from skimage.io import imsave,imread\n",
    "from skimage.transform import resize,rescale\n",
    "\n",
    "import time, os, sys\n",
    "import skimage.io\n",
    "import matplotlib.pyplot as plt\n",
    "plt.style.use('dark_background')\n",
    "import matplotlib as mpl\n",
    "%matplotlib inline\n",
    "mpl.rcParams['figure.dpi'] = 300\n",
    "import edt"
   ]
  },
  {
   "cell_type": "code",
   "execution_count": null,
   "id": "b5815021-f1c6-4936-bb23-c8dbccb0d377",
   "metadata": {},
   "outputs": [],
   "source": [
    "def diameters(masks,dist_threshold=1):\n",
    "    dt = edt.edt(np.int32(masks))\n",
    "    dt_pos = np.abs(dt[dt>=dist_threshold])\n",
    "    return dist_to_diam(np.abs(dt_pos))\n",
    "def dist_to_diam(dt_pos):\n",
    "    return 6*np.mean(dt_pos)"
   ]
  },
  {
   "cell_type": "code",
   "execution_count": null,
   "id": "1731b05c-9120-4ce4-bba1-a2f26bbcf052",
   "metadata": {},
   "outputs": [],
   "source": [
    "# tesr dataset\n",
    "from pathlib import Path\n",
    "from cellpose import io\n",
    "\n",
    "basedir = '/home/kcutler/DataDrive/ecVSsp/'\n",
    "phase = Path(basedir).rglob('*c1.tif')\n",
    "img_names = [str(p) for p in phase]\n",
    "imgs = [skimage.io.imread(f) for f in img_names]"
   ]
  },
  {
   "cell_type": "code",
   "execution_count": null,
   "id": "f700a7e5-b1fc-4233-92d6-1f16ff5eba62",
   "metadata": {},
   "outputs": [],
   "source": [
    "def getname(path,suffix=''):\n",
    "    return os.path.splitext(Path(path).name)[0].replace(suffix,'')"
   ]
  },
  {
   "cell_type": "code",
   "execution_count": null,
   "id": "6f144210-6b31-4e96-a6e8-b550b54235a6",
   "metadata": {},
   "outputs": [],
   "source": [
    "from skimage.transform import rescale,resize\n",
    "from skimage.util import random_noise\n",
    "from skimage.filters import gaussian\n",
    "from cellpose import transforms\n",
    "\n",
    "import cv2\n",
    "Y = []\n",
    "# Initialize MiSiC\n",
    "do_size = 0\n",
    "invert = 0\n",
    "mseg = MiSiC(model_dir='/home/kcutler/DataDrive/misic_etc/new_misic_model_kevin_ep100_bs8.h5')\n",
    "# mseg = MiSiC(model_dir='/home/kcutler/DataDrive/misic_etc/new_misic_model_kevin.h5')\n",
    "# mseg = MiSiC()\n",
    "for idx in range(len(imgs)):\n",
    "\n",
    "# for idx in [1,77,100,101]:\n",
    "    \n",
    "    im = imgs[idx].copy()\n",
    "    sr,sc = im.shape\n",
    "    \n",
    "    # added per Swapnesh's recommendations, helps a lot, holy cow! \n",
    "    # blur not so much, bit a tiny bit of noise is good\n",
    "    if 1:\n",
    "        # im = gaussian(im,1.5)\n",
    "        im = transforms.normalize99(im,skel=True)\n",
    "        im = random_noise(im,mode ='gaussian',var = 0.000001)\n",
    "        # im = add_noise(im, sensitivity = .1, invert = invert)\n",
    "\n",
    "    if do_size: # my custom model not trained with resizing in mind, variance in width is small \n",
    "        #input the approximate mean width of microbe under consideration\n",
    "        mean_width = diams[idx]/2\n",
    "        # compute scaling factor\n",
    "        scale = (10/mean_width)\n",
    "        # preprocess using inbuit function or if you are feeling lucky use your own preprocessing\n",
    "        im = rescale(im,scale,preserve_range = True)\n",
    "    \n",
    "    \n",
    "    # Parameters that need to be changed\n",
    "    ## Ideally, use a single image to fine tune two parameters : mean_width and noise_variance (optional)\n",
    "    # add local noise\n",
    "    # img = add_noise(im, sensitivity = .5, invert = True)\n",
    "    img = im.copy()\n",
    "\n",
    "    # segment\n",
    "    yp = mseg.segment(img,invert = invert)\n",
    "    # yp = mseg.segment_auto(im) broken\n",
    "    if do_size:\n",
    "        yp = resize(yp,(sr,sc))\n",
    "        img = resize(img,(sr,sc))\n",
    "    masks  = postprocess_ws(cv2.resize(img,[yp.shape[1],yp.shape[0]]),yp)\n",
    "    Y.append(masks)\n",
    "    plt.imshow(np.hstack((img,yp[:,:,0],yp[:,:,1])))\n",
    "    plt.axis('off')\n",
    "    plt.show()\n",
    "    plt.imshow(masks)\n",
    "    plt.axis('off')\n",
    "    plt.show()\n",
    "    savedir = '/home/kcutler/DataDrive/omnipose_paper/Figure 6/MiSiC/'\n",
    "    io.check_dir(savedir)\n",
    "    io.imsave(os.path.join(savedir,getname(img_names[idx])+'_masks.tif'),masks)"
   ]
  },
  {
   "cell_type": "code",
   "execution_count": null,
   "id": "665e59f9-500b-46e5-89b2-806ce099b382",
   "metadata": {},
   "outputs": [],
   "source": [
    "# plt.imshow(masks)\n",
    "# yp.shape,im.shape,img.shape\n",
    "# m_orig = masks.copy()\n",
    "np.any(masks-m_orig)\n",
    "# %reset_selective -f mseg\n",
    "# mseg"
   ]
  },
  {
   "cell_type": "code",
   "execution_count": null,
   "id": "cee81530-97bd-4a8a-97a8-06b43a1786e9",
   "metadata": {},
   "outputs": [],
   "source": [
    "im = np.array(imgs[0].copy())\n",
    "print(im,im.shape)\n",
    "# im = im.resize()\n",
    "# im.shape\n",
    "im = im.resize((int(im.shape[0]*scale),int(im.shape[1]*scale)))\n",
    "print(im, im.shape)"
   ]
  },
  {
   "cell_type": "code",
   "execution_count": null,
   "id": "7e30cebe-c071-4c6e-9350-b92cde6eb98c",
   "metadata": {},
   "outputs": [],
   "source": [
    "from cellpose import utils\n",
    "utils.diameters(masks,skel=1)"
   ]
  },
  {
   "cell_type": "code",
   "execution_count": null,
   "id": "08bfc32b-4473-434c-9206-ece8dacfe9ff",
   "metadata": {},
   "outputs": [],
   "source": []
  },
  {
   "cell_type": "code",
   "execution_count": null,
   "id": "d8efe7e8-73fb-49a2-afbe-0ae83a758280",
   "metadata": {},
   "outputs": [],
   "source": [
    "# body = resize(yp[:,:,0],[sr,sc])\n",
    "# contours = resize(yp[:,:,1],[sr,sc])\n",
    "\n",
    "# watershed based post processing (optional)\n"
   ]
  },
  {
   "cell_type": "code",
   "execution_count": null,
   "id": "8253a4e7-a624-4e17-8108-4bc73ffc62d0",
   "metadata": {},
   "outputs": [],
   "source": [
    "plt.imshow(yp[:,:,0])"
   ]
  },
  {
   "cell_type": "code",
   "execution_count": null,
   "id": "c52dabec-4f08-4c27-a16f-671fb2d6f1b3",
   "metadata": {},
   "outputs": [],
   "source": [
    "# save 8-bit segmented image and use it as you like\n",
    "imsave('segmented.tif', yp.astype(np.uint8))\n",
    "''''\n",
    "\n",
    "### In case of gpu error, one might need to disabple gpu before importing MiSiC [ os.environ[\"CUDA_VISIBLE_DEVICES\"]=\"-1\" ]\n",
    "\n",
    "About\n",
    "\n",
    "segmentation of rod-shaped bacteria\n",
    "Resources\n",
    "Readme\n",
    "License\n",
    "GPL-3.0 License\n",
    "Releases 2\n",
    "MiSiC-v1 Latest\n",
    "on Apr 4\n",
    "+ 1 release\n",
    "Packages\n",
    "No packages published\n",
    "Languages\n",
    "\n",
    "Python 100.0%"
   ]
  },
  {
   "cell_type": "code",
   "execution_count": null,
   "id": "fbd5cbaa-22d6-4f9a-9ecd-85e2930a4c12",
   "metadata": {},
   "outputs": [],
   "source": []
  },
  {
   "cell_type": "code",
   "execution_count": null,
   "id": "77754500-8a12-41bb-952e-692e139cd2d1",
   "metadata": {},
   "outputs": [],
   "source": [
    "mseg = MiSiC(model_dir='/home/kcutler/DataDrive/misic_etc/new_misic_model_kevin_hist.h5')\n",
    "mseg_orig = MiSiC()\n",
    "mseg.model.trainable_variables[0][0][0]==mseg_orig.model.trainable_variables[0][0][0]"
   ]
  },
  {
   "cell_type": "code",
   "execution_count": null,
   "id": "e10d8373-bba4-4bba-b541-04d7aec9841c",
   "metadata": {},
   "outputs": [],
   "source": []
  },
  {
   "cell_type": "code",
   "execution_count": null,
   "id": "7a99a5c0-5fc4-4afd-9285-b19f77a91f7c",
   "metadata": {},
   "outputs": [],
   "source": [
    "mseg,mseg_orig"
   ]
  },
  {
   "cell_type": "code",
   "execution_count": null,
   "id": "37c34472-daca-448c-9cfc-779946458b7b",
   "metadata": {},
   "outputs": [],
   "source": [
    "mseg,mseg_orig"
   ]
  },
  {
   "cell_type": "code",
   "execution_count": null,
   "id": "736f9bb2-4130-46cc-bcbd-6846bbd1d6d1",
   "metadata": {},
   "outputs": [],
   "source": []
  }
 ],
 "metadata": {
  "kernelspec": {
   "display_name": "MiSiCgui",
   "language": "python",
   "name": "misicgui"
  },
  "language_info": {
   "codemirror_mode": {
    "name": "ipython",
    "version": 3
   },
   "file_extension": ".py",
   "mimetype": "text/x-python",
   "name": "python",
   "nbconvert_exporter": "python",
   "pygments_lexer": "ipython3",
   "version": "3.8.10"
  }
 },
 "nbformat": 4,
 "nbformat_minor": 5
}
