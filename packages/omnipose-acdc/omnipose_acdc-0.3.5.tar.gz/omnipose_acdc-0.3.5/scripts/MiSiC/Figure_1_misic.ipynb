{
 "cells": [
  {
   "cell_type": "code",
   "execution_count": null,
   "id": "3c50d903-5a9a-49f1-a15b-9e704492d25c",
   "metadata": {},
   "outputs": [],
   "source": [
    "%load_ext autoreload\n",
    "%autoreload 2"
   ]
  },
  {
   "cell_type": "code",
   "execution_count": null,
   "id": "803c7efe-d996-4dd6-8014-3ec41e924e5f",
   "metadata": {},
   "outputs": [],
   "source": [
    "import os\n",
    "# os.environ[\"CUDA_VISIBLE_DEVICES\"]=\"-1\" \n",
    "from misic.misic import *\n",
    "from misic.extras import *\n",
    "from skimage.io import imsave,imread\n",
    "from skimage.transform import resize,rescale\n",
    "\n",
    "import time, os, sys\n",
    "import skimage.io\n",
    "import matplotlib.pyplot as plt\n",
    "plt.style.use('dark_background')\n",
    "import matplotlib as mpl\n",
    "%matplotlib inline\n",
    "mpl.rcParams['figure.dpi'] = 300\n",
    "import edt"
   ]
  },
  {
   "cell_type": "code",
   "execution_count": null,
   "id": "b5815021-f1c6-4936-bb23-c8dbccb0d377",
   "metadata": {},
   "outputs": [],
   "source": [
    "from omnipose.core import diameters, dist_to_diam"
   ]
  },
  {
   "cell_type": "markdown",
   "id": "0b85d4d3-6871-423c-b5bf-d9e0432fd7bb",
   "metadata": {},
   "source": [
    "### Load test dataset"
   ]
  },
  {
   "cell_type": "code",
   "execution_count": null,
   "id": "6f8342f3-6437-4d38-9357-3329854b89b6",
   "metadata": {},
   "outputs": [],
   "source": [
    "from pathlib import Path\n",
    "from cellpose import io\n",
    "basedir = '/home/kcutler/DataDrive/omnipose_all/Fig1_comparison/misic'\n",
    "io.check_dir(basedir)\n",
    "basedir = '/home/kcutler/DataDrive/omnipose_test'\n",
    "mask_filter = '_masks'\n",
    "img_names = io.get_image_files(basedir,mask_filter,look_one_level_down=True)\n",
    "mask_names,flow_names = io.get_label_files(img_names, mask_filter)\n",
    "#annoyingly, the names are not sorted properly because the paths are all different for the test folder...\n",
    "def getname(path,suffix='_masks'):\n",
    "    return os.path.splitext(Path(path).name)[0].replace(suffix,'')\n",
    "mask_names = sorted(mask_names,key=getname)\n",
    "img_names = sorted(img_names,key=getname)\n",
    "imgs = [skimage.io.imread(f) for f in img_names]\n",
    "masks_gt = [skimage.io.imread(f) for f in mask_names]"
   ]
  },
  {
   "cell_type": "code",
   "execution_count": null,
   "id": "f700a7e5-b1fc-4233-92d6-1f16ff5eba62",
   "metadata": {},
   "outputs": [],
   "source": [
    "# check length of test set \n",
    "len(masks_gt) "
   ]
  },
  {
   "cell_type": "markdown",
   "id": "d43d73fd-c36f-45fd-bf9a-701091c6de75",
   "metadata": {},
   "source": [
    "### Run MiSiC\n",
    "I had to make a few tweaks to MiSiC to get it to install. Some optimizations for my images were made following advice from the author of MiSiC. "
   ]
  },
  {
   "cell_type": "code",
   "execution_count": null,
   "id": "1cbc7ccc-e195-4c40-ba92-37eb77ba7df1",
   "metadata": {},
   "outputs": [],
   "source": [
    "from skimage.transform import rescale,resize\n",
    "from skimage.util import random_noise\n",
    "from skimage.filters import gaussian\n",
    "from cellpose import transforms\n",
    "\n",
    "import cv2\n",
    "Y = []\n",
    "\n",
    "do_size = 0\n",
    "invert = 0\n",
    "\n",
    "if do_size:\n",
    "    diams = [diameters(m) for m in masks_gt]\n",
    "\n",
    "# Initialize MiSiC\n",
    "# my branch of MiSiC allows for the loading of custom models \n",
    "mseg = MiSiC(model_dir='/home/kcutler/DataDrive/misic_etc/new_misic_model_kevin_ep100_bs8.h5')\n",
    "# mseg = MiSiC(model_dir='/home/kcutler/DataDrive/misic_etc/new_misic_model_kevin.h5')\n",
    "# mseg = MiSiC()\n",
    "for idx in range(len(imgs)):\n",
    "    \n",
    "    im = imgs[idx].copy()\n",
    "    sr,sc = im.shape\n",
    "    \n",
    "    # added per Swapnesh's recommendations, helps a lot, holy cow! \n",
    "    # blur not so much, bit a tiny bit of noise is good\n",
    "    if 1:\n",
    "        # im = gaussian(im,1.5)\n",
    "        im = transforms.normalize99(im,omni=True)\n",
    "        im = random_noise(im,mode ='gaussian',var = 0.000001)\n",
    "        # im = add_noise(im, sensitivity = .1, invert = invert)\n",
    "\n",
    "    if do_size: # my custom model not trained with resizing in mind, variance in width is small \n",
    "        #input the approximate mean width of microbe under consideration\n",
    "        mean_width = diams[idx]/2\n",
    "        # compute scaling factor\n",
    "        scale = (10/mean_width)\n",
    "        # preprocess using inbuit function or if you are feeling lucky use your own preprocessing\n",
    "        im = rescale(im,scale,preserve_range = True)\n",
    "    \n",
    "    \n",
    "    # Parameters that need to be changed\n",
    "    ## Ideally, use a single image to fine tune two parameters : mean_width and noise_variance (optional)\n",
    "    # add local noise\n",
    "    # img = add_noise(im, sensitivity = .5, invert = True)\n",
    "    img = im.copy()\n",
    "\n",
    "    # segment\n",
    "    yp = mseg.segment(img,invert = invert)\n",
    "    # yp = mseg.segment_auto(im) broken\n",
    "    if do_size:\n",
    "        yp = resize(yp,(sr,sc))\n",
    "        img = resize(img,(sr,sc))\n",
    "    # masks  = postprocess_ws(cv2.resize(img,[yp.shape[1],yp.shape[0]]),yp)\n",
    "    masks  = postprocess_ws(cv2.resize(img,(yp.shape[1],yp.shape[0])),yp[...,0])\n",
    "    \n",
    "    Y.append(masks)\n",
    "    plt.imshow(np.hstack((img,yp[:,:,0],yp[:,:,1])))\n",
    "    plt.axis('off')\n",
    "    plt.show()\n",
    "    plt.imshow(masks)\n",
    "    plt.axis('off')\n",
    "    plt.show()\n",
    "    savedir = '/home/kcutler/DataDrive/omnipose_all/Fig1_comparison/misic_trained/'\n",
    "    io.check_dir(savedir)\n",
    "    io.imsave(os.path.join(savedir,getname(mask_names[idx])+'_masks.tif'),masks)"
   ]
  }
 ],
 "metadata": {
  "kernelspec": {
   "display_name": "misic",
   "language": "python",
   "name": "misic"
  },
  "language_info": {
   "codemirror_mode": {
    "name": "ipython",
    "version": 3
   },
   "file_extension": ".py",
   "mimetype": "text/x-python",
   "name": "python",
   "nbconvert_exporter": "python",
   "pygments_lexer": "ipython3",
   "version": "3.8.10"
  }
 },
 "nbformat": 4,
 "nbformat_minor": 5
}
