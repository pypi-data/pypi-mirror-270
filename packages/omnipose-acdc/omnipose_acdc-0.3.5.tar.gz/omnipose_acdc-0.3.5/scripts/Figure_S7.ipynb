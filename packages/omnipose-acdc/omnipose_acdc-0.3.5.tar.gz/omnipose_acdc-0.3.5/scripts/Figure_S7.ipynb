{
 "cells": [
  {
   "cell_type": "markdown",
   "id": "5852e06f-9bc8-427c-a3c3-7e7d2bfedcb5",
   "metadata": {},
   "source": [
    "# Extended Data Figure 7\n",
    "Just look at the average size of cyto2 data"
   ]
  },
  {
   "cell_type": "code",
   "execution_count": null,
   "id": "ecf01a48-285b-4641-8aa2-3efd3bb19ac9",
   "metadata": {},
   "outputs": [],
   "source": [
    "%load_ext autoreload\n",
    "%autoreload 2\n",
    "\n",
    "basedir = '/home/kcutler/DataDrive/cyto2/train'\n",
    "from pathlib import Path\n",
    "from cellpose import io\n",
    "import skimage.io\n",
    "import numpy as np\n",
    "import matplotlib.pyplot as plt\n",
    "plt.style.use('dark_background')\n",
    "import matplotlib as mpl\n",
    "%matplotlib inline\n",
    "mpl.rcParams['figure.dpi'] = 300\n",
    "\n",
    "mask_filter = '_masks'\n",
    "imf = '_img'\n",
    "img_names = io.get_image_files(basedir,mask_filter,imf=imf)\n",
    "mask_names,flow_names = io.get_label_files(img_names, mask_filter,imf=imf)\n",
    "imgs = [skimage.io.imread(f) for f in img_names]\n",
    "masks = [skimage.io.imread(f) for f in mask_names]\n"
   ]
  },
  {
   "cell_type": "code",
   "execution_count": null,
   "id": "4f7cfa8a-1d0b-47e8-b77c-c4329769f99b",
   "metadata": {},
   "outputs": [],
   "source": [
    "from skimage.measure import regionprops"
   ]
  },
  {
   "cell_type": "code",
   "execution_count": null,
   "id": "3eff53ac-6445-469d-aa2c-5388df41e57d",
   "metadata": {},
   "outputs": [],
   "source": [
    "regions = regionprops(masks[0])"
   ]
  },
  {
   "cell_type": "code",
   "execution_count": null,
   "id": "b93c4020-0bf2-4f6a-a377-343673e26a69",
   "metadata": {},
   "outputs": [],
   "source": [
    "areas = [[rg.area for rg in regionprops(m)[1:]] for m in masks]"
   ]
  },
  {
   "cell_type": "code",
   "execution_count": null,
   "id": "252209af-3da2-4ea5-9112-7ba7ef884f92",
   "metadata": {},
   "outputs": [],
   "source": [
    "A = np.array([a for sublist in areas for a in sublist])"
   ]
  },
  {
   "cell_type": "code",
   "execution_count": null,
   "id": "7a5324cd-b715-438b-b5c2-60bc4b93f728",
   "metadata": {},
   "outputs": [],
   "source": [
    "np.max(A),np.min(A)"
   ]
  },
  {
   "cell_type": "code",
   "execution_count": null,
   "id": "1aa50043-0b80-4b42-99c8-807ce647f2ad",
   "metadata": {},
   "outputs": [],
   "source": [
    "h = plt.hist(A,bins=1000,log=0,density=0)\n",
    "plt.xscale('log')\n",
    "plt.yscale('log')"
   ]
  },
  {
   "cell_type": "code",
   "execution_count": null,
   "id": "9dfca145-cbe5-446a-9c98-b69d78ac0344",
   "metadata": {},
   "outputs": [],
   "source": [
    "import omnipose"
   ]
  },
  {
   "cell_type": "code",
   "execution_count": null,
   "id": "39c73818-1ff5-48f7-b520-ccb30c3c51b1",
   "metadata": {},
   "outputs": [],
   "source": []
  }
 ],
 "metadata": {
  "kernelspec": {
   "display_name": "Python 3 (ipykernel)",
   "language": "python",
   "name": "python3"
  },
  "language_info": {
   "codemirror_mode": {
    "name": "ipython",
    "version": 3
   },
   "file_extension": ".py",
   "mimetype": "text/x-python",
   "name": "python",
   "nbconvert_exporter": "python",
   "pygments_lexer": "ipython3",
   "version": "3.8.10"
  }
 },
 "nbformat": 4,
 "nbformat_minor": 5
}
