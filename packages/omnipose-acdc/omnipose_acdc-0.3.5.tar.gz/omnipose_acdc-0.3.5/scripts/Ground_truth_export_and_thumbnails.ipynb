{
 "cells": [
  {
   "cell_type": "markdown",
   "id": "61f91bfa-2ca3-4c63-8162-9184470be154",
   "metadata": {},
   "source": [
    "# Ground truth counting and exporting\n",
    "This script is what we used to validate our cell counts done in whole or in part in other notebooks (those usually focus just on test data, not training). "
   ]
  },
  {
   "cell_type": "code",
   "execution_count": null,
   "id": "32efb14a-592e-46b9-8d04-ff94c488b23a",
   "metadata": {},
   "outputs": [],
   "source": [
    "%load_ext autoreload\n",
    "%autoreload 2\n",
    "\n",
    "from pathlib import Path\n",
    "from cellpose import plot, models, core, utils, io, dynamics\n",
    "import skimage.io\n",
    "import numpy as np\n",
    "import matplotlib.pyplot as plt\n",
    "plt.style.use('dark_background')\n",
    "import matplotlib as mpl\n",
    "%matplotlib inline\n",
    "mpl.rcParams['figure.dpi'] = 300\n",
    "import time, os, sys\n",
    "from tifffile import imread\n",
    "# use_GPU = core.use_gpu()\n",
    "# print('>>> GPU activated? %d'%use_GPU)\n",
    "\n",
    "import omnipose"
   ]
  },
  {
   "cell_type": "code",
   "execution_count": null,
   "id": "e19091b7-ce57-4835-9b2e-2b8b952165ce",
   "metadata": {},
   "outputs": [],
   "source": [
    "base = '/home/kcutler/DataDrive/omnipose_all'\n",
    "dataset = ['phase','fluor']\n",
    "subset = ['train','test']\n",
    "basedir = [[os.path.join(base,d,s + '_sorted') for s in subset] for d in dataset]\n",
    "\n",
    "base = '/home/kcutler/DataDrive/omnipose_all/OSF/'\n",
    "dataset = ['worm']\n",
    "subset = ['train','test']\n",
    "basedir = [[os.path.join(base,d,s) for s in subset] for d in dataset]\n",
    "\n",
    "# base = '/home/kcutler/DataDrive/'\n",
    "# dataset = ['luca']\n",
    "# subset = ['train','test']\n",
    "# basedir = [[os.path.join(base,d,s) for s in subset] for d in dataset]\n",
    "\n",
    "def getname(path,suffix='_masks'):\n",
    "    return os.path.splitext(Path(path).name)[0].replace(suffix,'')\n",
    "\n",
    "def get_GT(basedir):\n",
    "    mask_filter = '_masks'\n",
    "    img_names = io.get_image_files(basedir,mask_filter,look_one_level_down=True)\n",
    "    mask_names = io.get_label_files(img_names, mask_filter)\n",
    "    #annoyingly, the names are not sorted properly because the paths are all different for the test folder...\n",
    "    mask_names = sorted(mask_names,key=getname)\n",
    "    img_names = sorted(img_names,key=getname)\n",
    "    imgs = [skimage.io.imread(f) for f in img_names]\n",
    "    # masks_gt = [utils.format_labels(utils.clean_boundary(skimage.io.imread(f))) for f in mask_names]\n",
    "    masks_gt = [omnipose.utils.format_labels(omnipose.utils.clean_boundary(skimage.io.imread(f)),clean=True) for f in mask_names]\n",
    "    return imgs, masks_gt, img_names, mask_names\n",
    "\n",
    "J = len(dataset)\n",
    "K = len(subset)\n",
    "imgs = [[[] for k in range(K)] for j in range(J)]\n",
    "masks_gt = [[[] for k in range(K)] for j in range(J)]\n",
    "img_names = [[[] for k in range(K)] for j in range(J)]\n",
    "mask_names = [[[] for k in range(K)] for j in range(J)]\n",
    "for j in range(J):\n",
    "    for k in range(K):\n",
    "        print((basedir[j][k]))\n",
    "        imgs[j][k], masks_gt[j][k], img_names[j][k], mask_names[j][k] = get_GT(basedir[j][k])\n",
    "# train_imgs, train_masks, train_img_names, train_mask_names = get_GT(train_dir)\n",
    "# test_imgs, test_masks, test_img_names, train_mask_names = get_GT(train_dir)"
   ]
  },
  {
   "cell_type": "markdown",
   "id": "30db1a74-04ae-4b5b-be0b-af46d3c31da3",
   "metadata": {},
   "source": [
    "### Count images and cells in dataset\n"
   ]
  },
  {
   "cell_type": "code",
   "execution_count": null,
   "id": "74934ce6-68bb-4e7d-b39f-c461f717b3c2",
   "metadata": {},
   "outputs": [],
   "source": [
    "# Count images\n",
    "import fastremap, ncolor\n",
    "from matplotlib.colors import ListedColormap\n",
    "from omnipose import utils\n",
    "from cellpose import plot\n",
    "cmap = ListedColormap([color for color in utils.sinebow(5).values()])\n",
    "\n",
    "imagecount = np.zeros([J,K],int)\n",
    "cellcount = np.zeros([J,K],int)\n",
    "show = False\n",
    "for j in range(J):\n",
    "    for k in range(K):\n",
    "        c = len(imgs[j][k])\n",
    "        imagecount[j,k] += c\n",
    "\n",
    "        for maski,imgi,name in zip(masks_gt[j][k],imgs[j][k],img_names[j][k]):\n",
    "            # print(name)\n",
    "            c =  len(fastremap.unique(maski))\n",
    "            cellcount[j,k] += c\n",
    "            if maski.shape!=imgi.shape:\n",
    "                print(name,'has mask mismatch')\n",
    "            if show:\n",
    "                fig = plt.figure(figsize=(10,10))\n",
    "                p = utils.normalize99(imgi)\n",
    "                img0 = np.stack((p,p,p),axis=2)\n",
    "                outli = plot.outline_view(img0,maski)\n",
    "\n",
    "                pic = np.hstack((img0,utils.rescale(outli),cmap(ncolor.label(maski))[:,:,:3]))\n",
    "                plt.imshow(pic)\n",
    "                plt.axis('off')\n",
    "                plt.show()\n",
    "\n",
    "    print(np.sum(imagecount[j]),np.sum(cellcount[j]))"
   ]
  },
  {
   "cell_type": "code",
   "execution_count": null,
   "id": "9f5bf23e-55e8-45fe-b444-44449bdb7966",
   "metadata": {},
   "outputs": [],
   "source": [
    "basedir = '/home/kcutler/DataDrive/omnipose_all/'\n",
    "\n",
    "\n",
    "\n",
    "for j in range(J):\n",
    "    text = []\n",
    "    text += ['{} dataset\\n'.format(dataset[j])]\n",
    "    for k in range(K):\n",
    "        text+=[subset[k]+':',\n",
    "               '\\t image count: {}'.format(imagecount[j,k]),\n",
    "               '\\t cell count: {}'.format(cellcount[j,k])]\n",
    "    text+=['total:',\n",
    "           '\\t image count: {}'.format(np.sum(imagecount[j])),\n",
    "           '\\t cell count: {}'.format(np.sum(cellcount[j])),'\\n']\n",
    "    \n",
    "    with open(os.path.join(basedir,'{}_datatet_stats.txt'.format(dataset[j])), \"w\") as text_file:\n",
    "        [print(t,file=f) for t in text for f in [None,text_file]]\n",
    "    "
   ]
  },
  {
   "cell_type": "code",
   "execution_count": null,
   "id": "eda72cf8-04b5-48ad-8c14-8b3fd0398bb0",
   "metadata": {},
   "outputs": [],
   "source": [
    "J"
   ]
  },
  {
   "cell_type": "markdown",
   "id": "ebc76ee7-e160-48e7-a642-201ef0c8d2f9",
   "metadata": {},
   "source": [
    "## Check to make sure that there is no duplication between test and train datasets"
   ]
  },
  {
   "cell_type": "code",
   "execution_count": null,
   "id": "550198e4-c08d-4dae-ac09-96c4034f1580",
   "metadata": {},
   "outputs": [],
   "source": [
    "for j in range(J):\n",
    "    # A = ['a','b','c']\n",
    "    # B = ['c']\n",
    "    A = img_names[j][0] #assuming two categories \n",
    "    B = img_names[j][1]\n",
    "    print([x for x in A if x in B])"
   ]
  },
  {
   "cell_type": "markdown",
   "id": "1555841e-caa6-4de6-a910-2247629f5bbe",
   "metadata": {},
   "source": [
    "### Export images, masks, and thumbnails"
   ]
  },
  {
   "cell_type": "code",
   "execution_count": null,
   "id": "03b29b68-540e-403f-b53e-f3ffa61a9341",
   "metadata": {},
   "outputs": [],
   "source": [
    "from PIL import Image\n",
    "import tifffile\n",
    "from omnipose.utils import rescale, format_labels\n",
    "offset = [0,len(imgs[0])]\n",
    "# cmap2 = mpl.cm.get_cmap('gray')\n",
    "# cmap2 = mpl.cm.get_cmap('magma')\n",
    "\n",
    "clean = 1\n",
    "save_ncolor = 0\n",
    "save_color = 0\n",
    "display = 0\n",
    "mrcnn = 0 # export to mrcnn folder\n",
    "matlab = 0 # export for morphometrics and supersegger processing\n",
    "\n",
    "# get all the jpg files from the current folder\n",
    "for j in range(J):\n",
    "# for j in [1]:\n",
    "    for k in range(K):\n",
    "        # for f,im in zip(img_names[k],imgs[k]):\n",
    "        for i,im,mask in zip(range(len(imgs[j][k])),imgs[j][k],masks_gt[j][k]):\n",
    "            # name = 'img'+str(i+offset[k])\n",
    "            # name = '%03d' % (i+offset[k],) + '_img'\n",
    "            name = '%03d' % (i,) \n",
    "            if mask.shape!=im.shape:\n",
    "                print(name,'has mask mismatch')\n",
    "            if clean:\n",
    "                #save a copy with new naming convention        \n",
    "                savedir = basedir[j][k]+'_website'\n",
    "                io.check_dir(savedir)\n",
    "                io.imsave(os.path.join(savedir,name+'_img.tif'),im)  \n",
    "                io.imsave(os.path.join(savedir,name+'_masks.tif'),mask)    \n",
    "\n",
    "                # convert to thumbnail image\n",
    "                im = (omnipose.utils.normalize99(im)*255).astype(np.uint8)\n",
    "                im = Image.fromarray(im)\n",
    "                im.thumbnail((128, 128), Image.ANTIALIAS)\n",
    "                savedir = basedir[j][k]+'_website_thumbnails'\n",
    "                io.check_dir(savedir)\n",
    "                # im.save(os.path.join(savedir,getname(f)+'_thumbnail.tif'))\n",
    "                im.save(os.path.join(savedir,name+'_thumbnail.tif'))\n",
    "\n",
    "            #Also save an ncolor version\n",
    "            if save_ncolor:\n",
    "                pic = cmap(ncolor.label(mask))\n",
    "                # pic[:,:,-1] = mask>0 #transparency, not needed\n",
    "                savedir = basedir[j][k]+'_ncolor'\n",
    "                io.check_dir(savedir)\n",
    "                skimage.io.imsave(os.path.join(savedir,name+'_ncolor_masks.tif'),(pic*(2**8-1)).astype(np.uint8))\n",
    "\n",
    "            # can also save rescaled version of label matrix\n",
    "            if save_color:\n",
    "                cmap2 = ListedColormap([color for color in utils.sinebow(mask.max()).values()])\n",
    "                pic = cmap2(omnipose.utils.rescale(mask))\n",
    "                pic[:,:,-1] = mask>0 #transparency\n",
    "                savedir = basedir[j][k]+'_rescaled_sinebow'\n",
    "                io.check_dir(savedir)\n",
    "                skimage.io.imsave(os.path.join(savedir,name+'_masks_rescaled.tif'),(pic*(2**8-1)).astype(np.uint8))\n",
    "\n",
    "            if display:\n",
    "                fig = plt.figure(figsize=[4]*2)\n",
    "                plt.imshow(np.hstack((utils.rescale(im),ncolor.label(mask))))\n",
    "                plt.axis('off')\n",
    "                plt.show()\n",
    "\n",
    "            if j==0: # only meant for phase \n",
    "                if mrcnn:\n",
    "                    name = getname(mask_names[j][k][i]) # use original names for this export \n",
    "                    savedir = os.path.join('/home/kcutler/DataDrive/omnipose_all/RGB_for_mrcnn',subset[k])\n",
    "                    io.check_dir(savedir)\n",
    "                    # io.imsave(os.path.join(savedir,name+'_img.tif'),np.stack([im]*3))  \n",
    "                    # io.imsave(os.path.join(savedir,name+'_masks.tif'),mask)    \n",
    "\n",
    "                    mgt = omnipose.utils.format_labels(mask,clean=True)\n",
    "                    tifffile.imsave(os.path.join(savedir,name+'_masks.tif'),mgt.astype('int64'))\n",
    "\n",
    "                    img = np.repeat((rescale(im)*(2**16-1)).astype('uint16')[:,:,np.newaxis],repeats=3,axis=-1) # must use rgb images\n",
    "                    tifffile.imsave(os.path.join(savedir,name+'.tif'),img) \n",
    "\n",
    "\n",
    "                if matlab and subset[k]=='test':\n",
    "                    name = getname(mask_names[j][k][i]) # use original names for this export \n",
    "                    savedir = os.path.join('/home/kcutler/DataDrive/omnipose_all/matlab')\n",
    "                    io.check_dir(savedir)     \n",
    "                    img = (rescale(im)*(2**16-1)).astype('uint16')\n",
    "                    tifffile.imsave(os.path.join(savedir,name+'.tif'),img) "
   ]
  },
  {
   "cell_type": "code",
   "execution_count": null,
   "id": "3c66abe6-53b4-415b-afca-6fbc860ac7de",
   "metadata": {},
   "outputs": [],
   "source": [
    "(np.stack([im]*3)).shape"
   ]
  },
  {
   "cell_type": "code",
   "execution_count": null,
   "id": "70157045-d301-4af0-9cfe-db7a1e99a755",
   "metadata": {},
   "outputs": [],
   "source": [
    "getname(mask_names[0])"
   ]
  },
  {
   "cell_type": "code",
   "execution_count": null,
   "id": "5712014e-b96d-480f-b799-4d0868d92ccf",
   "metadata": {},
   "outputs": [],
   "source": [
    "mask_names[0][0]"
   ]
  },
  {
   "cell_type": "code",
   "execution_count": null,
   "id": "d1b331b1-7c96-4595-8bd1-1e1da49b697d",
   "metadata": {},
   "outputs": [],
   "source": [
    "t = io.imread('/home/kcutler/DataDrive/omnipose_all/morphometrics_eval/5I_crop_ensemble_1_Gparent.tif')"
   ]
  },
  {
   "cell_type": "code",
   "execution_count": null,
   "id": "6dd40d8d-5676-44b0-be5a-e860eec48b86",
   "metadata": {},
   "outputs": [],
   "source": [
    "plt.imshow(t)"
   ]
  },
  {
   "cell_type": "code",
   "execution_count": null,
   "id": "8bed20a2-8347-40bc-8339-67396ebc36be",
   "metadata": {},
   "outputs": [],
   "source": [
    "basedir"
   ]
  },
  {
   "cell_type": "code",
   "execution_count": null,
   "id": "502031d0-2a00-4b53-84fd-38b08b87a2d4",
   "metadata": {},
   "outputs": [],
   "source": [
    "import pyqtgraph as pg\n",
    "pg.__version__"
   ]
  },
  {
   "cell_type": "code",
   "execution_count": null,
   "id": "76ccdb65-56df-439e-afcb-0467e5c097e0",
   "metadata": {},
   "outputs": [],
   "source": [
    "import mahotas"
   ]
  },
  {
   "cell_type": "code",
   "execution_count": null,
   "id": "ec94b99d-2717-42b8-8223-aac34937be4f",
   "metadata": {},
   "outputs": [],
   "source": [
    "mahotas.__version__"
   ]
  },
  {
   "cell_type": "code",
   "execution_count": null,
   "id": "09e07301-b6b1-4178-a8dd-67f1d7f0c38d",
   "metadata": {},
   "outputs": [],
   "source": [
    "import numpy"
   ]
  },
  {
   "cell_type": "code",
   "execution_count": null,
   "id": "c3b217b7-a981-4d24-9ef5-6cc7d6c901c0",
   "metadata": {},
   "outputs": [],
   "source": [
    "numpy.__version__"
   ]
  },
  {
   "cell_type": "code",
   "execution_count": null,
   "id": "e43ca0c6-84b0-41a1-befe-e815fb61cd9f",
   "metadata": {},
   "outputs": [],
   "source": []
  }
 ],
 "metadata": {
  "kernelspec": {
   "display_name": "Python 3 (ipykernel)",
   "language": "python",
   "name": "python3"
  },
  "language_info": {
   "codemirror_mode": {
    "name": "ipython",
    "version": 3
   },
   "file_extension": ".py",
   "mimetype": "text/x-python",
   "name": "python",
   "nbconvert_exporter": "python",
   "pygments_lexer": "ipython3",
   "version": "3.8.10"
  }
 },
 "nbformat": 4,
 "nbformat_minor": 5
}
