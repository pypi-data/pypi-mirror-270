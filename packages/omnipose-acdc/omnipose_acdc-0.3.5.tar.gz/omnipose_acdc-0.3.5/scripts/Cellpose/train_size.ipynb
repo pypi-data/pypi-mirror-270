{
 "cells": [
  {
   "cell_type": "code",
   "execution_count": null,
   "id": "23240bb8-33b5-4938-aac6-1aac58ed63ec",
   "metadata": {},
   "outputs": [],
   "source": [
    "!nvcc --version\n",
    "!nvidia-smi\n",
    "%load_ext autoreload\n",
    "%autoreload 2\n",
    "\n",
    "\n",
    "import sys\n",
    "sys.path.insert(1, '/home/kcutler/kevin_utils/')\n",
    "from kevin import rescale, ncolorlabel, endpoints, getskel\n",
    "\n",
    "import numpy as np\n",
    "# import cupy as np\n",
    "import time, os, sys\n",
    "from urllib.parse import urlparse\n",
    "from urllib.parse import urlparse\n",
    "from cellpose import models\n",
    "\n",
    "use_GPU = models.use_gpu()\n",
    "print('>>> GPU activated? %d'%use_GPU)"
   ]
  },
  {
   "cell_type": "code",
   "execution_count": null,
   "id": "b546a5a4-3322-4504-a5a4-e776a2841528",
   "metadata": {},
   "outputs": [],
   "source": [
    "import time, os, sys\n",
    "import skimage.io\n",
    "import matplotlib.pyplot as plt\n",
    "plt.style.use('dark_background')\n",
    "import matplotlib as mpl\n",
    "%matplotlib inline\n",
    "mpl.rcParams['figure.dpi'] = 300\n",
    "from cellpose import utils"
   ]
  },
  {
   "cell_type": "code",
   "execution_count": null,
   "id": "02fe6713-e787-446c-a3b7-e68f7af782e8",
   "metadata": {},
   "outputs": [],
   "source": [
    "from cellpose import io\n",
    "from tifffile import imread\n",
    "import skimage.io\n"
   ]
  },
  {
   "cell_type": "code",
   "execution_count": null,
   "id": "aa1014ed-9685-43f9-9939-c73da1e80b34",
   "metadata": {},
   "outputs": [],
   "source": [
    "# basedir = '/home/kcutler/DataDrive/images_cyto_oct_server/test/'\n",
    "basedir = '/home/kcutler/DataDrive/images_cyto_oct_server/train/'\n",
    "mask_filter = '_masks'\n",
    "img_filter = ''\n",
    "img_names = io.get_image_files(basedir,mask_filter,img_filter)\n",
    "mask_names,flow_names = io.get_label_files(img_names, mask_filter,img_filter)\n",
    "imgs = [skimage.io.imread(f) for f in img_names]\n",
    "masks = [skimage.io.imread(f) for f in mask_names]\n",
    "diameters = np.array([utils.diameters(m)[0] for m in masks]) \n",
    "# print(files)\n",
    "# basedir = '/home/kcutler/DataDrive/final_train/'\n",
    "# mask_filter = '_masks'\n",
    "# img_names = io.get_image_files(basedir,mask_filter)\n",
    "# mask_names,flow_names = io.get_label_files(img_names, mask_filter)\n",
    "# imgs = [imread(f) for f in img_names]\n",
    "# masks = [imread(f) for f in mask_names]\n",
    "# flows = [imread(f) for f in flow_names]"
   ]
  },
  {
   "cell_type": "code",
   "execution_count": null,
   "id": "2b066f41-7a6e-407b-aa17-9d4b4782b362",
   "metadata": {},
   "outputs": [],
   "source": [
    "cnt = 0;\n",
    "r = [0]*len(masks)\n",
    "for i,mask in enumerate(masks):\n",
    "    m = utils.format_labels(mask)\n",
    "    lbls = np.unique(m)\n",
    "    cnt += len(lbls[lbls>0])\n",
    "    fg = np.count_nonzero(m>0)\n",
    "    bg = np.count_nonzero(m==0)\n",
    "    r[i] = fg/(fg+bg)\n",
    "    "
   ]
  },
  {
   "cell_type": "code",
   "execution_count": null,
   "id": "9ddbb397-d552-46dd-a6b3-d90a40e3286a",
   "metadata": {},
   "outputs": [],
   "source": [
    "ind = np.argmin(r)\n",
    "plt.imshow(rescale(imgs[ind]))\n",
    "len(imgs)"
   ]
  },
  {
   "cell_type": "code",
   "execution_count": null,
   "id": "f0598053-905e-4be1-a7e9-ae7259d99c41",
   "metadata": {},
   "outputs": [],
   "source": [
    "from cellpose import models\n",
    "\n",
    "skel=False\n",
    "if skel:\n",
    "    modeldir = '/home/kcutler/DataDrive/images_cyto_oct_server/train/models/cellpose_residual_on_style_on_concatenation_off_train_2021_07_28_22_55_30.617388_epoch_3999'\n",
    "    nclasses = 4\n",
    "    chan = [2,1]\n",
    "else: \n",
    "    modeldir = 'cyto2'\n",
    "    chan = [0,0]\n",
    "    \n",
    "diameters = np.array([utils.diameters(m,skel=skel)[0] for m in masks]) \n",
    "\n",
    "model = models.CellposeModel(gpu=use_GPU, pretrained_model=modeldir, net_avg=False, nclasses=nclasses,skel=skel)\n",
    "# model = models.CellposeModel(net_avg=False)\n",
    "\n",
    "sizemodel = models.SizeModel(device=model.device, cp_model=model)"
   ]
  },
  {
   "cell_type": "code",
   "execution_count": null,
   "id": "9bc75163-b37e-4f63-ab2f-d7590f5786d7",
   "metadata": {},
   "outputs": [],
   "source": [
    "# inds = range(10)\n",
    "inds = range(len(imgs))\n",
    "print(inds)\n",
    "params = sizemodel.train([imgs[i] for i in inds],[masks[i] for i in inds],channels=chan,n_epochs=10, batch_size=8,skel=skel) #NEEDS CHANNELS ARGUMENT???"
   ]
  },
  {
   "cell_type": "code",
   "execution_count": null,
   "id": "da37f4ca-15d1-4c16-9f1a-69de88bf428d",
   "metadata": {},
   "outputs": [],
   "source": [
    "inds = range(5)\n",
    "print(sizemodel.diam_mean)\n",
    "diam, diam_style = sizemodel.eval([imgs[i] for i in inds],channels=[0,0],skel=skel)"
   ]
  },
  {
   "cell_type": "code",
   "execution_count": null,
   "id": "014cb80e-9760-4060-ba82-2417a3e3b3a2",
   "metadata": {},
   "outputs": [],
   "source": [
    "d = np.array([diameters[i] for i in inds])\n",
    "error_ds = (diam_style-d)/d\n",
    "error_d = (diam-d)/d\n",
    "print('mean diam_style fractional error is', np.mean(error_ds**2)**.5)\n",
    "print('mean diam fractional error is', np.mean(error_d**2)**.5)"
   ]
  },
  {
   "cell_type": "code",
   "execution_count": null,
   "id": "101ca467-1094-4965-b19f-55766d54a66b",
   "metadata": {},
   "outputs": [],
   "source": [
    "np.divide(diam,[diameters[i] for i in inds])"
   ]
  },
  {
   "cell_type": "code",
   "execution_count": null,
   "id": "0f031567-5086-4f8b-8d22-5314bcaae04d",
   "metadata": {},
   "outputs": [],
   "source": [
    "from cellpose import transforms\n",
    "# inds = range(8)\n",
    "img,lbl,sc = transforms.random_rotate_and_resize([imgs[k][:,:,np.newaxis] for k in inds],[flows[k] for k in inds],xy=(220,220))\n",
    "sizemodel.cp.network(img)"
   ]
  },
  {
   "cell_type": "code",
   "execution_count": null,
   "id": "616e71f3-53c7-4ed7-ab30-f40a58e2fcde",
   "metadata": {},
   "outputs": [],
   "source": []
  },
  {
   "cell_type": "code",
   "execution_count": null,
   "id": "b064300f-9fb6-462a-b71c-e1b5eddaa137",
   "metadata": {},
   "outputs": [],
   "source": [
    "sizemodel.cp.network(img.swapaxes(-1,1))"
   ]
  },
  {
   "cell_type": "code",
   "execution_count": null,
   "id": "27638b77-d20a-46f0-967c-61f5a9b4b297",
   "metadata": {},
   "outputs": [],
   "source": [
    "# [imgs[k][np.newaxis,:,:] for k in inds]\n",
    "[flows[k] for k in inds]"
   ]
  },
  {
   "cell_type": "code",
   "execution_count": null,
   "id": "4539ae99-2ff7-4ab0-9b4a-8f9509b7b256",
   "metadata": {},
   "outputs": [],
   "source": [
    "plt.imshow(imgs[9][0])"
   ]
  },
  {
   "cell_type": "code",
   "execution_count": null,
   "id": "e571ea93-de65-43e9-b72a-9a565342b235",
   "metadata": {},
   "outputs": [],
   "source": [
    "diameters = np.array([utils.diameters(m)[0] for m in masks]) "
   ]
  },
  {
   "cell_type": "code",
   "execution_count": null,
   "id": "701bf8fe-676c-4d49-a2a1-cc43520b3334",
   "metadata": {},
   "outputs": [],
   "source": [
    "diameters"
   ]
  },
  {
   "cell_type": "code",
   "execution_count": null,
   "id": "875763fb-877b-4a4c-aa68-3af8037dfc18",
   "metadata": {},
   "outputs": [],
   "source": [
    "model.diameters"
   ]
  },
  {
   "cell_type": "code",
   "execution_count": null,
   "id": "62227747-24dd-41b8-8e2b-0918ee97f2e2",
   "metadata": {},
   "outputs": [],
   "source": [
    "len(masks)"
   ]
  },
  {
   "cell_type": "code",
   "execution_count": null,
   "id": "4e9d9aa8-69d2-4dbe-a3a8-a2c1a7205164",
   "metadata": {},
   "outputs": [],
   "source": []
  }
 ],
 "metadata": {
  "kernelspec": {
   "display_name": "Python 3",
   "language": "python",
   "name": "python3"
  },
  "language_info": {
   "codemirror_mode": {
    "name": "ipython",
    "version": 3
   },
   "file_extension": ".py",
   "mimetype": "text/x-python",
   "name": "python",
   "nbconvert_exporter": "python",
   "pygments_lexer": "ipython3",
   "version": "3.8.10"
  }
 },
 "nbformat": 4,
 "nbformat_minor": 5
}
