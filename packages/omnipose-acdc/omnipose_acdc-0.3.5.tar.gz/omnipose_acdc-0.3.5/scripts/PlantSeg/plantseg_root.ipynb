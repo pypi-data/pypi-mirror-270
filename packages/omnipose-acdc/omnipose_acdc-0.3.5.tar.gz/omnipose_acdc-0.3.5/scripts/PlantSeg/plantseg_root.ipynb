{
 "cells": [
  {
   "cell_type": "markdown",
   "id": "ad144649-04ad-4112-9a8d-5129540b085e",
   "metadata": {},
   "source": [
    "This script parses the PlantSeg LateralRootPrimordia dataset that we used in our paper. It comes in HDF5 format, and many have an 'ignore' label that will not work with Omnipose without some special revisions. We tossed out any data with this -1 label, but kept the files in their 'test' or 'train' folders. The images were downsampled by 1/3 to get cells in the range of 20-30px in diameter. This was done only to speed up training and evaluation with far smaller volumes. "
   ]
  },
  {
   "cell_type": "code",
   "execution_count": null,
   "id": "16ea094c-29de-428e-8597-e8e4ca120e56",
   "metadata": {},
   "outputs": [],
   "source": [
    "%load_ext autoreload\n",
    "%autoreload 2\n",
    "\n",
    "\n",
    "import numpy as np\n",
    "import time, os, sys\n",
    "\n",
    "import skimage.io\n",
    "import matplotlib.pyplot as plt\n",
    "plt.style.use('dark_background')\n",
    "import matplotlib as mpl\n",
    "%matplotlib inline\n",
    "mpl.rcParams['figure.dpi'] = 300\n",
    "\n",
    "from scipy.ndimage import binary_closing,grey_closing\n",
    "from skimage import measure\n",
    "import napari \n",
    "import omnipose\n",
    "import ncolor \n",
    "from omnipose.utils import sinebow\n",
    "\n",
    "from scipy.ndimage import gaussian_filter\n",
    "from omnipose.utils import normalize99, rescale\n",
    "from scipy.ndimage import gaussian_filter\n",
    "\n",
    "def localnormalize(im,sigma1=2,sigma2=3):\n",
    "    im = normalize99(im)\n",
    "    blur1 = gaussian_filter(im,sigma=sigma1)\n",
    "    num = im - blur1\n",
    "    blur2 = gaussian_filter(num*num, sigma=sigma2)\n",
    "    den = np.sqrt(blur2)\n",
    "    \n",
    "    return normalize99(num/den+1e-8)\n",
    "\n",
    "def cyclic_perm(a):\n",
    "    n = len(a)\n",
    "    b = [[a[i - j] for i in range(n)] for j in range(n)]\n",
    "    return b\n",
    "\n",
    "import tifffile\n",
    "from omnipose import core\n",
    "import cellpose.core\n",
    "use_GPU = cellpose.core.use_gpu()"
   ]
  },
  {
   "cell_type": "code",
   "execution_count": null,
   "id": "24849868-f55a-426d-8c55-59e62a1aa6ba",
   "metadata": {},
   "outputs": [],
   "source": [
    "from cellpose import io\n",
    "save0 = '/home/kcutler/DataDrive/plantseg/traintest/LateralRootPrimordia/'\n",
    "export = '/home/kcutler/DataDrive/plantseg/traintest/LateralRootPrimordia/export_good'\n",
    "export = '/home/kcutler/DataDrive/plantseg/traintest/LateralRootPrimordia/export_small'\n",
    "export = '/home/kcutler/DataDrive/plantseg/traintest/LateralRootPrimordia/export_small_all'\n",
    "io.check_dir(export)\n",
    "savedir = []\n",
    "expdir = []\n",
    "cpdir = []\n",
    "ext = '.tif'\n",
    "subset = ['test','train']\n",
    "for s in subset:\n",
    "    sd = os.path.join(save0,s)\n",
    "    savedir.append(sd)\n",
    "    sd = os.path.join(export,s)\n",
    "    io.check_dir(sd)\n",
    "    expdir.append(sd)\n",
    "    sd = os.path.join(export,'cellpose',s)\n",
    "    io.check_dir(sd)\n",
    "    cpdir.append(sd)\n",
    "savedir,expdir,cpdir"
   ]
  },
  {
   "cell_type": "code",
   "execution_count": null,
   "id": "91efc2e9-7808-433d-b050-e3f067c1728c",
   "metadata": {},
   "outputs": [],
   "source": [
    "# Make a function that extracts the file name \n",
    "from pathlib import Path\n",
    "def getname(path,suffix=''):\n",
    "    return os.path.splitext(Path(path).name)[0].replace(suffix,'')"
   ]
  },
  {
   "cell_type": "code",
   "execution_count": null,
   "id": "dc377b8a-6936-457e-a610-0f09f8cdb457",
   "metadata": {},
   "outputs": [],
   "source": [
    "#prepare to read from the hd5 files \n",
    "import h5py, fastremap\n",
    "d = []\n",
    "names = []\n",
    "ext = '.tif'\n",
    "# bad = [4,6,10,12,14,16,18,20]"
   ]
  },
  {
   "cell_type": "code",
   "execution_count": null,
   "id": "55e59c01-09b9-40b4-a5fd-8a8e80eb7393",
   "metadata": {
    "tags": []
   },
   "outputs": [],
   "source": [
    "import scipy\n",
    "do_all = True # training was done on the limited dataset; testing done on full, ignoring other regions?\n",
    "downsize = True\n",
    "factor = 1/3"
   ]
  },
  {
   "cell_type": "code",
   "execution_count": null,
   "id": "e69b743c-b7e5-4f1b-b511-a30d0aba2fe5",
   "metadata": {
    "jupyter": {
     "outputs_hidden": true,
     "source_hidden": true
    },
    "tags": []
   },
   "outputs": [],
   "source": [
    "for folder,newfolder in zip(savedir,expdir):\n",
    "    image_names = io.get_image_files(folder,extensions=['h5'])\n",
    "    for filename in image_names:\n",
    "        with h5py.File(filename, \"r\") as f:\n",
    "            name = getname(filename)\n",
    "            # if not np.any([\"%04d\" % b in name for b in bad]):\n",
    "\n",
    "            # List all groups\n",
    "            print(\"Keys: %s\" % f.keys())\n",
    "\n",
    "            masks = np.array(f['label'])            \n",
    "            # if do_all:\n",
    "            #     masks[masks<1] = 0 # just set all ignore regions to zero\n",
    "            print(masks.min(),name)\n",
    "            if masks.min()==1 or do_all:\n",
    "                masks = omnipose.utils.format_labels(masks,ignore=do_all) # this corrects for any duplicate labes on distinct cells\n",
    "                img = np.array(f['raw'])\n",
    "                fastremap.renumber(masks,in_place=True)\n",
    "                labels = fastremap.refit(masks)\n",
    " \n",
    "                if downsize:\n",
    "                    labels = scipy.ndimage.zoom(labels, factor, order=0)\n",
    "                    img = scipy.ndimage.zoom(img, factor, order=1)\n",
    "                    \n",
    "                # tifffile.imwrite(os.path.join(newfolder,name+ext),np.uint8(omnipose.utils.normalize99(img)*(2**8-1)))\n",
    "                tifffile.imwrite(os.path.join(newfolder,name+ext),img)\n",
    "                tifffile.imwrite(os.path.join(newfolder,name+'_masks'+ext),labels)\n",
    "                d.append(omnipose.core.diameters(labels))\n",
    "                # mlist.append(masks)\n",
    "                names.append(name)\n",
    "           "
   ]
  },
  {
   "cell_type": "markdown",
   "id": "dcbbe355-3fe3-40ec-8a4b-1df19c0ffffe",
   "metadata": {
    "tags": []
   },
   "source": [
    "The above files will be used for Omnipose in 3D. To train Cellpose, we have to slice these volumes along each axis. This will produce a lot of images. I'll just be doing it on the AWS server prior to training. Turns out this is 3,070 training images. "
   ]
  },
  {
   "cell_type": "code",
   "execution_count": null,
   "id": "710ac909-26fa-4218-93fa-b9746d0be607",
   "metadata": {},
   "outputs": [],
   "source": [
    "d = 3\n",
    "idx = np.arange(d)\n",
    "c = np.array([0]*(d-2)+[1]*2)\n",
    "cyclic_perm(c),idx,c\n",
    "ext = '.tif'\n",
    "a = 'zyx'\n",
    "# for basedir,save0 in zip(expdir,cpdir):\n",
    "for basedir,save0 in zip([expdir[1]],[cpdir[1]]): #only do train \n",
    "\n",
    "    mask_filter = '_masks'\n",
    "    img_names = io.get_image_files(basedir,mask_filter)\n",
    "    mask_names,_ = io.get_label_files(img_names, mask_filter)\n",
    "\n",
    "    for p1,p2 in zip(img_names,mask_names):\n",
    "        img = tifffile.imread(p1)\n",
    "        mask = tifffile.imread(p2)\n",
    "        s = img.shape\n",
    "        name = getname(p1)\n",
    "\n",
    "        for inds,i in zip(cyclic_perm(c),idx):\n",
    "            for k in range(s[i]):\n",
    "                slc = tuple([slice(-1) if i else k for i in inds])\n",
    "                suffix = '_'+a[i]+'{:03d}'.format(k)\n",
    "                l = omnipose.utils.format_labels(mask[slc],clean=True) # this corrects for any duplicate labels on distinct cells\n",
    "                if np.any(l): # only keep slices that have masks\n",
    "                    tifffile.imwrite(os.path.join(save0,name+suffix+ext),img[slc])\n",
    "                    tifffile.imwrite(os.path.join(save0,name+suffix+'_masks'+ext),l)"
   ]
  },
  {
   "cell_type": "markdown",
   "id": "3cfe1d24-d050-46dd-b483-544402df0b20",
   "metadata": {},
   "source": [
    "### Load data"
   ]
  },
  {
   "cell_type": "code",
   "execution_count": null,
   "id": "250f53a0-50ad-4278-a12b-cca014ce6666",
   "metadata": {
    "tags": []
   },
   "outputs": [],
   "source": [
    "imgs = []\n",
    "masks_gt = []\n",
    "k = 0 #just test files now, switch to 1 to look at training set\n",
    "for basedir,save0 in zip([expdir[k]],[cpdir[k]]): \n",
    "    mask_filter = '_masks'\n",
    "    img_names = io.get_image_files(basedir,mask_filter)\n",
    "    mask_names = io.get_label_files(img_names, mask_filter)\n",
    "\n",
    "    for p1,p2 in zip(img_names,mask_names):\n",
    "        imgs.append(tifffile.imread(p1))\n",
    "        mgt = tifffile.imread(p2)\n",
    "        mgt = omnipose.utils.format_labels(mgt,clean=True,verbose=False,ignore=do_all)\n",
    "        masks_gt.append(mgt)\n",
    "# count cells in test set\n",
    "c = 0\n",
    "for mgt in masks_gt:\n",
    "    c+=len(fastremap.unique(mgt))-1 #ignore 0"
   ]
  },
  {
   "cell_type": "code",
   "execution_count": null,
   "id": "40930c03-e1dc-45cb-a7d8-1ffda73d72c6",
   "metadata": {
    "tags": []
   },
   "outputs": [],
   "source": [
    "print('number of cells in {} is {}, number of images is {}'.format(subset[k],c,len(imgs)))"
   ]
  },
  {
   "cell_type": "code",
   "execution_count": null,
   "id": "a632389d-6e21-44bb-8e52-b822b3996593",
   "metadata": {
    "tags": []
   },
   "outputs": [],
   "source": [
    "%matplotlib inline\n",
    "plt.imshow(masks[masks.shape[0]//2])"
   ]
  },
  {
   "cell_type": "code",
   "execution_count": null,
   "id": "3775f410-b65d-4dc0-b14a-fe4f5b486a35",
   "metadata": {
    "tags": []
   },
   "outputs": [],
   "source": [
    "# plt.imshow(img[img.shape[0]//2])\n",
    "# img.shape,masks.shape\n",
    "604"
   ]
  },
  {
   "cell_type": "code",
   "execution_count": null,
   "id": "9c10437f-8909-478d-9c2a-7f728bb0455c",
   "metadata": {
    "tags": []
   },
   "outputs": [],
   "source": [
    "# save slices theough each axis for figures\n",
    "%matplotlib inline\n",
    "from omnipose.utils import rescale, sinebow\n",
    "from cellpose import plot\n",
    "\n",
    "cmap = plt.get_cmap(name='viridis')\n",
    "x = np.linspace(0,1,1000)\n",
    "colors=cmap(1-x)\n",
    "colors[...,-1] = x\n",
    "cmap = {\n",
    "    'colors': colors,\n",
    "    'name': 'custom',\n",
    "    'interpolation': 'linear'\n",
    "}\n",
    "cmap = ListedColormap(list(colors))\n",
    "\n",
    "save0 = os.path.join('/home/kcutler/DataDrive/omnipose_paper/Figure 7','slices',subset[k])\n",
    "io.check_dir(save0)\n",
    "\n",
    "fig = plt.figure(figsize=[20]*2)\n",
    "def cyclic_perm(a):\n",
    "    n = len(a)\n",
    "    b = [[a[i - j] for i in range(n)] for j in range(n)]\n",
    "    return b\n",
    "\n",
    "for i,name in enumerate([names[0]]):\n",
    "    print(name,i)\n",
    "    for j in range(len(imgs)):\n",
    "        img = omnipose.utils.normalize99(imgs[j]**.2)\n",
    "        mgt = masks_gt[j]\n",
    "        mnc = ncolor.label(mgt)\n",
    "        smap = sinebow(mnc.max()+1)\n",
    "        smap = ListedColormap(list(smap.values()))\n",
    "        # plot flow and dist slices \n",
    "        d = img.ndim\n",
    "        c = np.array([0]*(d-2)+[1]*2)\n",
    "\n",
    "        slices = []\n",
    "        idx = np.arange(d)\n",
    "        for inds in cyclic_perm(c):\n",
    "            slc = tuple([slice(None) if i else img.shape[k]//2 for i,k in zip(inds,idx)])\n",
    "            # mgtnc = ncolor.label(mgt[slc])\n",
    "            mgtnc = mnc[slc]\n",
    "            \n",
    "            pic = smap(mgtnc)\n",
    "            pic[...,-1] = mgtnc>0\n",
    "            tifffile.imwrite(os.path.join(save0,'slice_'+str(j)+'_'+str(inds)+'_gt.tif'),np.uint8(omnipose.utils.rescale(pic)*(2**8-1)))\n",
    "            plt.imshow(mgt[slc],interpolation='none')\n",
    "            pic = cmap(img[slc])\n",
    "            # pic[...,-1] = imgs[j][slc]\n",
    "            tifffile.imwrite(os.path.join(save0,'slice_'+str(j)+'_'+str(inds)+'_img.tif'),np.uint8(omnipose.utils.rescale(pic)*(2**8-1)))\n",
    "            # plt.imshow(pic)\n",
    "            # plt.imshow(mnc[slc],interpolation='none')\n",
    "            plt.axis('off')\n",
    "            plt.show()"
   ]
  },
  {
   "cell_type": "markdown",
   "id": "5cd702c3-d631-4aa0-ade6-f12f53d759c5",
   "metadata": {
    "tags": []
   },
   "source": [
    "### Plot in 3D"
   ]
  },
  {
   "cell_type": "code",
   "execution_count": null,
   "id": "f5a25626-2150-4a9f-8c48-28613117d4dc",
   "metadata": {
    "tags": []
   },
   "outputs": [],
   "source": [
    "# im = imgs[0]\n",
    "# mask = masks_gt[0]\n",
    "im = tiffile.imread('/Volumes/DataDrive/plantseg/traintest/LateralRootPrimordia/export/train/Movie3_T00004_crop_gt.tif')\n",
    "mask = tiffile.imread('/Volumes/DataDrive/plantseg/traintest/LateralRootPrimordia/export/train/Movie3_T00004_crop_gt_masks.tif')\n",
    "\n",
    "dim = mask.ndim\n",
    "# fgt = omnipose.core.labels_to_flows(mask,dim=dim)\n",
    "# dt = fgt[1]\n",
    "# mu = fgt[2:2+dim]\n",
    "# sd = fgt[-1]\n",
    "\n",
    "_, dt, sd, mu = omnipose.core.masks_to_flows(mask,use_gpu=True,dim=dim,omni=True)"
   ]
  },
  {
   "cell_type": "code",
   "execution_count": null,
   "id": "ca64a42e-9a0a-4461-bdfa-0ce6c1158636",
   "metadata": {
    "tags": []
   },
   "outputs": [],
   "source": [
    "viewer = napari.view_image(omnipose.utils.rescale(sd), name='distance',gamma=0.2,attenuation=0.05,depiction='volume')\n",
    "viewer.add_image(omnipose.utils.rescale(dt==1), name='boundary',visible=True)\n",
    "mnc = ncolor.label(mask,max_depth=11)\n",
    "viewer.add_labels(mnc, name='labels_gt',visible = False, color=sinebow(mnc.max()))"
   ]
  },
  {
   "cell_type": "code",
   "execution_count": null,
   "id": "b1428a2d-8687-4263-8df7-f43cdeabd298",
   "metadata": {
    "tags": []
   },
   "outputs": [],
   "source": [
    "from cellpose import plot\n",
    "rgb = plot.dx_to_circ(mu,transparency=0)\n",
    "# for k,s in enumerate('RGB'):\n",
    "#     viewer.add_image(rgb[...,k], name=s,visible=True)\n",
    "viewer.add_image(rgb, channel_axis=-1, name=['R','G','B']) #, colormap=['red', 'green', 'blue']"
   ]
  },
  {
   "cell_type": "code",
   "execution_count": null,
   "id": "960f8573-0157-4eec-aeaf-d9c3f02e3e39",
   "metadata": {
    "tags": []
   },
   "outputs": [],
   "source": [
    "# cmaps = ['Reds','Greens','Blues']\n",
    "# x = np.linspace(0,1,100)\n",
    "# z = np.zeros_like(x)\n",
    "# o = np.ones_like(x)\n",
    "# o[0] = 0\n",
    "# red = np.stack((x,z,z,o),axis=-1)\n",
    "# green = np.stack((z,x,z,o),axis=-1)\n",
    "# blue = np.stack((z,z,x,o),axis=-1)\n",
    "# colors = [red,green,blue]\n",
    "# for k,s in enumerate('RGB'):\n",
    "#     # cmap = plt.get_cmap(name=cmaps[k])\n",
    "#     # # colors=cmap(1-x)\n",
    "#     # colors = cmap(x)\n",
    "#     # colors[...,-1] = x\n",
    "    \n",
    "#     new_colormap = {\n",
    "#         'colors': colors[k],\n",
    "#         'name': 'custom',\n",
    "#         'interpolation': 'linear'\n",
    "#     }\n",
    "    \n",
    "#     viewer.layers[s].colormap = new_colormap\n",
    "#     # viewer.layers[s].colormap = 'gray_r'\n",
    "#     # viewer.layers[s].rendering= 'translucent'\n",
    "#     # # viewer.layers[s].contrast_limits=[0,1]\n",
    "#     # viewer.layers[s].blending = 'additive'\n",
    "#     # viewer.layers[s].opacity = 1\n",
    "#     # viewer.layers[s].attenuation = .1"
   ]
  },
  {
   "cell_type": "code",
   "execution_count": null,
   "id": "f5f4d64f-ebda-4d9f-b391-97c445734ac4",
   "metadata": {
    "tags": []
   },
   "outputs": [],
   "source": []
  },
  {
   "cell_type": "code",
   "execution_count": null,
   "id": "b8e525db-b556-4eff-bfc5-ef5d9be666a3",
   "metadata": {
    "tags": []
   },
   "outputs": [],
   "source": [
    "# # plt.get_cmap(name=cmaps[k])\n",
    "# # np.stack([c in rgb],axis=-1)\n",
    "# viewer.add_image(rgb, name='rgb',visible=True,rgb=True)"
   ]
  },
  {
   "cell_type": "code",
   "execution_count": null,
   "id": "cf945d28-e91d-442f-a132-c373c04a733c",
   "metadata": {
    "tags": []
   },
   "outputs": [],
   "source": [
    "viewer.dims.ndisplay = 3\n",
    "viewer.camera.center = [s//2 for s in im.shape]\n",
    "viewer.camera.zoom=1.75\n",
    "viewer.camera.angles=(49.01724873267338, -59.486485045019705, 36.815397248657874)\n",
    "viewer.camera.perspective=0.0\n",
    "viewer.camera.interactive=True"
   ]
  },
  {
   "cell_type": "code",
   "execution_count": null,
   "id": "bce14b25-856a-4a80-b99f-399c5f5db7c1",
   "metadata": {
    "tags": []
   },
   "outputs": [],
   "source": [
    "cmap = plt.get_cmap(name='magma')\n",
    "x = np.linspace(0,1,100)\n",
    "colors=cmap(1-x)\n",
    "# colors = cmap(x)\n",
    "colors[...,-1] = x\n",
    "# colors[0,...,-1] = 0\n",
    "new_colormap = {\n",
    "    'colors': colors,\n",
    "    'name': 'custom',\n",
    "    'interpolation': 'linear'\n",
    "}\n",
    "for key in ['distance']:\n",
    "    viewer.layers[key].colormap = new_colormap\n",
    "    viewer.layers[key].rendering='translucent'\n",
    "    viewer.layers[key].contrast_limits=[0,1]\n",
    "    \n",
    "cmap = plt.get_cmap(name='inferno')\n",
    "x = np.linspace(0,1,100)\n",
    "colors=cmap(1-x)\n",
    "# colors = cmap(x)\n",
    "colors[...,-1] = x\n",
    "new_colormap = {\n",
    "    'colors': colors,\n",
    "    'name': 'custom',\n",
    "    'interpolation': 'linear'\n",
    "}\n",
    "\n",
    "key = 'boundary'\n",
    "viewer.layers[key].colormap = new_colormap\n",
    "viewer.layers[key].rendering='attenuated_mip'\n",
    "viewer.layers[key].contrast_limits=[0,1]"
   ]
  },
  {
   "cell_type": "code",
   "execution_count": null,
   "id": "6f52dd69-1a41-4f0d-9658-ae184af90ea9",
   "metadata": {
    "tags": []
   },
   "outputs": [],
   "source": [
    "# add axes\n",
    "n_axes = 3\n",
    "vectors = np.zeros((n_axes, 2, 3), dtype=np.float32)\n",
    "x_px = np.array([1, 0, 0])\n",
    "y_py = np.array([0, 1, 0])\n",
    "z_pz = np.array([0, 0, 1])\n",
    "vectors[0, 1] = x_px\n",
    "vectors[1, 1] = y_py\n",
    "vectors[2, 1] = z_pz\n",
    "for k in range(im.ndim):\n",
    "    viewer.add_vectors(vectors[k], name='ax'+str(k), edge_width=1,edge_color='k',blending='translucent_no_depth', length=im.shape[k])"
   ]
  },
  {
   "cell_type": "code",
   "execution_count": null,
   "id": "4d061edd-874f-4ed4-9ebe-648ba60daf5d",
   "metadata": {
    "tags": []
   },
   "outputs": [],
   "source": [
    "basedir = '/home/kcutler/DataDrive/omnipose_paper/Figure 7/gt'\n",
    "io.check_dir(basedir)\n",
    "layerlist = ['distance','boundary','labels_gt']\n",
    "for name in layerlist:\n",
    "    viewer.layers[name].visible = False\n",
    "\n",
    "for name in layerlist:\n",
    "    viewer.layers[name].visible = True\n",
    "\n",
    "    img = viewer.screenshot(size=(2000,2000),scale=1,canvas_only=True,flash=False)\n",
    "    viewer.layers[name].visible = False\n",
    "\n",
    "    io.imsave(os.path.join(basedir,'3D_'+name+'_seg.png'),img)"
   ]
  },
  {
   "cell_type": "code",
   "execution_count": null,
   "id": "67867c2f-4c01-42e0-8cb5-613d7cda5692",
   "metadata": {
    "tags": []
   },
   "outputs": [],
   "source": [
    "# Show Euler integration \n",
    "dists = dt.copy()\n",
    "dists[dists==0]=-5\n",
    "cell_ID = 1\n",
    "inds = np.array(np.nonzero(mask==cell_ID)).astype(np.int32)\n",
    "masks_pred, p, tr = omnipose.core.compute_masks(mu,dists,inds=inds,calc_trace=True,use_gpu=1,\n",
    "                                           omni=1,niter=200,interp=1,mask_threshold=-1,verbose=True,\n",
    "                                          flow_threshold = 0.0, min_size=0, dim=3, cluster=1)"
   ]
  },
  {
   "cell_type": "code",
   "execution_count": null,
   "id": "34cab52a-bc3e-426b-88cb-0eb923544100",
   "metadata": {
    "tags": []
   },
   "outputs": [],
   "source": [
    "# np.unique(masks_pred)\n",
    "# tr.shape\n",
    "bd_inds = np.argwhere(dists[tuple(inds)]==1) # which of the inds correspond to bpundary points"
   ]
  },
  {
   "cell_type": "code",
   "execution_count": null,
   "id": "38355407-0deb-4923-b5ff-d66dfab7e8d4",
   "metadata": {
    "tags": []
   },
   "outputs": [],
   "source": [
    "# bd_inds = np.array(np.nonzero(dists[tuple(inds)]==1))\n",
    "bd_inds = np.hstack(np.argwhere(dists[tuple(inds)]==1)) #equivalent, better shape\n",
    "tr[:,bd_inds,:].shape"
   ]
  },
  {
   "cell_type": "code",
   "execution_count": null,
   "id": "e326b52a-7d23-482d-ac08-1e0de5720f7e",
   "metadata": {
    "tags": []
   },
   "outputs": [],
   "source": [
    "bd_inds"
   ]
  },
  {
   "cell_type": "code",
   "execution_count": null,
   "id": "4db482fc-8bda-44d2-833e-ac089cf842b1",
   "metadata": {
    "tags": []
   },
   "outputs": [],
   "source": [
    "tracks = []\n",
    "# for ID in bd_inds:\n",
    "for ID in np.random.choice(bd_inds,len(bd_inds)//1):\n",
    "\n",
    "    track = tr[:,ID,:].T\n",
    "    times = np.arange(0,points.shape[0])[...,np.newaxis]\n",
    "    IDs = np.ones_like(times)*ID\n",
    "    \n",
    "#      # calculate the speed as a feature\n",
    "#     gz = np.gradient(track[:, 2])\n",
    "#     gy = np.gradient(track[:, 3])\n",
    "#     gx = np.gradient(track[:, 4])\n",
    "\n",
    "#     speed = np.sqrt(gx ** 2 + gy ** 2 + gz ** 2)\n",
    "#     distance = np.sqrt(x ** 2 + y ** 2 + z ** 2)\n",
    "\n",
    "#     track[:, 5] = gz\n",
    "#     track[:, 6] = gy\n",
    "#     track[:, 7] = gx\n",
    "#     track[:, 8] = speed\n",
    "#     track[:, 9] = distance\n",
    "    \n",
    "    \n",
    "    tracks.append(np.concatenate([IDs,times,track],axis=-1))\n",
    "tracks = np.concatenate(tracks, axis=0)\n",
    "features = {\n",
    "    'time': tracks[:, 1]\n",
    "}\n",
    "    #     'gradient_z': tracks[:, 5],\n",
    "    #     'gradient_y': tracks[:, 6],\n",
    "    #     'gradient_x': tracks[:, 7],\n",
    "    #     'speed': tracks[:, 8],\n",
    "    #     'distance': tracks[:, 9],\n",
    "    # }"
   ]
  },
  {
   "cell_type": "code",
   "execution_count": null,
   "id": "cd1b7c3f-8f78-4caa-9990-8df42d101210",
   "metadata": {
    "tags": []
   },
   "outputs": [],
   "source": [
    "viewer.add_tracks(tracks,colormap='magma',features=features, color_by='time', blending='translucent')\n"
   ]
  },
  {
   "cell_type": "code",
   "execution_count": null,
   "id": "e2731151-854c-4cd1-ae3a-ed7362b2675a",
   "metadata": {
    "tags": []
   },
   "outputs": [],
   "source": [
    "img = viewer.screenshot(size=(4000,)*2,scale=1,canvas_only=True,flash=False)"
   ]
  },
  {
   "cell_type": "code",
   "execution_count": null,
   "id": "30776a05-63e5-440e-8364-518f19cdea2c",
   "metadata": {
    "tags": []
   },
   "outputs": [],
   "source": [
    "basedir = '/home/kcutler/DataDrive/omnipose_paper/Figure 7/tracks'\n",
    "io.check_dir(basedir)\n",
    "io.imsave(os.path.join(basedir,'3D_'+str(cell_ID)+'_tracks.png'),img)"
   ]
  },
  {
   "cell_type": "code",
   "execution_count": null,
   "id": "0ac3e1c6-582e-48c4-b865-4ebe700faa2f",
   "metadata": {
    "tags": []
   },
   "outputs": [],
   "source": [
    "viewer.add_labels(masks_pred, name='single',visible = False)"
   ]
  },
  {
   "cell_type": "code",
   "execution_count": null,
   "id": "9e0fd5bb-bcbf-43b2-82d2-9a364c776bc0",
   "metadata": {
    "tags": []
   },
   "outputs": [],
   "source": [
    "m = np.zeros_like(dists,dtype=int)\n",
    "m[tuple(inds)] = 1\n",
    "viewer.add_labels(m, name='single_gt',visible = False)"
   ]
  },
  {
   "cell_type": "code",
   "execution_count": null,
   "id": "7acedbe7-fda5-4fb6-b8a8-a1f430be0f1a",
   "metadata": {
    "tags": []
   },
   "outputs": [],
   "source": [
    "%matplotlib widget\n",
    "# plt.imshow(masks_pred[masks_pred.shape[0]//2])\n",
    "plt.imshow(mask[mask.shape[0]//2])\n",
    "\n",
    "# viewer = napari.view_image(omnipose.utils.rescale(sd), name='distance',gamma=0.2,attenuation=0.05,depiction='volume')\n",
    "# mnc = ncolor.label(masks_pred,max_depth=11)\n",
    "# viewer.add_labels(mnc, name='labels_pred',visible = False, color=sinebow(mnc.max()))"
   ]
  },
  {
   "cell_type": "markdown",
   "id": "71eb4bce-7737-4e72-b778-9196dd872517",
   "metadata": {
    "tags": []
   },
   "source": [
    "### Run Cellpose3D"
   ]
  },
  {
   "cell_type": "code",
   "execution_count": null,
   "id": "a2a8e6bb-cda5-441f-9eef-77e3c031a062",
   "metadata": {},
   "outputs": [],
   "source": [
    "# Cellpose seems to need training with  --chan 2 --chan2 1 \n",
    "modeldir = '/home/kcutler/DataDrive/plantseg/traintest/LateralRootPrimordia/export_small/cellpose/train/models/cellpose_residual_on_style_on_concatenation_off_train_2022_05_09_01_43_03.829853_epoch_499'\n",
    "omni = False\n",
    "rescale = False\n",
    "diam_mean = 0\n",
    "from cellpose import models, core\n",
    "use_GPU = core.use_gpu()\n",
    "model = models.CellposeModel(gpu=use_GPU, pretrained_model=modeldir, net_avg=False, \n",
    "                             diam_mean=diam_mean)\n"
   ]
  },
  {
   "cell_type": "code",
   "execution_count": null,
   "id": "52f22892-5d63-460c-923d-a49c7ea6b8f6",
   "metadata": {
    "jupyter": {
     "outputs_hidden": true
    },
    "tags": []
   },
   "outputs": [],
   "source": [
    "mask_threshold = 0 ##############\n",
    "net_avg = 0\n",
    "verbose = 0 #####\n",
    "\n",
    "tile = 0\n",
    "chans = [0,0]\n",
    "# chans = None\n",
    "compute_masks = 1\n",
    "# n = [0]\n",
    "rescale = None\n",
    "\n",
    "masks_cp, flows_cp, _ = model.eval(imgs,channels = chans,rescale=rescale,\n",
    "                                  mask_threshold=mask_threshold, net_avg=net_avg,\n",
    "                                  transparency=True, flow_threshold=0., verbose=verbose,tile=1,\n",
    "                                  compute_masks=compute_masks, do_3D=True, omni=False)"
   ]
  },
  {
   "cell_type": "code",
   "execution_count": null,
   "id": "89292ccc-d0e6-4511-bf60-359b967b86f5",
   "metadata": {},
   "outputs": [],
   "source": [
    "# now do Omnipose\n",
    "\n",
    "#best\n",
    "modeldir = '/home/kcutler/DataDrive/plantseg/traintest/LateralRootPrimordia/export_small/train/models/cellpose_residual_on_style_on_concatenation_off_omni_train_2022_05_08_01_56_56.310115_epoch_1951'\n",
    "# no improvement over cp somehow \n",
    "# modeldir = '/home/kcutler/DataDrive/plantseg/traintest/LateralRootPrimordia/export_small/train/models/cellpose_residual_on_style_on_concatenation_off_omni_train_2022_05_08_01_56_56.310115_epoch_2951'\n",
    "# try stepping back; now a ral improvement over 1951\n",
    "modeldir = '/home/kcutler/DataDrive/plantseg/traintest/LateralRootPrimordia/export_small/train/models/cellpose_residual_on_style_on_concatenation_off_omni_train_2022_05_08_01_56_56.310115_epoch_2901'\n",
    "# 2901 is great, 3051 is ok but not as strong, so try 3001 - also not as good as 1951\n",
    "# modeldir = '/home/kcutler/DataDrive/plantseg/traintest/LateralRootPrimordia/export_small/train/models/cellpose_residual_on_style_on_concatenation_off_omni_train_2022_05_08_01_56_56.310115_epoch_3001'\n",
    "#3551 also not great, nor is 3501, but 3401 is terrific, 3451 awful, 3201 meh despite low loss, 3351 bad, 3201 bad, 3251 pretty good, 3151 not great,3301 bad,\n",
    "# modeldir = '/home/kcutler/DataDrive/plantseg/traintest/LateralRootPrimordia/export_small/train/models/cellpose_residual_on_style_on_concatenation_off_omni_train_2022_05_08_01_56_56.310115_epoch_3401'\n",
    "# modeldir = '/home/kcutler/DataDrive/plantseg/traintest/LateralRootPrimordia/export_small/train/models/cellpose_residual_on_style_on_concatenation_off_omni_train_2022_05_08_01_56_56.310115_epoch_3301'\n",
    "\n",
    "dim = 3\n",
    "nclasses = dim+2\n",
    "nchan = 1\n",
    "omni = 1\n",
    "rescale = False\n",
    "diam_mean = 0\n",
    "from cellpose import models, core\n",
    "# use_GPU = core.use_gpu(3)\n",
    "# print('>>> GPU activated? %d'%use_GPU)\n",
    "use_GPU = 1\n",
    "model = models.CellposeModel(gpu=use_GPU, pretrained_model=modeldir, net_avg=False, \n",
    "                             diam_mean=diam_mean, nclasses=nclasses, dim=dim, nchan=nchan)#,device=torch.device('cuda:1'))\n",
    "model.pretrained_model"
   ]
  },
  {
   "cell_type": "code",
   "execution_count": null,
   "id": "cff1c7b9-4981-4bbf-b035-4033881eaceb",
   "metadata": {},
   "outputs": [],
   "source": [
    "mask_threshold = -5 ##############\n",
    "diam_threshold = 12\n",
    "net_avg = 0\n",
    "cluster = 0 ##########\n",
    "verbose = 1\n",
    "tile = 0\n",
    "chans = None\n",
    "compute_masks = 1\n",
    "resample=False\n",
    "rescale=None\n",
    "omni=True\n",
    "\n",
    "\n",
    "masks_om, flows_om, _ = model.eval(imgs,channels=None,rescale=rescale,mask_threshold=mask_threshold,net_avg=net_avg,\n",
    "                                  transparency=True,flow_threshold=0.,omni=omni,resample=resample,verbose=verbose,\n",
    "                                  diam_threshold=diam_threshold,cluster=cluster,tile=0,\n",
    "                                  compute_masks=compute_masks,flow_factor=10)\n",
    "#     else:"
   ]
  },
  {
   "cell_type": "code",
   "execution_count": null,
   "id": "1be72ae8-addd-42dd-b5e4-3d1192514a94",
   "metadata": {},
   "outputs": [],
   "source": [
    "from cellpose import io\n",
    "basedir = '/home/kcutler/DataDrive/omnipose_paper/Figure 7'\n",
    "io.check_dir(basedir)\n",
    "\n",
    "masks = [masks_cp,masks_om]\n",
    "flows = [flows_cp,flows_om]\n",
    "names = ['cellpose','omnipose']\n",
    "np.array(masks).shape"
   ]
  },
  {
   "cell_type": "code",
   "execution_count": null,
   "id": "4b59e0ee-e7ef-4842-b53b-9bc2a7d33cb6",
   "metadata": {},
   "outputs": [],
   "source": [
    "# now quanititative comparison \n",
    "from stardist import matching\n",
    "a = 0.5\n",
    "b = 1.0\n",
    "x = np.arange(a,b,(b-a)/100)\n",
    "fig = plt.figure()\n",
    "c = ['r','g']\n",
    "JI = []\n",
    "\n",
    "\n",
    "# confogure plot\n",
    "sz = 1\n",
    "golden = (1 + 5 ** 0.5) / 2\n",
    "labelsize = 7\n",
    "\n",
    "n = len(names)\n",
    "z = 1\n",
    "master_color_scheme = [[i,0,0] for i in np.linspace(1,.5,z)]+[[i,i,i] for i in np.linspace(.75,.25,n-z)]\n",
    "\n",
    "darkmode = 0\n",
    "if darkmode:\n",
    "    plt.style.use('dark_background')\n",
    "    axcol = 'w'\n",
    "    colors = sinebow(n+1)\n",
    "    colors = [colors[j+1] for j in range(n)]\n",
    "    background_color = 'k'\n",
    "    suffix = '_dark'\n",
    "else:\n",
    "    mpl.rcParams.update(mpl.rcParamsDefault)\n",
    "    axcol = 'k'\n",
    "    colors = master_color_scheme\n",
    "    # colors = sinebow(n+1)\n",
    "    # colors = [colors[j+1] for j in range(n)]\n",
    "    background_color = np.array([1,1,1,1])\n",
    "    suffix = ''\n",
    "\n",
    "mpl.rcParams['figure.dpi'] = 300\n",
    "fig = plt.figure(figsize=(sz, sz)) \n",
    "ax = plt.axes()\n",
    "\n",
    "plt.xticks(np.arange(min(x), max(x)+1, .25))\n",
    "plt.xlim([0.5,1])\n",
    "plt.ylim([0,.5])\n",
    "\n",
    "\n",
    "for i,name in enumerate(names):\n",
    "    met =[matching.matching(mgt,m, thresh=thresh) for mgt,m in zip(masks_gt, masks[i])]\n",
    "    a = np.array([[met[k][i].accuracy for i in range(len(thresh))] for k in range(len(met))]).T\n",
    "    np.save(os.path.join(basedir,name+'_3D_plants_individual'),a)\n",
    "    a = np.mean(a,axis=1)\n",
    "    JI.append(a)\n",
    "    plt.plot(x,a, label=name,c=colors[i],linewidth=.5)#+['masks_cp'])\n",
    "    np.save(os.path.join(basedir,name+'cellpose_3D_plants'),a)\n",
    "    # plt.legend\n",
    "    \n",
    "# ax.legend(prop={'size': labelsize}, loc='upper left', frameon=False,bbox_to_anchor=(1.05, 1))\n",
    "ax.tick_params(axis='both', which='major', labelsize=labelsize,length=3, direction=\"out\",colors=axcol,bottom=True,left=True)\n",
    "ax.tick_params(axis='both', which='minor', labelsize=labelsize,length=3, direction=\"out\",colors=axcol,bottom=True,left=True)\n",
    "\n",
    "ax.set_ylabel('Jaccard Index', fontsize = labelsize)\n",
    "ax.set_xlabel('IoU matching threshold', fontsize = labelsize)\n",
    "\n",
    "\n",
    "ax.spines['right'].set_visible(False)\n",
    "ax.spines['top'].set_visible(False)\n",
    "ax.patch.set_alpha(0.0)\n",
    "\n",
    "fig.patch.set_facecolor(background_color)\n",
    "plt.show()\n",
    "\n",
    "figname = 'JI_vs_IoU'\n",
    "for ext in ['.pdf','.png','.eps']:\n",
    "    fig.savefig(os.path.join(basedir,figname+suffix+ext),bbox_inches=\"tight\",pad_inches = 0.05)\n"
   ]
  },
  {
   "cell_type": "code",
   "execution_count": null,
   "id": "46feefbb-e333-42df-8d06-cb325c2b988f",
   "metadata": {
    "tags": []
   },
   "outputs": [],
   "source": [
    "cutoff = 80 # IoU cutoff of 0.8\n",
    "\n",
    "cp = JI[0].T\n",
    "om = JI[1].T\n",
    "\n",
    "av_all = np.mean(np.divide((om-cp),cp,out=np.zeros_like(cp), where=np.logical_and(cp!=0,~np.isnan(cp))))\n",
    "av_up = np.mean(np.divide((om[cutoff:]-cp[cutoff:]),cp[cutoff:],out=np.zeros_like(cp[cutoff:]), where=np.logical_and(cp[cutoff:]!=0,~np.isnan(cp[cutoff:]))))\n",
    "av_dwn = np.mean(np.divide((om[:cutoff]-cp[:cutoff]),cp[:cutoff],out=np.zeros_like(cp[:cutoff]), where=np.logical_and(cp[:cutoff]!=0,~np.isnan(cp[:cutoff]))))\n",
    "\n",
    "print(av_all*100,av_up*100,av_dwn*100,(np.mean(om)-np.mean(cp))/np.mean(cp)*100) # turn"
   ]
  },
  {
   "cell_type": "code",
   "execution_count": null,
   "id": "d1945731-9bd5-47ab-b52a-5070b45abed7",
   "metadata": {},
   "outputs": [],
   "source": [
    "import random\n",
    "random.seed(42)\n",
    "\n",
    "k = 0\n",
    "viewer = napari.view_image(imgs[k], name='cells',visible = False)\n",
    "viewer.dims.ndisplay = 3\n",
    "\n",
    "mnc = ncolor.label(masks_gt[k],max_depth=11)\n",
    "viewer.add_labels(mnc, name='labels_gt',visible = False, color=sinebow(mnc.max()))\n",
    "\n",
    "\n",
    "# cmap = sinebow(masks[0][k].max())\n",
    "# l = list(cmap.items())[1:]\n",
    "# random.shuffle(l)\n",
    "# cmap = [(0,cmap[0])]+l\n",
    "# cmap = dict(cmap)\n",
    "mnc = ncolor.label(masks[0][k],max_depth=20)\n",
    "cmap =  sinebow(mnc.max())\n",
    "viewer.add_labels(mnc, name=names[0],visible = False, color=cmap)\n",
    "\n",
    "\n",
    "\n",
    "mnc = ncolor.label(masks[1][k],max_depth=11)\n",
    "viewer.add_labels(mnc, name=names[1], color=sinebow(mnc.max()))"
   ]
  },
  {
   "cell_type": "code",
   "execution_count": null,
   "id": "cf3dc8aa-2aaf-4fb4-8f92-9f7cd0a69ea5",
   "metadata": {},
   "outputs": [],
   "source": [
    "viewer.camera.center = [s//2 for s in imgs[k].shape]\n",
    "viewer.camera.zoom=2\n",
    "viewer.camera.angles=(49.01724873267338, -59.486485045019705, 36.815397248657874)\n",
    "viewer.camera.perspective=0.0\n",
    "viewer.camera.interactive=True"
   ]
  },
  {
   "cell_type": "code",
   "execution_count": null,
   "id": "3bb25370-881e-49ec-a740-a5373ee0f6cd",
   "metadata": {},
   "outputs": [],
   "source": [
    "k = 0\n",
    "j = 1\n",
    "img = imgs[k]\n",
    "n_axes = 3\n",
    "vectors = np.zeros((n_axes, 2, 3), dtype=np.float32)\n",
    "x_px = np.array([1, 0, 0])\n",
    "y_py = np.array([0, 1, 0])\n",
    "z_pz = np.array([0, 0, 1])\n",
    "vectors[0, 1] = x_px\n",
    "vectors[1, 1] = y_py\n",
    "vectors[2, 1] = z_pz\n",
    "for k in range(img.ndim):\n",
    "    viewer.add_vectors(vectors[k], name='ax'+str(k), edge_width=1,edge_color='k',blending='translucent_no_depth', length=img.shape[k])"
   ]
  },
  {
   "cell_type": "code",
   "execution_count": null,
   "id": "f6096103-0162-4a05-81d2-a7e5381bbe72",
   "metadata": {},
   "outputs": [],
   "source": [
    "# turn off all masks\n",
    "layerlist = names+['labels_gt']\n",
    "for name in layerlist:\n",
    "    viewer.layers[name].visible = False\n",
    "\n",
    "for name in layerlist:\n",
    "    viewer.layers[name].visible = True\n",
    "\n",
    "    img = viewer.screenshot(size=(2000,2000),scale=1,canvas_only=True,flash=False)\n",
    "    viewer.layers[name].visible = False\n",
    "\n",
    "    io.imsave(os.path.join(basedir,'3D_'+name+'_seg.tiff'),img)"
   ]
  },
  {
   "cell_type": "code",
   "execution_count": null,
   "id": "e2a28f81-3676-4b4b-be88-c7ca9c05d6f8",
   "metadata": {},
   "outputs": [],
   "source": [
    "viewer.add_image(omnipose.utils.rescale(flows_om[0][2]), name='distance',gamma=0.2,attenuation=0.05,depiction='volume')"
   ]
  },
  {
   "cell_type": "code",
   "execution_count": null,
   "id": "619c16b6-c25a-4ea5-9dac-8f375ce49fdc",
   "metadata": {},
   "outputs": [],
   "source": [
    "cmap = plt.get_cmap(name='viridis')\n",
    "x = np.linspace(0,1,100)\n",
    "colors=cmap(1-x)\n",
    "colors[...,-1] = x\n",
    "new_colormap = {\n",
    "    'colors': colors,\n",
    "    'name': 'custom',\n",
    "    'interpolation': 'linear'\n",
    "}\n",
    "key = 'distance'\n",
    "viewer.layers[key].colormap = new_colormap\n",
    "viewer.layers[key].rendering='attenuated_mip'\n",
    "viewer.layers[key].contrast_limits=[.01,1]"
   ]
  },
  {
   "cell_type": "code",
   "execution_count": null,
   "id": "98c30f39-cdd5-40d8-af23-6f5a0f9ac97f",
   "metadata": {},
   "outputs": [],
   "source": [
    "# Plot cross sections and save some output for the figure \n",
    "from matplotlib.colors import ListedColormap\n",
    "\n",
    "cmap = mpl.cm.get_cmap('viridis')\n",
    "for i,name in enumerate(names):\n",
    "    print(name,i)\n",
    "    for j in range(len(imgs)):\n",
    "        img = imgs[j]\n",
    "        mgt = masks_gt[j]\n",
    "        msk = masks[i][j]\n",
    "        dt = flows[i][j][2]\n",
    "        bd = flows[i][j][4]\n",
    "        frgb = flows[i][j][0]\n",
    "        k = img.shape[0]//2 # middle slice \n",
    "        fig = plt.figure()\n",
    "        print(np.array(msk).shape,k)\n",
    "        mgtnc = ncolor.label(mgt[k])\n",
    "        plt.imshow(np.hstack(tuple(map(cmap,map(omnipose.utils.rescale,[img[k],dt[k], bd[k] ,\n",
    "                                                                        ncolor.label(msk[k]),\n",
    "                                                                        mgtnc])))\n",
    "                             +(frgb[k]/255,)))\n",
    "        \n",
    "        tifffile.imwrite(os.path.join(basedir,'slice_'+name+'_'+str(j)+'_frgb.tif'),frgb[k])\n",
    "        if i:\n",
    "            smap = sinebow(4)\n",
    "            smap = ListedColormap(list(smap.values()))\n",
    "            pic = smap(mgtnc)\n",
    "            pic[...,-1] = mgtnc>0\n",
    "            tifffile.imwrite(os.path.join(basedir,'slice_'+str(j)+'_gt.tif'),np.uint8(omnipose.utils.rescale(pic)*(2**8-1)))\n",
    "\n",
    "\n",
    "        plt.axis('off')\n",
    "        "
   ]
  },
  {
   "cell_type": "code",
   "execution_count": null,
   "id": "aaac73a6-b86e-451f-a847-9553b78a52b9",
   "metadata": {
    "jupyter": {
     "outputs_hidden": true
    },
    "tags": []
   },
   "outputs": [],
   "source": [
    "### Plot some ground truth "
   ]
  },
  {
   "cell_type": "code",
   "execution_count": null,
   "id": "2792eba3-a813-478d-b7d5-02b3e678d604",
   "metadata": {},
   "outputs": [],
   "source": [
    "5"
   ]
  },
  {
   "cell_type": "code",
   "execution_count": null,
   "id": "86a2df26-3bdf-49f4-8cee-5133c3ee2c23",
   "metadata": {},
   "outputs": [],
   "source": [
    "from mpl_toolkits import mplot3d\n",
    "\n",
    "\n",
    "fig = plt.figure()\n",
    "ax = plt.axes(projection='3d')\n",
    "ax.voxels(imgs[0])"
   ]
  },
  {
   "cell_type": "code",
   "execution_count": null,
   "id": "234bd784-26f3-4bbd-bdb7-6ada8b6ca6ad",
   "metadata": {},
   "outputs": [],
   "source": [
    "# np.unique(sd)\n",
    "# plt.imshow(sd[-1])\n",
    "import ipyvolume as ipv\n",
    "# ipv.figure()\n",
    "# ipv.quickvolshow(sd)\n",
    "\n",
    "import ipyvolume.pylab as p3\n",
    "p3.figure()\n",
    "p3.style.use('light')\n",
    "p3.style.axes_off()\n",
    "p3.style.box_off()\n",
    "# vol = p3.volshow(np.log(T+1e-12))\n",
    "# p3.volshow(ncolor.label(seg))\n",
    "# points = np.nonzero(dt==1)\n",
    "# m = np.max(mask)-100\n",
    "# points = np.nonzero((mask>m-5)*(dt==1)*(mask<=m))\n",
    "# select = np.logical_or.reduce([mask == i for i in np.unique(mask[n])[1:]])\n",
    "# points = np.nonzero((dt==1)*select)\n",
    "\n",
    "\n",
    "# mg = np.meshgrid(*points,indexing='ij')\n",
    "# ax.quiver(*mg,*tuple(mu),length=0.1)\n",
    "# sub_mu = [mu[(i,)+points] for i in range(mu.shape[0])]\n",
    "# ax.quiver(*mg,*sub_mu,normalize=True)\n",
    "# sub_p =  [p[(i,)+points] for i in range(p.shape[0])]\n",
    "# p3.scatter(*sub_p, size=1, marker=\"sphere\",origin=np.mean(sub_p,axis=1))\n",
    "vol = p3.volshow(np.log(imgs[0]+.1),lighting=0)\n",
    "# ipv.quickvolshow(np.log(imgs[0]+1))\n",
    "# vol.ray_steps =20\n",
    "\n",
    "\n",
    "p3.show()"
   ]
  },
  {
   "cell_type": "code",
   "execution_count": null,
   "id": "1389a392-959c-4abe-9fc3-9efacbcc687e",
   "metadata": {
    "jupyter": {
     "outputs_hidden": true
    },
    "tags": []
   },
   "outputs": [],
   "source": [
    "import numpy as np\n",
    "import plotly.graph_objects as go\n",
    "\n",
    "# Generate nicely looking random 3D-field\n",
    "np.random.seed(0)\n",
    "vol = omnipose.utils.normalize99(imgs[0])\n",
    "shape = vol.shape\n",
    "print(shape,vol.min(),vol.max())\n",
    "X, Y, Z = np.mgrid[:shape[0], :shape[1], :shape[2]]\n",
    "vol = np.zeros((l, l, l))\n",
    "\n",
    "fig = go.Figure(data=go.Volume(\n",
    "    x=X.flatten(), y=Y.flatten(), z=Z.flatten(),\n",
    "    value=vol.flatten(),\n",
    "    # isomin=0.0,\n",
    "    # isomax=0.99,\n",
    "    opacity=0.9,\n",
    "    # surface_count=1,\n",
    "    opacityscale=[[-0.5, 1], [-0.2, 0], [0.2, 0], [0.5, 1]],\n",
    "    surface_count = 30\n",
    "    ))\n",
    "fig.update_layout(scene_xaxis_showticklabels=False,\n",
    "                  scene_yaxis_showticklabels=False,\n",
    "                  scene_zaxis_showticklabels=False)\n",
    "fig.show()"
   ]
  },
  {
   "cell_type": "code",
   "execution_count": null,
   "id": "9c5f7ed6-7f72-4345-abd4-b01572a220c3",
   "metadata": {
    "jupyter": {
     "outputs_hidden": true
    },
    "tags": []
   },
   "outputs": [],
   "source": [
    "import plotly.graph_objects as go\n",
    "import numpy as np\n",
    "X, Y, Z = np.mgrid[-8:8:40j, -8:8:40j, -8:8:40j]\n",
    "values = np.sin(X*Y*Z) / (X*Y*Z)\n",
    "\n",
    "fig = go.Figure(data=go.Volume(\n",
    "    x=X.flatten(),\n",
    "    y=Y.flatten(),\n",
    "    z=Z.flatten(),\n",
    "    value=values.flatten(),\n",
    "    isomin=0.1,\n",
    "    isomax=0.8,\n",
    "    opacity=0.1, # needs to be small to see through all surfaces\n",
    "    surface_count=17, # needs to be a large number for good volume rendering\n",
    "    ))\n",
    "fig.show()"
   ]
  },
  {
   "cell_type": "code",
   "execution_count": null,
   "id": "0cea6ad7-2b73-4e4b-9a14-90b87fc977b6",
   "metadata": {},
   "outputs": [],
   "source": [
    "from mayavi import mlab\n",
    "mlab.init_notebook()\n",
    "# x, y, z = np.ogrid[-10:10:20j, -10:10:20j, -10:10:20j]\n",
    "# s = np.sin(x*y*z)/(x*y*z)\n",
    "# mlab.pipeline.volume(mlab.pipeline.scalar_field(omnipose.utils.normalize99(s)),vmin=0, vmax=0.8)\n",
    "# mlab.contour3d(s)\n",
    "mlab.test_plot3d()"
   ]
  },
  {
   "cell_type": "code",
   "execution_count": null,
   "id": "c90995e9-5f05-4aec-b5c2-9220aef413ca",
   "metadata": {},
   "outputs": [],
   "source": [
    "# plot some slices \n",
    "cmap = mpl.cm.get_cmap('viridis')\n",
    "for i,name in enumerate(names):\n",
    "    print(name,i)\n",
    "    for j in range(len(imgs)):\n",
    "        img = imgs[j]\n",
    "        mgt = masks_gt[j]\n",
    "        msk = masks[i][j]\n",
    "        dt = flows[i][j][2]\n",
    "        bd = flows[i][j][4]\n",
    "        frgb = flows[i][j][0]\n",
    "        k = img.shape[0]//2 # middle slice \n",
    "        fig = plt.figure()\n",
    "        print(np.array(msk).shape,k)\n",
    "        plt.imshow(np.hstack(tuple(map(cmap,map(omnipose.utils.rescale,[img[k],dt[k], bd[k] ,\n",
    "                                                                        ncolor.label(msk[k]),\n",
    "                                                                        ncolor.label(mgt[k])])))\n",
    "                             +(frgb[k]/255,)))\n",
    "        plt.axis('off')"
   ]
  },
  {
   "cell_type": "code",
   "execution_count": null,
   "id": "6dc50dcb-8119-419b-9b40-da05fccbd049",
   "metadata": {},
   "outputs": [],
   "source": []
  },
  {
   "cell_type": "code",
   "execution_count": null,
   "id": "9ef7966e-33fe-423c-bdab-fda0a5d30a8b",
   "metadata": {},
   "outputs": [],
   "source": []
  },
  {
   "cell_type": "code",
   "execution_count": null,
   "id": "b9cafa6e-5de8-45ca-918d-11266ed3c70c",
   "metadata": {},
   "outputs": [],
   "source": [
    "basedir"
   ]
  },
  {
   "cell_type": "code",
   "execution_count": null,
   "id": "7dbbadc8-fbea-426c-98d3-9b380b9cfed8",
   "metadata": {},
   "outputs": [],
   "source": [
    "# plt.imshow(msk)\n",
    "msk.dtype"
   ]
  },
  {
   "cell_type": "code",
   "execution_count": null,
   "id": "e21047d2-2245-4272-8388-685d31a7162e",
   "metadata": {},
   "outputs": [],
   "source": [
    "im = tifffile.imread('/home/kcutler/DataDrive/plantseg/traintest/LateralRootPrimordia/export_good/test/Movie1_t00030_crop_gt.tif')"
   ]
  },
  {
   "cell_type": "code",
   "execution_count": null,
   "id": "4b298f8c-fdaa-445e-b4bc-61a298c45af9",
   "metadata": {},
   "outputs": [],
   "source": []
  },
  {
   "cell_type": "code",
   "execution_count": null,
   "id": "19ac396c-6aa0-4440-b6f2-cbe03433b7cc",
   "metadata": {},
   "outputs": [],
   "source": []
  },
  {
   "cell_type": "code",
   "execution_count": null,
   "id": "2350df9a-cf48-4885-860d-c7f5cedf8632",
   "metadata": {},
   "outputs": [],
   "source": [
    "# viewer.axes.visible = False\n",
    "# viewer.overlays.interaction_box.show_handle=1\n",
    "viewer = napari.view_image(omnipose.utils.rescale(im), name='cells',gamma=0.2,attenuation=0.05,depiction='volume')\n",
    "viewer.dims.ndisplay = 3\n",
    "viewer.camera.center = [s//2 for s in im.shape]\n",
    "viewer.camera.zoom=.7\n",
    "viewer.camera.angles=(49.01724873267338, -59.486485045019705, 36.815397248657874)\n",
    "viewer.camera.perspective=0.0\n",
    "viewer.camera.interactive=True\n",
    "n_axes = 3\n",
    "vectors = np.zeros((n_axes, 2, 3), dtype=np.float32)\n",
    "x_px = np.array([1, 0, 0])\n",
    "y_py = np.array([0, 1, 0])\n",
    "z_pz = np.array([0, 0, 1])\n",
    "vectors[0, 1] = x_px\n",
    "vectors[1, 1] = y_py\n",
    "vectors[2, 1] = z_pz\n",
    "for k in range(im.ndim):\n",
    "    viewer.add_vectors(vectors[k], name='ax'+str(k), edge_width=1,edge_color='k',blending='translucent_no_depth', length=im.shape[k])"
   ]
  },
  {
   "cell_type": "code",
   "execution_count": null,
   "id": "38f08398-7449-47f7-9d68-b70b831f75e3",
   "metadata": {},
   "outputs": [],
   "source": [
    "viewer.layers[0].contrast_limits=[.002,1]\n"
   ]
  },
  {
   "cell_type": "code",
   "execution_count": null,
   "id": "ee463ac0-b25b-481f-b81b-a6c165bf8510",
   "metadata": {},
   "outputs": [],
   "source": [
    "\n",
    "# colors = np.linspace(\n",
    "#     start=[1, 1, 1, 0],\n",
    "#     stop=[0, 0, 0, 1],\n",
    "#     num=10,\n",
    "#     endpoint=True\n",
    "# )\n",
    "cmap = plt.get_cmap(name='viridis')\n",
    "x = np.linspace(0,1,100)\n",
    "colors=cmap(1-x)\n",
    "colors[...,-1] = x\n",
    "new_colormap = {\n",
    "    'colors': colors,\n",
    "    'name': 'custom',\n",
    "    'interpolation': 'linear'\n",
    "}\n",
    "viewer.layers[0].colormap = new_colormap\n",
    "viewer.layers[0].rendering='attenuated_mip'\n",
    "viewer.layers[0].contrast_limits=[.01,1]\n",
    "\n",
    "# k = 0\n",
    "# im = imgs[k]"
   ]
  },
  {
   "cell_type": "code",
   "execution_count": null,
   "id": "52bc741e-dcba-4eeb-b707-760d630eda93",
   "metadata": {},
   "outputs": [],
   "source": []
  },
  {
   "cell_type": "code",
   "execution_count": null,
   "id": "ad3c444b-a7e3-4ec3-b207-77994fc3fbe1",
   "metadata": {},
   "outputs": [],
   "source": [
    "img = viewer.screenshot(size=(2000,2000),scale=1,canvas_only=True,flash=False)\n",
    "from cellpose import io\n",
    "basedir = '/home/kcutler/DataDrive/omnipose_paper/Figure 7'\n",
    "io.check_dir(basedir)\n",
    "io.imsave(os.path.join(basedir,'3D.tiff'),img)"
   ]
  },
  {
   "cell_type": "code",
   "execution_count": null,
   "id": "4a0f1738-7aa4-4b48-b809-4478eddacbbf",
   "metadata": {},
   "outputs": [],
   "source": [
    "fig = plt.figure(figsize=(20,20))\n",
    "plt.rcParams['figure.dpi'] = 300\n",
    "plt.imshow(img)\n",
    "plt.axis('off')"
   ]
  },
  {
   "cell_type": "code",
   "execution_count": null,
   "id": "d7c567d2-5c63-48ac-b2c0-6986465eeb27",
   "metadata": {},
   "outputs": [],
   "source": [
    "viewer.__dict__"
   ]
  },
  {
   "cell_type": "code",
   "execution_count": null,
   "id": "ad812f52-c0b4-4a5d-a777-fb0568470d22",
   "metadata": {},
   "outputs": [],
   "source": [
    "len(masks_gt)"
   ]
  },
  {
   "cell_type": "code",
   "execution_count": null,
   "id": "9704a87c-7d5a-47f1-aab5-9be58142a48a",
   "metadata": {},
   "outputs": [],
   "source": []
  },
  {
   "cell_type": "code",
   "execution_count": null,
   "id": "cfb8fa05-42a9-43b5-ae28-0fc86e1496b1",
   "metadata": {},
   "outputs": [],
   "source": []
  },
  {
   "cell_type": "code",
   "execution_count": null,
   "id": "9e5b9554-541c-4528-82d8-d30961982bc0",
   "metadata": {},
   "outputs": [],
   "source": []
  },
  {
   "cell_type": "code",
   "execution_count": null,
   "id": "edaf5289-16d6-41f0-8602-a43f540cc865",
   "metadata": {},
   "outputs": [],
   "source": [
    "cmap = mpl.cm.get_cmap('viridis')\n",
    "\n",
    "for j in range(len(imgs)):\n",
    "    img = imgs[j]\n",
    "    msk = masks[j]\n",
    "    dt = flows[j][2]\n",
    "    bd = flows[j][4]\n",
    "    frgb = flows[j][0]\n",
    "    k = img.shape[0]//2 # middle slice \n",
    "    fig = plt.figure()\n",
    "    plt.imshow(np.hstack(tuple(map(cmap,map(omnipose.utils.rescale,[img[k],dt[k],bd[k],\n",
    "                                                                    ncolor.label(msk[k]),\n",
    "                                                                    ncolor.label(masks_gt[j][k])])))\n",
    "                         +(frgb[k]/255,)))\n",
    "    plt.axis('off')"
   ]
  },
  {
   "cell_type": "code",
   "execution_count": null,
   "id": "a65a5657-58e5-473d-b35a-753a99257ca5",
   "metadata": {},
   "outputs": [],
   "source": [
    "# now quanititative comparison \n",
    "\n",
    "from stardist import matching\n",
    "a = 0.5\n",
    "b = 1.0\n",
    "thresh =np.arange(a,b,(b-a)/100)\n",
    "met =[matching.matching(mgt,m, thresh=thresh) for mgt,m in zip(masks_gt, masks)]\n",
    "a = np.array([[met[k][i].accuracy for i in range(len(thresh))] for k in range(len(met))]).T\n",
    "plt.plot(thresh,a)#+['masks_cp'])\n",
    "np.save(os.path.join(basedir,'omnipose_3D_plants_individual'),a)\n",
    "a = np.mean(a,axis=1)\n",
    "np.save(os.path.join(basedir,'omnipose_3D_plants'),a)\n"
   ]
  },
  {
   "cell_type": "code",
   "execution_count": null,
   "id": "d85b731f-7594-4c6b-a4bb-abc1483a2131",
   "metadata": {},
   "outputs": [],
   "source": [
    "names = ['cellpose','omnipose']\n",
    "JI = [np.array(np.load(os.path.join(basedir,name+'_3D_plants_individual.npy'))) for name in names]\n",
    "JI_mean = [np.array(np.load(os.path.join(basedir,name+'_3D_plants.npy'))) for name in names]"
   ]
  },
  {
   "cell_type": "code",
   "execution_count": null,
   "id": "62d916ce-75b1-4465-9a20-09730fe43d8b",
   "metadata": {},
   "outputs": [],
   "source": [
    "JI[0].shape"
   ]
  },
  {
   "cell_type": "code",
   "execution_count": null,
   "id": "a726dd5d-07bf-4780-9d72-4576c0a933f2",
   "metadata": {},
   "outputs": [],
   "source": [
    "plt.figure()\n",
    "plt.plot(thresh,JI[0],label=names[0])#+['masks_cp'])\n",
    "plt.plot(thresh,JI[1],label=names[1])#+['masks_cp'])\n",
    "plt.legend()"
   ]
  },
  {
   "cell_type": "code",
   "execution_count": null,
   "id": "bdcb37c5-b93b-4c48-bd69-48e32ac32233",
   "metadata": {},
   "outputs": [],
   "source": [
    "masks_all,"
   ]
  },
  {
   "cell_type": "code",
   "execution_count": null,
   "id": "5d9cea85-4893-4d83-b73b-7c2caa73cd12",
   "metadata": {},
   "outputs": [],
   "source": [
    "plt.imshow(masks[0])"
   ]
  },
  {
   "cell_type": "code",
   "execution_count": null,
   "id": "7df1fc67-1320-4b4e-a893-1291350e7867",
   "metadata": {},
   "outputs": [],
   "source": [
    "# d = omnipose.core.diameters(masks_gt)\n",
    "# d\n",
    "image_names = io.get_image_files(savedir[1],extensions=['h5'])\n",
    "filename = image_names[10]\n",
    "with h5py.File(filename, \"r\") as f:\n",
    "        # List all groups\n",
    "        print(\"Keys: %s\" % f.keys())\n",
    "        masks = np.array(f['label'])\n",
    "        print(masks.min())\n",
    "        masks = omnipose.utils.format_labels(masks)\n",
    "        name = getname(filename)\n",
    "        print(name)\n",
    "        fastremap.renumber(masks,in_place=True)\n",
    "        labels = fastremap.refit(masks)\n",
    "        img = np.array(f['raw'])"
   ]
  },
  {
   "cell_type": "code",
   "execution_count": null,
   "id": "e85466e3-323b-4cb5-827a-29a99656b6f2",
   "metadata": {
    "tags": []
   },
   "outputs": [],
   "source": [
    "img.shape"
   ]
  },
  {
   "cell_type": "code",
   "execution_count": null,
   "id": "6fe1021f-b75e-4a3c-a811-003ed5a2fa2d",
   "metadata": {
    "tags": []
   },
   "outputs": [],
   "source": [
    "import edt\n",
    "dt = edt.edt(labels)"
   ]
  },
  {
   "cell_type": "code",
   "execution_count": null,
   "id": "38623028-9d9a-4749-9e83-bdd09a84ebbe",
   "metadata": {
    "tags": []
   },
   "outputs": [],
   "source": [
    "# np.max(masks),np.max(labels),np.min(masks),np.min(labels),filename\n",
    "omnipose.core.diameters(masks,dt)"
   ]
  },
  {
   "cell_type": "code",
   "execution_count": null,
   "id": "dd5db97c-7c41-4a11-a50e-3873acf44eb7",
   "metadata": {
    "tags": []
   },
   "outputs": [],
   "source": [
    "from omnipose.utils import rescale \n",
    "k = 100\n",
    "plt.imshow(np.hstack(tuple(map(rescale,(img[:,k],ncolor.label(labels[:,k]),dt[:,k])))))\n",
    "# plt.imshow(dt[:,500])"
   ]
  },
  {
   "cell_type": "code",
   "execution_count": null,
   "id": "e95a1fc1-e665-41df-9762-d32b437c63db",
   "metadata": {
    "tags": []
   },
   "outputs": [],
   "source": [
    "6"
   ]
  },
  {
   "cell_type": "code",
   "execution_count": null,
   "id": "962f1b70-901b-463f-8fe3-76be4c285e58",
   "metadata": {
    "tags": []
   },
   "outputs": [],
   "source": []
  },
  {
   "cell_type": "code",
   "execution_count": null,
   "id": "251b19b3-313a-46e7-ba4a-9176ebb34d3f",
   "metadata": {
    "tags": []
   },
   "outputs": [],
   "source": [
    "viewer = napari.view_image(img, name='cells')\n",
    "viewer.add_labels(labels, name='labels')"
   ]
  },
  {
   "cell_type": "code",
   "execution_count": null,
   "id": "e770dd15-9006-41ed-b993-e97d7589d3bf",
   "metadata": {},
   "outputs": [],
   "source": [
    "# len(flows)\n",
    "a,b = map(list,zip(*[[l*2,l/2] for l in range(4)]))\n",
    "a,b"
   ]
  },
  {
   "cell_type": "code",
   "execution_count": null,
   "id": "ccbaf026-5348-4911-a255-174f45087d12",
   "metadata": {},
   "outputs": [],
   "source": [
    "from omnipose.core import diameters\n",
    "diameters(masks[slc])"
   ]
  },
  {
   "cell_type": "code",
   "execution_count": null,
   "id": "c97d1241-4dd3-4caa-a5fa-a4e05c710433",
   "metadata": {},
   "outputs": [],
   "source": [
    "a = np.ones([10,10])\n",
    "pad = 4\n",
    "apad = np.pad(a,pad)\n",
    "unpad = tuple([slice(pad,-pad) if pad else slice(None,None)]*a.ndim)\n",
    "apad[unpad].shape,a.shape,apad.shape"
   ]
  },
  {
   "cell_type": "code",
   "execution_count": null,
   "id": "c5c7112b-1267-4b28-9922-47d9b99625ce",
   "metadata": {},
   "outputs": [],
   "source": [
    "np.pad(a,None)"
   ]
  },
  {
   "cell_type": "code",
   "execution_count": null,
   "id": "4a7e7c24-6ddf-4fc1-913c-be5759f949c6",
   "metadata": {},
   "outputs": [],
   "source": [
    "import fastremap\n",
    "m,_ = fastremap.renumber(masks,in_place=False)\n",
    "np.max(m)"
   ]
  },
  {
   "cell_type": "code",
   "execution_count": null,
   "id": "0870d698-53ae-4acb-b325-8464ba9dfd8f",
   "metadata": {},
   "outputs": [],
   "source": [
    "import edt\n",
    "dt = edt.edt(m[slc][50])\n",
    "dt"
   ]
  },
  {
   "cell_type": "code",
   "execution_count": null,
   "id": "feb4a4df-2704-4e34-9e54-769f21773da0",
   "metadata": {},
   "outputs": [],
   "source": [
    "im.shape"
   ]
  },
  {
   "cell_type": "code",
   "execution_count": null,
   "id": "220ad149-660d-4053-be45-be14d5582729",
   "metadata": {},
   "outputs": [],
   "source": [
    "# modeldir = '/home/kcutler/DataDrive/3D_BBBC/BBBC027/train/models/cellpose_residual_on_style_on_concatenation_off_omni_train_2022_05_03_18_58_51.851134_epoch_301'\n",
    "import tifffile\n",
    "im = tifffile.imread('/home/kcutler/DataDrive/3D_BBBC/BBBC027/test/0000.tif')"
   ]
  },
  {
   "cell_type": "code",
   "execution_count": null,
   "id": "57044a6b-df76-4f31-87a4-c106b7bbc666",
   "metadata": {},
   "outputs": [],
   "source": [
    "masks_gt = tifffile.imread('/home/kcutler/DataDrive/3D_BBBC/BBBC027/test/0000_masks.tif')\n",
    "# d = omnipose.core.diameters(masks_gt)\n",
    "# d\n",
    "im.shape"
   ]
  },
  {
   "cell_type": "code",
   "execution_count": null,
   "id": "379de208-4e57-44e7-8e0e-e3f4525e2c90",
   "metadata": {},
   "outputs": [],
   "source": [
    "modeldir = '/home/kcutler/DataDrive/3D_BBBC/BBBC027/train/models/cellpose_residual_on_style_on_concatenation_off_omni_train_2022_05_03_18_58_51.851134_epoch_101'\n",
    "\n",
    "modeldir = '/home/kcutler/DataDrive/3D_BBBC/BBBC027/train/models/cellpose_residual_on_style_on_concatenation_off_omni_train_2022_05_03_22_16_13.356647_epoch_2601'\n",
    "\n",
    "dim = 3\n",
    "nclasses = dim+2\n",
    "nchan = 1\n",
    "omni = 1\n",
    "rescale = False\n",
    "diam_mean = 0\n",
    "from cellpose import models, core\n",
    "use_GPU = core.use_gpu()\n",
    "\n",
    "# print('>>> GPU activated? %d'%use_GPU)\n",
    "# use_GPU = 0 # uh oh, 3D models not working for CPU\n",
    "# use_GPU = 0\n",
    "model = models.CellposeModel(gpu=use_GPU, pretrained_model=modeldir, net_avg=False, \n",
    "                             diam_mean=diam_mean, nclasses=nclasses, dim=dim, nchan=nchan)"
   ]
  },
  {
   "cell_type": "code",
   "execution_count": null,
   "id": "e004b1e6-2ebc-404e-91a5-fd864f64e25c",
   "metadata": {},
   "outputs": [],
   "source": [
    "mask_threshold = -5 ##############\n",
    "diam_threshold = 12\n",
    "net_avg = 0\n",
    "cluster = 1\n",
    "verbose = 0 #####\n",
    "\n",
    "tile = 0\n",
    "chans = [0,0]\n",
    "chans = None\n",
    "compute_masks = 1\n",
    "slc_crop = slice(None, -1, None)\n",
    "# slc_crop = slice(100, 120, None)\n",
    "# slc_crop = slice(13, 53, None) # 733\n",
    "# slc_crop = slice(50, 100, None) # 704\n",
    "# slc_crop = slice(15, 52, None) # 707\n",
    "# slc_crop = slice(30, 70, None) # 712\n",
    "# slc_crop = (Ellipsis,)+tuple([slice(0,129)]*2)\n",
    "# slc_crop = (Ellipsis,)+tuple([slice(0,400)]*2)\n",
    "\n",
    "resample=False\n",
    "# rescale = .5 #None\n",
    "rescale=None\n",
    "\n",
    "imcrop = im[slc_crop]\n",
    "# pad = 30\n",
    "# imcrop = np.pad(imcrop,pad,mode='reflect')\n",
    "# imcrop = im[100:120]\n",
    "# imcrop = im.copy()\n",
    "# import torch\n",
    "#TILING not working in 3D, should fix that \n",
    "masks, flows, styles = model.eval(imcrop,channels = chans,rescale=rescale,mask_threshold=mask_threshold,net_avg=net_avg,\n",
    "                                  transparency=True,flow_threshold=0.,omni=omni,resample=resample,verbose=verbose,\n",
    "                                  diam_threshold=diam_threshold,cluster=cluster,tile=1,\n",
    "                                  compute_masks=compute_masks,batch_size=2)\n",
    "#     else:"
   ]
  },
  {
   "cell_type": "code",
   "execution_count": null,
   "id": "85b7a5c9-093e-484e-acdc-83cdff51c329",
   "metadata": {},
   "outputs": [],
   "source": [
    "for i,a in enumerate(['a','b']):\n",
    "    print(i,a)"
   ]
  },
  {
   "cell_type": "code",
   "execution_count": null,
   "id": "4f68b697-7a8e-4561-9f9d-7339169a53d8",
   "metadata": {},
   "outputs": [],
   "source": [
    "k = 50\n",
    "dt = flows[2]\n",
    "bd = flows[4]\n",
    "cmap = mpl.cm.get_cmap('viridis')\n",
    "\n",
    "plt.imshow(np.hstack(tuple(map(cmap,map(omnipose.utils.rescale,[imcrop[k],dt[k],bd[k],masks[k]])))+(flows[0][k]/255,)))"
   ]
  },
  {
   "cell_type": "code",
   "execution_count": null,
   "id": "4e8188b1-c6bc-4748-9de8-9b6bada13ba0",
   "metadata": {},
   "outputs": [],
   "source": [
    "from stardist import matching\n",
    "a = 0.5\n",
    "b = 1.0\n",
    "thresh =np.arange(a,b,(b-a)/100)\n",
    "met = [[]]*1\n",
    "met[0] = matching.matching(masks_gt[slc_crop], newmasks, thresh=thresh)\n",
    "# gotta make sure precision is jaccard index!!!!\n",
    "plt.plot(thresh,np.array([[met[k][i].accuracy for i in range(len(thresh))] for k in range(len(met))]).T)#+['masks_cp'])\n",
    "# plt.legend()"
   ]
  },
  {
   "cell_type": "code",
   "execution_count": null,
   "id": "1b5a9909-5e7e-471f-9860-f7507bac963d",
   "metadata": {},
   "outputs": [],
   "source": [
    "imgi = im.copy()[np.newaxis]"
   ]
  },
  {
   "cell_type": "code",
   "execution_count": null,
   "id": "332c1b54-b8af-4b57-9719-124f83a2cf98",
   "metadata": {},
   "outputs": [],
   "source": [
    "tile_overlap = 0.1\n",
    "bsize = 224\n",
    "\n",
    "nchan = imgi.shape[0]\n",
    "shape = imgi.shape[1:]\n",
    "dim = len(shape)\n",
    "tile_overlap = min(0.5, max(0.05, tile_overlap))\n",
    "# bsizeY, bsizeX = min(bsize, Ly), min(bsize, Lx)\n",
    "# B = [np.int32(min(b,s)) for s,b in zip(im.shape,bsize)] if bzise variable\n",
    "bbox = tuple([np.int32(min(bsize,s)) for s in shape])\n",
    "\n",
    "# tiles overlap by 10% tile size\n",
    "ntyx = [1 if s<=bsize else int(np.ceil((1.+2*tile_overlap) * (s / bsize))) for s in shape]\n",
    "start = [np.linspace(0, s-b, n).astype(int) for s,b,n in zip(shape,bbox,ntyx)]\n",
    "\n",
    "sub = [[] for n in range(dim)]\n",
    "# IMG = np.zeros((len(ystart), len(xstart), nchan,  bsizeY, bsizeX), np.float32)\n",
    "IMG = np.zeros(tuple([len(s) for s in start])+(nchan,)+bbox, np.float32)\n",
    "\n",
    "# for j in range(len(ystart)):\n",
    "#     for i in range(len(xstart)):\n",
    "#         ysub.append([ystart[j], ystart[j]+bsizeY])\n",
    "#         xsub.append([xstart[i], xstart[i]+bsizeX])\n",
    "#         IMG[j, i] = imgi[:, ysub[-1][0]:ysub[-1][1],  xsub[-1][0]:xsub[-1][1]]\n",
    "IMG.shape, bbox,ntyx, np.diff(start[1]),"
   ]
  },
  {
   "cell_type": "code",
   "execution_count": null,
   "id": "82e2c83d-d5b8-42c1-8d60-0b1eab1b4959",
   "metadata": {},
   "outputs": [],
   "source": [
    "int(np.ceil((1.+2*tile_overlap) * (shape[1] / bsize)))"
   ]
  },
  {
   "cell_type": "code",
   "execution_count": null,
   "id": "b471488c-b65a-4c84-bb8e-e8b977019774",
   "metadata": {},
   "outputs": [],
   "source": [
    "start"
   ]
  },
  {
   "cell_type": "code",
   "execution_count": null,
   "id": "6194ef40-42ed-4ce9-adae-8f7b2957873d",
   "metadata": {},
   "outputs": [],
   "source": [
    "import itertools\n",
    "intervals = [[slice(si,si+bsize) for si in s] for s in start]\n",
    "# intervals = []\n",
    "# for s in start:\n",
    "#     intervals.append([slice(si,si+bsize) for si in s])\n",
    "#     # if len(s)>1:\n",
    "#     #     intervals.append([slice(si,si+bsize) for si in s])\n",
    "#     # else:\n",
    "    #     intervals.append([slice(None)])\n",
    "subs = list(itertools.product(*intervals))\n",
    "len(subs)"
   ]
  },
  {
   "cell_type": "code",
   "execution_count": null,
   "id": "4fcb19ce-aedd-474a-a61a-1dd220483fd5",
   "metadata": {},
   "outputs": [],
   "source": [
    "I = []\n",
    "for slc in subs:\n",
    "    imcrop = imgi[(Ellipsis,)+slc]\n",
    "    print(imcrop.shape)\n",
    "    I.append(imcrop)"
   ]
  },
  {
   "cell_type": "code",
   "execution_count": null,
   "id": "478bdee3-9e04-43a3-af35-880876f99eb6",
   "metadata": {},
   "outputs": [],
   "source": [
    "I2 = np.stack(I)\n",
    "I2.shape"
   ]
  },
  {
   "cell_type": "code",
   "execution_count": null,
   "id": "3f18f0cc-870e-4764-afe1-ac615e40698a",
   "metadata": {},
   "outputs": [],
   "source": [
    "# viewer = napari.view_image(I[0], name='cells')\n",
    "I[0].shape\n"
   ]
  },
  {
   "cell_type": "code",
   "execution_count": null,
   "id": "57190f2d-e792-4184-bfd3-8d92167c38a3",
   "metadata": {},
   "outputs": [],
   "source": [
    "from cellpose.transforms import make_tiles\n",
    "IMG, ysub, xsub, Ly, Lx = make_tiles(im[0][np.newaxis])"
   ]
  },
  {
   "cell_type": "code",
   "execution_count": null,
   "id": "ebee4baa-3b98-456a-b8bf-7ef30fa1cb01",
   "metadata": {},
   "outputs": [],
   "source": [
    "IMG.shape,Ly,Lx,ysub"
   ]
  },
  {
   "cell_type": "code",
   "execution_count": null,
   "id": "6c14184f-0dcb-4daa-9648-3e939cc6759b",
   "metadata": {
    "tags": []
   },
   "outputs": [],
   "source": [
    "viewer = napari.view_image(imcrop, name='cells')\n",
    "viewer.add_labels(masks, name='labels')"
   ]
  },
  {
   "cell_type": "code",
   "execution_count": null,
   "id": "ef20a66b-d76e-4440-8cfe-3d70e33a2706",
   "metadata": {},
   "outputs": [],
   "source": [
    "# viewer.add_labels(masks_gt[slc_crop], name='labels_gt')\n",
    "viewer.add_image(bd, name='bd')\n",
    "viewer.add_image(dt, name='dt')"
   ]
  },
  {
   "cell_type": "code",
   "execution_count": null,
   "id": "86b413c4-ec82-47b4-893c-d9edcba35c1e",
   "metadata": {},
   "outputs": [],
   "source": [
    "viewer.add_labels(ncolor.label(masks_gt[slc_crop]), name='labels_gt')\n"
   ]
  },
  {
   "cell_type": "code",
   "execution_count": null,
   "id": "568d41c5-05fe-4ed1-a551-bd244718dea5",
   "metadata": {},
   "outputs": [],
   "source": [
    "viewer.add_image(flows[0], name='flows')"
   ]
  },
  {
   "cell_type": "code",
   "execution_count": null,
   "id": "70ed6960-f603-4bbb-b46f-485a50da04fd",
   "metadata": {},
   "outputs": [],
   "source": [
    "mu = flows[1]\n",
    "dt = flows[2]\n",
    "p = flows[3]\n",
    "bd = flows[4]\n",
    "hdbscan = 1\n",
    "cluster = 0\n",
    "newmasks,p,_,lab= omnipose.core.compute_masks(mu,dt,bd=bd,mask_threshold=mask_threshold,\n",
    "                                           use_gpu=True,verbose=True,cluster=cluster, \n",
    "                                           flow_threshold=0., dim=3, hdbscan=hdbscan, \n",
    "                                              debug=1, eps=3, min_size=30, nclasses=4)"
   ]
  },
  {
   "cell_type": "code",
   "execution_count": null,
   "id": "527d0e15-43f8-4751-bc20-639ca43af2a8",
   "metadata": {},
   "outputs": [],
   "source": [
    "alg = ['','H']\n",
    "mnc = ncolor.label(newmasks)\n",
    "viewer.add_labels(mnc,name='{}DBSCAN'.format(alg[hdbscan]),color=sinebow(mnc.max()))\n",
    "# 17.91925573348999 for hdbscan, 10.16240119934082 for dbscan ; then 25 vs 9 later "
   ]
  },
  {
   "cell_type": "code",
   "execution_count": null,
   "id": "9c0a63b0-7f41-4c1a-bb73-8128842b2685",
   "metadata": {},
   "outputs": [],
   "source": [
    "np.unique(newmasks)\n",
    "color = sinebow(newmasks.max())\n",
    "# [color[l]]\n",
    "selection = newmasks>0\n",
    "sub_p = [p[i].ravel()[selection.ravel()] for i in range(p.shape[0])]\n",
    "# sub_col = [color[l] for l in lab[selection.ravel()]]\n",
    "sub_col = [color[l] for l in mnc[mnc>0]]\n",
    "data = np.stack(sub_p,axis=-1)\n",
    "viewer.add_points(np.round(data),size=1,symbol='disc',face_color=sub_col,edge_color=sub_col)"
   ]
  },
  {
   "cell_type": "code",
   "execution_count": null,
   "id": "022d85d6-744a-431b-95bd-a4b1a875c0b5",
   "metadata": {},
   "outputs": [],
   "source": []
  },
  {
   "cell_type": "code",
   "execution_count": null,
   "id": "460765ff-ad8b-4a89-b4bf-3b8e8accc8ff",
   "metadata": {},
   "outputs": [],
   "source": [
    "\n"
   ]
  },
  {
   "cell_type": "code",
   "execution_count": null,
   "id": "7453d800-7c15-452e-9e49-86d8d87fc2cd",
   "metadata": {},
   "outputs": [],
   "source": []
  },
  {
   "cell_type": "code",
   "execution_count": null,
   "id": "4a5dd9cf-924b-4ea3-a69b-c2cab9ab342f",
   "metadata": {},
   "outputs": [],
   "source": [
    "import hdbscan\n",
    "clusterer = hdbscan.HDBSCAN(min_cluster_size=400,min_samples=3)\n",
    "labels = clusterer.fit_predict(np.array(sub_p).T)\n",
    "len(np.unique(labels))"
   ]
  },
  {
   "cell_type": "code",
   "execution_count": null,
   "id": "f45d1153-cff9-4e73-8453-08010c4a8a4f",
   "metadata": {},
   "outputs": [],
   "source": [
    "clusterer = hdbscan.HDBSCAN(cluster_selection_epsilon=2**0.5,min_samples=3, allow_single_cluster=True)\n",
    "clusterer.fit(np.stack(sub_p,axis=1))"
   ]
  },
  {
   "cell_type": "code",
   "execution_count": null,
   "id": "857f54cd-db21-44e7-bf2e-867848b3a9cf",
   "metadata": {},
   "outputs": [],
   "source": [
    "np.unique(clusterer.labels_)\n",
    "# np.sqrt(2)"
   ]
  },
  {
   "cell_type": "code",
   "execution_count": null,
   "id": "fc2ca862-56a9-4a40-bfaf-56fd56d719ec",
   "metadata": {
    "jupyter": {
     "outputs_hidden": true
    },
    "tags": []
   },
   "outputs": [],
   "source": [
    "clusterer.condensed_tree_.plot()"
   ]
  },
  {
   "cell_type": "code",
   "execution_count": null,
   "id": "e608d450-6cec-4534-a4fc-7273804a730b",
   "metadata": {},
   "outputs": [],
   "source": [
    "from sklearn.cluster import DBSCAN\n",
    "eps=1.33\n",
    "db = DBSCAN(eps=eps, min_samples=5, n_jobs=-1).fit(np.array(sub_p).T)"
   ]
  },
  {
   "cell_type": "code",
   "execution_count": null,
   "id": "40c1749f-afdb-43ff-a9c1-df5c34a83c9c",
   "metadata": {},
   "outputs": [],
   "source": [
    "len(np.unique(db.labels_))"
   ]
  },
  {
   "cell_type": "code",
   "execution_count": null,
   "id": "7279cee1-b797-41e2-bffb-fc210dad2040",
   "metadata": {},
   "outputs": [],
   "source": [
    "# np.prod(p.shape)\n",
    "# p[0].ravel().shape,(points.ravel()).shape\n",
    "%timeit p[0].ravel()[points.ravel()]\n",
    "# p[0][points].ravel()"
   ]
  },
  {
   "cell_type": "code",
   "execution_count": null,
   "id": "476ca348-4917-4ed1-b3fc-bc802b7b5ab8",
   "metadata": {},
   "outputs": [],
   "source": [
    "%timeit p[0][points].ravel()"
   ]
  },
  {
   "cell_type": "code",
   "execution_count": null,
   "id": "37f737c3-e473-4191-82df-358b5ced180b",
   "metadata": {},
   "outputs": [],
   "source": [
    "# import datashader as ds, pandas as pd, colorcet\n",
    "# !pip install vaex-jupyter\n",
    "import vaex\n",
    "# df = vaex.from_arrays(z=p[(0,+)],y=p[1],x=p[2])"
   ]
  },
  {
   "cell_type": "code",
   "execution_count": null,
   "id": "27b2b440-fcfa-4011-bc1e-68125d0416a8",
   "metadata": {},
   "outputs": [],
   "source": [
    "axes = [i for i in 'zyx']\n",
    "points = bd>0\n",
    "pdict = dict(zip(axes, [p[i].ravel()[points.ravel()] for i in range(p.shape[0])]))"
   ]
  },
  {
   "cell_type": "code",
   "execution_count": null,
   "id": "6ef1f36d-2fa1-4e83-afd1-1ca6efec24e2",
   "metadata": {},
   "outputs": [],
   "source": [
    "df = vaex.from_dict(pdict)\n",
    "df"
   ]
  },
  {
   "cell_type": "code",
   "execution_count": null,
   "id": "1e8999f4-ea9a-4a8e-8f30-a656e10e69db",
   "metadata": {},
   "outputs": [],
   "source": [
    "import vaex.jupyter.model as vjm\n",
    "await vaex.jupyter.gather()"
   ]
  },
  {
   "cell_type": "code",
   "execution_count": null,
   "id": "ec6921a0-7a93-4eed-8197-b2d243cc0e77",
   "metadata": {},
   "outputs": [],
   "source": [
    "# df.viz.scatter(df.x, df.y, selection=df.z==40, c=\"red\", alpha=0.5, s=4)\n",
    "%matplotlib inline\n",
    "plt.figure()\n",
    "df.viz.heatmap([[\"x\", \"y\"], [\"x\", \"z\"], [\"y\", \"z\"]], title=\"Face on and edge on\", figsize=(8, 4), limits='100%')"
   ]
  },
  {
   "cell_type": "code",
   "execution_count": null,
   "id": "581cab27-ab5b-418a-9e3d-fd9c740ebf74",
   "metadata": {},
   "outputs": [],
   "source": [
    "df.viz.heatmap(\"z\", \"y\", z=\"FeH:-3,-1,8\",\n",
    "               visual=dict(row=\"z\"),\n",
    "               figsize=(12, 8),\n",
    "               f=\"log\",\n",
    "               wrap_columns=3,\n",
    "               limits='99%');\n"
   ]
  },
  {
   "cell_type": "code",
   "execution_count": null,
   "id": "62af6767-2c53-4863-bbb6-c83aaa1e7bdc",
   "metadata": {},
   "outputs": [],
   "source": [
    "omni = 1\n",
    "masks, dists, T, mu = omnipose.core.masks_to_flows(mask,use_gpu=1,omni=omni,dim=mask.ndim)"
   ]
  },
  {
   "cell_type": "code",
   "execution_count": null,
   "id": "fcb32dc3-3376-42ec-9ef2-2abcde062420",
   "metadata": {},
   "outputs": [],
   "source": [
    "from omnipose.core import divergence\n",
    "from omnipose.utils import rescale\n",
    "from omnipose import utils\n",
    "from cellpose import plot\n",
    "from scipy.ndimage import gaussian_filter\n",
    "mu_f = gaussian_filter(mu,sigma=.5)"
   ]
  },
  {
   "cell_type": "code",
   "execution_count": null,
   "id": "812536f4-9a86-4aef-af7b-84d2bf12e14d",
   "metadata": {},
   "outputs": [],
   "source": [
    "%matplotlib inline\n",
    "fig = plt.figure(figsize=[20]*2)\n",
    "\n",
    "if mask.ndim==2:\n",
    "    plt.imshow(plot.dx_to_circ(mu))\n",
    "else:\n",
    "    # plot flow and dist slices \n",
    "    from omnipose.utils import rescale\n",
    "    d = mu.shape[0]\n",
    "    c = np.array([1]*2+[0]*(d-2))\n",
    "    # c = np.arange(d)\n",
    "    def cyclic_perm(a):\n",
    "        n = len(a)\n",
    "        b = [[a[i - j] for i in range(n)] for j in range(n)]\n",
    "        return b\n",
    "    slices = []\n",
    "    idx = np.arange(d)\n",
    "    cmap = mpl.cm.get_cmap('magma')\n",
    "    # pic = cmap(np.sqrt(heat))\n",
    "    # pic[:,:,-1] = masks>0\n",
    "    for inds in cyclic_perm(c):\n",
    "        slc = tuple([slice(-1) if i else mu.shape[k+1]//2 for i,k in zip(inds,idx)])\n",
    "        flow = rescale(plot.dx_to_circ(mu_f[np.where(inds)+slc],transparency=1))\n",
    "        # dist = cmap(rescale(T)[slc])\n",
    "        vals = rescale(np.log(T+1)[slc]) if omni else rescale(np.log(T+1e-5)[slc])\n",
    "        dist = cmap(vals)\n",
    "        dist[:,:,-1]=vals\n",
    "        \n",
    "        \n",
    "        vals = utils.normalize99(divergence(mu_f))[slc]\n",
    "        div = cmap(vals)\n",
    "        div[:,:,-1]=vals\n",
    "        div = utils.normalize99(div)\n",
    "        \n",
    "        \n",
    "        msk = rescale(np.stack([mask[slc]]*4,axis=-1))>0\n",
    "        dist[:,:,-1]=mask[slc]>0\n",
    "        fig = plt.figure(figsize=[80]*2)\n",
    "        plt.imshow(np.hstack((msk,flow,dist,div)),interpolation='none')\n",
    "        plt.axis('off')\n",
    "        plt.show()"
   ]
  },
  {
   "cell_type": "code",
   "execution_count": null,
   "id": "b430dbbc-5845-4350-b811-aed99bdbaca0",
   "metadata": {},
   "outputs": [],
   "source": [
    "from cellpose import transforms\n",
    "tyx = (50,)*3\n",
    "rs = None\n",
    "omni = 1\n",
    "#[imgs[k][np.newaxis,:,:] if imgs[k].ndim==2 else imgs[k] for k in n], [flows[k] for k in n]\n",
    "img,lbl,sc = transforms.random_rotate_and_resize([imcrop[np.newaxis]],[masks],\n",
    "                                                 tyx=tyx,\n",
    "                                                 omni=omni,\n",
    "                                                 rescale=rs,\n",
    "                                                 dim=masks.ndim)\n"
   ]
  },
  {
   "cell_type": "code",
   "execution_count": null,
   "id": "e034f84e-6738-444b-bce7-5b15ac27ae97",
   "metadata": {},
   "outputs": [],
   "source": [
    "\n",
    "from omnipose.utils import rescale\n",
    "from omnipose.core import sigmoid\n",
    "\n",
    "j = 0\n",
    "img0 = img[j].squeeze()\n",
    "mask0 = lbl[j][0]\n",
    "bin0 = lbl[j][1]\n",
    "bd0 = lbl[j][2]\n",
    "dist0 = lbl[j][3]\n",
    "weight0 = lbl[j][4]\n",
    "mu0 = lbl[j][5:]\n",
    "\n",
    "d = mu0.shape[0]\n",
    "c = np.array([1]*2+[0]*(d-2))\n",
    "# c = np.arange(d)\n",
    "def cyclic_perm(a):\n",
    "    n = len(a)\n",
    "    b = [[a[i - j] for i in range(n)] for j in range(n)]\n",
    "    return b\n",
    "slices = []\n",
    "idx = np.arange(d)\n",
    "cmap = mpl.cm.get_cmap('magma')\n",
    "\n",
    "for inds in cyclic_perm(c):\n",
    "    \n",
    "    slc = tuple([slice(-1) if i else mu0.shape[k+1]//2 for i,k in zip(inds,idx)])\n",
    "    flow = rescale(plot.dx_to_circ(mu0[np.where(inds)+slc],transparency=1))\n",
    "    # dist = cmap(rescale(T)[slc])\n",
    "    vals = rescale(dist0)[slc] if omni else rescale(np.log(dist0+1e-5)[slc])\n",
    "    dist = cmap(vals)\n",
    "    dist[:,:,-1]=vals\n",
    "\n",
    "\n",
    "    vals = utils.normalize99(divergence(mu0))[slc]\n",
    "    div = cmap(vals)\n",
    "    div[:,:,-1]=vals\n",
    "    div = utils.normalize99(div)\n",
    "    \n",
    "    bin_ = cmap(bin0[slc])\n",
    "    bd = cmap(bd0[slc])\n",
    "    weight = cmap(rescale(weight0)[slc])\n",
    "\n",
    "    msk = cmap(rescale(ncolor.label(mask0[slc])))\n",
    "    fig = plt.figure(figsize=[80]*2)\n",
    "    plt.imshow(np.hstack((msk,bin_,flow,dist,bd,weight,div)),interpolation='none')\n",
    "    plt.axis('off')\n",
    "    plt.show()"
   ]
  },
  {
   "cell_type": "code",
   "execution_count": null,
   "id": "1812567d-b2a7-43d9-875c-25f17122731f",
   "metadata": {},
   "outputs": [],
   "source": [
    "ncolor.label(mask0).shape"
   ]
  },
  {
   "cell_type": "code",
   "execution_count": null,
   "id": "2313c58f-41b3-42da-b873-8d1148c2aee5",
   "metadata": {},
   "outputs": [],
   "source": [
    "plt.imshow(bd)"
   ]
  },
  {
   "cell_type": "code",
   "execution_count": null,
   "id": "c36bf7a0-eac4-4e0a-af9b-de217c5f5a66",
   "metadata": {},
   "outputs": [],
   "source": [
    "lbl.shape"
   ]
  },
  {
   "cell_type": "code",
   "execution_count": null,
   "id": "52bb1f66-ebf9-41c1-940f-f9708593f9f9",
   "metadata": {},
   "outputs": [],
   "source": [
    "mgood = tifffile.imread('/home/kcutler/DataDrive/plantseg/traintest/LateralRootPrimordia/export_good/test/Movie1_t00030_crop_gt_masks.tif')"
   ]
  },
  {
   "cell_type": "code",
   "execution_count": null,
   "id": "de6ac3b3-baab-4f65-98c8-95542bcea91d",
   "metadata": {},
   "outputs": [],
   "source": [
    "import fastremap\n",
    "len(fastremap.unique(mgood))"
   ]
  },
  {
   "cell_type": "code",
   "execution_count": null,
   "id": "eabbdf1f-75e8-4a5a-86d4-a7948946b1fe",
   "metadata": {},
   "outputs": [],
   "source": []
  }
 ],
 "metadata": {
  "kernelspec": {
   "display_name": "Python 3 (ipykernel)",
   "language": "python",
   "name": "python3"
  },
  "language_info": {
   "codemirror_mode": {
    "name": "ipython",
    "version": 3
   },
   "file_extension": ".py",
   "mimetype": "text/x-python",
   "name": "python",
   "nbconvert_exporter": "python",
   "pygments_lexer": "ipython3",
   "version": "3.8.10"
  }
 },
 "nbformat": 4,
 "nbformat_minor": 5
}
