{
 "cells": [
  {
   "cell_type": "code",
   "execution_count": null,
   "id": "3cfe1784-dc85-48a2-9706-00e6c0da473e",
   "metadata": {},
   "outputs": [],
   "source": [
    "from nd2reader import ND2Reader\n",
    "import matplotlib.pyplot as plt"
   ]
  },
  {
   "cell_type": "code",
   "execution_count": null,
   "id": "8bcd8f50-a35b-4d3e-9866-1fae6a3ff0f2",
   "metadata": {},
   "outputs": [],
   "source": [
    "#only need different pixel<->micron measurments for Brun lab data. Repeat for some of my own datasets to validate. \n",
    "fig_dirs = ['/home/kcutler/DataDrive/caulobacter etc/Caulobacter/Max_caulobacter/CB15N180_001.nd2',\n",
    "            '/home/kcutler/DataDrive/ecVSsp/20210427 Ecoli serratia wt 1to4 20hr 30c/ecsp027.nd2',\n",
    "            '/home/kcutler/DataDrive/20210328 HPYLORI AZ/hpaz.nd2',\n",
    "            '/home/kcutler/DataDrive/Sarah/4-19-2018/WTAfterLB.nd2',\n",
    "            '/home/kcutler/DataDrive/20211018 Larry strains 1234/1234_mid_log.nd2',\n",
    "            '/home/kcutler/DataDrive/BethData/8plasmid_1.nd2',\n",
    "            '/home/kcutler/DataDrive/210414_789_IPTG_LBLBpad_.nd2',\n",
    "            '/home/kcutler/DataDrive/caulobacter etc/Caulobacter/ArrayMultichannel/20180501plates01_06_01C3.nd2',\n",
    "            '/home/kcutler/DataDrive/caulobacter etc/Asti_biprosthecum/Asti_Biprosthecum_cytoplasmicFluo_006.nd2',\n",
    "            '/home/kcutler/DataDrive/caulobacter etc/Caulobacter/Max_caulobacter/HCB15N_004.nd2',\n",
    "            '/home/kcutler/DataDrive/microscope/nao_ml2.nd2','/home/kcutler/DataDrive/test002.nd2',\n",
    "            '/home/kcutler/DataDrive/Fo/WT DddA 001.nd2',\n",
    "            '/home/kcutler/DataDrive/20210328 HPYLORI WT/hpwt001.nd2',\n",
    "            # '/home/kcutler/DataDrive/2016_10_07_morph/2016_10_07_baylyi/2016_10_07_baylyi.nd2'] 0px\n",
    "            # '/home/kcutler/DataDrive/Run Once 1.nd2']\n",
    "            # '/home/kcutler/DataDrive/2016_10_07_morph/2016_10_07_mixed/2016_10_07_mixed001.nd2'] 0 px value\n",
    "\n",
    "\n",
    "with ND2Reader(fig_dirs[-1]) as images:\n",
    "    # plt.imshow(images[0])\n",
    "    px = images.metadata['pixel_microns']\n",
    "    # print('%d x %d px' % (images.metadata['width'], images.metadata['height'], px))\n",
    "    print(px,1/px, images.metadata['experiment'])"
   ]
  },
  {
   "cell_type": "code",
   "execution_count": null,
   "id": "a31ae67a-d15f-471e-a522-15ee5b24bd0f",
   "metadata": {},
   "outputs": [],
   "source": [
    "fig_dirs[0]"
   ]
  },
  {
   "cell_type": "code",
   "execution_count": null,
   "id": "1f212612-54c3-47c2-a95a-6a5b85fd6106",
   "metadata": {},
   "outputs": [],
   "source": [
    "images.metadata"
   ]
  },
  {
   "cell_type": "code",
   "execution_count": null,
   "id": "e64b3bd6-b263-4c60-b232-452a60fd7195",
   "metadata": {},
   "outputs": [],
   "source": [
    "import tifffile\n",
    "im = tifffile.TiffFile('/home/kcutler/DataDrive/a22/testT12XY9C1.tif')"
   ]
  },
  {
   "cell_type": "code",
   "execution_count": null,
   "id": "5f2de3f2-2230-46ae-b011-d96ffc695ae8",
   "metadata": {},
   "outputs": [],
   "source": [
    "im.__dict__"
   ]
  },
  {
   "cell_type": "code",
   "execution_count": null,
   "id": "1e34f230-392d-40dd-ac0f-a4fd959682f5",
   "metadata": {},
   "outputs": [],
   "source": [
    "import numpy as np\n",
    "np.linspace(0,255,7).astype(int)"
   ]
  },
  {
   "cell_type": "code",
   "execution_count": null,
   "id": "4fc3c7d4-5f22-4186-aa0b-285b6beb7ed5",
   "metadata": {},
   "outputs": [],
   "source": []
  }
 ],
 "metadata": {
  "kernelspec": {
   "display_name": "Python 3 (ipykernel)",
   "language": "python",
   "name": "python3"
  },
  "language_info": {
   "codemirror_mode": {
    "name": "ipython",
    "version": 3
   },
   "file_extension": ".py",
   "mimetype": "text/x-python",
   "name": "python",
   "nbconvert_exporter": "python",
   "pygments_lexer": "ipython3",
   "version": "3.8.10"
  }
 },
 "nbformat": 4,
 "nbformat_minor": 5
}
