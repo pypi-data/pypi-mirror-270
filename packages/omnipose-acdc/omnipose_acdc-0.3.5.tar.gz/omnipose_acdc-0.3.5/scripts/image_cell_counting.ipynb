{
 "cells": [
  {
   "cell_type": "markdown",
   "id": "e2a239d5-30c1-4dd6-b9db-04a1c2e1b61a",
   "metadata": {},
   "source": [
    "# Table S1\n",
    "How many cells are in the raw datasets"
   ]
  },
  {
   "cell_type": "code",
   "execution_count": null,
   "id": "4795ed13-2c66-4b65-bdd4-285f41258433",
   "metadata": {},
   "outputs": [],
   "source": [
    "%load_ext autoreload\n",
    "%autoreload 2\n",
    "\n",
    "import numpy as np\n",
    "import time, os, sys\n",
    "from urllib.parse import urlparse\n",
    "from cellpose import models, core, utils\n",
    "from pathlib import Path\n",
    "home = str(Path.home())\n",
    "\n",
    "import time, os, sys\n",
    "import skimage.io\n",
    "import matplotlib.pyplot as plt\n",
    "plt.style.use('dark_background')\n",
    "import matplotlib as mpl\n",
    "%matplotlib inline\n",
    "mpl.rcParams['figure.dpi'] = 300\n",
    "\n",
    "use_GPU = core.use_gpu()\n",
    "print('>>> GPU activated? %d'%use_GPU)"
   ]
  },
  {
   "cell_type": "code",
   "execution_count": null,
   "id": "29180f0a-68be-4ff2-99d2-4c1a537302d1",
   "metadata": {},
   "outputs": [],
   "source": [
    "# 5I_crop data\n",
    "basedir = '/home/kcutler/DataDrive/5I_crop/xy5/masks'\n",
    "images = Path(basedir).glob(\"*.png\")\n",
    "files = [str(p) for p in images]\n",
    "masks_gt = [skimage.io.imread(f) for f in files]\n",
    "counts = [len(np.unique(m)) for m in masks_gt]\n",
    "total1 = np.sum(counts)\n",
    "nimg1 = len(files)\n",
    "print(total1,nimg1)"
   ]
  },
  {
   "cell_type": "code",
   "execution_count": null,
   "id": "c0a97c9a-dc58-47ed-8636-d9686446587a",
   "metadata": {},
   "outputs": [],
   "source": [
    "# A22 data\n",
    "basedir = '/home/kcutler/DataDrive/a22/xytRegister'\n",
    "images = Path(basedir).glob(\"*c1.tif\")\n",
    "files = [str(p) for p in images]\n",
    "imgs = [skimage.io.imread(f) for f in files]\n",
    "nimg2 = len(files)"
   ]
  },
  {
   "cell_type": "code",
   "execution_count": null,
   "id": "5581c2c2-cc3a-46f0-a9d5-a3c99daf4e8b",
   "metadata": {},
   "outputs": [],
   "source": [
    "modeldir = '/home/kcutler/DataDrive/skelpose_train/registered/models/cellpose_residual_on_style_on_concatenation_off_registered_2021_09_26_14_51_45.587717_epoch_3951'\n",
    "skel = True\n",
    "rescale = False\n",
    "nclasses = 4\n",
    "model = models.CellposeModel(gpu=use_GPU, pretrained_model=modeldir, net_avg=False, nclasses=nclasses)\n",
    "nimg = len(imgs)\n",
    "n = range(nimg)\n",
    "dist_threshold = 0 ##############\n",
    "diam_threshold = 12\n",
    "cluster = 1\n",
    "verbose = 0\n",
    "chans = [0,0]\n",
    "\n",
    "masks, flows, styles = model.eval([imgs[i] for i in n],channels=chans,diameter=None,dist_threshold=dist_threshold,\n",
    "                                  flow_threshold=0,skel=skel,resample=False,verbose=verbose,diam_threshold=diam_threshold,cluster=cluster)"
   ]
  },
  {
   "cell_type": "code",
   "execution_count": null,
   "id": "fc7622c8-4ee5-4300-89fa-6f4fe6a1f515",
   "metadata": {},
   "outputs": [],
   "source": [
    "from cellpose import io\n",
    "# io.save_masks(imgs, masks, flows, files, tif=True, save_flows=True, save_outlines=True, dir_above=True, in_folders=True, save_txt=False)"
   ]
  },
  {
   "cell_type": "code",
   "execution_count": null,
   "id": "e9360803-1448-45af-950b-4aaea5f1e56d",
   "metadata": {},
   "outputs": [],
   "source": [
    "counts = [len(np.unique(m)) for m in masks]\n",
    "total2 = np.sum(counts)"
   ]
  },
  {
   "cell_type": "code",
   "execution_count": null,
   "id": "3baaf4f4-8f59-4131-b48b-6d80f8726b21",
   "metadata": {},
   "outputs": [],
   "source": [
    "# caulo data\n",
    "basedir = '/home/kcutler/DataDrive/caulobacter etc/exported'\n",
    "images = Path(basedir).glob(\"*C1.tif\")\n",
    "files = [str(p) for p in images]\n",
    "imgs = [skimage.io.imread(f) for f in files]\n",
    "nimg3 = len(files)\n",
    "# masks = Path(basedir).glob(\"*cp_masks.png\")\n",
    "# maskfiles = [str(p) for p in masks]\n",
    "# msks = [skimage.io.imread(f) for f in maskfiles]"
   ]
  },
  {
   "cell_type": "code",
   "execution_count": null,
   "id": "0f28685d-8c00-498b-bbfa-8642137b188f",
   "metadata": {},
   "outputs": [],
   "source": [
    "nimg = len(imgs)\n",
    "n = range(nimg)\n",
    "dist_threshold = -1\n",
    "masks, flows, styles = model.eval([imgs[i] for i in n],channels=chans,diameter=None,dist_threshold=dist_threshold,\n",
    "                                  flow_threshold=0,skel=skel,resample=False,verbose=verbose,diam_threshold=diam_threshold,cluster=cluster)"
   ]
  },
  {
   "cell_type": "code",
   "execution_count": null,
   "id": "a9f98119-1646-4439-84b3-0b189623f6c5",
   "metadata": {},
   "outputs": [],
   "source": [
    "counts = [len(np.unique(m)) for m in masks]\n",
    "total3 = np.sum(counts)\n",
    "# io.save_masks(imgs, masks, flows, files, tif=True, save_flows=True, save_outlines=True, dir_above=False, in_folders=True, save_txt=False)\n",
    "print(total3)"
   ]
  },
  {
   "cell_type": "code",
   "execution_count": null,
   "id": "b1e1578a-16d4-4513-be97-d432e98a9da4",
   "metadata": {},
   "outputs": [],
   "source": [
    "# cex data \n",
    "basedir = '/home/kcutler/DataDrive/cephalexin/f/multi/xytRegister/masks'\n",
    "images = Path(basedir).glob(\"*.png\")\n",
    "files = [str(p) for p in images]\n",
    "masks = [skimage.io.imread(f) for f in files]\n",
    "nimg4 = len(files)"
   ]
  },
  {
   "cell_type": "code",
   "execution_count": null,
   "id": "04105b88-1e86-4e6f-b85b-02fe04d86820",
   "metadata": {},
   "outputs": [],
   "source": [
    "counts = [len(np.unique(m)) for m in masks]\n",
    "total4 = np.sum(counts)\n",
    "print(total4,nimg4)"
   ]
  },
  {
   "cell_type": "code",
   "execution_count": null,
   "id": "6ba4089d-f9a3-4fc1-98d7-32ae7cf7761f",
   "metadata": {},
   "outputs": [],
   "source": [
    "# cex data 2 (e. coli, not s.flex)\n",
    "basedir = '/home/kcutler/DataDrive/cephalexin/e'\n",
    "images = Path(basedir).glob(\"*.tif\")\n",
    "files = [str(p) for p in images]\n",
    "imgs = [skimage.io.imread(f) for f in files]\n",
    "nimg5 = len(files)"
   ]
  },
  {
   "cell_type": "code",
   "execution_count": null,
   "id": "a951c9fa-6862-4147-9bff-b4ccac014123",
   "metadata": {},
   "outputs": [],
   "source": [
    "nimg = len(imgs)\n",
    "n = range(nimg)\n",
    "dist_threshold = -1\n",
    "masks, flows, styles = model.eval([imgs[i] for i in n],channels=chans,diameter=None,dist_threshold=dist_threshold,\n",
    "                                  flow_threshold=0,skel=skel,resample=False,verbose=verbose,diam_threshold=diam_threshold,cluster=cluster)"
   ]
  },
  {
   "cell_type": "code",
   "execution_count": null,
   "id": "0a4978df-43fe-40a0-9785-ebabe692092a",
   "metadata": {},
   "outputs": [],
   "source": [
    "# io.save_masks(imgs, masks, flows, files, tif=True, save_flows=True, save_outlines=True, dir_above=False, in_folders=True, save_txt=False)\n",
    "counts = [len(np.unique(m)) for m in masks]\n",
    "total5 = np.sum(counts)\n",
    "print(total5,nimg5)"
   ]
  },
  {
   "cell_type": "code",
   "execution_count": null,
   "id": "dd1e7509-de2d-4f5f-8a06-9dd1657b8aaf",
   "metadata": {},
   "outputs": [],
   "source": [
    "# dnaA data\n",
    "basedir = '/home/kcutler/DataDrive/dnaA/'\n",
    "images = Path(basedir).rglob(\"*cp_masks.png\")\n",
    "files = [str(p) for p in images]\n",
    "masks = [skimage.io.imread(f) for f in files]\n",
    "nimg6 = len(files)"
   ]
  },
  {
   "cell_type": "code",
   "execution_count": null,
   "id": "6ea2720b-371f-4fa6-bfe0-4d2bde85c928",
   "metadata": {},
   "outputs": [],
   "source": [
    "counts = [len(np.unique(m)) for m in masks]\n",
    "total6 = np.sum(counts)\n",
    "print(total6,nimg6)"
   ]
  },
  {
   "cell_type": "code",
   "execution_count": null,
   "id": "4d3df090-164b-4fef-9e61-888cc3c3f431",
   "metadata": {},
   "outputs": [],
   "source": [
    "# murA data\n",
    "basedir = '/home/kcutler/DataDrive/murA_crop/'\n",
    "images = Path(basedir).rglob(\"*cp_masks.png\")\n",
    "files = [str(p) for p in images]\n",
    "masks = [skimage.io.imread(f) for f in files]\n",
    "nimg7 = len(files)"
   ]
  },
  {
   "cell_type": "code",
   "execution_count": null,
   "id": "15e6bfed-88f5-4d9e-bf15-7abd5abcfcc2",
   "metadata": {},
   "outputs": [],
   "source": [
    "counts = [len(np.unique(m)) for m in masks]\n",
    "total7 = np.sum(counts)\n",
    "print(total7,nimg7)"
   ]
  },
  {
   "cell_type": "code",
   "execution_count": null,
   "id": "3e30b0a4-0d38-4208-b10b-1aee42caa625",
   "metadata": {},
   "outputs": [],
   "source": [
    "#ftsN data\n",
    "basedir = '/home/kcutler/DataDrive/merge_ftsN/xy1/crop/xy1/masks'\n",
    "images = Path(basedir).rglob(\"*_masks.png\")\n",
    "files = [str(p) for p in images]\n",
    "masks = [skimage.io.imread(f) for f in files]\n",
    "nimg8 = len(files)\n",
    "counts = [len(np.unique(m)) for m in masks]\n",
    "total8 = np.sum(counts)\n",
    "print(total8,nimg8)"
   ]
  },
  {
   "cell_type": "code",
   "execution_count": null,
   "id": "39a5ce8c-7f0e-4ab6-857c-0f1fde3a8123",
   "metadata": {},
   "outputs": [],
   "source": [
    "# E. coli branching mutant \n",
    "basedir = '/home/kcutler/DataDrive/4529 branching/'\n",
    "images = Path(basedir).rglob(\"*xytRegister/*c1.tif\")\n",
    "files = [str(p) for p in images]\n",
    "imgs = [skimage.io.imread(f) for f in files]\n",
    "nimg9 = len(files)\n",
    "for n in range(nimg9):\n",
    "    if len(imgs[n].shape) > 2:\n",
    "            imgs[n] = imgs[n][:,:,0]"
   ]
  },
  {
   "cell_type": "code",
   "execution_count": null,
   "id": "ffae3ba3-ff50-4a4a-84d7-57d10574b46f",
   "metadata": {},
   "outputs": [],
   "source": [
    "nimg = len(imgs)\n",
    "n = range(nimg)\n",
    "dist_threshold = -1\n",
    "masks, flows, styles = model.eval([imgs[i] for i in n],channels=chans,diameter=None,dist_threshold=dist_threshold,\n",
    "                                  flow_threshold=0,skel=skel,resample=False,verbose=verbose,diam_threshold=diam_threshold,cluster=False)"
   ]
  },
  {
   "cell_type": "code",
   "execution_count": null,
   "id": "07df4d9a-a10e-4697-a796-9dc2b54dfa71",
   "metadata": {},
   "outputs": [],
   "source": [
    "# io.save_masks(imgs, masks, flows, files, tif=True, save_flows=True, save_outlines=True, dir_above=False, in_folders=True, save_txt=False, png=False, skel=skel)\n",
    "counts = [len(np.unique(m)) for m in masks]\n",
    "total9 = np.sum(counts)\n",
    "print(total9,nimg9)"
   ]
  },
  {
   "cell_type": "code",
   "execution_count": null,
   "id": "14794886-4f32-4ba4-867c-f8847da9eb36",
   "metadata": {},
   "outputs": [],
   "source": [
    "# hpylori data\n",
    "basedir = '/home/kcutler/DataDrive/Hpylori'\n",
    "images = Path(basedir).rglob(\"*C1.tif\")\n",
    "files = [str(p) for p in images]\n",
    "imgs = [skimage.io.imread(f) for f in files]\n",
    "nimg10 = len(files)\n",
    "for n in range(nimg10):\n",
    "    if len(imgs[n].shape) > 2:\n",
    "            imgs[n] = imgs[n][:,:,0]"
   ]
  },
  {
   "cell_type": "code",
   "execution_count": null,
   "id": "98d76991-9d44-45ac-bf7a-3a8ff4a77a2d",
   "metadata": {},
   "outputs": [],
   "source": [
    "nimg = len(imgs)\n",
    "n = range(nimg)\n",
    "dist_threshold = -1\n",
    "masks, flows, styles = model.eval([imgs[i] for i in n],channels=chans,diameter=None,dist_threshold=dist_threshold,\n",
    "                                  flow_threshold=0,skel=skel,resample=False,verbose=verbose,diam_threshold=diam_threshold,cluster=False)"
   ]
  },
  {
   "cell_type": "code",
   "execution_count": null,
   "id": "41398061-e770-48d2-8a00-e3179195ede0",
   "metadata": {},
   "outputs": [],
   "source": [
    "# io.save_masks(imgs, masks, flows, files, tif=True, save_flows=True, save_outlines=True, dir_above=False, in_folders=True, save_txt=False, png=False, skel=skel)\n",
    "counts = [len(np.unique(m)) for m in masks]\n",
    "total10 = np.sum(counts)\n",
    "print(total10,nimg10)"
   ]
  },
  {
   "cell_type": "code",
   "execution_count": null,
   "id": "9c08b8e0-54c0-4c3a-ad98-f244b33c69b4",
   "metadata": {},
   "outputs": [],
   "source": [
    "# hpylori data (second round)\n",
    "basedir = '/home/kcutler/DataDrive/newHpyloriCombined'\n",
    "images = Path(basedir).rglob(\"*cp_masks.png\")\n",
    "files = [str(p) for p in images]\n",
    "masks = [skimage.io.imread(f) for f in files]\n",
    "nimg11 = len(files)\n",
    "counts = [len(np.unique(m)) for m in masks]\n",
    "total11 = np.sum(counts)\n",
    "print(total11,nimg11)"
   ]
  },
  {
   "cell_type": "code",
   "execution_count": null,
   "id": "b90b3694-a47a-4d40-8ed4-0bdb9b377b3d",
   "metadata": {},
   "outputs": [],
   "source": [
    "# E. coli and serratia /Volumes/DataDrive/ecVSsp\n",
    "# basedir = '/home/kcutler/DataDrive/ecVSsp' wring directory, that was the snapshots\n",
    "basedir = '/home/kcutler/DataDrive/Serratia vs E. coli/'\n",
    "images = Path(basedir).rglob(\"*C1.tif\")\n",
    "files = [str(p) for p in images]\n",
    "imgs = [skimage.io.imread(f) for f in files]\n",
    "nimg12 = len(files)"
   ]
  },
  {
   "cell_type": "code",
   "execution_count": null,
   "id": "d3831dc8-3f10-4da7-9cef-1f2ebabd490a",
   "metadata": {},
   "outputs": [],
   "source": [
    "nimg = len(imgs)\n",
    "n = range(nimg)\n",
    "dist_threshold = -1\n",
    "masks, flows, styles = model.eval([imgs[i] for i in n],channels=chans,diameter=None,dist_threshold=dist_threshold,\n",
    "                                  flow_threshold=0,skel=skel,resample=False,verbose=verbose,diam_threshold=diam_threshold,cluster=False)"
   ]
  },
  {
   "cell_type": "code",
   "execution_count": null,
   "id": "137be76a-57a4-4e50-8350-01bab00c5f79",
   "metadata": {},
   "outputs": [],
   "source": [
    "io.save_masks(imgs, masks, flows, files, tif=True, save_flows=True, save_outlines=True, dir_above=False, in_folders=True, save_txt=False, png=False, skel=skel)\n",
    "counts = [len(np.unique(m)) for m in masks]\n",
    "total12 = np.sum(counts)\n",
    "print(total12,nimg12)"
   ]
  },
  {
   "cell_type": "code",
   "execution_count": null,
   "id": "4cf5e0d2-6a3e-4169-8636-6d61deb8eb56",
   "metadata": {},
   "outputs": [],
   "source": [
    "#psvb mix a\n",
    "basedir = '/home/kcutler/DataDrive/PSVB mix/a/xytRegister'\n",
    "images = Path(basedir).rglob(\"*cp_masks.png\")\n",
    "files = [str(p) for p in images]\n",
    "masks = [skimage.io.imread(f) for f in files]\n",
    "nimg13 = len(files)\n",
    "counts = [len(np.unique(m)) for m in masks]\n",
    "total13 = np.sum(counts)\n",
    "print(total13,nimg13)"
   ]
  },
  {
   "cell_type": "code",
   "execution_count": null,
   "id": "9cfbd20a-f200-4c8c-8180-28640ffa6689",
   "metadata": {},
   "outputs": [],
   "source": [
    "#psvb mix b\n",
    "basedir = '/home/kcutler/DataDrive/PSVB mix/b/xytRegister'\n",
    "images = Path(basedir).rglob(\"*c1.tif\")\n",
    "files = [str(p) for p in images]\n",
    "imgs = [skimage.io.imread(f) for f in files]\n",
    "nimg14 = len(files)"
   ]
  },
  {
   "cell_type": "code",
   "execution_count": null,
   "id": "e0dddf07-9feb-4d37-95f1-b25d27aec4c3",
   "metadata": {},
   "outputs": [],
   "source": [
    "nimg = len(imgs)\n",
    "n = range(nimg)\n",
    "dist_threshold = -1\n",
    "masks, flows, styles = model.eval([imgs[i] for i in n],channels=chans,diameter=None,dist_threshold=dist_threshold,\n",
    "                                  flow_threshold=0,skel=skel,resample=False,verbose=verbose,diam_threshold=diam_threshold,cluster=False)"
   ]
  },
  {
   "cell_type": "code",
   "execution_count": null,
   "id": "96fa6fa0-fab7-4eec-a838-8b482ef362b8",
   "metadata": {},
   "outputs": [],
   "source": [
    "# io.save_masks(imgs, masks, flows, files, tif=True, save_flows=True, save_outlines=True, dir_above=False, in_folders=True, save_txt=False, png=False, skel=skel)\n",
    "counts = [len(np.unique(m)) for m in masks]\n",
    "total14 = np.sum(counts)\n",
    "print(total14,nimg14)"
   ]
  },
  {
   "cell_type": "code",
   "execution_count": null,
   "id": "edbb8b50-e8c2-4bd6-9f79-763d370ff352",
   "metadata": {},
   "outputs": [],
   "source": [
    "#psvb mix c - oops, already had the masks for that one, oh well\n",
    "basedir = '/home/kcutler/DataDrive/PSVB mix/c/xytRegister'\n",
    "images = Path(basedir).rglob(\"*c1.tif\")\n",
    "files = [str(p) for p in images]\n",
    "imgs = [skimage.io.imread(f) for f in files]\n",
    "nimg15 = len(files)"
   ]
  },
  {
   "cell_type": "code",
   "execution_count": null,
   "id": "cc6ae57f-a1a5-47e0-a27a-f1f4f3ea7aae",
   "metadata": {},
   "outputs": [],
   "source": [
    "nimg = len(imgs)\n",
    "n = range(nimg)\n",
    "dist_threshold = -1\n",
    "masks, flows, styles = model.eval([imgs[i] for i in n],channels=chans,diameter=None,dist_threshold=dist_threshold,\n",
    "                                  flow_threshold=0,skel=skel,resample=False,verbose=verbose,diam_threshold=diam_threshold,cluster=False)"
   ]
  },
  {
   "cell_type": "code",
   "execution_count": null,
   "id": "790eed88-73e8-4f0f-8740-d43d8894dd1b",
   "metadata": {},
   "outputs": [],
   "source": [
    "io.save_masks(imgs, masks, flows, files, tif=True, save_flows=True, save_outlines=True, dir_above=False, in_folders=True, save_txt=False, png=False, skel=skel)\n",
    "counts = [len(np.unique(m)) for m in masks]\n",
    "total15 = np.sum(counts)\n",
    "print(total15,nimg15)"
   ]
  },
  {
   "cell_type": "code",
   "execution_count": null,
   "id": "1e387f13-c529-42cc-8443-221794518655",
   "metadata": {},
   "outputs": [],
   "source": [
    "#pao1 and staph \n",
    "basedir = '/home/kcutler/DataDrive/PAO1 and staph/xytRegister'\n",
    "images = Path(basedir).rglob(\"*cp_masks.png\")\n",
    "files = [str(p) for p in images]\n",
    "masks = [skimage.io.imread(f) for f in files]\n",
    "nimg16 = len(files)\n",
    "counts = [len(np.unique(m)) for m in masks]\n",
    "total16 = np.sum(counts)\n",
    "print(total16,nimg16)"
   ]
  },
  {
   "cell_type": "code",
   "execution_count": null,
   "id": "89078c05-d03e-44e0-81c3-99113f5bb627",
   "metadata": {},
   "outputs": [],
   "source": [
    "#streptomyces\n",
    "basedir = '/home/kcutler/DataDrive/streptomyces'\n",
    "images = Path(basedir).rglob(\"*C1.tif\")\n",
    "files = [str(p) for p in images]\n",
    "imgs = [skimage.io.imread(f) for f in files]\n",
    "nimg17 = len(files)\n"
   ]
  },
  {
   "cell_type": "code",
   "execution_count": null,
   "id": "41713618-31bd-4f1e-858d-9b1c3fca9e24",
   "metadata": {},
   "outputs": [],
   "source": [
    "nimg = len(imgs)\n",
    "n = range(nimg)\n",
    "dist_threshold = -1\n",
    "masks, flows, styles = model.eval([imgs[i] for i in n],channels=chans,diameter=None,dist_threshold=dist_threshold,\n",
    "                                  flow_threshold=0,skel=skel,resample=False,verbose=verbose,diam_threshold=diam_threshold,cluster=False)"
   ]
  },
  {
   "cell_type": "code",
   "execution_count": null,
   "id": "45200a66-dd49-48ed-9b67-b468e80235b3",
   "metadata": {},
   "outputs": [],
   "source": [
    "# io.save_masks(imgs, masks, flows, files, tif=True, save_flows=True, save_outlines=True, dir_above=False, in_folders=True, save_txt=False, png=False, skel=skel)\n",
    "counts = [len(np.unique(m)) for m in masks]\n",
    "total17 = np.sum(counts)\n",
    "print(total17,nimg17)"
   ]
  },
  {
   "cell_type": "code",
   "execution_count": null,
   "id": "9d6060ad-9d72-436b-93ad-b0fe628b0d84",
   "metadata": {},
   "outputs": [],
   "source": [
    "# vibrio\n",
    "basedir = '/home/kcutler/DataDrive/vibrio/masks'\n",
    "images = Path(basedir).rglob(\"*cp_masks.png\")\n",
    "files = [str(p) for p in images]\n",
    "masks = [skimage.io.imread(f) for f in files]\n",
    "nimg18 = len(files)\n",
    "counts = [len(np.unique(m)) for m in masks]\n",
    "total18 = np.sum(counts)\n",
    "print(total18,nimg18)"
   ]
  },
  {
   "cell_type": "code",
   "execution_count": null,
   "id": "fc8617fa-c442-4446-a5ac-a1b7a7d30ea2",
   "metadata": {},
   "outputs": [],
   "source": [
    "#'wiggins' teresa data\n",
    "basedirs = {'/home/kcutler/DataDrive/teresadata/210409_1236_3M9pad_timelapse_1_6',\n",
    "            '/home/kcutler/DataDrive/teresadata/210403_789_LB_IPTG_timelapse_1_1',\n",
    "            '/home/kcutler/DataDrive/teresadata/210402_789_IPTG_timelapse_1_2',\n",
    "            '/home/kcutler/DataDrive/teresadata/210402_789_IPTG_timelapse_1_1',\n",
    "            '/home/kcutler/DataDrive/teresadata/210330_789_IPTG_timelapse_1_2',\n",
    "            '/home/kcutler/DataDrive/teresadata/210326_789_IPTG_timelapse_1_2',\n",
    "            '/home/kcutler/DataDrive/teresadata/210326_789_IPTG_timelapse_1_1',\n",
    "            '/home/kcutler/DataDrive/teresadata/210325_789_IPTG_timelapse_1_1'}\n",
    "total19 = 0\n",
    "nimg19 = 0\n",
    "for basedir in basedirs:\n",
    "    images = Path(basedir).rglob(\"*cp_masks.png\")\n",
    "    files = [str(p) for p in images]\n",
    "    masks = [skimage.io.imread(f) for f in files]\n",
    "    nimg = len(files)\n",
    "    counts = [len(np.unique(m)) for m in masks]\n",
    "    total = np.sum(counts)\n",
    "    print(total,nimg)\n",
    "    total19 += total\n",
    "    nimg19 += nimg\n",
    "print(total19,nimg19)"
   ]
  },
  {
   "cell_type": "code",
   "execution_count": null,
   "id": "c6d49aed-bc1e-40a4-9bcf-358aac2ccc96",
   "metadata": {},
   "outputs": [],
   "source": [
    "# b thai\n",
    "basedir = '/home/kcutler/DataDrive/tle3/greenvsRG/f/xytRegister/align/masks'\n",
    "images = Path(basedir).rglob(\"*_masks.png\")\n",
    "files = [str(p) for p in images]\n",
    "masks = [skimage.io.imread(f) for f in files]\n",
    "nimg20 = len(files)\n",
    "counts = [len(np.unique(m)) for m in masks]\n",
    "total20 = np.sum(counts)\n",
    "print(total20,nimg20)"
   ]
  },
  {
   "cell_type": "code",
   "execution_count": null,
   "id": "51185ca7-9362-4da3-8417-48b57ede357f",
   "metadata": {},
   "outputs": [],
   "source": [
    "# francisella\n",
    "basedir = '/home/kcutler/DataDrive/Francisella/multi'\n",
    "images = Path(basedir).rglob(\"*c1.tif\")\n",
    "files = [str(p) for p in images]\n",
    "imgs = [skimage.io.imread(f) for f in files]\n",
    "nimg21 = len(files)"
   ]
  },
  {
   "cell_type": "code",
   "execution_count": null,
   "id": "5f55b178-64fa-433d-9c3d-324fb97f3fdb",
   "metadata": {},
   "outputs": [],
   "source": [
    "nimg = len(imgs)\n",
    "n = range(nimg)\n",
    "dist_threshold = -1\n",
    "masks, flows, styles = model.eval([imgs[i] for i in n],channels=chans,diameter=None,dist_threshold=dist_threshold,\n",
    "                                  flow_threshold=0,skel=skel,resample=False,verbose=verbose,diam_threshold=diam_threshold,cluster=False)"
   ]
  },
  {
   "cell_type": "code",
   "execution_count": null,
   "id": "b9893f32-3af7-41a5-af57-886994b3f142",
   "metadata": {},
   "outputs": [],
   "source": [
    "io.save_masks(imgs, masks, flows, files, tif=True, save_flows=True, save_outlines=True, dir_above=False, in_folders=True, save_txt=False, png=False, skel=skel)\n",
    "counts = [len(np.unique(m)) for m in masks]\n",
    "total21 = np.sum(counts)\n",
    "print(total21,nimg21)"
   ]
  },
  {
   "cell_type": "code",
   "execution_count": null,
   "id": "aff82f7c-8154-4587-ab42-a789eaa889ef",
   "metadata": {},
   "outputs": [],
   "source": [
    "finalCellCount = 0\n",
    "finalImgCount = 0\n",
    "names = ['5I_crop','A22','caulo','cex s flex','cex ec','dnaA','murA','ftsN','ec mutant',\n",
    "         'hpyori','hpylori 2','serratia+ec','psvb a','psvb b','psvb c','pao1 staph','streptomyces',\n",
    "         'vibrio','wiggins/teresa','bthai','francisella']\n",
    "for i in range(1,22):\n",
    "    print(names[i-1],str(i))\n",
    "    exec(\"print(%s,%s)\" % ('nimg'+str(i),'total'+str(i)))\n",
    "    exec(\"%s += %s\" % ('finalCellCount','total'+str(i)))\n",
    "    exec(\"%s += %s\" % ('finalImgCount','nimg'+str(i)))"
   ]
  },
  {
   "cell_type": "code",
   "execution_count": null,
   "id": "d8a6492c-401c-419d-9782-1281ccbf5a6b",
   "metadata": {},
   "outputs": [],
   "source": [
    "#total psvb\n",
    "nimg13+nimg14+nimg15,total13+total14+total15"
   ]
  },
  {
   "cell_type": "code",
   "execution_count": null,
   "id": "25e7cd8e-741b-4a3b-908f-672c682e7294",
   "metadata": {},
   "outputs": [],
   "source": [
    "finalCellCount/finalImgCount"
   ]
  },
  {
   "cell_type": "code",
   "execution_count": null,
   "id": "26960171-3cc7-4ac4-85f2-297b3ef54523",
   "metadata": {},
   "outputs": [],
   "source": [
    "finalCellCount,finalImgCount"
   ]
  },
  {
   "cell_type": "code",
   "execution_count": null,
   "id": "3974f4da-3136-47d5-8cca-1fcfc2bd553f",
   "metadata": {},
   "outputs": [],
   "source": [
    "len(names)"
   ]
  },
  {
   "cell_type": "markdown",
   "id": "98f7d1a0-9b07-4306-a003-44c9f61825d0",
   "metadata": {},
   "source": [
    "# Count ground truth"
   ]
  },
  {
   "cell_type": "code",
   "execution_count": null,
   "id": "82e562b0-8f9d-4391-884f-ab5e91733ce8",
   "metadata": {},
   "outputs": [],
   "source": [
    "# base = '/home/kcutler/DataDrive/skelpose_test/'\n",
    "base = '/home/kcutler/DataDrive/omnipose_all/phase/train_sorted/'\n",
    "folders = [x[0] for x in os.walk(base)][1:]\n",
    "names_train = [os.path.split(f)[-1] for f in folders]\n",
    "\n",
    "nimg_train = []\n",
    "total_train = []\n",
    "train_count = dict()\n",
    "for idx,fldr in enumerate(folders):\n",
    "    images = Path(fldr).glob(\"*masks*\")\n",
    "    files = [str(p) for p in images]\n",
    "    masks_gt = [skimage.io.imread(f) for f in files]\n",
    "    counts = [len(np.unique(m)) for m in masks_gt]\n",
    "    total0 = np.sum(counts)\n",
    "    nimg0 = len(files)\n",
    "    nimg_train.append(nimg0)\n",
    "    total_train.append(total0)\n",
    "    train_count[names_train[idx]] = total0\n",
    "    print(names_train[idx],total0)\n",
    "np.sum(total_train)"
   ]
  },
  {
   "cell_type": "code",
   "execution_count": null,
   "id": "f6790a28-2d14-4a21-80a0-0d5fd10b03dd",
   "metadata": {},
   "outputs": [],
   "source": [
    "base = '/home/kcutler/DataDrive/omnipose_all/phase/test_sorted/'\n",
    "# base = '/home/kcutler/DataDrive/omnipose_all/phase/train_sorted/'\n",
    "\n",
    "folders = [x[0] for x in os.walk(base)][1:]\n",
    "names_test = [os.path.split(f)[-1] for f in folders]\n",
    "\n",
    "nimg_test = []\n",
    "total_test = []\n",
    "test_count = dict()\n",
    "for idx,fldr in enumerate(folders):\n",
    "    images = Path(fldr).glob(\"*masks*\")\n",
    "    files = [str(p) for p in images]\n",
    "    masks_gt = [skimage.io.imread(f) for f in files]\n",
    "    counts = [len(np.unique(m))-1 for m in masks_gt]\n",
    "    total0 = np.sum(counts)\n",
    "    nimg0 = len(files)\n",
    "    nimg_test.append(nimg0)\n",
    "    total_test.append(total0)\n",
    "    test_count[names_test[idx]] = total0\n",
    "    print(names_test[idx],total0)\n",
    "print(np.sum(total_test))"
   ]
  },
  {
   "cell_type": "code",
   "execution_count": null,
   "id": "e8c606b2-1c95-4177-b37f-d441c6a5cff9",
   "metadata": {},
   "outputs": [],
   "source": [
    "SUM = np.sum(total_test)+np.sum(total_train)\n",
    "SUM"
   ]
  },
  {
   "cell_type": "code",
   "execution_count": null,
   "id": "4216638a-bc4d-4b1d-8433-48e1155d65ee",
   "metadata": {},
   "outputs": [],
   "source": [
    "\n",
    "common_names = set(names_train).intersection(names_test)\n",
    "for c in common_names:\n",
    "    a = test_count[c]\n",
    "    b = train_count[c]\n",
    "    total = a+b\n",
    "    print(c, a,b,total, total/SUM*100)\n",
    "    "
   ]
  },
  {
   "cell_type": "code",
   "execution_count": null,
   "id": "21a497b7-75d7-4172-8b5e-660460d15722",
   "metadata": {},
   "outputs": [],
   "source": [
    "SUM"
   ]
  },
  {
   "cell_type": "code",
   "execution_count": null,
   "id": "e38c441c-e388-41cc-a7a3-9a1b5d27fc29",
   "metadata": {},
   "outputs": [],
   "source": [
    "for i in range(len(names_train)):\n",
    "    tot = total_test[i]+total_train[i]\n",
    "    print(names_train[i],tot, tot/SUM*100)\n",
    "#     print(tot, tot/SUM*100)"
   ]
  },
  {
   "cell_type": "code",
   "execution_count": null,
   "id": "7091cc57-8431-46b9-8ed8-04e43627cf59",
   "metadata": {},
   "outputs": [],
   "source": [
    "sorted(np.array(total_test)+total_train)"
   ]
  },
  {
   "cell_type": "code",
   "execution_count": null,
   "id": "b0e155c7-0c68-4707-8d21-1b999c731926",
   "metadata": {},
   "outputs": [],
   "source": [
    "p = []\n",
    "for i in range(len(names_train)):\n",
    "    tot = total_test[i]+total_train[i]\n",
    "    p.append(tot/SUM*100)"
   ]
  },
  {
   "cell_type": "code",
   "execution_count": null,
   "id": "98a1b0a4-8bcb-42d6-93c7-fd33d7229ea3",
   "metadata": {},
   "outputs": [],
   "source": [
    "sorted(p)"
   ]
  },
  {
   "cell_type": "code",
   "execution_count": null,
   "id": "9a416ad5-55a6-44f5-a0f6-0efbe89d7eb6",
   "metadata": {},
   "outputs": [],
   "source": [
    "nimg17"
   ]
  },
  {
   "cell_type": "code",
   "execution_count": null,
   "id": "fe60cfc5-fe65-48f0-870d-e80e21d0433a",
   "metadata": {},
   "outputs": [],
   "source": [
    "base = '/home/kcutler/DataDrive/omnipose_all/phase/train_sorted/streptomyces'\n",
    "images = Path(base).glob(\"*masks*\")\n",
    "files = [str(p) for p in images]\n",
    "masks_gt = [skimage.io.imread(f) for f in files]\n",
    "counts = [len(np.unique(m))-1 for m in masks_gt]\n",
    "total0 = np.sum(counts)\n",
    "total0"
   ]
  },
  {
   "cell_type": "code",
   "execution_count": null,
   "id": "86592f70-8691-490c-b868-f455c152dc92",
   "metadata": {},
   "outputs": [],
   "source": [
    "files"
   ]
  },
  {
   "cell_type": "code",
   "execution_count": null,
   "id": "dd05c0ac-d839-4477-b4f2-ea4b6bbd58e0",
   "metadata": {},
   "outputs": [],
   "source": [
    "base = '/home/kcutler/DataDrive/omnipose_all/phase/test_sorted/streptomyces'\n",
    "images = Path(base).glob(\"*masks*\")\n",
    "files = [str(p) for p in images]\n",
    "masks_gt = [skimage.io.imread(f) for f in files]\n",
    "counts = [len(np.unique(m))-1 for m in masks_gt]\n",
    "total0 = np.sum(counts)\n",
    "total0"
   ]
  },
  {
   "cell_type": "code",
   "execution_count": null,
   "id": "5e23ed23-4b5d-495a-83d3-dfbb3e01991a",
   "metadata": {},
   "outputs": [],
   "source": [
    "files"
   ]
  },
  {
   "cell_type": "code",
   "execution_count": null,
   "id": "38d884e6-a00f-47d1-94e0-d80274ca170b",
   "metadata": {},
   "outputs": [],
   "source": []
  }
 ],
 "metadata": {
  "kernelspec": {
   "display_name": "Python 3 (ipykernel)",
   "language": "python",
   "name": "python3"
  },
  "language_info": {
   "codemirror_mode": {
    "name": "ipython",
    "version": 3
   },
   "file_extension": ".py",
   "mimetype": "text/x-python",
   "name": "python",
   "nbconvert_exporter": "python",
   "pygments_lexer": "ipython3",
   "version": "3.8.10"
  }
 },
 "nbformat": 4,
 "nbformat_minor": 5
}
