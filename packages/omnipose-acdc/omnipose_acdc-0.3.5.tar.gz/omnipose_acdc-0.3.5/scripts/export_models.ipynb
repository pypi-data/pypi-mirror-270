{
 "cells": [
  {
   "cell_type": "code",
   "execution_count": null,
   "id": "3f0f3b9a-c8be-4d64-b90f-3fbc98737ca8",
   "metadata": {},
   "outputs": [],
   "source": [
    "from omnipose.core import OMNI_MODELS\n",
    "OMNI_MODELS"
   ]
  },
  {
   "cell_type": "code",
   "execution_count": null,
   "id": "517a5a10-aa79-41b5-b044-8db37e8bc2dc",
   "metadata": {},
   "outputs": [],
   "source": [
    "#already exported the bact, bact_omni, and cyto2_omni\n",
    "\n",
    "plant_cp = '/home/kcutler/DataDrive/plantseg/traintest/LateralRootPrimordia/export_small/cellpose/train/models/cellpose_residual_on_style_on_concatenation_off_train_2022_05_09_01_43_03.829853_epoch_499'\n",
    "plant_op = '/home/kcutler/DataDrive/plantseg/traintest/LateralRootPrimordia/export_small/train/models/cellpose_residual_on_style_on_concatenation_off_omni_train_2022_05_08_01_56_56.310115_epoch_2901'\n",
    "fluor_cp = '/home/kcutler/DataDrive/omnipose_all/fluor/train_sorted/models/cellpose_residual_on_style_on_concatenation_off_train_sorted_2022_05_11_01_41_12.849365_epoch_499'\n",
    "fluor_op = '/home/kcutler/DataDrive/omnipose_all/fluor/train_sorted/models/cellpose_residual_on_style_on_concatenation_off_omni_train_sorted_2022_04_20_13_25_40.528729_epoch_3999'\n",
    "worm_cp = '/home/kcutler/DataDrive/omnipose_train/worm_combined/train/models/cellpose_residual_on_style_on_concatenation_off_train_2021_11_29_20_55_15.218080_epoch_3201'\n",
    "worm_op = '/home/kcutler/DataDrive/omnipose_train/worm_combined/train/models/cellpose_residual_on_style_on_concatenation_off_omni_train_2021_11_29_18_58_46.417568_epoch_3201'\n",
    "worm_bact_op = '/home/kcutler/DataDrive/omnipose_train/worm_bact/train/models/cellpose_residual_on_style_on_concatenation_off_omni_train_2021_11_30_09_38_51.092240_epoch_3201'\n",
    "worm_high_res_op = '/home/kcutler/DataDrive/luca/train/models/cellpose_residual_on_style_on_concatenation_off_omni_train_good_2022_04_21_01_30_25.911493_epoch_3999'\n",
    "\n",
    "\n",
    "directories = [None,\n",
    "               fluor_cp,\n",
    "               plant_cp,\n",
    "               worm_cp,\n",
    "               None,\n",
    "               None,\n",
    "               fluor_op,\n",
    "               plant_op,\n",
    "               worm_op,\n",
    "               worm_bact_op,\n",
    "               worm_high_res_op]\n",
    "\n",
    "print(len(directories)==len(OMNI_MODELS))\n",
    "\n",
    "suffix = 'torch_0'\n",
    "from cellpose import io\n",
    "import shutil, os\n",
    "savedir = '/home/kcutler/.cellpose/exported_models/'\n",
    "# savedir = '/home/kcutler/DataDrive/exported_models/'\n",
    "\n",
    "io.check_dir(savedir)\n",
    "\n",
    "for i,X in enumerate(zip(directories,OMNI_MODELS)):\n",
    "    src = X[0]\n",
    "    if src is not None:\n",
    "        name = X[1]\n",
    "        dst = os.path.join(savedir,name+suffix)\n",
    "        shutil.copyfile(src, dst)\n",
    "        # print(dst)"
   ]
  },
  {
   "cell_type": "code",
   "execution_count": null,
   "id": "fe326bfb-8082-42c7-950d-9c78ad89e74e",
   "metadata": {},
   "outputs": [],
   "source": [
    "len(OMNI_MODELS)"
   ]
  },
  {
   "cell_type": "code",
   "execution_count": null,
   "id": "ed3e2288-11f7-41b2-a51b-808be0eb46fe",
   "metadata": {},
   "outputs": [],
   "source": []
  }
 ],
 "metadata": {
  "kernelspec": {
   "display_name": "Python 3 (ipykernel)",
   "language": "python",
   "name": "python3"
  },
  "language_info": {
   "codemirror_mode": {
    "name": "ipython",
    "version": 3
   },
   "file_extension": ".py",
   "mimetype": "text/x-python",
   "name": "python",
   "nbconvert_exporter": "python",
   "pygments_lexer": "ipython3",
   "version": "3.8.10"
  }
 },
 "nbformat": 4,
 "nbformat_minor": 5
}
