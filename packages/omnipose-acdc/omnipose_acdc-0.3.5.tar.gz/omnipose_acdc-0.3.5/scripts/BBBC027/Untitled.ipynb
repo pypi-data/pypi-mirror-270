{
 "cells": [
  {
   "cell_type": "code",
   "execution_count": null,
   "id": "57b6edae-064a-4ea8-92be-4139058d315e",
   "metadata": {},
   "outputs": [],
   "source": [
    "%load_ext autoreload\n",
    "%autoreload 2\n",
    "\n",
    "\n",
    "import numpy as np\n",
    "import time, os, sys\n",
    "\n",
    "import skimage.io\n",
    "import matplotlib.pyplot as plt\n",
    "plt.style.use('dark_background')\n",
    "import matplotlib as mpl\n",
    "%matplotlib inline\n",
    "mpl.rcParams['figure.dpi'] = 300\n",
    "\n",
    "from scipy.ndimage import binary_closing,grey_closing\n",
    "from skimage import measure\n",
    "import omnipose\n",
    "import ncolor \n",
    "from omnipose.utils import sinebow\n",
    "\n",
    "from scipy.ndimage import gaussian_filter\n",
    "from omnipose.utils import normalize99, rescale\n",
    "from scipy.ndimage import gaussian_filter\n",
    "\n",
    "def localnormalize(im,sigma1=2,sigma2=3):\n",
    "    im = normalize99(im)\n",
    "    blur1 = gaussian_filter(im,sigma=sigma1)\n",
    "    num = im - blur1\n",
    "    blur2 = gaussian_filter(num*num, sigma=sigma2)\n",
    "    den = np.sqrt(blur2)\n",
    "    \n",
    "    return normalize99(num/den+1e-8)\n",
    "\n",
    "def cyclic_perm(a):\n",
    "    n = len(a)\n",
    "    b = [[a[i - j] for i in range(n)] for j in range(n)]\n",
    "    return b\n",
    "\n",
    "# Make a function that extracts the file name \n",
    "from pathlib import Path\n",
    "def getname(path,suffix=''):\n",
    "    return os.path.splitext(Path(path).name)[0].replace(suffix,'')\n",
    "\n",
    "import tifffile\n",
    "from omnipose import core\n",
    "import fastremap\n",
    "import scipy\n",
    "from cellpose import io\n"
   ]
  },
  {
   "cell_type": "code",
   "execution_count": null,
   "id": "a0c4f2c0-3c8e-49f6-9b46-1122848bef5a",
   "metadata": {},
   "outputs": [],
   "source": [
    "# !pip install aicsimageio\n",
    "# !pip install bioformats_jar\n",
    "from aicsimageio import AICSImage"
   ]
  },
  {
   "cell_type": "code",
   "execution_count": null,
   "id": "6100e78c-3477-4f30-a4ad-8fb1e1b5c9ff",
   "metadata": {},
   "outputs": [],
   "source": [
    "# save0 = '/home/kcutler/DataDrive/3D_BBBC/BBBC027'\n",
    "basedir = '/home/kcutler/DataDrive/3D_BBBC/BBBC027'\n",
    "savedir = []\n",
    "cpdir = []\n",
    "ext = '.tif'\n",
    "for t in ['test','train']:\n",
    "    sd = os.path.join(basedir,t)\n",
    "    io.check_dir(sd)\n",
    "    savedir.append(sd)\n",
    "    sd = os.path.join(basedir,'cellpose',t)\n",
    "    io.check_dir(sd)\n",
    "    cpdir.append(sd)\n",
    "savedir,cpdir"
   ]
  },
  {
   "cell_type": "code",
   "execution_count": null,
   "id": "3997cdea-19e0-42d4-8159-0467d9388d51",
   "metadata": {},
   "outputs": [],
   "source": [
    "for number in range(30):\n",
    "    name = \"%04d\" % (number,)\n",
    "    img = AICSImage(os.path.join(save0,'image-final_'+name+'.ics')).data.squeeze()\n",
    "    mask =  AICSImage(os.path.join(save0,'image-labels_'+name+'.ics')).data.squeeze()\n",
    "    labels, _ = scipy.ndimage.label(mask)\n",
    "    labels = fastremap.refit(labels)\n",
    "    if number%3:\n",
    "        sd = savedir[0]\n",
    "    else:\n",
    "        sd = savedir[1]\n",
    "        \n",
    "    tifffile.imwrite(os.path.join(sd,name+ext),img)\n",
    "    tifffile.imwrite(os.path.join(sd,name+'_masks'+ext),labels)"
   ]
  },
  {
   "cell_type": "code",
   "execution_count": null,
   "id": "4788e4ad-4f58-444e-8baf-c1d017d4164b",
   "metadata": {},
   "outputs": [],
   "source": [
    "d = 3\n",
    "idx = np.arange(d)\n",
    "c = np.array([0]*(d-2)+[1]*2)\n",
    "cyclic_perm(c),idx,c\n",
    "ext = '.tif'\n",
    "a = 'zyx'\n",
    "# for basedir,save0 in zip(expdir,cpdir):\n",
    "for basedir,save0 in zip([savedir[1]],[cpdir[1]]): #only do train \n",
    "\n",
    "    mask_filter = '_masks'\n",
    "    img_names = io.get_image_files(basedir,mask_filter)\n",
    "    mask_names,_ = io.get_label_files(img_names, mask_filter)\n",
    "    for p1,p2 in zip(img_names,mask_names):\n",
    "        img = tifffile.imread(p1)\n",
    "        mask = tifffile.imread(p2)\n",
    "        s = img.shape\n",
    "        name = getname(p1)\n",
    "        for inds,i in zip(cyclic_perm(c),idx):\n",
    "            for k in range(s[i]):\n",
    "                slc = tuple([slice(-1) if i else k for i in inds])\n",
    "                suffix = '_'+a[i]+'{:03d}'.format(k)\n",
    "                l = omnipose.utils.format_labels(mask[slc],clean=True)\n",
    "                if np.any(l): # only keep slices that have masks\n",
    "                    tifffile.imwrite(os.path.join(save0,name+suffix+ext),np.uint16(omnipose.utils.rescale(img[slc])*(2**16-1)))\n",
    "                    tifffile.imwrite(os.path.join(save0,name+suffix+'_masks'+ext),l)"
   ]
  },
  {
   "cell_type": "markdown",
   "id": "c0f124f7-bce0-4468-9ed2-e77edfa339dd",
   "metadata": {},
   "source": [
    "# Evaluate models"
   ]
  },
  {
   "cell_type": "code",
   "execution_count": null,
   "id": "f3427d30-24cd-4b20-b848-16265ea44140",
   "metadata": {},
   "outputs": [],
   "source": [
    "imgs = []\n",
    "masks_gt = []\n",
    "#test files now\n",
    "mask_filter = '_masks'\n",
    "img_names = io.get_image_files(savedir[0],mask_filter)\n",
    "mask_names,_ = io.get_label_files(img_names, mask_filter)\n",
    "n = [0]\n",
    "for p1,p2 in zip([img_names[i] for i in n],[mask_names[i] for i in n]):\n",
    "    imgs.append(tifffile.imread(p1))\n",
    "    masks_gt.append(tifffile.imread(p2))"
   ]
  },
  {
   "cell_type": "code",
   "execution_count": null,
   "id": "0766c2f9-16d8-428c-ac15-25e26d6c367b",
   "metadata": {},
   "outputs": [],
   "source": [
    "c = 0\n",
    "for mgt in masks_gt:\n",
    "    c+=len(fastremap.unique(mgt))\n",
    "print(c)"
   ]
  },
  {
   "cell_type": "code",
   "execution_count": null,
   "id": "d341c044-e0bb-4d05-942f-dc85397f832c",
   "metadata": {},
   "outputs": [],
   "source": [
    "modeldir = '/home/kcutler/DataDrive/3D_BBBC/BBBC027/cellpose/train/models/cellpose_residual_on_style_on_concatenation_off_train_2022_05_10_03_44_47.268923_epoch_499'\n",
    "omni = False\n",
    "rescale = False\n",
    "diam_mean = 0\n",
    "from cellpose import models, core\n",
    "use_GPU = core.use_gpu()\n",
    "model = models.CellposeModel(gpu=use_GPU, pretrained_model=modeldir, net_avg=False, \n",
    "                             diam_mean=diam_mean)"
   ]
  },
  {
   "cell_type": "code",
   "execution_count": null,
   "id": "3c7a1430-312f-49e3-933e-774a426f49f5",
   "metadata": {},
   "outputs": [],
   "source": [
    "net_avg = 0\n",
    "verbose = 0 \n",
    "tile = 0\n",
    "chans = [0,0]\n",
    "compute_masks = True\n",
    "flow_threshold = 0.0\n",
    "# n = [0,1,2,3,4,5]\n",
    "n = [0]\n",
    "rescale = None\n",
    "# slc = tuple([slice(0,129)]*3)\n",
    "slc = slice(None)\n",
    "slc = tuple([slice(0,129),slice(100,300),slice(500,700)])\n"
   ]
  },
  {
   "cell_type": "code",
   "execution_count": null,
   "id": "63ca1459-7338-42d2-900a-bbcd29dd77e1",
   "metadata": {
    "tags": []
   },
   "outputs": [],
   "source": [
    "masks_cp, flows_cp, _ = model.eval([imgs[i][slc] for i in n],channels = chans,rescale=rescale, net_avg=net_avg,\n",
    "                                  transparency=True, flow_threshold=flow_threshold, verbose=verbose, tile=tile,\n",
    "                                  compute_masks=compute_masks, do_3D=True, omni=False)"
   ]
  },
  {
   "cell_type": "code",
   "execution_count": null,
   "id": "392269cf-572e-4b6e-a489-f6fd81cfa0e9",
   "metadata": {},
   "outputs": [],
   "source": [
    "# now do Omnipose\n",
    "import torch\n",
    "modeldir = '/home/kcutler/DataDrive/3D_BBBC/BBBC027/train/models/cellpose_residual_on_style_on_concatenation_off_omni_train_2022_05_03_22_16_13.356647_epoch_2601'\n",
    "# modeldir = '/home/kcutler/DataDrive/3D_BBBC/BBBC027/train/models/cellpose_residual_on_style_on_concatenation_off_omni_train_2022_05_03_22_16_13.356647_epoch_2451'\n",
    "\n",
    "dim = 3\n",
    "nclasses = dim+2\n",
    "nchan = 1\n",
    "omni = 1\n",
    "rescale = False\n",
    "diam_mean = 0\n",
    "from cellpose import models, core\n",
    "use_GPU = core.use_gpu()\n",
    "model = models.CellposeModel(gpu=use_GPU, pretrained_model=modeldir, net_avg=False, \n",
    "                             diam_mean=diam_mean, nclasses=nclasses, dim=dim, nchan=nchan, omni=omni)#/',device=torch.device('cuda'))#,checkpoint=True,device=torch.device('cuda:1'))"
   ]
  },
  {
   "cell_type": "code",
   "execution_count": null,
   "id": "15578388-3d79-440d-a695-797133fa21df",
   "metadata": {},
   "outputs": [],
   "source": [
    "mask_threshold = -5 \n",
    "diam_threshold = 12\n",
    "net_avg = 0\n",
    "cluster = 0 \n",
    "verbose = 1\n",
    "tile = 1\n",
    "chans = None\n",
    "compute_masks = 1\n",
    "resample=False\n",
    "rescale=None\n",
    "omni=True\n",
    "flow_factor = 10.0\n",
    "masks_om, flows_om, _ = model.eval([imgs[i][slc] for i in n],channels=None,rescale=rescale,mask_threshold=mask_threshold,net_avg=net_avg,\n",
    "                                  transparency=True,flow_threshold=flow_threshold,omni=omni,resample=resample,verbose=verbose,\n",
    "                                  diam_threshold=diam_threshold,cluster=cluster,tile=tile,\n",
    "                                  compute_masks=compute_masks, flow_factor=flow_factor, batch_size=1)"
   ]
  },
  {
   "cell_type": "code",
   "execution_count": null,
   "id": "f8db9c42-a79a-466e-8233-556ac1040241",
   "metadata": {},
   "outputs": [],
   "source": [
    "masks = [masks_cp,masks_om]\n",
    "flows = [flows_cp,flows_om]\n",
    "names = ['cellpose','omnipose']\n",
    "np.array(masks).shape"
   ]
  },
  {
   "cell_type": "code",
   "execution_count": null,
   "id": "a4bc1631-2ac0-42c5-93aa-328269fdeb95",
   "metadata": {},
   "outputs": [],
   "source": [
    "# now quanititative comparison \n",
    "# !pip install stardist\n",
    "from stardist import matching\n",
    "a = 0.5\n",
    "b = 1.0\n",
    "thresh =np.arange(a,b,(b-a)/100)\n",
    "fig = plt.figure()\n",
    "c = ['r','g']\n",
    "for i,name in enumerate(names):\n",
    "    met =[matching.matching(mgt[slc],m, thresh=thresh) for mgt,m in zip(masks_gt, masks[i])]\n",
    "    a = np.array([[met[k][i].accuracy for i in range(len(thresh))] for k in range(len(met))]).T\n",
    "\n",
    "    np.save(os.path.join(basedir,name+'_3D_plants_individual'),a)\n",
    "    a = np.mean(a,axis=1)\n",
    "    plt.plot(thresh,a, label=name,c=c[i])#+['masks_cp'])\n",
    "    np.save(os.path.join(basedir,name+'cellpose_3D_plants'),a)\n",
    "    plt.legend()"
   ]
  },
  {
   "cell_type": "code",
   "execution_count": null,
   "id": "5f98b536-753b-44c8-8880-6e5cd91cb12b",
   "metadata": {},
   "outputs": [],
   "source": [
    "cmap = mpl.cm.get_cmap('viridis')\n",
    "for j in n:\n",
    "    for i,name in enumerate(names):\n",
    "        print(name,i)\n",
    "        img = imgs[j][slc]\n",
    "        mgt = masks_gt[j][slc]\n",
    "        msk = masks[i][j]\n",
    "        dt = flows[i][j][2]\n",
    "        bd = flows[i][j][4]\n",
    "        frgb = flows[i][j][0]\n",
    "        k = img.shape[0]//3 # middle slice \n",
    "        fig = plt.figure()\n",
    "        plt.imshow(np.hstack(tuple(map(cmap,map(omnipose.utils.rescale,[img[k],dt[k], bd[k],\n",
    "                                                                        ncolor.label(msk[k]),\n",
    "                                                                        ncolor.label(mgt[k])])))\n",
    "                             +(frgb[k]/255,)))\n",
    "        plt.axis('off')"
   ]
  },
  {
   "cell_type": "code",
   "execution_count": null,
   "id": "4dcaf0ff-d01c-4e31-a0a7-11738184970d",
   "metadata": {},
   "outputs": [],
   "source": [
    "import napari\n",
    "k = 0\n",
    "viewer = napari.view_image(imgs[k][slc], name='cells')\n",
    "viewer.add_labels(masks_gt[k][slc], name='labels_gt',visible=False)\n",
    "viewer.add_image(flows[0][k][0], name=names[0]+'_flows',visible=False)\n",
    "viewer.add_labels(masks[0][k], name=names[0],visible=False)\n",
    "viewer.add_image(flows[1][k][0], name=names[1]+'_flows',visible=False)\n",
    "\n",
    "viewer.add_labels(masks[1][k], name=names[1],visible=False)"
   ]
  },
  {
   "cell_type": "code",
   "execution_count": null,
   "id": "3afef5d9-e1be-4e12-bc16-0cd25da424b9",
   "metadata": {
    "tags": []
   },
   "outputs": [],
   "source": [
    "mu = flows_om[0][1]\n",
    "dt = flows_om[0][2]\n",
    "p = flows_om[0][3]\n",
    "bd = flows_om[0][4]\n",
    "hdbscan = 1\n",
    "cluster = 0\n",
    "newmasks,p,_,lab= omnipose.core.compute_masks(mu,dt,bd=bd,mask_threshold=mask_threshold,\n",
    "                                               use_gpu=True,verbose=True,cluster=cluster, \n",
    "                                               flow_threshold=0., dim=3, hdbscan=hdbscan, \n",
    "                                                debug=1, eps=3, min_size=30, nclasses=dt.ndim+2,\n",
    "                                              flow_factor=10)"
   ]
  },
  {
   "cell_type": "code",
   "execution_count": null,
   "id": "29340d2e-96e9-46a7-b626-53b1fcfbf189",
   "metadata": {},
   "outputs": [],
   "source": [
    "mnc = ncolor.label(newmasks)\n",
    "viewer.add_labels(mnc,color=sinebow(mnc.max()))\n",
    "\n",
    "np.unique(newmasks)\n",
    "color = sinebow(newmasks.max())\n",
    "# [color[l]]\n",
    "selection = newmasks>0\n",
    "sub_p = [p[i].ravel()[selection.ravel()] for i in range(p.shape[0])]\n",
    "# sub_col = [color[l] for l in lab[selection.ravel()]]\n",
    "sub_col = [color[l] for l in mnc[mnc>0]]\n",
    "data = np.stack(sub_p,axis=-1)\n",
    "viewer.add_points(np.round(data),size=1,symbol='disc',face_color=sub_col,edge_color=sub_col)"
   ]
  },
  {
   "cell_type": "code",
   "execution_count": null,
   "id": "08151c11-3123-4d26-b1a7-c1a24e9107ac",
   "metadata": {},
   "outputs": [],
   "source": [
    "6"
   ]
  },
  {
   "cell_type": "code",
   "execution_count": null,
   "id": "b9d47fc8-b914-4a64-9ccd-12545d6c8e76",
   "metadata": {},
   "outputs": [],
   "source": []
  }
 ],
 "metadata": {
  "kernelspec": {
   "display_name": "Python 3 (ipykernel)",
   "language": "python",
   "name": "python3"
  },
  "language_info": {
   "codemirror_mode": {
    "name": "ipython",
    "version": 3
   },
   "file_extension": ".py",
   "mimetype": "text/x-python",
   "name": "python",
   "nbconvert_exporter": "python",
   "pygments_lexer": "ipython3",
   "version": "3.8.10"
  }
 },
 "nbformat": 4,
 "nbformat_minor": 5
}
