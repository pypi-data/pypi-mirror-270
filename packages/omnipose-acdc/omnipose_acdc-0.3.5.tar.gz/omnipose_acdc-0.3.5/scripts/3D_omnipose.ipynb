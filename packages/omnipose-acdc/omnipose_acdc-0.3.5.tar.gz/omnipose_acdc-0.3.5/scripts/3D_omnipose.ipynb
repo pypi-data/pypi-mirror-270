{
 "cells": [
  {
   "cell_type": "code",
   "execution_count": null,
   "id": "9fa64335-0b38-42ad-8ae4-5f9b024b6a6e",
   "metadata": {},
   "outputs": [],
   "source": [
    "%load_ext autoreload\n",
    "%autoreload 2\n",
    "\n",
    "from pathlib import Path\n",
    "from cellpose import io\n",
    "import skimage.io\n",
    "import numpy as np\n",
    "import matplotlib.pyplot as plt\n",
    "plt.style.use('dark_background')\n",
    "import matplotlib as mpl\n",
    "%matplotlib inline\n",
    "mpl.rcParams['figure.dpi'] = 300\n",
    "from cellpose import dynamics, transforms\n",
    "from scipy import stats\n"
   ]
  },
  {
   "cell_type": "code",
   "execution_count": null,
   "id": "8356eb21-53e4-4ea8-ab8c-0f87a6509fae",
   "metadata": {},
   "outputs": [],
   "source": [
    "from aicsimageio.readers import CziReader\n",
    "import os\n",
    "basedir = '/home/kcutler/DataDrive/confocal'\n",
    "dataset = 'Experiment-712' #720 too dim, 733 too thick, 704 too binned,707 good! try 708 next \n",
    "dataset = 'Experiment-707' \n",
    "dataset = 'Experiment-719' #clean up edges of my dataset\n",
    "\n",
    "reader = CziReader(os.path.join(basedir,dataset+'.czi'))\n",
    "im = reader.data.squeeze()"
   ]
  },
  {
   "cell_type": "code",
   "execution_count": null,
   "id": "101c385a-e94b-4f39-b214-cf7a86535bf4",
   "metadata": {},
   "outputs": [],
   "source": [
    "# import tifffile\n",
    "# im = tifffile.imread('/home/kcutler/DataDrive/3D_BBBC/BBBC027/train/0000.tif')"
   ]
  },
  {
   "cell_type": "code",
   "execution_count": null,
   "id": "4c8eb43d-49cc-4cc9-bbbc-8cefdf39e244",
   "metadata": {},
   "outputs": [],
   "source": [
    "modeldir = '/home/kcutler/DataDrive/confocal/train60/models/cellpose_residual_on_style_on_concatenation_off_omni_train60_2022_04_28_02_39_03.970940_epoch_3999'\n",
    "modeldir = '/home/kcutler/DataDrive/confocal/train60/models/cellpose_residual_on_style_on_concatenation_off_omni_train60_2022_04_28_02_39_03.970940_epoch_3951'"
   ]
  },
  {
   "cell_type": "code",
   "execution_count": null,
   "id": "cc3df9e2-349e-4aab-b3ce-3979d498e80c",
   "metadata": {},
   "outputs": [],
   "source": [
    "dim = 3\n",
    "nclasses = dim+2\n",
    "nchan = 1\n",
    "omni = 1\n",
    "rescale = False\n",
    "diam_mean = 0\n",
    "from cellpose import models, core\n",
    "use_GPU = core.use_gpu()\n",
    "print('>>> GPU activated? %d'%use_GPU)\n",
    "use_GPU = 0\n",
    "model = models.CellposeModel(gpu=use_GPU, pretrained_model=modeldir, net_avg=False, \n",
    "                             diam_mean=diam_mean, nclasses=nclasses, dim=dim, nchan=nchan)\n",
    "model.pretrained_model"
   ]
  },
  {
   "cell_type": "code",
   "execution_count": null,
   "id": "fc11bc51-703b-48c0-a944-d785146ca381",
   "metadata": {},
   "outputs": [],
   "source": [
    "mask_threshold = -5 ##############\n",
    "diam_threshold = 12\n",
    "net_avg = 0\n",
    "cluster = 0\n",
    "verbose = 1\n",
    "\n",
    "tile = 0\n",
    "chans = [0,0]\n",
    "chans = None\n",
    "compute_masks = 1\n",
    "slc_crop = slice(None)\n",
    "# slc_crop = slice(100, 120, None)\n",
    "# slc_crop = slice(13, 53, None) # 733\n",
    "# slc_crop = slice(50, 100, None) # 704\n",
    "slc_crop = slice(15, 52, None) # 707\n",
    "# slc_crop = slice(30, 70, None) # 712\n",
    "# slc_crop = (Ellipsis,)+tuple([slice(0,129)]*2)\n",
    "resample=False\n",
    "rescale = None\n",
    "\n",
    "imcrop = im[slc_crop]\n",
    "# imcrop = im[100:120]\n",
    "# imcrop = im.copy()\n",
    "# import torch\n",
    "imcrop.shape"
   ]
  },
  {
   "cell_type": "code",
   "execution_count": null,
   "id": "793ccfe1-e351-4472-a8b2-ea22c253396c",
   "metadata": {},
   "outputs": [],
   "source": [
    "masks, flows, styles = model.eval(imcrop,channels = chans,rescale=rescale,mask_threshold=mask_threshold,net_avg=net_avg,\n",
    "                                  transparency=True,flow_threshold=0.,omni=omni,resample=resample,verbose=verbose,\n",
    "                                  diam_threshold=diam_threshold,cluster=cluster,tile=0,\n",
    "                                  compute_masks=compute_masks)\n",
    "#     else:"
   ]
  },
  {
   "cell_type": "code",
   "execution_count": null,
   "id": "e297c9ec-e2e5-44e6-a07d-c48948affeba",
   "metadata": {},
   "outputs": [],
   "source": [
    "import omnipose, tifffile\n",
    "mu = flows[1]\n",
    "dt = flows[2]\n",
    "p = flows[3]\n",
    "bd = flows[4]\n",
    "suffix = '_1951'\n",
    "ext = '.tif'\n",
    "tifffile.imwrite(os.path.join(basedir,dataset+'_trained_flow'+suffix+ext),mu)\n",
    "tifffile.imwrite(os.path.join(basedir,dataset+'_trained_dist'+suffix+ext),dt)\n"
   ]
  },
  {
   "cell_type": "code",
   "execution_count": null,
   "id": "f67feb5c-72fa-48b1-ad79-1d601616da6d",
   "metadata": {},
   "outputs": [],
   "source": [
    "hdbscan = 1\n",
    "cluster = 0\n",
    "masks,p,_= omnipose.core.compute_masks(mu,dt,bd=bd,mask_threshold=mask_threshold,\n",
    "                                           use_gpu=True,verbose=True,cluster=cluster, \n",
    "                                           flow_threshold=0., dim=3, hdbscan=hdbscan, \n",
    "                                        debug=0, eps=3, min_size=30, nclasses=im.ndim+2)"
   ]
  },
  {
   "cell_type": "code",
   "execution_count": null,
   "id": "144fc29e-47d7-405f-aaa9-4e12c43d0e13",
   "metadata": {},
   "outputs": [],
   "source": [
    "import napari, ncolor\n",
    "from omnipose.utils import sinebow"
   ]
  },
  {
   "cell_type": "code",
   "execution_count": null,
   "id": "cb8cf759-9b25-405b-925c-8c90be4baf2f",
   "metadata": {},
   "outputs": [],
   "source": [
    "mnc = ncolor.label(masks)\n",
    "N = np.max(mnc)\n",
    "viewer = napari.view_image(imcrop, name='cells')\n",
    "viewer.add_labels(mnc, name='labels',color=sinebow(N+3))"
   ]
  },
  {
   "cell_type": "code",
   "execution_count": null,
   "id": "4ee78c07-a4dc-43ee-bf30-c521dead3def",
   "metadata": {},
   "outputs": [],
   "source": [
    "import tifffile\n",
    "tifffile.imwrite(os.path.join(basedir,dataset+'_trained_masks'),masks)\n",
    "tifffile.imwrite(os.path.join(basedir,dataset+'_trained_flow'),mu)\n",
    "tifffile.imwrite(os.path.join(basedir,dataset+'_trained_dist'),dt)\n",
    "\n"
   ]
  },
  {
   "cell_type": "code",
   "execution_count": null,
   "id": "4f3bf8d3-95a0-4402-aad5-4e9cbbcc505e",
   "metadata": {},
   "outputs": [],
   "source": [
    "viewer.add_image(flows[2], name='dist')\n",
    "viewer.add_image(flows[4], name='bd')\n",
    "viewer.add_image(flows[0], name='flow')\n"
   ]
  },
  {
   "cell_type": "code",
   "execution_count": null,
   "id": "0bce3ff2-4506-41fd-b7bd-ed4e9904ce76",
   "metadata": {},
   "outputs": [],
   "source": [
    "mu = flows[1]\n",
    "mag = np.sqrt(np.nansum(mu**2,axis=0))\n",
    "viewer.add_image(mag>2.5)"
   ]
  },
  {
   "cell_type": "code",
   "execution_count": null,
   "id": "89cf3ff4-72ab-4817-843a-26101d288c69",
   "metadata": {},
   "outputs": [],
   "source": [
    "gt = ncolor.label(tifffile.imread('/home/kcutler/DataDrive/3D_BBBC/BBBC027/train/0000_masks.tif'))[slc_crop]\n",
    "N = gt.max()\n",
    "viewer.add_labels(gt, name='labels_gt',color=sinebow(N+3))"
   ]
  },
  {
   "cell_type": "code",
   "execution_count": null,
   "id": "fe2bd04c-8af0-4791-9eba-e457c60c5537",
   "metadata": {},
   "outputs": [],
   "source": [
    "mag.max()"
   ]
  },
  {
   "cell_type": "code",
   "execution_count": null,
   "id": "98db46c3-98c1-4f6d-8584-a5bbf5fda2b5",
   "metadata": {},
   "outputs": [],
   "source": [
    "im.shape"
   ]
  },
  {
   "cell_type": "code",
   "execution_count": null,
   "id": "6f7e2eee-2cc1-41f8-948c-f393d808770e",
   "metadata": {},
   "outputs": [],
   "source": [
    "plt.imshow(im[:,300])"
   ]
  },
  {
   "cell_type": "code",
   "execution_count": null,
   "id": "d3ebfb3c-6e8e-41a3-8dd5-cf8384343f9d",
   "metadata": {},
   "outputs": [],
   "source": [
    "import tifffile\n",
    "stack = tifffile.imread('/home/kcutler/DataDrive/luca/data/tif_stacks/191.tif')"
   ]
  },
  {
   "cell_type": "code",
   "execution_count": null,
   "id": "fcf671f4-89f7-4463-bcf1-0867b84fbbd7",
   "metadata": {},
   "outputs": [],
   "source": [
    "viewer = napari.view_image(stack, name='cells')\n"
   ]
  },
  {
   "cell_type": "code",
   "execution_count": null,
   "id": "dff48292-136a-42ab-b046-074a226ecf82",
   "metadata": {},
   "outputs": [],
   "source": [
    "from aicsimageio import AICSImage\n",
    "idir = '/home/kcutler/DataDrive/3D_BBBC/BBBC024_v1_c75_highSNR_foreground/image-labels_0015.ics'\n",
    "img = AICSImage(idir)\n"
   ]
  },
  {
   "cell_type": "code",
   "execution_count": null,
   "id": "ad9289cd-54a6-495f-ba0e-8526b22c1807",
   "metadata": {},
   "outputs": [],
   "source": [
    "# img.data  # returns 5D TCZYX numpy array\n",
    "# img.xarray_data  # returns 5D TCZYX xarray data array backed by numpy\n",
    "# img.dims  # returns a Dimensions object\n",
    "# img.dims.order  # returns string \"TCZYX\"\n",
    "# img.dims.X  # returns size of X dimension\n",
    "# img.shape  # returns tuple of dimension sizes in TCZYX order\n",
    "# img.get_image_data(\"CZYX\", T=0)  # returns 4D CZYX numpy array\n",
    "import napari\n",
    "viewer = napari.view_image(img.data.squeeze(), name='cells')\n"
   ]
  },
  {
   "cell_type": "code",
   "execution_count": null,
   "id": "9cc9aae3-d5bc-43ae-95bc-823ed5c155b0",
   "metadata": {
    "jupyter": {
     "outputs_hidden": true
    },
    "tags": []
   },
   "outputs": [],
   "source": [
    "!pip install aicsimageio[bfio] --force --upgrade"
   ]
  },
  {
   "cell_type": "code",
   "execution_count": null,
   "id": "52c38968-8674-4f1e-814d-756e8b8f0c7a",
   "metadata": {},
   "outputs": [],
   "source": [
    "import numpy as np\n",
    "import tifffile\n",
    "from cloudvolume import CloudVolume\n",
    "\n",
    "# vol = CloudVolume(\n",
    "#     \"s3://open-neurodata/hildebrand/120809zf104/151009\", mip=0, use_https=True\n",
    "# )\n",
    "\n",
    "# # load data into numpy array\n",
    "# cutout = vol[1024:1536, 512:1024, 7520:7536]\n",
    "\n",
    "\n",
    "vol = CloudVolume(\n",
    "    \"s3://open-neurodata/cardona/acardona_abd1_5/image\", mip=0, use_https=True\n",
    ")\n",
    "\n",
    "# load data into numpy array\n",
    "cutout = vol[10752:11264, 9216:9728, 96:112]\n",
    "viewer = napari.view_image(cutout.squeeze(), name='cells')\n"
   ]
  },
  {
   "cell_type": "code",
   "execution_count": null,
   "id": "6542616e-ee49-4e9c-a898-b3d3a6fc5458",
   "metadata": {},
   "outputs": [],
   "source": [
    "mask = tifffile.imread('/home/kcutler/DataDrive/Pedicel/Pedicel Segmentation.tif')\n",
    "im = tifffile.imread('/home/kcutler/DataDrive/Pedicel/Pedicel stack.tif')"
   ]
  },
  {
   "cell_type": "code",
   "execution_count": null,
   "id": "e666ba9e-1519-48c9-9158-5a9be584b94f",
   "metadata": {},
   "outputs": [],
   "source": [
    "import napari\n",
    "# mnc = ncolor.label(mask)\n",
    "# N = np.max(mnc)\n",
    "viewer = napari.view_image(im, name='cells')\n",
    "viewer.add_labels(np.flip(mask,axis=0), name='labels')"
   ]
  },
  {
   "cell_type": "code",
   "execution_count": null,
   "id": "7f1bbcaf-92de-4cb7-a919-42f8e794ac4e",
   "metadata": {},
   "outputs": [],
   "source": [
    "cutout.shape"
   ]
  },
  {
   "cell_type": "code",
   "execution_count": null,
   "id": "7808e059-8270-42d9-8431-2d0966fbb9b5",
   "metadata": {},
   "outputs": [],
   "source": [
    "import ncolor\n",
    "mnc0 = ncolor.label(mask,max_depth = 11)"
   ]
  },
  {
   "cell_type": "code",
   "execution_count": null,
   "id": "62f57421-7b67-4ae3-8266-1ff6c64b1f87",
   "metadata": {},
   "outputs": [],
   "source": [
    "mask.shape,im.shape"
   ]
  },
  {
   "cell_type": "code",
   "execution_count": null,
   "id": "c163a6bb-0ce7-4204-8f4f-a0b6930bfe68",
   "metadata": {},
   "outputs": [],
   "source": [
    "viewer.add_labels(np.flip(mask,axis=2), name='labels2')"
   ]
  },
  {
   "cell_type": "code",
   "execution_count": null,
   "id": "dec0d60c-aa7c-49d5-a899-9e32ad044c45",
   "metadata": {},
   "outputs": [],
   "source": [
    "viewer.add_labels(np.flip(mask,axis=1), name='labels1')"
   ]
  },
  {
   "cell_type": "code",
   "execution_count": null,
   "id": "a5dad1d1-b9a7-4b68-8be6-af4d872413b9",
   "metadata": {},
   "outputs": [],
   "source": [
    "from cellpose import plot\n",
    "fl = plot.dx_to_circ(flows[1])"
   ]
  },
  {
   "cell_type": "code",
   "execution_count": null,
   "id": "b584f67b-75f4-4c7c-99ab-3ee700825b0d",
   "metadata": {},
   "outputs": [],
   "source": [
    "from cellpose import io\n",
    "save0 = os.path.join('/home/kcutler/DataDrive/confocal',dataset,'flow')\n",
    "io.check_dir(save0)\n",
    "ext = '.png'\n",
    "for k in range(im.shape[1]):\n",
    "# for k in [0]:\n",
    "    # imk = np.uint8(flows[0][:,k])\n",
    "    imk = np.uint8(fl[:,k])\n",
    "    skimage.io.imsave(os.path.join(save0,str(k)+ext),imk)"
   ]
  },
  {
   "cell_type": "code",
   "execution_count": null,
   "id": "e687c92c-dc00-47e1-9617-55dc5f819050",
   "metadata": {},
   "outputs": [],
   "source": [
    "flows[1].shape"
   ]
  },
  {
   "cell_type": "code",
   "execution_count": null,
   "id": "8ec021a3-9874-4922-866c-6c92b4a9d35e",
   "metadata": {},
   "outputs": [],
   "source": []
  },
  {
   "cell_type": "code",
   "execution_count": null,
   "id": "6ba9743a-814c-4ec4-b0ee-0c6c3bd39930",
   "metadata": {},
   "outputs": [],
   "source": [
    "plt.imshow(fl[:,4])"
   ]
  },
  {
   "cell_type": "code",
   "execution_count": null,
   "id": "61d53c49-4930-4170-b6eb-94488652f470",
   "metadata": {},
   "outputs": [],
   "source": [
    "2755/10*40/60/60"
   ]
  },
  {
   "cell_type": "code",
   "execution_count": null,
   "id": "eb907ec0-9747-4ece-9e75-778d20bc48b4",
   "metadata": {},
   "outputs": [],
   "source": []
  }
 ],
 "metadata": {
  "kernelspec": {
   "display_name": "Python 3 (ipykernel)",
   "language": "python",
   "name": "python3"
  },
  "language_info": {
   "codemirror_mode": {
    "name": "ipython",
    "version": 3
   },
   "file_extension": ".py",
   "mimetype": "text/x-python",
   "name": "python",
   "nbconvert_exporter": "python",
   "pygments_lexer": "ipython3",
   "version": "3.8.10"
  }
 },
 "nbformat": 4,
 "nbformat_minor": 5
}
