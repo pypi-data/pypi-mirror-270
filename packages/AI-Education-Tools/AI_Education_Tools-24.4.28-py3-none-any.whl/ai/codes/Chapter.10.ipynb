{
 "cells": [
  {
   "cell_type": "markdown",
   "id": "e791b104-bd11-4cef-b433-3e2e8d8bfe50",
   "metadata": {},
   "source": [
    "## 【例10.1】使用joblib存储随机森林模型。"
   ]
  },
  {
   "cell_type": "code",
   "execution_count": null,
   "id": "13735f64-a9d2-41aa-92d3-6aa4338dc017",
   "metadata": {},
   "outputs": [],
   "source": [
    "\n",
    "from sklearn.datasets import load_iris\n",
    "from sklearn.ensemble import RandomForestClassifier\n",
    "import joblib\n",
    "\n",
    "# 加载数据集\n",
    "iris = load_iris()\n",
    "X, y = iris.data, iris.target\n",
    "\n",
    "# 训练模型\n",
    "model = RandomForestClassifier()\n",
    "model.fit(X, y)\n",
    "\n",
    "# 使用joblib保存模型\n",
    "joblib.dump(model, 'model.joblib')\n",
    "\n",
    "# 加载模型并进行预测\n",
    "loaded_model = joblib.load('model.joblib')\n",
    "new_data = [[5.1, 3.5, 1.4, 0.2]]\n",
    "prediction = loaded_model.predict(new_data)\n",
    "print(prediction)\n"
   ]
  },
  {
   "cell_type": "markdown",
   "id": "fd80c07c-aa6f-496d-a145-4aae4554a93e",
   "metadata": {},
   "source": [
    "## 【例10.2】使用pickle存储模型："
   ]
  },
  {
   "cell_type": "code",
   "execution_count": null,
   "id": "4140d134-5ada-470a-9c8a-b16c7905f873",
   "metadata": {},
   "outputs": [],
   "source": [
    "\n",
    "from sklearn.datasets import load_iris\n",
    "from sklearn.ensemble import RandomForestClassifier\n",
    "import pickle\n",
    "\n",
    "# 加载数据集\n",
    "iris = load_iris()\n",
    "X, y = iris.data, iris.target\n",
    "\n",
    "# 训练模型\n",
    "model = RandomForestClassifier()\n",
    "model.fit(X, y)\n",
    "\n",
    "# 使用pickle保存模型\n",
    "with open('model.pkl', 'wb') as file:\n",
    "    pickle.dump(model, file)\n",
    "\n",
    "# 加载模型并进行预测\n",
    "with open('model.pkl', 'rb') as file:\n",
    "    loaded_model = pickle.load(file)\n",
    "new_data = [[5.1, 3.5, 1.4, 0.2]]\n",
    "prediction = loaded_model.predict(new_data)\n",
    "print(prediction)\n"
   ]
  },
  {
   "cell_type": "markdown",
   "id": "ab76e0d5-f987-44d8-82d0-afb2b089922b",
   "metadata": {},
   "source": [
    "## 【例10.3】以下是一个使用这些组件的示例代码，展示了如何使用Streamlit创建一个简单的UI。"
   ]
  },
  {
   "cell_type": "code",
   "execution_count": null,
   "id": "73c9b95b-eb96-422d-8181-cf7112ccbde7",
   "metadata": {},
   "outputs": [],
   "source": [
    "\n",
    "import streamlit as st\n",
    "import pandas as pd\n",
    "import numpy as np\n",
    "import matplotlib.pyplot as plt\n",
    "\n",
    "# 设置页面标题\n",
    "st.title(\"Streamlit UI 示例\")\n",
    "\n",
    "# 显示标题\n",
    "st.header(\"这是一个标题\")\n",
    "\n",
    "# 显示子标题\n",
    "st.subheader(\"这是一个子标题\")\n",
    "\n",
    "# 显示文本内容\n",
    "st.write(\"这是一段文本内容。\")\n",
    "\n",
    "# 文本输入框\n",
    "user_input_text = st.text_input(\"请输入您的文本：\", \"\")\n",
    "\n",
    "# 数字输入框\n",
    "user_input_number = st.number_input(\"请输入一个数字：\", min_value=0, max_value=100, step=1)\n",
    "\n",
    "# 下拉选择框\n",
    "options = [\"苹果\", \"香蕉\", \"橘子\"]\n",
    "selected_option = st.selectbox(\"请选择一个选项：\", options)\n",
    "\n",
    "# 单选按钮\n",
    "radio_options = [\"男\", \"女\"]\n",
    "selected_radio_option = st.radio(\"请选择您的性别：\", radio_options)\n",
    "\n",
    "# 多选框\n",
    "multiselect_options = [\"红色\", \"蓝色\", \"绿色\"]\n",
    "selected_multiselect_options = st.multiselect(\"请选择颜色：\", multiselect_options)\n",
    "\n",
    "# 滑动条\n",
    "slider_value = st.slider(\"选择一个范围：\", min_value=0, max_value=100, value=(25, 75))\n",
    "\n",
    "# 按钮\n",
    "button_clicked = st.button(\"点击这里\")\n",
    "\n",
    "# 图片显示\n",
    "image = plt.imread(\"example.jpg\")\n",
    "st.image(image, caption=\"示例图片\", use_column_width=True)\n",
    "\n",
    "# 使用Matplotlib绘制折线图\n",
    "x = np.linspace(0, 10, 100)\n",
    "y = np.sin(x)\n",
    "plt.plot(x, y)\n",
    "st.pyplot()\n",
    "\n",
    "# 显示用户输入的内容\n",
    "st.write(\"您输入的文本是：\", user_input_text)\n",
    "st.write(\"您输入的数字是：\", user_input_number)\n",
    "st.write(\"您选择的选项是：\", selected_option)\n",
    "st.write(\"您选择的性别是：\", selected_radio_option)\n",
    "st.write(\"您选择的颜色是：\", selected_multiselect_options)\n",
    "st.write(\"您选择的范围是：\", slider_value)\n",
    "st.write(\"按钮是否被点击：\", button_clicked)\n"
   ]
  },
  {
   "cell_type": "markdown",
   "id": "3e97fb5c-39ec-48f6-a111-5087335dfc50",
   "metadata": {},
   "source": [
    "## 【例10.4】以下是一个展示了如何使用Streamlit创建一个简单的Web应用。"
   ]
  },
  {
   "cell_type": "code",
   "execution_count": null,
   "id": "a95baa01-8cb9-43b3-b326-fd16880c1770",
   "metadata": {},
   "outputs": [],
   "source": [
    "\n",
    "\n",
    "# Step 1: 导入必要的库\n",
    "import streamlit as st\n",
    "# Step 2: 定义应用程序的主要部分\n",
    "def main():\n",
    "    # 设置页面标题\n",
    "    st.title('Streamlit 应用示例')\n",
    "\n",
    "    # 添加文本内容\n",
    "    st.write('欢迎使用Streamlit创建交互式Web应用！')\n",
    "\n",
    "    # 添加一个按钮\n",
    "    if st.button('点击这里'):\n",
    "        st.write('按钮被点击了！')\n",
    "    # 添加一个输入框\n",
    "    name = st.text_input('请输入的姓名', '张三')\n",
    "    st.write('输入的姓名是：', name)\n",
    "\n",
    "    # 添加下拉框\n",
    "    option = st.selectbox('请选择一个选项', ['选项A', '选项B', '选项C'])\n",
    "    st.write('选择的是：', option)\n",
    "\n",
    "# Step 3: 运行Streamlit应用\n",
    "if __name__ == '__main__':\n",
    "    main()\n"
   ]
  },
  {
   "cell_type": "code",
   "execution_count": null,
   "id": "d3f1b966-dc82-4633-a893-6bdf74122e26",
   "metadata": {},
   "outputs": [],
   "source": []
  },
  {
   "cell_type": "markdown",
   "id": "73ce7699-6734-491b-acbe-dffe98ba0f6c",
   "metadata": {},
   "source": [
    "## 【例10.5】基于集成学习模型和Streamlit的一个Web应用"
   ]
  },
  {
   "cell_type": "code",
   "execution_count": null,
   "id": "e9cf49f3-f59b-45ec-b633-6e737560d13a",
   "metadata": {},
   "outputs": [],
   "source": [
    "import streamlit as st\n",
    "import joblib\n",
    "\n",
    "# 加载保存的模型\n",
    "model = joblib.load('iris_rf_model.pkl')\n",
    "\n",
    "# 构建Web应用\n",
    "st.title('Iris数据分类')\n",
    "st.write('使用随机森林模型对Iris数据进行分类。')\n",
    "\n",
    "# 定义输入表单\n",
    "sepal_length = st.number_input('花萼长度', min_value=0.1, max_value=10.0, value=5.4, step=0.1)\n",
    "sepal_width = st.number_input('花萼宽度', min_value=0.1, max_value=10.0, value=3.4, step=0.1)\n",
    "petal_length = st.number_input('花瓣长度', min_value=0.1, max_value=10.0, value=1.3, step=0.1)\n",
    "petal_width = st.number_input('花瓣宽度', min_value=0.1, max_value=10.0, value=0.2, step=0.1)\n",
    "\n",
    "# 添加按钮，用于触发预测\n",
    "if st.button('预测'):\n",
    "    # 构建特征向量并进行预测\n",
    "    new_data = [[sepal_length, sepal_width, petal_length, petal_width]]\n",
    "    prediction = model.predict(new_data)\n",
    "\n",
    "    # 显示预测结果\n",
    "    species_map = {0: '山鸢尾', 1: '变色鸢尾', 2: '维吉尼亚鸢尾'}\n",
    "    st.write('预测结果：', species_map[prediction[0]])"
   ]
  },
  {
   "cell_type": "code",
   "execution_count": null,
   "id": "7c894413-f16a-43d0-8ee9-8d6002dd227c",
   "metadata": {},
   "outputs": [],
   "source": [
    "!pip install nbstreamlit\n"
   ]
  },
  {
   "cell_type": "code",
   "execution_count": null,
   "id": "4d93b175-3cf7-4b6e-83d1-3bb017f1fa49",
   "metadata": {},
   "outputs": [],
   "source": []
  }
 ],
 "metadata": {
  "kernelspec": {
   "display_name": "Python 3 (ipykernel)",
   "language": "python",
   "name": "python3"
  },
  "language_info": {
   "codemirror_mode": {
    "name": "ipython",
    "version": 3
   },
   "file_extension": ".py",
   "mimetype": "text/x-python",
   "name": "python",
   "nbconvert_exporter": "python",
   "pygments_lexer": "ipython3",
   "version": "3.10.2"
  }
 },
 "nbformat": 4,
 "nbformat_minor": 5
}
