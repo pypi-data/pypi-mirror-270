{
  "cells": [
    {
      "cell_type": "markdown",
      "metadata": {},
      "source": [
        "# Document Ingestion\nThis cookbook demonstrates how to ingest documents into a vector database.\n"
      ]
    },
    {
      "cell_type": "code",
      "execution_count": null,
      "metadata": {
        "collapsed": false
      },
      "outputs": [],
      "source": [
        "import asyncio\nfrom pathlib import Path\n\nfrom grag.components.multivec_retriever import Retriever\nfrom grag.components.vectordb.deeplake_client import DeepLakeClient\n\nclient = DeepLakeClient(collection_name=\"your_collection_name\")\n\n## Alternatively to use Chroma\n# from grag.components.vectordb.chroma_client import ChromaClient\n# client = ChromaClient(collection_name=\"ci_test\")\n\nSYNC = True  # Run synchronously (slow)\nASYNC = True  # Run asynchronously \n\nclient = DeepLakeClient(collection_name=\"ci_test\")\n# client = ChromaClient(collection_name=\"ci_test\")\nretriever = Retriever(vectordb=client)\n\ndir_path = Path(__file__).parents[2] / \"data/test/pdfs/new_papers\"\n\nif SYNC:\n    retriever.ingest(dir_path)\nelif ASYNC:\n    asyncio.run(retriever.aingest(dir_path))"
      ]
    }
  ],
  "metadata": {
    "kernelspec": {
      "display_name": "Python 3",
      "language": "python",
      "name": "python3"
    },
    "language_info": {
      "codemirror_mode": {
        "name": "ipython",
        "version": 3
      },
      "file_extension": ".py",
      "mimetype": "text/x-python",
      "name": "python",
      "nbconvert_exporter": "python",
      "pygments_lexer": "ipython3",
      "version": "3.11.7"
    }
  },
  "nbformat": 4,
  "nbformat_minor": 0
}