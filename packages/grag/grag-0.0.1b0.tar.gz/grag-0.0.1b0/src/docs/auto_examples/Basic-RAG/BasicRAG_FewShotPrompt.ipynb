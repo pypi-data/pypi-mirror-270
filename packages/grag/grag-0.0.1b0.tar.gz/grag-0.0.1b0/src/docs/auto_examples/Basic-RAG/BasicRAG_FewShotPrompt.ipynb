{
  "cells": [
    {
      "cell_type": "markdown",
      "metadata": {},
      "source": [
        "# Custom Few-Shot Prompts\nThis cookbook demonstrates how to use custom few-shot prompts with Basic RAG.\n"
      ]
    },
    {
      "cell_type": "code",
      "execution_count": null,
      "metadata": {
        "collapsed": false
      },
      "outputs": [],
      "source": [
        "from grag.components.prompt import FewShotPrompt\nfrom grag.rag.basic_rag import BasicRAG\n\ncustom_few_shot_prompt = FewShotPrompt(\n    input_keys={\"context\", \"question\"},\n    output_keys={\"answer\"},\n    example_template=\"\"\"\n    question: {question}\n    answer: {answer}\n    \"\"\",\n    prefix=\"\"\"Answer the following question based on the given context like examples given below:\"\"\",\n    suffix=\"\"\"Answer the following question based on the given context\n    question: {question}\n    context: {context}\n    answer:\n    \"\"\",\n    examples=[\n        {\n            \"question\": \"What is the name of largest planet?\",\n            \"answer\": \"Jupiter is the largest planet.\",\n        },\n        {\n            \"question\": \"Who came up with Convolutional Neural Networks?\",\n            \"answer\": \"Yann LeCun introduced convolutional neural networks.\",\n        },\n    ],\n)\nrag = BasicRAG(doc_chain=\"stuff\", custom_prompt=custom_few_shot_prompt)"
      ]
    }
  ],
  "metadata": {
    "kernelspec": {
      "display_name": "Python 3",
      "language": "python",
      "name": "python3"
    },
    "language_info": {
      "codemirror_mode": {
        "name": "ipython",
        "version": 3
      },
      "file_extension": ".py",
      "mimetype": "text/x-python",
      "name": "python",
      "nbconvert_exporter": "python",
      "pygments_lexer": "ipython3",
      "version": "3.11.7"
    }
  },
  "nbformat": 4,
  "nbformat_minor": 0
}