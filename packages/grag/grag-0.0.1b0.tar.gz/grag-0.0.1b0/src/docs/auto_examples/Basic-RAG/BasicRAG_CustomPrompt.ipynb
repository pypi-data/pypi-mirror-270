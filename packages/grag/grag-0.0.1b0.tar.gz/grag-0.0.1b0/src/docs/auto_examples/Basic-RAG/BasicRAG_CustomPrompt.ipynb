{
  "cells": [
    {
      "cell_type": "markdown",
      "metadata": {},
      "source": [
        "# Custom Prompts\nThis cookbook demonstrates how to use custom prompts with Basic RAG.\n"
      ]
    },
    {
      "cell_type": "code",
      "execution_count": null,
      "metadata": {
        "collapsed": false
      },
      "outputs": [],
      "source": [
        "from grag.components.prompt import Prompt\nfrom grag.rag.basic_rag import BasicRAG\n\ncustom_prompt = Prompt(\n    input_keys={\"context\", \"question\"},\n    template=\"\"\"Answer the following question based on the given context.\n    question: {question}\n    context: {context}\n    answer: \n    \"\"\",\n)\nrag = BasicRAG(doc_chain=\"stuff\", custom_prompt=custom_prompt)"
      ]
    }
  ],
  "metadata": {
    "kernelspec": {
      "display_name": "Python 3",
      "language": "python",
      "name": "python3"
    },
    "language_info": {
      "codemirror_mode": {
        "name": "ipython",
        "version": 3
      },
      "file_extension": ".py",
      "mimetype": "text/x-python",
      "name": "python",
      "nbconvert_exporter": "python",
      "pygments_lexer": "ipython3",
      "version": "3.11.7"
    }
  },
  "nbformat": 4,
  "nbformat_minor": 0
}