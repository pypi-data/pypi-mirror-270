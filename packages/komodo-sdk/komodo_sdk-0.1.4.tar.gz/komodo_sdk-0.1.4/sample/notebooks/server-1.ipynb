{
 "cells": [
  {
   "cell_type": "code",
   "id": "initial_id",
   "metadata": {
    "collapsed": true,
    "ExecuteTime": {
     "end_time": "2024-04-26T03:59:22.340710Z",
     "start_time": "2024-04-26T03:59:22.324328Z"
    }
   },
   "source": [
    "import asyncio\n",
    "from komodo.server.fast import prepare_fastapi_app\n",
    "from sample.appliance.appliance import SampleAppliance\n",
    "from sample.appliance.config import LocalConfig\n",
    "\n",
    "config = LocalConfig()\n",
    "server = prepare_fastapi_app(SampleAppliance(config))\n",
    "\n",
    "import uvicorn\n",
    "\n",
    "config = uvicorn.Config(server)\n",
    "server = uvicorn.Server(config)\n",
    "\n",
    "loop = asyncio.get_running_loop()\n",
    "loop.create_task(server.serve())\n",
    "    "
   ],
   "outputs": [
    {
     "name": "stdout",
     "output_type": "stream",
     "text": [
      "Extracting text from /Users/komodo/dev/komodo/komodo-app/sample/definitions/agents/dasher_v1/instructions.txt (mime: text/x-script.python)\n",
      "Extracting text from /Users/komodo/dev/komodo/komodo-app/sample/definitions/agents/dasher_v2/instructions.txt (mime: text/plain)\n"
     ]
    },
    {
     "data": {
      "text/plain": [
       "<Task pending name='Task-10' coro=<Server.serve() running at /Users/komodo/dev/komodo/komodo-app/venv/lib/python3.9/site-packages/uvicorn/server.py:64>>"
      ]
     },
     "execution_count": 4,
     "metadata": {},
     "output_type": "execute_result"
    }
   ],
   "execution_count": 4
  },
  {
   "metadata": {
    "ExecuteTime": {
     "end_time": "2024-04-26T04:03:22.762736Z",
     "start_time": "2024-04-26T04:03:22.755462Z"
    }
   },
   "cell_type": "code",
   "source": [
    "import requests\n",
    "\n",
    "# Define the URL of your FastAPI endpoint\n",
    "url = 'http://127.0.0.1:8000/'  # Replace with your endpoint URL\n",
    "\n",
    "# Make a POST request to the endpoint\n",
    "response = requests.get(url)\n",
    "response.json()"
   ],
   "id": "f3b4165d1bc7bf65",
   "outputs": [
    {
     "data": {
      "text/plain": [
       "{'message': 'Welcome to Komodo AI Appliance: Sample'}"
      ]
     },
     "execution_count": 8,
     "metadata": {},
     "output_type": "execute_result"
    }
   ],
   "execution_count": 8
  },
  {
   "metadata": {},
   "cell_type": "code",
   "outputs": [],
   "execution_count": null,
   "source": "",
   "id": "6aefde5d7d22780"
  }
 ],
 "metadata": {
  "kernelspec": {
   "display_name": "Python 3",
   "language": "python",
   "name": "python3"
  },
  "language_info": {
   "codemirror_mode": {
    "name": "ipython",
    "version": 2
   },
   "file_extension": ".py",
   "mimetype": "text/x-python",
   "name": "python",
   "nbconvert_exporter": "python",
   "pygments_lexer": "ipython2",
   "version": "2.7.6"
  }
 },
 "nbformat": 4,
 "nbformat_minor": 5
}
