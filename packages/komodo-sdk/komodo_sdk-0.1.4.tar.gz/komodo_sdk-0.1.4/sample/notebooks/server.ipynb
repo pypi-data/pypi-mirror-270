{
 "cells": [
  {
   "cell_type": "code",
   "id": "initial_id",
   "metadata": {
    "collapsed": true,
    "ExecuteTime": {
     "end_time": "2024-04-26T04:04:34.083874Z",
     "start_time": "2024-04-26T04:03:16.767320Z"
    }
   },
   "source": [
    "import uvicorn\n",
    "\n",
    "from komodo.server.fast import prepare_fastapi_app\n",
    "from sample.appliance.appliance import SampleAppliance\n",
    "from sample.appliance.config import LocalConfig\n",
    "\n",
    "config = LocalConfig()\n",
    "server = prepare_fastapi_app(SampleAppliance(config))\n",
    "import nest_asyncio\n",
    "import uvicorn\n",
    "\n",
    "nest_asyncio.apply()\n",
    "uvicorn.run(server, host=\"127.0.0.1\", port=8000, log_level=\"info\")"
   ],
   "outputs": [
    {
     "name": "stdout",
     "output_type": "stream",
     "text": [
      "Extracting text from /Users/komodo/dev/komodo/komodo-app/sample/definitions/agents/dasher_v1/instructions.txt (mime: text/x-script.python)\n",
      "Extracting text from /Users/komodo/dev/komodo/komodo-app/sample/definitions/agents/dasher_v2/instructions.txt (mime: text/plain)\n"
     ]
    },
    {
     "name": "stderr",
     "output_type": "stream",
     "text": [
      "INFO:     Started server process [58711]\n",
      "INFO:     Waiting for application startup.\n",
      "INFO:     Application startup complete.\n",
      "INFO:     Uvicorn running on http://127.0.0.1:8000 (Press CTRL+C to quit)\n"
     ]
    },
    {
     "name": "stdout",
     "output_type": "stream",
     "text": [
      "INFO:     127.0.0.1:61962 - \"GET / HTTP/1.1\" 200 OK\n",
      "INFO:     127.0.0.1:61995 - \"GET / HTTP/1.1\" 200 OK\n"
     ]
    },
    {
     "name": "stderr",
     "output_type": "stream",
     "text": [
      "INFO:     Shutting down\n",
      "INFO:     Waiting for application shutdown.\n",
      "INFO:     Application shutdown complete.\n",
      "INFO:     Finished server process [58711]\n"
     ]
    }
   ],
   "execution_count": 9
  },
  {
   "metadata": {
    "ExecuteTime": {
     "end_time": "2024-04-26T04:02:23.971096Z",
     "start_time": "2024-04-26T04:02:23.969103Z"
    }
   },
   "cell_type": "code",
   "source": "",
   "id": "f3b4165d1bc7bf65",
   "outputs": [],
   "execution_count": 7
  },
  {
   "metadata": {
    "ExecuteTime": {
     "end_time": "2024-04-26T04:02:24.092083Z",
     "start_time": "2024-04-26T04:02:23.972177Z"
    }
   },
   "cell_type": "code",
   "source": [
    "import requests\n",
    "\n",
    "# Define the URL of your FastAPI endpoint\n",
    "url = 'http://127.0.0.1:8000'  # Replace with your endpoint URL\n",
    "\n",
    "# Make a POST request to the endpoint\n",
    "response = requests.get(url)\n",
    "response.json()"
   ],
   "id": "18ab416cdf159e33",
   "outputs": [],
   "execution_count": null
  },
  {
   "metadata": {
    "ExecuteTime": {
     "start_time": "2024-04-26T04:02:24.091510Z"
    }
   },
   "cell_type": "code",
   "source": "",
   "id": "5cfa6244f3020022",
   "outputs": [],
   "execution_count": null
  },
  {
   "metadata": {},
   "cell_type": "code",
   "outputs": [],
   "execution_count": null,
   "source": "",
   "id": "df621b0ee1064023"
  }
 ],
 "metadata": {
  "kernelspec": {
   "display_name": "Python 3",
   "language": "python",
   "name": "python3"
  },
  "language_info": {
   "codemirror_mode": {
    "name": "ipython",
    "version": 2
   },
   "file_extension": ".py",
   "mimetype": "text/x-python",
   "name": "python",
   "nbconvert_exporter": "python",
   "pygments_lexer": "ipython2",
   "version": "2.7.6"
  }
 },
 "nbformat": 4,
 "nbformat_minor": 5
}
