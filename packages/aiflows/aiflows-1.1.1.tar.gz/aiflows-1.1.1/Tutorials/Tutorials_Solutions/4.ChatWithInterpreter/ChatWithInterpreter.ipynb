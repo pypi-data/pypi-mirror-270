{
 "cells": [
  {
   "cell_type": "markdown",
   "metadata": {},
   "source": [
    "# Tutorial 3\n",
    "\n",
    "**In this tutorial you will:**\n",
    "- Build a Chatbot connected to a code interpreter able to execute Python code [Section 1](#1-chatbotwithinterpreter-expanding-interactivity-and-functionality)"
   ]
  },
  {
   "cell_type": "code",
   "execution_count": 1,
   "metadata": {},
   "outputs": [
    {
     "name": "stderr",
     "output_type": "stream",
     "text": [
      "/Users/nicolasbaldwin/opt/miniconda3/envs/mockenv/lib/python3.11/site-packages/tqdm/auto.py:21: TqdmWarning: IProgress not found. Please update jupyter and ipywidgets. See https://ipywidgets.readthedocs.io/en/stable/user_install.html\n",
      "  from .autonotebook import tqdm as notebook_tqdm\n"
     ]
    }
   ],
   "source": [
    "%load_ext autoreload\n",
    "%autoreload 2\n",
    "#imports\n",
    "from aiflows.utils.general_helpers import read_yaml_file, quick_load_api_keys\n",
    "from aiflows.backends.api_info import ApiInfo\n",
    "from aiflows.utils import serving\n",
    "from aiflows.utils import colink_utils\n",
    "from aiflows.workers import run_dispatch_worker_thread\n",
    "from aiflows.base_flows import AtomicFlow\n",
    "from aiflows.messages import FlowMessage\n",
    "from aiflows import flow_verse\n",
    "import sys\n",
    "import os\n",
    "sys.path.append(\"..\")\n",
    "from utils import compile_and_writefile, dict_to_yaml\n",
    "import json\n",
    "import copy\n",
    "#Specify path of your flow modules\n"
   ]
  },
  {
   "cell_type": "code",
   "execution_count": 2,
   "metadata": {},
   "outputs": [],
   "source": [
    "#starting a local colink server\n",
    "cl = colink_utils.start_colink_server()"
   ]
  },
  {
   "cell_type": "code",
   "execution_count": 3,
   "metadata": {},
   "outputs": [
    {
     "name": "stdout",
     "output_type": "stream",
     "text": [
      "[\u001b[36m2024-04-08 15:19:39,505\u001b[0m][\u001b[34maiflows.workers.dispatch_worker:236\u001b[0m][\u001b[32mINFO\u001b[0m] - Dispatch worker started in attached thread.\u001b[0m\n"
     ]
    },
    {
     "name": "stdout",
     "output_type": "stream",
     "text": [
      "[\u001b[36m2024-04-08 15:19:39,512\u001b[0m][\u001b[34maiflows.workers.dispatch_worker:237\u001b[0m][\u001b[32mINFO\u001b[0m] - dispatch_point: coflows_dispatch\u001b[0m\n"
     ]
    }
   ],
   "source": [
    "# Start Worker thread\n",
    "run_dispatch_worker_thread(cl)"
   ]
  },
  {
   "cell_type": "code",
   "execution_count": 4,
   "metadata": {},
   "outputs": [
    {
     "name": "stdout",
     "output_type": "stream",
     "text": [
      "[\u001b[36m2024-04-08 15:19:39,654\u001b[0m][\u001b[34maiflows.workers.dispatch_worker:236\u001b[0m][\u001b[32mINFO\u001b[0m] - Dispatch worker started in attached thread.\u001b[0m\n",
      "[\u001b[36m2024-04-08 15:19:39,684\u001b[0m][\u001b[34maiflows.workers.dispatch_worker:237\u001b[0m][\u001b[32mINFO\u001b[0m] - dispatch_point: coflows_dispatch\u001b[0m\n"
     ]
    }
   ],
   "source": [
    "# Start 2nd Worker thread (in case you're making blocking calls)\n",
    "run_dispatch_worker_thread(cl)"
   ]
  },
  {
   "cell_type": "markdown",
   "metadata": {},
   "source": [
    "## 1. ChatBotWithInterpreter: Expanding Interactivity and Functionality\n",
    "\n",
    "In this section, we'll explore the implementation of a chatbot integrated with a code interpreter, offering new dimensions of interactivity and functionality. By connecting an interpreter capable of compiling and executing code to the chatbot, we unlock numerous benefits. This setup enables users to prompt the chatbot with specific tasks, allowing them to provide instructions like \"download Apple's stock prices, plot them, and save them in a PDF.\" In response, the chatbot generates tailored code to execute these tasks, and executes it. \n",
    "\n",
    "Additionally, integrating the interpreter enhances the chatbot's adaptability and versatility. By understanding the user's environment, such as their Python environment, the chatbot can execute code seamlessly within that context. This capability extends to installing necessary Python packages on-the-fly, ensuring smooth execution without requiring user intervention. Such integration enhances the chatbot's utility, making it a versatile tool for coding assistance, troubleshooting, and rapid prototyping. Furthermore, this integration ensures that all generated code is compilable, maintaining a seamless user experience and efficient task execution.\n"
   ]
  },
  {
   "cell_type": "markdown",
   "metadata": {},
   "source": [
    "### 1.1 Leveraging ChatAtomicFlow to write a CodeGenerator Flow"
   ]
  },
  {
   "cell_type": "markdown",
   "metadata": {},
   "source": [
    "##### Pulling ChatAtomicFlow from FlowVerse"
   ]
  },
  {
   "cell_type": "code",
   "execution_count": 5,
   "metadata": {},
   "outputs": [
    {
     "name": "stdout",
     "output_type": "stream",
     "text": [
      "[\u001b[36m2024-04-08 15:19:40,383\u001b[0m][\u001b[34maiflows.flow_verse.loading:775\u001b[0m][\u001b[32mINFO\u001b[0m] - \u001b[32m[<interactive>]\u001b[0m started to sync flow module dependencies to /Users/nicolasbaldwin/Documents/OneDrive/EPFL/DLAB/aiflow-colink/aiflows/Tutorials/Tutorials_Solutions/4.ChatWithInterpreter/flow_modules...\u001b[0m\n",
      "[\u001b[36m2024-04-08 15:19:40,391\u001b[0m][\u001b[34maiflows.flow_verse.loading:563\u001b[0m][\u001b[32mINFO\u001b[0m] - aiflows/ChatFlowModule:main will be fetched from remote\u001b[0m\n"
     ]
    },
    {
     "name": "stderr",
     "output_type": "stream",
     "text": [
      "Fetching 9 files: 100%|██████████| 9/9 [00:00<00:00, 44098.99it/s]\n",
      "Fetching 9 files: 100%|██████████| 9/9 [00:00<00:00, 6517.39it/s]\n"
     ]
    },
    {
     "name": "stdout",
     "output_type": "stream",
     "text": [
      "[\u001b[36m2024-04-08 15:19:42,612\u001b[0m][\u001b[34maiflows.flow_verse.loading:825\u001b[0m][\u001b[32mINFO\u001b[0m] - \u001b[32m[<interactive>]\u001b[0m finished syncing\n",
      "\n",
      "\u001b[0m\n"
     ]
    },
    {
     "data": {
      "text/plain": [
       "['/Users/nicolasbaldwin/Documents/OneDrive/EPFL/DLAB/aiflow-colink/aiflows/Tutorials/Tutorials_Solutions/4.ChatWithInterpreter/flow_modules/aiflows/ChatFlowModule']"
      ]
     },
     "execution_count": 5,
     "metadata": {},
     "output_type": "execute_result"
    }
   ],
   "source": [
    "#Install dependencies from FlowVerse\n",
    "dependencies = [\n",
    "    {\"url\": \"aiflows/ChatFlowModule\", \"revision\": \"main\"},\n",
    "]\n",
    "from aiflows import flow_verse\n",
    "flow_verse.sync_dependencies(dependencies)"
   ]
  },
  {
   "cell_type": "markdown",
   "metadata": {},
   "source": [
    "##### Writing the CodeGenerator's Default Config"
   ]
  },
  {
   "cell_type": "code",
   "execution_count": 6,
   "metadata": {},
   "outputs": [],
   "source": [
    "#Defining prompt templates\n",
    "\n",
    "#system prompt template\n",
    "system_prompt_template = \\\n",
    "\"\"\"\n",
    "You are a world class programmer that can complete any goal with code.\n",
    "      \n",
    "Your tasks are:\n",
    "    1. Write a python code in order to achieve a goal that is given to you. This code should be able to be run by the executor.\n",
    "\n",
    "Notice that:\n",
    "    1. If you use any external libraries, you must install them withing the code (in python)\n",
    "    2. All functions you write are modular, so make sure you make imports necessary imports within the function.\n",
    "    3. You must write docstrings for every function you write.\n",
    "\n",
    "    \n",
    "Your function will then be imported and called by an executor to finish the goal, you do not need to worry about the execution part.\n",
    "The executor will give you feedback on the code you write, and you can revise your code based on the feedback.\n",
    "\n",
    "Performance Evaluation:\n",
    "1. You must write your code in python\n",
    "2. Your answer must be able to be compiled and run by the executor (i.e, do not write codeblocks)\n",
    "\n",
    "**It's important that you should only respond in JSON format as described below:**\n",
    "Response Format:\n",
    "{\n",
    "    \"language_of_code\": \"language of the code\",\n",
    "    \"code\": \"String of the code and docstrings corresponding to the goal\",\n",
    "    \"finish\": \"True if you have finished the goal, False otherwise. Take in consideration the feedback you receive to decide if you have finished the goal or not\",\n",
    "}\n",
    "Ensure your responses can be parsed by Python json.loads\n",
    "    \n",
    "**It's important that the code you generate can be written by Python write, and is human-readable. The written file must also be indented and formatted, so that it is human-readable.**\n",
    "\"\"\"\n",
    "\n",
    "#init_human_prompt_template\n",
    "#This is the prompt passed to the ChatAtomicFlow the first time its called (i.e., the user asks to accomplish a goal)\n",
    "init_human_prompt_template = \\\n",
    "\"\"\"\n",
    "\"Here is the goal you need to achieve:\n",
    "{{goal}}\"\n",
    "\"\"\"\n",
    "\n",
    "#human_prompt_template\n",
    "#This is the prompt passed to the ChatAtomicFlow after the first time its called (i.e., feedback from the code interpreter)\n",
    "human_prompt_template = \\\n",
    "\"\"\"\n",
    "Here is the goal you need to achieve:\n",
    "{{goal}}\n",
    "Here is the previous code you have written:\n",
    "{{previous_code}}\n",
    "Here is the feedback from the previous code:\n",
    "{{feedback}}\n",
    "\"\"\""
   ]
  },
  {
   "cell_type": "code",
   "execution_count": 7,
   "metadata": {},
   "outputs": [],
   "source": [
    "default_config_code_generator = {\n",
    "    \"_target_\": \"CodeGeneratorFlowModule.CodeGenerator.CodeGenerator.instantiate_from_default_config\",\n",
    "    \"name\": \"CodeGenerator\",\n",
    "    \"description\": \"Writes code with given instruction\",\n",
    "    \"backend\": {\n",
    "        \"api_infos\": \"???\"\n",
    "    },\n",
    "    \"model_name\": {\n",
    "        \"openai\": \"gpt-4\"\n",
    "    },\n",
    "    \"input_interface_non_initialized\": [\"goal\"],\n",
    "\n",
    "    \"input_interface_initialized\": [\"goal\", \"previous_code\", \"feedback\"],\n",
    "\n",
    "    \"output_interface\": [\"language_of_code\", \"code\"],\n",
    "\n",
    "    \"system_message_prompt_template\": {\n",
    "        \"template\": f'{system_prompt_template}'\n",
    "    },\n",
    "  \n",
    "    \"human_message_prompt_template\": {\n",
    "        \"template\": f'{human_prompt_template}',\n",
    "        \"input_variables\": [\"goal\", \"previous_code\", \"feedback\"],\n",
    "    },\n",
    "\n",
    "    \"init_human_message_prompt_template\": {\n",
    "        \"template\": f'{init_human_prompt_template}',\n",
    "        \"input_variables\": [\"goal\"]\n",
    "    },\n",
    "    #keep as context window only the first message (system prompt template) and the last two messages (last user-assistant interaction)\n",
    "    \"previous_messages\": {\n",
    "        \"first_k\": 1,\n",
    "        \"last_k\": 2,\n",
    "    }\n",
    "}\n",
    "dict_to_yaml(default_config_code_generator, \"CodeGeneratorFlowModule/CodeGenerator.yaml\")"
   ]
  },
  {
   "cell_type": "markdown",
   "metadata": {},
   "source": [
    "##### Writing the CodeGenerator Flow\n",
    "\n",
    "**Requirements:** We want to make sure that the CodeGenerator generates a json parsable output. Implement this in the `CodeGenerator` class by requerying the LLM if it doesn't generate a parsable output (specifying to reformat its previous output)."
   ]
  },
  {
   "cell_type": "code",
   "execution_count": 8,
   "metadata": {},
   "outputs": [],
   "source": [
    "%%compile_and_writefile CodeGeneratorFlowModule/CodeGenerator.py\n",
    "\n",
    "from aiflows.base_flows import AtomicFlow\n",
    "from aiflows.messages import FlowMessage\n",
    "from flow_modules.aiflows.ChatFlowModule import ChatAtomicFlow\n",
    "import json\n",
    "\n",
    "\n",
    "class CodeGenerator(ChatAtomicFlow):\n",
    "\n",
    "    def run(self, input_message: FlowMessage):\n",
    "        input_data = input_message.data\n",
    "        json_parsable = False\n",
    "        response = None\n",
    "        \n",
    "        #ensure the response is json parsable\n",
    "        while not json_parsable:\n",
    "            \n",
    "            output = self.query_llm(input_data=input_data).strip()\n",
    "            \n",
    "            try:\n",
    "                response = json.loads(output)\n",
    "                json_parsable = True\n",
    "            \n",
    "            except (json.decoder.JSONDecodeError, json.JSONDecodeError):\n",
    "                \n",
    "                feedback = \"The previous response cannot be parsed with json.loads, it \\\n",
    "                    could be the backslashes used for escaping single quotes in the string arguments of the code are not properly \\\n",
    "                        escaped themselves within the JSON context. Next time, do not provide any comments or code blocks. \\\n",
    "                            Make sure your next response is purely json parsable.\"\n",
    "                previous_code = output\n",
    "                new_input_data = input_data.copy()\n",
    "                new_input_data = {\n",
    "                    \"goal\": input_data[\"goal\"],\n",
    "                    \"feedback\": feedback,\n",
    "                    \"previous_code\": previous_code,   \n",
    "                }\n",
    "                input_data = new_input_data\n",
    "\n",
    "        \n",
    "        reply = self.package_output_message(\n",
    "            input_message = input_message,\n",
    "            response = response\n",
    "        )\n",
    "        self.send_message(reply)\n",
    "        "
   ]
  },
  {
   "cell_type": "markdown",
   "metadata": {},
   "source": [
    "##### Serving the CodeGenerator Flow:"
   ]
  },
  {
   "cell_type": "code",
   "execution_count": 9,
   "metadata": {},
   "outputs": [
    {
     "name": "stdout",
     "output_type": "stream",
     "text": [
      "[\u001b[36m2024-04-08 15:19:52,956\u001b[0m][\u001b[34maiflows.utils.serving:116\u001b[0m][\u001b[32mINFO\u001b[0m] - Started serving CodeGeneratorFlowModule.CodeGenerator.CodeGenerator at flows:CodeGenerator.\u001b[0m\n",
      "[\u001b[36m2024-04-08 15:19:52,957\u001b[0m][\u001b[34maiflows.utils.serving:117\u001b[0m][\u001b[32mINFO\u001b[0m] - dispatch_point: coflows_dispatch\u001b[0m\n",
      "[\u001b[36m2024-04-08 15:19:52,962\u001b[0m][\u001b[34maiflows.utils.serving:118\u001b[0m][\u001b[32mINFO\u001b[0m] - parallel_dispatch: False\u001b[0m\n",
      "[\u001b[36m2024-04-08 15:19:52,964\u001b[0m][\u001b[34maiflows.utils.serving:119\u001b[0m][\u001b[32mINFO\u001b[0m] - singleton: False\n",
      "\u001b[0m\n"
     ]
    },
    {
     "data": {
      "text/plain": [
       "True"
      ]
     },
     "execution_count": 9,
     "metadata": {},
     "output_type": "execute_result"
    }
   ],
   "source": [
    "serving.serve_flow(\n",
    "    cl=cl,\n",
    "    flow_class_name=\"CodeGeneratorFlowModule.CodeGenerator.CodeGenerator\",\n",
    "    flow_endpoint=\"CodeGenerator\",\n",
    ")"
   ]
  },
  {
   "cell_type": "markdown",
   "metadata": {},
   "source": [
    "##### Testing the CodeGenerator Flow:\n",
    "\n",
    "We will now test the CodeGenerator Flow by prompting the chatbot with a task and observing the generated code. We will use the following task as an example: \"Download Apple's stock prices, plot them, and save them in a PDF.\" The chatbot should generate code that accomplishes this task, and we will evaluate the generated code's quality and correctness. To showcase the limitations of using the code generator on its own, we will show that the code is not always compilable in your Python environment. To showcase we will manually uninstall, if you do have it installed, the `yfinance` package from the Python environment (which is a library the Flow will use in its answer)"
   ]
  },
  {
   "cell_type": "code",
   "execution_count": 10,
   "metadata": {},
   "outputs": [
    {
     "name": "stdout",
     "output_type": "stream",
     "text": [
      "Found existing installation: yfinance 0.2.37\n",
      "Uninstalling yfinance-0.2.37:\n",
      "  Successfully uninstalled yfinance-0.2.37\n"
     ]
    }
   ],
   "source": [
    "!pip uninstall yfinance -y"
   ]
  },
  {
   "cell_type": "code",
   "execution_count": 11,
   "metadata": {},
   "outputs": [
    {
     "name": "stdout",
     "output_type": "stream",
     "text": [
      "[\u001b[36m2024-04-08 15:19:58,318\u001b[0m][\u001b[34maiflows.utils.serving:336\u001b[0m][\u001b[32mINFO\u001b[0m] - Mounted c012c1fc-fdc7-413e-a689-91b9e221adf8 at flows:CodeGenerator:mounts:local:c012c1fc-fdc7-413e-a689-91b9e221adf8\u001b[0m\n"
     ]
    },
    {
     "name": "stdout",
     "output_type": "stream",
     "text": [
      "[\u001b[36m2024-04-08 15:19:58,408\u001b[0m][\u001b[34maiflows.workers.dispatch_worker:119\u001b[0m][\u001b[32mINFO\u001b[0m] - \n",
      "~~~ Dispatch task ~~~\u001b[0m\n",
      "[\u001b[36m2024-04-08 15:19:58,444\u001b[0m][\u001b[34maiflows.workers.dispatch_worker:161\u001b[0m][\u001b[32mINFO\u001b[0m] - flow_endpoint: CodeGenerator\u001b[0m\n",
      "[\u001b[36m2024-04-08 15:19:58,446\u001b[0m][\u001b[34maiflows.workers.dispatch_worker:162\u001b[0m][\u001b[32mINFO\u001b[0m] - flow_id: c012c1fc-fdc7-413e-a689-91b9e221adf8\u001b[0m\n",
      "[\u001b[36m2024-04-08 15:19:58,447\u001b[0m][\u001b[34maiflows.workers.dispatch_worker:163\u001b[0m][\u001b[32mINFO\u001b[0m] - owner_id: local\u001b[0m\n",
      "[\u001b[36m2024-04-08 15:19:58,448\u001b[0m][\u001b[34maiflows.workers.dispatch_worker:164\u001b[0m][\u001b[32mINFO\u001b[0m] - message_paths: ['push_tasks:79754762-08c1-42d6-a99b-9b5cc5f7ba1b:msg']\u001b[0m\n",
      "[\u001b[36m2024-04-08 15:19:58,448\u001b[0m][\u001b[34maiflows.workers.dispatch_worker:165\u001b[0m][\u001b[32mINFO\u001b[0m] - parallel_dispatch: False\n",
      "\u001b[0m\n",
      "[\u001b[36m2024-04-08 15:19:58,576\u001b[0m][\u001b[34maiflows.workers.dispatch_worker:188\u001b[0m][\u001b[32mINFO\u001b[0m] - Input message source: Proxy_CodeGenerator\u001b[0m\n",
      "[\u001b[36m2024-04-08 15:20:38,702\u001b[0m][\u001b[34maiflows.workers.dispatch_worker:119\u001b[0m][\u001b[32mINFO\u001b[0m] - \n",
      "~~~ Dispatch task ~~~\u001b[0m\n",
      "[\u001b[36m2024-04-08 15:20:38,717\u001b[0m][\u001b[34maiflows.workers.dispatch_worker:161\u001b[0m][\u001b[32mINFO\u001b[0m] - flow_endpoint: InterpreterAtomicFlow\u001b[0m\n",
      "[\u001b[36m2024-04-08 15:20:38,718\u001b[0m][\u001b[34maiflows.workers.dispatch_worker:162\u001b[0m][\u001b[32mINFO\u001b[0m] - flow_id: 1305b6f8-afd0-4fe9-b218-9cd869e6b38b\u001b[0m\n",
      "[\u001b[36m2024-04-08 15:20:38,720\u001b[0m][\u001b[34maiflows.workers.dispatch_worker:163\u001b[0m][\u001b[32mINFO\u001b[0m] - owner_id: local\u001b[0m\n",
      "[\u001b[36m2024-04-08 15:20:38,721\u001b[0m][\u001b[34maiflows.workers.dispatch_worker:164\u001b[0m][\u001b[32mINFO\u001b[0m] - message_paths: ['push_tasks:a3634409-c47d-47f4-bc8f-c9ba59a22be7:msg']\u001b[0m\n",
      "[\u001b[36m2024-04-08 15:20:38,722\u001b[0m][\u001b[34maiflows.workers.dispatch_worker:165\u001b[0m][\u001b[32mINFO\u001b[0m] - parallel_dispatch: False\n",
      "\u001b[0m\n",
      "[\u001b[36m2024-04-08 15:20:38,784\u001b[0m][\u001b[34maiflows.workers.dispatch_worker:188\u001b[0m][\u001b[32mINFO\u001b[0m] - Input message source: Proxy_InterpreterAtomicFlow\u001b[0m\n",
      "[\u001b[36m2024-04-08 15:21:22,347\u001b[0m][\u001b[34maiflows.workers.dispatch_worker:119\u001b[0m][\u001b[32mINFO\u001b[0m] - \n",
      "~~~ Dispatch task ~~~\u001b[0m\n",
      "[\u001b[36m2024-04-08 15:21:22,381\u001b[0m][\u001b[34maiflows.workers.dispatch_worker:161\u001b[0m][\u001b[32mINFO\u001b[0m] - flow_endpoint: ChatCodeInterpreter\u001b[0m\n",
      "[\u001b[36m2024-04-08 15:21:22,381\u001b[0m][\u001b[34maiflows.workers.dispatch_worker:162\u001b[0m][\u001b[32mINFO\u001b[0m] - flow_id: 06b856b8-b816-4b25-be3b-5162edd01b38\u001b[0m\n",
      "[\u001b[36m2024-04-08 15:21:22,383\u001b[0m][\u001b[34maiflows.workers.dispatch_worker:163\u001b[0m][\u001b[32mINFO\u001b[0m] - owner_id: local\u001b[0m\n",
      "[\u001b[36m2024-04-08 15:21:22,389\u001b[0m][\u001b[34maiflows.workers.dispatch_worker:164\u001b[0m][\u001b[32mINFO\u001b[0m] - message_paths: ['push_tasks:012c0b89-00bc-416d-a3a3-7a6213306dca:msg']\u001b[0m\n",
      "[\u001b[36m2024-04-08 15:21:22,395\u001b[0m][\u001b[34maiflows.workers.dispatch_worker:165\u001b[0m][\u001b[32mINFO\u001b[0m] - parallel_dispatch: False\n",
      "\u001b[0m\n",
      "[\u001b[36m2024-04-08 15:21:22,488\u001b[0m][\u001b[34maiflows.workers.dispatch_worker:188\u001b[0m][\u001b[32mINFO\u001b[0m] - Input message source: Proxy of Coder\u001b[0m\n",
      "[\u001b[36m2024-04-08 15:22:00,319\u001b[0m][\u001b[34maiflows.workers.dispatch_worker:119\u001b[0m][\u001b[32mINFO\u001b[0m] - \n",
      "~~~ Dispatch task ~~~\u001b[0m\n",
      "[\u001b[36m2024-04-08 15:22:00,360\u001b[0m][\u001b[34maiflows.workers.dispatch_worker:161\u001b[0m][\u001b[32mINFO\u001b[0m] - flow_endpoint: ChatCodeInterpreter\u001b[0m\n",
      "[\u001b[36m2024-04-08 15:22:00,361\u001b[0m][\u001b[34maiflows.workers.dispatch_worker:162\u001b[0m][\u001b[32mINFO\u001b[0m] - flow_id: 06b856b8-b816-4b25-be3b-5162edd01b38\u001b[0m\n",
      "[\u001b[36m2024-04-08 15:22:00,362\u001b[0m][\u001b[34maiflows.workers.dispatch_worker:163\u001b[0m][\u001b[32mINFO\u001b[0m] - owner_id: local\u001b[0m\n",
      "[\u001b[36m2024-04-08 15:22:00,367\u001b[0m][\u001b[34maiflows.workers.dispatch_worker:164\u001b[0m][\u001b[32mINFO\u001b[0m] - message_paths: ['push_tasks:8a6541fb-2528-4beb-8641-c8a95ee74c9a:msg']\u001b[0m\n",
      "[\u001b[36m2024-04-08 15:22:00,370\u001b[0m][\u001b[34maiflows.workers.dispatch_worker:165\u001b[0m][\u001b[32mINFO\u001b[0m] - parallel_dispatch: False\n",
      "\u001b[0m\n",
      "[\u001b[36m2024-04-08 15:22:00,430\u001b[0m][\u001b[34maiflows.workers.dispatch_worker:188\u001b[0m][\u001b[32mINFO\u001b[0m] - Input message source: Proxy of Coder\u001b[0m\n"
     ]
    },
    {
     "name": "stdout",
     "output_type": "stream",
     "text": [
      "Data sent:\n",
      " {'goal': \"Download Apple's stock price between 2015 and 2016, make a plot with it and save it as a pdf in './apple_stocks.pdf'\"} \n",
      "\n",
      "REPLY:\n",
      "import yfinance as yf\n",
      "import matplotlib.pyplot as plt\n",
      "\n",
      "def download_and_plot_stock_price():\n",
      "    '''\n",
      "    Download Apple's stock price between 2015 and 2016, make a plot with it, and save it as a pdf.\n",
      "    '''\n",
      "    # Download Apple's stock price data\n",
      "    apple_data = yf.download('AAPL', start='2015-01-01', end='2016-12-31')\n",
      "    \n",
      "    # Plot the 'Close' price\n",
      "    plt.figure(figsize=(12, 6))\n",
      "    plt.plot(apple_data['Close'])\n",
      "    plt.title('Apple Stock Price (2015-2016)')\n",
      "    plt.xlabel('Date')\n",
      "    plt.ylabel('Price (USD)')\n",
      "    \n",
      "    # Save the plot as a pdf\n",
      "    plt.savefig('./apple_stocks.pdf')\n",
      "    \n",
      "    return 'Plot saved as apple_stocks.pdf'\n",
      "\n",
      "# Call the function to download, plot, and save the stock price\n",
      "result = download_and_plot_stock_price()\n",
      "print(result) \n",
      "\n"
     ]
    }
   ],
   "source": [
    "\n",
    "path_to_yaml = os.path.join(\"CodeGeneratorFlowModule\", \"CodeGenerator.yaml\")\n",
    "default_config = read_yaml_file(path_to_yaml)\n",
    "overrides = copy.deepcopy(default_config)\n",
    "api_information = [ApiInfo(backend_used=\"openai\", api_key=os.getenv(\"OPENAI_API_KEY\"))]\n",
    "quick_load_api_keys(overrides, api_information)\n",
    "\n",
    "proxy_code_generator = serving.get_flow_instance(\n",
    "    cl=cl,\n",
    "    flow_endpoint=\"CodeGenerator\", #TODO: SPECIFY THE ENDPOINT\n",
    "    user_id=\"local\",\n",
    "    config_overrides=overrides,\n",
    ")\n",
    "data = {\n",
    "    \"goal\": \"Download Apple's stock price between 2015 and 2016, make a plot with it and save it as a pdf in './apple_stocks.pdf'\",\n",
    "}\n",
    "input_message = proxy_code_generator.package_input_message(data)\n",
    "future = proxy_code_generator.get_reply_future(input_message)\n",
    "reply_data = future.get_data()\n",
    "print(\"Data sent:\\n\",  data, \"\\n\")\n",
    "print(f'REPLY:\\n{reply_data[\"code\"]} \\n')\n"
   ]
  },
  {
   "cell_type": "markdown",
   "metadata": {},
   "source": [
    "Now if you copy paste the reply from the chatbot, you will see that the code is not compilable. This is because the `yfinance` package is not installed in your Python environment. This is an example where the interpreter comes in handy."
   ]
  },
  {
   "cell_type": "code",
   "execution_count": 12,
   "metadata": {},
   "outputs": [
    {
     "ename": "ModuleNotFoundError",
     "evalue": "No module named 'yfinance'",
     "output_type": "error",
     "traceback": [
      "\u001b[0;31m---------------------------------------------------------------------------\u001b[0m",
      "\u001b[0;31mModuleNotFoundError\u001b[0m                       Traceback (most recent call last)",
      "Cell \u001b[0;32mIn[12], line 1\u001b[0m\n\u001b[0;32m----> 1\u001b[0m \u001b[38;5;28;01mimport\u001b[39;00m \u001b[38;5;21;01myfinance\u001b[39;00m \u001b[38;5;28;01mas\u001b[39;00m \u001b[38;5;21;01myf\u001b[39;00m\n\u001b[1;32m      2\u001b[0m \u001b[38;5;28;01mimport\u001b[39;00m \u001b[38;5;21;01mmatplotlib\u001b[39;00m\u001b[38;5;21;01m.\u001b[39;00m\u001b[38;5;21;01mpyplot\u001b[39;00m \u001b[38;5;28;01mas\u001b[39;00m \u001b[38;5;21;01mplt\u001b[39;00m\n\u001b[1;32m      4\u001b[0m \u001b[38;5;28;01mdef\u001b[39;00m \u001b[38;5;21mdownload_and_plot_stock_price\u001b[39m():\n",
      "\u001b[0;31mModuleNotFoundError\u001b[0m: No module named 'yfinance'"
     ]
    }
   ],
   "source": [
    "import yfinance as yf\n",
    "import matplotlib.pyplot as plt\n",
    "\n",
    "def download_and_plot_stock_price():\n",
    "    '''\n",
    "    Download Apple's stock price between 2015 and 2016, make a plot with it, and save it as a pdf.\n",
    "    '''\n",
    "    # Download Apple's stock price data\n",
    "    apple_data = yf.download('AAPL', start='2015-01-01', end='2016-12-31')\n",
    "    \n",
    "    # Plot the 'Close' price\n",
    "    plt.figure(figsize=(12, 6))\n",
    "    plt.plot(apple_data['Close'])\n",
    "    plt.title('Apple Stock Price (2015-2016)')\n",
    "    plt.xlabel('Date')\n",
    "    plt.ylabel('Price (USD)')\n",
    "    \n",
    "    # Save the plot as a pdf\n",
    "    plt.savefig('./apple_stocks.pdf')\n",
    "    \n",
    "    return 'Plot saved as apple_stocks.pdf'\n",
    "\n",
    "# Call the function to download, plot, and save the stock price\n",
    "result = download_and_plot_stock_price()\n",
    "print(result) "
   ]
  },
  {
   "cell_type": "markdown",
   "metadata": {},
   "source": [
    "### 1.2 Using the Interperter Flow Module\n",
    "\n",
    "We already have an interpreter flow module implemented on the flow verse which you can checkout [here](https://huggingface.co/aiflows/InterpreterFlowModule) !\n",
    "\n",
    "Let's check out its config, serve it and test it."
   ]
  },
  {
   "cell_type": "markdown",
   "metadata": {},
   "source": [
    "##### Pulling the InterpreterFlowModule from FlowVerse\n",
    "\n"
   ]
  },
  {
   "cell_type": "code",
   "execution_count": 13,
   "metadata": {},
   "outputs": [
    {
     "name": "stdout",
     "output_type": "stream",
     "text": [
      "[\u001b[36m2024-04-08 15:20:28,305\u001b[0m][\u001b[34maiflows.flow_verse.loading:775\u001b[0m][\u001b[32mINFO\u001b[0m] - \u001b[32m[<interactive>]\u001b[0m started to sync flow module dependencies to /Users/nicolasbaldwin/Documents/OneDrive/EPFL/DLAB/aiflow-colink/aiflows/Tutorials/Tutorials_Solutions/4.ChatWithInterpreter/flow_modules...\u001b[0m\n",
      "[\u001b[36m2024-04-08 15:20:28,329\u001b[0m][\u001b[34maiflows.flow_verse.loading:563\u001b[0m][\u001b[32mINFO\u001b[0m] - aiflows/InterpreterFlowModule:main will be fetched from remote\u001b[0m\n"
     ]
    },
    {
     "name": "stderr",
     "output_type": "stream",
     "text": [
      "Fetching 22 files: 100%|██████████| 22/22 [00:00<00:00, 115199.36it/s]\n"
     ]
    },
    {
     "name": "stderr",
     "output_type": "stream",
     "text": [
      "Fetching 22 files: 100%|██████████| 22/22 [00:00<00:00, 2174.29it/s]\n"
     ]
    },
    {
     "name": "stdout",
     "output_type": "stream",
     "text": [
      "[\u001b[36m2024-04-08 15:20:29,169\u001b[0m][\u001b[34maiflows.flow_verse.loading:825\u001b[0m][\u001b[32mINFO\u001b[0m] - \u001b[32m[<interactive>]\u001b[0m finished syncing\n",
      "\n",
      "\u001b[0m\n"
     ]
    },
    {
     "data": {
      "text/plain": [
       "['/Users/nicolasbaldwin/Documents/OneDrive/EPFL/DLAB/aiflow-colink/aiflows/Tutorials/Tutorials_Solutions/4.ChatWithInterpreter/flow_modules/aiflows/ChatFlowModule',\n",
       " '/Users/nicolasbaldwin/Documents/OneDrive/EPFL/DLAB/aiflow-colink/aiflows/Tutorials/Tutorials_Solutions/4.ChatWithInterpreter/flow_modules/aiflows/InterpreterFlowModule']"
      ]
     },
     "execution_count": 13,
     "metadata": {},
     "output_type": "execute_result"
    }
   ],
   "source": [
    "#Install dependencies from FlowVerse\n",
    "dependencies = [\n",
    "    {\"url\": \"aiflows/InterpreterFlowModule\", \"revision\": \"main\"},\n",
    "]\n",
    "from aiflows import flow_verse\n",
    "flow_verse.sync_dependencies(dependencies)\n"
   ]
  },
  {
   "cell_type": "code",
   "execution_count": 14,
   "metadata": {},
   "outputs": [
    {
     "name": "stdout",
     "output_type": "stream",
     "text": [
      "{\n",
      "    \"name\": \"InterpreterAtomicFlow\",\n",
      "    \"description\": \"A flow that compiles and runs codes\",\n",
      "    \"_target_\": \"flow_modules.aiflows.InterpreterFlowModule.InterpreterAtomicFlow.instantiate_from_default_config\",\n",
      "    \"max_output\": 2000,\n",
      "    \"input_interface\": [\n",
      "        \"language\",\n",
      "        \"code\"\n",
      "    ],\n",
      "    \"output_interface\": [\n",
      "        \"interpreter_output\"\n",
      "    ]\n",
      "}\n"
     ]
    }
   ],
   "source": [
    "#print it's default config\n",
    "\n",
    "interpreter_default_config = read_yaml_file(\"flow_modules/aiflows/InterpreterFlowModule/InterpreterAtomicFlow.yaml\")\n",
    "print(json.dumps(interpreter_default_config, indent=4))"
   ]
  },
  {
   "cell_type": "markdown",
   "metadata": {},
   "source": [
    "##### Serving the InterpreterFlowModule"
   ]
  },
  {
   "cell_type": "code",
   "execution_count": 15,
   "metadata": {},
   "outputs": [
    {
     "name": "stdout",
     "output_type": "stream",
     "text": [
      "[\u001b[36m2024-04-08 15:20:34,140\u001b[0m][\u001b[34maiflows.utils.serving:116\u001b[0m][\u001b[32mINFO\u001b[0m] - Started serving flow_modules.aiflows.InterpreterFlowModule.InterpreterAtomicFlow at flows:InterpreterAtomicFlow.\u001b[0m\n",
      "[\u001b[36m2024-04-08 15:20:34,145\u001b[0m][\u001b[34maiflows.utils.serving:117\u001b[0m][\u001b[32mINFO\u001b[0m] - dispatch_point: coflows_dispatch\u001b[0m\n",
      "[\u001b[36m2024-04-08 15:20:34,146\u001b[0m][\u001b[34maiflows.utils.serving:118\u001b[0m][\u001b[32mINFO\u001b[0m] - parallel_dispatch: False\u001b[0m\n",
      "[\u001b[36m2024-04-08 15:20:34,146\u001b[0m][\u001b[34maiflows.utils.serving:119\u001b[0m][\u001b[32mINFO\u001b[0m] - singleton: False\n",
      "\u001b[0m\n",
      "[\u001b[36m2024-04-08 15:20:34,148\u001b[0m][\u001b[34maiflows.workers.dispatch_worker:236\u001b[0m][\u001b[32mINFO\u001b[0m] - Dispatch worker started in attached thread.\u001b[0m\n",
      "[\u001b[36m2024-04-08 15:20:34,150\u001b[0m][\u001b[34maiflows.workers.dispatch_worker:237\u001b[0m][\u001b[32mINFO\u001b[0m] - dispatch_point: coflows_dispatch\u001b[0m\n"
     ]
    }
   ],
   "source": [
    "serving.serve_flow(\n",
    "    cl=cl,\n",
    "    flow_class_name=\"flow_modules.aiflows.InterpreterFlowModule.InterpreterAtomicFlow\",\n",
    "    flow_endpoint=\"InterpreterAtomicFlow\",\n",
    ")\n",
    "run_dispatch_worker_thread(cl)"
   ]
  },
  {
   "cell_type": "markdown",
   "metadata": {},
   "source": [
    "##### Testing the InterpreterFlowModule"
   ]
  },
  {
   "cell_type": "code",
   "execution_count": 16,
   "metadata": {},
   "outputs": [
    {
     "name": "stdout",
     "output_type": "stream",
     "text": [
      "[\u001b[36m2024-04-08 15:20:37,177\u001b[0m][\u001b[34maiflows.utils.serving:336\u001b[0m][\u001b[32mINFO\u001b[0m] - Mounted 1305b6f8-afd0-4fe9-b218-9cd869e6b38b at flows:InterpreterAtomicFlow:mounts:local:1305b6f8-afd0-4fe9-b218-9cd869e6b38b\u001b[0m\n"
     ]
    },
    {
     "name": "stdout",
     "output_type": "stream",
     "text": [
      "[\u001b[36m2024-04-08 15:20:37,224\u001b[0m][\u001b[34maiflows.workers.dispatch_worker:119\u001b[0m][\u001b[32mINFO\u001b[0m] - \n",
      "~~~ Dispatch task ~~~\u001b[0m\n",
      "[\u001b[36m2024-04-08 15:20:37,256\u001b[0m][\u001b[34maiflows.workers.dispatch_worker:161\u001b[0m][\u001b[32mINFO\u001b[0m] - flow_endpoint: InterpreterAtomicFlow\u001b[0m\n",
      "[\u001b[36m2024-04-08 15:20:37,259\u001b[0m][\u001b[34maiflows.workers.dispatch_worker:162\u001b[0m][\u001b[32mINFO\u001b[0m] - flow_id: 1305b6f8-afd0-4fe9-b218-9cd869e6b38b\u001b[0m\n",
      "[\u001b[36m2024-04-08 15:20:37,260\u001b[0m][\u001b[34maiflows.workers.dispatch_worker:163\u001b[0m][\u001b[32mINFO\u001b[0m] - owner_id: local\u001b[0m\n",
      "[\u001b[36m2024-04-08 15:20:37,262\u001b[0m][\u001b[34maiflows.workers.dispatch_worker:164\u001b[0m][\u001b[32mINFO\u001b[0m] - message_paths: ['push_tasks:30afc0dd-134a-4f9d-8be8-cda12541a68f:msg']\u001b[0m\n",
      "[\u001b[36m2024-04-08 15:20:37,263\u001b[0m][\u001b[34maiflows.workers.dispatch_worker:165\u001b[0m][\u001b[32mINFO\u001b[0m] - parallel_dispatch: False\n",
      "\u001b[0m\n",
      "[\u001b[36m2024-04-08 15:20:37,337\u001b[0m][\u001b[34maiflows.workers.dispatch_worker:188\u001b[0m][\u001b[32mINFO\u001b[0m] - Input message source: Proxy_InterpreterAtomicFlow\u001b[0m\n",
      "[\u001b[36m2024-04-08 15:20:55,664\u001b[0m][\u001b[34maiflows.workers.dispatch_worker:119\u001b[0m][\u001b[32mINFO\u001b[0m] - \n",
      "~~~ Dispatch task ~~~\u001b[0m\n",
      "[\u001b[36m2024-04-08 15:20:55,668\u001b[0m][\u001b[34maiflows.workers.dispatch_worker:161\u001b[0m][\u001b[32mINFO\u001b[0m] - flow_endpoint: CodeGenerator\u001b[0m\n",
      "[\u001b[36m2024-04-08 15:20:55,671\u001b[0m][\u001b[34maiflows.workers.dispatch_worker:162\u001b[0m][\u001b[32mINFO\u001b[0m] - flow_id: 2a6b3c7d-b6a5-4799-809b-0088378c6227\u001b[0m\n",
      "[\u001b[36m2024-04-08 15:20:55,672\u001b[0m][\u001b[34maiflows.workers.dispatch_worker:163\u001b[0m][\u001b[32mINFO\u001b[0m] - owner_id: local\u001b[0m\n",
      "[\u001b[36m2024-04-08 15:20:55,673\u001b[0m][\u001b[34maiflows.workers.dispatch_worker:164\u001b[0m][\u001b[32mINFO\u001b[0m] - message_paths: ['push_tasks:c09d5417-6ed8-4328-8201-5a6f84621e54:msg']\u001b[0m\n",
      "[\u001b[36m2024-04-08 15:20:55,675\u001b[0m][\u001b[34maiflows.workers.dispatch_worker:165\u001b[0m][\u001b[32mINFO\u001b[0m] - parallel_dispatch: False\n",
      "\u001b[0m\n",
      "[\u001b[36m2024-04-08 15:20:55,779\u001b[0m][\u001b[34maiflows.workers.dispatch_worker:188\u001b[0m][\u001b[32mINFO\u001b[0m] - Input message source: Coder\u001b[0m\n",
      "[\u001b[36m2024-04-08 15:21:27,824\u001b[0m][\u001b[34maiflows.workers.dispatch_worker:119\u001b[0m][\u001b[32mINFO\u001b[0m] - \n",
      "~~~ Dispatch task ~~~\u001b[0m\n",
      "[\u001b[36m2024-04-08 15:21:27,831\u001b[0m][\u001b[34maiflows.workers.dispatch_worker:161\u001b[0m][\u001b[32mINFO\u001b[0m] - flow_endpoint: CodeGenerator\u001b[0m\n",
      "[\u001b[36m2024-04-08 15:21:27,834\u001b[0m][\u001b[34maiflows.workers.dispatch_worker:162\u001b[0m][\u001b[32mINFO\u001b[0m] - flow_id: 2a6b3c7d-b6a5-4799-809b-0088378c6227\u001b[0m\n",
      "[\u001b[36m2024-04-08 15:21:27,836\u001b[0m][\u001b[34maiflows.workers.dispatch_worker:163\u001b[0m][\u001b[32mINFO\u001b[0m] - owner_id: local\u001b[0m\n",
      "[\u001b[36m2024-04-08 15:21:27,837\u001b[0m][\u001b[34maiflows.workers.dispatch_worker:164\u001b[0m][\u001b[32mINFO\u001b[0m] - message_paths: ['push_tasks:44993c28-2fe7-4fe8-8ff9-ff91fd814b76:msg']\u001b[0m\n",
      "[\u001b[36m2024-04-08 15:21:27,839\u001b[0m][\u001b[34maiflows.workers.dispatch_worker:165\u001b[0m][\u001b[32mINFO\u001b[0m] - parallel_dispatch: False\n",
      "\u001b[0m\n",
      "[\u001b[36m2024-04-08 15:21:27,914\u001b[0m][\u001b[34maiflows.workers.dispatch_worker:188\u001b[0m][\u001b[32mINFO\u001b[0m] - Input message source: Coder\u001b[0m\n"
     ]
    },
    {
     "name": "stdout",
     "output_type": "stream",
     "text": [
      "Data sent:\n",
      " {'language': 'Python', 'code': \"print('Hello, World!')\"} \n",
      "\n",
      "REPLY:\n",
      " {'interpreter_output': 'Hello, World!'} \n",
      "\n",
      "Data sent:\n",
      " {'language': 'Python', 'code': \"import yfinance as yf\\nyf.download('AAPL', start='2015-01-01', end='2016-01-01')\"} \n",
      "\n",
      "REPLY:\n",
      " {'interpreter_output': 'File \"<stdin>\", line 4, in <module>\\nModuleNotFoundError: No module named \\'yfinance\\''} \n",
      "\n"
     ]
    }
   ],
   "source": [
    "proxy_code_interpreter = serving.get_flow_instance(\n",
    "    cl=cl,\n",
    "    flow_endpoint=\"InterpreterAtomicFlow\", #TODO: SPECIFY THE ENDPOINT\n",
    "    user_id=\"local\",\n",
    ")\n",
    "data = [\n",
    "    #should return \"Hello, World!\"\n",
    "    {\"language\": \"Python\", \"code\": \"print('Hello, World!')\"},\n",
    "    #should return an error\n",
    "    {\"language\": \"Python\", \"code\": \"import yfinance as yf\\nyf.download('AAPL', start='2015-01-01', end='2016-01-01')\"},\n",
    "]\n",
    "\n",
    "for dp in data:\n",
    "    input_message = proxy_code_interpreter.package_input_message(dp)\n",
    "    future = proxy_code_interpreter.get_reply_future(input_message)\n",
    "    reply_data = future.get_data()\n",
    "    print(\"Data sent:\\n\",  dp, \"\\n\")\n",
    "    print(\"REPLY:\\n\", reply_data, \"\\n\")"
   ]
  },
  {
   "cell_type": "markdown",
   "metadata": {},
   "source": [
    "### 1.3 Combining the CodeGenerator and Interpreter Flow Modules (ChatCodeInterpreter Flow)\n",
    "\n",
    "Now that we have both the CodeGenerator and Interpreter Flow Modules, we can combine them to create a ChatCodeInterpreter Flow. This flow will leverage the CodeGenerator to generate code based on user prompts, and the Interpreter to execute the generated code. The CodeGenerator will decide when to finish generating the code and return the final output (see system prompt template)"
   ]
  },
  {
   "cell_type": "markdown",
   "metadata": {},
   "source": [
    "##### Writing the default config of the ChatCodeInterpreter Flow"
   ]
  },
  {
   "cell_type": "code",
   "execution_count": 17,
   "metadata": {},
   "outputs": [],
   "source": [
    "init_human_prompt_template = \\\n",
    "\"\"\"\n",
    "Here is the goal you need to achieve:\n",
    "{{goal}}\"\n",
    "Feedback:\n",
    "Do not finish this goal yet. You will receive feedback on the code you write.\n",
    "\"\"\"\n"
   ]
  },
  {
   "cell_type": "code",
   "execution_count": 18,
   "metadata": {},
   "outputs": [],
   "source": [
    "default_config_ChatCodeInterpreter = \\\n",
    "{\n",
    "    \"name\": \"ChatCodeInterpreter\",\n",
    "    \"description\": \"A code which generate code with the help of a interpreter\",\n",
    "\n",
    "    # TODO: Define the target\n",
    "    \"_target_\": \"ChatCodeInterpreterFlowModule.ChatCodeInterpreter.ChatCodeInterpreter.instantiate_from_default_config\",\n",
    "\n",
    "    \"input_interface\": \"goal\",\n",
    "    \"output_interface\": [\"code\",\"interpreter_output\"],\n",
    "    \n",
    "    \"subflows_config\": {\n",
    "        \"Coder\": {\n",
    "            \"user_id\": \"local\",\n",
    "            \"flow_endpoint\": \"CodeGenerator\",\n",
    "            \"name\": \"Proxy of Coder\",\n",
    "            \"description\": \"A proxy flow of the Coder flow.\",\n",
    "             \"backend\": {\n",
    "                \"api_infos\": \"???\",\n",
    "                \"model_name\": {\"openai\": \"gpt-4\"}\n",
    "            },\n",
    "             \"init_human_message_prompt_template\": {\n",
    "                \"template\": f'{init_human_prompt_template}',\n",
    "                \"input_variables\": [\"goal\"]\n",
    "             }\n",
    "        },\n",
    "        \"Interpreter\": {\n",
    "           \n",
    "            \"user_id\": \"local\",\n",
    "            \n",
    "            \"flow_endpoint\": \"InterpreterAtomicFlow\",\n",
    "            \"name\": \"Proxy of Interpreter Flow\",\n",
    "            \"description\": \"A proxy flow of the Interpreter Flow.\",\n",
    "        }\n",
    "    }\n",
    "}\n",
    "dict_to_yaml(default_config_ChatCodeInterpreter, \"ChatCodeInterpreterFlowModule/ChatCodeInterpreter.yaml\")"
   ]
  },
  {
   "cell_type": "markdown",
   "metadata": {},
   "source": [
    "##### Writing the ChatCodeInterpreter Flow\n"
   ]
  },
  {
   "cell_type": "code",
   "execution_count": 19,
   "metadata": {},
   "outputs": [],
   "source": [
    "%%compile_and_writefile ChatCodeInterpreterFlowModule/ChatCodeInterpreter.py\n",
    "\n",
    "from aiflows.base_flows import CompositeFlow\n",
    "from aiflows.messages import FlowMessage\n",
    "from aiflows.interfaces import KeyInterface\n",
    "\n",
    "class ChatCodeInterpreter(CompositeFlow):\n",
    "        \n",
    "    def __init__(self,**kwargs):\n",
    "        super().__init__(**kwargs)\n",
    "        # Input to generate reply\n",
    "        self.input_interface_generate_reply = KeyInterface(\n",
    "            keys_to_rename={\"question\": \"prompt\"},\n",
    "            keys_to_select=[\"code\", \"interpreter_output\"]\n",
    "        )\n",
    "        \n",
    "        # Input to call the coder\n",
    "        self.first_input_interface_coder = KeyInterface(\n",
    "            keys_to_select=[\"goal\"]\n",
    "        )\n",
    "        \n",
    "        # Input to call the interpreter\n",
    "        self.input_interface_coder = KeyInterface(\n",
    "            keys_to_rename={\"code\": \"previous_code\", \"interpreter_output\": \"feedback\"},\n",
    "            keys_to_select=[\"goal\", \"previous_code\", \"feedback\"]\n",
    "        )\n",
    "        \n",
    "        # Input to call the interpreter\n",
    "        self.input_interface_interpreter = KeyInterface(\n",
    "            keys_to_rename={\"code\": \"code\", \"language_of_code\": \"language\"},\n",
    "            keys_to_select=[\"code\", \"language\"]\n",
    "        )\n",
    "        \n",
    "    def set_up_flow_state(self):\n",
    "        \"\"\" Set up the flow state. (called in __init__)\"\"\"\n",
    "        super().set_up_flow_state()\n",
    "        self.flow_state[\"previous_state\"] = None\n",
    "        self.flow_state[\"first_round\"] = True\n",
    "\n",
    "    def determine_current_state(self):\n",
    "        \"\"\" Determine the current state of the flow.\"\"\"\n",
    "        previous_state = self.flow_state[\"previous_state\"]\n",
    "        \n",
    "        if previous_state is None:\n",
    "            return \"Coder\"\n",
    "        \n",
    "        elif previous_state == \"Coder\":\n",
    "            return \"Interpreter\"\n",
    "            \n",
    "        elif previous_state == \"Interpreter\":\n",
    "            if self.flow_state[\"finish\"] and not self.flow_state[\"first_round\"]:\n",
    "                curr_state = \"GenerateReply\"\n",
    "            else:\n",
    "                curr_state = \"Coder\"\n",
    "            self.flow_state[\"first_round\"] = False\n",
    "            return curr_state\n",
    "        \n",
    "        elif \"GenerateReply\":\n",
    "            return None\n",
    "        \n",
    "        else:\n",
    "            raise ValueError(f\"Invalid state: {previous_state}\")\n",
    "                        \n",
    "    def call_coder(self):\n",
    "        \"\"\" Call the coder subflow.\"\"\"\n",
    "        if self.flow_state[\"previous_state\"] is None:\n",
    "            input_interface = self.first_input_interface_coder\n",
    "        else:\n",
    "            input_interface = self.input_interface_coder\n",
    "        \n",
    "        message = self.package_input_message(\n",
    "            data = input_interface(self.flow_state),\n",
    "            dst_flow = \"Coder\"\n",
    "        )\n",
    "        self.subflows[\"Coder\"].get_reply(\n",
    "            message,\n",
    "        )\n",
    "        \n",
    "    def call_interpreter(self):\n",
    "        \"\"\" Call the interpreter subflow.\"\"\"\n",
    "        input_interface = self.input_interface_interpreter\n",
    "        \n",
    "        message = self.package_input_message(\n",
    "            data = input_interface(self.flow_state),\n",
    "            dst_flow = \"Interpreter\"\n",
    "        )\n",
    "        \n",
    "        self.subflows[\"Interpreter\"].get_reply(\n",
    "                message,\n",
    "        )\n",
    "        \n",
    "    def generate_reply(self):\n",
    "          \n",
    "        input_interface = self.input_interface_generate_reply\n",
    "          \n",
    "        reply = self.package_output_message(\n",
    "            input_message=self.flow_state[\"initial_message\"],\n",
    "            response=input_interface(self.flow_state),\n",
    "        )\n",
    "        self.send_message(reply)\n",
    "        \n",
    "    def register_data_to_state(self, input_message):\n",
    "        \"\"\" Register the data from the input message to the flow state.\"\"\"\n",
    "        previous_state = self.flow_state[\"previous_state\"]\n",
    "        \n",
    "        #first call to flow\n",
    "        if previous_state is None:\n",
    "            #register initial message so we can reply to it later\n",
    "            self.flow_state[\"initial_message\"] = input_message\n",
    "            #register the question\n",
    "            self.flow_state[\"goal\"] = input_message.data[\"goal\"]\n",
    "        \n",
    "        elif previous_state == \"Coder\":\n",
    "            self.flow_state[\"code\"] = input_message.data[\"code\"]\n",
    "            self.flow_state[\"language_of_code\"] = input_message.data[\"language_of_code\"]\n",
    "            self.flow_state[\"finish\"] = input_message.data[\"finish\"]\n",
    "        \n",
    "        #case where our last call was to the safeguard\n",
    "        elif previous_state == \"Interpreter\":\n",
    "            self.flow_state[\"interpreter_output\"] = input_message.data[\"interpreter_output\"]\n",
    "\n",
    "   \n",
    "    def run(self, input_message: FlowMessage):\n",
    "        \"\"\" Run the flow.\"\"\"\n",
    "        self.register_data_to_state(input_message)\n",
    "        \n",
    "        current_state = self.determine_current_state()\n",
    "        \n",
    "        #call the appropriate function based on the current state\n",
    "        if current_state == \"Coder\":\n",
    "            self.call_coder()\n",
    "            \n",
    "        elif current_state == \"Interpreter\":\n",
    "            self.call_interpreter()\n",
    "            \n",
    "        elif current_state == \"GenerateReply\":\n",
    "            self.generate_reply()\n",
    "        \n",
    "        self.flow_state[\"previous_state\"] = current_state if current_state != \"GenerateReply\" else None"
   ]
  },
  {
   "cell_type": "markdown",
   "metadata": {},
   "source": [
    "##### Serve the ChatCodeInterpreter Flow"
   ]
  },
  {
   "cell_type": "code",
   "execution_count": 20,
   "metadata": {},
   "outputs": [
    {
     "name": "stdout",
     "output_type": "stream",
     "text": [
      "[\u001b[36m2024-04-08 15:20:47,323\u001b[0m][\u001b[34maiflows.utils.serving:116\u001b[0m][\u001b[32mINFO\u001b[0m] - Started serving ChatCodeInterpreterFlowModule.ChatCodeInterpreter.ChatCodeInterpreter at flows:ChatCodeInterpreter.\u001b[0m\n",
      "[\u001b[36m2024-04-08 15:20:47,329\u001b[0m][\u001b[34maiflows.utils.serving:117\u001b[0m][\u001b[32mINFO\u001b[0m] - dispatch_point: coflows_dispatch\u001b[0m\n",
      "[\u001b[36m2024-04-08 15:20:47,331\u001b[0m][\u001b[34maiflows.utils.serving:118\u001b[0m][\u001b[32mINFO\u001b[0m] - parallel_dispatch: False\u001b[0m\n",
      "[\u001b[36m2024-04-08 15:20:47,333\u001b[0m][\u001b[34maiflows.utils.serving:119\u001b[0m][\u001b[32mINFO\u001b[0m] - singleton: False\n",
      "\u001b[0m\n",
      "[\u001b[36m2024-04-08 15:20:47,344\u001b[0m][\u001b[34maiflows.workers.dispatch_worker:236\u001b[0m][\u001b[32mINFO\u001b[0m] - Dispatch worker started in attached thread.\u001b[0m\n",
      "[\u001b[36m2024-04-08 15:20:47,345\u001b[0m][\u001b[34maiflows.workers.dispatch_worker:237\u001b[0m][\u001b[32mINFO\u001b[0m] - dispatch_point: coflows_dispatch\u001b[0m\n"
     ]
    }
   ],
   "source": [
    "serving.serve_flow(\n",
    "    cl=cl,\n",
    "    flow_class_name=\"ChatCodeInterpreterFlowModule.ChatCodeInterpreter.ChatCodeInterpreter\",\n",
    "    flow_endpoint=\"ChatCodeInterpreter\",\n",
    ")\n",
    "\n",
    "run_dispatch_worker_thread(cl)"
   ]
  },
  {
   "cell_type": "code",
   "execution_count": 21,
   "metadata": {},
   "outputs": [
    {
     "name": "stdout",
     "output_type": "stream",
     "text": [
      "WARNING: Skipping yfinance as it is not installed.\n"
     ]
    }
   ],
   "source": [
    "#make sure we don't have yfinacne installed\n",
    "!pip uninstall yfinance -y"
   ]
  },
  {
   "cell_type": "markdown",
   "metadata": {},
   "source": [
    "##### Testing the ChatCodeInterpreter Flow\n",
    "\n",
    "Now let's test the ChatCodeInterpreter Flow by prompting the chatbot with the same task as before: \"Download Apple's stock prices, plot them, and save them in a PDF.\" The chatbot should generate code that accomplishes this task, and the interpreter should execute the generated code (including installing the necessary packages)."
   ]
  },
  {
   "cell_type": "code",
   "execution_count": 22,
   "metadata": {},
   "outputs": [
    {
     "name": "stdout",
     "output_type": "stream",
     "text": [
      "[\u001b[36m2024-04-08 15:20:55,146\u001b[0m][\u001b[34maiflows.utils.serving:336\u001b[0m][\u001b[32mINFO\u001b[0m] - Mounted 2a6b3c7d-b6a5-4799-809b-0088378c6227 at flows:CodeGenerator:mounts:local:2a6b3c7d-b6a5-4799-809b-0088378c6227\u001b[0m\n",
      "[\u001b[36m2024-04-08 15:20:55,342\u001b[0m][\u001b[34maiflows.utils.serving:336\u001b[0m][\u001b[32mINFO\u001b[0m] - Mounted 855c3de6-3d7f-47c5-a5e4-c4259f618d85 at flows:InterpreterAtomicFlow:mounts:local:855c3de6-3d7f-47c5-a5e4-c4259f618d85\u001b[0m\n",
      "[\u001b[36m2024-04-08 15:20:55,401\u001b[0m][\u001b[34maiflows.utils.serving:336\u001b[0m][\u001b[32mINFO\u001b[0m] - Mounted 06b856b8-b816-4b25-be3b-5162edd01b38 at flows:ChatCodeInterpreter:mounts:local:06b856b8-b816-4b25-be3b-5162edd01b38\u001b[0m\n",
      "Data sent:\n",
      " {'id': 0, 'goal': \"Download Apple's stock price between 2015 and 2016, make a plot with it,         and save it as a pdf in Download Apple's stock price between 2015 and 2016, make a plot with             it and save it as a pdf in 'apple_stocks.pdf'\"} \n",
      "\n",
      "REPLY:\n",
      " {'code': 'import os\\nimport matplotlib.pyplot as plt\\nimport pandas as pd\\n\\ntry:\\n    import yfinance as yf\\nexcept ImportError:\\n    import subprocess\\n    subprocess.check_call([sys.executable, \\'-m\\', \\'pip\\', \\'install\\', \\'yfinance\\'])\\n    import yfinance as yf\\n\\n\\ndef download_stock_data(start_date, end_date, ticker):\\n    \"\"\"\\n    This function downloads the stock data for a given ticker between the start_date and end_date.\\n    :param start_date: str, start date in the format \\'YYYY-MM-DD\\'\\n    :param end_date: str, end date in the format \\'YYYY-MM-DD\\'\\n    :param ticker: str, the ticker symbol of the stock\\n    :return: pandas.DataFrame, the stock data\\n    \"\"\"\\n    stock_data = yf.download(ticker, start=start_date, end=end_date)\\n    return stock_data\\n\\n\\ndef plot_stock_data(stock_data, output_file):\\n    \"\"\"\\n    This function plots the closing price of the stock data and saves the plot as a pdf.\\n    :param stock_data: pandas.DataFrame, the stock data\\n    :param output_file: str, the path to the output file\\n    :return: None\\n    \"\"\"\\n    plt.figure(figsize=(10, 6))\\n    plt.plot(stock_data[\\'Close\\'])\\n    plt.title(\\'Closing Price\\')\\n    plt.xlabel(\\'Date\\')\\n    plt.ylabel(\\'Price\\')\\n    plt.grid(True)\\n    plt.savefig(output_file, format=\\'pdf\\')\\n\\n\\nif __name__ == \\'__main__\\':\\n    # Download Apple\\'s stock price between 2015 and 2016\\n    apple_stock_data = download_stock_data(\\'2015-01-01\\', \\'2016-12-31\\', \\'AAPL\\')\\n\\n    # Plot the stock data and save it as a pdf\\n    plot_stock_data(apple_stock_data, \\'apple_stocks.pdf\\')', 'interpreter_output': 'File \"<stdin>\", line 12, in <module>\\nModuleNotFoundError: No module named \\'yfinance\\'\\nDuring handling of the above exception, another exception occurred:\\nTraceback (most recent call last):\\n  File \"<stdin>\", line 19, in <module>\\nNameError: name \\'sys\\' is not defined'} \n",
      "\n"
     ]
    },
    {
     "name": "stdout",
     "output_type": "stream",
     "text": [
      "[\u001b[36m2024-04-08 15:20:55,442\u001b[0m][\u001b[34maiflows.workers.dispatch_worker:119\u001b[0m][\u001b[32mINFO\u001b[0m] - \n",
      "~~~ Dispatch task ~~~\u001b[0m\n",
      "[\u001b[36m2024-04-08 15:20:55,453\u001b[0m][\u001b[34maiflows.workers.dispatch_worker:161\u001b[0m][\u001b[32mINFO\u001b[0m] - flow_endpoint: ChatCodeInterpreter\u001b[0m\n",
      "[\u001b[36m2024-04-08 15:20:55,454\u001b[0m][\u001b[34maiflows.workers.dispatch_worker:162\u001b[0m][\u001b[32mINFO\u001b[0m] - flow_id: 06b856b8-b816-4b25-be3b-5162edd01b38\u001b[0m\n",
      "[\u001b[36m2024-04-08 15:20:55,456\u001b[0m][\u001b[34maiflows.workers.dispatch_worker:163\u001b[0m][\u001b[32mINFO\u001b[0m] - owner_id: local\u001b[0m\n",
      "[\u001b[36m2024-04-08 15:20:55,458\u001b[0m][\u001b[34maiflows.workers.dispatch_worker:164\u001b[0m][\u001b[32mINFO\u001b[0m] - message_paths: ['push_tasks:1e7e76dc-93c2-4059-afa5-f579b08eb024:msg']\u001b[0m\n",
      "[\u001b[36m2024-04-08 15:20:55,460\u001b[0m][\u001b[34maiflows.workers.dispatch_worker:165\u001b[0m][\u001b[32mINFO\u001b[0m] - parallel_dispatch: False\n",
      "\u001b[0m\n",
      "[\u001b[36m2024-04-08 15:20:55,631\u001b[0m][\u001b[34maiflows.workers.dispatch_worker:188\u001b[0m][\u001b[32mINFO\u001b[0m] - Input message source: Proxy_ChatCodeInterpreter\u001b[0m\n",
      "[\u001b[36m2024-04-08 15:21:27,657\u001b[0m][\u001b[34maiflows.workers.dispatch_worker:119\u001b[0m][\u001b[32mINFO\u001b[0m] - \n",
      "~~~ Dispatch task ~~~\u001b[0m\n",
      "[\u001b[36m2024-04-08 15:21:27,686\u001b[0m][\u001b[34maiflows.workers.dispatch_worker:161\u001b[0m][\u001b[32mINFO\u001b[0m] - flow_endpoint: ChatCodeInterpreter\u001b[0m\n",
      "[\u001b[36m2024-04-08 15:21:27,687\u001b[0m][\u001b[34maiflows.workers.dispatch_worker:162\u001b[0m][\u001b[32mINFO\u001b[0m] - flow_id: 06b856b8-b816-4b25-be3b-5162edd01b38\u001b[0m\n",
      "[\u001b[36m2024-04-08 15:21:27,690\u001b[0m][\u001b[34maiflows.workers.dispatch_worker:163\u001b[0m][\u001b[32mINFO\u001b[0m] - owner_id: local\u001b[0m\n",
      "[\u001b[36m2024-04-08 15:21:27,694\u001b[0m][\u001b[34maiflows.workers.dispatch_worker:164\u001b[0m][\u001b[32mINFO\u001b[0m] - message_paths: ['push_tasks:2f5feafe-7c9d-44a7-a91e-e4bcd3c909d9:msg']\u001b[0m\n",
      "[\u001b[36m2024-04-08 15:21:27,697\u001b[0m][\u001b[34maiflows.workers.dispatch_worker:165\u001b[0m][\u001b[32mINFO\u001b[0m] - parallel_dispatch: False\n",
      "\u001b[0m\n",
      "[\u001b[36m2024-04-08 15:21:27,797\u001b[0m][\u001b[34maiflows.workers.dispatch_worker:188\u001b[0m][\u001b[32mINFO\u001b[0m] - Input message source: Proxy of Interpreter Flow\u001b[0m\n",
      "[\u001b[36m2024-04-08 15:22:03,281\u001b[0m][\u001b[34maiflows.workers.dispatch_worker:119\u001b[0m][\u001b[32mINFO\u001b[0m] - \n",
      "~~~ Dispatch task ~~~\u001b[0m\n",
      "[\u001b[36m2024-04-08 15:22:03,289\u001b[0m][\u001b[34maiflows.workers.dispatch_worker:161\u001b[0m][\u001b[32mINFO\u001b[0m] - flow_endpoint: ChatCodeInterpreter\u001b[0m\n",
      "[\u001b[36m2024-04-08 15:22:03,291\u001b[0m][\u001b[34maiflows.workers.dispatch_worker:162\u001b[0m][\u001b[32mINFO\u001b[0m] - flow_id: 06b856b8-b816-4b25-be3b-5162edd01b38\u001b[0m\n",
      "[\u001b[36m2024-04-08 15:22:03,293\u001b[0m][\u001b[34maiflows.workers.dispatch_worker:163\u001b[0m][\u001b[32mINFO\u001b[0m] - owner_id: local\u001b[0m\n",
      "[\u001b[36m2024-04-08 15:22:03,294\u001b[0m][\u001b[34maiflows.workers.dispatch_worker:164\u001b[0m][\u001b[32mINFO\u001b[0m] - message_paths: ['push_tasks:0a62b6ce-94eb-4dfd-98c2-d11601c62501:msg']\u001b[0m\n",
      "[\u001b[36m2024-04-08 15:22:03,295\u001b[0m][\u001b[34maiflows.workers.dispatch_worker:165\u001b[0m][\u001b[32mINFO\u001b[0m] - parallel_dispatch: False\n",
      "\u001b[0m\n",
      "[\u001b[36m2024-04-08 15:22:03,429\u001b[0m][\u001b[34maiflows.workers.dispatch_worker:188\u001b[0m][\u001b[32mINFO\u001b[0m] - Input message source: Proxy of Interpreter Flow\u001b[0m\n"
     ]
    },
    {
     "name": "stdout",
     "output_type": "stream",
     "text": [
      "[\u001b[36m2024-04-08 15:21:22,564\u001b[0m][\u001b[34maiflows.workers.dispatch_worker:119\u001b[0m][\u001b[32mINFO\u001b[0m] - \n",
      "~~~ Dispatch task ~~~\u001b[0m\n",
      "[\u001b[36m2024-04-08 15:21:22,573\u001b[0m][\u001b[34maiflows.workers.dispatch_worker:161\u001b[0m][\u001b[32mINFO\u001b[0m] - flow_endpoint: InterpreterAtomicFlow\u001b[0m\n",
      "[\u001b[36m2024-04-08 15:21:22,575\u001b[0m][\u001b[34maiflows.workers.dispatch_worker:162\u001b[0m][\u001b[32mINFO\u001b[0m] - flow_id: 855c3de6-3d7f-47c5-a5e4-c4259f618d85\u001b[0m\n",
      "[\u001b[36m2024-04-08 15:21:22,577\u001b[0m][\u001b[34maiflows.workers.dispatch_worker:163\u001b[0m][\u001b[32mINFO\u001b[0m] - owner_id: local\u001b[0m\n",
      "[\u001b[36m2024-04-08 15:21:22,580\u001b[0m][\u001b[34maiflows.workers.dispatch_worker:164\u001b[0m][\u001b[32mINFO\u001b[0m] - message_paths: ['push_tasks:49375028-e95a-405b-a04b-e83b6c46910f:msg']\u001b[0m\n",
      "[\u001b[36m2024-04-08 15:21:22,601\u001b[0m][\u001b[34maiflows.workers.dispatch_worker:165\u001b[0m][\u001b[32mINFO\u001b[0m] - parallel_dispatch: False\n",
      "\u001b[0m\n",
      "[\u001b[36m2024-04-08 15:21:22,673\u001b[0m][\u001b[34maiflows.workers.dispatch_worker:188\u001b[0m][\u001b[32mINFO\u001b[0m] - Input message source: Interpreter\u001b[0m\n",
      "[\u001b[36m2024-04-08 15:22:00,447\u001b[0m][\u001b[34maiflows.workers.dispatch_worker:119\u001b[0m][\u001b[32mINFO\u001b[0m] - \n",
      "~~~ Dispatch task ~~~\u001b[0m\n",
      "[\u001b[36m2024-04-08 15:22:00,471\u001b[0m][\u001b[34maiflows.workers.dispatch_worker:161\u001b[0m][\u001b[32mINFO\u001b[0m] - flow_endpoint: InterpreterAtomicFlow\u001b[0m\n",
      "[\u001b[36m2024-04-08 15:22:00,472\u001b[0m][\u001b[34maiflows.workers.dispatch_worker:162\u001b[0m][\u001b[32mINFO\u001b[0m] - flow_id: 855c3de6-3d7f-47c5-a5e4-c4259f618d85\u001b[0m\n",
      "[\u001b[36m2024-04-08 15:22:00,473\u001b[0m][\u001b[34maiflows.workers.dispatch_worker:163\u001b[0m][\u001b[32mINFO\u001b[0m] - owner_id: local\u001b[0m\n",
      "[\u001b[36m2024-04-08 15:22:00,474\u001b[0m][\u001b[34maiflows.workers.dispatch_worker:164\u001b[0m][\u001b[32mINFO\u001b[0m] - message_paths: ['push_tasks:658d5f40-906f-45a6-bc92-c573add2d4ca:msg']\u001b[0m\n",
      "[\u001b[36m2024-04-08 15:22:00,475\u001b[0m][\u001b[34maiflows.workers.dispatch_worker:165\u001b[0m][\u001b[32mINFO\u001b[0m] - parallel_dispatch: False\n",
      "\u001b[0m\n",
      "[\u001b[36m2024-04-08 15:22:00,518\u001b[0m][\u001b[34maiflows.workers.dispatch_worker:188\u001b[0m][\u001b[32mINFO\u001b[0m] - Input message source: Interpreter\u001b[0m\n"
     ]
    }
   ],
   "source": [
    "\n",
    "default_config = default_config_ChatCodeInterpreter\n",
    "overrides = copy.deepcopy(default_config)\n",
    "api_information = [ApiInfo(backend_used=\"openai\", api_key=os.getenv(\"OPENAI_API_KEY\"))]\n",
    "quick_load_api_keys(overrides, api_information)\n",
    "\n",
    "proxy_code_generator = serving.get_flow_instance(\n",
    "    cl=cl,\n",
    "    flow_endpoint=\"ChatCodeInterpreter\", #TODO: SPECIFY THE ENDPOINT\n",
    "    user_id=\"local\",\n",
    "    config_overrides=overrides,\n",
    ")\n",
    "data = [\n",
    "    {\"id\": 0, \"goal\": \"Download Apple's stock price between 2015 and 2016, make a plot with it, \\\n",
    "        and save it as a pdf in Download Apple's stock price between 2015 and 2016, make a plot with \\\n",
    "            it and save it as a pdf in 'apple_stocks.pdf'\"},\n",
    "]\n",
    "\n",
    "for dp in data:\n",
    "    input_message = proxy_code_generator.package_input_message(dp)\n",
    "    future = proxy_code_generator.get_reply_future(input_message)\n",
    "    reply_data = future.get_data()\n",
    "    print(\"Data sent:\\n\",  dp, \"\\n\")\n",
    "    print(\"REPLY:\\n\", reply_data, \"\\n\")"
   ]
  },
  {
   "cell_type": "markdown",
   "metadata": {},
   "source": [
    "Note how a pdf named `apple_stock_prices.pdf` is saved in the current directory. This is the pdf that was generated by the ChatAtomicFlow executerd by the interpreter Flow.\n",
    "\n",
    "You can also check out the code it generated:"
   ]
  },
  {
   "cell_type": "code",
   "execution_count": 23,
   "metadata": {},
   "outputs": [
    {
     "name": "stdout",
     "output_type": "stream",
     "text": [
      "import os\n",
      "import matplotlib.pyplot as plt\n",
      "import pandas as pd\n",
      "\n",
      "try:\n",
      "    import yfinance as yf\n",
      "except ImportError:\n",
      "    import subprocess\n",
      "    subprocess.check_call([sys.executable, '-m', 'pip', 'install', 'yfinance'])\n",
      "    import yfinance as yf\n",
      "\n",
      "\n",
      "def download_stock_data(start_date, end_date, ticker):\n",
      "    \"\"\"\n",
      "    This function downloads the stock data for a given ticker between the start_date and end_date.\n",
      "    :param start_date: str, start date in the format 'YYYY-MM-DD'\n",
      "    :param end_date: str, end date in the format 'YYYY-MM-DD'\n",
      "    :param ticker: str, the ticker symbol of the stock\n",
      "    :return: pandas.DataFrame, the stock data\n",
      "    \"\"\"\n",
      "    stock_data = yf.download(ticker, start=start_date, end=end_date)\n",
      "    return stock_data\n",
      "\n",
      "\n",
      "def plot_stock_data(stock_data, output_file):\n",
      "    \"\"\"\n",
      "    This function plots the closing price of the stock data and saves the plot as a pdf.\n",
      "    :param stock_data: pandas.DataFrame, the stock data\n",
      "    :param output_file: str, the path to the output file\n",
      "    :return: None\n",
      "    \"\"\"\n",
      "    plt.figure(figsize=(10, 6))\n",
      "    plt.plot(stock_data['Close'])\n",
      "    plt.title('Closing Price')\n",
      "    plt.xlabel('Date')\n",
      "    plt.ylabel('Price')\n",
      "    plt.grid(True)\n",
      "    plt.savefig(output_file, format='pdf')\n",
      "\n",
      "\n",
      "if __name__ == '__main__':\n",
      "    # Download Apple's stock price between 2015 and 2016\n",
      "    apple_stock_data = download_stock_data('2015-01-01', '2016-12-31', 'AAPL')\n",
      "\n",
      "    # Plot the stock data and save it as a pdf\n",
      "    plot_stock_data(apple_stock_data, 'apple_stocks.pdf')\n"
     ]
    }
   ],
   "source": [
    "print(reply_data[\"code\"])"
   ]
  },
  {
   "cell_type": "markdown",
   "metadata": {},
   "source": [
    "If you copy paste the code in a new cell it should also run since it installed the necessary packages !"
   ]
  },
  {
   "cell_type": "code",
   "execution_count": 24,
   "metadata": {},
   "outputs": [
    {
     "name": "stdout",
     "output_type": "stream",
     "text": [
      "Collecting yfinance\n",
      "  Using cached yfinance-0.2.37-py2.py3-none-any.whl.metadata (11 kB)\n",
      "Requirement already satisfied: pandas>=1.3.0 in /Users/nicolasbaldwin/opt/miniconda3/envs/mockenv/lib/python3.11/site-packages (from yfinance) (2.2.1)\n",
      "Requirement already satisfied: numpy>=1.16.5 in /Users/nicolasbaldwin/opt/miniconda3/envs/mockenv/lib/python3.11/site-packages (from yfinance) (1.26.4)\n",
      "Requirement already satisfied: requests>=2.31 in /Users/nicolasbaldwin/opt/miniconda3/envs/mockenv/lib/python3.11/site-packages (from yfinance) (2.31.0)\n",
      "Requirement already satisfied: multitasking>=0.0.7 in /Users/nicolasbaldwin/opt/miniconda3/envs/mockenv/lib/python3.11/site-packages (from yfinance) (0.0.11)\n",
      "Requirement already satisfied: lxml>=4.9.1 in /Users/nicolasbaldwin/opt/miniconda3/envs/mockenv/lib/python3.11/site-packages (from yfinance) (5.1.0)\n",
      "Requirement already satisfied: appdirs>=1.4.4 in /Users/nicolasbaldwin/opt/miniconda3/envs/mockenv/lib/python3.11/site-packages (from yfinance) (1.4.4)\n",
      "Requirement already satisfied: pytz>=2022.5 in /Users/nicolasbaldwin/opt/miniconda3/envs/mockenv/lib/python3.11/site-packages (from yfinance) (2024.1)\n",
      "Requirement already satisfied: frozendict>=2.3.4 in /Users/nicolasbaldwin/opt/miniconda3/envs/mockenv/lib/python3.11/site-packages (from yfinance) (2.4.0)\n",
      "Requirement already satisfied: peewee>=3.16.2 in /Users/nicolasbaldwin/opt/miniconda3/envs/mockenv/lib/python3.11/site-packages (from yfinance) (3.17.1)\n",
      "Requirement already satisfied: beautifulsoup4>=4.11.1 in /Users/nicolasbaldwin/opt/miniconda3/envs/mockenv/lib/python3.11/site-packages (from yfinance) (4.12.3)\n",
      "Requirement already satisfied: html5lib>=1.1 in /Users/nicolasbaldwin/opt/miniconda3/envs/mockenv/lib/python3.11/site-packages (from yfinance) (1.1)\n",
      "Requirement already satisfied: soupsieve>1.2 in /Users/nicolasbaldwin/opt/miniconda3/envs/mockenv/lib/python3.11/site-packages (from beautifulsoup4>=4.11.1->yfinance) (2.5)\n",
      "Requirement already satisfied: six>=1.9 in /Users/nicolasbaldwin/opt/miniconda3/envs/mockenv/lib/python3.11/site-packages (from html5lib>=1.1->yfinance) (1.16.0)\n",
      "Requirement already satisfied: webencodings in /Users/nicolasbaldwin/opt/miniconda3/envs/mockenv/lib/python3.11/site-packages (from html5lib>=1.1->yfinance) (0.5.1)\n",
      "Requirement already satisfied: python-dateutil>=2.8.2 in /Users/nicolasbaldwin/opt/miniconda3/envs/mockenv/lib/python3.11/site-packages (from pandas>=1.3.0->yfinance) (2.9.0)\n",
      "Requirement already satisfied: tzdata>=2022.7 in /Users/nicolasbaldwin/opt/miniconda3/envs/mockenv/lib/python3.11/site-packages (from pandas>=1.3.0->yfinance) (2024.1)\n",
      "Requirement already satisfied: charset-normalizer<4,>=2 in /Users/nicolasbaldwin/opt/miniconda3/envs/mockenv/lib/python3.11/site-packages (from requests>=2.31->yfinance) (3.3.2)\n",
      "Requirement already satisfied: idna<4,>=2.5 in /Users/nicolasbaldwin/opt/miniconda3/envs/mockenv/lib/python3.11/site-packages (from requests>=2.31->yfinance) (3.6)\n",
      "Requirement already satisfied: urllib3<3,>=1.21.1 in /Users/nicolasbaldwin/opt/miniconda3/envs/mockenv/lib/python3.11/site-packages (from requests>=2.31->yfinance) (2.2.1)\n",
      "Requirement already satisfied: certifi>=2017.4.17 in /Users/nicolasbaldwin/opt/miniconda3/envs/mockenv/lib/python3.11/site-packages (from requests>=2.31->yfinance) (2023.11.17)\n",
      "Using cached yfinance-0.2.37-py2.py3-none-any.whl (72 kB)\n",
      "Installing collected packages: yfinance\n",
      "Successfully installed yfinance-0.2.37\n"
     ]
    },
    {
     "name": "stderr",
     "output_type": "stream",
     "text": [
      "[*********************100%%**********************]  1 of 1 completed\n"
     ]
    },
    {
     "data": {
      "image/png": "[encoded data removed]",
      "text/plain": [
       "<Figure size 1000x600 with 1 Axes>"
      ]
     },
     "metadata": {},
     "output_type": "display_data"
    }
   ],
   "source": [
    "import os\n",
    "import matplotlib.pyplot as plt\n",
    "import pandas as pd\n",
    "\n",
    "try:\n",
    "    import yfinance as yf\n",
    "except ImportError:\n",
    "    import subprocess\n",
    "    subprocess.check_call([sys.executable, '-m', 'pip', 'install', 'yfinance'])\n",
    "    import yfinance as yf\n",
    "\n",
    "\n",
    "def download_stock_data(start_date, end_date, ticker):\n",
    "    \"\"\"\n",
    "    This function downloads the stock data for a given ticker between the start_date and end_date.\n",
    "    :param start_date: str, start date in the format 'YYYY-MM-DD'\n",
    "    :param end_date: str, end date in the format 'YYYY-MM-DD'\n",
    "    :param ticker: str, the ticker symbol of the stock\n",
    "    :return: pandas.DataFrame, the stock data\n",
    "    \"\"\"\n",
    "    stock_data = yf.download(ticker, start=start_date, end=end_date)\n",
    "    return stock_data\n",
    "\n",
    "\n",
    "def plot_stock_data(stock_data, output_file):\n",
    "    \"\"\"\n",
    "    This function plots the closing price of the stock data and saves the plot as a pdf.\n",
    "    :param stock_data: pandas.DataFrame, the stock data\n",
    "    :param output_file: str, the path to the output file\n",
    "    :return: None\n",
    "    \"\"\"\n",
    "    plt.figure(figsize=(10, 6))\n",
    "    plt.plot(stock_data['Close'])\n",
    "    plt.title('Closing Price')\n",
    "    plt.xlabel('Date')\n",
    "    plt.ylabel('Price')\n",
    "    plt.grid(True)\n",
    "    plt.savefig(output_file, format='pdf')\n",
    "\n",
    "\n",
    "if __name__ == '__main__':\n",
    "    # Download Apple's stock price between 2015 and 2016\n",
    "    apple_stock_data = download_stock_data('2015-01-01', '2016-12-31', 'AAPL')\n",
    "\n",
    "    # Plot the stock data and save it as a pdf\n",
    "    plot_stock_data(apple_stock_data, 'apple_stocks.pdf')"
   ]
  }
 ],
 "metadata": {
  "kernelspec": {
   "display_name": "coflows",
   "language": "python",
   "name": "python3"
  },
  "language_info": {
   "codemirror_mode": {
    "name": "ipython",
    "version": 3
   },
   "file_extension": ".py",
   "mimetype": "text/x-python",
   "name": "python",
   "nbconvert_exporter": "python",
   "pygments_lexer": "ipython3",
   "version": "3.11.8"
  }
 },
 "nbformat": 4,
 "nbformat_minor": 2
}
