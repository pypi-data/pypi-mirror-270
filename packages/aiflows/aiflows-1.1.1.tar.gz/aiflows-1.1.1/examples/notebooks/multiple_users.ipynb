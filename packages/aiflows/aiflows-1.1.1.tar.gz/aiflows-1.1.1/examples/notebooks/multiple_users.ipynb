{
 "cells": [
  {
   "cell_type": "markdown",
   "id": "d7a649b1-e259-4b73-8df5-5dc7c28cae47",
   "metadata": {},
   "source": [
    "# Getting Flow instances from other CoLink users\n",
    "\n",
    "This notebook demonstrates how a user can obtain instances of Flows that are served by other CoLink users. Both the client user and the serving user need to have a get_instance worker running to perform the instance exchange. \n",
    "\n",
    "When a user calls get_flow_instance on some flow_endpoint, we start a colink task with all users that are serving the subflows of the specified Flow. Every involved user will then recursively call get_flow_instance on its served subflows, which might again propagate across different CoLink users. Therefore, a get_flow_instance call results in a tree-like fetching process across CoLink users - this process is facilitated by the get_instance workers."
   ]
  },
  {
   "cell_type": "code",
   "execution_count": 1,
   "id": "3290339a-e045-465a-a503-03dece48822a",
   "metadata": {},
   "outputs": [
    {
     "name": "stderr",
     "output_type": "stream",
     "text": [
      "/Users/nicolasbaldwin/opt/miniconda3/envs/mockenv/lib/python3.11/site-packages/tqdm/auto.py:21: TqdmWarning: IProgress not found. Please update jupyter and ipywidgets. See https://ipywidgets.readthedocs.io/en/stable/user_install.html\n",
      "  from .autonotebook import tqdm as notebook_tqdm\n"
     ]
    }
   ],
   "source": [
    "%load_ext autoreload\n",
    "%autoreload 2\n",
    "import os, json\n",
    "from colink import CoLink\n",
    "from aiflows.utils import serving\n",
    "from aiflows.utils.general_helpers import read_yaml_file\n",
    "from aiflows.messages import FlowMessage\n",
    "from aiflows.utils import coflows_utils, colink_utils\n",
    "from aiflows.workers import run_dispatch_worker_thread, run_get_instance_worker_thread"
   ]
  },
  {
   "cell_type": "markdown",
   "id": "0afb71d4-fc58-425b-98ae-c7667a159565",
   "metadata": {},
   "source": [
    "# Create two users"
   ]
  },
  {
   "cell_type": "code",
   "execution_count": 2,
   "id": "aa7d4186-d488-4a52-99d6-6a804cccd977",
   "metadata": {},
   "outputs": [
    {
     "name": "stdout",
     "output_type": "stream",
     "text": [
      "User 0 id: 03b4f8bd347a581727fdb0b31ac81d1a17da46aba1e1a440ceb8c0182829699f76\n",
      "User 1 id: 03964cddf0fa1ba008d786fc7884c9d179c5a9d6118e4aede0c68539a33e031d6e\n"
     ]
    }
   ],
   "source": [
    "cls = colink_utils.start_colink_server_with_users(num_users=2)\n",
    "print(\"User 0 id:\", cls[0].get_user_id())\n",
    "print(\"User 1 id:\", cls[1].get_user_id())"
   ]
  },
  {
   "cell_type": "markdown",
   "id": "0af33573-24b2-4d27-a7dc-9299f17d1e5b",
   "metadata": {},
   "source": [
    "# USER 0\n",
    "\n",
    "User 0 will serve ReverseNumberAtomicFlow that User 1 will then use as a subflow."
   ]
  },
  {
   "cell_type": "code",
   "execution_count": 3,
   "id": "c36a4f71-7fc6-490c-9966-de8725120a64",
   "metadata": {},
   "outputs": [
    {
     "name": "stdout",
     "output_type": "stream",
     "text": [
      "[\u001b[36m2024-04-08 10:32:29,053\u001b[0m][\u001b[34maiflows.workers.dispatch_worker:236\u001b[0m][\u001b[32mINFO\u001b[0m] - Dispatch worker started in attached thread.\u001b[0m\n",
      "[\u001b[36m2024-04-08 10:32:29,055\u001b[0m][\u001b[34maiflows.workers.dispatch_worker:237\u001b[0m][\u001b[32mINFO\u001b[0m] - dispatch_point: coflows_dispatch\u001b[0m\n",
      "[\u001b[36m2024-04-08 10:32:29,058\u001b[0m][\u001b[34maiflows.workers.get_instance_worker:164\u001b[0m][\u001b[32mINFO\u001b[0m] - get_instances worker started in attached thread for user 03b4f8bd347a581727fdb0b31ac81d1a17da46aba1e1a440ceb8c0182829699f76\u001b[0m\n"
     ]
    }
   ],
   "source": [
    "run_dispatch_worker_thread(cls[0])\n",
    "run_get_instance_worker_thread(cls[0])"
   ]
  },
  {
   "cell_type": "code",
   "execution_count": 4,
   "id": "fd1aa9eb-13a2-43f1-9d07-ce1f29d5a38e",
   "metadata": {},
   "outputs": [
    {
     "name": "stdout",
     "output_type": "stream",
     "text": [
      "[\u001b[36m2024-04-08 10:32:31,295\u001b[0m][\u001b[34maiflows.utils.serving:116\u001b[0m][\u001b[32mINFO\u001b[0m] - Started serving ReverseNumberFlowModule.ReverseNumberAtomicFlow at flows:reverse_number_atomic.\u001b[0m\n",
      "[\u001b[36m2024-04-08 10:32:31,296\u001b[0m][\u001b[34maiflows.utils.serving:117\u001b[0m][\u001b[32mINFO\u001b[0m] - dispatch_point: coflows_dispatch\u001b[0m\n",
      "[\u001b[36m2024-04-08 10:32:31,296\u001b[0m][\u001b[34maiflows.utils.serving:118\u001b[0m][\u001b[32mINFO\u001b[0m] - parallel_dispatch: False\u001b[0m\n",
      "[\u001b[36m2024-04-08 10:32:31,298\u001b[0m][\u001b[34maiflows.utils.serving:119\u001b[0m][\u001b[32mINFO\u001b[0m] - singleton: True\n",
      "\u001b[0m\n"
     ]
    },
    {
     "data": {
      "text/plain": [
       "True"
      ]
     },
     "execution_count": 4,
     "metadata": {},
     "output_type": "execute_result"
    }
   ],
   "source": [
    "serving.serve_flow(\n",
    "    cl=cls[0],\n",
    "    flow_class_name=\"ReverseNumberFlowModule.ReverseNumberAtomicFlow\",\n",
    "    flow_endpoint=\"reverse_number_atomic\",\n",
    "    singleton=True,\n",
    ")"
   ]
  },
  {
   "cell_type": "markdown",
   "id": "0f8edcdb-ac4d-45d6-a2fe-be043d00d85d",
   "metadata": {},
   "source": [
    "# USER 1\n",
    "\n",
    "User 1 will get an instance of a local Composite Flow which has remote subflows (served by User 0)."
   ]
  },
  {
   "cell_type": "code",
   "execution_count": 5,
   "id": "6c0f9635-9e85-4f81-a5f5-5e587ad80c36",
   "metadata": {},
   "outputs": [
    {
     "name": "stdout",
     "output_type": "stream",
     "text": [
      "[\u001b[36m2024-04-08 10:32:32,933\u001b[0m][\u001b[34maiflows.workers.dispatch_worker:236\u001b[0m][\u001b[32mINFO\u001b[0m] - Dispatch worker started in attached thread.\u001b[0m\n",
      "[\u001b[36m2024-04-08 10:32:32,941\u001b[0m][\u001b[34maiflows.workers.dispatch_worker:237\u001b[0m][\u001b[32mINFO\u001b[0m] - dispatch_point: coflows_dispatch\u001b[0m\n",
      "[\u001b[36m2024-04-08 10:32:32,950\u001b[0m][\u001b[34maiflows.workers.get_instance_worker:164\u001b[0m][\u001b[32mINFO\u001b[0m] - get_instances worker started in attached thread for user 03964cddf0fa1ba008d786fc7884c9d179c5a9d6118e4aede0c68539a33e031d6e\u001b[0m\n"
     ]
    }
   ],
   "source": [
    "run_dispatch_worker_thread(cls[1])\n",
    "run_get_instance_worker_thread(cls[1])"
   ]
  },
  {
   "cell_type": "code",
   "execution_count": 6,
   "id": "b364acfc-97c9-41b3-be24-62f6262d2872",
   "metadata": {},
   "outputs": [
    {
     "name": "stdout",
     "output_type": "stream",
     "text": [
      "[\u001b[36m2024-04-08 10:32:35,619\u001b[0m][\u001b[34maiflows.utils.serving:116\u001b[0m][\u001b[32mINFO\u001b[0m] - Started serving ReverseNumberFlowModule.ReverseNumberSequentialFlow at flows:reverse_number_sequential.\u001b[0m\n",
      "[\u001b[36m2024-04-08 10:32:35,620\u001b[0m][\u001b[34maiflows.utils.serving:117\u001b[0m][\u001b[32mINFO\u001b[0m] - dispatch_point: coflows_dispatch\u001b[0m\n",
      "[\u001b[36m2024-04-08 10:32:35,622\u001b[0m][\u001b[34maiflows.utils.serving:118\u001b[0m][\u001b[32mINFO\u001b[0m] - parallel_dispatch: False\u001b[0m\n",
      "[\u001b[36m2024-04-08 10:32:35,625\u001b[0m][\u001b[34maiflows.utils.serving:119\u001b[0m][\u001b[32mINFO\u001b[0m] - singleton: False\n",
      "\u001b[0m\n"
     ]
    },
    {
     "data": {
      "text/plain": [
       "True"
      ]
     },
     "execution_count": 6,
     "metadata": {},
     "output_type": "execute_result"
    }
   ],
   "source": [
    "serving.serve_flow(\n",
    "    cl=cls[1],\n",
    "    flow_class_name=\"ReverseNumberFlowModule.ReverseNumberSequentialFlow\",\n",
    "    flow_endpoint=\"reverse_number_sequential\",\n",
    ")"
   ]
  },
  {
   "cell_type": "code",
   "execution_count": 7,
   "id": "f16b39d6-d231-4743-9aec-cf57551e2c0d",
   "metadata": {},
   "outputs": [
    {
     "name": "stdout",
     "output_type": "stream",
     "text": [
      "[\u001b[36m2024-04-08 10:32:41,648\u001b[0m][\u001b[34maiflows.workers.get_instance_worker:112\u001b[0m][\u001b[32mINFO\u001b[0m] - \n",
      "~~~ serving get_instances request ~~~\u001b[0m\n",
      "[\u001b[36m2024-04-08 10:32:41,650\u001b[0m][\u001b[34maiflows.workers.get_instance_worker:113\u001b[0m][\u001b[32mINFO\u001b[0m] - task_id = ad9f9067-c9f5-433e-851d-20de125e1cac\u001b[0m\n",
      "[\u001b[36m2024-04-08 10:32:43,767\u001b[0m][\u001b[34maiflows.workers.get_instance_worker:117\u001b[0m][\u001b[32mINFO\u001b[0m] - get_instance_calls: [['first_reverse_flow', 'reverse_number_atomic', {'flow_class_name': 'ReverseNumberFlowModule.ReverseNumberAtomicFlow', 'singleton': True, 'name': 'ReverseNumberFirst', 'description': 'A flow that takes in a number and reverses it.'}], ['second_reverse_flow', 'reverse_number_atomic', {'flow_class_name': 'ReverseNumberFlowModule.ReverseNumberAtomicFlow', 'name': 'ReverseNumberSecond', 'description': 'A flow that takes in a number and reverses it AGAIN.'}]]\u001b[0m\n",
      "[\u001b[36m2024-04-08 10:32:44,150\u001b[0m][\u001b[34maiflows.utils.serving:336\u001b[0m][\u001b[32mINFO\u001b[0m] - Mounted f711b422-7eb5-4c3e-9d3f-1c93a876efbf at flows:reverse_number_atomic:mounts:03964cddf0fa1ba008d786fc7884c9d179c5a9d6118e4aede0c68539a33e031d6e:f711b422-7eb5-4c3e-9d3f-1c93a876efbf\u001b[0m\n",
      "[\u001b[36m2024-04-08 10:32:44,363\u001b[0m][\u001b[34maiflows.utils.serving:543\u001b[0m][\u001b[32mINFO\u001b[0m] - Fetched singleton f711b422-7eb5-4c3e-9d3f-1c93a876efbf\u001b[0m\n",
      "[\u001b[36m2024-04-08 10:32:47,622\u001b[0m][\u001b[34maiflows.workers.dispatch_worker:119\u001b[0m][\u001b[32mINFO\u001b[0m] - \n",
      "~~~ Dispatch task ~~~\u001b[0m\n",
      "[\u001b[36m2024-04-08 10:32:47,649\u001b[0m][\u001b[34maiflows.workers.dispatch_worker:161\u001b[0m][\u001b[32mINFO\u001b[0m] - flow_endpoint: reverse_number_atomic\u001b[0m\n",
      "[\u001b[36m2024-04-08 10:32:47,653\u001b[0m][\u001b[34maiflows.workers.dispatch_worker:162\u001b[0m][\u001b[32mINFO\u001b[0m] - flow_id: f711b422-7eb5-4c3e-9d3f-1c93a876efbf\u001b[0m\n",
      "[\u001b[36m2024-04-08 10:32:47,659\u001b[0m][\u001b[34maiflows.workers.dispatch_worker:163\u001b[0m][\u001b[32mINFO\u001b[0m] - owner_id: 03964cddf0fa1ba008d786fc7884c9d179c5a9d6118e4aede0c68539a33e031d6e\u001b[0m\n",
      "[\u001b[36m2024-04-08 10:32:47,662\u001b[0m][\u001b[34maiflows.workers.dispatch_worker:164\u001b[0m][\u001b[32mINFO\u001b[0m] - message_paths: ['push_tasks:ca8b888d-1efc-4dce-a56b-2469bd3be944:msg']\u001b[0m\n",
      "[\u001b[36m2024-04-08 10:32:47,663\u001b[0m][\u001b[34maiflows.workers.dispatch_worker:165\u001b[0m][\u001b[32mINFO\u001b[0m] - parallel_dispatch: False\n",
      "\u001b[0m\n",
      "[\u001b[36m2024-04-08 10:32:47,745\u001b[0m][\u001b[34maiflows.workers.dispatch_worker:188\u001b[0m][\u001b[32mINFO\u001b[0m] - Input message source: first_reverse_flow\u001b[0m\n",
      "[\u001b[36m2024-04-08 10:32:48,130\u001b[0m][\u001b[34maiflows.workers.dispatch_worker:119\u001b[0m][\u001b[32mINFO\u001b[0m] - \n",
      "~~~ Dispatch task ~~~\u001b[0m\n",
      "[\u001b[36m2024-04-08 10:32:48,140\u001b[0m][\u001b[34maiflows.workers.dispatch_worker:161\u001b[0m][\u001b[32mINFO\u001b[0m] - flow_endpoint: reverse_number_atomic\u001b[0m\n",
      "[\u001b[36m2024-04-08 10:32:48,143\u001b[0m][\u001b[34maiflows.workers.dispatch_worker:162\u001b[0m][\u001b[32mINFO\u001b[0m] - flow_id: f711b422-7eb5-4c3e-9d3f-1c93a876efbf\u001b[0m\n",
      "[\u001b[36m2024-04-08 10:32:48,145\u001b[0m][\u001b[34maiflows.workers.dispatch_worker:163\u001b[0m][\u001b[32mINFO\u001b[0m] - owner_id: 03964cddf0fa1ba008d786fc7884c9d179c5a9d6118e4aede0c68539a33e031d6e\u001b[0m\n",
      "[\u001b[36m2024-04-08 10:32:48,148\u001b[0m][\u001b[34maiflows.workers.dispatch_worker:164\u001b[0m][\u001b[32mINFO\u001b[0m] - message_paths: ['push_tasks:8636a307-dab7-48a9-955f-1915327afeb0:msg']\u001b[0m\n",
      "[\u001b[36m2024-04-08 10:32:48,150\u001b[0m][\u001b[34maiflows.workers.dispatch_worker:165\u001b[0m][\u001b[32mINFO\u001b[0m] - parallel_dispatch: False\n",
      "\u001b[0m\n",
      "[\u001b[36m2024-04-08 10:32:48,198\u001b[0m][\u001b[34maiflows.workers.dispatch_worker:188\u001b[0m][\u001b[32mINFO\u001b[0m] - Input message source: second_reverse_flow\u001b[0m\n",
      "[\u001b[36m2024-04-08 10:32:51,238\u001b[0m][\u001b[34maiflows.workers.get_instance_worker:112\u001b[0m][\u001b[32mINFO\u001b[0m] - \n",
      "~~~ serving get_instances request ~~~\u001b[0m\n",
      "[\u001b[36m2024-04-08 10:32:51,242\u001b[0m][\u001b[34maiflows.workers.get_instance_worker:113\u001b[0m][\u001b[32mINFO\u001b[0m] - task_id = 311c01ba-cf8e-4c02-ab16-3c42abe210f9\u001b[0m\n",
      "[\u001b[36m2024-04-08 10:32:51,323\u001b[0m][\u001b[34maiflows.workers.get_instance_worker:117\u001b[0m][\u001b[32mINFO\u001b[0m] - get_instance_calls: [['my_flow', 'reverse_number_atomic', {}]]\u001b[0m\n",
      "[\u001b[36m2024-04-08 10:32:51,342\u001b[0m][\u001b[34maiflows.utils.serving:543\u001b[0m][\u001b[32mINFO\u001b[0m] - Fetched singleton f711b422-7eb5-4c3e-9d3f-1c93a876efbf\u001b[0m\n",
      "[\u001b[36m2024-04-08 10:32:52,546\u001b[0m][\u001b[34maiflows.workers.dispatch_worker:119\u001b[0m][\u001b[32mINFO\u001b[0m] - \n",
      "~~~ Dispatch task ~~~\u001b[0m\n",
      "[\u001b[36m2024-04-08 10:32:52,599\u001b[0m][\u001b[34maiflows.workers.dispatch_worker:161\u001b[0m][\u001b[32mINFO\u001b[0m] - flow_endpoint: reverse_number_atomic\u001b[0m\n",
      "[\u001b[36m2024-04-08 10:32:52,606\u001b[0m][\u001b[34maiflows.workers.dispatch_worker:162\u001b[0m][\u001b[32mINFO\u001b[0m] - flow_id: f711b422-7eb5-4c3e-9d3f-1c93a876efbf\u001b[0m\n",
      "[\u001b[36m2024-04-08 10:32:52,607\u001b[0m][\u001b[34maiflows.workers.dispatch_worker:163\u001b[0m][\u001b[32mINFO\u001b[0m] - owner_id: 03964cddf0fa1ba008d786fc7884c9d179c5a9d6118e4aede0c68539a33e031d6e\u001b[0m\n",
      "[\u001b[36m2024-04-08 10:32:52,609\u001b[0m][\u001b[34maiflows.workers.dispatch_worker:164\u001b[0m][\u001b[32mINFO\u001b[0m] - message_paths: ['push_tasks:faf51544-399c-44b3-9f0f-1b4c7d7abe33:msg']\u001b[0m\n",
      "[\u001b[36m2024-04-08 10:32:52,611\u001b[0m][\u001b[34maiflows.workers.dispatch_worker:165\u001b[0m][\u001b[32mINFO\u001b[0m] - parallel_dispatch: False\n",
      "\u001b[0m\n",
      "[\u001b[36m2024-04-08 10:32:52,674\u001b[0m][\u001b[34maiflows.workers.dispatch_worker:188\u001b[0m][\u001b[32mINFO\u001b[0m] - Input message source: Proxy_reverse_number_atomic\u001b[0m\n"
     ]
    },
    {
     "name": "stdout",
     "output_type": "stream",
     "text": [
      "[\u001b[36m2024-04-08 10:32:41,653\u001b[0m][\u001b[34maiflows.workers.get_instance_worker:68\u001b[0m][\u001b[32mINFO\u001b[0m] - \n",
      "~~~ get_instances initiator ~~~\u001b[0m\n",
      "[\u001b[36m2024-04-08 10:32:41,657\u001b[0m][\u001b[34maiflows.workers.get_instance_worker:69\u001b[0m][\u001b[32mINFO\u001b[0m] - task_id = ad9f9067-c9f5-433e-851d-20de125e1cac\u001b[0m\n",
      "[\u001b[36m2024-04-08 10:32:44,394\u001b[0m][\u001b[34maiflows.workers.get_instance_worker:93\u001b[0m][\u001b[32mINFO\u001b[0m] - Received subflow instances: {\n",
      "    \"first_reverse_flow\": {\n",
      "        \"flow_id\": \"f711b422-7eb5-4c3e-9d3f-1c93a876efbf\",\n",
      "        \"successful\": true,\n",
      "        \"message\": \"Fetched local flow instance.\"\n",
      "    },\n",
      "    \"second_reverse_flow\": {\n",
      "        \"flow_id\": \"f711b422-7eb5-4c3e-9d3f-1c93a876efbf\",\n",
      "        \"successful\": true,\n",
      "        \"message\": \"Fetched local flow instance.\"\n",
      "    }\n",
      "}\u001b[0m\n",
      "[\u001b[36m2024-04-08 10:32:47,405\u001b[0m][\u001b[34maiflows.workers.dispatch_worker:119\u001b[0m][\u001b[32mINFO\u001b[0m] - \n",
      "~~~ Dispatch task ~~~\u001b[0m\n",
      "[\u001b[36m2024-04-08 10:32:47,434\u001b[0m][\u001b[34maiflows.workers.dispatch_worker:161\u001b[0m][\u001b[32mINFO\u001b[0m] - flow_endpoint: reverse_number_sequential\u001b[0m\n",
      "[\u001b[36m2024-04-08 10:32:47,434\u001b[0m][\u001b[34maiflows.workers.dispatch_worker:162\u001b[0m][\u001b[32mINFO\u001b[0m] - flow_id: 25886058-80c2-49ba-8b06-c9102d312667\u001b[0m\n",
      "[\u001b[36m2024-04-08 10:32:47,435\u001b[0m][\u001b[34maiflows.workers.dispatch_worker:163\u001b[0m][\u001b[32mINFO\u001b[0m] - owner_id: local\u001b[0m\n",
      "[\u001b[36m2024-04-08 10:32:47,436\u001b[0m][\u001b[34maiflows.workers.dispatch_worker:164\u001b[0m][\u001b[32mINFO\u001b[0m] - message_paths: ['push_tasks:18df9eef-1772-4338-91f8-67eadedd22b1:msg']\u001b[0m\n",
      "[\u001b[36m2024-04-08 10:32:47,437\u001b[0m][\u001b[34maiflows.workers.dispatch_worker:165\u001b[0m][\u001b[32mINFO\u001b[0m] - parallel_dispatch: False\n",
      "\u001b[0m\n",
      "[\u001b[36m2024-04-08 10:32:47,500\u001b[0m][\u001b[34maiflows.workers.dispatch_worker:188\u001b[0m][\u001b[32mINFO\u001b[0m] - Input message source: Proxy_reverse_number_sequential\u001b[0m\n",
      "Called ReverseNumberSequential \n",
      " state {'current_call': 'first_reverse_flow'}\n",
      "[\u001b[36m2024-04-08 10:32:47,859\u001b[0m][\u001b[34maiflows.workers.dispatch_worker:119\u001b[0m][\u001b[32mINFO\u001b[0m] - \n",
      "~~~ Dispatch task ~~~\u001b[0m\n",
      "[\u001b[36m2024-04-08 10:32:47,872\u001b[0m][\u001b[34maiflows.workers.dispatch_worker:161\u001b[0m][\u001b[32mINFO\u001b[0m] - flow_endpoint: reverse_number_sequential\u001b[0m\n",
      "[\u001b[36m2024-04-08 10:32:47,873\u001b[0m][\u001b[34maiflows.workers.dispatch_worker:162\u001b[0m][\u001b[32mINFO\u001b[0m] - flow_id: 25886058-80c2-49ba-8b06-c9102d312667\u001b[0m\n",
      "[\u001b[36m2024-04-08 10:32:47,874\u001b[0m][\u001b[34maiflows.workers.dispatch_worker:163\u001b[0m][\u001b[32mINFO\u001b[0m] - owner_id: local\u001b[0m\n",
      "[\u001b[36m2024-04-08 10:32:47,876\u001b[0m][\u001b[34maiflows.workers.dispatch_worker:164\u001b[0m][\u001b[32mINFO\u001b[0m] - message_paths: ['push_tasks:accd394a-2965-4b2c-b2d3-2d81703abea5:msg']\u001b[0m\n",
      "[\u001b[36m2024-04-08 10:32:47,878\u001b[0m][\u001b[34maiflows.workers.dispatch_worker:165\u001b[0m][\u001b[32mINFO\u001b[0m] - parallel_dispatch: False\n",
      "\u001b[0m\n",
      "[\u001b[36m2024-04-08 10:32:47,956\u001b[0m][\u001b[34maiflows.workers.dispatch_worker:188\u001b[0m][\u001b[32mINFO\u001b[0m] - Input message source: ReverseNumberFirst\u001b[0m\n",
      "Called ReverseNumberSequential \n",
      " state {'current_call': 'second_reverse_flow', 'initial_message': FlowMessage(message_id='203bcc39-e7c7-487b-b730-22eaeeb16580', created_at='2024-04-08 08:32:47.374198000', created_by='Proxy_reverse_number_sequential', message_type='FlowMessage', data={'id': 0, 'number': 1234}, private_keys=[])}\n",
      "[\u001b[36m2024-04-08 10:32:48,298\u001b[0m][\u001b[34maiflows.workers.dispatch_worker:119\u001b[0m][\u001b[32mINFO\u001b[0m] - \n",
      "~~~ Dispatch task ~~~\u001b[0m\n",
      "[\u001b[36m2024-04-08 10:32:48,440\u001b[0m][\u001b[34maiflows.workers.dispatch_worker:161\u001b[0m][\u001b[32mINFO\u001b[0m] - flow_endpoint: reverse_number_sequential\u001b[0m\n",
      "[\u001b[36m2024-04-08 10:32:48,447\u001b[0m][\u001b[34maiflows.workers.dispatch_worker:162\u001b[0m][\u001b[32mINFO\u001b[0m] - flow_id: 25886058-80c2-49ba-8b06-c9102d312667\u001b[0m\n",
      "[\u001b[36m2024-04-08 10:32:48,450\u001b[0m][\u001b[34maiflows.workers.dispatch_worker:163\u001b[0m][\u001b[32mINFO\u001b[0m] - owner_id: local\u001b[0m\n",
      "[\u001b[36m2024-04-08 10:32:48,452\u001b[0m][\u001b[34maiflows.workers.dispatch_worker:164\u001b[0m][\u001b[32mINFO\u001b[0m] - message_paths: ['push_tasks:79e2ec9c-dbdd-445a-9334-c193d41ba2f6:msg']\u001b[0m\n",
      "[\u001b[36m2024-04-08 10:32:48,455\u001b[0m][\u001b[34maiflows.workers.dispatch_worker:165\u001b[0m][\u001b[32mINFO\u001b[0m] - parallel_dispatch: False\n",
      "\u001b[0m\n",
      "[\u001b[36m2024-04-08 10:32:48,612\u001b[0m][\u001b[34maiflows.workers.dispatch_worker:188\u001b[0m][\u001b[32mINFO\u001b[0m] - Input message source: ReverseNumberFirst\u001b[0m\n",
      "Called ReverseNumberSequential \n",
      " state {'current_call': 'reply_to_message', 'initial_message': FlowMessage(message_id='203bcc39-e7c7-487b-b730-22eaeeb16580', created_at='2024-04-08 08:32:47.374198000', created_by='Proxy_reverse_number_sequential', message_type='FlowMessage', data={'id': 0, 'number': 1234}, private_keys=[])}\n",
      "[\u001b[36m2024-04-08 10:32:51,242\u001b[0m][\u001b[34maiflows.workers.get_instance_worker:68\u001b[0m][\u001b[32mINFO\u001b[0m] - \n",
      "~~~ get_instances initiator ~~~\u001b[0m\n",
      "[\u001b[36m2024-04-08 10:32:51,247\u001b[0m][\u001b[34maiflows.workers.get_instance_worker:69\u001b[0m][\u001b[32mINFO\u001b[0m] - task_id = 311c01ba-cf8e-4c02-ab16-3c42abe210f9\u001b[0m\n",
      "[\u001b[36m2024-04-08 10:32:51,371\u001b[0m][\u001b[34maiflows.workers.get_instance_worker:93\u001b[0m][\u001b[32mINFO\u001b[0m] - Received subflow instances: {\n",
      "    \"my_flow\": {\n",
      "        \"flow_id\": \"f711b422-7eb5-4c3e-9d3f-1c93a876efbf\",\n",
      "        \"successful\": true,\n",
      "        \"message\": \"Fetched local flow instance.\"\n",
      "    }\n",
      "}\u001b[0m\n"
     ]
    },
    {
     "name": "stdout",
     "output_type": "stream",
     "text": [
      "[\u001b[36m2024-04-08 10:32:44,464\u001b[0m][\u001b[34maiflows.utils.serving:336\u001b[0m][\u001b[32mINFO\u001b[0m] - Mounted 25886058-80c2-49ba-8b06-c9102d312667 at flows:reverse_number_sequential:mounts:local:25886058-80c2-49ba-8b06-c9102d312667\u001b[0m\n"
     ]
    }
   ],
   "source": [
    "# since we are creating new dummy users on every run, we inject user_id into config manually\n",
    "# typically this would be hardcoded in yaml config\n",
    "cfg_overrides = {\n",
    "    \"subflows_config\": {\n",
    "        \"first_reverse_flow\": {\n",
    "            \"user_id\": cls[0].get_user_id()\n",
    "        },\n",
    "        \"second_reverse_flow\": {\n",
    "            \"user_id\": cls[0].get_user_id()\n",
    "        }\n",
    "    }\n",
    "}\n",
    "\n",
    "flow = serving.get_flow_instance(\n",
    "    cl=cls[1],\n",
    "    flow_endpoint=\"reverse_number_sequential\",\n",
    "    user_id=\"local\",\n",
    "    config_overrides = cfg_overrides,\n",
    ")"
   ]
  },
  {
   "cell_type": "code",
   "execution_count": 8,
   "id": "527e26fe-5210-4218-99e1-b4a15486f7a7",
   "metadata": {},
   "outputs": [
    {
     "name": "stdout",
     "output_type": "stream",
     "text": [
      "Data sent:\n",
      " {'id': 0, 'number': 1234} \n",
      "\n",
      "REPLY:\n",
      " {'output_number': 1234} \n",
      "\n"
     ]
    }
   ],
   "source": [
    "input_data = {\"id\": 0, \"number\": 1234}\n",
    "    \n",
    "input_message = flow.package_input_message(input_data)\n",
    "future = flow.get_reply_future(input_message)\n",
    "reply_data = future.get_data()\n",
    "\n",
    "print(\"Data sent:\\n\",  input_data, \"\\n\")\n",
    "print(\"REPLY:\\n\", reply_data, \"\\n\")"
   ]
  },
  {
   "cell_type": "markdown",
   "id": "fe9725c7-992c-4bc1-a97f-bfed67883a54",
   "metadata": {},
   "source": [
    "#### Directly fetching remote Flows\n",
    "\n",
    "User 1 can also directly call get_instance on the Flows served by User 0."
   ]
  },
  {
   "cell_type": "code",
   "execution_count": 9,
   "id": "702c5108-7feb-4208-8b69-d5df29a8b2e2",
   "metadata": {},
   "outputs": [],
   "source": [
    "remote_flow = serving.get_flow_instance(\n",
    "    cl=cls[1],\n",
    "    flow_endpoint=\"reverse_number_atomic\",\n",
    "    user_id=cls[0].get_user_id(),\n",
    ") # fetches the singleton served by User 0"
   ]
  },
  {
   "cell_type": "code",
   "execution_count": 10,
   "id": "e11880e8-fcae-4c74-bf42-15572ae0f9ee",
   "metadata": {},
   "outputs": [
    {
     "data": {
      "text/plain": [
       "{'output_number': 4321}"
      ]
     },
     "execution_count": 10,
     "metadata": {},
     "output_type": "execute_result"
    }
   ],
   "source": [
    "input_data = {\"id\": 0, \"number\": 1234}\n",
    "input_message = remote_flow.package_input_message(input_data)\n",
    "remote_flow.get_reply_future(input_message).get_data()"
   ]
  },
  {
   "cell_type": "markdown",
   "id": "42c7528a-45f6-4fb1-a419-17bed435b894",
   "metadata": {},
   "source": [
    "# Observe storage of both users\n",
    "\n",
    "User 0 has a serve endpoint for ReverseNumberAtomic flow and a singleton instance of that flow.\n",
    "User 1 has a serve endpoint for ReverseNumberSequential flow and an instance of that flow whose subflows are remote instances of the ReverseNumberAtomic at user 0 (since ReverseNumberAtomic flow is a singleton, both subflows are the same flow instance)."
   ]
  },
  {
   "cell_type": "code",
   "execution_count": 11,
   "id": "95ea81a8-d9cc-40cc-ad5a-ffa8008abf11",
   "metadata": {},
   "outputs": [],
   "source": [
    "def status(cl):\n",
    "    colink_utils.print_served_flows(cl, print_values=False)\n",
    "    print(\"\\nAll flow instances:\")\n",
    "    colink_utils.print_flow_instances(cl)"
   ]
  },
  {
   "cell_type": "code",
   "execution_count": 12,
   "id": "1e9c01a3-dd14-4907-8450-73724fd20aac",
   "metadata": {},
   "outputs": [
    {
     "name": "stdout",
     "output_type": "stream",
     "text": [
      " reverse_number_atomic/\n",
      "   parallel_dispatch\n",
      "   default_dispatch_point\n",
      "   flow_class_name\n"
     ]
    },
    {
     "name": "stdout",
     "output_type": "stream",
     "text": [
      "   singleton\n",
      "   mounts/\n",
      "     03964cddf0fa1ba008d786fc7884c9d179c5a9d6118e4aede0c68539a33e031d6e/\n",
      "       f711b422-7eb5-4c3e-9d3f-1c93a876efbf/\n",
      "         init\n",
      "         config_overrides\n",
      "         state\n",
      "   init\n",
      "\n",
      "All flow instances:\n",
      " f711b422-7eb5-4c3e-9d3f-1c93a876efbf\n"
     ]
    }
   ],
   "source": [
    "status(cls[0])"
   ]
  },
  {
   "cell_type": "code",
   "execution_count": 13,
   "id": "712b2f13-3144-4d1c-ab1b-93f7293deff6",
   "metadata": {},
   "outputs": [
    {
     "name": "stdout",
     "output_type": "stream",
     "text": [
      " reverse_number_sequential/\n",
      "   init\n",
      "   flow_class_name\n",
      "   singleton\n",
      "   default_dispatch_point\n",
      "   mounts/\n",
      "     local/\n",
      "       25886058-80c2-49ba-8b06-c9102d312667/\n",
      "         init\n",
      "         config_overrides\n",
      "         state\n",
      "   parallel_dispatch\n",
      "\n",
      "All flow instances:\n"
     ]
    },
    {
     "name": "stdout",
     "output_type": "stream",
     "text": [
      " 25886058-80c2-49ba-8b06-c9102d312667\n"
     ]
    }
   ],
   "source": [
    "status(cls[1])"
   ]
  },
  {
   "cell_type": "code",
   "execution_count": null,
   "id": "c69e9317",
   "metadata": {},
   "outputs": [],
   "source": []
  }
 ],
 "metadata": {
  "kernelspec": {
   "display_name": "Python 3 (ipykernel)",
   "language": "python",
   "name": "python3"
  },
  "language_info": {
   "codemirror_mode": {
    "name": "ipython",
    "version": 3
   },
   "file_extension": ".py",
   "mimetype": "text/x-python",
   "name": "python",
   "nbconvert_exporter": "python",
   "pygments_lexer": "ipython3",
   "version": "3.11.8"
  }
 },
 "nbformat": 4,
 "nbformat_minor": 5
}
