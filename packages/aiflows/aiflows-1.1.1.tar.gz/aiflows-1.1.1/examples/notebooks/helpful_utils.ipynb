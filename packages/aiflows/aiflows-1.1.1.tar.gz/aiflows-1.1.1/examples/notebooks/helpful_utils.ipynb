{
 "cells": [
  {
   "cell_type": "markdown",
   "id": "ddc94b50-4951-4e15-8b52-68360ae6f865",
   "metadata": {},
   "source": [
    "# Helpful utility functions\n",
    "\n",
    "This notebook demonstrates how to use various utility functions related to interacting with CoLink storage. \n",
    "\n",
    "Every served flow has associated entries in CoLink storage. The base path to these entries corresponds to the flow_endpoint argument passed when serving the flow. The typical structure includes:\n",
    "```\n",
    "endpoint/\n",
    "    init = 0/1\n",
    "    singleton = 0/1\n",
    "    parallel_dispatch = 0/1\n",
    "    flow_class_name = ...\n",
    "    default_dispatch_point = ...\n",
    "    mounts/\n",
    "       id_of_user_who_mounted_the_flow/\n",
    "           flow_instance_id/\n",
    "               init = 0/1\n",
    "               config_overrides = ...\n",
    "```\n",
    "\n",
    "Calling serve_flow will create the initial entries under an endpoint and calling get_flow_instance will create an entry under the mounts/ path. If a Flow was served as a singleton, there will only be at most one entry under the mounts/ path.\n",
    "\n",
    "You can see the file structure visually by connecting [this frontend](https://colink.run/) to your CoLink server.\n",
    "\n",
    "Util functions include:\n",
    "- serving.is_flow_served\n",
    "- serving.unserve_flow\n",
    "- serving.delete_flow_instance\n",
    "- serving.delete_flow_endpoint\n",
    "- serving.delete_all_flow_endpoints\n",
    "- colink_utils.print_flow_instances\n",
    "- colink_utils.print_served_flows\n",
    "- serving._get_local_flow_instance_metadata"
   ]
  },
  {
   "cell_type": "code",
   "execution_count": 1,
   "id": "4dac9d36-2cf7-4821-96b5-f3e56f4184e4",
   "metadata": {},
   "outputs": [
    {
     "name": "stderr",
     "output_type": "stream",
     "text": [
      "/Users/nicolasbaldwin/opt/miniconda3/envs/mockenv/lib/python3.11/site-packages/tqdm/auto.py:21: TqdmWarning: IProgress not found. Please update jupyter and ipywidgets. See https://ipywidgets.readthedocs.io/en/stable/user_install.html\n",
      "  from .autonotebook import tqdm as notebook_tqdm\n"
     ]
    }
   ],
   "source": [
    "%load_ext autoreload\n",
    "%autoreload 2\n",
    "import os, json\n",
    "from colink import CoLink\n",
    "from aiflows.utils import serving\n",
    "from aiflows.utils.general_helpers import read_yaml_file\n",
    "from aiflows.messages import FlowMessage\n",
    "from aiflows.utils import coflows_utils, colink_utils\n",
    "from aiflows.workers import run_dispatch_worker_thread"
   ]
  },
  {
   "cell_type": "code",
   "execution_count": 2,
   "id": "5571acf7-68e5-495f-9441-bc8f479db8b7",
   "metadata": {},
   "outputs": [],
   "source": [
    "cl = colink_utils.start_colink_server()"
   ]
  },
  {
   "cell_type": "code",
   "execution_count": 3,
   "id": "245c2df8-73a7-4dab-8abe-8ea63b6fcc60",
   "metadata": {},
   "outputs": [
    {
     "name": "stdout",
     "output_type": "stream",
     "text": [
      "[\u001b[36m2024-04-08 10:31:22,664\u001b[0m][\u001b[34maiflows.workers.dispatch_worker:236\u001b[0m][\u001b[32mINFO\u001b[0m] - Dispatch worker started in attached thread.\u001b[0m\n",
      "[\u001b[36m2024-04-08 10:31:22,667\u001b[0m][\u001b[34maiflows.workers.dispatch_worker:237\u001b[0m][\u001b[32mINFO\u001b[0m] - dispatch_point: coflows_dispatch\u001b[0m\n",
      "[\u001b[36m2024-04-08 10:31:22,677\u001b[0m][\u001b[34maiflows.workers.dispatch_worker:236\u001b[0m][\u001b[32mINFO\u001b[0m] - Dispatch worker started in attached thread.\u001b[0m\n",
      "[\u001b[36m2024-04-08 10:31:22,679\u001b[0m][\u001b[34maiflows.workers.dispatch_worker:237\u001b[0m][\u001b[32mINFO\u001b[0m] - dispatch_point: coflows_dispatch\u001b[0m\n"
     ]
    }
   ],
   "source": [
    "run_dispatch_worker_thread(cl)\n",
    "run_dispatch_worker_thread(cl)"
   ]
  },
  {
   "cell_type": "code",
   "execution_count": 4,
   "id": "ae6e5364-7d10-4a65-b3ac-cc69310543a4",
   "metadata": {
    "scrolled": true
   },
   "outputs": [
    {
     "name": "stdout",
     "output_type": "stream",
     "text": [
      "[\u001b[36m2024-04-08 10:31:24,370\u001b[0m][\u001b[34maiflows.utils.serving:116\u001b[0m][\u001b[32mINFO\u001b[0m] - Started serving ReverseNumberFlowModule.ReverseNumberAtomicFlow at flows:reverse_number_atomic.\u001b[0m\n",
      "[\u001b[36m2024-04-08 10:31:24,373\u001b[0m][\u001b[34maiflows.utils.serving:117\u001b[0m][\u001b[32mINFO\u001b[0m] - dispatch_point: coflows_dispatch\u001b[0m\n",
      "[\u001b[36m2024-04-08 10:31:24,435\u001b[0m][\u001b[34maiflows.utils.serving:118\u001b[0m][\u001b[32mINFO\u001b[0m] - parallel_dispatch: False\u001b[0m\n",
      "[\u001b[36m2024-04-08 10:31:24,436\u001b[0m][\u001b[34maiflows.utils.serving:119\u001b[0m][\u001b[32mINFO\u001b[0m] - singleton: False\n",
      "\u001b[0m\n",
      "[\u001b[36m2024-04-08 10:31:24,497\u001b[0m][\u001b[34maiflows.utils.serving:116\u001b[0m][\u001b[32mINFO\u001b[0m] - Started serving ReverseNumberFlowModule.ReverseNumberSequentialFlow at flows:reverse_number_sequential.\u001b[0m\n",
      "[\u001b[36m2024-04-08 10:31:24,499\u001b[0m][\u001b[34maiflows.utils.serving:117\u001b[0m][\u001b[32mINFO\u001b[0m] - dispatch_point: coflows_dispatch\u001b[0m\n",
      "[\u001b[36m2024-04-08 10:31:24,500\u001b[0m][\u001b[34maiflows.utils.serving:118\u001b[0m][\u001b[32mINFO\u001b[0m] - parallel_dispatch: False\u001b[0m\n",
      "[\u001b[36m2024-04-08 10:31:24,503\u001b[0m][\u001b[34maiflows.utils.serving:119\u001b[0m][\u001b[32mINFO\u001b[0m] - singleton: False\n",
      "\u001b[0m\n"
     ]
    },
    {
     "data": {
      "text/plain": [
       "True"
      ]
     },
     "execution_count": 4,
     "metadata": {},
     "output_type": "execute_result"
    }
   ],
   "source": [
    "serving.serve_flow(\n",
    "    cl=cl,\n",
    "    flow_class_name=\"ReverseNumberFlowModule.ReverseNumberAtomicFlow\",\n",
    "    flow_endpoint=\"reverse_number_atomic\"\n",
    ")\n",
    "serving.serve_flow(\n",
    "    cl=cl,\n",
    "    flow_class_name=\"ReverseNumberFlowModule.ReverseNumberSequentialFlow\",\n",
    "    flow_endpoint=\"reverse_number_sequential\"\n",
    ")"
   ]
  },
  {
   "cell_type": "code",
   "execution_count": 5,
   "id": "0ab31de4-bc26-4eb0-8ab2-d82706cb6bab",
   "metadata": {},
   "outputs": [
    {
     "name": "stdout",
     "output_type": "stream",
     "text": [
      " reverse_number_atomic/\n",
      "   init: 1\n",
      "   flow_class_name: ReverseNumberFlowModule.ReverseNumberAtomicFlow\n",
      "   singleton: False\n",
      "   default_dispatch_point: b'coflows_dispatch'\n"
     ]
    },
    {
     "name": "stdout",
     "output_type": "stream",
     "text": [
      "   parallel_dispatch: b'\\x00\\x00\\x00\\x00\\x00\\x00\\x00\\x00\\x00\\x00\\x00\\x00\\x00\\x00\\x00\\x00\\x00\\x00\\x00\\x00\\x00\\x00\\x00\\x00\\x00\\x00\\x00\\x00\\x00\\x00\\x00\\x00'\n",
      " reverse_number_sequential/\n",
      "   singleton: False\n",
      "   init: 1\n",
      "   parallel_dispatch: b'\\x00\\x00\\x00\\x00\\x00\\x00\\x00\\x00\\x00\\x00\\x00\\x00\\x00\\x00\\x00\\x00\\x00\\x00\\x00\\x00\\x00\\x00\\x00\\x00\\x00\\x00\\x00\\x00\\x00\\x00\\x00\\x00'\n",
      "   default_dispatch_point: b'coflows_dispatch'\n",
      "   flow_class_name: ReverseNumberFlowModule.ReverseNumberSequentialFlow\n"
     ]
    }
   ],
   "source": [
    "colink_utils.print_served_flows(cl, print_values = True)"
   ]
  },
  {
   "cell_type": "code",
   "execution_count": 6,
   "id": "e55cebd4-fc1a-44c4-85d8-7846a7f6bbb8",
   "metadata": {},
   "outputs": [
    {
     "name": "stdout",
     "output_type": "stream",
     "text": [
      "[\u001b[36m2024-04-08 10:31:31,519\u001b[0m][\u001b[34maiflows.utils.serving:336\u001b[0m][\u001b[32mINFO\u001b[0m] - Mounted be54606d-5bb6-4885-aa5d-2fa8ac813186 at flows:reverse_number_atomic:mounts:local:be54606d-5bb6-4885-aa5d-2fa8ac813186\u001b[0m\n",
      "[\u001b[36m2024-04-08 10:31:31,585\u001b[0m][\u001b[34maiflows.utils.serving:336\u001b[0m][\u001b[32mINFO\u001b[0m] - Mounted a3385620-a4f3-4cee-9492-ec83e4969cec at flows:reverse_number_atomic:mounts:local:a3385620-a4f3-4cee-9492-ec83e4969cec\u001b[0m\n",
      "[\u001b[36m2024-04-08 10:31:31,634\u001b[0m][\u001b[34maiflows.utils.serving:336\u001b[0m][\u001b[32mINFO\u001b[0m] - Mounted b9b131ea-a5d9-46e6-b1af-4e1b2f30fee5 at flows:reverse_number_sequential:mounts:local:b9b131ea-a5d9-46e6-b1af-4e1b2f30fee5\u001b[0m\n"
     ]
    }
   ],
   "source": [
    "flow = serving.get_flow_instance(\n",
    "    cl=cl,\n",
    "    flow_endpoint=\"reverse_number_sequential\",\n",
    ")\n",
    "# we mount 3 instances: one ReverseNumberSequentialFlow and two ReverseNumberAtomicFlow"
   ]
  },
  {
   "cell_type": "code",
   "execution_count": 7,
   "id": "cd9a9ca4-5735-4c3d-bd6e-460f6a45b893",
   "metadata": {},
   "outputs": [
    {
     "name": "stdout",
     "output_type": "stream",
     "text": [
      " reverse_number_atomic/\n",
      "   init\n",
      "   flow_class_name\n",
      "   singleton\n"
     ]
    },
    {
     "name": "stdout",
     "output_type": "stream",
     "text": [
      "   mounts/\n",
      "     local/\n",
      "       be54606d-5bb6-4885-aa5d-2fa8ac813186/\n",
      "         init\n",
      "         config_overrides\n",
      "       a3385620-a4f3-4cee-9492-ec83e4969cec/\n",
      "         config_overrides\n",
      "         init\n",
      "   default_dispatch_point\n",
      "   parallel_dispatch\n",
      " reverse_number_sequential/\n",
      "   singleton\n",
      "   mounts/\n",
      "     local/\n",
      "       b9b131ea-a5d9-46e6-b1af-4e1b2f30fee5/\n",
      "         config_overrides\n",
      "         init\n",
      "   init\n",
      "   parallel_dispatch\n",
      "   default_dispatch_point\n",
      "   flow_class_name\n",
      "\n",
      "Flow Instances:\n",
      " be54606d-5bb6-4885-aa5d-2fa8ac813186\n",
      " a3385620-a4f3-4cee-9492-ec83e4969cec\n",
      " b9b131ea-a5d9-46e6-b1af-4e1b2f30fee5\n"
     ]
    }
   ],
   "source": [
    "colink_utils.print_served_flows(cl)\n",
    "print(\"\\nFlow Instances:\")\n",
    "colink_utils.print_flow_instances(cl)"
   ]
  },
  {
   "cell_type": "code",
   "execution_count": 8,
   "id": "11319e33-0cb8-47b1-ba12-85b294a101a8",
   "metadata": {
    "scrolled": true
   },
   "outputs": [
    {
     "data": {
      "text/plain": [
       "{'flow_endpoint': 'reverse_number_sequential', 'user_id': 'local'}"
      ]
     },
     "execution_count": 8,
     "metadata": {},
     "output_type": "execute_result"
    }
   ],
   "source": [
    "serving._get_local_flow_instance_metadata(cl, flow_id=flow.get_instance_id())"
   ]
  },
  {
   "cell_type": "code",
   "execution_count": 9,
   "id": "a99f6773-457e-45e3-bcc2-f0190680d41b",
   "metadata": {},
   "outputs": [
    {
     "name": "stdout",
     "output_type": "stream",
     "text": [
      "[\u001b[36m2024-04-08 10:31:36,711\u001b[0m][\u001b[34maiflows.utils.serving:199\u001b[0m][\u001b[32mINFO\u001b[0m] - Stopped serving at flows:reverse_number_atomic\u001b[0m\n"
     ]
    }
   ],
   "source": [
    "serving.unserve_flow(cl, flow_endpoint=\"reverse_number_atomic\")\n",
    "# just sets init entry to 0, but all entries remain in storage\n",
    "# flow instances of unserved endpoint remain alive"
   ]
  },
  {
   "cell_type": "code",
   "execution_count": 10,
   "id": "e59c7f04-3a3d-4b0e-a882-732721059c5f",
   "metadata": {},
   "outputs": [
    {
     "name": "stdout",
     "output_type": "stream",
     "text": [
      " reverse_number_atomic/\n",
      "   flow_class_name\n",
      "   singleton\n",
      "  "
     ]
    },
    {
     "name": "stdout",
     "output_type": "stream",
     "text": [
      " mounts/\n",
      "     local/\n",
      "       be54606d-5bb6-4885-aa5d-2fa8ac813186/\n",
      "         init\n",
      "         config_overrides\n",
      "       a3385620-a4f3-4cee-9492-ec83e4969cec/\n",
      "         config_overrides\n",
      "         init\n",
      "   init\n",
      "   default_dispatch_point\n",
      "   parallel_dispatch\n",
      " reverse_number_sequential/\n",
      "   singleton\n",
      "   mounts/\n",
      "     local/\n",
      "       b9b131ea-a5d9-46e6-b1af-4e1b2f30fee5/\n",
      "         config_overrides\n",
      "         init\n",
      "   init\n",
      "   parallel_dispatch\n",
      "   default_dispatch_point\n",
      "   flow_class_name\n",
      "\n",
      "Flow Instances:\n",
      " be54606d-5bb6-4885-aa5d-2fa8ac813186\n",
      " a3385620-a4f3-4cee-9492-ec83e4969cec\n",
      " b9b131ea-a5d9-46e6-b1af-4e1b2f30fee5\n"
     ]
    }
   ],
   "source": [
    "colink_utils.print_served_flows(cl)\n",
    "print(\"\\nFlow Instances:\")\n",
    "colink_utils.print_flow_instances(cl)"
   ]
  },
  {
   "cell_type": "code",
   "execution_count": 11,
   "id": "8f505550-0a54-469b-8bc1-d0b79b86d29d",
   "metadata": {},
   "outputs": [
    {
     "data": {
      "text/plain": [
       "False"
      ]
     },
     "execution_count": 11,
     "metadata": {},
     "output_type": "execute_result"
    }
   ],
   "source": [
    "serving.is_flow_served(cl, flow_endpoint=\"reverse_number_atomic\")"
   ]
  },
  {
   "cell_type": "code",
   "execution_count": 12,
   "id": "0d3bca10-5b2f-43d9-995d-c194b8c9d41d",
   "metadata": {
    "scrolled": true
   },
   "outputs": [
    {
     "ename": "FlowInstanceException",
     "evalue": "Failed to get flow instance at reverse_number_sequential served by user 03145b2e07327412873e25165a8dec78f82f4a97a7cd70396d058052bf733fec00.\nMessage: Failed to get instance of subflow first_reverse_flow.\nFailed to get flow instance at reverse_number_atomic served by user 03145b2e07327412873e25165a8dec78f82f4a97a7cd70396d058052bf733fec00.\nMessage: Not serving at reverse_number_atomic.",
     "output_type": "error",
     "traceback": [
      "\u001b[0;31m---------------------------------------------------------------------------\u001b[0m",
      "\u001b[0;31mFlowInstanceException\u001b[0m                     Traceback (most recent call last)",
      "Cell \u001b[0;32mIn[12], line 1\u001b[0m\n\u001b[0;32m----> 1\u001b[0m flow \u001b[38;5;241m=\u001b[39m \u001b[43mserving\u001b[49m\u001b[38;5;241;43m.\u001b[39;49m\u001b[43mget_flow_instance\u001b[49m\u001b[43m(\u001b[49m\n\u001b[1;32m      2\u001b[0m \u001b[43m    \u001b[49m\u001b[43mcl\u001b[49m\u001b[38;5;241;43m=\u001b[39;49m\u001b[43mcl\u001b[49m\u001b[43m,\u001b[49m\n\u001b[1;32m      3\u001b[0m \u001b[43m    \u001b[49m\u001b[43mflow_endpoint\u001b[49m\u001b[38;5;241;43m=\u001b[39;49m\u001b[38;5;124;43m\"\u001b[39;49m\u001b[38;5;124;43mreverse_number_sequential\u001b[39;49m\u001b[38;5;124;43m\"\u001b[39;49m\u001b[43m,\u001b[49m\n\u001b[1;32m      4\u001b[0m \u001b[43m)\u001b[49m \u001b[38;5;66;03m# throws exception because a subflow is not served\u001b[39;00m\n",
      "File \u001b[0;32m~/Documents/OneDrive/EPFL/DLAB/aiflow-colink/aiflows/aiflows/utils/serving.py:627\u001b[0m, in \u001b[0;36mget_flow_instance\u001b[0;34m(cl, flow_endpoint, user_id, config_overrides, initial_state, dispatch_point_override)\u001b[0m\n\u001b[1;32m    625\u001b[0m \u001b[38;5;28;01mtry\u001b[39;00m:\n\u001b[1;32m    626\u001b[0m     \u001b[38;5;28;01mif\u001b[39;00m user_id \u001b[38;5;241m==\u001b[39m \u001b[38;5;124m\"\u001b[39m\u001b[38;5;124mlocal\u001b[39m\u001b[38;5;124m\"\u001b[39m:\n\u001b[0;32m--> 627\u001b[0m         flow_id \u001b[38;5;241m=\u001b[39m \u001b[43m_get_local_flow_instance\u001b[49m\u001b[43m(\u001b[49m\n\u001b[1;32m    628\u001b[0m \u001b[43m            \u001b[49m\u001b[43mcl\u001b[49m\u001b[38;5;241;43m=\u001b[39;49m\u001b[43mcl\u001b[49m\u001b[43m,\u001b[49m\n\u001b[1;32m    629\u001b[0m \u001b[43m            \u001b[49m\u001b[43mclient_id\u001b[49m\u001b[38;5;241;43m=\u001b[39;49m\u001b[38;5;124;43m\"\u001b[39;49m\u001b[38;5;124;43mlocal\u001b[39;49m\u001b[38;5;124;43m\"\u001b[39;49m\u001b[43m,\u001b[49m\n\u001b[1;32m    630\u001b[0m \u001b[43m            \u001b[49m\u001b[43mflow_endpoint\u001b[49m\u001b[38;5;241;43m=\u001b[39;49m\u001b[43mflow_endpoint\u001b[49m\u001b[43m,\u001b[49m\n\u001b[1;32m    631\u001b[0m \u001b[43m            \u001b[49m\u001b[43mconfig_overrides\u001b[49m\u001b[38;5;241;43m=\u001b[39;49m\u001b[43mconfig_overrides\u001b[49m\u001b[43m,\u001b[49m\n\u001b[1;32m    632\u001b[0m \u001b[43m            \u001b[49m\u001b[43minitial_state\u001b[49m\u001b[38;5;241;43m=\u001b[39;49m\u001b[43minitial_state\u001b[49m\u001b[43m,\u001b[49m\n\u001b[1;32m    633\u001b[0m \u001b[43m            \u001b[49m\u001b[43mdispatch_point_override\u001b[49m\u001b[38;5;241;43m=\u001b[39;49m\u001b[43mdispatch_point_override\u001b[49m\u001b[43m,\u001b[49m\n\u001b[1;32m    634\u001b[0m \u001b[43m        \u001b[49m\u001b[43m)\u001b[49m\n\u001b[1;32m    635\u001b[0m     \u001b[38;5;28;01melse\u001b[39;00m:\n\u001b[1;32m    636\u001b[0m         get_results \u001b[38;5;241m=\u001b[39m _get_remote_flow_instances(\n\u001b[1;32m    637\u001b[0m             cl\u001b[38;5;241m=\u001b[39mcl,\n\u001b[1;32m    638\u001b[0m             get_instance_calls\u001b[38;5;241m=\u001b[39m{\n\u001b[1;32m    639\u001b[0m                 user_id: [(\u001b[38;5;124m\"\u001b[39m\u001b[38;5;124mmy_flow\u001b[39m\u001b[38;5;124m\"\u001b[39m, flow_endpoint, config_overrides)]\n\u001b[1;32m    640\u001b[0m             },\n\u001b[1;32m    641\u001b[0m         )[\u001b[38;5;124m\"\u001b[39m\u001b[38;5;124mmy_flow\u001b[39m\u001b[38;5;124m\"\u001b[39m]\n",
      "File \u001b[0;32m~/Documents/OneDrive/EPFL/DLAB/aiflow-colink/aiflows/aiflows/utils/serving.py:575\u001b[0m, in \u001b[0;36m_get_local_flow_instance\u001b[0;34m(cl, client_id, flow_endpoint, config_overrides, initial_state, dispatch_point_override)\u001b[0m\n\u001b[1;32m    573\u001b[0m \u001b[38;5;28;01mif\u001b[39;00m get_instance_result[\u001b[38;5;124m\"\u001b[39m\u001b[38;5;124msuccessful\u001b[39m\u001b[38;5;124m\"\u001b[39m] \u001b[38;5;129;01mis\u001b[39;00m \u001b[38;5;28;01mFalse\u001b[39;00m:\n\u001b[1;32m    574\u001b[0m     message \u001b[38;5;241m=\u001b[39m get_instance_result[\u001b[38;5;124m\"\u001b[39m\u001b[38;5;124mmessage\u001b[39m\u001b[38;5;124m\"\u001b[39m]\n\u001b[0;32m--> 575\u001b[0m     \u001b[38;5;28;01mraise\u001b[39;00m FlowInstanceException(\n\u001b[1;32m    576\u001b[0m         flow_endpoint\u001b[38;5;241m=\u001b[39mflow_endpoint,\n\u001b[1;32m    577\u001b[0m         user_id\u001b[38;5;241m=\u001b[39mcl\u001b[38;5;241m.\u001b[39mget_user_id(),\n\u001b[1;32m    578\u001b[0m         message\u001b[38;5;241m=\u001b[39m\u001b[38;5;124mf\u001b[39m\u001b[38;5;124m\"\u001b[39m\u001b[38;5;124mFailed to get instance of subflow \u001b[39m\u001b[38;5;132;01m{\u001b[39;00msubflow_key\u001b[38;5;132;01m}\u001b[39;00m\u001b[38;5;124m.\u001b[39m\u001b[38;5;130;01m\\n\u001b[39;00m\u001b[38;5;132;01m{\u001b[39;00mmessage\u001b[38;5;132;01m}\u001b[39;00m\u001b[38;5;124m\"\u001b[39m,\n\u001b[1;32m    579\u001b[0m     )\n\u001b[1;32m    581\u001b[0m config[\u001b[38;5;124m\"\u001b[39m\u001b[38;5;124msubflows_config\u001b[39m\u001b[38;5;124m\"\u001b[39m][subflow_key][\n\u001b[1;32m    582\u001b[0m     \u001b[38;5;124m\"\u001b[39m\u001b[38;5;124m_target_\u001b[39m\u001b[38;5;124m\"\u001b[39m\n\u001b[1;32m    583\u001b[0m ] \u001b[38;5;241m=\u001b[39m \u001b[38;5;124m\"\u001b[39m\u001b[38;5;124maiflows.base_flows.AtomicFlow.instantiate_from_default_config\u001b[39m\u001b[38;5;124m\"\u001b[39m\n\u001b[1;32m    584\u001b[0m config[\u001b[38;5;124m\"\u001b[39m\u001b[38;5;124msubflows_config\u001b[39m\u001b[38;5;124m\"\u001b[39m][subflow_key][\u001b[38;5;124m\"\u001b[39m\u001b[38;5;124mflow_id\u001b[39m\u001b[38;5;124m\"\u001b[39m] \u001b[38;5;241m=\u001b[39m get_instance_result[\n\u001b[1;32m    585\u001b[0m     \u001b[38;5;124m\"\u001b[39m\u001b[38;5;124mflow_id\u001b[39m\u001b[38;5;124m\"\u001b[39m\n\u001b[1;32m    586\u001b[0m ]\n",
      "\u001b[0;31mFlowInstanceException\u001b[0m: Failed to get flow instance at reverse_number_sequential served by user 03145b2e07327412873e25165a8dec78f82f4a97a7cd70396d058052bf733fec00.\nMessage: Failed to get instance of subflow first_reverse_flow.\nFailed to get flow instance at reverse_number_atomic served by user 03145b2e07327412873e25165a8dec78f82f4a97a7cd70396d058052bf733fec00.\nMessage: Not serving at reverse_number_atomic."
     ]
    }
   ],
   "source": [
    "flow = serving.get_flow_instance(\n",
    "    cl=cl,\n",
    "    flow_endpoint=\"reverse_number_sequential\",\n",
    ") # throws exception because a subflow is not served"
   ]
  },
  {
   "cell_type": "code",
   "execution_count": 13,
   "id": "e03280e7-4a31-4f45-a1f7-17cbc4cae75e",
   "metadata": {},
   "outputs": [
    {
     "name": "stdout",
     "output_type": "stream",
     "text": [
      "[\u001b[36m2024-04-08 10:31:57,881\u001b[0m][\u001b[34maiflows.utils.serving:149\u001b[0m][\u001b[32mINFO\u001b[0m] - Deleted flow instance be54606d-5bb6-4885-aa5d-2fa8ac813186\u001b[0m\n",
      "[\u001b[36m2024-04-08 10:31:57,886\u001b[0m][\u001b[34maiflows.utils.serving:149\u001b[0m][\u001b[32mINFO\u001b[0m] - Deleted flow instance a3385620-a4f3-4cee-9492-ec83e4969cec\u001b[0m\n"
     ]
    },
    {
     "name": "stdout",
     "output_type": "stream",
     "text": [
      "[\u001b[36m2024-04-08 10:31:58,265\u001b[0m][\u001b[34maiflows.utils.serving:158\u001b[0m][\u001b[32mINFO\u001b[0m] - Stopped serving at flows:reverse_number_atomic\u001b[0m\n"
     ]
    }
   ],
   "source": [
    "serving.delete_flow_endpoint(cl, flow_endpoint=\"reverse_number_atomic\")\n",
    "# actually deletes entries at endpoint, including all flow instances mounted on the endpoint"
   ]
  },
  {
   "cell_type": "code",
   "execution_count": 14,
   "id": "271b1503-f17e-484e-981b-48926cba40cb",
   "metadata": {},
   "outputs": [
    {
     "name": "stdout",
     "output_type": "stream",
     "text": [
      " reverse_number_atomic/\n",
      "   mounts/\n",
      "     local/\n",
      "       be54606d-5bb6-4885-aa5d-2fa8ac813186/\n",
      "       a3385620-a4f3-4cee-9492-ec83e4969cec/\n",
      " reverse_number_sequential/\n",
      "   singleton\n",
      "   mounts/\n",
      "     local/\n",
      "       b9b131ea-a5d9-46e6-b1af-4e1b2f30fee5/\n",
      "         config_overrides\n",
      "         init\n",
      "   init\n",
      "   parallel_dispatch\n",
      "   default_dispatch_point\n",
      "   flow_class_name\n",
      "\n",
      "Flow Instances:\n",
      " b9b131ea-a5d9-46e6-b1af-4e1b2f30fee5\n"
     ]
    }
   ],
   "source": [
    "colink_utils.print_served_flows(cl)\n",
    "print(\"\\nFlow Instances:\")\n",
    "colink_utils.print_flow_instances(cl)\n",
    "# note that paths under reverse_number_atomic/ are empty (even though they get printed)"
   ]
  },
  {
   "cell_type": "code",
   "execution_count": 15,
   "id": "3246d5c2-87d1-4f68-b182-af428ace3338",
   "metadata": {},
   "outputs": [
    {
     "name": "stdout",
     "output_type": "stream",
     "text": [
      "[\u001b[36m2024-04-08 10:32:04,012\u001b[0m][\u001b[34maiflows.utils.serving:242\u001b[0m][\u001b[32mINFO\u001b[0m] - Deleted flow instance b9b131ea-a5d9-46e6-b1af-4e1b2f30fee5.\u001b[0m\n"
     ]
    }
   ],
   "source": [
    "serving.delete_flow_instance(cl, flow_id=flow.get_instance_id())\n",
    "# delets a single flow instance"
   ]
  },
  {
   "cell_type": "code",
   "execution_count": 16,
   "id": "223f3d29-0a13-4728-bf69-d416f5b8e938",
   "metadata": {},
   "outputs": [
    {
     "name": "stdout",
     "output_type": "stream",
     "text": [
      " reverse_number_atomic/\n",
      "   mounts/\n",
      "     local/\n",
      "       be54606d-5bb6-4885-aa5d-2fa8ac813186/\n",
      "       a3385620-a4f3-4cee-9492-ec83e4969cec/\n",
      " reverse_number_sequential/\n",
      "   singleton\n"
     ]
    },
    {
     "name": "stdout",
     "output_type": "stream",
     "text": [
      "   mounts/\n",
      "     local/\n",
      "       b9b131ea-a5d9-46e6-b1af-4e1b2f30fee5/\n",
      "   init\n",
      "   parallel_dispatch\n",
      "   default_dispatch_point\n",
      "   flow_class_name\n",
      "\n",
      "Flow Instances:\n"
     ]
    }
   ],
   "source": [
    "colink_utils.print_served_flows(cl)\n",
    "print(\"\\nFlow Instances:\")\n",
    "colink_utils.print_flow_instances(cl)"
   ]
  },
  {
   "cell_type": "code",
   "execution_count": 17,
   "id": "4bc6f455-f306-4573-8c52-ab4719ce3053",
   "metadata": {},
   "outputs": [
    {
     "name": "stderr",
     "output_type": "stream",
     "text": [
      "ERROR:root:DeleteEntry Received RPC exception: code=StatusCode.INTERNAL message=Key name not found: instance_metadata:be54606d-5bb6-4885-aa5d-2fa8ac813186\n"
     ]
    },
    {
     "name": "stdout",
     "output_type": "stream",
     "text": [
      "[\u001b[36m2024-04-08 10:32:06,996\u001b[0m][\u001b[34maiflows.utils.serving:152\u001b[0m][\u001b[32mINFO\u001b[0m] - WARNING: flow be54606d-5bb6-4885-aa5d-2fa8ac813186 is mounted but it's metadata doesn't exist.\u001b[0m\n"
     ]
    },
    {
     "name": "stderr",
     "output_type": "stream",
     "text": [
      "ERROR:root:DeleteEntry Received RPC exception: code=StatusCode.INTERNAL message=Key name not found: instance_metadata:a3385620-a4f3-4cee-9492-ec83e4969cec\n"
     ]
    },
    {
     "name": "stdout",
     "output_type": "stream",
     "text": [
      "[\u001b[36m2024-04-08 10:32:07,017\u001b[0m][\u001b[34maiflows.utils.serving:152\u001b[0m][\u001b[32mINFO\u001b[0m] - WARNING: flow a3385620-a4f3-4cee-9492-ec83e4969cec is mounted but it's metadata doesn't exist.\u001b[0m\n",
      "[\u001b[36m2024-04-08 10:32:07,063\u001b[0m][\u001b[34maiflows.utils.serving:158\u001b[0m][\u001b[32mINFO\u001b[0m] - Stopped serving at flows:reverse_number_atomic\u001b[0m\n"
     ]
    },
    {
     "name": "stderr",
     "output_type": "stream",
     "text": [
      "ERROR:root:DeleteEntry Received RPC exception: code=StatusCode.INTERNAL message=Key name not found: instance_metadata:b9b131ea-a5d9-46e6-b1af-4e1b2f30fee5\n"
     ]
    },
    {
     "name": "stdout",
     "output_type": "stream",
     "text": [
      "[\u001b[36m2024-04-08 10:32:07,084\u001b[0m][\u001b[34maiflows.utils.serving:152\u001b[0m][\u001b[32mINFO\u001b[0m] - WARNING: flow b9b131ea-a5d9-46e6-b1af-4e1b2f30fee5 is mounted but it's metadata doesn't exist.\u001b[0m\n",
      "[\u001b[36m2024-04-08 10:32:07,264\u001b[0m][\u001b[34maiflows.utils.serving:158\u001b[0m][\u001b[32mINFO\u001b[0m] - Stopped serving at flows:reverse_number_sequential\u001b[0m\n"
     ]
    }
   ],
   "source": [
    "serving.delete_all_flow_endpoints(cl)\n",
    "# deletes all CoLink entries associated with Flows"
   ]
  },
  {
   "cell_type": "code",
   "execution_count": 18,
   "id": "01a047de-89b5-42c7-abbd-6fbaf6b91efb",
   "metadata": {},
   "outputs": [
    {
     "name": "stdout",
     "output_type": "stream",
     "text": [
      " reverse_number_atomic/\n",
      "   mounts/\n",
      "     local/\n",
      "       be54606d-5bb6-4885-aa5d-2fa8ac813186/\n",
      "       a3385620-a4f3-4cee-9492-ec83e4969cec/\n",
      " reverse_number_sequential/\n",
      "   mounts/\n",
      "     local/\n",
      "       b9b131ea-a5d9-46e6-b1af-4e1b2f30fee5/\n",
      "\n",
      "Flow Instances:\n"
     ]
    }
   ],
   "source": [
    "colink_utils.print_served_flows(cl)\n",
    "print(\"\\nFlow Instances:\")\n",
    "colink_utils.print_flow_instances(cl)\n",
    "# note that paths are empty (even though they get printed)"
   ]
  },
  {
   "cell_type": "code",
   "execution_count": null,
   "id": "8783098b",
   "metadata": {},
   "outputs": [],
   "source": []
  }
 ],
 "metadata": {
  "kernelspec": {
   "display_name": "Python 3 (ipykernel)",
   "language": "python",
   "name": "python3"
  },
  "language_info": {
   "codemirror_mode": {
    "name": "ipython",
    "version": 3
   },
   "file_extension": ".py",
   "mimetype": "text/x-python",
   "name": "python",
   "nbconvert_exporter": "python",
   "pygments_lexer": "ipython3",
   "version": "3.11.8"
  }
 },
 "nbformat": 4,
 "nbformat_minor": 5
}
