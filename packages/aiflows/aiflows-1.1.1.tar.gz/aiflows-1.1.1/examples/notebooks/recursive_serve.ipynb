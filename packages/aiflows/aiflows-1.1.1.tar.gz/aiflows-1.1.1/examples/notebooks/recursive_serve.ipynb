{
 "cells": [
  {
   "cell_type": "markdown",
   "id": "f2c20c26-d49a-4286-8747-e95d06bf2375",
   "metadata": {},
   "source": [
    "# Recursive serving\n",
    "\n",
    "recursive_serve_flow is a util function that recursively serves all local subflows of the flow you intend to serve. This is helpful when working with deeply nested flows, as it means you don't have to manually serve individual subflows. recursive_serve_flow will fetch the default config of the flow you are trying to serve, iterate over its subflows and recursively call itself on each subflow that specifies a local `user_id` (or doesn't have user_id field). \n",
    "\n",
    "recursive_serve_flow expects that a subflow config will contain fields corresponding to arguments needed to call recursive_serve_flow on that subflow. This means that along with the standard `user_id` and `flow_endpoint` fields, the subflow configs should contain the `flow_class_name` field so that recursive_serve knows what to serve at that endpoint. Recursive serve will also pick up additional serve arguments from the subflow configs (`singleton`, `dispatch_point`, `parallel_dispatch`), or give them default values if missing."
   ]
  },
  {
   "cell_type": "code",
   "execution_count": 1,
   "id": "3290339a-e045-465a-a503-03dece48822a",
   "metadata": {},
   "outputs": [
    {
     "name": "stderr",
     "output_type": "stream",
     "text": [
      "/Users/nicolasbaldwin/opt/miniconda3/envs/mockenv/lib/python3.11/site-packages/tqdm/auto.py:21: TqdmWarning: IProgress not found. Please update jupyter and ipywidgets. See https://ipywidgets.readthedocs.io/en/stable/user_install.html\n",
      "  from .autonotebook import tqdm as notebook_tqdm\n"
     ]
    }
   ],
   "source": [
    "%load_ext autoreload\n",
    "%autoreload 2\n",
    "import os, json\n",
    "from colink import CoLink\n",
    "from aiflows.utils import serving\n",
    "from aiflows.utils.general_helpers import read_yaml_file\n",
    "from aiflows.messages import FlowMessage\n",
    "from aiflows.utils import coflows_utils, colink_utils\n",
    "from aiflows.workers import run_dispatch_worker_thread"
   ]
  },
  {
   "cell_type": "code",
   "execution_count": 2,
   "id": "aa7d4186-d488-4a52-99d6-6a804cccd977",
   "metadata": {},
   "outputs": [],
   "source": [
    "cl = colink_utils.start_colink_server()"
   ]
  },
  {
   "cell_type": "markdown",
   "id": "d83270d6-93ad-4320-9821-506cef7969fc",
   "metadata": {},
   "source": [
    "### Start a few default workers"
   ]
  },
  {
   "cell_type": "code",
   "execution_count": 3,
   "id": "5b5e4f24-ed99-4d6a-af56-9c404bd43164",
   "metadata": {},
   "outputs": [
    {
     "name": "stdout",
     "output_type": "stream",
     "text": [
      "[\u001b[36m2024-04-08 10:33:20,303\u001b[0m][\u001b[34maiflows.workers.dispatch_worker:236\u001b[0m][\u001b[32mINFO\u001b[0m] - Dispatch worker started in attached thread.\u001b[0m\n",
      "[\u001b[36m2024-04-08 10:33:20,315\u001b[0m][\u001b[34maiflows.workers.dispatch_worker:237\u001b[0m][\u001b[32mINFO\u001b[0m] - dispatch_point: coflows_dispatch\u001b[0m\n",
      "[\u001b[36m2024-04-08 10:33:20,322\u001b[0m][\u001b[34maiflows.workers.dispatch_worker:236\u001b[0m][\u001b[32mINFO\u001b[0m] - Dispatch worker started in attached thread.\u001b[0m\n",
      "[\u001b[36m2024-04-08 10:33:20,329\u001b[0m][\u001b[34maiflows.workers.dispatch_worker:237\u001b[0m][\u001b[32mINFO\u001b[0m] - dispatch_point: coflows_dispatch\u001b[0m\n"
     ]
    }
   ],
   "source": [
    "run_dispatch_worker_thread(cl)\n",
    "run_dispatch_worker_thread(cl)"
   ]
  },
  {
   "cell_type": "markdown",
   "id": "e623d0b4-1501-4460-bc5f-a1aeb590eefc",
   "metadata": {},
   "source": [
    "### Observe default config of the Flow we will serve\n",
    "\n",
    "Note the `flow_class_name` and `singleton` fields of the first_reverse_flow subflow. "
   ]
  },
  {
   "cell_type": "code",
   "execution_count": 4,
   "id": "28b98e9b-b628-4278-ab0a-ab116d4a7fe2",
   "metadata": {},
   "outputs": [
    {
     "name": "stdout",
     "output_type": "stream",
     "text": [
      "{\n",
      "    \"name\": \"ReverseNumberTwice\",\n",
      "    \"description\": \"A sequential flow that reverses a number twice.\",\n",
      "    \"_target_\": \"ReverseNumberFlowModule.ReverseNumberSequentialFlow.instantiate_from_default_config\",\n",
      "    \"input_interface\": [\n",
      "        \"number\"\n",
      "    ],\n",
      "    \"output_interface\": [\n",
      "        \"output_number\"\n",
      "    ],\n",
      "    \"subflows_config\": {\n",
      "        \"first_reverse_flow\": {\n",
      "            \"user_id\": \"local\",\n",
      "            \"flow_endpoint\": \"reverse_number_atomic\",\n",
      "            \"flow_class_name\": \"ReverseNumberFlowModule.ReverseNumberAtomicFlow\",\n",
      "            \"singleton\": true,\n",
      "            \"name\": \"ReverseNumberFirst\",\n",
      "            \"description\": \"A flow that takes in a number and reverses it.\"\n",
      "        },\n",
      "        \"second_reverse_flow\": {\n",
      "            \"user_id\": \"local\",\n",
      "            \"flow_endpoint\": \"reverse_number_atomic\",\n",
      "            \"flow_class_name\": \"ReverseNumberFlowModule.ReverseNumberAtomicFlow\",\n",
      "            \"name\": \"ReverseNumberSecond\",\n",
      "            \"description\": \"A flow that takes in a number and reverses it AGAIN.\"\n",
      "        }\n",
      "    }\n",
      "}\n"
     ]
    }
   ],
   "source": [
    "cfg = read_yaml_file(\"ReverseNumberFlowModule/ReverseNumberSequentialFlow.yaml\")\n",
    "print(json.dumps(cfg, indent=4))"
   ]
  },
  {
   "cell_type": "markdown",
   "id": "36016188-c1f2-4698-862a-8cc7885821eb",
   "metadata": {},
   "source": [
    "### Call recursive serve"
   ]
  },
  {
   "cell_type": "code",
   "execution_count": 5,
   "id": "fd960cb9-4b24-4b2f-b374-0b3c89e7dd55",
   "metadata": {
    "scrolled": true
   },
   "outputs": [
    {
     "name": "stdout",
     "output_type": "stream",
     "text": [
      "[\u001b[36m2024-04-08 10:33:25,610\u001b[0m][\u001b[34maiflows.utils.serving:116\u001b[0m][\u001b[32mINFO\u001b[0m] - Started serving ReverseNumberFlowModule.ReverseNumberAtomicFlow at flows:reverse_number_atomic.\u001b[0m\n",
      "[\u001b[36m2024-04-08 10:33:25,612\u001b[0m][\u001b[34maiflows.utils.serving:117\u001b[0m][\u001b[32mINFO\u001b[0m] - dispatch_point: coflows_dispatch\u001b[0m\n",
      "[\u001b[36m2024-04-08 10:33:25,613\u001b[0m][\u001b[34maiflows.utils.serving:118\u001b[0m][\u001b[32mINFO\u001b[0m] - parallel_dispatch: False\u001b[0m\n",
      "[\u001b[36m2024-04-08 10:33:25,615\u001b[0m][\u001b[34maiflows.utils.serving:119\u001b[0m][\u001b[32mINFO\u001b[0m] - singleton: True\n",
      "\u001b[0m\n",
      "[\u001b[36m2024-04-08 10:33:25,620\u001b[0m][\u001b[34maiflows.utils.serving:716\u001b[0m][\u001b[32mINFO\u001b[0m] - Subflow second_reverse_flow already served.\u001b[0m\n",
      "[\u001b[36m2024-04-08 10:33:25,651\u001b[0m][\u001b[34maiflows.utils.serving:116\u001b[0m][\u001b[32mINFO\u001b[0m] - Started serving ReverseNumberFlowModule.ReverseNumberSequentialFlow at flows:reverse_number_sequential.\u001b[0m\n",
      "[\u001b[36m2024-04-08 10:33:25,652\u001b[0m][\u001b[34maiflows.utils.serving:117\u001b[0m][\u001b[32mINFO\u001b[0m] - dispatch_point: coflows_dispatch\u001b[0m\n",
      "[\u001b[36m2024-04-08 10:33:25,653\u001b[0m][\u001b[34maiflows.utils.serving:118\u001b[0m][\u001b[32mINFO\u001b[0m] - parallel_dispatch: False\u001b[0m\n",
      "[\u001b[36m2024-04-08 10:33:25,655\u001b[0m][\u001b[34maiflows.utils.serving:119\u001b[0m][\u001b[32mINFO\u001b[0m] - singleton: False\n",
      "\u001b[0m\n"
     ]
    },
    {
     "data": {
      "text/plain": [
       "True"
      ]
     },
     "execution_count": 5,
     "metadata": {},
     "output_type": "execute_result"
    }
   ],
   "source": [
    "serving.recursive_serve_flow(\n",
    "    cl=cl,\n",
    "    flow_class_name=\"ReverseNumberFlowModule.ReverseNumberSequentialFlow\",\n",
    "    flow_endpoint=\"reverse_number_sequential\"\n",
    ")\n",
    "# ReverseNumberAtomicFlow gets automatically served"
   ]
  },
  {
   "cell_type": "markdown",
   "id": "f1c1addd-333e-4917-8170-8237b4ee307e",
   "metadata": {},
   "source": [
    "### Get instance"
   ]
  },
  {
   "cell_type": "code",
   "execution_count": 6,
   "id": "dfd8d59c-138a-47a7-97ad-e6393f1c909d",
   "metadata": {},
   "outputs": [
    {
     "name": "stdout",
     "output_type": "stream",
     "text": [
      "[\u001b[36m2024-04-08 10:33:27,314\u001b[0m][\u001b[34maiflows.utils.serving:336\u001b[0m][\u001b[32mINFO\u001b[0m] - Mounted ba8eb583-ef67-4be4-943c-8e4785044127 at flows:reverse_number_atomic:mounts:local:ba8eb583-ef67-4be4-943c-8e4785044127\u001b[0m\n",
      "[\u001b[36m2024-04-08 10:33:27,336\u001b[0m][\u001b[34maiflows.utils.serving:543\u001b[0m][\u001b[32mINFO\u001b[0m] - Fetched singleton ba8eb583-ef67-4be4-943c-8e4785044127\u001b[0m\n",
      "[\u001b[36m2024-04-08 10:33:27,387\u001b[0m][\u001b[34maiflows.utils.serving:336\u001b[0m][\u001b[32mINFO\u001b[0m] - Mounted e13b2394-e19e-4ac4-a641-abf32335ef14 at flows:reverse_number_sequential:mounts:local:e13b2394-e19e-4ac4-a641-abf32335ef14\u001b[0m\n"
     ]
    }
   ],
   "source": [
    "flow = serving.get_flow_instance(\n",
    "    cl=cl,\n",
    "    flow_endpoint=\"reverse_number_sequential\",\n",
    "    user_id=\"local\",\n",
    ")"
   ]
  },
  {
   "cell_type": "code",
   "execution_count": 7,
   "id": "85e5a4ee-00d4-440d-b2f2-c9933ee7e718",
   "metadata": {},
   "outputs": [
    {
     "name": "stdout",
     "output_type": "stream",
     "text": [
      "[\u001b[36m2024-04-08 10:33:28,461\u001b[0m][\u001b[34maiflows.workers.dispatch_worker:119\u001b[0m][\u001b[32mINFO\u001b[0m] - \n",
      "~~~ Dispatch task ~~~\u001b[0m\n",
      "[\u001b[36m2024-04-08 10:33:28,470\u001b[0m][\u001b[34maiflows.workers.dispatch_worker:161\u001b[0m][\u001b[32mINFO\u001b[0m] - flow_endpoint: reverse_number_sequential\u001b[0m\n",
      "[\u001b[36m2024-04-08 10:33:28,473\u001b[0m][\u001b[34maiflows.workers.dispatch_worker:162\u001b[0m][\u001b[32mINFO\u001b[0m] - flow_id: e13b2394-e19e-4ac4-a641-abf32335ef14\u001b[0m\n",
      "[\u001b[36m2024-04-08 10:33:28,475\u001b[0m][\u001b[34maiflows.workers.dispatch_worker:163\u001b[0m][\u001b[32mINFO\u001b[0m] - owner_id: local\u001b[0m\n",
      "[\u001b[36m2024-04-08 10:33:28,478\u001b[0m][\u001b[34maiflows.workers.dispatch_worker:164\u001b[0m][\u001b[32mINFO\u001b[0m] - message_paths: ['push_tasks:a5ff94e7-9b2b-4c77-9515-960a39dd9a9e:msg']\u001b[0m\n",
      "[\u001b[36m2024-04-08 10:33:28,481\u001b[0m][\u001b[34maiflows.workers.dispatch_worker:165\u001b[0m][\u001b[32mINFO\u001b[0m] - parallel_dispatch: False\n",
      "\u001b[0m\n",
      "[\u001b[36m2024-04-08 10:33:28,551\u001b[0m][\u001b[34maiflows.workers.dispatch_worker:188\u001b[0m][\u001b[32mINFO\u001b[0m] - Input message source: Proxy_reverse_number_sequential\u001b[0m\n",
      "Called ReverseNumberSequential \n",
      " state {'current_call': 'first_reverse_flow'}\n",
      "[\u001b[36m2024-04-08 10:33:28,604\u001b[0m][\u001b[34maiflows.workers.dispatch_worker:119\u001b[0m][\u001b[32mINFO\u001b[0m] - \n",
      "~~~ Dispatch task ~~~\u001b[0m\n",
      "[\u001b[36m2024-04-08 10:33:28,617\u001b[0m][\u001b[34maiflows.workers.dispatch_worker:161\u001b[0m][\u001b[32mINFO\u001b[0m] - flow_endpoint: reverse_number_atomic\u001b[0m\n",
      "[\u001b[36m2024-04-08 10:33:28,618\u001b[0m][\u001b[34maiflows.workers.dispatch_worker:162\u001b[0m][\u001b[32mINFO\u001b[0m] - flow_id: ba8eb583-ef67-4be4-943c-8e4785044127\u001b[0m\n",
      "[\u001b[36m2024-04-08 10:33:28,620\u001b[0m][\u001b[34maiflows.workers.dispatch_worker:163\u001b[0m][\u001b[32mINFO\u001b[0m] - owner_id: local\u001b[0m\n",
      "[\u001b[36m2024-04-08 10:33:28,621\u001b[0m][\u001b[34maiflows.workers.dispatch_worker:164\u001b[0m][\u001b[32mINFO\u001b[0m] - message_paths: ['push_tasks:412a9dd1-b385-4b6a-a2ca-99a7518f15ab:msg']\u001b[0m\n",
      "[\u001b[36m2024-04-08 10:33:28,632\u001b[0m][\u001b[34maiflows.workers.dispatch_worker:165\u001b[0m][\u001b[32mINFO\u001b[0m] - parallel_dispatch: False\n",
      "\u001b[0m\n",
      "[\u001b[36m2024-04-08 10:33:28,679\u001b[0m][\u001b[34maiflows.workers.dispatch_worker:188\u001b[0m][\u001b[32mINFO\u001b[0m] - Input message source: first_reverse_flow\u001b[0m\n",
      "[\u001b[36m2024-04-08 10:33:28,713\u001b[0m][\u001b[34maiflows.workers.dispatch_worker:119\u001b[0m][\u001b[32mINFO\u001b[0m] - \n",
      "~~~ Dispatch task ~~~\u001b[0m\n",
      "[\u001b[36m2024-04-08 10:33:28,729\u001b[0m][\u001b[34maiflows.workers.dispatch_worker:161\u001b[0m][\u001b[32mINFO\u001b[0m] - flow_endpoint: reverse_number_sequential\u001b[0m\n",
      "[\u001b[36m2024-04-08 10:33:28,733\u001b[0m][\u001b[34maiflows.workers.dispatch_worker:162\u001b[0m][\u001b[32mINFO\u001b[0m] - flow_id: e13b2394-e19e-4ac4-a641-abf32335ef14\u001b[0m\n",
      "[\u001b[36m2024-04-08 10:33:28,735\u001b[0m][\u001b[34maiflows.workers.dispatch_worker:163\u001b[0m][\u001b[32mINFO\u001b[0m] - owner_id: local\u001b[0m\n",
      "[\u001b[36m2024-04-08 10:33:28,740\u001b[0m][\u001b[34maiflows.workers.dispatch_worker:164\u001b[0m][\u001b[32mINFO\u001b[0m] - message_paths: ['push_tasks:fc31d6f7-76e2-4381-9dd4-fa0951ab3749:msg']\u001b[0m\n",
      "[\u001b[36m2024-04-08 10:33:28,744\u001b[0m][\u001b[34maiflows.workers.dispatch_worker:165\u001b[0m][\u001b[32mINFO\u001b[0m] - parallel_dispatch: False\n",
      "\u001b[0m\n",
      "[\u001b[36m2024-04-08 10:33:28,808\u001b[0m][\u001b[34maiflows.workers.dispatch_worker:188\u001b[0m][\u001b[32mINFO\u001b[0m] - Input message source: ReverseNumberFirst\u001b[0m\n",
      "Called ReverseNumberSequential \n",
      " state {'current_call': 'second_reverse_flow', 'initial_message': FlowMessage(message_id='bc4bfa7f-ca2e-452b-8ec2-381fa52b5402', created_at='2024-04-08 08:33:28.434984000', created_by='Proxy_reverse_number_sequential', message_type='FlowMessage', data={'id': 0, 'number': 1234}, private_keys=[])}\n",
      "[\u001b[36m2024-04-08 10:33:28,871\u001b[0m][\u001b[34maiflows.workers.dispatch_worker:119\u001b[0m][\u001b[32mINFO\u001b[0m] - \n",
      "~~~ Dispatch task ~~~\u001b[0m\n",
      "[\u001b[36m2024-04-08 10:33:28,880\u001b[0m][\u001b[34maiflows.workers.dispatch_worker:161\u001b[0m][\u001b[32mINFO\u001b[0m] - flow_endpoint: reverse_number_atomic\u001b[0m\n",
      "[\u001b[36m2024-04-08 10:33:28,881\u001b[0m][\u001b[34maiflows.workers.dispatch_worker:162\u001b[0m][\u001b[32mINFO\u001b[0m] - flow_id: ba8eb583-ef67-4be4-943c-8e4785044127\u001b[0m\n",
      "[\u001b[36m2024-04-08 10:33:28,882\u001b[0m][\u001b[34maiflows.workers.dispatch_worker:163\u001b[0m][\u001b[32mINFO\u001b[0m] - owner_id: local\u001b[0m\n",
      "[\u001b[36m2024-04-08 10:33:28,884\u001b[0m][\u001b[34maiflows.workers.dispatch_worker:164\u001b[0m][\u001b[32mINFO\u001b[0m] - message_paths: ['push_tasks:8182468b-069c-4d40-9eac-3884417a7a1a:msg']\u001b[0m\n",
      "[\u001b[36m2024-04-08 10:33:28,885\u001b[0m][\u001b[34maiflows.workers.dispatch_worker:165\u001b[0m][\u001b[32mINFO\u001b[0m] - parallel_dispatch: False\n",
      "\u001b[0m\n",
      "[\u001b[36m2024-04-08 10:33:28,957\u001b[0m][\u001b[34maiflows.workers.dispatch_worker:188\u001b[0m][\u001b[32mINFO\u001b[0m] - Input message source: second_reverse_flow\u001b[0m\n",
      "[\u001b[36m2024-04-08 10:33:28,979\u001b[0m][\u001b[34maiflows.workers.dispatch_worker:119\u001b[0m][\u001b[32mINFO\u001b[0m] - \n",
      "~~~ Dispatch task ~~~\u001b[0m\n",
      "[\u001b[36m2024-04-08 10:33:29,023\u001b[0m][\u001b[34maiflows.workers.dispatch_worker:161\u001b[0m][\u001b[32mINFO\u001b[0m] - flow_endpoint: reverse_number_sequential\u001b[0m\n",
      "[\u001b[36m2024-04-08 10:33:29,028\u001b[0m][\u001b[34maiflows.workers.dispatch_worker:162\u001b[0m][\u001b[32mINFO\u001b[0m] - flow_id: e13b2394-e19e-4ac4-a641-abf32335ef14\u001b[0m\n",
      "[\u001b[36m2024-04-08 10:33:29,030\u001b[0m][\u001b[34maiflows.workers.dispatch_worker:163\u001b[0m][\u001b[32mINFO\u001b[0m] - owner_id: local\u001b[0m\n",
      "[\u001b[36m2024-04-08 10:33:29,031\u001b[0m][\u001b[34maiflows.workers.dispatch_worker:164\u001b[0m][\u001b[32mINFO\u001b[0m] - message_paths: ['push_tasks:1427ed8a-a948-495a-8457-6c8e8afc9326:msg']\u001b[0m\n",
      "[\u001b[36m2024-04-08 10:33:29,033\u001b[0m][\u001b[34maiflows.workers.dispatch_worker:165\u001b[0m][\u001b[32mINFO\u001b[0m] - parallel_dispatch: False\n",
      "\u001b[0m\n",
      "[\u001b[36m2024-04-08 10:33:29,114\u001b[0m][\u001b[34maiflows.workers.dispatch_worker:188\u001b[0m][\u001b[32mINFO\u001b[0m] - Input message source: ReverseNumberFirst\u001b[0m\n",
      "Called ReverseNumberSequential \n",
      " state {'current_call': 'reply_to_message', 'initial_message': FlowMessage(message_id='bc4bfa7f-ca2e-452b-8ec2-381fa52b5402', created_at='2024-04-08 08:33:28.434984000', created_by='Proxy_reverse_number_sequential', message_type='FlowMessage', data={'id': 0, 'number': 1234}, private_keys=[])}\n"
     ]
    },
    {
     "name": "stdout",
     "output_type": "stream",
     "text": [
      "Data sent:\n",
      " {'id': 0, 'number': 1234} \n",
      "\n",
      "REPLY:\n",
      " {'output_number': 1234} \n",
      "\n"
     ]
    }
   ],
   "source": [
    "input_data = {\"id\": 0, \"number\": 1234}\n",
    "    \n",
    "input_message = flow.package_input_message(input_data)\n",
    "reply_data = flow.get_reply_future(input_message).get_data()\n",
    "\n",
    "print(\"Data sent:\\n\",  input_data, \"\\n\")\n",
    "print(\"REPLY:\\n\", reply_data, \"\\n\")"
   ]
  },
  {
   "cell_type": "code",
   "execution_count": null,
   "id": "043e8159",
   "metadata": {},
   "outputs": [],
   "source": []
  }
 ],
 "metadata": {
  "kernelspec": {
   "display_name": "Python 3 (ipykernel)",
   "language": "python",
   "name": "python3"
  },
  "language_info": {
   "codemirror_mode": {
    "name": "ipython",
    "version": 3
   },
   "file_extension": ".py",
   "mimetype": "text/x-python",
   "name": "python",
   "nbconvert_exporter": "python",
   "pygments_lexer": "ipython3",
   "version": "3.11.8"
  }
 },
 "nbformat": 4,
 "nbformat_minor": 5
}
