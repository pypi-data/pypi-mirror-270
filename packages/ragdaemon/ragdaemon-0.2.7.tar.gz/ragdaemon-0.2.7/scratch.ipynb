{
 "cells": [
  {
   "cell_type": "code",
   "execution_count": 1,
   "metadata": {},
   "outputs": [
    {
     "name": "stdout",
     "output_type": "stream",
     "text": [
      "Initialized empty graph.\n",
      "Initializing annotators: ['hierarchy', 'chunker_llm', 'summarizer']...\n"
     ]
    },
    {
     "name": "stderr",
     "output_type": "stream",
     "text": [
      "Chunking files...: 100%|██████████| 4/4 [00:07<00:00,  1.86s/it]\n",
      "Summarizing code...: 100%|██████████| 17/17 [00:03<00:00,  5.52it/s]"
     ]
    },
    {
     "name": "stdout",
     "output_type": "stream",
     "text": [
      "Saved updated graph to /Users/granthawkins/.mentat/ragdaemon/ragdaemon-sample.json\n"
     ]
    },
    {
     "name": "stderr",
     "output_type": "stream",
     "text": [
      "\n"
     ]
    }
   ],
   "source": [
    "from pathlib import Path\n",
    "from ragdaemon.daemon import Daemon\n",
    "\n",
    "annotators = {\n",
    "    \"hierarchy\": {},\n",
    "    \"chunker_llm\": {},\n",
    "    \"summarizer\": {},\n",
    "}\n",
    "\n",
    "sample_dir = Path.cwd() / \"tests\" / \"sample\"\n",
    "daemon = Daemon(sample_dir, annotators=annotators, verbose=True)\n",
    "await daemon.update(refresh=True)"
   ]
  },
  {
   "cell_type": "code",
   "execution_count": null,
   "metadata": {},
   "outputs": [],
   "source": []
  }
 ],
 "metadata": {
  "kernelspec": {
   "display_name": ".venv",
   "language": "python",
   "name": "python3"
  },
  "language_info": {
   "codemirror_mode": {
    "name": "ipython",
    "version": 3
   },
   "file_extension": ".py",
   "mimetype": "text/x-python",
   "name": "python",
   "nbconvert_exporter": "python",
   "pygments_lexer": "ipython3",
   "version": "3.11.7"
  }
 },
 "nbformat": 4,
 "nbformat_minor": 2
}
