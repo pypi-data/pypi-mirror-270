{
 "cells": [
  {
   "cell_type": "code",
   "execution_count": 2,
   "metadata": {},
   "outputs": [
    {
     "name": "stdout",
     "output_type": "stream",
     "text": [
      "Initialized empty graph.\n",
      "Initializing annotators: ['hierarchy', 'chunker_llm', 'summarizer']...\n"
     ]
    },
    {
     "name": "stderr",
     "output_type": "stream",
     "text": [
      "Chunking files...: 100%|██████████| 4/4 [00:10<00:00,  2.54s/it]\n",
      "Summarizing code...: 100%|██████████| 17/17 [00:03<00:00,  5.05it/s]"
     ]
    },
    {
     "name": "stdout",
     "output_type": "stream",
     "text": [
      "Saved updated graph to /Users/granthawkins/.mentat/ragdaemon/ragdaemon-sample.json\n"
     ]
    },
    {
     "name": "stderr",
     "output_type": "stream",
     "text": [
      "\n"
     ]
    }
   ],
   "source": [
    "from pathlib import Path\n",
    "from ragdaemon.daemon import Daemon\n",
    "\n",
    "annotators = {\n",
    "    \"hierarchy\": {},\n",
    "    \"chunker_llm\": {},\n",
    "    \"summarizer\": {},\n",
    "}\n",
    "\n",
    "sample_dir = Path.cwd() / \"tests\" / \"sample\"\n",
    "daemon = Daemon(sample_dir, annotators=annotators, verbose=True)\n",
    "await daemon.update(refresh=True)"
   ]
  },
  {
   "cell_type": "code",
   "execution_count": 3,
   "metadata": {},
   "outputs": [
    {
     "name": "stdout",
     "output_type": "stream",
     "text": [
      "src/operations.py\n",
      "...\n",
      "16:def divide(a, b):\n",
      "17:    return a / b\n",
      "...\n",
      "\n"
     ]
    }
   ],
   "source": [
    "cb = daemon.get_context(\"\")\n",
    "cb.add_id(\"src/operations.py:divide\")\n",
    "print(cb.render())"
   ]
  },
  {
   "cell_type": "code",
   "execution_count": 9,
   "metadata": {},
   "outputs": [
    {
     "name": "stdout",
     "output_type": "stream",
     "text": [
      "src/operations.py src/operations.py\n",
      "README.md README.md\n",
      "main.py main.py\n",
      "src/interface.py src/interface.py\n",
      "src/__init__.py src/__init__.py\n",
      ".gitignore .gitignore\n",
      "ROOT ROOT\n",
      "src src\n",
      "src/operations.py:add src/operations.py:4-5\n",
      "src/operations.py:subtract src/operations.py:8-9\n",
      "src/operations.py:multiply src/operations.py:12-13\n",
      "src/operations.py:divide src/operations.py:16-17\n",
      "src/operations.py:sqrt src/operations.py:20-21\n",
      "src/operations.py:BASE src/operations.py:1-3,6-7,10-11,14-15,18-19\n",
      "main.py:main main.py:5-19\n",
      "main.py:BASE main.py:1-4,20-23\n",
      "src/interface.py:parse_arguments src/interface.py:5-14\n",
      "src/interface.py:render_response src/interface.py:17-18\n",
      "src/interface.py:BASE src/interface.py:1-4,15-16\n"
     ]
    }
   ],
   "source": [
    "for node, data in daemon.graph.nodes(data=True):\n",
    "    print(node, data[\"ref\"])"
   ]
  },
  {
   "cell_type": "code",
   "execution_count": 10,
   "metadata": {},
   "outputs": [
    {
     "data": {
      "text/plain": [
       "'src/operations.py:8-9'"
      ]
     },
     "execution_count": 10,
     "metadata": {},
     "output_type": "execute_result"
    }
   ],
   "source": [
    "node = \"src/operations.py:subtract\"\n",
    "daemon.graph.nodes[node][\"ref\"]\n"
   ]
  },
  {
   "cell_type": "code",
   "execution_count": null,
   "metadata": {},
   "outputs": [],
   "source": []
  }
 ],
 "metadata": {
  "kernelspec": {
   "display_name": ".venv",
   "language": "python",
   "name": "python3"
  },
  "language_info": {
   "codemirror_mode": {
    "name": "ipython",
    "version": 3
   },
   "file_extension": ".py",
   "mimetype": "text/x-python",
   "name": "python",
   "nbconvert_exporter": "python",
   "pygments_lexer": "ipython3",
   "version": "3.11.7"
  }
 },
 "nbformat": 4,
 "nbformat_minor": 2
}
